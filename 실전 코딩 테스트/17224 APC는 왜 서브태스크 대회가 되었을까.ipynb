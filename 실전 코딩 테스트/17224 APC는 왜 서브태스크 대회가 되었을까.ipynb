{
 "cells": [
  {
   "cell_type": "code",
   "execution_count": 22,
   "metadata": {},
   "outputs": [
    {
     "name": "stdout",
     "output_type": "stream",
     "text": [
      "8 9 5\n"
     ]
    }
   ],
   "source": [
    "# https://www.acmicpc.net/problem/17224\n",
    "\n",
    "n, l, k = map(int, input().split())"
   ]
  },
  {
   "cell_type": "code",
   "execution_count": 23,
   "metadata": {},
   "outputs": [],
   "source": [
    "can_solve_hard = 0\n",
    "can_solve_esay = 0\n",
    "can_not_solve = 0"
   ]
  },
  {
   "cell_type": "code",
   "execution_count": 24,
   "metadata": {},
   "outputs": [
    {
     "name": "stdout",
     "output_type": "stream",
     "text": [
      "1 8\n",
      "3 10\n",
      "4 5\n",
      "5 20\n",
      "7 12\n",
      "8 15\n",
      "9 50\n",
      "14 14\n"
     ]
    }
   ],
   "source": [
    "for _ in range(n):\n",
    "    easy, hard = map(int, input().split())\n",
    "    if hard<=l:\n",
    "        can_solve_hard += 1\n",
    "    elif easy<=l:\n",
    "        can_solve_esay += 1\n",
    "    else:\n",
    "        can_not_solve += 1"
   ]
  },
  {
   "cell_type": "code",
   "execution_count": 25,
   "metadata": {},
   "outputs": [],
   "source": [
    "result = 0"
   ]
  },
  {
   "cell_type": "code",
   "execution_count": 26,
   "metadata": {},
   "outputs": [
    {
     "name": "stdout",
     "output_type": "stream",
     "text": [
      "580\n"
     ]
    }
   ],
   "source": [
    "if can_solve_hard>=k:\n",
    "    print(k*140)\n",
    "else:\n",
    "    result += can_solve_hard*140\n",
    "    result += min(can_solve_esay, k-can_solve_hard)*100\n",
    "    print(result)"
   ]
  },
  {
   "cell_type": "code",
   "execution_count": null,
   "metadata": {},
   "outputs": [],
   "source": []
  },
  {
   "cell_type": "code",
   "execution_count": null,
   "metadata": {},
   "outputs": [],
   "source": []
  }
 ],
 "metadata": {
  "kernelspec": {
   "display_name": "Python 3",
   "language": "python",
   "name": "python3"
  },
  "language_info": {
   "codemirror_mode": {
    "name": "ipython",
    "version": 3
   },
   "file_extension": ".py",
   "mimetype": "text/x-python",
   "name": "python",
   "nbconvert_exporter": "python",
   "pygments_lexer": "ipython3",
   "version": "3.7.4"
  }
 },
 "nbformat": 4,
 "nbformat_minor": 2
}
