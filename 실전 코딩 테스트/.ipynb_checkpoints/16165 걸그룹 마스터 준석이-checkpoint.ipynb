{
 "cells": [
  {
   "cell_type": "code",
   "execution_count": null,
   "metadata": {},
   "outputs": [],
   "source": [
    "m, n = map(int, input().split())\n",
    "team_members = {}\n",
    "members_team = {}\n",
    "\n",
    "for _ in range(m):\n",
    "    team = input()\n",
    "    team_members[team] = []\n",
    "    for x in range(int(input())):\n",
    "        member = input()\n",
    "        team_members[team].append(member)\n",
    "        members_team[member] = team\n",
    "\n",
    "for _ in range(n):\n",
    "    name = input()\n",
    "    question = int(input())\n",
    "    if question==1:\n",
    "        print(members_team[name])\n",
    "    else:\n",
    "        for member in sorted(team_members[name]):\n",
    "            print(member)\n",
    "            \n",
    "# input 넣기 귀찮아서 테스트 한번 없이 돌렸는데 맞음 ㅎㅎ            "
   ]
  },
  {
   "cell_type": "code",
   "execution_count": null,
   "metadata": {},
   "outputs": [],
   "source": []
  }
 ],
 "metadata": {
  "kernelspec": {
   "display_name": "Python 3",
   "language": "python",
   "name": "python3"
  },
  "language_info": {
   "codemirror_mode": {
    "name": "ipython",
    "version": 3
   },
   "file_extension": ".py",
   "mimetype": "text/x-python",
   "name": "python",
   "nbconvert_exporter": "python",
   "pygments_lexer": "ipython3",
   "version": "3.7.4"
  }
 },
 "nbformat": 4,
 "nbformat_minor": 2
}
