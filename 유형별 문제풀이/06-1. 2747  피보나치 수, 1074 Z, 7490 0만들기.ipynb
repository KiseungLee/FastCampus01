{
 "cells": [
  {
   "cell_type": "code",
   "execution_count": 4,
   "metadata": {},
   "outputs": [
    {
     "name": "stdout",
     "output_type": "stream",
     "text": [
      "5\n",
      "5\n"
     ]
    }
   ],
   "source": [
    "# https://www.acmicpc.net/problem/2747\n",
    "\n",
    "def fibo(n):\n",
    "    if n==0:\n",
    "        return 0\n",
    "    elif n==1:\n",
    "        return 1\n",
    "    else:\n",
    "        return fibo(n-1)+fibo(n-2)\n",
    "    \n",
    "print(fibo(int(input())))\n",
    "\n",
    "# 그냥 재귀 -> 시간초과"
   ]
  },
  {
   "cell_type": "code",
   "execution_count": 13,
   "metadata": {},
   "outputs": [
    {
     "name": "stdout",
     "output_type": "stream",
     "text": [
      "10\n",
      "55\n"
     ]
    }
   ],
   "source": [
    "def fibo2(n):\n",
    "    array = [0]*(n+1)\n",
    "    for i in range(1, n+1):\n",
    "        if i==1:\n",
    "            array[1] = 1\n",
    "        else:\n",
    "            if array[i]==0:\n",
    "                array[i] = array[i-1]+array[i-2]\n",
    "    return array[n]\n",
    "\n",
    "print(fibo2(int(input())))\n",
    "\n",
    "# 동적계획법 - 메모이제이션 써서 통과!"
   ]
  },
  {
   "cell_type": "code",
   "execution_count": 7,
   "metadata": {},
   "outputs": [
    {
     "data": {
      "text/plain": [
       "[1, 2, 3, 4, 5, 6, 7, 8, 9]"
      ]
     },
     "execution_count": 7,
     "metadata": {},
     "output_type": "execute_result"
    }
   ],
   "source": [
    "# 선생님\n",
    "\n",
    "# 메모이제이션 안쓰고 그냥 풀어도 됨...\n",
    "\n",
    "n = int(input())\n",
    "\n",
    "a, b = 0, 1\n",
    "\n",
    "while n > 0:\n",
    "    a, b = b, a + b\n",
    "    n -= 1\n",
    "    \n",
    "print(a)"
   ]
  },
  {
   "cell_type": "code",
   "execution_count": null,
   "metadata": {},
   "outputs": [],
   "source": []
  },
  {
   "cell_type": "code",
   "execution_count": 35,
   "metadata": {},
   "outputs": [
    {
     "name": "stdout",
     "output_type": "stream",
     "text": [
      "2 3 1\n",
      "11\n"
     ]
    }
   ],
   "source": [
    "# https://www.acmicpc.net/problem/1074\n",
    "\n",
    "n, r, c = map(int, input().split(' '))\n",
    "\n",
    "r = bin(r)\n",
    "r = r[2:]\n",
    "c = bin(c)\n",
    "c = c[2:]\n",
    "\n",
    "max_len = max(len(r), len(c))\n",
    "\n",
    "r = '0'*(max_len-len(r))+r\n",
    "c = '0'*(max_len-len(c))+c\n",
    "\n",
    "code = ''\n",
    "\n",
    "# 기존 구상은 (0, 0) => 1, (0, 1) => 2, (1, 0) => 3, (1, 1) => 4로 해놓고\n",
    "# 전체적으로 1씩 깍은다음 2**m 들과 곱해주는 거였는데\n",
    "# 그냥 여기서 1깎아서 넣어줌\n",
    "for i in range(max_len):\n",
    "    if r[i]=='0' and c[i]=='0':\n",
    "        code+='0'\n",
    "    elif r[i]=='0' and c[i]=='1':\n",
    "        code+='1'\n",
    "    elif r[i]=='1' and c[i]=='0':\n",
    "        code+='2'\n",
    "    elif r[i]=='1' and c[i]=='1':\n",
    "        code+='3'\n",
    "\n",
    "result = 0\n",
    "\n",
    "for i in range(len(code)):\n",
    "    result += int(code[-(i+1)])*(2**(2*i))\n",
    "\n",
    "print(result)\n",
    "\n",
    "# 맞긴 했는데 당황스럽다...\n",
    "# 일단 적정 풀이시간으로 준 40분은 훌쩍 넘겼고 1시간 30분 정도 쓴거 같음.\n",
    "\n",
    "# 우선 가장 큰 프레임에서 p번째, 다음으로 큰 프레임에서 q번째, 다음으로 큰 프레임에서 r 번째 ...\n",
    "# 이렇게 찾다보니까 큰 프레임 순으로 p, q, r, s... 순일때 \n",
    "# 번호는 (p-1)*(2**k)+(q-1)*(2**(k/2))+... 이렇게 찾는 알고리즘을 발견했음\n",
    "# 프레임 순 전까지의 숫자들을 모두 더해 찾는 방법임. 달력 문제에서 8월 20일이면 1~7월의 날짜를 더하고 1~20 일을 더하는 것 처럼\n",
    "\n",
    "# 그 다음 문제는 그럼 프레임 순서인 p,q,r,s..를 어떻게 구하냐 였는데\n",
    "# 2의 제곱수로 뭔가 규칙이 보이고 이진수로 풀면 좋을거 같아서 \n",
    "# 이렇게 저렇게 비벼보다 보니까 규칙을 발견했음\n",
    "\n",
    "# r, c를 우선 이진수로 바꾸고 긴 이진수 기준으로 짧은 쪽에 0을 채움\n",
    "# ex) (r, c) => (6, 2) => (110, 10) => (110, 010)\n",
    "# 다음 같은 자릿수를 비교해 (0, 0) => 1, (0, 1) => 2, (1, 0) => 3, (1, 1) => 4 로 변환\n",
    "# ex) (r, c) => (6, 2) => (110, 10) => (110, 010) => (341)\n",
    "# 그렇게 해서 나온 숫자가 큰 프레임 순서로 p, q, r 번째임\n",
    "# ex) (r, c) (6,2)는 4*4 프레임의 3번째, 2*2 프레임의 4번째, 1*1 프레임의 1번째임.\n"
   ]
  },
  {
   "cell_type": "code",
   "execution_count": null,
   "metadata": {},
   "outputs": [],
   "source": [
    "# https://www.acmicpc.net/problem/7490"
   ]
  }
 ],
 "metadata": {
  "kernelspec": {
   "display_name": "Python 3",
   "language": "python",
   "name": "python3"
  },
  "language_info": {
   "codemirror_mode": {
    "name": "ipython",
    "version": 3
   },
   "file_extension": ".py",
   "mimetype": "text/x-python",
   "name": "python",
   "nbconvert_exporter": "python",
   "pygments_lexer": "ipython3",
   "version": "3.7.4"
  }
 },
 "nbformat": 4,
 "nbformat_minor": 2
}
