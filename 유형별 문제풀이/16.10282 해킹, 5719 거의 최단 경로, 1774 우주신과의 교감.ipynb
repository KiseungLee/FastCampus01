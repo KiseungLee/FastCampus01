{
 "cells": [
  {
   "cell_type": "code",
   "execution_count": 1,
   "metadata": {},
   "outputs": [],
   "source": [
    "# acmicpc.net/problem/10282 해킹"
   ]
  },
  {
   "cell_type": "code",
   "execution_count": 2,
   "metadata": {},
   "outputs": [
    {
     "name": "stdout",
     "output_type": "stream",
     "text": [
      "1\n"
     ]
    }
   ],
   "source": [
    "# 테스트 케이스 수\n",
    "k = int(input())"
   ]
  },
  {
   "cell_type": "code",
   "execution_count": 3,
   "metadata": {},
   "outputs": [
    {
     "name": "stdout",
     "output_type": "stream",
     "text": [
      "3 3 1\n"
     ]
    }
   ],
   "source": [
    "# n : 컴퓨터 갯수\n",
    "# d : 의존성 갯수\n",
    "# c : 해킹당한 컴퓨터 번호\n",
    "n, d, c = map(int, input().split())"
   ]
  },
  {
   "cell_type": "code",
   "execution_count": 1,
   "metadata": {},
   "outputs": [],
   "source": [
    "class Node:\n",
    "    def __init__(self, idx):\n",
    "        self.idx = idx\n",
    "        self.time = -1\n",
    "        self.child = []"
   ]
  },
  {
   "cell_type": "code",
   "execution_count": 23,
   "metadata": {},
   "outputs": [],
   "source": [
    "# key = (a, b) , value = s 로 하는 dictionary\n",
    "sec_dict = {}\n",
    "# key = value, value = Node()로 하는 dictionary\n",
    "node_dict = {}"
   ]
  },
  {
   "cell_type": "code",
   "execution_count": 24,
   "metadata": {},
   "outputs": [],
   "source": [
    "# node_dict에 노드들 추가\n",
    "for i in range(1, n+1):\n",
    "    node_dict[i] = Node(i)"
   ]
  },
  {
   "cell_type": "code",
   "execution_count": 25,
   "metadata": {},
   "outputs": [
    {
     "name": "stdout",
     "output_type": "stream",
     "text": [
      "2 1 2\n",
      "3 1 8\n",
      "3 2 4\n"
     ]
    }
   ],
   "source": [
    "for _ in range(d):\n",
    "    a, b, s = map(int, input().split())\n",
    "    sec_dict[(a,b)] = s\n",
    "    node_dict[b].child.append(a)"
   ]
  },
  {
   "cell_type": "code",
   "execution_count": 26,
   "metadata": {},
   "outputs": [],
   "source": [
    "def bfs(v, s):\n",
    "    now = node_dict[v]\n",
    "    if now.time==-1 or now.time > s:\n",
    "        childs = now.child\n",
    "        now.time = s\n",
    "        for child in childs:\n",
    "            idx = node_dict[child].idx\n",
    "            sec = sec_dict[(idx, v)]\n",
    "            print(idx, s+sec)\n",
    "            bfs(idx, s+sec)"
   ]
  },
  {
   "cell_type": "code",
   "execution_count": 27,
   "metadata": {},
   "outputs": [
    {
     "name": "stdout",
     "output_type": "stream",
     "text": [
      "2 2\n",
      "3 6\n",
      "3 8\n"
     ]
    }
   ],
   "source": [
    "bfs(1, 0)"
   ]
  },
  {
   "cell_type": "code",
   "execution_count": 33,
   "metadata": {},
   "outputs": [
    {
     "name": "stdout",
     "output_type": "stream",
     "text": [
      "3 6\n"
     ]
    }
   ],
   "source": [
    "count = 0\n",
    "max = 0\n",
    "for p in node_dict:\n",
    "    if node_dict[p].time!=-1:\n",
    "        count+=1\n",
    "    if node_dict[p].time > max:\n",
    "        max = node_dict[p].time\n",
    "print(count, max)"
   ]
  },
  {
   "cell_type": "code",
   "execution_count": 32,
   "metadata": {},
   "outputs": [
    {
     "data": {
      "text/plain": [
       "6"
      ]
     },
     "execution_count": 32,
     "metadata": {},
     "output_type": "execute_result"
    }
   ],
   "source": [
    "max"
   ]
  },
  {
   "cell_type": "code",
   "execution_count": 35,
   "metadata": {
    "scrolled": true
   },
   "outputs": [
    {
     "name": "stdout",
     "output_type": "stream",
     "text": [
      "2\n",
      "3 2 2\n",
      "2 1 5\n",
      "3 2 5\n",
      "2 5\n",
      "3 3 1\n",
      "2 1 2\n",
      "3 1 8\n",
      "3 2 4\n",
      "3 6\n"
     ]
    }
   ],
   "source": [
    "# 테스트 케이스 수\n",
    "k = int(input())\n",
    "\n",
    "# 노드 클래스 만듬. \n",
    "class Node:\n",
    "    def __init__(self, idx):\n",
    "        self.idx = idx\n",
    "        self.time = -1\n",
    "        self.child = []    \n",
    "\n",
    "# 만들어진 노드로 bfs를 돌건데 조금 특이한 bfs임.\n",
    "# 일단 노드의 index와 index 노드까지 온 시간 s를 받음.\n",
    "# index노드에 시간이 -1이라면 아직 아무 바이러스도 도착하지 않은 것 이므로 탐색을 진행함.\n",
    "# 탐색 했던 거더라도 새로받은 s가 노드가 가지고 있던 time보다 작다면 s를 입력해줌.\n",
    "def bfs(v, s):\n",
    "    now = node_dict[v]\n",
    "    if now.time==-1 or now.time > s:\n",
    "        childs = now.child\n",
    "        now.time = s\n",
    "        for child in childs:\n",
    "            idx = node_dict[child].idx\n",
    "            sec = sec_dict[(idx, v)]\n",
    "            bfs(idx, s+sec)\n",
    "                \n",
    "for x in range(k):\n",
    "    # n : 컴퓨터 갯수\n",
    "    # d : 의존성 갯수\n",
    "    # c : 해킹당한 컴퓨터 번호\n",
    "    n, d, c = map(int, input().split())\n",
    "    \n",
    "    # key = (a, b) , value = s 로 하는 dictionary\n",
    "    sec_dict = {}\n",
    "    # key = value, value = Node()로 하는 dictionary\n",
    "    node_dict = {}\n",
    "    \n",
    "    # node_dict에 노드들 추가\n",
    "    for i in range(1, n+1):\n",
    "        node_dict[i] = Node(i)\n",
    "        \n",
    "    for _ in range(d):\n",
    "        a, b, s = map(int, input().split())\n",
    "        sec_dict[(a,b)] = s\n",
    "        node_dict[b].child.append(a)\n",
    "        \n",
    "    bfs(c, 0)\n",
    "    \n",
    "    count = 0\n",
    "    max = 0\n",
    "    for p in node_dict:\n",
    "        if node_dict[p].time!=-1:\n",
    "            count+=1\n",
    "        if node_dict[p].time > max:\n",
    "            max = node_dict[p].time\n",
    "    print(count, max)\n",
    "    \n",
    "# 왜 런타임 에러가 날까... 후..."
   ]
  },
  {
   "cell_type": "code",
   "execution_count": null,
   "metadata": {},
   "outputs": [],
   "source": [
    "# 선생님\n",
    "\n",
    "# 다익스트라 최단 경로 라는 문제 유형임.\n",
    "# 난이도는 중 정도, 추천 시간은 50분.\n",
    "\n",
    "# 다익스트라 문제 자체가 쉬운 문제가 아님. 우선순위큐도 쓸줄 알아야 되고 실수할 요소도 많음.\n",
    "# 일단 이 문제는 다익스트라 최단경로 문제중엔 기본적인 문제.\n",
    "\n",
    "# 우선 순위큐를 쓴다면 O(N*log(D)) 정도로 풀 수 있음.\n",
    "\n",
    "# 이론 시간에 이런거 알려준적 없는데요...\n",
    "\n",
    "# 문제 해석하고 어떤 알고리즘을 써야하는지 아는게 능력임\n",
    "\n",
    "# 다익스트라 알고리즘에 대해선 \n",
    "# https://ko.wikipedia.org/wiki/%EB%8D%B0%EC%9D%B4%ED%81%AC%EC%8A%A4%ED%8A%B8%EB%9D%BC_%EC%95%8C%EA%B3%A0%EB%A6%AC%EC%A6%98\n",
    "# 킹키백과를 참고하자. 킹무위키에는 없다.\n",
    "\n",
    "import heapq\n",
    "import sys\n",
    "input = sys.stdin.readline\n",
    "\n",
    "def dijkstra(start):\n",
    "    heap_data = []\n",
    "    heapq.heappush(heap_data, (0, start))\n",
    "    distance[start] = 0\n",
    "    while heap_data:\n",
    "        dist, now = heapq.heappop(heap_data)\n",
    "        if distance[now] < dist:\n",
    "            continue\n",
    "        for i in adj[now]:\n",
    "            cost = dist+i[1]\n",
    "            if distance[i[0]] > cost:\n",
    "                distance[i[0]] = cost\n",
    "                heapq.heappush(heap_data, (cost, i[0]))\n",
    "\n",
    "for _ in range(int(input())):\n",
    "    n, m , start = map(int, input().split())\n",
    "    adj = [[] for i in range(n+1)]\n",
    "    distance = [1e9]*(n+1)\n",
    "    for _ in range(m):\n",
    "        x, y, cost = map(int, input().split())\n",
    "        adj[y].append((x,cost))\n",
    "    dijkstra(start)\n",
    "    count = 0\n",
    "    max_distance = 0\n",
    "    for i in distance:\n",
    "        if i != 1e9:\n",
    "            count+=1\n",
    "            if i > max_distance:\n",
    "                max_distance = i\n",
    "    print(count, max_distance)"
   ]
  },
  {
   "cell_type": "code",
   "execution_count": null,
   "metadata": {},
   "outputs": [],
   "source": []
  },
  {
   "cell_type": "code",
   "execution_count": null,
   "metadata": {},
   "outputs": [],
   "source": []
  },
  {
   "cell_type": "code",
   "execution_count": null,
   "metadata": {},
   "outputs": [],
   "source": []
  },
  {
   "cell_type": "code",
   "execution_count": 37,
   "metadata": {},
   "outputs": [
    {
     "name": "stdout",
     "output_type": "stream",
     "text": [
      "1 2\n",
      "5 4\n",
      "0 0\n"
     ]
    }
   ],
   "source": [
    "# acmicpc.net/problem/5719 거의 최단 경로\n",
    "\n",
    "while True:\n",
    "    n, m = map(int, input().split())\n",
    "    if n==0 and m==0:\n",
    "        break"
   ]
  },
  {
   "cell_type": "code",
   "execution_count": 1,
   "metadata": {},
   "outputs": [],
   "source": [
    "class Node:\n",
    "    def __init__(self, idx):\n",
    "        self.idx = idx\n",
    "        self.time = -1\n",
    "        self.route = [\"\"]\n",
    "        self.child = []"
   ]
  },
  {
   "cell_type": "code",
   "execution_count": 50,
   "metadata": {},
   "outputs": [
    {
     "name": "stdout",
     "output_type": "stream",
     "text": [
      "7 9\n"
     ]
    }
   ],
   "source": [
    "n, m = map(int, input().split())\n",
    "length_dict = {} # (u, v) -> p\n",
    "node_dict = {}   # 최단경로를 찾을 dictionary\n",
    "node_dict2 = {}  # 거의 최단경로를 찾을 dictionary\n",
    "for i in range(n):\n",
    "    node_dict[i] = Node(i)\n",
    "    node_dict2[i] = Node(i)"
   ]
  },
  {
   "cell_type": "code",
   "execution_count": 51,
   "metadata": {},
   "outputs": [
    {
     "name": "stdout",
     "output_type": "stream",
     "text": [
      "0 6\n"
     ]
    }
   ],
   "source": [
    "s, d = map(int, input().split())"
   ]
  },
  {
   "cell_type": "code",
   "execution_count": 52,
   "metadata": {
    "scrolled": true
   },
   "outputs": [
    {
     "name": "stdout",
     "output_type": "stream",
     "text": [
      "0 1 1\n",
      "0 2 1\n",
      "0 3 2\n",
      "0 4 3\n",
      "1 5 2\n",
      "2 6 4\n",
      "3 6 2\n",
      "4 6 4\n",
      "5 6 1\n"
     ]
    }
   ],
   "source": [
    "for _ in range(m):\n",
    "    u, v, p = map(int, input().split())\n",
    "    length_dict[(u, v)] = p\n",
    "    node_dict[u].child.append(v)\n",
    "    node_dict2[u].child.append(v)"
   ]
  },
  {
   "cell_type": "code",
   "execution_count": 53,
   "metadata": {},
   "outputs": [],
   "source": [
    "def bfs(v, s, route):\n",
    "    now = node_dict[v]\n",
    "    now_sec = now.time\n",
    "    if now_sec==-1 or now_sec >= s:\n",
    "        now.time = s\n",
    "        childs_idx = now.child\n",
    "        if v == d:\n",
    "            print(v, now_sec, s, route)\n",
    "            if now_sec == s or now_sec == -1:\n",
    "                now.route.append(str(route))\n",
    "            elif now_sec > s:\n",
    "                now.route = [str(route)]\n",
    "            return\n",
    "        else:\n",
    "            now.route[0] = str(route)\n",
    "            for idx in childs_idx:\n",
    "                if (v, idx) in length_dict:\n",
    "                    s2 = length_dict[(v, idx)]\n",
    "                    bfs(idx, s+s2, str(route) + str(idx))"
   ]
  },
  {
   "cell_type": "code",
   "execution_count": 54,
   "metadata": {
    "scrolled": false
   },
   "outputs": [
    {
     "name": "stdout",
     "output_type": "stream",
     "text": [
      "6 -1 4 0156\n",
      "6 4 4 036\n"
     ]
    }
   ],
   "source": [
    "bfs(s, 0, str(s))"
   ]
  },
  {
   "cell_type": "code",
   "execution_count": 55,
   "metadata": {},
   "outputs": [
    {
     "name": "stdout",
     "output_type": "stream",
     "text": [
      "[1, 2, 3, 4] 0 ['0']\n",
      "[5] 1 ['01']\n",
      "[6] 1 ['02']\n",
      "[6] 2 ['03']\n",
      "[6] 3 ['04']\n",
      "[6] 3 ['015']\n",
      "[] 4 ['', '0156', '036']\n"
     ]
    }
   ],
   "source": [
    "for i in node_dict:\n",
    "    node = node_dict[i]\n",
    "    print(node.child ,node.time, node.route)\n",
    "    \n",
    "# 아 지금 구조로는 최단거리가 2개인 경우를 못거르네\n",
    "# 근본부터 고쳐야되네 후..."
   ]
  },
  {
   "cell_type": "code",
   "execution_count": 56,
   "metadata": {},
   "outputs": [],
   "source": [
    "end_node = node_dict[d]"
   ]
  },
  {
   "cell_type": "code",
   "execution_count": 57,
   "metadata": {
    "scrolled": true
   },
   "outputs": [],
   "source": [
    "for route in end_node.route:\n",
    "    for c in range(len(route)-1):\n",
    "        temp = (int(route[c]), int(route[c+1]))\n",
    "        if temp in length_dict:\n",
    "            length_dict[temp] = 1000"
   ]
  },
  {
   "cell_type": "code",
   "execution_count": 58,
   "metadata": {},
   "outputs": [],
   "source": [
    "node_dict = node_dict2"
   ]
  },
  {
   "cell_type": "code",
   "execution_count": 59,
   "metadata": {},
   "outputs": [
    {
     "name": "stdout",
     "output_type": "stream",
     "text": [
      "6 -1 3000 0156\n",
      "6 3000 5 026\n"
     ]
    }
   ],
   "source": [
    "bfs(s, 0, str(s))"
   ]
  },
  {
   "cell_type": "code",
   "execution_count": 60,
   "metadata": {},
   "outputs": [
    {
     "name": "stdout",
     "output_type": "stream",
     "text": [
      "[1, 2, 3, 4] 0 ['0']\n",
      "[5] 1000 ['01']\n",
      "[6] 1 ['02']\n",
      "[6] 1000 ['03']\n",
      "[6] 3 ['04']\n",
      "[6] 2000 ['015']\n",
      "[] 5 ['026']\n"
     ]
    }
   ],
   "source": [
    "for i in node_dict:\n",
    "    node = node_dict[i]\n",
    "    print(node.child ,node.time, node.route)"
   ]
  },
  {
   "cell_type": "code",
   "execution_count": 61,
   "metadata": {},
   "outputs": [
    {
     "name": "stdout",
     "output_type": "stream",
     "text": [
      "5\n"
     ]
    }
   ],
   "source": [
    "print(node_dict[d].time)"
   ]
  },
  {
   "cell_type": "code",
   "execution_count": 65,
   "metadata": {},
   "outputs": [
    {
     "name": "stdout",
     "output_type": "stream",
     "text": [
      "4 6\n",
      "0 2\n",
      "0 1 1\n",
      "1 2 1\n",
      "1 3 1\n",
      "3 2 1\n",
      "2 0 3\n",
      "3 0 2\n",
      "-1\n",
      "6 8\n",
      "0 1\n",
      "0 1 1\n",
      "0 2 2\n",
      "0 3 3\n",
      "2 5 3\n",
      "3 4 2\n",
      "4 1 1\n",
      "5 1 1\n",
      "3 0 1\n",
      "6\n",
      "0 0\n"
     ]
    }
   ],
   "source": [
    "class Node:\n",
    "    def __init__(self, idx):\n",
    "        self.idx = idx\n",
    "        self.time = -1\n",
    "        self.route = [\"\"]\n",
    "        self.child = []\n",
    "        \n",
    "def bfs(v, s, route):\n",
    "    now = node_dict[v]\n",
    "    now_sec = now.time\n",
    "    if now_sec==-1 or now_sec >= s:\n",
    "        now.time = s\n",
    "        childs_idx = now.child\n",
    "        if v == d:\n",
    "            if now_sec == s or now_sec == -1:\n",
    "                now.route.append(str(route))\n",
    "            elif now_sec > s:\n",
    "                now.route = [str(route)]\n",
    "            return\n",
    "        else:\n",
    "            now.route[0] = str(route)\n",
    "            for idx in childs_idx:\n",
    "                if (v, idx) in length_dict:\n",
    "                    s2 = length_dict[(v, idx)]\n",
    "                    bfs(idx, s+s2, str(route) + str(idx))\n",
    "                    \n",
    "# acmicpc.net/problem/5719 거의 최단 경로\n",
    "\n",
    "while True:\n",
    "    n, m = map(int, input().split())\n",
    "    if n==0 and m==0:\n",
    "        break\n",
    "    length_dict = {} # (u, v) -> p\n",
    "    node_dict = {}   # 최단경로를 찾을 dictionary\n",
    "    node_dict2 = {}  # 거의 최단경로를 찾을 dictionary\n",
    "    for i in range(n):\n",
    "        node_dict[i] = Node(i)\n",
    "        node_dict2[i] = Node(i)\n",
    "    \n",
    "    s, d = map(int, input().split())\n",
    "    \n",
    "    for _ in range(m):\n",
    "        u, v, p = map(int, input().split())\n",
    "        length_dict[(u, v)] = p\n",
    "        node_dict[u].child.append(v)\n",
    "        node_dict2[u].child.append(v)\n",
    "    \n",
    "    bfs(s, 0, str(s))\n",
    "    \n",
    "    end_node = node_dict[d]\n",
    "    \n",
    "    for route in end_node.route:\n",
    "        for c in range(len(route)-1):\n",
    "            temp = (int(route[c]), int(route[c+1]))\n",
    "            if temp in length_dict:\n",
    "                length_dict[temp] = 1000\n",
    "    \n",
    "    node_dict = node_dict2\n",
    "    \n",
    "    bfs(s, 0, str(s))\n",
    "    \n",
    "    if node_dict[d].time>=1000:\n",
    "        print(-1)\n",
    "    else:\n",
    "        print(node_dict[d].time)\n",
    "        \n",
    "# 시간 초과.... BFS 한번 돌고, 경로 지우고 BFS 또 한번 돌고. 전체적인 시간 복잡도는 맞지 않나??\n",
    "# 디테일한 데에서 삽질해서 시간초과 됐나.\n",
    "# 코드가 정리 안된건 인정 한다만..."
   ]
  },
  {
   "cell_type": "code",
   "execution_count": 3,
   "metadata": {},
   "outputs": [],
   "source": [
    "# acmicpc.net/problem/1774 우주신과의 교감"
   ]
  },
  {
   "cell_type": "code",
   "execution_count": null,
   "metadata": {},
   "outputs": [],
   "source": []
  }
 ],
 "metadata": {
  "kernelspec": {
   "display_name": "Python 3",
   "language": "python",
   "name": "python3"
  },
  "language_info": {
   "codemirror_mode": {
    "name": "ipython",
    "version": 3
   },
   "file_extension": ".py",
   "mimetype": "text/x-python",
   "name": "python",
   "nbconvert_exporter": "python",
   "pygments_lexer": "ipython3",
   "version": "3.7.1"
  }
 },
 "nbformat": 4,
 "nbformat_minor": 2
}
