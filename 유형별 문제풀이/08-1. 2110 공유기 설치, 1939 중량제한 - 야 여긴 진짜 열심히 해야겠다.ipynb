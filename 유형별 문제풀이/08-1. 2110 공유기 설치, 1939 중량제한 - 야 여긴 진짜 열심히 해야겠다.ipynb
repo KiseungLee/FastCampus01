{
 "cells": [
  {
   "cell_type": "code",
   "execution_count": 22,
   "metadata": {},
   "outputs": [
    {
     "name": "stdout",
     "output_type": "stream",
     "text": [
      "7 4\n",
      "1\n",
      "3\n",
      "6\n",
      "7\n",
      "8\n",
      "10\n",
      "14\n"
     ]
    }
   ],
   "source": [
    "# https://www.acmicpc.net/problem/2110\n",
    "\n",
    "# 일단 로직은 n개의 좌표를 받으면\n",
    "# n-1개의 좌표간의 gap들을 모은 배열을 만듬\n",
    "\n",
    "# 그 다음 c개의 공유기를 설치해야 된다면\n",
    "# n-1개의 gap 배열을 c개의 배열로 분할하는 모든 경우의 수(k)를 구함.\n",
    "# 각각 경우의 수에서 gap배열이 분할된 c개의 부분 배열안의 요소들을 도한다음 부분 배열들의 요소 합 중 min값을 구하고\n",
    "# k개의 경우의 수에서 나온 min값들 중 max를 구함.\n",
    "\n",
    "# 근데 구현이 막히네\n",
    "\n",
    "n, c = map(int, input().split(' '))\n",
    "\n",
    "houses = []\n",
    "for _ in range(n):\n",
    "    houses.append(int(input()))\n",
    "    \n",
    "gaps = []\n",
    "for i in range(n-1):\n",
    "    gaps.append(houses[i+1]-houses[i])"
   ]
  },
  {
   "cell_type": "code",
   "execution_count": 24,
   "metadata": {},
   "outputs": [
    {
     "name": "stdout",
     "output_type": "stream",
     "text": [
      "[1, 3, 6, 7, 8, 10, 14]\n",
      "[2, 3, 1, 1, 2, 4]\n"
     ]
    }
   ],
   "source": [
    "print(houses)\n",
    "print(gaps)"
   ]
  },
  {
   "cell_type": "code",
   "execution_count": null,
   "metadata": {},
   "outputs": [],
   "source": [
    "def getMin(array, split):\n",
    "    if split==2:\n",
    "        "
   ]
  },
  {
   "cell_type": "code",
   "execution_count": 25,
   "metadata": {},
   "outputs": [
    {
     "name": "stdout",
     "output_type": "stream",
     "text": [
      "5 3\n",
      "1\n",
      "2\n",
      "8\n",
      "4\n",
      "9\n",
      "3\n"
     ]
    }
   ],
   "source": [
    "# 선생님\n",
    "\n",
    "# 이진탐색 유형은 어려운 문제들이 많이 나오는 곳이다.\n",
    "# 이 문제는 좌표의 수도 크고(x 10억까지) 갯수도 많음.\n",
    "# 잘못짜면 시간 초과나는 문제\n",
    "# 이진탐색을 써서 O(n*log(X)) 수준으로 풀어야됨.\n",
    "# 데이터의 갯수가 많거나 범위가 큰 경우, 그리고 탐색이 필요한 경우엔\n",
    "# 테크닉적으로 이진탐색을 의심해봐라.\n",
    "# O(n*log(X))의 경우 최대 200,000 * 30 = 6,000,000 정도가 된다.\n",
    "\n",
    "# 우선 문제 시작할때 최대 gap과 최소 gap을 구함.\n",
    "# min, max를 찾고 중간에서 mid값을 찾고 하면 됨. \n",
    "# 문제의 테스트 케이스 같은 경우 1 2 4 8 9\n",
    "# 여기서 초기 max는 8, min은 1이고 mid는 (8+1) // 2 = 4\n",
    "# mid를 최소 갭으로 보고 공유기를 세워봄. 공유기가 다 안세워지면\n",
    "# mid를 max로 설정하고 다시 mid를 구함.\n",
    "# 그 mid로 공유기를 세울 수 있으면 이번엔 mid를 높여줌.\n",
    "# 이런식으로 반씩 쳐내야됨.\n",
    "\n",
    "# 원리는 간단하지 않은데\n",
    "# 코드는 간단하다.\n",
    "\n",
    "n, c = list(map(int, input().split(' ')))\n",
    "array = []\n",
    "\n",
    "for _ in range(n):\n",
    "    array.append(int(input()))\n",
    "array = sorted(array)\n",
    "\n",
    "start = array[1] - array[0]\n",
    "end = array[-1] - array[0]\n",
    "result = 0\n",
    "\n",
    "while(start <= end):\n",
    "    mid = (start + end) // 2 # mid는 Gap을 의미합니다.\n",
    "    value = array[0]\n",
    "    count = 1\n",
    "    for i in range(1, len(array)):\n",
    "        if array[i] >= value + mid:\n",
    "            value = array[i]\n",
    "            count += 1\n",
    "    if count >= c: # C개 이상의 공유기를 설치할 수 있는 경우\n",
    "        start = mid + 1\n",
    "        result = mid\n",
    "    else: # C개 이상의 공유기를 설치할 수 없는 경우\n",
    "        end = mid - 1\n",
    "\n",
    "print(result)"
   ]
  },
  {
   "cell_type": "code",
   "execution_count": null,
   "metadata": {},
   "outputs": [],
   "source": []
  },
  {
   "cell_type": "code",
   "execution_count": null,
   "metadata": {},
   "outputs": [],
   "source": []
  },
  {
   "cell_type": "code",
   "execution_count": null,
   "metadata": {},
   "outputs": [],
   "source": []
  },
  {
   "cell_type": "code",
   "execution_count": 10,
   "metadata": {
    "scrolled": true
   },
   "outputs": [
    {
     "name": "stdout",
     "output_type": "stream",
     "text": [
      "7 6\n",
      "1 2 4\n",
      "2 3 7\n",
      "3 4 8\n",
      "3 5 6\n",
      "5 6 3\n",
      "6 7 2\n"
     ]
    }
   ],
   "source": [
    "# https://www.acmicpc.net/problem/1939\n",
    "\n",
    "# 손으론 쉬운데 구현이 안되네\n",
    "\n",
    "# n -> 섬 갯수, m -> 다리 갯수\n",
    "n, m = map(int, input().split(' '))\n",
    "\n",
    "# 그래프역할을 할 dictionary\n",
    "graph = {}\n",
    "# 최대 무게를 찾아줄 dictionary\n",
    "weight = {}\n",
    "\n",
    "for _ in range(m):\n",
    "    start, end, limit = map(int, input().split(' '))\n",
    "    \n",
    "    # 양방향 그래프 생성\n",
    "    if not graph.get(start):\n",
    "        graph[start] = [end]\n",
    "    else:\n",
    "        graph[start].append(end)\n",
    "    if not graph.get(end):\n",
    "        graph[end] = [start]\n",
    "    else:\n",
    "        graph[end].append(start)\n",
    "    weight[(start, end)] = limit\n",
    "    weight[(end, start)] = limit"
   ]
  },
  {
   "cell_type": "code",
   "execution_count": 13,
   "metadata": {},
   "outputs": [
    {
     "name": "stdout",
     "output_type": "stream",
     "text": [
      "1 4\n"
     ]
    }
   ],
   "source": [
    "start, end = map(int, input().split(' '))"
   ]
  },
  {
   "cell_type": "code",
   "execution_count": 15,
   "metadata": {},
   "outputs": [
    {
     "data": {
      "text/plain": [
       "4"
      ]
     },
     "execution_count": 15,
     "metadata": {},
     "output_type": "execute_result"
    }
   ],
   "source": [
    "# 탐색\n",
    "visited = []\n",
    "will_visit = []\n",
    "\n",
    "will_visit.append(start)\n",
    "while True:\n",
    "    now = will_visit.pop(0)"
   ]
  },
  {
   "cell_type": "code",
   "execution_count": 16,
   "metadata": {},
   "outputs": [],
   "source": [
    "temp = [1, 2, 3]"
   ]
  },
  {
   "cell_type": "code",
   "execution_count": 19,
   "metadata": {},
   "outputs": [
    {
     "data": {
      "text/plain": [
       "1"
      ]
     },
     "execution_count": 19,
     "metadata": {},
     "output_type": "execute_result"
    }
   ],
   "source": [
    "temp.pop(0)"
   ]
  },
  {
   "cell_type": "code",
   "execution_count": 20,
   "metadata": {},
   "outputs": [
    {
     "data": {
      "text/plain": [
       "[2]"
      ]
     },
     "execution_count": 20,
     "metadata": {},
     "output_type": "execute_result"
    }
   ],
   "source": [
    "temp"
   ]
  },
  {
   "cell_type": "code",
   "execution_count": null,
   "metadata": {},
   "outputs": [],
   "source": [
    "# 선생님\n",
    "\n",
    "# 지금까지 나온 문제중 가장 어려운 문제다.\n",
    "# 대회에 나와도 어색하지 않은 문제\n",
    "\n",
    "# 이 문제도 중량제한이 10억으로 크기 때문에 단순 탐색은 안된다고 의심하면 좋음\n",
    "# 이 문제도 O(M*log(C)) 의 경우로 풀어야됨\n",
    "\n",
    "# BFS를 쓸거임. \n",
    "\n",
    "# 아 내가 생각한 방법이랑 풀이 구조 자체가 다르네\n",
    "# 일단 최대 중량과 최소 중량을 설정하고 시작.\n",
    "# 다음 탐색 중량을 중간정도로 설정하고 그 설정한 탐색 중량으로 \n",
    "# 시작 노드부터 끝나는 노드까지 갈 수 있나 BFS로 탐색을 해봄.\n",
    "# 탐색 가능하다면 탐색 중량을 최대중량과 탐색중량 중간으로 맞추고\n",
    "# 탐색 불가능하면 탐색 중량을 최소중량과 탐색중량 중간으로 맞춤.\n",
    "# 이런식으로 반씩 쳐냄.\n",
    "\n",
    "# 아 나는 모든 경로를 greedy하게 돌면서 \n",
    "# 가능한 경로 중에서 나오는 중량중 최소값을 잡으로 했는데\n",
    "\n",
    "\n",
    "from collections import deque\n",
    "\n",
    "n, m = map(int, input().split())\n",
    "adj = [[] for _ in range(n + 1)]\n",
    "\n",
    "def bfs(c):\n",
    "    queue = deque([start_node])\n",
    "    visited = [False] * (n + 1)\n",
    "    visited[start_node] = True\n",
    "    while queue:\n",
    "        x = queue.popleft()\n",
    "        for y, weight in adj[x]:\n",
    "            if not visited[y] and weight >= c:\n",
    "                visited[y] = True\n",
    "                queue.append(y)\n",
    "    return visited[end_node]\n",
    "\n",
    "\n",
    "\n",
    "start = 1000000000\n",
    "end = 1\n",
    "\n",
    "for _ in range(m):\n",
    "    x, y, weight = map(int, input().split())\n",
    "    adj[x].append((y, weight))\n",
    "    adj[y].append((x, weight))\n",
    "    start = min(start, weight)\n",
    "    end = max(end, weight)\n",
    "\n",
    "start_node, end_node = map(int, input().split())\n",
    "\n",
    "result = start\n",
    "while(start <= end):\n",
    "    mid = (start + end) // 2 # mid는 현재의 중량을 의미합니다.\n",
    "    if bfs(mid): # 이동이 가능하므로, 중량을 증가시킵니다.\n",
    "        result = mid\n",
    "        start = mid + 1\n",
    "    else: # 이동이 불가능하므로, 중량을 감소시킵니다.\n",
    "        end = mid - 1\n",
    "\n",
    "print(result)"
   ]
  }
 ],
 "metadata": {
  "kernelspec": {
   "display_name": "Python 3",
   "language": "python",
   "name": "python3"
  },
  "language_info": {
   "codemirror_mode": {
    "name": "ipython",
    "version": 3
   },
   "file_extension": ".py",
   "mimetype": "text/x-python",
   "name": "python",
   "nbconvert_exporter": "python",
   "pygments_lexer": "ipython3",
   "version": "3.7.1"
  }
 },
 "nbformat": 4,
 "nbformat_minor": 2
}
