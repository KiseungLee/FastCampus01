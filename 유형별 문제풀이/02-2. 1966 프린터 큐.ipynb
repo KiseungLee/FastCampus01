{
 "cells": [
  {
   "cell_type": "code",
   "execution_count": 12,
   "metadata": {},
   "outputs": [
    {
     "name": "stdout",
     "output_type": "stream",
     "text": [
      "3\n",
      "1 0\n",
      "5\n",
      "4 2\n",
      "1 2 3 4\n",
      "6 0\n",
      "1 1 9 1 1 1\n",
      "1\n",
      "2\n",
      "5\n"
     ]
    }
   ],
   "source": [
    "# https://www.acmicpc.net/problem/1966\n",
    "case_n = input()\n",
    "return_list = list()\n",
    "for i in range(int(case_n)):\n",
    "    len_target = list(map(int, input().split(' ')))\n",
    "    target = len_target[-1]\n",
    "    queue = list(map(int, input().split(' ')))\n",
    "    order = queue.copy()\n",
    "    order.sort(reverse=True)\n",
    "    \n",
    "    print_count = 0\n",
    "    while len(queue) != 0:\n",
    "        if queue[0]==order[0]:\n",
    "            del queue[0]\n",
    "            del order[0]\n",
    "            print_count+=1\n",
    "            if target==0:\n",
    "                return_list.append(print_count)\n",
    "                break\n",
    "            else:\n",
    "                target -= 1\n",
    "        else:\n",
    "            queue.append(queue[0])\n",
    "            del queue[0]\n",
    "            if target==0:\n",
    "                target = len(queue)-1\n",
    "            else:\n",
    "                target -=1\n",
    "\n",
    "for i in return_list:\n",
    "    print(i)\n",
    "    \n",
    "# 깔끔하게 하긴 했는데 뭔가 푸는 도중에 깔끔해졌음.\n",
    "# 좀더 키보드에 손 올리는 속도를 늦추자.\n",
    "# 생각을 좀 더 하고 코딩 ㄱㄱ"
   ]
  },
  {
   "cell_type": "code",
   "execution_count": null,
   "metadata": {},
   "outputs": [],
   "source": [
    "# 선생님 풀이\n",
    "test_case = int(input())\n",
    "for _ in range(test_case):\n",
    "    n, m = list(map(int, input().split(' ')))\n",
    "    queue = list(map(int, input().split(' ')))\n",
    "    queue = [(i, idx) for idx, i in enumerate(queue)] # 여기가 중요 [(x,0), (y,1), (z,1)] 같은 tuple 형식으로 만듬. 파이썬에서 쓸 수 있는 스킬\n",
    "    \n",
    "    count = 0\n",
    "    while True:\n",
    "        if queue[0][0] == max(queue, key=lambda x: x[0])[0]: # 여기도 중요 위에서 tuple 만들어 놨다면 max값 이렇게 뽑음\n",
    "            count += 1\n",
    "            if queue[0][1] == m:\n",
    "                print(count)\n",
    "                break\n",
    "            else:\n",
    "                queue.pop(0)\n",
    "        else:\n",
    "            queue.append(queue.pop(0))\n",
    "            \n",
    "# 파이썬 스킬 쓰면 좋네."
   ]
  },
  {
   "cell_type": "code",
   "execution_count": null,
   "metadata": {},
   "outputs": [],
   "source": []
  }
 ],
 "metadata": {
  "kernelspec": {
   "display_name": "Python 3",
   "language": "python",
   "name": "python3"
  },
  "language_info": {
   "codemirror_mode": {
    "name": "ipython",
    "version": 3
   },
   "file_extension": ".py",
   "mimetype": "text/x-python",
   "name": "python",
   "nbconvert_exporter": "python",
   "pygments_lexer": "ipython3",
   "version": "3.7.1"
  }
 },
 "nbformat": 4,
 "nbformat_minor": 2
}
