{
 "cells": [
  {
   "cell_type": "code",
   "execution_count": 3,
   "metadata": {},
   "outputs": [
    {
     "name": "stdout",
     "output_type": "stream",
     "text": [
      "2\n",
      "3\n",
      "Fred Barney\n",
      "2\n",
      "Barney Betty\n",
      "3\n",
      "Betty Wilma\n",
      "4\n",
      "3\n",
      "Fred Barney\n",
      "2\n",
      "Betty Wilma\n",
      "2\n",
      "Barney Betty\n",
      "4\n"
     ]
    }
   ],
   "source": [
    "# https://www.acmicpc.net/problem/4195\n",
    "\n",
    "# 입력용 함수\n",
    "def insertToGraph(graph, x, y):\n",
    "    if not graph.get(x):\n",
    "        graph[x]=[y]\n",
    "    else:\n",
    "        graph[x].append(y)\n",
    "    if not graph.get(y):\n",
    "        graph[y]=[x]\n",
    "    else:\n",
    "        graph[y].append(x)\n",
    "\n",
    "# 출력용 함수\n",
    "def getNetwork(graph):\n",
    "    root = list(graph.keys())[0]\n",
    "    visited = set()\n",
    "    to_visit = [root]\n",
    "    while to_visit:\n",
    "        now = to_visit[0]\n",
    "        if now not in visited:\n",
    "            if graph.get(now):\n",
    "                to_visit.extend(graph[now])\n",
    "            visited.add(now)\n",
    "        del to_visit[0]\n",
    "    print(len(visited))\n",
    "\n",
    "## start\n",
    "case_num = int(input())\n",
    "for z in range(case_num):\n",
    "    each_case = int(input())\n",
    "    graph = dict()\n",
    "    # 한줄씩 받음\n",
    "    for _ in range(each_case):\n",
    "        x, y = list(map(str, input().split(' ')))\n",
    "        # 입력\n",
    "        insertToGraph(graph, x, y)\n",
    "        # 출력\n",
    "        getNetwork(graph)\n",
    "        \n",
    "# 맞는거 같은데 시간 초과뜸\n",
    "# 친구 네트워크 검사할때 마다 그래프 도는 거 때문에 그런 거 같음"
   ]
  },
  {
   "cell_type": "code",
   "execution_count": 11,
   "metadata": {},
   "outputs": [
    {
     "name": "stdout",
     "output_type": "stream",
     "text": [
      "2\n",
      "3\n",
      "Fred Barney\n",
      "2\n",
      "Barney Betty\n",
      "3\n",
      "Betty Wilma\n",
      "4\n",
      "3\n",
      "Fred Barney\n",
      "2\n",
      "Betty Wilma\n",
      "2\n",
      "Barney Betty\n",
      "4\n"
     ]
    }
   ],
   "source": [
    "# 센세 풀이\n",
    "\n",
    "# 해시 알고리즘과 + Union - Find 알고리즘(합집합 찾기)을 활용\n",
    "# 해시는 파이썬 딕셔너리로 사용\n",
    "# Union - Find 알고리즘은 원소들의 연결 여부를 확인함.\n",
    "\n",
    "def find(x):\n",
    "    if x == parent[x]:\n",
    "        return x\n",
    "    else:\n",
    "        p = find(parent[x])\n",
    "        parent[x] = p\n",
    "        return parent[x]\n",
    "\n",
    "def union(x, y):\n",
    "    x = find(x)\n",
    "    y = find(y)\n",
    "    if x != y:\n",
    "        parent[y] = x\n",
    "        number[x] += number[y]\n",
    "        \n",
    "\n",
    "test_case = int(input())\n",
    "\n",
    "for _ in range(test_case):\n",
    "    parent = dict()\n",
    "    number = dict()\n",
    "    f = int(input())\n",
    "    for _ in range(f):\n",
    "        x, y = input().split(' ')\n",
    "        if x not in parent:\n",
    "            parent[x] = x\n",
    "            number[x] = 1\n",
    "        if y not in parent:\n",
    "            parent[y] = y\n",
    "            number[y] = 1\n",
    "        union(x, y)\n",
    "        print(number[find(x)])"
   ]
  },
  {
   "cell_type": "code",
   "execution_count": null,
   "metadata": {},
   "outputs": [],
   "source": [
    "# 센세 개념만 가지고 다시 풀어보기\n"
   ]
  }
 ],
 "metadata": {
  "kernelspec": {
   "display_name": "Python 3",
   "language": "python",
   "name": "python3"
  },
  "language_info": {
   "codemirror_mode": {
    "name": "ipython",
    "version": 3
   },
   "file_extension": ".py",
   "mimetype": "text/x-python",
   "name": "python",
   "nbconvert_exporter": "python",
   "pygments_lexer": "ipython3",
   "version": "3.7.1"
  }
 },
 "nbformat": 4,
 "nbformat_minor": 2
}
