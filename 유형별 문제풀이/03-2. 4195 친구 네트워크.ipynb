{
 "cells": [
  {
   "cell_type": "code",
   "execution_count": 149,
   "metadata": {},
   "outputs": [
    {
     "name": "stdout",
     "output_type": "stream",
     "text": [
      "2\n",
      "3\n",
      " Fred Barney\n",
      "2\n",
      " Barney Betty\n",
      "3\n",
      " Betty Wilma\n",
      "4\n",
      "3\n",
      " Fred Barney\n",
      "2\n",
      " Betty Wilma\n",
      "2\n",
      " Barney Betty\n",
      "4\n"
     ]
    }
   ],
   "source": [
    "# https://www.acmicpc.net/problem/4195\n",
    "\n",
    "# 입력용 함수\n",
    "def insertToGraph(graph, x, y):\n",
    "    if not graph.get(x):\n",
    "        graph[x]=[y]\n",
    "    else:\n",
    "        graph[x].append(y)\n",
    "    if not graph.get(y):\n",
    "        graph[y]=[x]\n",
    "    else:\n",
    "        graph[y].append(x)\n",
    "\n",
    "# 출력용 함수\n",
    "def getNetwork(graph):\n",
    "    root = list(graph.keys())[0]\n",
    "    visited = set()\n",
    "    to_visit = [root]\n",
    "    while to_visit:\n",
    "        now = to_visit[0]\n",
    "        if now not in visited:\n",
    "            if graph.get(now):\n",
    "                to_visit.extend(graph[now])\n",
    "            visited.add(now)\n",
    "        del to_visit[0]\n",
    "    print(len(visited))\n",
    "    \n",
    "case_num = int(input())\n",
    "\n",
    "for z in range(case_num):\n",
    "    each_case = int(input())\n",
    "    graph = dict()\n",
    "    \n",
    "    # 한줄씩 받음\n",
    "    for _ in range(each_case):\n",
    "        x, y = list(map(str, input(' ').split(' ')))\n",
    "        # 입력\n",
    "        insertToGraph(graph, x, y)\n",
    "        \n",
    "        # 출력\n",
    "        getNetwork(graph)"
   ]
  },
  {
   "cell_type": "code",
   "execution_count": 70,
   "metadata": {},
   "outputs": [],
   "source": [
    "test = dict()"
   ]
  },
  {
   "cell_type": "code",
   "execution_count": 71,
   "metadata": {},
   "outputs": [],
   "source": [
    "test['Fred'] = ['Barney']"
   ]
  },
  {
   "cell_type": "code",
   "execution_count": 72,
   "metadata": {},
   "outputs": [
    {
     "data": {
      "text/plain": [
       "['Barney']"
      ]
     },
     "execution_count": 72,
     "metadata": {},
     "output_type": "execute_result"
    }
   ],
   "source": [
    "test['Fred']"
   ]
  },
  {
   "cell_type": "code",
   "execution_count": 73,
   "metadata": {},
   "outputs": [
    {
     "data": {
      "text/plain": [
       "{'Fred': ['Barney']}"
      ]
     },
     "execution_count": 73,
     "metadata": {},
     "output_type": "execute_result"
    }
   ],
   "source": [
    "test"
   ]
  },
  {
   "cell_type": "code",
   "execution_count": 74,
   "metadata": {},
   "outputs": [],
   "source": [
    "test['Fred'].append('Barney2')"
   ]
  },
  {
   "cell_type": "code",
   "execution_count": 77,
   "metadata": {},
   "outputs": [],
   "source": [
    "test['b'] = ['c']"
   ]
  },
  {
   "cell_type": "code",
   "execution_count": 78,
   "metadata": {},
   "outputs": [],
   "source": [
    "test['qq'] = ['hhrh']"
   ]
  },
  {
   "cell_type": "code",
   "execution_count": 79,
   "metadata": {},
   "outputs": [
    {
     "data": {
      "text/plain": [
       "{'Fred': ['Barney', 'Barney2'], 'b': ['c'], 'qq': ['hhrh']}"
      ]
     },
     "execution_count": 79,
     "metadata": {},
     "output_type": "execute_result"
    }
   ],
   "source": [
    "test"
   ]
  },
  {
   "cell_type": "code",
   "execution_count": 92,
   "metadata": {},
   "outputs": [
    {
     "data": {
      "text/plain": [
       "'Fred'"
      ]
     },
     "execution_count": 92,
     "metadata": {},
     "output_type": "execute_result"
    }
   ],
   "source": [
    "list(test.keys())[0]"
   ]
  },
  {
   "cell_type": "code",
   "execution_count": 91,
   "metadata": {},
   "outputs": [
    {
     "data": {
      "text/plain": [
       "'Fred'"
      ]
     },
     "execution_count": 91,
     "metadata": {},
     "output_type": "execute_result"
    }
   ],
   "source": []
  },
  {
   "cell_type": "code",
   "execution_count": 110,
   "metadata": {},
   "outputs": [],
   "source": [
    "temp2 = set()"
   ]
  },
  {
   "cell_type": "code",
   "execution_count": 111,
   "metadata": {},
   "outputs": [],
   "source": [
    "temp2.add(2)"
   ]
  },
  {
   "cell_type": "code",
   "execution_count": 98,
   "metadata": {},
   "outputs": [],
   "source": [
    "if 3 in temp2:\n",
    "    print('hi')"
   ]
  },
  {
   "cell_type": "code",
   "execution_count": 106,
   "metadata": {},
   "outputs": [],
   "source": [
    "temp3 = [1, 3 ,2, 1,4 ,7]"
   ]
  },
  {
   "cell_type": "code",
   "execution_count": 105,
   "metadata": {},
   "outputs": [
    {
     "name": "stdout",
     "output_type": "stream",
     "text": [
      "1\n",
      "3\n",
      "2\n",
      "1\n",
      "4\n",
      "7\n"
     ]
    }
   ],
   "source": [
    "while temp3:\n",
    "    print(temp3[0])\n",
    "    del temp3[0]"
   ]
  },
  {
   "cell_type": "code",
   "execution_count": 107,
   "metadata": {},
   "outputs": [],
   "source": [
    "temp4 = ['a', 'b']"
   ]
  },
  {
   "cell_type": "code",
   "execution_count": 108,
   "metadata": {},
   "outputs": [],
   "source": [
    "temp3.extend(temp4)"
   ]
  },
  {
   "cell_type": "code",
   "execution_count": 109,
   "metadata": {},
   "outputs": [
    {
     "data": {
      "text/plain": [
       "[1, 3, 2, 1, 4, 7, 'a', 'b']"
      ]
     },
     "execution_count": 109,
     "metadata": {},
     "output_type": "execute_result"
    }
   ],
   "source": [
    "temp3"
   ]
  },
  {
   "cell_type": "code",
   "execution_count": 112,
   "metadata": {},
   "outputs": [
    {
     "data": {
      "text/plain": [
       "1"
      ]
     },
     "execution_count": 112,
     "metadata": {},
     "output_type": "execute_result"
    }
   ],
   "source": [
    "len(temp2)"
   ]
  },
  {
   "cell_type": "code",
   "execution_count": 145,
   "metadata": {},
   "outputs": [],
   "source": [
    "# 입력용 함수\n",
    "def insertToGraph(graph, x, y):\n",
    "    if not graph.get(x):\n",
    "        graph[x]=[y]\n",
    "    else:\n",
    "        graph[x].append(y)\n",
    "    if not graph.get(y):\n",
    "        graph[y]=[x]\n",
    "    else:\n",
    "        graph[y].append(x)\n",
    "\n",
    "# 출력용 함수\n",
    "def getNetwork(graph):\n",
    "    root = list(graph.keys())[0]\n",
    "    visited = set()\n",
    "    to_visit = [root]\n",
    "    while to_visit:\n",
    "        now = to_visit[0]\n",
    "        if now not in visited:\n",
    "            if graph.get(now):\n",
    "                to_visit.extend(graph[now])\n",
    "            visited.add(now)\n",
    "        del to_visit[0]\n",
    "    print(len(visited))"
   ]
  },
  {
   "cell_type": "code",
   "execution_count": 146,
   "metadata": {},
   "outputs": [],
   "source": [
    "graph = dict()\n",
    "insertToGraph(graph, 'a', 'b')\n",
    "insertToGraph(graph, 'a', 'c')\n",
    "insertToGraph(graph, 'a', 'd')\n",
    "insertToGraph(graph, 'b', 'e')\n",
    "insertToGraph(graph, 'b', 'f')\n",
    "insertToGraph(graph, 'c', 'e')\n",
    "insertToGraph(graph, 'c', 'g')"
   ]
  },
  {
   "cell_type": "code",
   "execution_count": 147,
   "metadata": {},
   "outputs": [
    {
     "data": {
      "text/plain": [
       "{'a': ['b', 'c', 'd'],\n",
       " 'b': ['a', 'e', 'f'],\n",
       " 'c': ['a', 'e', 'g'],\n",
       " 'd': ['a'],\n",
       " 'e': ['b', 'c'],\n",
       " 'f': ['b'],\n",
       " 'g': ['c']}"
      ]
     },
     "execution_count": 147,
     "metadata": {},
     "output_type": "execute_result"
    }
   ],
   "source": [
    "graph"
   ]
  },
  {
   "cell_type": "code",
   "execution_count": 148,
   "metadata": {},
   "outputs": [
    {
     "name": "stdout",
     "output_type": "stream",
     "text": [
      "7\n"
     ]
    }
   ],
   "source": [
    "getNetwork(graph)"
   ]
  },
  {
   "cell_type": "code",
   "execution_count": 144,
   "metadata": {},
   "outputs": [
    {
     "data": {
      "text/plain": [
       "['a']"
      ]
     },
     "execution_count": 144,
     "metadata": {},
     "output_type": "execute_result"
    }
   ],
   "source": [
    "graph.get('d')"
   ]
  },
  {
   "cell_type": "code",
   "execution_count": null,
   "metadata": {},
   "outputs": [],
   "source": []
  }
 ],
 "metadata": {
  "kernelspec": {
   "display_name": "Python 3",
   "language": "python",
   "name": "python3"
  },
  "language_info": {
   "codemirror_mode": {
    "name": "ipython",
    "version": 3
   },
   "file_extension": ".py",
   "mimetype": "text/x-python",
   "name": "python",
   "nbconvert_exporter": "python",
   "pygments_lexer": "ipython3",
   "version": "3.7.4"
  }
 },
 "nbformat": 4,
 "nbformat_minor": 2
}
