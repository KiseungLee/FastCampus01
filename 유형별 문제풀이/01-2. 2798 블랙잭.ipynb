{
 "cells": [
  {
   "cell_type": "code",
   "execution_count": 14,
   "metadata": {},
   "outputs": [
    {
     "name": "stdout",
     "output_type": "stream",
     "text": [
      "5 21\n",
      "5 6 7 8 9\n",
      "21\n"
     ]
    }
   ],
   "source": [
    "# https://www.acmicpc.net/problem/2798\n",
    "\n",
    "first_line = list(map(int, input().split(' ')))\n",
    "second_line = list(map(int, input().split(' ')))\n",
    "\n",
    "limit = first_line[1]\n",
    "maxsum = 0\n",
    "\n",
    "for i in range(len(second_line)):\n",
    "    for j in range(i+1, len(second_line)):\n",
    "        for k in range(i+2, len(second_line)):\n",
    "            a = second_line[i]\n",
    "            b = second_line[j]\n",
    "            c = second_line[k]\n",
    "            local_sum = a+b+c\n",
    "            if local_sum > maxsum and local_sum<=limit:\n",
    "                maxsum = local_sum\n",
    "\n",
    "print(maxsum)"
   ]
  },
  {
   "cell_type": "code",
   "execution_count": null,
   "metadata": {},
   "outputs": [],
   "source": []
  }
 ],
 "metadata": {
  "kernelspec": {
   "display_name": "Python 3",
   "language": "python",
   "name": "python3"
  },
  "language_info": {
   "codemirror_mode": {
    "name": "ipython",
    "version": 3
   },
   "file_extension": ".py",
   "mimetype": "text/x-python",
   "name": "python",
   "nbconvert_exporter": "python",
   "pygments_lexer": "ipython3",
   "version": "3.7.1"
  }
 },
 "nbformat": 4,
 "nbformat_minor": 2
}
