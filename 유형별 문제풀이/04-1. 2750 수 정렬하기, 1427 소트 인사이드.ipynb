{
 "cells": [
  {
   "cell_type": "code",
   "execution_count": 2,
   "metadata": {},
   "outputs": [
    {
     "name": "stdout",
     "output_type": "stream",
     "text": [
      "5\n",
      "7\n",
      "3\n",
      "1\n",
      "5\n",
      "3\n",
      "1\n",
      "3\n",
      "3\n",
      "5\n",
      "7\n"
     ]
    }
   ],
   "source": [
    "# https://www.acmicpc.net/problem/2750\n",
    "\n",
    "input_list = []\n",
    "\n",
    "for _ in range(int(input())):\n",
    "    input_list.append(int(input()))\n",
    "    \n",
    "input_list.sort()\n",
    "\n",
    "for i in input_list:\n",
    "    print(i)"
   ]
  },
  {
   "cell_type": "code",
   "execution_count": 3,
   "metadata": {},
   "outputs": [
    {
     "name": "stdout",
     "output_type": "stream",
     "text": [
      "6\n",
      "3\n",
      "1\n",
      "2\n",
      "8\n",
      "5\n",
      "2\n",
      "1\n",
      "2\n",
      "2\n",
      "3\n",
      "5\n",
      "8\n"
     ]
    }
   ],
   "source": [
    "# 선생님 1 - 직접 정렬 구현\n",
    "n = int(input())\n",
    "array = list()\n",
    "\n",
    "for _ in range(n):\n",
    "    array.append(int(input()))\n",
    "    \n",
    "for i in range(n):\n",
    "    min_index = i # 가장 작은 원소의 인덱스    \n",
    "    for j in range(i + 1, n):\n",
    "        if array[min_index] > array[j]:\n",
    "            min_index = j\n",
    "    array[i], array[min_index] = array[min_index], array[i] # 스와프\n",
    "\n",
    "for i in array:\n",
    "    print(i)"
   ]
  },
  {
   "cell_type": "code",
   "execution_count": null,
   "metadata": {},
   "outputs": [],
   "source": [
    "# 선생님2 - 라이브러리 사용 : 기본 라이브러리 O(nlog(n)) 임\n",
    "\n",
    "n = int(input())\n",
    "array = list()\n",
    "\n",
    "for _ in range(n):\n",
    "    array.append(int(input()))\n",
    "\n",
    "array.sort()\n",
    "\n",
    "for i in array:\n",
    "    print(i)"
   ]
  },
  {
   "cell_type": "code",
   "execution_count": 3,
   "metadata": {
    "scrolled": true
   },
   "outputs": [
    {
     "name": "stdout",
     "output_type": "stream",
     "text": [
      "2143\n",
      "4321\n"
     ]
    }
   ],
   "source": [
    "# https://www.acmicpc.net/problem/1427\n",
    "\n",
    "num = input()\n",
    "int_list = [int(c) for c in num]\n",
    "int_list.sort(reverse=True)\n",
    "result_num = 0\n",
    "for n in int_list:\n",
    "    result_num = result_num*10 + n\n",
    "\n",
    "print(result_num)"
   ]
  },
  {
   "cell_type": "code",
   "execution_count": null,
   "metadata": {},
   "outputs": [],
   "source": [
    "# 선생님 풀이\n",
    "\n",
    "# 츨력이 자릿수대로 내림차순인 점을 이용해서\n",
    "# 9, 8, 7, 6 ... 1, 0 내려가면서\n",
    "# 입력받은 숫자에 있으면 9, 8, 7, 6 ... 1, 0 를 출력함.\n",
    "# 출력할때 print(i, end='') 를 해줘서 개행을 막아줌.\n",
    "# range(9, -1, -1) 문법도 체크\n",
    "\n",
    "array = input()\n",
    "for i in range(9, -1, -1):\n",
    "    for j in array:\n",
    "        if int(j) == i:\n",
    "            print(i, end='')"
   ]
  }
 ],
 "metadata": {
  "kernelspec": {
   "display_name": "Python 3",
   "language": "python",
   "name": "python3"
  },
  "language_info": {
   "codemirror_mode": {
    "name": "ipython",
    "version": 3
   },
   "file_extension": ".py",
   "mimetype": "text/x-python",
   "name": "python",
   "nbconvert_exporter": "python",
   "pygments_lexer": "ipython3",
   "version": "3.7.1"
  }
 },
 "nbformat": 4,
 "nbformat_minor": 2
}
