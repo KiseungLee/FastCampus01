{
 "cells": [
  {
   "cell_type": "code",
   "execution_count": 15,
   "metadata": {},
   "outputs": [
    {
     "name": "stdout",
     "output_type": "stream",
     "text": [
      "8\n",
      "4\n",
      "3\n",
      "6\n",
      "8\n",
      "7\n",
      "5\n",
      "2\n",
      "1\n",
      "[1]\n",
      "[1, 2]\n",
      "[1, 2, 3]\n",
      "[1, 2, 3, 4]\n"
     ]
    },
    {
     "ename": "KeyboardInterrupt",
     "evalue": "",
     "output_type": "error",
     "traceback": [
      "\u001b[1;31m---------------------------------------------------------------------------\u001b[0m",
      "\u001b[1;31mKeyboardInterrupt\u001b[0m                         Traceback (most recent call last)",
      "\u001b[1;32m<ipython-input-15-39c711c8f928>\u001b[0m in \u001b[0;36m<module>\u001b[1;34m\u001b[0m\n\u001b[0;32m     34\u001b[0m             \u001b[0mprint\u001b[0m\u001b[1;33m(\u001b[0m\u001b[0mstack\u001b[0m\u001b[1;33m)\u001b[0m\u001b[1;33m\u001b[0m\u001b[1;33m\u001b[0m\u001b[0m\n\u001b[0;32m     35\u001b[0m         \u001b[1;31m# 작고 1개 차이나면 pop, 같으면 pop\u001b[0m\u001b[1;33m\u001b[0m\u001b[1;33m\u001b[0m\u001b[1;33m\u001b[0m\u001b[0m\n\u001b[1;32m---> 36\u001b[1;33m         \u001b[1;32melif\u001b[0m \u001b[0mint\u001b[0m\u001b[1;33m(\u001b[0m\u001b[0mnumbers\u001b[0m\u001b[1;33m[\u001b[0m\u001b[1;36m0\u001b[0m\u001b[1;33m]\u001b[0m\u001b[1;33m)\u001b[0m \u001b[1;33m==\u001b[0m \u001b[0mnum\u001b[0m\u001b[1;33m+\u001b[0m\u001b[1;36m1\u001b[0m \u001b[1;32mor\u001b[0m \u001b[0mint\u001b[0m\u001b[1;33m(\u001b[0m\u001b[0mnumbers\u001b[0m\u001b[1;33m[\u001b[0m\u001b[1;36m0\u001b[0m\u001b[1;33m]\u001b[0m\u001b[1;33m)\u001b[0m\u001b[1;33m==\u001b[0m \u001b[0mnum\u001b[0m\u001b[1;33m:\u001b[0m\u001b[1;33m\u001b[0m\u001b[1;33m\u001b[0m\u001b[0m\n\u001b[0m\u001b[0;32m     37\u001b[0m             \u001b[0mpopStack\u001b[0m\u001b[1;33m.\u001b[0m\u001b[0mappend\u001b[0m\u001b[1;33m(\u001b[0m\u001b[0mnumbers\u001b[0m\u001b[1;33m[\u001b[0m\u001b[1;33m-\u001b[0m\u001b[1;36m1\u001b[0m\u001b[1;33m]\u001b[0m\u001b[1;33m)\u001b[0m\u001b[1;33m\u001b[0m\u001b[1;33m\u001b[0m\u001b[0m\n\u001b[0;32m     38\u001b[0m             \u001b[1;32mdel\u001b[0m \u001b[0mnumbers\u001b[0m\u001b[1;33m[\u001b[0m\u001b[1;33m-\u001b[0m\u001b[1;36m1\u001b[0m\u001b[1;33m]\u001b[0m\u001b[1;33m\u001b[0m\u001b[1;33m\u001b[0m\u001b[0m\n",
      "\u001b[1;31mKeyboardInterrupt\u001b[0m: "
     ]
    }
   ],
   "source": [
    "# https://www.acmicpc.net/problem/1874\n",
    "\n",
    "# 문제 설명이 좀 그렇다.\n",
    "\n",
    "n = input()\n",
    "numbers = list([input() for i in range(0, int(n))]);\n",
    "\n",
    "# 일단 첫번째 수까지는 계속 push\n",
    "# 첫번째 수를 pop\n",
    "# 두번째 수가 첫번째 수보다 크다면 거기까지 push\n",
    "# 그리고 바로 pop\n",
    "stack = list()\n",
    "popStack = list()\n",
    "\n",
    "# 잎으로 딱 16턴만 돌거임\n",
    "num = 1\n",
    "push_count = 0\n",
    "pop_count = 0\n",
    "numbers_index = 0\n",
    "while push_count<8 or push_count<8:\n",
    "    # 턴의 시작은 push_count가 8인지 확인후 \n",
    "    # 8이면 numbers 있는걸 pop함\n",
    "    if push_count==8:\n",
    "        popStack.append(numbers[-1])\n",
    "        del numbers[-1]\n",
    "        pop_count+=1\n",
    "    # 아니라면 numbers의 가장 앞이 num보다 큰지 확인\n",
    "    else:\n",
    "        # 크다면 한개를 push\n",
    "        if int(numbers[0]) >= num:\n",
    "            stack.append(num)\n",
    "            num+=1\n",
    "            push_count+=1\n",
    "            print(stack)\n",
    "        # 작고 1개 차이나면 pop, 같으면 pop\n",
    "        elif int(numbers[0]) == num+1 or int(numbers[0])== num:\n",
    "            popStack.append(numbers[-1])\n",
    "            del numbers[-1]\n",
    "            pop_count+=1\n",
    "        # 작은데 2개 이상 차이나면 NO출력\n",
    "            print(\"NO\")\n",
    "            break\n",
    "# 다 돌았으면 popStack이랑 numbers랑 같은지 확인\n",
    "print(popStack)\n",
    "print(numbers)\n",
    "\n"
   ]
  },
  {
   "cell_type": "code",
   "execution_count": null,
   "metadata": {},
   "outputs": [],
   "source": []
  }
 ],
 "metadata": {
  "kernelspec": {
   "display_name": "Python 3",
   "language": "python",
   "name": "python3"
  },
  "language_info": {
   "codemirror_mode": {
    "name": "ipython",
    "version": 3
   },
   "file_extension": ".py",
   "mimetype": "text/x-python",
   "name": "python",
   "nbconvert_exporter": "python",
   "pygments_lexer": "ipython3",
   "version": "3.7.1"
  }
 },
 "nbformat": 4,
 "nbformat_minor": 2
}
