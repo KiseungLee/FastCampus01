{
 "cells": [
  {
   "cell_type": "code",
   "execution_count": 1,
   "metadata": {},
   "outputs": [],
   "source": [
    "# acmicpc.net/problem/10282 해킹"
   ]
  },
  {
   "cell_type": "code",
   "execution_count": 1,
   "metadata": {},
   "outputs": [
    {
     "name": "stdout",
     "output_type": "stream",
     "text": [
      "1\n"
     ]
    }
   ],
   "source": [
    "k = int(input())"
   ]
  },
  {
   "cell_type": "code",
   "execution_count": 2,
   "metadata": {},
   "outputs": [
    {
     "name": "stdout",
     "output_type": "stream",
     "text": [
      "3 3 1\n"
     ]
    }
   ],
   "source": [
    "# n : 컴퓨터 갯수\n",
    "# d : 의존성 갯수\n",
    "# c : 해킹당한 컴퓨터 번호\n",
    "n, d, c = map(int, input().split())"
   ]
  },
  {
   "cell_type": "code",
   "execution_count": 21,
   "metadata": {},
   "outputs": [],
   "source": [
    "# key = (a, b) , value = s 로 하는 dictionary\n",
    "sec_dict = {}\n",
    "# key = a, value = b로 하는 dictionary\n",
    "find_parent = {}\n",
    "dependency = [[0] for _ in range(n+1)]"
   ]
  },
  {
   "cell_type": "code",
   "execution_count": 22,
   "metadata": {},
   "outputs": [
    {
     "name": "stdout",
     "output_type": "stream",
     "text": [
      "2 1 2\n",
      "3 1 8\n",
      "3 2 4\n"
     ]
    }
   ],
   "source": [
    "for _ in range(d):\n",
    "    a, b, s = map(int, input().split())\n",
    "    dependency[b].append(a)\n",
    "    find_parent[a] = b\n",
    "    sec_dict[(a, b)] = s"
   ]
  },
  {
   "cell_type": "code",
   "execution_count": 30,
   "metadata": {},
   "outputs": [
    {
     "name": "stdout",
     "output_type": "stream",
     "text": [
      "{(2, 1): 2, (3, 1): 8, (3, 2): 4}\n",
      "{2: 1, 3: 2}\n",
      "[[0], [0, 2, 3], [0, 3], [0]]\n"
     ]
    }
   ],
   "source": [
    "print(sec_dict)\n",
    "print(find_parent)\n",
    "print(dependency)"
   ]
  },
  {
   "cell_type": "code",
   "execution_count": 27,
   "metadata": {},
   "outputs": [],
   "source": [
    "visited = [0]\n",
    "def bfs(v):\n",
    "    if v not in visited:\n",
    "        temp = dependency[v]\n",
    "        visited.append(v)\n",
    "        for i in temp:\n",
    "            bfs(i)"
   ]
  },
  {
   "cell_type": "code",
   "execution_count": 28,
   "metadata": {},
   "outputs": [],
   "source": [
    "bfs(c)"
   ]
  },
  {
   "cell_type": "code",
   "execution_count": 29,
   "metadata": {},
   "outputs": [
    {
     "data": {
      "text/plain": [
       "[0, 1, 2, 3]"
      ]
     },
     "execution_count": 29,
     "metadata": {},
     "output_type": "execute_result"
    }
   ],
   "source": [
    "visited\n",
    "\n",
    "# 부모가 둘일수 있구나...\n",
    "# 쉽다고 생각했는데 구현하다 보니 고려 못했던 얘들이 계속 나오네. "
   ]
  },
  {
   "cell_type": "code",
   "execution_count": null,
   "metadata": {},
   "outputs": [],
   "source": []
  },
  {
   "cell_type": "code",
   "execution_count": null,
   "metadata": {},
   "outputs": [],
   "source": []
  },
  {
   "cell_type": "code",
   "execution_count": 2,
   "metadata": {},
   "outputs": [],
   "source": [
    "# acmicpc.net/problem/5719 거의 최단 경로"
   ]
  },
  {
   "cell_type": "code",
   "execution_count": 3,
   "metadata": {},
   "outputs": [],
   "source": [
    "# acmicpc.net/problem/1774 우주신과의 교감"
   ]
  },
  {
   "cell_type": "code",
   "execution_count": null,
   "metadata": {},
   "outputs": [],
   "source": []
  }
 ],
 "metadata": {
  "kernelspec": {
   "display_name": "Python 3",
   "language": "python",
   "name": "python3"
  },
  "language_info": {
   "codemirror_mode": {
    "name": "ipython",
    "version": 3
   },
   "file_extension": ".py",
   "mimetype": "text/x-python",
   "name": "python",
   "nbconvert_exporter": "python",
   "pygments_lexer": "ipython3",
   "version": "3.7.1"
  }
 },
 "nbformat": 4,
 "nbformat_minor": 2
}
