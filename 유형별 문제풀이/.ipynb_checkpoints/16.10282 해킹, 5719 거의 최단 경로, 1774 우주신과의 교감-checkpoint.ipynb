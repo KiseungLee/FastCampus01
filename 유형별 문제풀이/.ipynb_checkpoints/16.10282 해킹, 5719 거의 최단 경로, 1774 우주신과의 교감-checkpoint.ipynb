{
 "cells": [
  {
   "cell_type": "code",
   "execution_count": 1,
   "metadata": {},
   "outputs": [],
   "source": [
    "# acmicpc.net/problem/10282 해킹"
   ]
  },
  {
   "cell_type": "code",
   "execution_count": 2,
   "metadata": {},
   "outputs": [
    {
     "name": "stdout",
     "output_type": "stream",
     "text": [
      "1\n"
     ]
    }
   ],
   "source": [
    "# 테스트 케이스 수\n",
    "k = int(input())"
   ]
  },
  {
   "cell_type": "code",
   "execution_count": 3,
   "metadata": {},
   "outputs": [
    {
     "name": "stdout",
     "output_type": "stream",
     "text": [
      "3 3 1\n"
     ]
    }
   ],
   "source": [
    "# n : 컴퓨터 갯수\n",
    "# d : 의존성 갯수\n",
    "# c : 해킹당한 컴퓨터 번호\n",
    "n, d, c = map(int, input().split())"
   ]
  },
  {
   "cell_type": "code",
   "execution_count": 1,
   "metadata": {},
   "outputs": [],
   "source": [
    "class Node:\n",
    "    def __init__(self, idx):\n",
    "        self.idx = idx\n",
    "        self.time = -1\n",
    "        self.child = []"
   ]
  },
  {
   "cell_type": "code",
   "execution_count": 23,
   "metadata": {},
   "outputs": [],
   "source": [
    "# key = (a, b) , value = s 로 하는 dictionary\n",
    "sec_dict = {}\n",
    "# key = value, value = Node()로 하는 dictionary\n",
    "node_dict = {}"
   ]
  },
  {
   "cell_type": "code",
   "execution_count": 24,
   "metadata": {},
   "outputs": [],
   "source": [
    "# node_dict에 노드들 추가\n",
    "for i in range(1, n+1):\n",
    "    node_dict[i] = Node(i)"
   ]
  },
  {
   "cell_type": "code",
   "execution_count": 25,
   "metadata": {},
   "outputs": [
    {
     "name": "stdout",
     "output_type": "stream",
     "text": [
      "2 1 2\n",
      "3 1 8\n",
      "3 2 4\n"
     ]
    }
   ],
   "source": [
    "for _ in range(d):\n",
    "    a, b, s = map(int, input().split())\n",
    "    sec_dict[(a,b)] = s\n",
    "    node_dict[b].child.append(a)"
   ]
  },
  {
   "cell_type": "code",
   "execution_count": 26,
   "metadata": {},
   "outputs": [],
   "source": [
    "def bfs(v, s):\n",
    "    now = node_dict[v]\n",
    "    if now.time==-1 or now.time > s:\n",
    "        childs = now.child\n",
    "        now.time = s\n",
    "        for child in childs:\n",
    "            idx = node_dict[child].idx\n",
    "            sec = sec_dict[(idx, v)]\n",
    "            print(idx, s+sec)\n",
    "            bfs(idx, s+sec)"
   ]
  },
  {
   "cell_type": "code",
   "execution_count": 27,
   "metadata": {},
   "outputs": [
    {
     "name": "stdout",
     "output_type": "stream",
     "text": [
      "2 2\n",
      "3 6\n",
      "3 8\n"
     ]
    }
   ],
   "source": [
    "bfs(1, 0)"
   ]
  },
  {
   "cell_type": "code",
   "execution_count": 33,
   "metadata": {},
   "outputs": [
    {
     "name": "stdout",
     "output_type": "stream",
     "text": [
      "3 6\n"
     ]
    }
   ],
   "source": [
    "count = 0\n",
    "max = 0\n",
    "for p in node_dict:\n",
    "    if node_dict[p].time!=-1:\n",
    "        count+=1\n",
    "    if node_dict[p].time > max:\n",
    "        max = node_dict[p].time\n",
    "print(count, max)"
   ]
  },
  {
   "cell_type": "code",
   "execution_count": 32,
   "metadata": {},
   "outputs": [
    {
     "data": {
      "text/plain": [
       "6"
      ]
     },
     "execution_count": 32,
     "metadata": {},
     "output_type": "execute_result"
    }
   ],
   "source": [
    "max"
   ]
  },
  {
   "cell_type": "code",
   "execution_count": 35,
   "metadata": {
    "scrolled": true
   },
   "outputs": [
    {
     "name": "stdout",
     "output_type": "stream",
     "text": [
      "2\n",
      "3 2 2\n",
      "2 1 5\n",
      "3 2 5\n",
      "2 5\n",
      "3 3 1\n",
      "2 1 2\n",
      "3 1 8\n",
      "3 2 4\n",
      "3 6\n"
     ]
    }
   ],
   "source": [
    "# 테스트 케이스 수\n",
    "k = int(input())\n",
    "\n",
    "# 노드 클래스 만듬. \n",
    "class Node:\n",
    "    def __init__(self, idx):\n",
    "        self.idx = idx\n",
    "        self.time = -1\n",
    "        self.child = []    \n",
    "\n",
    "# 만들어진 노드로 bfs를 돌건데 조금 특이한 bfs임.\n",
    "# 일단 노드의 index와 index 노드까지 온 시간 s를 받음.\n",
    "# index노드에 시간이 -1이라면 아직 아무 바이러스도 도착하지 않은 것 이므로 탐색을 진행함.\n",
    "# 탐색 했던 거더라도 새로받은 s가 노드가 가지고 있던 time보다 작다면 s를 입력해줌.\n",
    "def bfs(v, s):\n",
    "    now = node_dict[v]\n",
    "    if now.time==-1 or now.time > s:\n",
    "        childs = now.child\n",
    "        now.time = s\n",
    "        for child in childs:\n",
    "            idx = node_dict[child].idx\n",
    "            sec = sec_dict[(idx, v)]\n",
    "            bfs(idx, s+sec)\n",
    "                \n",
    "for x in range(k):\n",
    "    # n : 컴퓨터 갯수\n",
    "    # d : 의존성 갯수\n",
    "    # c : 해킹당한 컴퓨터 번호\n",
    "    n, d, c = map(int, input().split())\n",
    "    \n",
    "    # key = (a, b) , value = s 로 하는 dictionary\n",
    "    sec_dict = {}\n",
    "    # key = value, value = Node()로 하는 dictionary\n",
    "    node_dict = {}\n",
    "    \n",
    "    # node_dict에 노드들 추가\n",
    "    for i in range(1, n+1):\n",
    "        node_dict[i] = Node(i)\n",
    "        \n",
    "    for _ in range(d):\n",
    "        a, b, s = map(int, input().split())\n",
    "        sec_dict[(a,b)] = s\n",
    "        node_dict[b].child.append(a)\n",
    "        \n",
    "    bfs(c, 0)\n",
    "    \n",
    "    count = 0\n",
    "    max = 0\n",
    "    for p in node_dict:\n",
    "        if node_dict[p].time!=-1:\n",
    "            count+=1\n",
    "        if node_dict[p].time > max:\n",
    "            max = node_dict[p].time\n",
    "    print(count, max)\n",
    "    \n",
    "# 왜 런타임 에러가 날까... 후..."
   ]
  },
  {
   "cell_type": "code",
   "execution_count": 37,
   "metadata": {},
   "outputs": [
    {
     "name": "stdout",
     "output_type": "stream",
     "text": [
      "1 2\n",
      "5 4\n",
      "0 0\n"
     ]
    }
   ],
   "source": [
    "# acmicpc.net/problem/5719 거의 최단 경로\n",
    "\n",
    "while True:\n",
    "    n, m = map(int, input().split())\n",
    "    if n==0 and m==0:\n",
    "        break"
   ]
  },
  {
   "cell_type": "code",
   "execution_count": 99,
   "metadata": {},
   "outputs": [],
   "source": [
    "class Node:\n",
    "    def __init__(self, idx):\n",
    "        self.idx = idx\n",
    "        self.time = -1\n",
    "        self.route = \"\"\n",
    "        self.child = []"
   ]
  },
  {
   "cell_type": "code",
   "execution_count": 106,
   "metadata": {},
   "outputs": [
    {
     "name": "stdout",
     "output_type": "stream",
     "text": [
      "7 9\n"
     ]
    }
   ],
   "source": [
    "n, m = map(int, input().split())\n",
    "length_dict = {} # (u, v) -> p\n",
    "node_dict = {}   # 최단경로를 찾을 dictionary\n",
    "node_dict2 = {}  # 거의 최단경로를 찾을 dictionary\n",
    "for i in range(n):\n",
    "    node_dict[i] = Node(i)\n",
    "    node_dict2[i] = Node(i)"
   ]
  },
  {
   "cell_type": "code",
   "execution_count": 107,
   "metadata": {},
   "outputs": [
    {
     "name": "stdout",
     "output_type": "stream",
     "text": [
      "0 6\n"
     ]
    }
   ],
   "source": [
    "s, d = map(int, input().split())"
   ]
  },
  {
   "cell_type": "code",
   "execution_count": 108,
   "metadata": {
    "scrolled": true
   },
   "outputs": [
    {
     "name": "stdout",
     "output_type": "stream",
     "text": [
      "0 1 1\n",
      "0 2 1\n",
      "0 3 2\n",
      "0 4 3\n",
      "1 5 2\n",
      "2 6 4\n",
      "3 6 2\n",
      "4 6 4\n",
      "5 6 1\n"
     ]
    }
   ],
   "source": [
    "for _ in range(m):\n",
    "    u, v, p = map(int, input().split())\n",
    "    length_dict[(u, v)] = p\n",
    "    node_dict[u].child.append(v)\n",
    "    node_dict2[u].child.append(v)"
   ]
  },
  {
   "cell_type": "code",
   "execution_count": 109,
   "metadata": {},
   "outputs": [],
   "source": [
    "def bfs(v, s, route):\n",
    "    now = node_dict[v]\n",
    "    now_sec = now.time\n",
    "    if now_sec==-1 or now_sec > s:\n",
    "        now.time = s\n",
    "        now.route = str(route)\n",
    "        childs_idx = now.child\n",
    "        if v == d:\n",
    "            return\n",
    "        else:\n",
    "            for idx in childs_idx:\n",
    "                if (v, idx) in length_dict:\n",
    "                    s2 = length_dict[(v, idx)]\n",
    "                    bfs(idx, s+s2, str(route) + str(idx))"
   ]
  },
  {
   "cell_type": "code",
   "execution_count": 110,
   "metadata": {
    "scrolled": false
   },
   "outputs": [],
   "source": [
    "bfs(s, 0, str(s))"
   ]
  },
  {
   "cell_type": "code",
   "execution_count": 112,
   "metadata": {},
   "outputs": [
    {
     "name": "stdout",
     "output_type": "stream",
     "text": [
      "0 0\n",
      "1 01\n",
      "1 02\n",
      "2 03\n",
      "3 04\n",
      "3 015\n",
      "4 0156\n"
     ]
    }
   ],
   "source": [
    "for i in node_dict:\n",
    "    node = node_dict[i]\n",
    "    print(node.time, node.route)\n",
    "    \n",
    "# 아 지금 구조로는 최단거리가 2개인 경우를 못거르네\n",
    "# 근본부터 고쳐야되네 후..."
   ]
  },
  {
   "cell_type": "code",
   "execution_count": 3,
   "metadata": {},
   "outputs": [],
   "source": [
    "# acmicpc.net/problem/1774 우주신과의 교감"
   ]
  },
  {
   "cell_type": "code",
   "execution_count": null,
   "metadata": {},
   "outputs": [],
   "source": []
  }
 ],
 "metadata": {
  "kernelspec": {
   "display_name": "Python 3",
   "language": "python",
   "name": "python3"
  },
  "language_info": {
   "codemirror_mode": {
    "name": "ipython",
    "version": 3
   },
   "file_extension": ".py",
   "mimetype": "text/x-python",
   "name": "python",
   "nbconvert_exporter": "python",
   "pygments_lexer": "ipython3",
   "version": "3.7.4"
  }
 },
 "nbformat": 4,
 "nbformat_minor": 2
}
