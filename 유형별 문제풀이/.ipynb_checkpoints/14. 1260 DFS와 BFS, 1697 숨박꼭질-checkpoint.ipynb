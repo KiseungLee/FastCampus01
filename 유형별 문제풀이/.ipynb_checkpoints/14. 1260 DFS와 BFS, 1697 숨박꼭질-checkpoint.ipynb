{
 "cells": [
  {
   "cell_type": "code",
   "execution_count": 52,
   "metadata": {},
   "outputs": [
    {
     "name": "stdout",
     "output_type": "stream",
     "text": [
      "4 5 1\n"
     ]
    }
   ],
   "source": [
    "# acmicpc.net/problem/1260 DFS와 BFS\n",
    "n, m, v = map(int, input().split())\n",
    "\n",
    "array = [[] for _ in range(n+1)]"
   ]
  },
  {
   "cell_type": "code",
   "execution_count": 53,
   "metadata": {},
   "outputs": [
    {
     "data": {
      "text/plain": [
       "[[], [], [], [], []]"
      ]
     },
     "execution_count": 53,
     "metadata": {},
     "output_type": "execute_result"
    }
   ],
   "source": [
    "array"
   ]
  },
  {
   "cell_type": "code",
   "execution_count": 54,
   "metadata": {
    "scrolled": true
   },
   "outputs": [
    {
     "name": "stdout",
     "output_type": "stream",
     "text": [
      "1 2\n",
      "1 3\n",
      "1 4\n",
      "2 4\n",
      "3 4\n"
     ]
    }
   ],
   "source": [
    "for _ in range(m):\n",
    "    a, b = map(int, input().split())\n",
    "    array[a].append(b)\n",
    "    array[b].append(a)"
   ]
  },
  {
   "cell_type": "code",
   "execution_count": 55,
   "metadata": {},
   "outputs": [
    {
     "data": {
      "text/plain": [
       "[[], [2, 3, 4], [1, 4], [1, 4], [1, 2, 3]]"
      ]
     },
     "execution_count": 55,
     "metadata": {},
     "output_type": "execute_result"
    }
   ],
   "source": [
    "array"
   ]
  },
  {
   "cell_type": "code",
   "execution_count": 67,
   "metadata": {},
   "outputs": [
    {
     "data": {
      "text/plain": [
       "[[], [4, 3, 2], [4, 1], [4, 1], [3, 2, 1]]"
      ]
     },
     "execution_count": 67,
     "metadata": {},
     "output_type": "execute_result"
    }
   ],
   "source": [
    "array = [sorted(i, reverse=True) for i in array]\n",
    "array"
   ]
  },
  {
   "cell_type": "code",
   "execution_count": 65,
   "metadata": {},
   "outputs": [
    {
     "name": "stdout",
     "output_type": "stream",
     "text": [
      "1 2 4 3 "
     ]
    }
   ],
   "source": [
    "will_visit = [v]\n",
    "visited = []\n",
    "\n",
    "while len(will_visit) > 0:\n",
    "    num = will_visit.pop()\n",
    "    if num not in visited:\n",
    "        for i in array[num]:\n",
    "            will_visit.append(i)\n",
    "        visited.append(num)\n",
    "        \n",
    "for i in visited:\n",
    "    print(i, end=' ')"
   ]
  },
  {
   "cell_type": "code",
   "execution_count": 66,
   "metadata": {},
   "outputs": [
    {
     "data": {
      "text/plain": [
       "[[], [2, 3, 4], [1, 4], [1, 4], [1, 2, 3]]"
      ]
     },
     "execution_count": 66,
     "metadata": {},
     "output_type": "execute_result"
    }
   ],
   "source": [
    "array = [sorted(i) for i in array]\n",
    "array"
   ]
  },
  {
   "cell_type": "code",
   "execution_count": 60,
   "metadata": {},
   "outputs": [
    {
     "name": "stdout",
     "output_type": "stream",
     "text": [
      "[1, 2, 3, 4]\n"
     ]
    }
   ],
   "source": [
    "will_visit = [v]\n",
    "visited = []\n",
    "\n",
    "while len(will_visit) > 0:\n",
    "    num = will_visit.pop(0)\n",
    "    if num not in visited:\n",
    "        for i in array[num]:\n",
    "            will_visit.append(i)\n",
    "        visited.append(num)\n",
    "        \n",
    "print(visited)"
   ]
  },
  {
   "cell_type": "code",
   "execution_count": 61,
   "metadata": {},
   "outputs": [
    {
     "data": {
      "text/plain": [
       "[]"
      ]
     },
     "execution_count": 61,
     "metadata": {},
     "output_type": "execute_result"
    }
   ],
   "source": [
    "will_visit"
   ]
  },
  {
   "cell_type": "code",
   "execution_count": null,
   "metadata": {},
   "outputs": [],
   "source": []
  },
  {
   "cell_type": "code",
   "execution_count": null,
   "metadata": {},
   "outputs": [],
   "source": []
  },
  {
   "cell_type": "code",
   "execution_count": 72,
   "metadata": {},
   "outputs": [
    {
     "name": "stdout",
     "output_type": "stream",
     "text": [
      "5 17\n",
      "3\n"
     ]
    }
   ],
   "source": [
    "# acmicpc.net/problem/1697 숨박꼭질\n",
    "\n",
    "# 1. 동생이 뒤에 있을 때 -> 수빈이는 그냥 X-1만 해야됨\n",
    "# 2. 동생이 앞에 있을 때 -> 2-1. 수빈이가 동생 뒤까지 2*X 한 다음 X+1로 남은 거리 가기\n",
    "#                        -> 2-2. 수빈이가 동생을 앞질러 2*X 한 다음 X-1로 초과한 거리 가기\n",
    "\n",
    "n, k = map(int, input().split())\n",
    "\n",
    "if(k==n):\n",
    "    print(1)\n",
    "elif(k<n):\n",
    "    print(n-k)\n",
    "else:\n",
    "    while(n<k):\n",
    "        n = 2*n\n",
    "    # while을 나오면 수빈이는 2*X로 동생을 앞지른 상태\n",
    "    n2 = n/2 # n2는 앞지르기 직전까지 온 수빈이\n",
    "    print(int(min(k-n2, n-k)))"
   ]
  },
  {
   "cell_type": "code",
   "execution_count": null,
   "metadata": {},
   "outputs": [],
   "source": []
  }
 ],
 "metadata": {
  "kernelspec": {
   "display_name": "Python 3",
   "language": "python",
   "name": "python3"
  },
  "language_info": {
   "codemirror_mode": {
    "name": "ipython",
    "version": 3
   },
   "file_extension": ".py",
   "mimetype": "text/x-python",
   "name": "python",
   "nbconvert_exporter": "python",
   "pygments_lexer": "ipython3",
   "version": "3.7.1"
  }
 },
 "nbformat": 4,
 "nbformat_minor": 2
}
