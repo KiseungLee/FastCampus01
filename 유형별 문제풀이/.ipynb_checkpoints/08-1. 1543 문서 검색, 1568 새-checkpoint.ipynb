{
 "cells": [
  {
   "cell_type": "code",
   "execution_count": 17,
   "metadata": {},
   "outputs": [
    {
     "name": "stdout",
     "output_type": "stream",
     "text": [
      "wqenqwenqwenqwen\n",
      "n\n",
      "4\n"
     ]
    }
   ],
   "source": [
    "# https://www.acmicpc.net/problem/1543\n",
    "\n",
    "# 검색 대상 스트링 max 2500\n",
    "# 검색 단어 길이 max 50\n",
    "\n",
    "doc = input()\n",
    "word = input()\n",
    "\n",
    "word_index = 0\n",
    "word_flag = False\n",
    "word_count = 0\n",
    "\n",
    "for i in range(len(doc)):\n",
    "    c = doc[i]\n",
    "    # 탐색 시작하지 않았는데 같은거 발견시 -> 탐색 시작 -> 검색 글자가 1글자인 경우 예외 처리 해줘야됨\n",
    "    if word_flag==False and c==word[word_index]:\n",
    "        if len(word)==1:\n",
    "            word_count+=1\n",
    "        else:\n",
    "            word_index+=1\n",
    "            word_flag=True\n",
    "    # 탐색 중인데 다음 문자 맞고, 인덱스가 마지막일때 -> 1개 발견 및 초기화\n",
    "    elif word_flag==True and c==word[word_index] and word_index==len(word)-1:\n",
    "        print('off1')\n",
    "        word_count+=1\n",
    "        word_flag=False\n",
    "        word_index=0\n",
    "    # 탐색 중인데 다음 문자 맞고, 인덱스가 마지막은 아닐때 -> 계속 진행\n",
    "    elif word_flag==True and c==word[word_index] and word_index!=len(word)-1:\n",
    "        word_index+=1\n",
    "    # 탐색 중인데 다음 문자가 아닐경우 -> word 값들 초기화, doc인덱스 i는 뒤로 한\n",
    "    elif word_flag==True and c!=word[word_index]:\n",
    "        word_flag=False\n",
    "        word_index=0\n",
    "        i-=1\n",
    "        \n",
    "print(word_count)\n",
    "\n",
    "# 라이브러리 안쓰고 기본 배열 순회로 풀려고 했는데\n",
    "# 어디서 틀리는 부분이 있나보다."
   ]
  },
  {
   "cell_type": "code",
   "execution_count": 34,
   "metadata": {},
   "outputs": [
    {
     "name": "stdout",
     "output_type": "stream",
     "text": [
      "abababa\n",
      "ab\n",
      "3\n"
     ]
    }
   ],
   "source": [
    "# https://www.acmicpc.net/problem/1543\n",
    "\n",
    "# 검색 대상 스트링 max 2500\n",
    "# 검색 단어 길이 max 50\n",
    "\n",
    "doc = input()\n",
    "word = input()\n",
    "\n",
    "count = 0\n",
    "\n",
    "while True:\n",
    "    find = doc.find(word)\n",
    "    if find >=0 :\n",
    "        doc = doc[find+len(word):]\n",
    "        count+=1\n",
    "    else:\n",
    "        break\n",
    "\n",
    "print(count)\n",
    "\n",
    "# 라이브러리 쓰면 쉽지"
   ]
  },
  {
   "cell_type": "code",
   "execution_count": null,
   "metadata": {},
   "outputs": [],
   "source": []
  },
  {
   "cell_type": "code",
   "execution_count": null,
   "metadata": {},
   "outputs": [],
   "source": []
  },
  {
   "cell_type": "code",
   "execution_count": null,
   "metadata": {},
   "outputs": [],
   "source": []
  },
  {
   "cell_type": "code",
   "execution_count": 36,
   "metadata": {},
   "outputs": [
    {
     "name": "stdout",
     "output_type": "stream",
     "text": [
      "14\n",
      "7\n"
     ]
    }
   ],
   "source": [
    "# https://www.acmicpc.net/problem/1568\n",
    "\n",
    "n = int(input())\n",
    "\n",
    "count = 0\n",
    "sing = 1\n",
    "\n",
    "while n>0:\n",
    "    if sing<=n:\n",
    "        n -= sing\n",
    "        count+=1\n",
    "        sing +=1\n",
    "    else:\n",
    "        sing=1\n",
    "        \n",
    "print(count)\n",
    "\n",
    "# 문제 읽기 시작해서 3분 컷"
   ]
  },
  {
   "cell_type": "code",
   "execution_count": null,
   "metadata": {},
   "outputs": [],
   "source": []
  },
  {
   "cell_type": "code",
   "execution_count": 43,
   "metadata": {
    "scrolled": true
   },
   "outputs": [
    {
     "name": "stdout",
     "output_type": "stream",
     "text": [
      "9\n",
      "jq\n",
      "a\n",
      "e\n",
      "eq\n",
      "v\n",
      "v\n",
      "v\n",
      "a\n",
      "a\n",
      "{'jq': 1, 'a': 3, 'e': 1, 'eq': 1, 'v': 3}\n",
      "['v', 'a', 'jq', 'eq', 'e']\n",
      "v\n"
     ]
    }
   ],
   "source": [
    "# https://www.acmicpc.net/problem/1302\n",
    "\n",
    "n = int(input())\n",
    "dic = dict()\n",
    "for _ in range(n):\n",
    "    name = input()\n",
    "    if dic.get(name)==None:\n",
    "        dic[name] = 1\n",
    "    else:\n",
    "        dic[name] = dic[name]+1\n",
    "\n",
    "dic = sorted(dic, key=lambda x:(dic[x], x), reverse=True )\n",
    "\n",
    "print(dic[0])"
   ]
  },
  {
   "cell_type": "code",
   "execution_count": null,
   "metadata": {},
   "outputs": [],
   "source": []
  }
 ],
 "metadata": {
  "kernelspec": {
   "display_name": "Python 3",
   "language": "python",
   "name": "python3"
  }
 },
 "nbformat": 4,
 "nbformat_minor": 2
}
