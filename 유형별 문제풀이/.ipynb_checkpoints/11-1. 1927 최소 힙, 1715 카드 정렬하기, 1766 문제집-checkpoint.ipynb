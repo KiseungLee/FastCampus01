{
 "cells": [
  {
   "cell_type": "code",
   "execution_count": 1,
   "metadata": {},
   "outputs": [],
   "source": [
    "# https://www.acmicpc.net/problem/1927\n",
    "import math\n",
    "\n",
    "arr = []\n",
    "\n",
    "def append(value):\n",
    "    # 배열이 비어있는 경우 그냥 추가\n",
    "    if len(arr)==0:\n",
    "        arr.append(value)\n",
    "        return\n",
    "    \n",
    "    start = 0\n",
    "    end = len(arr)-1\n",
    "    mid = (start+end)//2\n",
    "    \n",
    "    # 입력받은 값이 배열 가장 끝 값보다 크면 맨 뒤에 추가\n",
    "    if value>arr[end]:\n",
    "        arr.append(value)\n",
    "        return\n",
    "    # 입력받은 값이 배열 가장 앞 값보다 작으면 맨 앞에 추가\n",
    "    if value < arr[start]:\n",
    "        arr.insert(0, value)\n",
    "        return\n",
    "    \n",
    "    # 그 외는 자리 찾아주기\n",
    "    while mid<end:\n",
    "        if value < arr[mid]:\n",
    "            end = mid\n",
    "            mid = math.ceil((start+end)/2)\n",
    "        elif value > arr[mid]:\n",
    "            start = mid\n",
    "            mid = math.ceil((start+end)/2)\n",
    "        else:\n",
    "            arr.insert(mid, value)\n",
    "            return    \n",
    "    arr.insert(mid, value)\n",
    "    \n",
    "    \n",
    "# 실행\n",
    "n = int(input())\n",
    "\n",
    "for _ in range(n):\n",
    "    m = int(input())\n",
    "    if m == 0:\n",
    "        if len(arr)==0:\n",
    "            print(0)\n",
    "        else:\n",
    "            print(arr.pop(0))\n",
    "    else:\n",
    "        append(m)\n",
    "        \n",
    "# O(nlog(n)) 으로 짰는데 시간초과 너무한거 아님?\n",
    "# 힙 트리구조 짜기 구찮아서 배열로 O(nlog(n)) 만들어서 그런가"
   ]
  },
  {
   "cell_type": "code",
   "execution_count": 6,
   "metadata": {},
   "outputs": [
    {
     "name": "stdout",
     "output_type": "stream",
     "text": [
      "3\n",
      "1-\n"
     ]
    },
    {
     "ename": "ValueError",
     "evalue": "invalid literal for int() with base 10: '1-'",
     "output_type": "error",
     "traceback": [
      "\u001b[1;31m---------------------------------------------------------------------------\u001b[0m",
      "\u001b[1;31mValueError\u001b[0m                                Traceback (most recent call last)",
      "\u001b[1;32m<ipython-input-6-decc965a7ca8>\u001b[0m in \u001b[0;36m<module>\u001b[1;34m\u001b[0m\n\u001b[0;32m     16\u001b[0m \u001b[1;33m\u001b[0m\u001b[0m\n\u001b[0;32m     17\u001b[0m \u001b[1;32mfor\u001b[0m \u001b[0m_\u001b[0m \u001b[1;32min\u001b[0m \u001b[0mrange\u001b[0m\u001b[1;33m(\u001b[0m\u001b[0mn\u001b[0m\u001b[1;33m)\u001b[0m\u001b[1;33m:\u001b[0m\u001b[1;33m\u001b[0m\u001b[1;33m\u001b[0m\u001b[0m\n\u001b[1;32m---> 18\u001b[1;33m     \u001b[0mdata\u001b[0m \u001b[1;33m=\u001b[0m \u001b[0mint\u001b[0m\u001b[1;33m(\u001b[0m\u001b[0minput\u001b[0m\u001b[1;33m(\u001b[0m\u001b[1;33m)\u001b[0m\u001b[1;33m)\u001b[0m\u001b[1;33m\u001b[0m\u001b[1;33m\u001b[0m\u001b[0m\n\u001b[0m\u001b[0;32m     19\u001b[0m     \u001b[1;32mif\u001b[0m \u001b[0mdata\u001b[0m \u001b[1;33m==\u001b[0m \u001b[1;36m0\u001b[0m\u001b[1;33m:\u001b[0m\u001b[1;33m\u001b[0m\u001b[1;33m\u001b[0m\u001b[0m\n\u001b[0;32m     20\u001b[0m         \u001b[1;32mif\u001b[0m \u001b[0mheap\u001b[0m\u001b[1;33m:\u001b[0m\u001b[1;33m\u001b[0m\u001b[1;33m\u001b[0m\u001b[0m\n",
      "\u001b[1;31mValueError\u001b[0m: invalid literal for int() with base 10: '1-'"
     ]
    }
   ],
   "source": [
    "# 선생님\n",
    "# 이 문제는 난이도 굉장히 낮은 문제임.\n",
    "# 힙 자료구조를 이해만 하고 있으면 풀 수 있음.\n",
    "# 물론 구현 할줄 알아야...\n",
    "\n",
    "# 파이썬에서 heapq 라는 라이브러리도 있음 ㅎㅎ\n",
    "# 기본 라이브러리 후진 언어는 개손해 아님?\n",
    "\n",
    "# 선생님은 그냥 바로 라이브러리 쓰셨네.\n",
    "\n",
    "import heapq\n",
    "\n",
    "n = int(input())\n",
    "heap = []\n",
    "result = []\n",
    "\n",
    "for _ in range(n):\n",
    "    data = int(input())\n",
    "    if data == 0:\n",
    "        if heap:\n",
    "            ## heappop\n",
    "            result.append(heapq.heappop(heap))\n",
    "        else:\n",
    "            result.append(0)\n",
    "    else:\n",
    "        ## heappush\n",
    "        heapq.heappush(heap, data)\n",
    "\n",
    "for data in result:\n",
    "    print(data)"
   ]
  },
  {
   "cell_type": "code",
   "execution_count": null,
   "metadata": {},
   "outputs": [],
   "source": []
  },
  {
   "cell_type": "code",
   "execution_count": null,
   "metadata": {},
   "outputs": [],
   "source": []
  },
  {
   "cell_type": "code",
   "execution_count": 36,
   "metadata": {},
   "outputs": [
    {
     "name": "stdout",
     "output_type": "stream",
     "text": [
      "3\n",
      "10\n",
      "20\n",
      "40\n",
      "100\n"
     ]
    }
   ],
   "source": [
    "# https://www.acmicpc.net/problem/1715\n",
    "\n",
    "import heapq\n",
    "\n",
    "n = int(input())\n",
    "arr = []\n",
    "\n",
    "for _ in range(n):\n",
    "    heapq.heappush(arr, int(input()))\n",
    "\n",
    "sum_all = 0;\n",
    "while len(arr)>1:\n",
    "    temp1 = heapq.heappop(arr)\n",
    "    temp2 = heapq.heappop(arr)\n",
    "    sum_all += temp1\n",
    "    sum_all += temp2\n",
    "    heapq.heappush(arr, temp1+temp2)\n",
    "    \n",
    "print(sum_all)\n",
    "\n",
    "# 일단 기본 라이브러리를 빠삭해야 하네\n",
    "# 하긴 모바일리더 코딩테스트 볼때도 java로 배열 정렬 어떻게 하는지 기억안나서 뻘짓한거 생각하면..."
   ]
  },
  {
   "cell_type": "code",
   "execution_count": 38,
   "metadata": {},
   "outputs": [
    {
     "name": "stdout",
     "output_type": "stream",
     "text": [
      "3\n",
      "10\n",
      "20\n",
      "40\n",
      "100\n"
     ]
    }
   ],
   "source": [
    "# 선생님\n",
    "\n",
    "# 이것도 이지한 문제임.\n",
    "# 일단 답은 가장 작은 숫자들부터 합치기 시작했을때가 총 합이 작음\n",
    "# 아니 이걸 수학적으로 이유를 설명해줘야지\n",
    "# 결과론적으론 누가 몰라요\n",
    "\n",
    "# 일단 생각해보자면, n개의 카드가 있을때 두개씩 합치면\n",
    "# 어떤 순서로 합치던 간에 총 m번 합치게됨.(적은 순서대로 합치던, 큰 순서대로 합치던, 무작위로 합치던 더하는 횟수는 동일)\n",
    "# 결국 어떤 순서로 합치던 같은 횟수만큼 합치게 되니까 \n",
    "# 가장 작은 숫자 카드를 자주쓰는게 총 합이 작겠지\n",
    "\n",
    "import heapq\n",
    "\n",
    "n = int(input())\n",
    "heap = []\n",
    "\n",
    "for i in range(n):\n",
    "    data = int(input())\n",
    "    heapq.heappush(heap, data)\n",
    "    \n",
    "result = 0\n",
    "\n",
    "while len(heap) != 1:\n",
    "    one = heapq.heappop(heap)\n",
    "    two = heapq.heappop(heap)\n",
    "    sum_value = one + two\n",
    "    result += sum_value\n",
    "    heapq.heappush(heap, sum_value)\n",
    "    \n",
    "print(result)"
   ]
  },
  {
   "cell_type": "code",
   "execution_count": null,
   "metadata": {},
   "outputs": [],
   "source": []
  },
  {
   "cell_type": "code",
   "execution_count": 111,
   "metadata": {
    "scrolled": true
   },
   "outputs": [
    {
     "name": "stdout",
     "output_type": "stream",
     "text": [
      "8 3\n",
      "8 2\n",
      "7 1\n",
      "5 4\n"
     ]
    }
   ],
   "source": [
    "### https://www.acmicpc.net/problem/1766\n",
    "n, m = map(int, input().split(' '))\n",
    "\n",
    "arr = [i for i in range(1, n+1)]\n",
    "\n",
    "easy = {}\n",
    "hard = {}\n",
    "\n",
    "for _ in range(m):\n",
    "    easy_num, hard_num = map(int, input().split(' '))\n",
    "    easy[easy_num] = hard_num\n",
    "    if hard.get(hard_num)==None:\n",
    "        hard[hard_num] = [easy_num]\n",
    "    else:\n",
    "        hard[hard_num].append(easy_num)"
   ]
  },
  {
   "cell_type": "code",
   "execution_count": 112,
   "metadata": {},
   "outputs": [
    {
     "name": "stdout",
     "output_type": "stream",
     "text": [
      "7 1 8 2 3 5 4 6 "
     ]
    }
   ],
   "source": [
    "gucha = []\n",
    "for i in arr:\n",
    "    if i in hard:\n",
    "        temp = hard[i]\n",
    "        temp = sorted(temp)\n",
    "        for j in temp:\n",
    "            if j not in gucha:\n",
    "                print(j, end=' ')\n",
    "                gucha.append(j)\n",
    "        print(i, end=' ')\n",
    "    elif i not in easy:\n",
    "        print(i, end=' ')\n",
    "        \n",
    "# 일단 이 구조 가져가면 될거 같은데\n",
    "# 어려운 문제가 쉬운문제 2개에 걸리는 경우나 -> 이건 됐음\n",
    "# 쉬운문제가 어려운문제 2개에 걸리는 경우 처리만 해주면 됨. \n",
    "\n",
    "# 다 해결된거 같은데 에러뜸\n",
    "# 제발 어떤 사례에서 틀렸는지좀 알려주라... "
   ]
  },
  {
   "cell_type": "code",
   "execution_count": 97,
   "metadata": {
    "scrolled": true
   },
   "outputs": [
    {
     "data": {
      "text/plain": [
       "{2: [], 3: [5]}"
      ]
     },
     "execution_count": 97,
     "metadata": {},
     "output_type": "execute_result"
    }
   ],
   "source": [
    "hard"
   ]
  },
  {
   "cell_type": "code",
   "execution_count": 96,
   "metadata": {},
   "outputs": [],
   "source": [
    "del hard[2][0]"
   ]
  },
  {
   "cell_type": "code",
   "execution_count": 2,
   "metadata": {
    "scrolled": false
   },
   "outputs": [
    {
     "name": "stdout",
     "output_type": "stream",
     "text": [
      "0 0\n"
     ]
    },
    {
     "ename": "KeyboardInterrupt",
     "evalue": "",
     "output_type": "error",
     "traceback": [
      "\u001b[1;31m---------------------------------------------------------------------------\u001b[0m",
      "\u001b[1;31mKeyboardInterrupt\u001b[0m                         Traceback (most recent call last)",
      "\u001b[1;32m~\\Anaconda3\\lib\\site-packages\\ipykernel\\kernelbase.py\u001b[0m in \u001b[0;36m_input_request\u001b[1;34m(self, prompt, ident, parent, password)\u001b[0m\n\u001b[0;32m    877\u001b[0m             \u001b[1;32mtry\u001b[0m\u001b[1;33m:\u001b[0m\u001b[1;33m\u001b[0m\u001b[1;33m\u001b[0m\u001b[0m\n\u001b[1;32m--> 878\u001b[1;33m                 \u001b[0mident\u001b[0m\u001b[1;33m,\u001b[0m \u001b[0mreply\u001b[0m \u001b[1;33m=\u001b[0m \u001b[0mself\u001b[0m\u001b[1;33m.\u001b[0m\u001b[0msession\u001b[0m\u001b[1;33m.\u001b[0m\u001b[0mrecv\u001b[0m\u001b[1;33m(\u001b[0m\u001b[0mself\u001b[0m\u001b[1;33m.\u001b[0m\u001b[0mstdin_socket\u001b[0m\u001b[1;33m,\u001b[0m \u001b[1;36m0\u001b[0m\u001b[1;33m)\u001b[0m\u001b[1;33m\u001b[0m\u001b[1;33m\u001b[0m\u001b[0m\n\u001b[0m\u001b[0;32m    879\u001b[0m             \u001b[1;32mexcept\u001b[0m \u001b[0mException\u001b[0m\u001b[1;33m:\u001b[0m\u001b[1;33m\u001b[0m\u001b[1;33m\u001b[0m\u001b[0m\n",
      "\u001b[1;32m~\\Anaconda3\\lib\\site-packages\\jupyter_client\\session.py\u001b[0m in \u001b[0;36mrecv\u001b[1;34m(self, socket, mode, content, copy)\u001b[0m\n\u001b[0;32m    802\u001b[0m         \u001b[1;32mtry\u001b[0m\u001b[1;33m:\u001b[0m\u001b[1;33m\u001b[0m\u001b[1;33m\u001b[0m\u001b[0m\n\u001b[1;32m--> 803\u001b[1;33m             \u001b[0mmsg_list\u001b[0m \u001b[1;33m=\u001b[0m \u001b[0msocket\u001b[0m\u001b[1;33m.\u001b[0m\u001b[0mrecv_multipart\u001b[0m\u001b[1;33m(\u001b[0m\u001b[0mmode\u001b[0m\u001b[1;33m,\u001b[0m \u001b[0mcopy\u001b[0m\u001b[1;33m=\u001b[0m\u001b[0mcopy\u001b[0m\u001b[1;33m)\u001b[0m\u001b[1;33m\u001b[0m\u001b[1;33m\u001b[0m\u001b[0m\n\u001b[0m\u001b[0;32m    804\u001b[0m         \u001b[1;32mexcept\u001b[0m \u001b[0mzmq\u001b[0m\u001b[1;33m.\u001b[0m\u001b[0mZMQError\u001b[0m \u001b[1;32mas\u001b[0m \u001b[0me\u001b[0m\u001b[1;33m:\u001b[0m\u001b[1;33m\u001b[0m\u001b[1;33m\u001b[0m\u001b[0m\n",
      "\u001b[1;32m~\\Anaconda3\\lib\\site-packages\\zmq\\sugar\\socket.py\u001b[0m in \u001b[0;36mrecv_multipart\u001b[1;34m(self, flags, copy, track)\u001b[0m\n\u001b[0;32m    466\u001b[0m         \"\"\"\n\u001b[1;32m--> 467\u001b[1;33m         \u001b[0mparts\u001b[0m \u001b[1;33m=\u001b[0m \u001b[1;33m[\u001b[0m\u001b[0mself\u001b[0m\u001b[1;33m.\u001b[0m\u001b[0mrecv\u001b[0m\u001b[1;33m(\u001b[0m\u001b[0mflags\u001b[0m\u001b[1;33m,\u001b[0m \u001b[0mcopy\u001b[0m\u001b[1;33m=\u001b[0m\u001b[0mcopy\u001b[0m\u001b[1;33m,\u001b[0m \u001b[0mtrack\u001b[0m\u001b[1;33m=\u001b[0m\u001b[0mtrack\u001b[0m\u001b[1;33m)\u001b[0m\u001b[1;33m]\u001b[0m\u001b[1;33m\u001b[0m\u001b[1;33m\u001b[0m\u001b[0m\n\u001b[0m\u001b[0;32m    468\u001b[0m         \u001b[1;31m# have first part already, only loop while more to receive\u001b[0m\u001b[1;33m\u001b[0m\u001b[1;33m\u001b[0m\u001b[1;33m\u001b[0m\u001b[0m\n",
      "\u001b[1;32mzmq/backend/cython/socket.pyx\u001b[0m in \u001b[0;36mzmq.backend.cython.socket.Socket.recv\u001b[1;34m()\u001b[0m\n",
      "\u001b[1;32mzmq/backend/cython/socket.pyx\u001b[0m in \u001b[0;36mzmq.backend.cython.socket.Socket.recv\u001b[1;34m()\u001b[0m\n",
      "\u001b[1;32mzmq/backend/cython/socket.pyx\u001b[0m in \u001b[0;36mzmq.backend.cython.socket._recv_copy\u001b[1;34m()\u001b[0m\n",
      "\u001b[1;32m~\\Anaconda3\\lib\\site-packages\\zmq\\backend\\cython\\checkrc.pxd\u001b[0m in \u001b[0;36mzmq.backend.cython.checkrc._check_rc\u001b[1;34m()\u001b[0m\n",
      "\u001b[1;31mKeyboardInterrupt\u001b[0m: ",
      "\nDuring handling of the above exception, another exception occurred:\n",
      "\u001b[1;31mKeyboardInterrupt\u001b[0m                         Traceback (most recent call last)",
      "\u001b[1;32m<ipython-input-2-3e2f7d7a2264>\u001b[0m in \u001b[0;36m<module>\u001b[1;34m\u001b[0m\n\u001b[0;32m     32\u001b[0m \u001b[1;33m\u001b[0m\u001b[0m\n\u001b[0;32m     33\u001b[0m \u001b[1;32mimport\u001b[0m \u001b[0mheapq\u001b[0m\u001b[1;33m\u001b[0m\u001b[1;33m\u001b[0m\u001b[0m\n\u001b[1;32m---> 34\u001b[1;33m \u001b[0mn\u001b[0m\u001b[1;33m,\u001b[0m \u001b[0mm\u001b[0m \u001b[1;33m=\u001b[0m \u001b[0mmap\u001b[0m\u001b[1;33m(\u001b[0m\u001b[0mint\u001b[0m\u001b[1;33m,\u001b[0m \u001b[0minput\u001b[0m\u001b[1;33m(\u001b[0m\u001b[1;33m)\u001b[0m\u001b[1;33m.\u001b[0m\u001b[0msplit\u001b[0m\u001b[1;33m(\u001b[0m\u001b[1;33m)\u001b[0m\u001b[1;33m)\u001b[0m\u001b[1;33m\u001b[0m\u001b[1;33m\u001b[0m\u001b[0m\n\u001b[0m\u001b[0;32m     35\u001b[0m \u001b[0marray\u001b[0m \u001b[1;33m=\u001b[0m \u001b[1;33m[\u001b[0m\u001b[1;33m[\u001b[0m\u001b[1;33m]\u001b[0m \u001b[1;32mfor\u001b[0m \u001b[0mi\u001b[0m \u001b[1;32min\u001b[0m \u001b[0mrange\u001b[0m\u001b[1;33m(\u001b[0m\u001b[0mn\u001b[0m \u001b[1;33m+\u001b[0m \u001b[1;36m1\u001b[0m\u001b[1;33m)\u001b[0m\u001b[1;33m]\u001b[0m\u001b[1;33m\u001b[0m\u001b[1;33m\u001b[0m\u001b[0m\n\u001b[0;32m     36\u001b[0m \u001b[0mindegree\u001b[0m \u001b[1;33m=\u001b[0m \u001b[1;33m[\u001b[0m\u001b[1;36m0\u001b[0m\u001b[1;33m]\u001b[0m \u001b[1;33m*\u001b[0m \u001b[1;33m(\u001b[0m\u001b[0mn\u001b[0m \u001b[1;33m+\u001b[0m \u001b[1;36m1\u001b[0m\u001b[1;33m)\u001b[0m\u001b[1;33m\u001b[0m\u001b[1;33m\u001b[0m\u001b[0m\n",
      "\u001b[1;32m~\\Anaconda3\\lib\\site-packages\\ipykernel\\kernelbase.py\u001b[0m in \u001b[0;36mraw_input\u001b[1;34m(self, prompt)\u001b[0m\n\u001b[0;32m    851\u001b[0m             \u001b[0mself\u001b[0m\u001b[1;33m.\u001b[0m\u001b[0m_parent_ident\u001b[0m\u001b[1;33m,\u001b[0m\u001b[1;33m\u001b[0m\u001b[1;33m\u001b[0m\u001b[0m\n\u001b[0;32m    852\u001b[0m             \u001b[0mself\u001b[0m\u001b[1;33m.\u001b[0m\u001b[0m_parent_header\u001b[0m\u001b[1;33m,\u001b[0m\u001b[1;33m\u001b[0m\u001b[1;33m\u001b[0m\u001b[0m\n\u001b[1;32m--> 853\u001b[1;33m             \u001b[0mpassword\u001b[0m\u001b[1;33m=\u001b[0m\u001b[1;32mFalse\u001b[0m\u001b[1;33m,\u001b[0m\u001b[1;33m\u001b[0m\u001b[1;33m\u001b[0m\u001b[0m\n\u001b[0m\u001b[0;32m    854\u001b[0m         )\n\u001b[0;32m    855\u001b[0m \u001b[1;33m\u001b[0m\u001b[0m\n",
      "\u001b[1;32m~\\Anaconda3\\lib\\site-packages\\ipykernel\\kernelbase.py\u001b[0m in \u001b[0;36m_input_request\u001b[1;34m(self, prompt, ident, parent, password)\u001b[0m\n\u001b[0;32m    881\u001b[0m             \u001b[1;32mexcept\u001b[0m \u001b[0mKeyboardInterrupt\u001b[0m\u001b[1;33m:\u001b[0m\u001b[1;33m\u001b[0m\u001b[1;33m\u001b[0m\u001b[0m\n\u001b[0;32m    882\u001b[0m                 \u001b[1;31m# re-raise KeyboardInterrupt, to truncate traceback\u001b[0m\u001b[1;33m\u001b[0m\u001b[1;33m\u001b[0m\u001b[1;33m\u001b[0m\u001b[0m\n\u001b[1;32m--> 883\u001b[1;33m                 \u001b[1;32mraise\u001b[0m \u001b[0mKeyboardInterrupt\u001b[0m\u001b[1;33m\u001b[0m\u001b[1;33m\u001b[0m\u001b[0m\n\u001b[0m\u001b[0;32m    884\u001b[0m             \u001b[1;32melse\u001b[0m\u001b[1;33m:\u001b[0m\u001b[1;33m\u001b[0m\u001b[1;33m\u001b[0m\u001b[0m\n\u001b[0;32m    885\u001b[0m                 \u001b[1;32mbreak\u001b[0m\u001b[1;33m\u001b[0m\u001b[1;33m\u001b[0m\u001b[0m\n",
      "\u001b[1;31mKeyboardInterrupt\u001b[0m: "
     ]
    }
   ],
   "source": [
    "# 선생님\n",
    "\n",
    "# 이 문제는 위상 정렬을 알고 있어야 잘 풀수 있음.\n",
    "# 그리고 위상 정렬을 다루는데 있어서 힙도 알고 있어야 함.\n",
    "\n",
    "# 위상정렬은 아마 이론때는 안배웠을거 같아서 여기서 다뤘음\n",
    "\n",
    "# 이 문제는 위상 정렬의 전형임. \n",
    "\n",
    "# 순서가 정해진 작업을 차례로 ㅅ행하고 순서를 결정할때 쓰는거\n",
    "\n",
    "# 위상정렬의 시간 복잡도는 O(V+E) 임\n",
    "\n",
    "\n",
    "\n",
    "# 위상 정렬 알고리즘을 잘 알아두자.\n",
    "\n",
    "# 1. 진입 차수가 0인 정점을 큐에 삽입함\n",
    "\n",
    "# 2. 큐에서 원소를 꺼내 해당 원소와 간선을 제거함.\n",
    "\n",
    "# 3. 제거 후 진입 차수가 0이된 정점을 큐에 삽입\n",
    "\n",
    "# 4. 큐가 빌때까지 위 과정을 반복.\n",
    "\n",
    "# * 모든 원소를 방문하기 전 큐가 빈다면 사이클이 존재하는것 -> 사이클이 존재하면 안됨.\n",
    "\n",
    "# * 모든 원소를 방문했다면 큐에서 꺼낸 순서가 위상 정렬의 결과임.\n",
    "\n",
    "\n",
    "# 힙을 우선순위 큐 라고도 부름. \n",
    "\n",
    "import heapq\n",
    "n, m = map(int, input().split())\n",
    "array = [[] for i in range(n + 1)]\n",
    "indegree = [0] * (n + 1)\n",
    "heap = []\n",
    "result = []\n",
    "\n",
    "# 그래프를 만들어줌\n",
    "for _ in range(m):\n",
    "    x, y = map(int, input().split())\n",
    "    array[x].append(y)\n",
    "    indegree[y] += 1 # 간선 수를 의미함.\n",
    "\n",
    "# 간선 수가 0인 노드를 힙에 넣음\n",
    "for i in range(1, n + 1):\n",
    "    if indegree[i] == 0:\n",
    "        heapq.heappush(heap, i)\n",
    "\n",
    "        \n",
    "result = []\n",
    "\n",
    "# 힙이 빌때 까지 돌림\n",
    "while heap:\n",
    "    data = heapq.heappop(heap)\n",
    "    result.append(data)\n",
    "    for y in array[data]:\n",
    "        indegree[y] -= 1 # 간선수를 줄이는걸 의미함.\n",
    "        if indegree[y] == 0: # 간선이 0이 된걸 다시 넣음.\n",
    "            heapq.heappush(heap, y)\n",
    "    \n",
    "for i in result:\n",
    "    print(i, end=' ')        "
   ]
  },
  {
   "cell_type": "code",
   "execution_count": null,
   "metadata": {},
   "outputs": [],
   "source": [
    "ㅈ"
   ]
  }
 ],
 "metadata": {
  "kernelspec": {
   "display_name": "Python 3",
   "language": "python",
   "name": "python3"
  },
  "language_info": {
   "codemirror_mode": {
    "name": "ipython",
    "version": 3
   },
   "file_extension": ".py",
   "mimetype": "text/x-python",
   "name": "python",
   "nbconvert_exporter": "python",
   "pygments_lexer": "ipython3",
   "version": "3.7.1"
  }
 },
 "nbformat": 4,
 "nbformat_minor": 2
}
