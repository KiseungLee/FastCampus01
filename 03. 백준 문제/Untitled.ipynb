{
 "cells": [
  {
   "cell_type": "code",
   "execution_count": 6,
   "metadata": {},
   "outputs": [
    {
     "name": "stdout",
     "output_type": "stream",
     "text": [
      "5\n",
      "7\n",
      "3 8\n",
      "8 1 0\n",
      "2 7 4 4\n",
      "4 5 2 6 5\n"
     ]
    }
   ],
   "source": [
    "# 데이터 입력\n",
    "n = int(input())\n",
    "triangle = []\n",
    "for _ in range(n):\n",
    "    triangle.append(list(map(int, input().split())))\n",
    "\n",
    "# dp 테이블 생성 \n",
    "# dp[i][j] = max(dp[i-1][j-1]+triange[i-1][j-1], dp[i-1][j]+triange[i-1][j]) (왼쪽, 오른쪽에서 다 받을 수 있을때. 왼쪽 경계와 오른쪽 경계는 따로 다뤄야 함)\n",
    "dp = [[0 for _ in range(i+1)] for i in range(n+1)]"
   ]
  },
  {
   "cell_type": "code",
   "execution_count": 7,
   "metadata": {},
   "outputs": [
    {
     "name": "stdout",
     "output_type": "stream",
     "text": [
      "[7]\n",
      "[3, 8]\n",
      "[8, 1, 0]\n",
      "[2, 7, 4, 4]\n",
      "[4, 5, 2, 6, 5]\n"
     ]
    }
   ],
   "source": [
    "for temp in triangle:\n",
    "    print(temp)"
   ]
  },
  {
   "cell_type": "code",
   "execution_count": 8,
   "metadata": {},
   "outputs": [
    {
     "name": "stdout",
     "output_type": "stream",
     "text": [
      "[0]\n",
      "[0, 0]\n",
      "[0, 0, 0]\n",
      "[0, 0, 0, 0]\n",
      "[0, 0, 0, 0, 0]\n",
      "[0, 0, 0, 0, 0, 0]\n"
     ]
    }
   ],
   "source": [
    "for temp in tri:\n",
    "    print(temp)"
   ]
  },
  {
   "cell_type": "code",
   "execution_count": 9,
   "metadata": {},
   "outputs": [],
   "source": [
    "# dp 연산\n",
    "for i in range(1, n+1):\n",
    "    for j in range(i+1):\n",
    "        dp[i][j] = max( (dp[i-1][j-1]+triangle[i-1][j-1]) if j-1>=0 else 0, (dp[i-1][j]+triangle[i-1][j]) if j<i else 0)"
   ]
  },
  {
   "cell_type": "code",
   "execution_count": 12,
   "metadata": {},
   "outputs": [
    {
     "name": "stdout",
     "output_type": "stream",
     "text": [
      "30\n"
     ]
    }
   ],
   "source": [
    "# 출력\n",
    "print(max(dp[n]))"
   ]
  },
  {
   "cell_type": "code",
   "execution_count": null,
   "metadata": {},
   "outputs": [],
   "source": [
    "# dp가 확실히 로직만 잘 잡으면 코드는 짧음\n",
    "# 근데 로직 안잡히는날 디지게 안잡힘\n",
    "\n",
    "n = int(input())\n",
    "triangle = []\n",
    "for _ in range(n):\n",
    "    triangle.append(list(map(int, input().split())))\n",
    "\n",
    "dp = [[0 for _ in range(i+1)] for i in range(n+1)]\n",
    "\n",
    "for i in range(1, n+1):\n",
    "    for j in range(i+1):\n",
    "        dp[i][j] = max( (dp[i-1][j-1]+triangle[i-1][j-1]) if j-1>=0 else 0, (dp[i-1][j]+triangle[i-1][j]) if j<i else 0)\n",
    "        \n",
    "print(max(dp[n]))        "
   ]
  }
 ],
 "metadata": {
  "kernelspec": {
   "display_name": "Python 3",
   "language": "python",
   "name": "python3"
  },
  "language_info": {
   "codemirror_mode": {
    "name": "ipython",
    "version": 3
   },
   "file_extension": ".py",
   "mimetype": "text/x-python",
   "name": "python",
   "nbconvert_exporter": "python",
   "pygments_lexer": "ipython3",
   "version": "3.7.4"
  }
 },
 "nbformat": 4,
 "nbformat_minor": 2
}
