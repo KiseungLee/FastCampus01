{
 "cells": [
  {
   "cell_type": "code",
   "execution_count": 8,
   "metadata": {},
   "outputs": [
    {
     "name": "stdout",
     "output_type": "stream",
     "text": [
      "4 7\n",
      "6 13\n",
      "4 8\n",
      "3 6\n",
      "5 12\n",
      "14\n"
     ]
    }
   ],
   "source": [
    "# 입력\n",
    "n, k = map(int, input().split())\n",
    "stuffs = []\n",
    "for _ in range(n):\n",
    "    w, v = map(int, input().split())\n",
    "    stuffs.append([w, v])\n",
    "    \n",
    "# dp 초기화\n",
    "# dp[i][j] : 무게제한 j일대 stuffs[i]를 넣을까말까\n",
    "#            안넣는다면 dp[i-1][j]에서 가져오고 넣는다면 dp[i-i][j-stuff[i][1]]\n",
    "dp = [[0]*(k+1) for _ in range(n+1)]\n",
    "\n",
    "# 연산\n",
    "for i in range(1, n+1):\n",
    "    w = stuffs[i-1][0]\n",
    "    v = stuffs[i-1][1]\n",
    "    for j in range(1, k+1):\n",
    "        # 우선 물건이 무게 j에 들어갈 수 있는지 확인\n",
    "        if w<=j:\n",
    "            # 넣을 수 있어도 그냥 안넣고 위에값 가져오기 vs 위에 값중 j-w에서 자기 v 더한거\n",
    "            if dp[i-1][j] >= dp[i-1][j-w]+v:\n",
    "                dp[i][j] = dp[i-1][j]\n",
    "            else:\n",
    "                dp[i][j] = dp[i-1][j-w]+v\n",
    "        else:\n",
    "            # 안들어가면 그냥 위에 값 가져옴\n",
    "            dp[i][j] = dp[i-1][j]\n",
    "            \n",
    "# 출력\n",
    "print(dp[-1][-1])"
   ]
  },
  {
   "cell_type": "code",
   "execution_count": 7,
   "metadata": {},
   "outputs": [
    {
     "data": {
      "text/plain": [
       "[[6, 13], [4, 8], [3, 6], [5, 12]]"
      ]
     },
     "execution_count": 7,
     "metadata": {},
     "output_type": "execute_result"
    }
   ],
   "source": [
    "stuffs"
   ]
  },
  {
   "cell_type": "code",
   "execution_count": null,
   "metadata": {},
   "outputs": [],
   "source": []
  }
 ],
 "metadata": {
  "kernelspec": {
   "display_name": "Python 3",
   "language": "python",
   "name": "python3"
  },
  "language_info": {
   "codemirror_mode": {
    "name": "ipython",
    "version": 3
   },
   "file_extension": ".py",
   "mimetype": "text/x-python",
   "name": "python",
   "nbconvert_exporter": "python",
   "pygments_lexer": "ipython3",
   "version": "3.7.4"
  }
 },
 "nbformat": 4,
 "nbformat_minor": 2
}
