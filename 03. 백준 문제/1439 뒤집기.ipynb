{
 "cells": [
  {
   "cell_type": "code",
   "execution_count": 7,
   "metadata": {},
   "outputs": [
    {
     "name": "stdout",
     "output_type": "stream",
     "text": [
      "2\n"
     ]
    }
   ],
   "source": [
    "input = open('input.txt').readline\n",
    "\n",
    "str_input = input()\n",
    "make_one = 0 if str_input[0]=='0' else 1\n",
    "make_zero = 0 if str_input[0]=='1' else 1\n",
    "for i in range(len(str_input)-1):\n",
    "    if str_input[i]=='0' and str_input[i+1]=='1':\n",
    "        make_one += 1\n",
    "    elif str_input[i]=='1' and str_input[i+1]=='0':\n",
    "        make_zero += 1\n",
    "        \n",
    "print(make_one if make_one<=make_zero else make_zero)"
   ]
  },
  {
   "cell_type": "code",
   "execution_count": null,
   "metadata": {},
   "outputs": [],
   "source": []
  }
 ],
 "metadata": {
  "kernelspec": {
   "display_name": "Python 3",
   "language": "python",
   "name": "python3"
  },
  "language_info": {
   "codemirror_mode": {
    "name": "ipython",
    "version": 3
   },
   "file_extension": ".py",
   "mimetype": "text/x-python",
   "name": "python",
   "nbconvert_exporter": "python",
   "pygments_lexer": "ipython3",
   "version": "3.7.4"
  }
 },
 "nbformat": 4,
 "nbformat_minor": 2
}
