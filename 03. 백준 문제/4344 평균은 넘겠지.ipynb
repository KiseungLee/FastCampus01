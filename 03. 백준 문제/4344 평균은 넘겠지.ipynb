{
 "cells": [
  {
   "cell_type": "code",
   "execution_count": 21,
   "metadata": {},
   "outputs": [
    {
     "name": "stdout",
     "output_type": "stream",
     "text": [
      "1\n",
      "7 100 95 90 80 70 60 50\n",
      "57.143%\n"
     ]
    }
   ],
   "source": [
    "# 테스트 케이스 \n",
    "test_case = int(input())\n",
    "\n",
    "for _ in range(test_case):\n",
    "    # 학생 수 및 학생 점수\n",
    "    arr = list(map(int, input().split()))\n",
    "    n = arr[0]\n",
    "    arr = arr[1:]\n",
    "    \n",
    "    # 총합 구하기\n",
    "    sum_num = sum(arr)\n",
    "    \n",
    "    # 평균 넘는 학생수 구하기\n",
    "    count = 0\n",
    "    for num in arr:\n",
    "        if num*n > sum_num:\n",
    "            count += 1\n",
    "    \n",
    "    # 비율 출력\n",
    "    print(\"{0:.3f}%\".format(100*count/n))"
   ]
  },
  {
   "cell_type": "code",
   "execution_count": null,
   "metadata": {},
   "outputs": [],
   "source": []
  }
 ],
 "metadata": {
  "kernelspec": {
   "display_name": "Python 3",
   "language": "python",
   "name": "python3"
  },
  "language_info": {
   "codemirror_mode": {
    "name": "ipython",
    "version": 3
   },
   "file_extension": ".py",
   "mimetype": "text/x-python",
   "name": "python",
   "nbconvert_exporter": "python",
   "pygments_lexer": "ipython3",
   "version": "3.7.4"
  }
 },
 "nbformat": 4,
 "nbformat_minor": 2
}
