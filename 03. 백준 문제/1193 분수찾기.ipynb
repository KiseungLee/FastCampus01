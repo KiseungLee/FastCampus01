{
 "cells": [
  {
   "cell_type": "code",
   "execution_count": 29,
   "metadata": {},
   "outputs": [
    {
     "name": "stdout",
     "output_type": "stream",
     "text": [
      "14\n",
      "2/4\n"
     ]
    }
   ],
   "source": [
    "# 지그재그의 k번째 줄은 k개의 분수로 이루어져 있다.\n",
    "# 지그재그의 k번째 줄에 있는 분수들의 분모+분자 = k+1 이다.\n",
    "# 지그재그의 k번째 줄에서 p번째 분수는 F(k, p) = k가 짝수일때, p/(k+1-p) 이고 k가 홀수 일때 (k+1-p)/p 이다. \n",
    "# k가 홀수이면 아래에서 위 방향 지그재그, 짝수이면 위에서 아래 방향 지그재그.\n",
    "# k번째 줄까지의 분수 갯수 S(k) =  k*(k+1)/2 이다.\n",
    "\n",
    "# x가 주어졌을때 x는 S(k-1)<x<=S(k) 를 만족하는 k번째 줄의 분수이다. \n",
    "# k*(k-1)/2<x >> k^2-k<2x >> k^2-k-2x < 0 >> (1-root(1+8x))/2 < k < (1+root(1+8x))/2\n",
    "# k 는 k < (1+root(1+8x))/2 를 만족하는 k의 최댓값.\n",
    "# x는 k번째 줄에서 x-S(k-1) 번째이다. \n",
    "# x는 F(k, x-S(k-1)) 이다.\n",
    "\n",
    "import math\n",
    "\n",
    "# F(k, p) : k번째 줄의 p번째 분수를 리턴\n",
    "def F(k, p):\n",
    "    if k%2==0:\n",
    "        return str(p)+'/'+str(k+1-p)\n",
    "    else:\n",
    "        return str(k+1-p)+'/'+str(p)\n",
    "    \n",
    "# S(k) : k번째 줄 까지 모든 분수의 갯수\n",
    "def S(k):\n",
    "    return int(k*(k+1)/2)\n",
    "\n",
    "# 입력\n",
    "x = int(input())\n",
    "\n",
    "# k 구하기\n",
    "temp = (1+math.sqrt(1+8*x))\n",
    "k = int(temp)//2-1 if temp%2==0 else int(temp)//2\n",
    "\n",
    "# p 구하기\n",
    "p = x - S(k-1)\n",
    "\n",
    "# 답 출력\n",
    "print(F(k, p))"
   ]
  },
  {
   "cell_type": "code",
   "execution_count": 20,
   "metadata": {},
   "outputs": [
    {
     "data": {
      "text/plain": [
       "5.0"
      ]
     },
     "execution_count": 20,
     "metadata": {},
     "output_type": "execute_result"
    }
   ],
   "source": [
    "k"
   ]
  },
  {
   "cell_type": "code",
   "execution_count": 16,
   "metadata": {},
   "outputs": [
    {
     "data": {
      "text/plain": [
       "5.0"
      ]
     },
     "execution_count": 16,
     "metadata": {},
     "output_type": "execute_result"
    }
   ],
   "source": [
    "(1+math.sqrt(1+8*x))/2"
   ]
  },
  {
   "cell_type": "code",
   "execution_count": 9,
   "metadata": {},
   "outputs": [
    {
     "ename": "ValueError",
     "evalue": "math domain error",
     "output_type": "error",
     "traceback": [
      "\u001b[1;31m---------------------------------------------------------------------------\u001b[0m",
      "\u001b[1;31mValueError\u001b[0m                                Traceback (most recent call last)",
      "\u001b[1;32m<ipython-input-9-dc6cb6abbafa>\u001b[0m in \u001b[0;36m<module>\u001b[1;34m\u001b[0m\n\u001b[1;32m----> 1\u001b[1;33m \u001b[0mmath\u001b[0m\u001b[1;33m.\u001b[0m\u001b[0msqrt\u001b[0m\u001b[1;33m(\u001b[0m\u001b[1;36m1\u001b[0m\u001b[1;33m-\u001b[0m\u001b[1;36m4\u001b[0m\u001b[1;33m*\u001b[0m\u001b[1;33m(\u001b[0m\u001b[0mx\u001b[0m\u001b[1;33m**\u001b[0m\u001b[1;36m2\u001b[0m\u001b[1;33m)\u001b[0m\u001b[1;33m)\u001b[0m\u001b[1;33m\u001b[0m\u001b[1;33m\u001b[0m\u001b[0m\n\u001b[0m",
      "\u001b[1;31mValueError\u001b[0m: math domain error"
     ]
    }
   ],
   "source": [
    "math.sqrt(1-4*(x**2))"
   ]
  },
  {
   "cell_type": "code",
   "execution_count": 10,
   "metadata": {},
   "outputs": [
    {
     "ename": "ValueError",
     "evalue": "math domain error",
     "output_type": "error",
     "traceback": [
      "\u001b[1;31m---------------------------------------------------------------------------\u001b[0m",
      "\u001b[1;31mValueError\u001b[0m                                Traceback (most recent call last)",
      "\u001b[1;32m<ipython-input-10-2037b8d41d70>\u001b[0m in \u001b[0;36m<module>\u001b[1;34m\u001b[0m\n\u001b[1;32m----> 1\u001b[1;33m \u001b[0mmath\u001b[0m\u001b[1;33m.\u001b[0m\u001b[0msqrt\u001b[0m\u001b[1;33m(\u001b[0m\u001b[1;33m-\u001b[0m\u001b[1;36m1\u001b[0m\u001b[1;33m)\u001b[0m\u001b[1;33m\u001b[0m\u001b[1;33m\u001b[0m\u001b[0m\n\u001b[0m",
      "\u001b[1;31mValueError\u001b[0m: math domain error"
     ]
    }
   ],
   "source": [
    "math.sqrt(-1)"
   ]
  },
  {
   "cell_type": "code",
   "execution_count": null,
   "metadata": {},
   "outputs": [],
   "source": []
  }
 ],
 "metadata": {
  "kernelspec": {
   "display_name": "Python 3",
   "language": "python",
   "name": "python3"
  },
  "language_info": {
   "codemirror_mode": {
    "name": "ipython",
    "version": 3
   },
   "file_extension": ".py",
   "mimetype": "text/x-python",
   "name": "python",
   "nbconvert_exporter": "python",
   "pygments_lexer": "ipython3",
   "version": "3.7.4"
  }
 },
 "nbformat": 4,
 "nbformat_minor": 2
}
