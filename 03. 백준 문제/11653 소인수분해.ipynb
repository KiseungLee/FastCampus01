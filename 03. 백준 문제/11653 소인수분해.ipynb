{
 "cells": [
  {
   "cell_type": "code",
   "execution_count": 28,
   "metadata": {},
   "outputs": [
    {
     "name": "stdout",
     "output_type": "stream",
     "text": [
      "10000000\n",
      "2\n",
      "2\n",
      "2\n",
      "2\n",
      "2\n",
      "2\n",
      "2\n",
      "5\n",
      "5\n",
      "5\n",
      "5\n",
      "5\n",
      "5\n",
      "5\n"
     ]
    }
   ],
   "source": [
    "n = int(input())\n",
    "m = 2\n",
    "while n!=1:\n",
    "    while n%m==0:\n",
    "        print(m)\n",
    "        n = n//m\n",
    "    m+=1\n",
    "    \n",
    "# 맞긴 맞았는데 시간 너무 오래 걸린다."
   ]
  },
  {
   "cell_type": "code",
   "execution_count": 57,
   "metadata": {},
   "outputs": [
    {
     "name": "stdout",
     "output_type": "stream",
     "text": [
      "10000000\n",
      "2\n",
      "2\n",
      "2\n",
      "2\n",
      "2\n",
      "2\n",
      "2\n",
      "5\n",
      "5\n",
      "5\n",
      "5\n",
      "5\n",
      "5\n",
      "5\n"
     ]
    }
   ],
   "source": [
    "n = int(input())\n",
    "m = 2\n",
    "while n!=1:\n",
    "    if n%m==0:\n",
    "        print(m)\n",
    "        n = n//m\n",
    "    else:\n",
    "        m+=1"
   ]
  },
  {
   "cell_type": "code",
   "execution_count": 30,
   "metadata": {},
   "outputs": [
    {
     "name": "stdout",
     "output_type": "stream",
     "text": [
      "10000000\n",
      "2\n",
      "2\n",
      "2\n",
      "2\n",
      "2\n",
      "2\n",
      "2\n",
      "5\n",
      "5\n",
      "5\n",
      "5\n",
      "5\n",
      "5\n",
      "5\n"
     ]
    }
   ],
   "source": [
    "# 입력 1<=n<=10,000,000\n",
    "n = int(input())\n",
    "\n",
    "# n보다 작은 소수 집합 구하기 - 에라토스테네스의 체 -> 여기가 한참 걸리네 시간초과 뜨네\n",
    "arr = [True]*(n+1)\n",
    "arr[0] = False\n",
    "arr[1] = False\n",
    "for i in range(2, int(n**0.5)+1):\n",
    "    if arr[i]:\n",
    "        j=2\n",
    "        while i*j<=n:\n",
    "            arr[i*j] = False\n",
    "            j+=1\n",
    "            \n",
    "# n보다 작은 소수 집합 구하기 - 에라토스테네스의 체에서 소수 배열 뽑기            \n",
    "prime_nums = []\n",
    "for i, j in enumerate(arr):\n",
    "    if j:\n",
    "        prime_nums.append(i)          \n",
    "\n",
    "# 소수로 소인수분해        \n",
    "i = 0\n",
    "while i<len(prime_nums):\n",
    "    num = prime_nums[i]\n",
    "    while n%num==0:\n",
    "        print(num)\n",
    "        n = n//num\n",
    "    i+=1        "
   ]
  },
  {
   "cell_type": "code",
   "execution_count": 53,
   "metadata": {},
   "outputs": [
    {
     "name": "stdout",
     "output_type": "stream",
     "text": [
      "2\n",
      "2\n"
     ]
    }
   ],
   "source": [
    "# 입력 1<=n<=10,000,000\n",
    "n = int(input())\n",
    "    \n",
    "# n보다 작거나 같은 소수 집합 구하기 - 이게 에라토스테네스 체 쓰는거 보다 빠름\n",
    "prime_nums = []\n",
    "for i in range(2, int(n**0.5)+3):\n",
    "    for j in range(2, i+1):\n",
    "        if i%j==0:\n",
    "            if i==j:\n",
    "                prime_nums.append(j)\n",
    "            break\n",
    "            \n",
    "# 소수로 소인수분해        \n",
    "i = 0\n",
    "while i<len(prime_nums):\n",
    "    num = prime_nums[i]\n",
    "    while n%num==0:\n",
    "        print(num)\n",
    "        n = n//num\n",
    "    i+=1            "
   ]
  },
  {
   "cell_type": "code",
   "execution_count": 34,
   "metadata": {},
   "outputs": [
    {
     "data": {
      "text/plain": [
       "[]"
      ]
     },
     "execution_count": 34,
     "metadata": {},
     "output_type": "execute_result"
    }
   ],
   "source": [
    "prime_nums"
   ]
  },
  {
   "cell_type": "code",
   "execution_count": null,
   "metadata": {},
   "outputs": [],
   "source": []
  }
 ],
 "metadata": {
  "kernelspec": {
   "display_name": "Python 3",
   "language": "python",
   "name": "python3"
  },
  "language_info": {
   "codemirror_mode": {
    "name": "ipython",
    "version": 3
   },
   "file_extension": ".py",
   "mimetype": "text/x-python",
   "name": "python",
   "nbconvert_exporter": "python",
   "pygments_lexer": "ipython3",
   "version": "3.7.4"
  }
 },
 "nbformat": 4,
 "nbformat_minor": 2
}
