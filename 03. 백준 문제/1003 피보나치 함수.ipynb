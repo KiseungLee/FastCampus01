{
 "cells": [
  {
   "cell_type": "code",
   "execution_count": 17,
   "metadata": {},
   "outputs": [
    {
     "name": "stdout",
     "output_type": "stream",
     "text": [
      "3\n",
      "0\n",
      "1 0\n",
      "1\n",
      "0 1\n",
      "2\n",
      "1 1\n"
     ]
    }
   ],
   "source": [
    "# f(n) : n번째 피보나치 수열 구하는 재귀함수\n",
    "# f(n) = f(n-1) + f(n-2) (n>=2) 이다.\n",
    "# 여기서 f(n)이 f(0)와 f(1)을 부르는 횟수를 (a, b)로 표현할때,\n",
    "# f(n-1) -> (a, b)\n",
    "# f(n-2) -> (c, d)\n",
    "# 이때 f(n)은 f(n-1), f(n-2)를 부르므로 f(n) -> (a+c, b+d) 가 된다. 즉 피보나치 수열을 이룬다 이말이야\n",
    "# 다만 0이 입력될땐 예외로 빼자.\n",
    "\n",
    "for _ in range(int(input())):\n",
    "    a, b, c = 0, 1, 1\n",
    "    n = int(input())\n",
    "    while n>1:\n",
    "        c = a+b\n",
    "        a, b = b, c\n",
    "        n -= 1\n",
    "    if n!=0:\n",
    "        print(a, b)\n",
    "    elif n==0:\n",
    "        print(1, 0)"
   ]
  },
  {
   "cell_type": "code",
   "execution_count": null,
   "metadata": {},
   "outputs": [],
   "source": []
  }
 ],
 "metadata": {
  "kernelspec": {
   "display_name": "Python 3",
   "language": "python",
   "name": "python3"
  },
  "language_info": {
   "codemirror_mode": {
    "name": "ipython",
    "version": 3
   },
   "file_extension": ".py",
   "mimetype": "text/x-python",
   "name": "python",
   "nbconvert_exporter": "python",
   "pygments_lexer": "ipython3",
   "version": "3.7.4"
  }
 },
 "nbformat": 4,
 "nbformat_minor": 2
}
