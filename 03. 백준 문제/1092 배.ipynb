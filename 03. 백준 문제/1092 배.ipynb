{
 "cells": [
  {
   "cell_type": "code",
   "execution_count": 9,
   "metadata": {},
   "outputs": [
    {
     "name": "stdout",
     "output_type": "stream",
     "text": [
      "3\n"
     ]
    }
   ],
   "source": [
    "# https://www.acmicpc.net/problem/1092\n",
    "input = open('input.txt').readline\n",
    "\n",
    "input()\n",
    "cranes = sorted(list(map(int, input().split())), reverse=True)\n",
    "input()\n",
    "boxes = sorted(list(map(int, input().split())), reverse = True)\n",
    "\n",
    "if cranes[0]<boxes[0]:\n",
    "    print(-1)\n",
    "else:\n",
    "    time = 1\n",
    "    done = [False]*len(boxes)\n",
    "    done_count = 0\n",
    "    crane_idx = 0\n",
    "    box_idx = 0\n",
    "    while True:\n",
    "        # 현재 crane_idx로 나를 수 있는 box_idx 찾기 (crane_idx 고정, box_idx 찾기)\n",
    "        is_found = True\n",
    "        while not (not done[box_idx] and cranes[crane_idx] >= boxes[box_idx]):\n",
    "            # box 끝가지 갔는데 나를 수 있는걸 못찾았다 -> 해당 crane으로 더 이상 나를 수 있는 게 없음\n",
    "            # 해당 crane으로 나를 수 없었으면 뒤에 있는 crane으로도 못날랐음 -> crane_idx 0으로, 시간 += 1\n",
    "            if box_idx == len(boxes)-1:\n",
    "                box_idx = 0\n",
    "                crane_idx = 0\n",
    "                time += 1\n",
    "                is_found = False\n",
    "                break\n",
    "            else:\n",
    "                box_idx += 1\n",
    "                \n",
    "        # 현재 crane_idx로 나를 수 있는 박스를 찾은 경우\n",
    "        if is_found:\n",
    "            # 박스를 옮기고\n",
    "            done[box_idx] = True\n",
    "            #print(time, cranes[crane_idx], boxes[box_idx], done)\n",
    "            done_count += 1\n",
    "            if done_count == len(boxes):\n",
    "                print(time)\n",
    "                break\n",
    "            # box_idx를 옮기고\n",
    "            box_idx = 0 if box_idx==len(boxes)-1 else box_idx + 1\n",
    "            # crane_idx 옮기고 (마지막 크레인이었을 경우 시간 += 1)\n",
    "            if crane_idx == len(cranes)-1:\n",
    "                crane_idx = 0\n",
    "                box_idx = 0\n",
    "                time += 1\n",
    "            else:\n",
    "                crane_idx += 1"
   ]
  },
  {
   "cell_type": "code",
   "execution_count": 1,
   "metadata": {},
   "outputs": [
    {
     "ename": "NameError",
     "evalue": "name 'done' is not defined",
     "output_type": "error",
     "traceback": [
      "\u001b[1;31m---------------------------------------------------------------------------\u001b[0m",
      "\u001b[1;31mNameError\u001b[0m                                 Traceback (most recent call last)",
      "\u001b[1;32m<ipython-input-1-7907f662aaf1>\u001b[0m in \u001b[0;36m<module>\u001b[1;34m\u001b[0m\n\u001b[1;32m----> 1\u001b[1;33m \u001b[0mdone\u001b[0m\u001b[1;33m\u001b[0m\u001b[1;33m\u001b[0m\u001b[0m\n\u001b[0m",
      "\u001b[1;31mNameError\u001b[0m: name 'done' is not defined"
     ]
    }
   ],
   "source": [
    "done"
   ]
  },
  {
   "cell_type": "code",
   "execution_count": null,
   "metadata": {},
   "outputs": [],
   "source": []
  }
 ],
 "metadata": {
  "kernelspec": {
   "display_name": "Python 3",
   "language": "python",
   "name": "python3"
  },
  "language_info": {
   "codemirror_mode": {
    "name": "ipython",
    "version": 3
   },
   "file_extension": ".py",
   "mimetype": "text/x-python",
   "name": "python",
   "nbconvert_exporter": "python",
   "pygments_lexer": "ipython3",
   "version": "3.7.4"
  }
 },
 "nbformat": 4,
 "nbformat_minor": 2
}
