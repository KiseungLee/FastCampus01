{
 "cells": [
  {
   "cell_type": "code",
   "execution_count": 30,
   "metadata": {},
   "outputs": [
    {
     "name": "stdout",
     "output_type": "stream",
     "text": [
      "1\n"
     ]
    }
   ],
   "source": [
    "# 입력 및 dp 테이블 생성\n",
    "# dp[n][k] : n번째 자리수가 k일때 계단수\n",
    "n = int(input())\n",
    "dp = [[0 for _ in range(10)] for _ in range(n+1)]\n",
    "dp[1] = [1,1,1,1,1,1,1,1,1,1]"
   ]
  },
  {
   "cell_type": "code",
   "execution_count": 31,
   "metadata": {},
   "outputs": [],
   "source": [
    "# dp 연산\n",
    "for i in range(2, n+1):\n",
    "    for j in range(10):\n",
    "        dp[i][j] = (dp[i-1][j-1] if j!=0 else 0)+(dp[i-1][j+1] if j!=9 else 0)"
   ]
  },
  {
   "cell_type": "code",
   "execution_count": 32,
   "metadata": {},
   "outputs": [
    {
     "name": "stdout",
     "output_type": "stream",
     "text": [
      "9\n"
     ]
    }
   ],
   "source": [
    "# 결과 출력 (마지막에선 n자리수중 처음이 0으로 시작하는 경우를 빼고 더해줌)\n",
    "print(sum(dp[n][1:])%1000000000)"
   ]
  },
  {
   "cell_type": "code",
   "execution_count": 6,
   "metadata": {},
   "outputs": [
    {
     "data": {
      "text/plain": [
       "4"
      ]
     },
     "execution_count": 6,
     "metadata": {},
     "output_type": "execute_result"
    }
   ],
   "source": [
    "n"
   ]
  },
  {
   "cell_type": "code",
   "execution_count": 35,
   "metadata": {},
   "outputs": [
    {
     "name": "stdout",
     "output_type": "stream",
     "text": [
      "2\n",
      "17\n"
     ]
    }
   ],
   "source": [
    "# 입력 및 dp 테이블 생성\n",
    "# dp[n][k] : n번째 자리수가 k일때 계단수\n",
    "n = int(input())\n",
    "dp = [[0 for _ in range(10)] for _ in range(n+1)]\n",
    "dp[1] = [1,1,1,1,1,1,1,1,1,1]\n",
    "\n",
    "# dp 연산\n",
    "for i in range(2, n+1):\n",
    "    for j in range(10):\n",
    "        dp[i][j] = (dp[i-1][j-1] if j!=0 else 0)+(dp[i-1][j+1] if j!=9 else 0)\n",
    "        \n",
    "# 결과 출력 (마지막에선 n자리수중 처음이 0으로 시작하는 경우를 빼고 더해줌)\n",
    "print(sum(dp[n][1:])%1000000000)    "
   ]
  },
  {
   "cell_type": "code",
   "execution_count": null,
   "metadata": {},
   "outputs": [],
   "source": [
    "n = int(input())\n",
    "dp = [[0 for _ in range(10)] for _ in range(n+1)]\n",
    "dp[1] = [1,1,1,1,1,1,1,1,1,1]\n",
    "\n",
    "for i in range(2, n+1):\n",
    "    for j in range(10):\n",
    "        dp[i][j] = (dp[i-1][j-1] if j!=0 else 0)+(dp[i-1][j+1] if j!=9 else 0)\n",
    "        \n",
    "print(sum(dp[n][1:])%1000000000)    "
   ]
  }
 ],
 "metadata": {
  "kernelspec": {
   "display_name": "Python 3",
   "language": "python",
   "name": "python3"
  },
  "language_info": {
   "codemirror_mode": {
    "name": "ipython",
    "version": 3
   },
   "file_extension": ".py",
   "mimetype": "text/x-python",
   "name": "python",
   "nbconvert_exporter": "python",
   "pygments_lexer": "ipython3",
   "version": "3.7.4"
  }
 },
 "nbformat": 4,
 "nbformat_minor": 2
}
