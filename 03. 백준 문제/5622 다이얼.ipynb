{
 "cells": [
  {
   "cell_type": "code",
   "execution_count": 29,
   "metadata": {},
   "outputs": [
    {
     "name": "stdout",
     "output_type": "stream",
     "text": [
      "UNUCIC\n",
      "0\n",
      "9\n",
      "16\n",
      "25\n",
      "28\n",
      "33\n",
      "36\n"
     ]
    }
   ],
   "source": [
    "word = input()\n",
    "\n",
    "result = 0\n",
    "\n",
    "for c in word:\n",
    "    if ord(c)<=82:   # A ~ R \n",
    "        result += (ord(c)-65)//3 + 2 + 1\n",
    "    elif ord(c)==83: # S\n",
    "        result += 8\n",
    "    elif ord(c)<=86: # T, U, V\n",
    "        result += 9\n",
    "    else:            # W, X, Y, Z\n",
    "        result += 10\n",
    "\n",
    "print(result)"
   ]
  },
  {
   "cell_type": "code",
   "execution_count": null,
   "metadata": {},
   "outputs": [],
   "source": []
  }
 ],
 "metadata": {
  "kernelspec": {
   "display_name": "Python 3",
   "language": "python",
   "name": "python3"
  },
  "language_info": {
   "codemirror_mode": {
    "name": "ipython",
    "version": 3
   },
   "file_extension": ".py",
   "mimetype": "text/x-python",
   "name": "python",
   "nbconvert_exporter": "python",
   "pygments_lexer": "ipython3",
   "version": "3.7.4"
  }
 },
 "nbformat": 4,
 "nbformat_minor": 2
}
