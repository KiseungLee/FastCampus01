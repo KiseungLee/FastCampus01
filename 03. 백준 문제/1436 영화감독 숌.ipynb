{
 "cells": [
  {
   "cell_type": "code",
   "execution_count": 17,
   "metadata": {},
   "outputs": [
    {
     "name": "stdout",
     "output_type": "stream",
     "text": [
      "3\n",
      "2666\n"
     ]
    }
   ],
   "source": [
    "n = int(input())   # 입력\n",
    "count = 0          # 종말의 숫자가 몇 개 나왔는지 count\n",
    "\n",
    "num = 665          # 시작 숫자\n",
    "while count!=n:\n",
    "    num+=1\n",
    "    temp = num\n",
    "    combo = 0              # 연속으로 6이 나온 횟수 기록\n",
    "    while temp!=0:\n",
    "        if temp%10 == 6:\n",
    "            combo += 1    # 일의 자릿수가 6이면 combo 증가\n",
    "        else:\n",
    "            combo = 0     # 아니면 combo 초기화\n",
    "        if combo==3:      # 연속 3번 6나오면\n",
    "            count += 1    # 종말의 수 증가\n",
    "            break\n",
    "        temp = temp//10\n",
    "\n",
    "print(num) # 출력\n",
    "\n",
    "# 기본적인 구조는 같은데 언어에 따라 이렇게 차이가 나네"
   ]
  },
  {
   "cell_type": "code",
   "execution_count": null,
   "metadata": {},
   "outputs": [],
   "source": []
  }
 ],
 "metadata": {
  "kernelspec": {
   "display_name": "Python 3",
   "language": "python",
   "name": "python3"
  },
  "language_info": {
   "codemirror_mode": {
    "name": "ipython",
    "version": 3
   },
   "file_extension": ".py",
   "mimetype": "text/x-python",
   "name": "python",
   "nbconvert_exporter": "python",
   "pygments_lexer": "ipython3",
   "version": "3.7.4"
  }
 },
 "nbformat": 4,
 "nbformat_minor": 2
}
