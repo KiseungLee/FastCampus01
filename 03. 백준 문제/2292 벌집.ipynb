{
 "cells": [
  {
   "cell_type": "code",
   "execution_count": 20,
   "metadata": {},
   "outputs": [
    {
     "name": "stdout",
     "output_type": "stream",
     "text": [
      "58\n",
      "5\n"
     ]
    }
   ],
   "source": [
    "# 입력받은 n이 벌집에서 몇번째 둘레에 있는지만 판별하면 됨.\n",
    "# k번째 둘레의 벌집 갯수는 k*6-6 (k>=2 자연수) 으로 볼 수 있음.(한변에 k개, 꼭지점 6개 중복 제거)\n",
    "# k번째 둘레 까지 벌집 총 갯수 S(k) = 6*(k)*(k+1)/2 -6k + 1 (+1은 가장안쪽 벌집을 포함하기 위해)\n",
    "# >> S(k) = 3k^2-3k+1\n",
    "# n은 S(k-1) < n <= S(k) 를 만족하는 k번째 둘레에 있고 1에서 지나야 되는 최소 방 갯수는 k개임.\n",
    "\n",
    "def S(k):\n",
    "    return 3*(k**2)-3*k+1\n",
    "\n",
    "n = int(input())\n",
    "k = 1\n",
    "\n",
    "if n!=1:\n",
    "    while not (S(k-1)<n and n<=S(k)):\n",
    "        k+=1\n",
    "\n",
    "print(k)"
   ]
  },
  {
   "cell_type": "markdown",
   "metadata": {},
   "source": [
    "### S(0)"
   ]
  },
  {
   "cell_type": "code",
   "execution_count": null,
   "metadata": {},
   "outputs": [],
   "source": []
  }
 ],
 "metadata": {
  "kernelspec": {
   "display_name": "Python 3",
   "language": "python",
   "name": "python3"
  },
  "language_info": {
   "codemirror_mode": {
    "name": "ipython",
    "version": 3
   },
   "file_extension": ".py",
   "mimetype": "text/x-python",
   "name": "python",
   "nbconvert_exporter": "python",
   "pygments_lexer": "ipython3",
   "version": "3.7.4"
  }
 },
 "nbformat": 4,
 "nbformat_minor": 2
}
