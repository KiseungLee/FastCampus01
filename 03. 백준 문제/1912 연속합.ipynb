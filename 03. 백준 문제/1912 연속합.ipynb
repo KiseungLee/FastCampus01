{
 "cells": [
  {
   "cell_type": "code",
   "execution_count": 18,
   "metadata": {},
   "outputs": [
    {
     "name": "stdout",
     "output_type": "stream",
     "text": [
      "10\n",
      "10 -4 3 1 5 6 -35 12 21 -1\n",
      "[10, 6, 9, 10, 15, 21, -14, -2, 19, 18]\n",
      "[-4, -1, 0, 5, 11, -24, -12, 9, 8]\n",
      "[3, 4, 9, 15, -20, -8, 13, 12]\n",
      "[1, 6, 12, -23, -11, 10, 9]\n",
      "[5, 11, -24, -12, 9, 8]\n",
      "[6, -29, -17, 4, 3]\n",
      "[-35, -23, -2, -3]\n",
      "[12, 33, 32]\n",
      "[21, 20]\n",
      "[-1]\n",
      "33\n"
     ]
    }
   ],
   "source": [
    "# 입력\n",
    "n = int(input())\n",
    "nums = list(map(int, input().split()))\n",
    "\n",
    "# 연산\n",
    "max_num = -1000\n",
    "for i in range(0, n):\n",
    "    # i번째 dp[j] : nums의 i번째에서 시작해서 j번째까지 합한 수\n",
    "    dp = [0]*(n-i)\n",
    "    for j in range(i, n):\n",
    "        if i==j:\n",
    "            dp[j-i] = nums[j]\n",
    "        else:\n",
    "            dp[j-i] = dp[j-i-1] + nums[j]\n",
    "        if dp[j-i] > max_num:\n",
    "            max_num = dp[j-i]\n",
    "    print(dp)\n",
    "\n",
    "# 출력\n",
    "print(max_num)"
   ]
  },
  {
   "cell_type": "code",
   "execution_count": 7,
   "metadata": {},
   "outputs": [
    {
     "data": {
      "text/plain": [
       "[[-1, -3, -6, -10, -15],\n",
       " [0, -2, -5, -9, -14],\n",
       " [0, 0, -3, -7, -12],\n",
       " [0, 0, 0, -4, -9],\n",
       " [0, 0, 0, 0, -5]]"
      ]
     },
     "execution_count": 7,
     "metadata": {},
     "output_type": "execute_result"
    }
   ],
   "source": [
    "dp"
   ]
  },
  {
   "cell_type": "code",
   "execution_count": 35,
   "metadata": {},
   "outputs": [
    {
     "name": "stdout",
     "output_type": "stream",
     "text": [
      "5\n",
      "-1 -3 3 -4 -5\n",
      "3\n"
     ]
    }
   ],
   "source": [
    "# 입력 \n",
    "# 시간초과를 해결하기 위해 숫자의 리스트에서 인접한 양수들은 모두 squeez 시킴\n",
    "# 음수는 squeez 시키면 안됨.  \n",
    "n = int(input())\n",
    "nums = []\n",
    "add = 0\n",
    "for num in list(map(int, input().split())):\n",
    "    if num>=0:\n",
    "        add += num\n",
    "    else:\n",
    "        if add>0:\n",
    "            nums.append(add)\n",
    "            add = 0\n",
    "        nums.append(num)\n",
    "if add>0:\n",
    "    nums.append(add)\n",
    "n = len(nums)\n",
    "\n",
    "# 연산\n",
    "max_num = -1000\n",
    "for i in range(0, n):\n",
    "    # i번째 dp[j] : nums의 i번째에서 시작해서 j번째까지 합한 수\n",
    "    dp = [0]*(n-i)\n",
    "    for j in range(i, n):\n",
    "        if i==j:\n",
    "            dp[j-i] = nums[j]\n",
    "        else:\n",
    "            dp[j-i] = dp[j-i-1] + nums[j]\n",
    "        if dp[j-i] > max_num:\n",
    "            max_num = dp[j-i]\n",
    "\n",
    "# 출력\n",
    "print(max_num)"
   ]
  },
  {
   "cell_type": "code",
   "execution_count": 31,
   "metadata": {},
   "outputs": [
    {
     "data": {
      "text/plain": [
       "[10, -4, 15, -35, 33, -1]"
      ]
     },
     "execution_count": 31,
     "metadata": {},
     "output_type": "execute_result"
    }
   ],
   "source": [
    "nums"
   ]
  },
  {
   "cell_type": "code",
   "execution_count": null,
   "metadata": {},
   "outputs": [],
   "source": []
  }
 ],
 "metadata": {
  "kernelspec": {
   "display_name": "Python 3",
   "language": "python",
   "name": "python3"
  },
  "language_info": {
   "codemirror_mode": {
    "name": "ipython",
    "version": 3
   },
   "file_extension": ".py",
   "mimetype": "text/x-python",
   "name": "python",
   "nbconvert_exporter": "python",
   "pygments_lexer": "ipython3",
   "version": "3.7.4"
  }
 },
 "nbformat": 4,
 "nbformat_minor": 2
}
