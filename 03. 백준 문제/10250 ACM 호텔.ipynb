{
 "cells": [
  {
   "cell_type": "code",
   "execution_count": 3,
   "metadata": {},
   "outputs": [
    {
     "name": "stdout",
     "output_type": "stream",
     "text": [
      "2\n",
      "6 12 10\n",
      "402\n",
      "30 50 72\n",
      "1203\n"
     ]
    }
   ],
   "source": [
    "# h, w, n 을 받으면 n이 y층 x번째인지 구해야 함.\n",
    "\n",
    "# n%h == 0 일때, n은 h층, n//h 칸에 있음.\n",
    "\n",
    "# n%h != 0 일때\n",
    "# 모든 층에 n//h 칸까지 차있음.\n",
    "# n번째 손님은 n-h*(n//h)층 n//h+1 번째 칸에 있음. \n",
    "\n",
    "test_case = int(input())\n",
    "\n",
    "for _ in range(test_case):\n",
    "    h, w, n = map(int, input().split())\n",
    "    if n%h==0:\n",
    "        print( h*100 + n//h )\n",
    "    else:\n",
    "        print( (n-h*(n//h))*100 + n//h+1 )"
   ]
  },
  {
   "cell_type": "code",
   "execution_count": null,
   "metadata": {},
   "outputs": [],
   "source": []
  }
 ],
 "metadata": {
  "kernelspec": {
   "display_name": "Python 3",
   "language": "python",
   "name": "python3"
  },
  "language_info": {
   "codemirror_mode": {
    "name": "ipython",
    "version": 3
   },
   "file_extension": ".py",
   "mimetype": "text/x-python",
   "name": "python",
   "nbconvert_exporter": "python",
   "pygments_lexer": "ipython3",
   "version": "3.7.4"
  }
 },
 "nbformat": 4,
 "nbformat_minor": 2
}
