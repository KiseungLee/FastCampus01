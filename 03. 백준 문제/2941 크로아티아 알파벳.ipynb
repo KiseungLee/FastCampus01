{
 "cells": [
  {
   "cell_type": "code",
   "execution_count": 12,
   "metadata": {},
   "outputs": [
    {
     "name": "stdout",
     "output_type": "stream",
     "text": [
      "c=c=\n",
      "2\n"
     ]
    }
   ],
   "source": [
    "# 입력\n",
    "word = input()\n",
    "\n",
    "# 단어를 뒤에서 부터 읽는데 -, =가 오면 앞에 하나 건너뜀,\n",
    "# 근데 dz=일 경우 1개 더 건너뜀\n",
    "# j가 오면 앞이 l,n 일때 한 단어로 계산\n",
    "\n",
    "# 출력 변수\n",
    "count = 0\n",
    "\n",
    "# 뒤에서 부터 돌기\n",
    "i = len(word)-1\n",
    "while i>=0:\n",
    "    count += 1\n",
    "    if word[i]=='-' or word[i]=='=':          \n",
    "        i-=1                            \n",
    "        if i>=1 and word[i]=='z' and word[i-1]=='d':\n",
    "            i-=1                                         \n",
    "    elif word[i]=='j' and i>=1 and (word[i-1]=='l' or word[i-1]=='n'):\n",
    "        i-=1                               \n",
    "    i-=1\n",
    "\n",
    "# 결과 출력\n",
    "print(count)"
   ]
  },
  {
   "cell_type": "code",
   "execution_count": null,
   "metadata": {},
   "outputs": [],
   "source": []
  }
 ],
 "metadata": {
  "kernelspec": {
   "display_name": "Python 3",
   "language": "python",
   "name": "python3"
  },
  "language_info": {
   "codemirror_mode": {
    "name": "ipython",
    "version": 3
   },
   "file_extension": ".py",
   "mimetype": "text/x-python",
   "name": "python",
   "nbconvert_exporter": "python",
   "pygments_lexer": "ipython3",
   "version": "3.7.4"
  }
 },
 "nbformat": 4,
 "nbformat_minor": 2
}
