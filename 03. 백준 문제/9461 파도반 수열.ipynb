{
 "cells": [
  {
   "cell_type": "code",
   "execution_count": 11,
   "metadata": {},
   "outputs": [],
   "source": [
    "input = open('inputText').readline"
   ]
  },
  {
   "cell_type": "code",
   "execution_count": 12,
   "metadata": {},
   "outputs": [
    {
     "name": "stdout",
     "output_type": "stream",
     "text": [
      "1\n",
      "1\n",
      "1\n",
      "2\n",
      "2\n",
      "3\n",
      "4\n",
      "5\n",
      "7\n",
      "9\n",
      "12\n",
      "16\n",
      "21\n",
      "28\n",
      "37\n",
      "49\n",
      "65\n",
      "86\n",
      "114\n",
      "151\n"
     ]
    }
   ],
   "source": [
    "for _ in range(int(input())):\n",
    "    padovan = [1,1,1,2,2,0]\n",
    "    n = int(input())\n",
    "    while n>=6:\n",
    "        padovan[5] = padovan[4]+padovan[0]\n",
    "        for i in range(5):\n",
    "            padovan[i] = padovan[i+1]\n",
    "        n-=1\n",
    "    if n>=6:\n",
    "        print(padovan[5])\n",
    "    else:\n",
    "        print(padovan[n-1])"
   ]
  },
  {
   "cell_type": "code",
   "execution_count": null,
   "metadata": {},
   "outputs": [],
   "source": []
  }
 ],
 "metadata": {
  "kernelspec": {
   "display_name": "Python 3",
   "language": "python",
   "name": "python3"
  },
  "language_info": {
   "codemirror_mode": {
    "name": "ipython",
    "version": 3
   },
   "file_extension": ".py",
   "mimetype": "text/x-python",
   "name": "python",
   "nbconvert_exporter": "python",
   "pygments_lexer": "ipython3",
   "version": "3.7.4"
  }
 },
 "nbformat": 4,
 "nbformat_minor": 2
}
