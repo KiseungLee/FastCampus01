{
 "cells": [
  {
   "cell_type": "code",
   "execution_count": 130,
   "metadata": {},
   "outputs": [],
   "source": [
    "# 테스트용\n",
    "input = open('inputText').readline"
   ]
  },
  {
   "cell_type": "code",
   "execution_count": 131,
   "metadata": {},
   "outputs": [],
   "source": [
    "import collections\n",
    "\n",
    "sudoku = []\n",
    "for _ in range(9):\n",
    "    sudoku.append(list(map(int, input().split())))"
   ]
  },
  {
   "cell_type": "code",
   "execution_count": 132,
   "metadata": {},
   "outputs": [
    {
     "data": {
      "text/plain": [
       "[[1, 9, 6, 0, 0, 8, 0, 0, 0],\n",
       " [0, 5, 0, 0, 6, 9, 0, 0, 0],\n",
       " [0, 0, 4, 0, 5, 0, 0, 1, 0],\n",
       " [0, 0, 1, 7, 9, 2, 8, 6, 0],\n",
       " [0, 0, 8, 3, 0, 4, 7, 0, 0],\n",
       " [0, 4, 7, 6, 8, 5, 2, 0, 0],\n",
       " [0, 1, 0, 0, 7, 0, 4, 0, 0],\n",
       " [0, 0, 0, 5, 4, 0, 0, 7, 0],\n",
       " [0, 0, 0, 8, 0, 0, 6, 5, 3]]"
      ]
     },
     "execution_count": 132,
     "metadata": {},
     "output_type": "execute_result"
    }
   ],
   "source": [
    "sudoku"
   ]
  },
  {
   "cell_type": "code",
   "execution_count": 133,
   "metadata": {},
   "outputs": [],
   "source": [
    "zeros = []\n",
    "for i in range(9):\n",
    "    for j in range(9):\n",
    "        if sudoku[i][j]==0:\n",
    "            zeros.append((i, j))"
   ]
  },
  {
   "cell_type": "code",
   "execution_count": 134,
   "metadata": {},
   "outputs": [],
   "source": [
    "count = len(zeros)\n",
    "filled = 0"
   ]
  },
  {
   "cell_type": "code",
   "execution_count": 135,
   "metadata": {},
   "outputs": [],
   "source": [
    "def run(n, filled):\n",
    "    if filled==count:\n",
    "        for line in sudoku:\n",
    "            print(' '.join(map(str, line)))\n",
    "    else:\n",
    "        x, y = zeros[n]\n",
    "        for i in getCandidates(x, y):\n",
    "            sudoku[x][y] = i\n",
    "            run(n+1 if n<8 else 0, filled+1)"
   ]
  },
  {
   "cell_type": "code",
   "execution_count": 136,
   "metadata": {},
   "outputs": [],
   "source": [
    "def getCandidates(x, y):\n",
    "    if sudoku[x][y] != 0:\n",
    "        return {}\n",
    "    candidates = set(i for i in range(1, 10)) - set(sudoku[x][i] for i in range(9)) - set(sudoku[i][y] for i in range(9))\n",
    "    x = (x//3)*3\n",
    "    y = (y//3)*3\n",
    "    for i in range(3):\n",
    "        for j in range(3):\n",
    "            candidates.discard(sudoku[x+i][y+j])\n",
    "    return candidates"
   ]
  },
  {
   "cell_type": "code",
   "execution_count": 137,
   "metadata": {},
   "outputs": [],
   "source": [
    "run(0, 0)"
   ]
  },
  {
   "cell_type": "code",
   "execution_count": 138,
   "metadata": {},
   "outputs": [
    {
     "data": {
      "text/plain": [
       "[[1, 9, 6, 4, 3, 8, 5, 4, 7],\n",
       " [8, 5, 3, 4, 6, 9, 0, 0, 0],\n",
       " [0, 0, 4, 0, 5, 0, 0, 1, 0],\n",
       " [0, 0, 1, 7, 9, 2, 8, 6, 0],\n",
       " [0, 0, 8, 3, 0, 4, 7, 0, 0],\n",
       " [0, 4, 7, 6, 8, 5, 2, 0, 0],\n",
       " [0, 1, 0, 0, 7, 0, 4, 0, 0],\n",
       " [0, 0, 0, 5, 4, 0, 0, 7, 0],\n",
       " [0, 0, 0, 8, 0, 0, 6, 5, 3]]"
      ]
     },
     "execution_count": 138,
     "metadata": {},
     "output_type": "execute_result"
    }
   ],
   "source": [
    "sudoku"
   ]
  },
  {
   "cell_type": "code",
   "execution_count": null,
   "metadata": {},
   "outputs": [],
   "source": []
  }
 ],
 "metadata": {
  "kernelspec": {
   "display_name": "Python 3",
   "language": "python",
   "name": "python3"
  },
  "language_info": {
   "codemirror_mode": {
    "name": "ipython",
    "version": 3
   },
   "file_extension": ".py",
   "mimetype": "text/x-python",
   "name": "python",
   "nbconvert_exporter": "python",
   "pygments_lexer": "ipython3",
   "version": "3.7.4"
  }
 },
 "nbformat": 4,
 "nbformat_minor": 2
}
