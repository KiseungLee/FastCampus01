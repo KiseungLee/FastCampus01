{
 "cells": [
  {
   "cell_type": "code",
   "execution_count": 11,
   "metadata": {},
   "outputs": [
    {
     "name": "stdout",
     "output_type": "stream",
     "text": [
      "4 7\n",
      "20 15 10 17\n",
      "15\n"
     ]
    }
   ],
   "source": [
    "def cut(length):\n",
    "    count = 0\n",
    "    for tree in trees:\n",
    "        count += (tree-length) if tree>length else 0\n",
    "    return count\n",
    "    \n",
    "# 입력\n",
    "n, m = map(int, input().split())\n",
    "trees = list(map(int, input().split()))\n",
    "\n",
    "# 이분 탐색\n",
    "left = 1\n",
    "right = 1000000000\n",
    "while left<=right:\n",
    "    mid = (left+right)//2\n",
    "    if cut(mid)>=m:\n",
    "        left = mid+1\n",
    "    else:\n",
    "        right = mid-1\n",
    "\n",
    "# 출력\n",
    "print(right)"
   ]
  },
  {
   "cell_type": "code",
   "execution_count": 6,
   "metadata": {},
   "outputs": [
    {
     "data": {
      "text/plain": [
       "<function __main__.cut(length)>"
      ]
     },
     "execution_count": 6,
     "metadata": {},
     "output_type": "execute_result"
    }
   ],
   "source": [
    "cut"
   ]
  },
  {
   "cell_type": "code",
   "execution_count": null,
   "metadata": {},
   "outputs": [],
   "source": []
  }
 ],
 "metadata": {
  "kernelspec": {
   "display_name": "Python 3",
   "language": "python",
   "name": "python3"
  },
  "language_info": {
   "codemirror_mode": {
    "name": "ipython",
    "version": 3
   },
   "file_extension": ".py",
   "mimetype": "text/x-python",
   "name": "python",
   "nbconvert_exporter": "python",
   "pygments_lexer": "ipython3",
   "version": "3.7.4"
  }
 },
 "nbformat": 4,
 "nbformat_minor": 2
}
