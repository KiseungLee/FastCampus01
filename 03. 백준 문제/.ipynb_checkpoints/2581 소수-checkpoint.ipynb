{
 "cells": [
  {
   "cell_type": "code",
   "execution_count": 1,
   "metadata": {},
   "outputs": [],
   "source": [
    "import math\n",
    "\n",
    "def makeEratosthenes(n):\n",
    "    arr = [True]*(n+1)\n",
    "    arr[0] = False\n",
    "    arr[1] = False\n",
    "    \n",
    "    for i in range(2, int(math.sqrt(n+1))+1):\n",
    "        if arr[i]:\n",
    "            j=2\n",
    "            while j*i<=n:\n",
    "                arr[j*i] = False\n",
    "                j+=1\n",
    "                \n",
    "    return arr"
   ]
  },
  {
   "cell_type": "code",
   "execution_count": 7,
   "metadata": {},
   "outputs": [
    {
     "name": "stdout",
     "output_type": "stream",
     "text": [
      "64\n",
      "65\n",
      "-1\n"
     ]
    }
   ],
   "source": [
    "m = int(input())\n",
    "n = int(input())\n",
    "\n",
    "arr_prime = makeEratosthenes(n)\n",
    "\n",
    "sum_num = 0\n",
    "min_num = 0\n",
    "for i in range(m, n+1):\n",
    "    if arr_prime[i]:\n",
    "        if min_num==0:\n",
    "            min_num = i\n",
    "        sum_num+=i\n",
    "        \n",
    "if sum_num==0:\n",
    "    print(-1)\n",
    "else:\n",
    "    print(sum_num)\n",
    "    print(min_num)"
   ]
  },
  {
   "cell_type": "code",
   "execution_count": null,
   "metadata": {},
   "outputs": [],
   "source": []
  }
 ],
 "metadata": {
  "kernelspec": {
   "display_name": "Python 3",
   "language": "python",
   "name": "python3"
  },
  "language_info": {
   "codemirror_mode": {
    "name": "ipython",
    "version": 3
   },
   "file_extension": ".py",
   "mimetype": "text/x-python",
   "name": "python",
   "nbconvert_exporter": "python",
   "pygments_lexer": "ipython3",
   "version": "3.7.4"
  }
 },
 "nbformat": 4,
 "nbformat_minor": 2
}
