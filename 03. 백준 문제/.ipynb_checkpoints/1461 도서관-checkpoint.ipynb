{
 "cells": [
  {
   "cell_type": "code",
   "execution_count": 5,
   "metadata": {},
   "outputs": [
    {
     "name": "stdout",
     "output_type": "stream",
     "text": [
      "131\n"
     ]
    }
   ],
   "source": [
    "# https://www.acmicpc.net/problem/1461\n",
    "input = open('input.txt').readline\n",
    "\n",
    "n, m = map(int, input().split())\n",
    "left = []\n",
    "right = []\n",
    "for book in list(map(int, input().split())):\n",
    "    if book < 0:\n",
    "        left.append(book)\n",
    "    else:\n",
    "        right.append(book)\n",
    "left = sorted(left, reverse = True)\n",
    "right = sorted(right)\n",
    "\n",
    "largest = 0\n",
    "if not left:\n",
    "    largest = right[-1]\n",
    "elif not right:\n",
    "    largest = -left[-1]\n",
    "else:\n",
    "    largest = max(-left[-1], right[-1])\n",
    "    \n",
    "result = 0\n",
    "while left:\n",
    "    result += -left.pop()\n",
    "    for _ in range(m-1):\n",
    "        if left:\n",
    "            left.pop()\n",
    "        else:\n",
    "            break\n",
    "while right:\n",
    "    result += right.pop()\n",
    "    for _ in range(m-1):\n",
    "        if right:\n",
    "            right.pop()\n",
    "        else:\n",
    "            break\n",
    "result *= 2\n",
    "result -= largest\n",
    "print(result)"
   ]
  },
  {
   "cell_type": "code",
   "execution_count": 2,
   "metadata": {},
   "outputs": [
    {
     "name": "stdout",
     "output_type": "stream",
     "text": [
      "7 2\n",
      "[-37, 2, -6, -39, -29, 11, -28]\n"
     ]
    }
   ],
   "source": [
    "print(n, m)\n",
    "print(books)"
   ]
  },
  {
   "cell_type": "code",
   "execution_count": null,
   "metadata": {},
   "outputs": [],
   "source": []
  }
 ],
 "metadata": {
  "kernelspec": {
   "display_name": "Python 3",
   "language": "python",
   "name": "python3"
  },
  "language_info": {
   "codemirror_mode": {
    "name": "ipython",
    "version": 3
   },
   "file_extension": ".py",
   "mimetype": "text/x-python",
   "name": "python",
   "nbconvert_exporter": "python",
   "pygments_lexer": "ipython3",
   "version": "3.7.4"
  }
 },
 "nbformat": 4,
 "nbformat_minor": 2
}
