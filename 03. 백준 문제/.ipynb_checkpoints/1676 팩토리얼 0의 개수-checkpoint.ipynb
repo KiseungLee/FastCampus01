{
 "cells": [
  {
   "cell_type": "code",
   "execution_count": 21,
   "metadata": {},
   "outputs": [
    {
     "name": "stdout",
     "output_type": "stream",
     "text": [
      "10\n"
     ]
    }
   ],
   "source": [
    "# 입력\n",
    "n = int(input())"
   ]
  },
  {
   "cell_type": "code",
   "execution_count": 22,
   "metadata": {},
   "outputs": [],
   "source": [
    "# num중에 소인수 2, 5 갯수 각각 리턴\n",
    "def getTwoFive(num):\n",
    "    two, five = 0, 0\n",
    "    while num%2==0:\n",
    "        num=num//2\n",
    "        two+=1\n",
    "    while num%5==0:\n",
    "        num=num//5\n",
    "        five+=1\n",
    "    return two, five"
   ]
  },
  {
   "cell_type": "code",
   "execution_count": 23,
   "metadata": {},
   "outputs": [],
   "source": [
    "# 1~n을 돌면서 2, 5의 소인수 갯수를 셈\n",
    "two, five = 0, 0\n",
    "for i in range(1, n+1):\n",
    "    two_local, five_local = getTwoFive(i)\n",
    "    two += two_local\n",
    "    five += five_local"
   ]
  },
  {
   "cell_type": "code",
   "execution_count": 24,
   "metadata": {},
   "outputs": [
    {
     "name": "stdout",
     "output_type": "stream",
     "text": [
      "2\n"
     ]
    }
   ],
   "source": [
    "# 2, 5 소인수 갯수중 작은것 만큼 10의 제곱이 만들어짐\n",
    "print(min(two, five))"
   ]
  },
  {
   "cell_type": "code",
   "execution_count": null,
   "metadata": {},
   "outputs": [],
   "source": []
  },
  {
   "cell_type": "code",
   "execution_count": null,
   "metadata": {},
   "outputs": [],
   "source": []
  }
 ],
 "metadata": {
  "kernelspec": {
   "display_name": "Python 3",
   "language": "python",
   "name": "python3"
  },
  "language_info": {
   "codemirror_mode": {
    "name": "ipython",
    "version": 3
   },
   "file_extension": ".py",
   "mimetype": "text/x-python",
   "name": "python",
   "nbconvert_exporter": "python",
   "pygments_lexer": "ipython3",
   "version": "3.7.4"
  }
 },
 "nbformat": 4,
 "nbformat_minor": 2
}
