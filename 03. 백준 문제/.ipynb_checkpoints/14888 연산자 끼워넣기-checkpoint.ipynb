{
 "cells": [
  {
   "cell_type": "code",
   "execution_count": 1,
   "metadata": {},
   "outputs": [
    {
     "data": {
      "text/plain": [
       "3628800"
      ]
     },
     "execution_count": 1,
     "metadata": {},
     "output_type": "execute_result"
    }
   ],
   "source": [
    "import math\n",
    "math.factorial(10)"
   ]
  },
  {
   "cell_type": "code",
   "execution_count": 24,
   "metadata": {},
   "outputs": [
    {
     "name": "stdout",
     "output_type": "stream",
     "text": [
      "6\n",
      "1 2 3 4 5 6\n",
      "2 1 1 1\n"
     ]
    }
   ],
   "source": [
    "from itertools import permutations\n",
    "\n",
    "n = int(input())\n",
    "nums = list(map(int, input().split()))\n",
    "ops = [] # 0 : +, 1 : -, 2 : x, 3 : /\n",
    "for i, j in enumerate(list(map(int, input().split()))):\n",
    "    for _ in range(j):\n",
    "        ops.append(i)"
   ]
  },
  {
   "cell_type": "code",
   "execution_count": 25,
   "metadata": {},
   "outputs": [
    {
     "name": "stdout",
     "output_type": "stream",
     "text": [
      "[1, 2, 3, 4, 5, 6]\n",
      "[0, 0, 1, 2, 3]\n"
     ]
    }
   ],
   "source": [
    "print(nums)\n",
    "print(ops)"
   ]
  },
  {
   "cell_type": "code",
   "execution_count": 41,
   "metadata": {},
   "outputs": [
    {
     "name": "stdout",
     "output_type": "stream",
     "text": [
      "54\n",
      "-24\n"
     ]
    }
   ],
   "source": [
    "count = 0\n",
    "max_num = -1000000000\n",
    "min_num = 1000000000\n",
    "for temp in permutations(ops, n-1):\n",
    "    local_num = nums[0]\n",
    "    nums_idx = 1\n",
    "    for i in temp:\n",
    "        if i==0:\n",
    "            local_num += nums[nums_idx]\n",
    "        elif i==1:\n",
    "            local_num -= nums[nums_idx]\n",
    "        elif i==2:\n",
    "            local_num *= nums[nums_idx]\n",
    "        elif i==3:\n",
    "            local_num = local_num//nums[nums_idx] if local_num>=0 else -((-local_num)//nums[nums_idx])\n",
    "        nums_idx+=1\n",
    "    if local_num > max_num:\n",
    "        max_num = local_num\n",
    "    if local_num < min_num:\n",
    "        min_num = local_num\n",
    "print(max_num)\n",
    "print(min_num)"
   ]
  },
  {
   "cell_type": "code",
   "execution_count": 38,
   "metadata": {},
   "outputs": [
    {
     "data": {
      "text/plain": [
       "-1"
      ]
     },
     "execution_count": 38,
     "metadata": {},
     "output_type": "execute_result"
    }
   ],
   "source": [
    "-1//3"
   ]
  },
  {
   "cell_type": "code",
   "execution_count": null,
   "metadata": {},
   "outputs": [],
   "source": []
  }
 ],
 "metadata": {
  "kernelspec": {
   "display_name": "Python 3",
   "language": "python",
   "name": "python3"
  },
  "language_info": {
   "codemirror_mode": {
    "name": "ipython",
    "version": 3
   },
   "file_extension": ".py",
   "mimetype": "text/x-python",
   "name": "python",
   "nbconvert_exporter": "python",
   "pygments_lexer": "ipython3",
   "version": "3.7.4"
  }
 },
 "nbformat": 4,
 "nbformat_minor": 2
}
