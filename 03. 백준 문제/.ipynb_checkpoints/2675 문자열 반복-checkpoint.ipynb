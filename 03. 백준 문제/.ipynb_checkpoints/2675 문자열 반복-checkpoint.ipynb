{
 "cells": [
  {
   "cell_type": "code",
   "execution_count": 9,
   "metadata": {},
   "outputs": [
    {
     "name": "stdout",
     "output_type": "stream",
     "text": [
      "2\n",
      "3 ABC\n",
      "AAABBBCCC\n",
      "5 /HTP\n",
      "/////HHHHHTTTTTPPPPP\n"
     ]
    }
   ],
   "source": [
    "# 테스트 케이스\n",
    "test_case = int(input())\n",
    "\n",
    "# 케이스 마다 수행\n",
    "for _ in range(test_case):\n",
    "    # 입력\n",
    "    n, word = map(str, input().split())\n",
    "    n = int(n)\n",
    "    \n",
    "    # 문자에서 1개씩 집고 1개를 n번씩 프린트\n",
    "    for c in word:\n",
    "        for _ in range(n):\n",
    "            print(c, end='')\n",
    "    \n",
    "    # 테스트 케이스 하나 끝났으면 개행\n",
    "    print()"
   ]
  },
  {
   "cell_type": "code",
   "execution_count": null,
   "metadata": {},
   "outputs": [],
   "source": []
  }
 ],
 "metadata": {
  "kernelspec": {
   "display_name": "Python 3",
   "language": "python",
   "name": "python3"
  },
  "language_info": {
   "codemirror_mode": {
    "name": "ipython",
    "version": 3
   },
   "file_extension": ".py",
   "mimetype": "text/x-python",
   "name": "python",
   "nbconvert_exporter": "python",
   "pygments_lexer": "ipython3",
   "version": "3.7.4"
  }
 },
 "nbformat": 4,
 "nbformat_minor": 2
}
