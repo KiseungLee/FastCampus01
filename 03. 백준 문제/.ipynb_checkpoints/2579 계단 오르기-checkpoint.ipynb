{
 "cells": [
  {
   "cell_type": "code",
   "execution_count": 11,
   "metadata": {},
   "outputs": [
    {
     "name": "stdout",
     "output_type": "stream",
     "text": [
      "6\n",
      "10\n",
      "20\n",
      "15\n",
      "25\n",
      "10\n",
      "20\n",
      "75\n"
     ]
    }
   ],
   "source": [
    "# 입력\n",
    "n = int(input())\n",
    "nums = []\n",
    "for _ in range(n):\n",
    "    nums.append(int(input()))\n",
    "\n",
    "# dp 배열 초기화\n",
    "# dp[0][i] = i번째 계단에 한 걸음으로 왔을때 최대 점수\n",
    "# dp[1][i] = i번째 계단에 두 걸음으로 왔을때 최대 점수\n",
    "dp = [[0]*(n+1), [0]*(n+1)]    \n",
    "dp[0][1] = nums[0]\n",
    "dp[1][1] = nums[0] # 맨땅은 계단에 포함 안하기 때문에 첫번째 계단에만 따로 처리\n",
    "\n",
    "# 연산\n",
    "# dp[0][i] : 한 걸음으로 온 다음 다시 한 걸음을 걸을 수 없으므로(세 계단 연속 금지) 두 걸음으로 온 곳 dp[1][i-1]에서 건너옴\n",
    "# dp[1][i] : 전에 한 걸음으로 왔을 때(dp[0][i-2]), 전에 두 걸음으로 왔을 때(dp[1][i-2]) 중 큰 곳에서 건너옴\n",
    "for i in range(2, n+1):\n",
    "    dp[0][i] = dp[1][i-1]+nums[i-1]\n",
    "    dp[1][i] = max(dp[0][i-2], dp[1][i-2]) + nums[i-1]\n",
    "    \n",
    "# 출력 : 마지막 계단은 무조건 밟아야 하기 때문에 dp[0][-1]과 dp[1][-1]만 봐도 됨\n",
    "print(max(dp[0][-1], dp[1][-1]))    "
   ]
  },
  {
   "cell_type": "code",
   "execution_count": null,
   "metadata": {},
   "outputs": [],
   "source": []
  }
 ],
 "metadata": {
  "kernelspec": {
   "display_name": "Python 3",
   "language": "python",
   "name": "python3"
  },
  "language_info": {
   "codemirror_mode": {
    "name": "ipython",
    "version": 3
   },
   "file_extension": ".py",
   "mimetype": "text/x-python",
   "name": "python",
   "nbconvert_exporter": "python",
   "pygments_lexer": "ipython3",
   "version": "3.7.4"
  }
 },
 "nbformat": 4,
 "nbformat_minor": 2
}
