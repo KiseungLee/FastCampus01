{
 "cells": [
  {
   "cell_type": "code",
   "execution_count": 1,
   "metadata": {},
   "outputs": [],
   "source": [
    "input = open(\"inputText\").readline"
   ]
  },
  {
   "cell_type": "code",
   "execution_count": 2,
   "metadata": {},
   "outputs": [
    {
     "name": "stdout",
     "output_type": "stream",
     "text": [
      "2\n",
      "1\n",
      "2\n",
      "0\n",
      "2\n",
      "1\n",
      "-1\n",
      "0\n",
      "1\n",
      "-1\n",
      "0\n",
      "3\n"
     ]
    }
   ],
   "source": [
    "from collections import deque\n",
    "import sys\n",
    "input = sys.stdin.readline\n",
    "deque = deque()\n",
    "ops = ['push_front','push_back','pop_front','pop_back','size','empty','front','back']\n",
    "\n",
    "for _ in range(int(input())):\n",
    "    command = input().split()\n",
    "    if command[0]==ops[0]:\n",
    "        deque.appendleft(command[1])\n",
    "    elif command[0]==ops[1]:\n",
    "        deque.append(command[1])\n",
    "    elif command[0]==ops[2]:\n",
    "        print(-1 if len(deque)==0 else deque.popleft())\n",
    "    elif command[0]==ops[3]:\n",
    "        print(-1 if len(deque)==0 else deque.pop())\n",
    "    elif command[0]==ops[4]:\n",
    "        print(len(deque))\n",
    "    elif command[0]==ops[5]:\n",
    "        print(1 if len(deque)==0 else 0)\n",
    "    elif command[0]==ops[6]:\n",
    "        print(-1 if len(deque)==0 else deque[0])\n",
    "    elif command[0]==ops[7]:\n",
    "        print(-1 if len(deque)==0 else deque[-1])"
   ]
  },
  {
   "cell_type": "code",
   "execution_count": null,
   "metadata": {},
   "outputs": [],
   "source": []
  }
 ],
 "metadata": {
  "kernelspec": {
   "display_name": "Python 3",
   "language": "python",
   "name": "python3"
  },
  "language_info": {
   "codemirror_mode": {
    "name": "ipython",
    "version": 3
   },
   "file_extension": ".py",
   "mimetype": "text/x-python",
   "name": "python",
   "nbconvert_exporter": "python",
   "pygments_lexer": "ipython3",
   "version": "3.7.4"
  }
 },
 "nbformat": 4,
 "nbformat_minor": 2
}
