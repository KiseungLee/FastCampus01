{
 "cells": [
  {
   "cell_type": "code",
   "execution_count": 11,
   "metadata": {},
   "outputs": [],
   "source": [
    "input = open(\"inputText\").readline"
   ]
  },
  {
   "cell_type": "code",
   "execution_count": 12,
   "metadata": {},
   "outputs": [
    {
     "name": "stdout",
     "output_type": "stream",
     "text": [
      "NO\n",
      "NO\n",
      "NO\n",
      "NO\n",
      "NO\n",
      "NO\n"
     ]
    }
   ],
   "source": [
    "for _ in range(int(input())):\n",
    "    word = input()\n",
    "    if ord(word[0])==40 and ord(word[-1])==41:\n",
    "        xor = 0\n",
    "        isFailed = False\n",
    "        for c in word:\n",
    "            xor ^= ord(c)\n",
    "            if xor==41:\n",
    "                print('NO')\n",
    "                isFailed = True\n",
    "                break\n",
    "        if not isFailed:\n",
    "            print('YES')\n",
    "    else:\n",
    "        print('NO')"
   ]
  },
  {
   "cell_type": "code",
   "execution_count": 2,
   "metadata": {},
   "outputs": [
    {
     "name": "stdout",
     "output_type": "stream",
     "text": [
      "(()())((()))\n",
      "40\n",
      "0\n",
      "41\n",
      "NO\n"
     ]
    }
   ],
   "source": [
    "word = input()\n",
    "if ord(word[0])==40 and ord(word[-1])==41:\n",
    "    xor = 0\n",
    "    isFailed = False\n",
    "    for c in word:\n",
    "        xor ^= ord(c)\n",
    "        print(xor)\n",
    "        if xor==41:\n",
    "            print('NO')\n",
    "            isFailed = True\n",
    "            break\n",
    "    if not isFailed:\n",
    "        print('YES')\n",
    "else:\n",
    "    print('NO')\n",
    "    \n",
    "# xor연산은 교환법칙 성립해서 이걸론 안되겠다."
   ]
  },
  {
   "cell_type": "code",
   "execution_count": 4,
   "metadata": {},
   "outputs": [],
   "source": [
    "input = open(\"inputText\").readline"
   ]
  },
  {
   "cell_type": "code",
   "execution_count": 2,
   "metadata": {},
   "outputs": [
    {
     "name": "stdout",
     "output_type": "stream",
     "text": [
      "6\n",
      "1\n",
      "NO\n",
      "1\n",
      "NO\n",
      "1\n",
      "NO\n",
      "1\n",
      "NO\n",
      "\n",
      "YES\n",
      "1\n",
      "NO\n"
     ]
    }
   ],
   "source": [
    "for _ in range(int(input())):\n",
    "    word = input()\n",
    "    depth = 0\n",
    "    isFailed = False\n",
    "    for c in word:\n",
    "        if c=='(':\n",
    "            depth+=1\n",
    "        else:\n",
    "            depth-=1\n",
    "            if depth==-1:\n",
    "                isFailed = True\n",
    "                break\n",
    "\n",
    "    if isFailed or depth!=0:\n",
    "        print('NO')\n",
    "    else:\n",
    "        print('YES')"
   ]
  },
  {
   "cell_type": "code",
   "execution_count": null,
   "metadata": {},
   "outputs": [],
   "source": []
  }
 ],
 "metadata": {
  "kernelspec": {
   "display_name": "Python 3",
   "language": "python",
   "name": "python3"
  },
  "language_info": {
   "codemirror_mode": {
    "name": "ipython",
    "version": 3
   },
   "file_extension": ".py",
   "mimetype": "text/x-python",
   "name": "python",
   "nbconvert_exporter": "python",
   "pygments_lexer": "ipython3",
   "version": "3.7.4"
  }
 },
 "nbformat": 4,
 "nbformat_minor": 2
}
