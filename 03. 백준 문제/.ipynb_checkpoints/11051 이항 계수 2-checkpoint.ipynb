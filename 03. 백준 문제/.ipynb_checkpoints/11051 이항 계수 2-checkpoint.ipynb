{
 "cells": [
  {
   "cell_type": "code",
   "execution_count": 45,
   "metadata": {},
   "outputs": [
    {
     "name": "stdout",
     "output_type": "stream",
     "text": [
      "5 0\n",
      "1\n"
     ]
    }
   ],
   "source": [
    "# 계속 런터임 에러 나서 재귀스택 늘려봄 -> 재귀스택 때문에 나는 에러 맞았음\n",
    "import sys\n",
    "sys.setrecursionlimit(5000) \n",
    "\n",
    "# 입력\n",
    "n, k = map(int, input().split())\n",
    "\n",
    "# n개에서 k개 뽑는 경우의 수 담을 배열\n",
    "table = [[0]*(k+1) for _ in range(n+1)]\n",
    "\n",
    "# table 채울 함수 정의\n",
    "def Combination(n, k):\n",
    "    global table\n",
    "    if table[n][k]!=0:\n",
    "        return table[n][k]\n",
    "    else:\n",
    "        result = 0\n",
    "        if k==0 or k==n:\n",
    "            result = 1\n",
    "        elif k==1:\n",
    "            result = n\n",
    "        else:\n",
    "            result = Combination(n-1, k)+Combination(n-1, k-1)\n",
    "        table[n][k] = result%10007\n",
    "        return table[n][k]\n",
    "\n",
    "# Combination 수행\n",
    "Combination(n, k)\n",
    "\n",
    "# 출력\n",
    "print(table[n][k])\n",
    "\n",
    "# 주피터에선 잘 되는데 백준에서 계속 런타임 에러남"
   ]
  },
  {
   "cell_type": "code",
   "execution_count": 32,
   "metadata": {},
   "outputs": [
    {
     "name": "stdout",
     "output_type": "stream",
     "text": [
      "[0, 0, 0]\n",
      "[0, 0, 0]\n",
      "[0, 2, 1]\n",
      "[0, 3, 3]\n",
      "[0, 4, 6]\n",
      "[0, 0, 10]\n"
     ]
    }
   ],
   "source": [
    "for line in table:\n",
    "    print(line)"
   ]
  },
  {
   "cell_type": "code",
   "execution_count": 44,
   "metadata": {},
   "outputs": [
    {
     "name": "stdout",
     "output_type": "stream",
     "text": [
      "5 2\n",
      "10\n"
     ]
    }
   ],
   "source": [
    "# 입력\n",
    "n, k = map(int, input().split())\n",
    "\n",
    "# k==0 일땐 답이 1이랍니다.\n",
    "if k==0:\n",
    "    print(1)\n",
    "else:\n",
    "    # n개에서 k개 뽑는 경우의 수 담을 배열\n",
    "    table = [[0]*(k+1) for _ in range(n+1)]\n",
    "\n",
    "    # table 채우기\n",
    "    for i in range(1, n+1):\n",
    "        for j in range(1, k+1):\n",
    "            if i==j or j==0:\n",
    "                table[i][j] = 1\n",
    "            elif j==1:\n",
    "                table[i][j] = i%10007\n",
    "            else:\n",
    "                table[i][j] = (table[i-1][j-1] + table[i-1][j])%10007\n",
    "\n",
    "    # 출력\n",
    "    print(table[n][k])"
   ]
  },
  {
   "cell_type": "code",
   "execution_count": 35,
   "metadata": {},
   "outputs": [
    {
     "data": {
      "text/plain": [
       "[[0, 0, 0], [0, 1, 0], [0, 1, 1], [0, 1, 2], [0, 1, 3], [0, 1, 4]]"
      ]
     },
     "execution_count": 35,
     "metadata": {},
     "output_type": "execute_result"
    }
   ],
   "source": [
    "table"
   ]
  },
  {
   "cell_type": "code",
   "execution_count": 49,
   "metadata": {},
   "outputs": [],
   "source": [
    "import sys\n",
    "sys.setrecursionlimit(5000) "
   ]
  },
  {
   "cell_type": "code",
   "execution_count": 48,
   "metadata": {},
   "outputs": [
    {
     "data": {
      "text/plain": [
       "3000"
      ]
     },
     "execution_count": 48,
     "metadata": {},
     "output_type": "execute_result"
    }
   ],
   "source": [
    "sys.getrecursionlimit()"
   ]
  },
  {
   "cell_type": "code",
   "execution_count": null,
   "metadata": {},
   "outputs": [],
   "source": []
  }
 ],
 "metadata": {
  "kernelspec": {
   "display_name": "Python 3",
   "language": "python",
   "name": "python3"
  },
  "language_info": {
   "codemirror_mode": {
    "name": "ipython",
    "version": 3
   },
   "file_extension": ".py",
   "mimetype": "text/x-python",
   "name": "python",
   "nbconvert_exporter": "python",
   "pygments_lexer": "ipython3",
   "version": "3.7.4"
  }
 },
 "nbformat": 4,
 "nbformat_minor": 2
}
