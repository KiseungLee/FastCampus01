{
 "cells": [
  {
   "cell_type": "code",
   "execution_count": 1,
   "metadata": {},
   "outputs": [],
   "source": [
    "# candidates : 남아 있는 후보\n",
    "# picked : 고른 값들\n",
    "def permutation(candidates,picked, n):\n",
    "    if len(picked)==n:\n",
    "        for num in picked:\n",
    "            print(num, end=' ')\n",
    "        print()\n",
    "    else:\n",
    "        if len(candidates)>0:\n",
    "            permutation(candidates[1:], picked[:]+[candidates[0]], n)\n",
    "            permutation(candidates[1:], picked[:], n)"
   ]
  },
  {
   "cell_type": "code",
   "execution_count": 2,
   "metadata": {},
   "outputs": [
    {
     "name": "stdout",
     "output_type": "stream",
     "text": [
      "4 2\n",
      "1 2 \n",
      "1 3 \n",
      "1 4 \n",
      "2 3 \n",
      "2 4 \n",
      "3 4 \n"
     ]
    }
   ],
   "source": [
    "n, m = map(int, input().split())\n",
    "arr = [i for i in range(1, n+1)]\n",
    "permutation(arr, [], m)"
   ]
  },
  {
   "cell_type": "code",
   "execution_count": null,
   "metadata": {},
   "outputs": [],
   "source": []
  }
 ],
 "metadata": {
  "kernelspec": {
   "display_name": "Python 3",
   "language": "python",
   "name": "python3"
  },
  "language_info": {
   "codemirror_mode": {
    "name": "ipython",
    "version": 3
   },
   "file_extension": ".py",
   "mimetype": "text/x-python",
   "name": "python",
   "nbconvert_exporter": "python",
   "pygments_lexer": "ipython3",
   "version": "3.7.4"
  }
 },
 "nbformat": 4,
 "nbformat_minor": 2
}
