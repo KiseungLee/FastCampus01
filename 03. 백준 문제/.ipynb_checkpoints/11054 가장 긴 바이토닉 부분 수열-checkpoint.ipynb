{
 "cells": [
  {
   "cell_type": "code",
   "execution_count": 9,
   "metadata": {},
   "outputs": [
    {
     "name": "stdout",
     "output_type": "stream",
     "text": [
      "10\n",
      "1 5 2 1 4 3 4 5 2 1\n",
      "7\n"
     ]
    }
   ],
   "source": [
    "# 입력\n",
    "n = int(input())\n",
    "nums = list(map(int, input().split()))\n",
    "\n",
    "# dp테이블 2개 초기화\n",
    "# dp_cres[i] : i번째 원소가 갖는 배열 왼쪽에서부터 시작한 가장 긴 증가하는 수열\n",
    "# dp_decr[i] : i번째 원소가 갖는 배열 오른쪽에서부터 시작한 가증 긴 증가하는 수열(==가장 오래 감소할 수열)\n",
    "dp_cres = [0]*n \n",
    "dp_decr = [0]*n\n",
    "\n",
    "# 증가하는 방향 연산\n",
    "for i in range(n):\n",
    "    max_num = 0\n",
    "    for j in range(i-1, -1, -1):\n",
    "        if nums[j]<nums[i] and dp_cres[j]>max_num:\n",
    "            max_num = dp_cres[j]\n",
    "    dp_cres[i] = max_num + 1\n",
    "        \n",
    "# 감소하는 방향 연산 : 증가하는 방향 연산을 배열 뒤쪽부터 수행\n",
    "for i in range(n-1, -1, -1):\n",
    "    max_num = 0\n",
    "    for j in range(i+1, n):\n",
    "        if nums[j]<nums[i] and dp_decr[j]>max_num:\n",
    "            max_num = dp_decr[j]\n",
    "    dp_decr[i] = max_num + 1\n",
    "    \n",
    "# result[i] : i번째 원소가 가장 길게 증가 할때 + 가장 오래 감소할 때\n",
    "result = [dp_cres[i]+dp_decr[i]-1 for i in range(n)]\n",
    "print(max(result))"
   ]
  },
  {
   "cell_type": "code",
   "execution_count": 1,
   "metadata": {},
   "outputs": [],
   "source": [
    "n = 10"
   ]
  },
  {
   "cell_type": "code",
   "execution_count": 2,
   "metadata": {},
   "outputs": [
    {
     "name": "stdout",
     "output_type": "stream",
     "text": [
      "9\n",
      "8\n",
      "7\n",
      "6\n",
      "5\n",
      "4\n",
      "3\n",
      "2\n",
      "1\n",
      "0\n"
     ]
    }
   ],
   "source": [
    "for i in range(n-1, -1, -1):\n",
    "    print(i)"
   ]
  },
  {
   "cell_type": "code",
   "execution_count": null,
   "metadata": {},
   "outputs": [],
   "source": []
  }
 ],
 "metadata": {
  "kernelspec": {
   "display_name": "Python 3",
   "language": "python",
   "name": "python3"
  },
  "language_info": {
   "codemirror_mode": {
    "name": "ipython",
    "version": 3
   },
   "file_extension": ".py",
   "mimetype": "text/x-python",
   "name": "python",
   "nbconvert_exporter": "python",
   "pygments_lexer": "ipython3",
   "version": "3.7.4"
  }
 },
 "nbformat": 4,
 "nbformat_minor": 2
}
