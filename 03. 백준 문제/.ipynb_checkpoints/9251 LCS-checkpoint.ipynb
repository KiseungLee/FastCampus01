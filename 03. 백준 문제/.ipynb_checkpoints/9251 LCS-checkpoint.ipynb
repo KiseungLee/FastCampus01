{
 "cells": [
  {
   "cell_type": "code",
   "execution_count": 13,
   "metadata": {},
   "outputs": [
    {
     "name": "stdout",
     "output_type": "stream",
     "text": [
      "CAPCAK\n",
      "ACAYKP\n",
      "4\n"
     ]
    }
   ],
   "source": [
    "# 입력\n",
    "word1 = input()\n",
    "word2 = input()\n",
    "\n",
    "# dp[i][j] \n",
    "# word1을 i까지만, word2를 j까지만 봤을때 가장 긴 공통 부분 수열\n",
    "dp = [[0]*(len(word2)+1) for _ in range(len(word1)+1)]\n",
    "\n",
    "# 연산\n",
    "for i in range(1, len(word1)+1):\n",
    "    for j in range(1, len(word2)+1):\n",
    "        if word1[i-1]==word2[j-1]:\n",
    "            dp[i][j] = dp[i-1][j-1] + 1\n",
    "        else:\n",
    "            dp[i][j] = max(dp[i-1][j], dp[i][j-1])\n",
    "    \n",
    "# 출력\n",
    "print(dp[len(word1)][len(word2)])"
   ]
  },
  {
   "cell_type": "code",
   "execution_count": 5,
   "metadata": {},
   "outputs": [
    {
     "data": {
      "text/plain": [
       "[[0, 0, 0, 0, 0, 0, 0, 0], [0, 0, 0, 0, 0, 0, 0, 0], [0, 0, 0, 0, 0, 0, 0, 0]]"
      ]
     },
     "execution_count": 5,
     "metadata": {},
     "output_type": "execute_result"
    }
   ],
   "source": [
    "dp"
   ]
  },
  {
   "cell_type": "code",
   "execution_count": 12,
   "metadata": {},
   "outputs": [
    {
     "data": {
      "text/plain": [
       "[[0, 0, 0, 0, 0, 0, 0],\n",
       " [0, 0, 0, 1, 1, 1, 1],\n",
       " [0, 0, 1, 1, 1, 2, 2],\n",
       " [0, 0, 1, 2, 2, 2, 3],\n",
       " [0, 0, 1, 2, 2, 2, 3],\n",
       " [0, 1, 1, 2, 2, 2, 3],\n",
       " [0, 1, 1, 2, 3, 3, 3]]"
      ]
     },
     "execution_count": 12,
     "metadata": {},
     "output_type": "execute_result"
    }
   ],
   "source": [
    "dp"
   ]
  },
  {
   "cell_type": "code",
   "execution_count": null,
   "metadata": {},
   "outputs": [],
   "source": []
  }
 ],
 "metadata": {
  "kernelspec": {
   "display_name": "Python 3",
   "language": "python",
   "name": "python3"
  },
  "language_info": {
   "codemirror_mode": {
    "name": "ipython",
    "version": 3
   },
   "file_extension": ".py",
   "mimetype": "text/x-python",
   "name": "python",
   "nbconvert_exporter": "python",
   "pygments_lexer": "ipython3",
   "version": "3.7.4"
  }
 },
 "nbformat": 4,
 "nbformat_minor": 2
}
