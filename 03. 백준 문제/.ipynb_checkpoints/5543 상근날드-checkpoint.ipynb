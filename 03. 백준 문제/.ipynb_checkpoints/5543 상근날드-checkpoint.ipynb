{
 "cells": [
  {
   "cell_type": "code",
   "execution_count": 1,
   "metadata": {
    "scrolled": true
   },
   "outputs": [
    {
     "name": "stdout",
     "output_type": "stream",
     "text": [
      "800\n",
      "700\n",
      "900\n",
      "198\n",
      "330\n",
      "848\n"
     ]
    }
   ],
   "source": [
    "cheap_burger = 2000\n",
    "cheap_drink = 2000\n",
    "\n",
    "for _ in range(3):\n",
    "    price = int(input())\n",
    "    if price < cheap_burger:\n",
    "        cheap_burger = price\n",
    "        \n",
    "for _ in range(2):\n",
    "    price = int(input())\n",
    "    if price < cheap_drink:\n",
    "        cheap_drink = price\n",
    "        \n",
    "print(cheap_burger + cheap_drink - 50)"
   ]
  },
  {
   "cell_type": "code",
   "execution_count": null,
   "metadata": {},
   "outputs": [],
   "source": []
  }
 ],
 "metadata": {
  "kernelspec": {
   "display_name": "Python 3",
   "language": "python",
   "name": "python3"
  },
  "language_info": {
   "codemirror_mode": {
    "name": "ipython",
    "version": 3
   },
   "file_extension": ".py",
   "mimetype": "text/x-python",
   "name": "python",
   "nbconvert_exporter": "python",
   "pygments_lexer": "ipython3",
   "version": "3.7.4"
  }
 },
 "nbformat": 4,
 "nbformat_minor": 2
}
