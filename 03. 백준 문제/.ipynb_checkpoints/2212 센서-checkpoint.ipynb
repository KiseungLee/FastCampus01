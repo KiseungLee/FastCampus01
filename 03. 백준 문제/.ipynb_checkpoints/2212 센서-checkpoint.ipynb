{
 "cells": [
  {
   "cell_type": "code",
   "execution_count": 12,
   "metadata": {},
   "outputs": [
    {
     "name": "stdout",
     "output_type": "stream",
     "text": [
      "5\n"
     ]
    }
   ],
   "source": [
    "# https://www.acmicpc.net/problem/2212\n",
    "input = open('input.txt').readline\n",
    "\n",
    "n = int(input())\n",
    "k = int(input())\n",
    "nodes = sorted(list(map(int, input().split())))\n",
    "nodes = [nodes[i+1]-nodes[i] for i in range(len(nodes)-1)]\n",
    "nodes = sorted(nodes, reverse = True)\n",
    "\n",
    "print(sum(nodes[k-1:]))"
   ]
  },
  {
   "cell_type": "code",
   "execution_count": 9,
   "metadata": {},
   "outputs": [
    {
     "data": {
      "text/plain": [
       "[2, 2, 1, 0]"
      ]
     },
     "execution_count": 9,
     "metadata": {},
     "output_type": "execute_result"
    }
   ],
   "source": [
    "nodes"
   ]
  },
  {
   "cell_type": "code",
   "execution_count": null,
   "metadata": {},
   "outputs": [],
   "source": [
    "1 3 6 6 7 9\n",
    " 2 3 0 1 2"
   ]
  }
 ],
 "metadata": {
  "kernelspec": {
   "display_name": "Python 3",
   "language": "python",
   "name": "python3"
  },
  "language_info": {
   "codemirror_mode": {
    "name": "ipython",
    "version": 3
   },
   "file_extension": ".py",
   "mimetype": "text/x-python",
   "name": "python",
   "nbconvert_exporter": "python",
   "pygments_lexer": "ipython3",
   "version": "3.7.4"
  }
 },
 "nbformat": 4,
 "nbformat_minor": 2
}
