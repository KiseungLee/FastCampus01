{
 "cells": [
  {
   "cell_type": "code",
   "execution_count": null,
   "metadata": {},
   "outputs": [],
   "source": [
    "# n개를 a에서 b로 옮길때\n",
    "# 0\n",
    "# 1\n",
    "# 2\n",
    "def hanoi(n, a, b):\n",
    "    "
   ]
  },
  {
   "cell_type": "code",
   "execution_count": 4,
   "metadata": {},
   "outputs": [
    {
     "name": "stdout",
     "output_type": "stream",
     "text": [
      "3\n"
     ]
    }
   ],
   "source": [
    "a = 0\n",
    "b = 3\n",
    "c = 3-(a+b)%3\n",
    "print(c)"
   ]
  },
  {
   "cell_type": "code",
   "execution_count": 5,
   "metadata": {},
   "outputs": [],
   "source": [
    "a = 1\n",
    "b = 2\n",
    "c = a^b^0^1^2"
   ]
  },
  {
   "cell_type": "code",
   "execution_count": 6,
   "metadata": {},
   "outputs": [
    {
     "name": "stdout",
     "output_type": "stream",
     "text": [
      "0\n"
     ]
    }
   ],
   "source": [
    "print(a^b^0^1^2)"
   ]
  },
  {
   "cell_type": "code",
   "execution_count": 23,
   "metadata": {},
   "outputs": [],
   "source": [
    "# hadnoi = [[...], [...], [...]] 같이 막대 3개를 이중배열로 담아 사용. 각 막대는 0, 1, 2 번으로 구분\n",
    "# a에 있는거 n개를 b에 옮겨라\n",
    "def printHanoi(a, n, b):\n",
    "    # 종료 조건\n",
    "    if n==0:\n",
    "        return\n",
    "    \n",
    "    # 전역변수 설정\n",
    "    global hanoi\n",
    "    global logs\n",
    "    global count\n",
    "    \n",
    "    # a, b 가아닌 c번 막대 XOR 연산으로 구함\n",
    "    c = a^b^0^1^2\n",
    "    \n",
    "    # a에 있는거 n-1개를 c로 옮겨놓음\n",
    "    printHanoi(a, n-1, c)\n",
    "    \n",
    "    # a에 있는 나머지 1개 b로 옮김, 로그 남기고 횟수 추가\n",
    "    hanoi[b].append(hanoi[a].pop()) # pop과 append는 O(1) \n",
    "    logs.append([a+1, b+1])\n",
    "    count += 1\n",
    "    \n",
    "    # c에 옮겨놨던 n-1개를 b로 옮김\n",
    "    printHanoi(c, n-1, b)"
   ]
  },
  {
   "cell_type": "code",
   "execution_count": 24,
   "metadata": {},
   "outputs": [
    {
     "name": "stdout",
     "output_type": "stream",
     "text": [
      "3\n",
      "7\n",
      "1 3\n",
      "1 2\n",
      "3 2\n",
      "1 3\n",
      "2 1\n",
      "2 3\n",
      "1 3\n"
     ]
    }
   ],
   "source": [
    "# 입력\n",
    "n = int(input())\n",
    "\n",
    "# 하노이의 탑 이중배열, 이동 로그 배열, 횟수 변수 생성\n",
    "hanoi = [[i for i in range(n)], [], []]\n",
    "logs = []\n",
    "count = 0\n",
    "\n",
    "# 실행\n",
    "printHanoi(0, n, 2)\n",
    "\n",
    "# 출력\n",
    "print(count)\n",
    "for log in logs:\n",
    "    print(log[0], log[1])"
   ]
  },
  {
   "cell_type": "code",
   "execution_count": 10,
   "metadata": {},
   "outputs": [
    {
     "data": {
      "text/plain": [
       "[[0, 1, 2, 3, 4], [], []]"
      ]
     },
     "execution_count": 10,
     "metadata": {},
     "output_type": "execute_result"
    }
   ],
   "source": [
    "hanoi"
   ]
  },
  {
   "cell_type": "code",
   "execution_count": 22,
   "metadata": {},
   "outputs": [
    {
     "name": "stdout",
     "output_type": "stream",
     "text": [
      "3\n",
      "7\n",
      "1 3\n",
      "1 2\n",
      "3 2\n",
      "1 3\n",
      "2 1\n",
      "2 3\n",
      "1 3\n"
     ]
    }
   ],
   "source": [
    "# a에 있는거 n개를 b에 옮겨라 - 굳이 이중배열 만들어서 시뮬레이션할 필요 없음\n",
    "def printHanoi(a, n, b):\n",
    "    # 종료 조건\n",
    "    if n==0:\n",
    "        return\n",
    "    \n",
    "    # a, b 가아닌 c번 막대 XOR 연산으로 구함\n",
    "    c = a^b^1^2^3\n",
    "    \n",
    "    # a에 있는거 n-1개를 c로 옮겨놓음\n",
    "    printHanoi(a, n-1, c)\n",
    "    \n",
    "    # a에 있는 나머지 1개 b로 옮김\n",
    "    print(a, b)\n",
    "    \n",
    "    # c에 옮겨놨던 n-1개를 b로 옮김\n",
    "    printHanoi(c, n-1, b)\n",
    "    \n",
    "# 입력\n",
    "n = int(input())\n",
    "\n",
    "# 횟수는 이미 알려진 공식으로 출력\n",
    "print(2**n-1)\n",
    "\n",
    "# 실행\n",
    "printHanoi(1, n, 3) "
   ]
  },
  {
   "cell_type": "code",
   "execution_count": null,
   "metadata": {},
   "outputs": [],
   "source": []
  }
 ],
 "metadata": {
  "kernelspec": {
   "display_name": "Python 3",
   "language": "python",
   "name": "python3"
  },
  "language_info": {
   "codemirror_mode": {
    "name": "ipython",
    "version": 3
   },
   "file_extension": ".py",
   "mimetype": "text/x-python",
   "name": "python",
   "nbconvert_exporter": "python",
   "pygments_lexer": "ipython3",
   "version": "3.7.4"
  }
 },
 "nbformat": 4,
 "nbformat_minor": 2
}
