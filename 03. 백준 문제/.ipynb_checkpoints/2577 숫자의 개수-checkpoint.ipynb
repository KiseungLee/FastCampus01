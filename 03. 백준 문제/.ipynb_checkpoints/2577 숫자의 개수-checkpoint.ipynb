{
 "cells": [
  {
   "cell_type": "code",
   "execution_count": 1,
   "metadata": {},
   "outputs": [
    {
     "name": "stdout",
     "output_type": "stream",
     "text": [
      "150\n",
      "266\n",
      "427\n",
      "3\n",
      "1\n",
      "0\n",
      "2\n",
      "0\n",
      "0\n",
      "0\n",
      "2\n",
      "0\n",
      "0\n"
     ]
    }
   ],
   "source": [
    "# 입력\n",
    "a = int(input())\n",
    "b = int(input())\n",
    "c = int(input())\n",
    "\n",
    "# 곱하기\n",
    "num = a*b*c\n",
    "\n",
    "# 각 숫자가 몇번 나왔는지 체크할 배열 선언 및 초기화\n",
    "arr = [0 for i in range(10)]\n",
    "\n",
    "# 10으로 나눈 결과가 0이 될때까지 10으로 나누고, 나눈 나머지의 index를 기록\n",
    "while num!=0:\n",
    "    rest = num%10\n",
    "    arr[rest] += 1\n",
    "    num = num//10\n",
    "    \n",
    "# 출력\n",
    "for n in arr:\n",
    "    print(n)"
   ]
  },
  {
   "cell_type": "code",
   "execution_count": null,
   "metadata": {},
   "outputs": [],
   "source": []
  }
 ],
 "metadata": {
  "kernelspec": {
   "display_name": "Python 3",
   "language": "python",
   "name": "python3"
  },
  "language_info": {
   "codemirror_mode": {
    "name": "ipython",
    "version": 3
   },
   "file_extension": ".py",
   "mimetype": "text/x-python",
   "name": "python",
   "nbconvert_exporter": "python",
   "pygments_lexer": "ipython3",
   "version": "3.7.4"
  }
 },
 "nbformat": 4,
 "nbformat_minor": 2
}
