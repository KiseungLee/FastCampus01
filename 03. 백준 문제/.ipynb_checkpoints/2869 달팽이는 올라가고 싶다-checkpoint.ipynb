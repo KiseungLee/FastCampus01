{
 "cells": [
  {
   "cell_type": "code",
   "execution_count": 5,
   "metadata": {},
   "outputs": [
    {
     "name": "stdout",
     "output_type": "stream",
     "text": [
      "2 1 5\n",
      "4\n"
     ]
    }
   ],
   "source": [
    "# F(a, b, n) : a올라가고 b떨어질때 n번째 날 밤에 높이(n번째 날은 아직 안떨어짐)\n",
    "# def F(a, b, n):\n",
    "#    return (a-b)*n + b\n",
    "\n",
    "# v <= F(a, b, n) 을 만족하는 n의 최소값을 찾으면 됨.\n",
    "# 반복을 돌려 찾을수도 있으나 \n",
    "# v <= (a-b)*n + b\n",
    "# (v-b)/(a-b) <= n 을 만족시키는 n의 최솟값을 구하면 되고 이는 (v-b)/(a-b) 의 올림으로 구할 수 있음.\n",
    "\n",
    "import math\n",
    "a, b, v = map(int, input().split())\n",
    "print(math.ceil((v-b)/(a-b)))"
   ]
  },
  {
   "cell_type": "code",
   "execution_count": 3,
   "metadata": {},
   "outputs": [
    {
     "data": {
      "text/plain": [
       "5"
      ]
     },
     "execution_count": 3,
     "metadata": {},
     "output_type": "execute_result"
    }
   ],
   "source": [
    "\n",
    "math.ceil(4.1)"
   ]
  },
  {
   "cell_type": "code",
   "execution_count": null,
   "metadata": {},
   "outputs": [],
   "source": []
  }
 ],
 "metadata": {
  "kernelspec": {
   "display_name": "Python 3",
   "language": "python",
   "name": "python3"
  },
  "language_info": {
   "codemirror_mode": {
    "name": "ipython",
    "version": 3
   },
   "file_extension": ".py",
   "mimetype": "text/x-python",
   "name": "python",
   "nbconvert_exporter": "python",
   "pygments_lexer": "ipython3",
   "version": "3.7.4"
  }
 },
 "nbformat": 4,
 "nbformat_minor": 2
}
