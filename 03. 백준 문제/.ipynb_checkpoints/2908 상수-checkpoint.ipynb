{
 "cells": [
  {
   "cell_type": "code",
   "execution_count": 1,
   "metadata": {},
   "outputs": [
    {
     "name": "stdout",
     "output_type": "stream",
     "text": [
      "734 893\n"
     ]
    }
   ],
   "source": [
    "a, b = map(int, input().split())"
   ]
  },
  {
   "cell_type": "code",
   "execution_count": 2,
   "metadata": {},
   "outputs": [],
   "source": [
    "def reverse_num(num):\n",
    "    result = 0\n",
    "    while num!=0:\n",
    "        result = result*10 + num%10\n",
    "        num = num//10\n",
    "    return result"
   ]
  },
  {
   "cell_type": "code",
   "execution_count": 4,
   "metadata": {},
   "outputs": [],
   "source": [
    "a = reverse_num(a)\n",
    "b = reverse_num(b)"
   ]
  },
  {
   "cell_type": "code",
   "execution_count": 9,
   "metadata": {},
   "outputs": [
    {
     "name": "stdout",
     "output_type": "stream",
     "text": [
      "437\n"
     ]
    }
   ],
   "source": [
    "print(a if a>=b else b)"
   ]
  },
  {
   "cell_type": "code",
   "execution_count": null,
   "metadata": {},
   "outputs": [],
   "source": []
  },
  {
   "cell_type": "code",
   "execution_count": null,
   "metadata": {},
   "outputs": [],
   "source": [
    "# 숫자를 뒤집어 출력하는 함수 정의\n",
    "def reverse_num(num):\n",
    "    result = 0\n",
    "    while num!=0:\n",
    "        result = result*10 + num%10\n",
    "        num = num//10\n",
    "    return result\n",
    "\n",
    "# 입력\n",
    "a, b = map(int, input().split())\n",
    "\n",
    "# 뒤집기\n",
    "a = reverse_num(a)\n",
    "b = reverse_num(b)\n",
    "\n",
    "# 큰 거 출력\n",
    "print(a if a>=b else b)"
   ]
  }
 ],
 "metadata": {
  "kernelspec": {
   "display_name": "Python 3",
   "language": "python",
   "name": "python3"
  },
  "language_info": {
   "codemirror_mode": {
    "name": "ipython",
    "version": 3
   },
   "file_extension": ".py",
   "mimetype": "text/x-python",
   "name": "python",
   "nbconvert_exporter": "python",
   "pygments_lexer": "ipython3",
   "version": "3.7.4"
  }
 },
 "nbformat": 4,
 "nbformat_minor": 2
}
