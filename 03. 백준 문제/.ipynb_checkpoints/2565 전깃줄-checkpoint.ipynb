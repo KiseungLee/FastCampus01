{
 "cells": [
  {
   "cell_type": "code",
   "execution_count": 31,
   "metadata": {},
   "outputs": [
    {
     "name": "stdout",
     "output_type": "stream",
     "text": [
      "3\n",
      "1 1\n",
      "2 2\n",
      "3 3\n",
      "0\n"
     ]
    }
   ],
   "source": [
    "# 입력\n",
    "n = int(input())\n",
    "arr = []\n",
    "for _ in range(n):\n",
    "    x, y = map(int, input().split())\n",
    "    arr.append([x, y])\n",
    "\n",
    "# A전봇대 기준으로 오름차순 정렬해서 B전봇대 숫자만 남김\n",
    "arr = [i[1] for i in sorted(arr, key=lambda x:x[0] )]\n",
    "\n",
    "# 연산 : A전봇대 순서대로 정렬한 B전봇대가 모두 오름차순 되어야함.\n",
    "#        여기부턴 11053번 LIS문제임. 가장 긴 증가하는 부분 수열 찾고 그게 아닌 것들을 지우면 됨\n",
    "dp = [0]*(n+1)\n",
    "for i in range(1, n+1):\n",
    "    max_num = 0\n",
    "    for j in range(i-1, -1, -1):\n",
    "        if arr[i-1]>arr[j-1] and dp[j]>max_num:\n",
    "            max_num = dp[j]\n",
    "    dp[i] = max_num+1\n",
    "    \n",
    "# 출력 : 전체갯수 - 가장긴오름차순갯수\n",
    "print(n-max(dp))"
   ]
  },
  {
   "cell_type": "code",
   "execution_count": 29,
   "metadata": {},
   "outputs": [
    {
     "data": {
      "text/plain": [
       "7"
      ]
     },
     "execution_count": 29,
     "metadata": {},
     "output_type": "execute_result"
    }
   ],
   "source": [
    "i"
   ]
  },
  {
   "cell_type": "code",
   "execution_count": 28,
   "metadata": {},
   "outputs": [
    {
     "data": {
      "text/plain": [
       "5"
      ]
     },
     "execution_count": 28,
     "metadata": {},
     "output_type": "execute_result"
    }
   ],
   "source": [
    "arr[5]"
   ]
  },
  {
   "cell_type": "code",
   "execution_count": 11,
   "metadata": {},
   "outputs": [],
   "source": []
  },
  {
   "cell_type": "code",
   "execution_count": 13,
   "metadata": {},
   "outputs": [
    {
     "name": "stdout",
     "output_type": "stream",
     "text": [
      "3\n"
     ]
    }
   ],
   "source": []
  },
  {
   "cell_type": "code",
   "execution_count": 10,
   "metadata": {},
   "outputs": [],
   "source": [
    "n = 8"
   ]
  },
  {
   "cell_type": "code",
   "execution_count": null,
   "metadata": {},
   "outputs": [],
   "source": []
  }
 ],
 "metadata": {
  "kernelspec": {
   "display_name": "Python 3",
   "language": "python",
   "name": "python3"
  },
  "language_info": {
   "codemirror_mode": {
    "name": "ipython",
    "version": 3
   },
   "file_extension": ".py",
   "mimetype": "text/x-python",
   "name": "python",
   "nbconvert_exporter": "python",
   "pygments_lexer": "ipython3",
   "version": "3.7.4"
  }
 },
 "nbformat": 4,
 "nbformat_minor": 2
}
