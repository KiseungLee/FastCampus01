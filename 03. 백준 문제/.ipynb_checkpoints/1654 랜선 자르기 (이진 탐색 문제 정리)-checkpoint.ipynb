{
 "cells": [
  {
   "cell_type": "code",
   "execution_count": 20,
   "metadata": {},
   "outputs": [],
   "source": [
    "import sys\n",
    "input = sys.stdin.readline"
   ]
  },
  {
   "cell_type": "code",
   "execution_count": 52,
   "metadata": {
    "scrolled": true
   },
   "outputs": [
    {
     "name": "stdout",
     "output_type": "stream",
     "text": [
      "3 3\n",
      "5\n",
      "10\n",
      "1\n",
      "5\n"
     ]
    }
   ],
   "source": [
    "# m의 길이로 잘라 n개 만들 수 있니\n",
    "def fn(m, n):\n",
    "    count = 0\n",
    "    for num in nums:\n",
    "        count += num//m\n",
    "    return True if count>=n else False\n",
    "\n",
    "# 입력\n",
    "k, n = map(int, input().split())\n",
    "nums = []\n",
    "for _ in range(k):\n",
    "    nums.append(int(input()))\n",
    "\n",
    "# 이분탐색 돌리기\n",
    "start = 1\n",
    "end = max(nums)\n",
    "while start<=end:\n",
    "    mid = (start+end)//2\n",
    "    if fn(mid, n):\n",
    "        start = mid+1\n",
    "    else:\n",
    "        end = mid-1\n",
    "        \n",
    "# 출력\n",
    "print(end)"
   ]
  },
  {
   "cell_type": "code",
   "execution_count": 50,
   "metadata": {},
   "outputs": [
    {
     "name": "stdout",
     "output_type": "stream",
     "text": [
      "6 6 5\n"
     ]
    }
   ],
   "source": [
    "# m의 길이로 잘라 n개 만들 수 있니\n",
    "def fn(m, n):\n",
    "    count = 0\n",
    "    for num in nums:\n",
    "        count += num//m\n",
    "    return True if count>=n else False\n",
    "\n",
    "# 입력\n",
    "k, n = map(int, input().split())\n",
    "nums = []\n",
    "for _ in range(k):\n",
    "    nums.append(int(input()))\n",
    "\n",
    "# 이분탐색 돌리기\n",
    "start = 1\n",
    "end = max(nums)\n",
    "while start<=end:\n",
    "    mid = (start+end)//2\n",
    "    if fn(mid, n):\n",
    "        start = mid+1\n",
    "    else:\n",
    "        end = mid-1\n",
    "        \n",
    "# 출력\n",
    "print(end)"
   ]
  },
  {
   "cell_type": "code",
   "execution_count": 25,
   "metadata": {},
   "outputs": [
    {
     "data": {
      "text/plain": [
       "3"
      ]
     },
     "execution_count": 25,
     "metadata": {},
     "output_type": "execute_result"
    }
   ],
   "source": [
    "end"
   ]
  },
  {
   "cell_type": "markdown",
   "metadata": {},
   "source": [
    "### 이걸로 가자\n",
    "\n",
    "기본 조건들은\n",
    "1. left<=right\n",
    "2. mid = (left+right)//2\n",
    "3. left = mid+1\n",
    "4. right = mid-1\n",
    "5. 여기서\n",
    "    1. 가능한 최댓값 찾기 : right 가져옴\n",
    "    2. 가능한 최솟값 찾기 : left 가져옴"
   ]
  },
  {
   "cell_type": "markdown",
   "metadata": {},
   "source": [
    "#### 이거 아닌거 같음. 예외가 많이 나옴\n",
    "\n",
    "1. while 종료 조건은 left < right 로 고정\n",
    "\n",
    "\n",
    "\n",
    "2. 가능한 큰 값을 찾을때 ex - [1, 2, 3, 4,], 5, 6, 7, 8, 9 - []가 가능한 값들\n",
    "\n",
    "  2.1. mid = (left+right)//2 + 1\n",
    "\n",
    "  2.2. left = mid\n",
    "\n",
    "  2.3. right = mid-1\n",
    "    \n",
    "    \n",
    "    \n",
    "3. 가능한 작은 값을 찾을 때\n",
    "\n",
    "  3.1. mid = (left+right)//2\n",
    " \n",
    "  3.2. left = mid+1\n",
    "  \n",
    "  3.3. right = mid"
   ]
  },
  {
   "cell_type": "code",
   "execution_count": null,
   "metadata": {},
   "outputs": [],
   "source": []
  }
 ],
 "metadata": {
  "kernelspec": {
   "display_name": "Python 3",
   "language": "python",
   "name": "python3"
  },
  "language_info": {
   "codemirror_mode": {
    "name": "ipython",
    "version": 3
   },
   "file_extension": ".py",
   "mimetype": "text/x-python",
   "name": "python",
   "nbconvert_exporter": "python",
   "pygments_lexer": "ipython3",
   "version": "3.7.4"
  }
 },
 "nbformat": 4,
 "nbformat_minor": 2
}
