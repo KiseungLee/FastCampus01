{
 "cells": [
  {
   "cell_type": "code",
   "execution_count": 11,
   "metadata": {},
   "outputs": [
    {
     "name": "stdout",
     "output_type": "stream",
     "text": [
      "6\n",
      "6\n",
      "10\n",
      "13\n",
      "9\n",
      "8\n",
      "1\n",
      "33\n"
     ]
    }
   ],
   "source": [
    "# 입력\n",
    "n = int(input())\n",
    "glasses = [int(input()) for _ in range(n)]\n",
    "\n",
    "# dp 초기화\n",
    "# 2579 계단오르기는 해당 계단에 1걸음 or 2걸음으로 오되 3계단 연속으로 밟지 말라\n",
    "# 이 문제는 3잔 연속으로만 마시지 말라. 이를 위해 dp를 3행으로 늘림\n",
    "# dp가 2579처럼 2행만 있으면 [100, 100, 1, 1, 100, 100] 같은 경우를 처리 못함(사실 한 번 틀림)\n",
    "# 3행이 있으면 처리가능. 근데 왜 3행까지냐, 3행이면 위의 경우같은 2개를 건너뛸 수 있음.\n",
    "# 근데 [100, 100, 1, 1, 1, 100, 100]에서 3개를 건너뛸 바엔 3개 중간에 1개를 먹는게 나으므로 3개는 건너뛸 일이 없음. 그래서 3행까지만\n",
    "dp = [[0]*(n+3), [0]*(n+3), [0]*(n+3)]\n",
    "\n",
    "# 연산\n",
    "# dp[j]의 0, 1, 2는 연산을 위한 열\n",
    "for i in range(3, n+3):\n",
    "    dp[0][i] = max(dp[1][i-1], dp[2][i-1]) + glasses[i-3]\n",
    "    dp[1][i] = max(dp[0][i-2], dp[1][i-2], dp[2][i-2]) + glasses[i-3]\n",
    "    dp[2][i] = max(dp[0][i-3], dp[1][i-3], dp[2][i-3]) + glasses[i-3]\n",
    "    \n",
    "# 출력 : 2579 계단오르기와 다르게 마지막걸 안먹을 수도 있기 때문에 마지막 전것들까지 포함해서 max계산.\n",
    "#        '마지막 전전'것보단 '마지막 전전+마지막'이 더 크므로 마지막의 전전은 제외\n",
    "print(max(dp[0][-1], dp[0][-2], dp[1][-1], dp[1][-2]))"
   ]
  },
  {
   "cell_type": "code",
   "execution_count": 12,
   "metadata": {},
   "outputs": [
    {
     "data": {
      "text/plain": [
       "[[0, 0, 0, 6, 16, 23, 28, 33, 32],\n",
       " [0, 0, 0, 6, 10, 19, 25, 31, 29],\n",
       " [0, 0, 0, 6, 10, 13, 15, 24, 24]]"
      ]
     },
     "execution_count": 12,
     "metadata": {},
     "output_type": "execute_result"
    }
   ],
   "source": [
    "dp"
   ]
  },
  {
   "cell_type": "code",
   "execution_count": null,
   "metadata": {},
   "outputs": [],
   "source": []
  }
 ],
 "metadata": {
  "kernelspec": {
   "display_name": "Python 3",
   "language": "python",
   "name": "python3"
  },
  "language_info": {
   "codemirror_mode": {
    "name": "ipython",
    "version": 3
   },
   "file_extension": ".py",
   "mimetype": "text/x-python",
   "name": "python",
   "nbconvert_exporter": "python",
   "pygments_lexer": "ipython3",
   "version": "3.7.4"
  }
 },
 "nbformat": 4,
 "nbformat_minor": 2
}
