{
 "cells": [
  {
   "cell_type": "code",
   "execution_count": 24,
   "metadata": {},
   "outputs": [
    {
     "name": "stdout",
     "output_type": "stream",
     "text": [
      "1000 70 83\n",
      "77\n"
     ]
    }
   ],
   "source": [
    "# 입력\n",
    "a, b, c = map(int, input().split())\n",
    "\n",
    "# a+b*x < c*x 를 만족하는 x구하기\n",
    "# 0 < (c-b)*x-a로 변환(곱 연산의 횟수를 줄임)\n",
    "# 단 c-b<0인 경우 손익분기점 못넘기니 -1 출력\n",
    "if c-b <= 0:\n",
    "    print(-1)\n",
    "else:\n",
    "    x = 0\n",
    "    while (c-b)*x-a <= 0:\n",
    "        x+=1\n",
    "    print(x)\n",
    "    \n",
    "# --> 시간 초과. O(n) 으로 가면 안되나봄.\n",
    "# x = a/(c-b) 올림 해주면 될거 같음 O(1)이네 "
   ]
  },
  {
   "cell_type": "code",
   "execution_count": 25,
   "metadata": {},
   "outputs": [
    {
     "name": "stdout",
     "output_type": "stream",
     "text": [
      "1000 70 83\n",
      "77\n"
     ]
    }
   ],
   "source": [
    "import math\n",
    "\n",
    "# 입력\n",
    "a, b, c = map(int, input().split())\n",
    "\n",
    "# a+b*x < c*x 를 만족하는 x구하기\n",
    "# c-b<0인 경우 손익분기점 못넘기니 -1 출력\n",
    "# a/(c-b) < x 로 a/(c-b)가 정수일땐 a/(c-b)+1 , 정수가 아닐땐 a/(c-b)를 올림 -> a//(c-b)+1 로 해결\n",
    "print(-1 if c-b<=0 else a//(c-b)+1)"
   ]
  },
  {
   "cell_type": "code",
   "execution_count": 12,
   "metadata": {},
   "outputs": [
    {
     "data": {
      "text/plain": [
       "3"
      ]
     },
     "execution_count": 12,
     "metadata": {},
     "output_type": "execute_result"
    }
   ],
   "source": [
    "\n",
    "math.ceil(2.3)"
   ]
  },
  {
   "cell_type": "code",
   "execution_count": null,
   "metadata": {},
   "outputs": [],
   "source": []
  }
 ],
 "metadata": {
  "kernelspec": {
   "display_name": "Python 3",
   "language": "python",
   "name": "python3"
  },
  "language_info": {
   "codemirror_mode": {
    "name": "ipython",
    "version": 3
   },
   "file_extension": ".py",
   "mimetype": "text/x-python",
   "name": "python",
   "nbconvert_exporter": "python",
   "pygments_lexer": "ipython3",
   "version": "3.7.4"
  }
 },
 "nbformat": 4,
 "nbformat_minor": 2
}
