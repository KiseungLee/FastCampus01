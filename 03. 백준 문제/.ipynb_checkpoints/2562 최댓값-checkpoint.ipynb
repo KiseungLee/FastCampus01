{
 "cells": [
  {
   "cell_type": "code",
   "execution_count": 1,
   "metadata": {},
   "outputs": [
    {
     "name": "stdout",
     "output_type": "stream",
     "text": [
      "3\n",
      "29\n",
      "38\n",
      "12\n",
      "57\n",
      "74\n",
      "40\n",
      "85\n",
      "61\n",
      "85\n",
      "8\n"
     ]
    }
   ],
   "source": [
    "# 현재 최댓값의 인덱스, 값 변수 선언 및 초기화\n",
    "max_idx = 0\n",
    "max_num = 0\n",
    "\n",
    "# 입력 및 최댓값의 인덱스, 값 갱신\n",
    "for i in range(9):\n",
    "    num = int(input())\n",
    "    if num>max_num:\n",
    "        max_num = num\n",
    "        max_idx = i+1\n",
    "        \n",
    "# 출력\n",
    "print(max_num)\n",
    "print(max_idx)"
   ]
  },
  {
   "cell_type": "code",
   "execution_count": null,
   "metadata": {},
   "outputs": [],
   "source": []
  }
 ],
 "metadata": {
  "kernelspec": {
   "display_name": "Python 3",
   "language": "python",
   "name": "python3"
  },
  "language_info": {
   "codemirror_mode": {
    "name": "ipython",
    "version": 3
   },
   "file_extension": ".py",
   "mimetype": "text/x-python",
   "name": "python",
   "nbconvert_exporter": "python",
   "pygments_lexer": "ipython3",
   "version": "3.7.4"
  }
 },
 "nbformat": 4,
 "nbformat_minor": 2
}
