{
 "cells": [
  {
   "cell_type": "code",
   "execution_count": 39,
   "metadata": {},
   "outputs": [],
   "source": [
    "# makeChessBoard : ['BBBBBBBB', ... ,'BBBBBBBB'] 8X8 체스보드를 받아 다시 칠해야 하는 최소 갯수를 리턴\n",
    "def makeChessBoard(chessBoard):\n",
    "    # 왼쪽 위를 흰색으로 칠할 때 : 체스판의 (i, j)에서 i+j가 짝수인데 검은색이거나 홀수인데 흰색일 때\n",
    "    white = 0\n",
    "    for i in range(8):\n",
    "        for j in range(8):\n",
    "            if (i+j)%2==0 and chessBoard[i][j]=='B':\n",
    "                white += 1\n",
    "            elif (i+j)%2==1 and chessBoard[i][j] =='W':\n",
    "                white += 1\n",
    "    \n",
    "    # 왼쪽 위 흰색으로 칠해서 체스판 만들때 + 왼쪽 위 검은색으로 칠해서 체스판 만들때 = 64\n",
    "    # 고정이기 때문에 white가 32 이하면 white를, 아니면 64-white를 리턴 \n",
    "    return (white if white<32 else 64-white)\n",
    "\n",
    "# makeChessBoards : 8x8 체스 보드들을 만드는 generator 함수\n",
    "def makeChessBoards(board):\n",
    "    for i in range(len(board[0])-7):\n",
    "        for j in range(len(board)-7):\n",
    "            arr = []\n",
    "            for k in range(8):\n",
    "                arr.append(board[j+k][i:i+8])\n",
    "            yield arr"
   ]
  },
  {
   "cell_type": "code",
   "execution_count": 4,
   "metadata": {},
   "outputs": [
    {
     "name": "stdout",
     "output_type": "stream",
     "text": [
      "10 13\n",
      "BBBBBBBBWBWBW\n",
      "BBBBBBBBBWBWB\n",
      "BBBBBBBBWBWBW\n",
      "BBBBBBBBBWBWB\n",
      "BBBBBBBBWBWBW\n",
      "BBBBBBBBBWBWB\n",
      "BBBBBBBBWBWBW\n",
      "BBBBBBBBBWBWB\n",
      "WWWWWWWWWWBWB\n",
      "WWWWWWWWWWBWB\n"
     ]
    }
   ],
   "source": [
    "# 입력 \n",
    "n, m = map(int, input().split())\n",
    "board = []\n",
    "for i in range(n):\n",
    "    board.append(input())"
   ]
  },
  {
   "cell_type": "code",
   "execution_count": 40,
   "metadata": {},
   "outputs": [
    {
     "name": "stdout",
     "output_type": "stream",
     "text": [
      "12\n"
     ]
    }
   ],
   "source": [
    "# 최소 횟수 구하기 : 입력받은 보드에서 만들 수 있는 모든 체스판마다 칠해봄\n",
    "min_num = 2500\n",
    "for chessBoard in makeChessBoards(board):\n",
    "    count = makeChessBoard(chessBoard)\n",
    "    if min_num>count:\n",
    "        min_num = count\n",
    "\n",
    "# 출력\n",
    "print(min_num)"
   ]
  },
  {
   "cell_type": "code",
   "execution_count": null,
   "metadata": {},
   "outputs": [],
   "source": []
  }
 ],
 "metadata": {
  "kernelspec": {
   "display_name": "Python 3",
   "language": "python",
   "name": "python3"
  },
  "language_info": {
   "codemirror_mode": {
    "name": "ipython",
    "version": 3
   },
   "file_extension": ".py",
   "mimetype": "text/x-python",
   "name": "python",
   "nbconvert_exporter": "python",
   "pygments_lexer": "ipython3",
   "version": "3.7.4"
  }
 },
 "nbformat": 4,
 "nbformat_minor": 2
}
