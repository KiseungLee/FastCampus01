{
 "cells": [
  {
   "cell_type": "code",
   "execution_count": 2,
   "metadata": {},
   "outputs": [
    {
     "name": "stdout",
     "output_type": "stream",
     "text": [
      "15\n"
     ]
    }
   ],
   "source": [
    "# https://www.acmicpc.net/problem/1781\n",
    "input = open('input.txt').readline\n",
    "\n",
    "import heapq\n",
    "\n",
    "deadlines_and_cups = []\n",
    "for _ in range(int(input())):\n",
    "    deadline, cup = map(int, input().split())\n",
    "    deadlines_and_cups.append((deadline, cup))\n",
    "deadlines_and_cups = sorted(deadlines_and_cups, key=lambda x : (x[0], x[1]))\n",
    "\n",
    "solved_homework = []\n",
    "for deadline, cup in deadlines_and_cups:\n",
    "    # 자리 남으면 그냥 넣기\n",
    "    if len(solved_homework)<deadline:\n",
    "        heapq.heappush(solved_homework, cup)\n",
    "    # 안남으면 밀어 낼 수 있는지 확인하고 밀어내기\n",
    "    elif solved_homework[0]<cup:\n",
    "        heapq.heappop(solved_homework)\n",
    "        heapq.heappush(solved_homework, cup)\n",
    "        \n",
    "print(sum(solved_homework))"
   ]
  },
  {
   "cell_type": "code",
   "execution_count": 6,
   "metadata": {},
   "outputs": [
    {
     "data": {
      "text/plain": [
       "[1, 2, 5, 7]"
      ]
     },
     "execution_count": 6,
     "metadata": {},
     "output_type": "execute_result"
    }
   ],
   "source": [
    "solved_homework"
   ]
  },
  {
   "cell_type": "code",
   "execution_count": null,
   "metadata": {},
   "outputs": [],
   "source": []
  }
 ],
 "metadata": {
  "kernelspec": {
   "display_name": "Python 3",
   "language": "python",
   "name": "python3"
  },
  "language_info": {
   "codemirror_mode": {
    "name": "ipython",
    "version": 3
   },
   "file_extension": ".py",
   "mimetype": "text/x-python",
   "name": "python",
   "nbconvert_exporter": "python",
   "pygments_lexer": "ipython3",
   "version": "3.7.4"
  }
 },
 "nbformat": 4,
 "nbformat_minor": 2
}
