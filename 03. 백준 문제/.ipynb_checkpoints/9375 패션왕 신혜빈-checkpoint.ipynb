{
 "cells": [
  {
   "cell_type": "code",
   "execution_count": 13,
   "metadata": {},
   "outputs": [],
   "source": [
    "input = open('inputText').readline"
   ]
  },
  {
   "cell_type": "code",
   "execution_count": 14,
   "metadata": {},
   "outputs": [
    {
     "name": "stdout",
     "output_type": "stream",
     "text": [
      "5\n",
      "3\n"
     ]
    }
   ],
   "source": [
    "import collections\n",
    "\n",
    "for _ in range(int(input())):\n",
    "    # 의상 종류별 카운트 해줌\n",
    "    counter = collections.Counter()\n",
    "    \n",
    "    # 종류별 입력\n",
    "    for _ in range(int(input())):\n",
    "        name, cate = map(str, input().split())\n",
    "        counter[cate]+=1\n",
    "    \n",
    "    # 종류별로 안입는거 포함(+1)해서 모두 곱해 조합 경우의수 구하기\n",
    "    result = 1\n",
    "    for key in counter.keys():\n",
    "        result *= (counter[key]+1)\n",
    "    \n",
    "    # 알몸인 상태는 빼주기\n",
    "    print (result-1)"
   ]
  },
  {
   "cell_type": "code",
   "execution_count": null,
   "metadata": {},
   "outputs": [],
   "source": []
  }
 ],
 "metadata": {
  "kernelspec": {
   "display_name": "Python 3",
   "language": "python",
   "name": "python3"
  },
  "language_info": {
   "codemirror_mode": {
    "name": "ipython",
    "version": 3
   },
   "file_extension": ".py",
   "mimetype": "text/x-python",
   "name": "python",
   "nbconvert_exporter": "python",
   "pygments_lexer": "ipython3",
   "version": "3.7.4"
  }
 },
 "nbformat": 4,
 "nbformat_minor": 2
}
