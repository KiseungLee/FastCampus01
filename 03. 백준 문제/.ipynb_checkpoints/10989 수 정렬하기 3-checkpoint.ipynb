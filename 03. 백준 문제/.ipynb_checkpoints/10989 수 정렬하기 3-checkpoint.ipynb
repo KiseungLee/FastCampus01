{
 "cells": [
  {
   "cell_type": "markdown",
   "metadata": {},
   "source": [
    "수의 갯수는 많은데 범위가 좁음"
   ]
  },
  {
   "cell_type": "code",
   "execution_count": 8,
   "metadata": {},
   "outputs": [
    {
     "name": "stdout",
     "output_type": "stream",
     "text": [
      "10\n",
      "3\n",
      "2\n",
      "4\n",
      "12\n",
      "23\n",
      "123\n",
      "2\n",
      "3\n",
      "1\n",
      "2\n",
      "1\n",
      "2\n",
      "2\n",
      "2\n",
      "3\n",
      "3\n",
      "4\n",
      "12\n",
      "23\n",
      "123\n"
     ]
    }
   ],
   "source": [
    "import sys\n",
    "\n",
    "arr = [0]*10001\n",
    "for _ in range(int(input())):\n",
    "    arr[int(input())-1] += 1\n",
    "    \n",
    "for i in range(10001):\n",
    "    if arr[i]!=0:\n",
    "        for _ in range(arr[i]):\n",
    "            print(i+1)"
   ]
  },
  {
   "cell_type": "code",
   "execution_count": null,
   "metadata": {},
   "outputs": [],
   "source": [
    "# sys.stdin.readline() 안쓰면 시간초과\n",
    "# 주피터에선 sys.stdin.readline() 안됨\n",
    "import sys\n",
    "\n",
    "arr = [0]*10001\n",
    "for _ in range(int(sys.stdin.readline())):\n",
    "    arr[int(sys.stdin.readline())-1] += 1\n",
    "    \n",
    "for i in range(10001):\n",
    "    if arr[i]!=0:\n",
    "        for _ in range(arr[i]):\n",
    "            print(i+1)"
   ]
  }
 ],
 "metadata": {
  "kernelspec": {
   "display_name": "Python 3",
   "language": "python",
   "name": "python3"
  },
  "language_info": {
   "codemirror_mode": {
    "name": "ipython",
    "version": 3
   },
   "file_extension": ".py",
   "mimetype": "text/x-python",
   "name": "python",
   "nbconvert_exporter": "python",
   "pygments_lexer": "ipython3",
   "version": "3.7.4"
  }
 },
 "nbformat": 4,
 "nbformat_minor": 2
}
