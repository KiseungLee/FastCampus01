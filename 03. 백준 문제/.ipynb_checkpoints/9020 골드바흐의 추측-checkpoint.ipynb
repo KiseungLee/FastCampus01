{
 "cells": [
  {
   "cell_type": "markdown",
   "metadata": {},
   "source": [
    "### 골드바흐 추측\n",
    "\n",
    "골드바흐의 추측은 유명한 정수론의 미해결 문제로, **2보다 큰 모든 짝수는 두 소수의 합으로 나타낼 수 있다는 것이다.** \n",
    "\n",
    "이러한 수를 골드바흐 수라고 한다. 또, 짝수를 두 소수의 합으로 나타내는 표현을 그 수의 골드바흐 파티션이라고 한다. \n",
    "\n",
    "예를 들면, 4 = 2 + 2, 6 = 3 + 3, 8 = 3 + 5, 10 = 5 + 5, 12 = 5 + 7, 14 = 3 + 11, 14 = 7 + 7이다. 10000보다 작거나 같은 모든 짝수 n에 대한 골드바흐 파티션은 존재한다."
   ]
  },
  {
   "cell_type": "code",
   "execution_count": 5,
   "metadata": {},
   "outputs": [
    {
     "name": "stdout",
     "output_type": "stream",
     "text": [
      "3\n",
      "8\n",
      "3 5\n",
      "10\n",
      "5 5\n",
      "16\n",
      "5 11\n"
     ]
    }
   ],
   "source": [
    "import math\n",
    "\n",
    "# 에라토스테네스의 체 만들기\n",
    "arr = [True]*10001\n",
    "arr[0] = False\n",
    "arr[1] = False\n",
    "for i in range(2, int(math.sqrt(10001))+1):\n",
    "    if arr[i]:\n",
    "        j = 2\n",
    "        while i*j <= 10000:\n",
    "            arr[i*j] = False\n",
    "            j+=1\n",
    "            \n",
    "# 테스트 케이스\n",
    "test_case = int(input())\n",
    "for _ in range(test_case):\n",
    "    n = int(input())\n",
    "    for num in range(n//2, 1, -1):\n",
    "        if arr[num] and arr[n-num]:\n",
    "            print(num, n-num)\n",
    "            break"
   ]
  },
  {
   "cell_type": "markdown",
   "metadata": {},
   "source": [
    "### "
   ]
  }
 ],
 "metadata": {
  "kernelspec": {
   "display_name": "Python 3",
   "language": "python",
   "name": "python3"
  },
  "language_info": {
   "codemirror_mode": {
    "name": "ipython",
    "version": 3
   },
   "file_extension": ".py",
   "mimetype": "text/x-python",
   "name": "python",
   "nbconvert_exporter": "python",
   "pygments_lexer": "ipython3",
   "version": "3.7.4"
  }
 },
 "nbformat": 4,
 "nbformat_minor": 2
}
