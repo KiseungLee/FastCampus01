{
 "cells": [
  {
   "cell_type": "code",
   "execution_count": 12,
   "metadata": {},
   "outputs": [
    {
     "name": "stdout",
     "output_type": "stream",
     "text": [
      "baaa\n",
      "A\n"
     ]
    }
   ],
   "source": [
    "# 알파벳 갯수 기록할 배열\n",
    "arr = [0]*26\n",
    "\n",
    "# 입력\n",
    "word = input()\n",
    "\n",
    "# 입력 문자 돌면서 갯수 기록\n",
    "for c in word:\n",
    "    c_idx = ord(c)    # 아스키로 바꿔주고\n",
    "    if c_idx>=97:     # 소문자면(ord('a')==97) 32 만큼 빼줘 대문자와 아스키 코드가 같게 해줌\n",
    "        c_idx -= 32\n",
    "    arr[c_idx-65] += 1  # 갯수 기록\n",
    "    \n",
    "# 가장 많이 등장한 알파벳 찾기\n",
    "max_count = 0\n",
    "max_c = 63            # chr(63) == '?'\n",
    "for idx, n in enumerate(arr):\n",
    "    if n==max_count:\n",
    "        max_c = 63\n",
    "    elif n>max_count:\n",
    "        max_count = n\n",
    "        max_c = idx + 65\n",
    "        \n",
    "# 출력\n",
    "print(chr(max_c))"
   ]
  },
  {
   "cell_type": "code",
   "execution_count": 7,
   "metadata": {},
   "outputs": [
    {
     "data": {
      "text/plain": [
       "97"
      ]
     },
     "execution_count": 7,
     "metadata": {},
     "output_type": "execute_result"
    }
   ],
   "source": [
    "ord('a')"
   ]
  },
  {
   "cell_type": "code",
   "execution_count": 2,
   "metadata": {},
   "outputs": [
    {
     "data": {
      "text/plain": [
       "65"
      ]
     },
     "execution_count": 2,
     "metadata": {},
     "output_type": "execute_result"
    }
   ],
   "source": [
    "ord('A')"
   ]
  },
  {
   "cell_type": "code",
   "execution_count": 3,
   "metadata": {},
   "outputs": [
    {
     "data": {
      "text/plain": [
       "90"
      ]
     },
     "execution_count": 3,
     "metadata": {},
     "output_type": "execute_result"
    }
   ],
   "source": [
    "ord('Z')"
   ]
  },
  {
   "cell_type": "code",
   "execution_count": 6,
   "metadata": {},
   "outputs": [
    {
     "data": {
      "text/plain": [
       "63"
      ]
     },
     "execution_count": 6,
     "metadata": {},
     "output_type": "execute_result"
    }
   ],
   "source": [
    "ord('?')"
   ]
  },
  {
   "cell_type": "code",
   "execution_count": null,
   "metadata": {},
   "outputs": [],
   "source": []
  }
 ],
 "metadata": {
  "kernelspec": {
   "display_name": "Python 3",
   "language": "python",
   "name": "python3"
  },
  "language_info": {
   "codemirror_mode": {
    "name": "ipython",
    "version": 3
   },
   "file_extension": ".py",
   "mimetype": "text/x-python",
   "name": "python",
   "nbconvert_exporter": "python",
   "pygments_lexer": "ipython3",
   "version": "3.7.4"
  }
 },
 "nbformat": 4,
 "nbformat_minor": 2
}
