{
 "cells": [
  {
   "cell_type": "code",
   "execution_count": 8,
   "metadata": {},
   "outputs": [],
   "source": [
    "input = open(\"inputText\").readline"
   ]
  },
  {
   "cell_type": "code",
   "execution_count": 9,
   "metadata": {},
   "outputs": [
    {
     "name": "stdout",
     "output_type": "stream",
     "text": [
      "1\n",
      "2\n",
      "5\n"
     ]
    }
   ],
   "source": [
    "from collections import deque\n",
    "for _ in range(int(input())):\n",
    "    # 입력\n",
    "    n, m = map(int, input().split())\n",
    "    docs = list(map(int, input().split()))\n",
    "    # 우선순위 역순으로 정렬(파이썬 배열에서 첫번째거 제거하는건 O(n), 끝 제거는 O(1)이기 때문에 큰게 뒤로)\n",
    "    prior = sorted(docs)\n",
    "    # (value, index)로 deque에 담음\n",
    "    docs = deque([(value, index) for index, value in enumerate(docs)]) # 값과 인덱스를 가지고 있는 큐로 바꿈\n",
    "\n",
    "    # 연산\n",
    "    count = 0\n",
    "    while True:\n",
    "        if docs[0][0] == prior[-1]:\n",
    "            count += 1\n",
    "            if docs[0][1] == m:\n",
    "                break\n",
    "            else:\n",
    "                docs.popleft()\n",
    "                prior.pop()\n",
    "        else:\n",
    "            docs.append(docs.popleft())\n",
    "\n",
    "    # 출력\n",
    "    print(count)"
   ]
  },
  {
   "cell_type": "code",
   "execution_count": 3,
   "metadata": {},
   "outputs": [
    {
     "data": {
      "text/plain": [
       "deque([])"
      ]
     },
     "execution_count": 3,
     "metadata": {},
     "output_type": "execute_result"
    }
   ],
   "source": [
    "docs"
   ]
  },
  {
   "cell_type": "code",
   "execution_count": null,
   "metadata": {},
   "outputs": [],
   "source": []
  }
 ],
 "metadata": {
  "kernelspec": {
   "display_name": "Python 3",
   "language": "python",
   "name": "python3"
  },
  "language_info": {
   "codemirror_mode": {
    "name": "ipython",
    "version": 3
   },
   "file_extension": ".py",
   "mimetype": "text/x-python",
   "name": "python",
   "nbconvert_exporter": "python",
   "pygments_lexer": "ipython3",
   "version": "3.7.4"
  }
 },
 "nbformat": 4,
 "nbformat_minor": 2
}
