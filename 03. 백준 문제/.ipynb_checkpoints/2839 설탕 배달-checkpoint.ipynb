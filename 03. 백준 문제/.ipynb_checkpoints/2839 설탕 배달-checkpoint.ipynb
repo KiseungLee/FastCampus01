{
 "cells": [
  {
   "cell_type": "code",
   "execution_count": 13,
   "metadata": {},
   "outputs": [
    {
     "name": "stdout",
     "output_type": "stream",
     "text": [
      "11\n",
      "-1\n"
     ]
    }
   ],
   "source": [
    "n = int(input())\n",
    "five_kilo = 0\n",
    "\n",
    "# 5 킬로로 최대 봉지수 만큼 배달해 놓음\n",
    "five_kilo += n//5\n",
    "# 남은 배달할 킬로\n",
    "rest = n - five_kilo*5\n",
    "\n",
    "# 남은 걸 3 킬로 봉지로 딱 떨어지는가\n",
    "if rest%3!=0:\n",
    "    if n%3!=0:    # 안떨어진다면 애초에 처음 n을 3 킬로 봉지로 딱 떨어지게 할 수 있는가\n",
    "        print(-1) # 둘다 안되면 -1 출력\n",
    "    else:\n",
    "        print(n//3) # 3키로 짜리만으로 배달\n",
    "else:\n",
    "    print(five_kilo + rest//3) # 5키로짜리만 or 5, 3 킬로 혼합"
   ]
  },
  {
   "cell_type": "code",
   "execution_count": 22,
   "metadata": {},
   "outputs": [
    {
     "name": "stdout",
     "output_type": "stream",
     "text": [
      "11\n",
      "3\n"
     ]
    }
   ],
   "source": [
    "# 3x+5y = n (단, x, y는 양의 정수, 3<=n<=5000)\n",
    "# x+y = sol 일때 sol을 최소로\n",
    "# >> 5x+5y = 5sol\n",
    "# >> n+2x = 5sol\n",
    "# >> n+2x = 5sol\n",
    "# >> (n+2x)/5 = sol\n",
    "# 일때 y를 0부터 올려나감. (n-3x)/5<=0까지. 도중에 (n+2x)%5==0이 되는 z를 찾으면 break후 (n+2x)/5 을 리턴. break 없이 끝나면 -1 리턴\n",
    "\n",
    "n = int(input())\n",
    "x = 0\n",
    "while (n-3*x)/5>0: # y가 양수일때 까지만\n",
    "    if (n+2*x)%5==0:\n",
    "        break\n",
    "    else:\n",
    "        x+=1\n",
    "        \n",
    "if (n+2*x)%5==0:\n",
    "    print(int((n+2*x)/5))\n",
    "else:\n",
    "    print(-1)"
   ]
  },
  {
   "cell_type": "code",
   "execution_count": null,
   "metadata": {},
   "outputs": [],
   "source": []
  }
 ],
 "metadata": {
  "kernelspec": {
   "display_name": "Python 3",
   "language": "python",
   "name": "python3"
  },
  "language_info": {
   "codemirror_mode": {
    "name": "ipython",
    "version": 3
   },
   "file_extension": ".py",
   "mimetype": "text/x-python",
   "name": "python",
   "nbconvert_exporter": "python",
   "pygments_lexer": "ipython3",
   "version": "3.7.4"
  }
 },
 "nbformat": 4,
 "nbformat_minor": 2
}
