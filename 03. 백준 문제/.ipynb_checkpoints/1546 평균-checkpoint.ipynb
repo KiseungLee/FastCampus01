{
 "cells": [
  {
   "cell_type": "code",
   "execution_count": 2,
   "metadata": {},
   "outputs": [
    {
     "name": "stdout",
     "output_type": "stream",
     "text": [
      "3\n",
      "10 20 30\n",
      "66.66666666666667\n"
     ]
    }
   ],
   "source": [
    "# (100*a/max + 100*b/max + 100*c/max + 100*d/max + 100*e/max) / n = (100/max)*(a+b+c+d+e)/n\n",
    "# 원래 평균 * 100 / 최댓값 을 해주면 된다.\n",
    "\n",
    "# 데이터 입력\n",
    "n = int(input())\n",
    "arr = list(map(int, input().split()))\n",
    "\n",
    "# 최댓값 및 총합 변수 선언 및 초기화\n",
    "max_num = 0\n",
    "sum_num = 0\n",
    "\n",
    "# 최댓값 및 총합 구하기\n",
    "for num in arr:\n",
    "    sum_num += num\n",
    "    if num>max_num:\n",
    "        max_num = num\n",
    "        \n",
    "# 출력\n",
    "print((100/max_num)*(sum_num/n))"
   ]
  },
  {
   "cell_type": "code",
   "execution_count": null,
   "metadata": {},
   "outputs": [],
   "source": []
  }
 ],
 "metadata": {
  "kernelspec": {
   "display_name": "Python 3",
   "language": "python",
   "name": "python3"
  },
  "language_info": {
   "codemirror_mode": {
    "name": "ipython",
    "version": 3
   },
   "file_extension": ".py",
   "mimetype": "text/x-python",
   "name": "python",
   "nbconvert_exporter": "python",
   "pygments_lexer": "ipython3",
   "version": "3.7.4"
  }
 },
 "nbformat": 4,
 "nbformat_minor": 2
}
