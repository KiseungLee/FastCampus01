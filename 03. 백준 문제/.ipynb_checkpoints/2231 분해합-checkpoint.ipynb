{
 "cells": [
  {
   "cell_type": "code",
   "execution_count": 1,
   "metadata": {},
   "outputs": [],
   "source": [
    "def divide_sum(num):\n",
    "    result = num\n",
    "    while num!= 0:\n",
    "        result += num%10\n",
    "        num = num//10\n",
    "    return result"
   ]
  },
  {
   "cell_type": "code",
   "execution_count": 9,
   "metadata": {},
   "outputs": [
    {
     "name": "stdout",
     "output_type": "stream",
     "text": [
      "414\n",
      "396\n"
     ]
    }
   ],
   "source": [
    "n = int(input())\n",
    "isThereDivideSum = False\n",
    "\n",
    "for num in range(n+1):\n",
    "    if divide_sum(num)==n:\n",
    "        isThereDivideSum = True\n",
    "        print(num)\n",
    "        break\n",
    "        \n",
    "if not isThereDivideSum:\n",
    "    print(0)"
   ]
  },
  {
   "cell_type": "code",
   "execution_count": null,
   "metadata": {},
   "outputs": [],
   "source": []
  }
 ],
 "metadata": {
  "kernelspec": {
   "display_name": "Python 3",
   "language": "python",
   "name": "python3"
  },
  "language_info": {
   "codemirror_mode": {
    "name": "ipython",
    "version": 3
   },
   "file_extension": ".py",
   "mimetype": "text/x-python",
   "name": "python",
   "nbconvert_exporter": "python",
   "pygments_lexer": "ipython3",
   "version": "3.7.4"
  }
 },
 "nbformat": 4,
 "nbformat_minor": 2
}
