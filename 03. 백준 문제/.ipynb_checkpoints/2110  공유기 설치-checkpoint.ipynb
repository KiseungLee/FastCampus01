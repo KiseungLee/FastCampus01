{
 "cells": [
  {
   "cell_type": "code",
   "execution_count": 30,
   "metadata": {},
   "outputs": [
    {
     "name": "stdout",
     "output_type": "stream",
     "text": [
      "5 3\n",
      "1\n",
      "2\n",
      "8\n",
      "4\n",
      "9\n",
      "3\n"
     ]
    }
   ],
   "source": [
    "# 거리 k로 공유기 설치 가능?\n",
    "def fn(k):\n",
    "    count = 1 # 일단 맨 앞에 설치함\n",
    "    local = 0 # 최소 간격이 채워질때까지 쌓음\n",
    "    for gap in gaps:\n",
    "        local += gap\n",
    "        # 최소 간격이 채워졌다면 공유기 1개 늘리고 0으로 초기화\n",
    "        if local>=k:\n",
    "            count += 1\n",
    "            local = 0\n",
    "        # 공유기가 c개 설치 가능했다면 트루\n",
    "        if count==c:\n",
    "            return True\n",
    "    # for문 다 돌때까지 c개 설치 못했으면 False\n",
    "    return False\n",
    "    \n",
    "# 입력\n",
    "n, c = map(int, input().split())\n",
    "houses = [int(input()) for _ in range(n)]\n",
    "houses.sort(reverse=True)\n",
    "gaps = [houses[i]-houses[i+1] for i in range(n-1)]\n",
    "\n",
    "# 이진탐색\n",
    "left = 1\n",
    "right = 1000000000\n",
    "while left<=right:\n",
    "    mid = (left+right)//2\n",
    "    if fn(mid):\n",
    "        left = mid+1\n",
    "    else:\n",
    "        right = mid-1\n",
    "        \n",
    "# 출력\n",
    "print(right)"
   ]
  },
  {
   "cell_type": "code",
   "execution_count": 28,
   "metadata": {},
   "outputs": [
    {
     "data": {
      "text/plain": [
       "False"
      ]
     },
     "execution_count": 28,
     "metadata": {},
     "output_type": "execute_result"
    }
   ],
   "source": [
    "fn(3)"
   ]
  },
  {
   "cell_type": "code",
   "execution_count": 20,
   "metadata": {},
   "outputs": [
    {
     "name": "stdout",
     "output_type": "stream",
     "text": [
      "1000000001 1000000000 1000000000\n"
     ]
    }
   ],
   "source": [
    "print(left, mid, right)"
   ]
  },
  {
   "cell_type": "code",
   "execution_count": 16,
   "metadata": {},
   "outputs": [
    {
     "data": {
      "text/plain": [
       "[9, 8, 4, 2, 1]"
      ]
     },
     "execution_count": 16,
     "metadata": {},
     "output_type": "execute_result"
    }
   ],
   "source": [
    "houses"
   ]
  },
  {
   "cell_type": "code",
   "execution_count": 26,
   "metadata": {},
   "outputs": [
    {
     "data": {
      "text/plain": [
       "[1, 4, 2, 1]"
      ]
     },
     "execution_count": 26,
     "metadata": {},
     "output_type": "execute_result"
    }
   ],
   "source": [
    "gaps"
   ]
  },
  {
   "cell_type": "code",
   "execution_count": 18,
   "metadata": {},
   "outputs": [
    {
     "data": {
      "text/plain": [
       "True"
      ]
     },
     "execution_count": 18,
     "metadata": {},
     "output_type": "execute_result"
    }
   ],
   "source": [
    "fn(1)"
   ]
  },
  {
   "cell_type": "code",
   "execution_count": null,
   "metadata": {},
   "outputs": [],
   "source": []
  }
 ],
 "metadata": {
  "kernelspec": {
   "display_name": "Python 3",
   "language": "python",
   "name": "python3"
  },
  "language_info": {
   "codemirror_mode": {
    "name": "ipython",
    "version": 3
   },
   "file_extension": ".py",
   "mimetype": "text/x-python",
   "name": "python",
   "nbconvert_exporter": "python",
   "pygments_lexer": "ipython3",
   "version": "3.7.4"
  }
 },
 "nbformat": 4,
 "nbformat_minor": 2
}
