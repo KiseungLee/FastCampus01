{
 "cells": [
  {
   "cell_type": "code",
   "execution_count": 6,
   "metadata": {},
   "outputs": [],
   "source": [
    "input = open(\"inputText\").readline"
   ]
  },
  {
   "cell_type": "code",
   "execution_count": 3,
   "metadata": {},
   "outputs": [],
   "source": [
    "# 평범한 배낭 문제랑 구조가 똑같네 근데 m이 좀 큰데 \n",
    "# 메모리 문제 날거 같은데 메모리 100퍼인데\n",
    "# 100*10,000,000 = 1,000,000,000 = 10^9 배열인데\n",
    "# int 4바이트 잡으면 4*10^9 바이트 == 4*10^3 메가바이트 == 4 GB\n",
    "\n",
    "n, m = map(int, input().split())\n",
    "memory = list(map(int, input().split()))\n",
    "cost = list(map(int, input().split()))\n",
    "\n",
    "dp = [[0]*(m+1) for _ in range(n)]"
   ]
  },
  {
   "cell_type": "code",
   "execution_count": 5,
   "metadata": {},
   "outputs": [
    {
     "data": {
      "text/plain": [
       "4000000000"
      ]
     },
     "execution_count": 5,
     "metadata": {},
     "output_type": "execute_result"
    }
   ],
   "source": [
    "1000000000*4"
   ]
  },
  {
   "cell_type": "code",
   "execution_count": 51,
   "metadata": {},
   "outputs": [],
   "source": [
    "input = open(\"inputText\").readline"
   ]
  },
  {
   "cell_type": "code",
   "execution_count": 52,
   "metadata": {},
   "outputs": [
    {
     "name": "stdout",
     "output_type": "stream",
     "text": [
      "3\n"
     ]
    }
   ],
   "source": [
    "# 비용으로 dp 잡고 배낭문제처럼 풀면 됨\n",
    "\n",
    "n, m = map(int, input().split())\n",
    "memory = list(map(int, input().split()))\n",
    "cost = list(map(int, input().split()))\n",
    "\n",
    "dp = [[0]*(100+1) for _ in range(n+1)]\n",
    "low_cost = 100\n",
    "for i in range(1, n+1):\n",
    "    for j in range(101):\n",
    "        if cost[i-1]>j:\n",
    "            dp[i][j] = dp[i-1][j] # 안들어가면 위에거 따오기\n",
    "        else:\n",
    "            dp[i][j] = max(dp[i-1][j], dp[i-1][j-cost[i-1]]+memory[i-1] if j-cost[i-1]>=0 else 0)\n",
    "        if dp[i][j]>=m and j<low_cost:\n",
    "            low_cost = j\n",
    "\n",
    "print(low_cost)"
   ]
  },
  {
   "cell_type": "code",
   "execution_count": 53,
   "metadata": {},
   "outputs": [
    {
     "name": "stdout",
     "output_type": "stream",
     "text": [
      "[0, 0, 0, 0, 0, 0, 0, 0, 0, 0, 0, 0, 0, 0, 0]\n",
      "[0, 0, 0, 30, 30, 30, 30, 30, 30, 30, 30, 30, 30, 30, 30]\n",
      "[10, 10, 10, 40, 40, 40, 40, 40, 40, 40, 40, 40, 40, 40, 40]\n",
      "[10, 10, 10, 40, 40, 40, 60, 60, 60, 60, 60, 60, 60, 60, 60]\n",
      "[10, 10, 10, 40, 40, 45, 60, 60, 75, 75, 75, 95, 95, 95, 95]\n",
      "[10, 10, 10, 40, 50, 50, 60, 80, 80, 85, 100, 100, 115, 115, 115]\n",
      "[30, 30, 30, 60, 70, 70, 80, 100, 100, 105, 120, 120, 135, 135, 135]\n"
     ]
    }
   ],
   "source": [
    "for line in dp:\n",
    "    print(line[:15])"
   ]
  },
  {
   "cell_type": "code",
   "execution_count": null,
   "metadata": {},
   "outputs": [],
   "source": []
  },
  {
   "cell_type": "code",
   "execution_count": null,
   "metadata": {},
   "outputs": [],
   "source": []
  }
 ],
 "metadata": {
  "kernelspec": {
   "display_name": "Python 3",
   "language": "python",
   "name": "python3"
  },
  "language_info": {
   "codemirror_mode": {
    "name": "ipython",
    "version": 3
   },
   "file_extension": ".py",
   "mimetype": "text/x-python",
   "name": "python",
   "nbconvert_exporter": "python",
   "pygments_lexer": "ipython3",
   "version": "3.7.4"
  }
 },
 "nbformat": 4,
 "nbformat_minor": 2
}
