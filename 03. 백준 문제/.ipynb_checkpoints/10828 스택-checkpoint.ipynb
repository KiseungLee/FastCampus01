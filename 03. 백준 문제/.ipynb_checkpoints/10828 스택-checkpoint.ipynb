{
 "cells": [
  {
   "cell_type": "code",
   "execution_count": 7,
   "metadata": {},
   "outputs": [],
   "source": [
    "input = open(\"inputText\").readline"
   ]
  },
  {
   "cell_type": "code",
   "execution_count": 8,
   "metadata": {},
   "outputs": [
    {
     "name": "stdout",
     "output_type": "stream",
     "text": [
      "2\n",
      "2\n",
      "0\n",
      "2\n",
      "1\n",
      "-1\n",
      "0\n",
      "1\n",
      "-1\n",
      "0\n",
      "3\n"
     ]
    }
   ],
   "source": [
    "# sys.stdin.readline() 안쓰면 시간초과 남\n",
    "import sys\n",
    "stack = []\n",
    "ops =[\"push\", \"pop\", \"size\", \"empty\", \"top\"]\n",
    "for _ in range(int(sys.stdin.readline())):\n",
    "    op = sys.stdin.readline().split()\n",
    "    if op[0]==ops[0]:\n",
    "        stack.append(int(op[1]))\n",
    "    elif op[0]==ops[1]:\n",
    "        print(-1 if len(stack)==0 else stack.pop())\n",
    "    elif op[0]==ops[2]:\n",
    "        print(len(stack))\n",
    "    elif op[0]==ops[3]:\n",
    "        print(1 if len(stack)==0 else 0)\n",
    "    elif op[0]==ops[4]:\n",
    "        print(-1 if len(stack)==0 else stack[-1])"
   ]
  },
  {
   "cell_type": "code",
   "execution_count": 2,
   "metadata": {},
   "outputs": [
    {
     "name": "stdout",
     "output_type": "stream",
     "text": [
      "push\n"
     ]
    }
   ],
   "source": [
    "op_line = input()"
   ]
  },
  {
   "cell_type": "code",
   "execution_count": 3,
   "metadata": {
    "scrolled": true
   },
   "outputs": [
    {
     "data": {
      "text/plain": [
       "['push']"
      ]
     },
     "execution_count": 3,
     "metadata": {},
     "output_type": "execute_result"
    }
   ],
   "source": [
    "op_line.split()"
   ]
  },
  {
   "cell_type": "code",
   "execution_count": 14,
   "metadata": {},
   "outputs": [],
   "source": [
    "input = open(\"inputText\").readline"
   ]
  },
  {
   "cell_type": "code",
   "execution_count": 15,
   "metadata": {},
   "outputs": [
    {
     "name": "stdout",
     "output_type": "stream",
     "text": [
      "2\n",
      "2\n",
      "0\n",
      "2\n",
      "1\n",
      "-1\n",
      "0\n",
      "1\n",
      "-1\n",
      "0\n",
      "3\n"
     ]
    }
   ],
   "source": [
    "# sys.stdin.readline() 안쓰면 시간초과 남\n",
    "import sys\n",
    "n = int(sys.stdin.readline())\n",
    "ops =[\"push\", \"pop\", \"size\", \"empty\", \"top\"]\n",
    "stack = [0]*n\n",
    "pointer = -1\n",
    "for _ in range(n):\n",
    "    op = sys.stdin.readline().split()\n",
    "    if op[0]==ops[0]:\n",
    "        pointer += 1\n",
    "        stack[pointer] = int(op[1])\n",
    "    elif op[0]==ops[1]:\n",
    "        if pointer == -1:\n",
    "            print(-1)\n",
    "        else:\n",
    "            print(stack[pointer])\n",
    "            pointer -= 1\n",
    "    elif op[0]==ops[2]:\n",
    "        print(pointer+1)\n",
    "    elif op[0]==ops[3]:\n",
    "        print(1 if pointer==-1 else 0)\n",
    "    elif op[0]==ops[4]:\n",
    "        print(-1 if pointer==-1 else stack[pointer])"
   ]
  },
  {
   "cell_type": "code",
   "execution_count": null,
   "metadata": {},
   "outputs": [],
   "source": []
  }
 ],
 "metadata": {
  "kernelspec": {
   "display_name": "Python 3",
   "language": "python",
   "name": "python3"
  },
  "language_info": {
   "codemirror_mode": {
    "name": "ipython",
    "version": 3
   },
   "file_extension": ".py",
   "mimetype": "text/x-python",
   "name": "python",
   "nbconvert_exporter": "python",
   "pygments_lexer": "ipython3",
   "version": "3.7.4"
  }
 },
 "nbformat": 4,
 "nbformat_minor": 2
}
