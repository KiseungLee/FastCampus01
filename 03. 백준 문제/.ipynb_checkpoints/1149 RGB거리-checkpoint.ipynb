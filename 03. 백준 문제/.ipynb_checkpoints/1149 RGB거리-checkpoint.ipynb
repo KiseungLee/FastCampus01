{
 "cells": [
  {
   "cell_type": "code",
   "execution_count": 6,
   "metadata": {},
   "outputs": [
    {
     "name": "stdout",
     "output_type": "stream",
     "text": [
      "3\n",
      "26 40 83\n",
      "49 60 57\n",
      "13 89 99\n",
      "96\n"
     ]
    }
   ],
   "source": [
    "# 입력\n",
    "n = int(input())\n",
    "price_tag = []\n",
    "for _ in range(n):\n",
    "    price_tag.append(list(map(int, input().split())))\n",
    "    \n",
    "# dp[n][color] = min(dp[n-1][(color+1)%3], dp[n-1][(color+2)%3]) + price_tag[n][color]\n",
    "# (n번째 집에서 색1을 골랐을 때의 최소비용) = (n-1번째에서 색2 골랐을때, 색3 골랐을 때 중 작은 거) + (n번째집 색1의 비용)\n",
    "dp = [[0,0,0] for _ in range(n)]\n",
    "dp[0] = price_tag[0]\n",
    "\n",
    "# dp 연산\n",
    "for i in range(1, n):\n",
    "    for color in range(3):\n",
    "        dp[i][color] = min(dp[i-1][(color+1)%3], dp[i-1][(color+2)%3]) + price_tag[i][color]\n",
    "\n",
    "# 답 출력        \n",
    "print(min(dp[n-1]))"
   ]
  },
  {
   "cell_type": "code",
   "execution_count": null,
   "metadata": {},
   "outputs": [],
   "source": [
    "n = int(input())\n",
    "price_tag = []\n",
    "for _ in range(n):\n",
    "    price_tag.append(list(map(int, input().split())))\n",
    "    \n",
    "dp = [[0,0,0] for _ in range(n)]\n",
    "dp[0] = price_tag[0]\n",
    "\n",
    "for i in range(1, n):\n",
    "    for color in range(3):\n",
    "        dp[i][color] = min(dp[i-1][(color+1)%3], dp[i-1][(color+2)%3]) + price_tag[i][color]\n",
    "\n",
    "print(min(dp[n-1]))"
   ]
  }
 ],
 "metadata": {
  "kernelspec": {
   "display_name": "Python 3",
   "language": "python",
   "name": "python3"
  },
  "language_info": {
   "codemirror_mode": {
    "name": "ipython",
    "version": 3
   },
   "file_extension": ".py",
   "mimetype": "text/x-python",
   "name": "python",
   "nbconvert_exporter": "python",
   "pygments_lexer": "ipython3",
   "version": "3.7.4"
  }
 },
 "nbformat": 4,
 "nbformat_minor": 2
}
