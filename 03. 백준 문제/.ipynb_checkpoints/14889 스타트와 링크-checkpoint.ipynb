{
 "cells": [
  {
   "cell_type": "code",
   "execution_count": 26,
   "metadata": {},
   "outputs": [],
   "source": [
    "input = open('inputText').readline"
   ]
  },
  {
   "cell_type": "code",
   "execution_count": 27,
   "metadata": {},
   "outputs": [
    {
     "name": "stdout",
     "output_type": "stream",
     "text": [
      "1\n"
     ]
    }
   ],
   "source": [
    "# 적폐 파이썬 : 조합\n",
    "from itertools import combinations\n",
    "\n",
    "# 데이터 입력\n",
    "n = int(input())\n",
    "board = []\n",
    "arr = list(range(n)) # range(n) 자주나와서 따로 빼둠\n",
    "for _ in arr:\n",
    "    board.append(list(map(int, input().split())))\n",
    "\n",
    "# 답 구하기\n",
    "min_gap = 100000 # 적당히 큰 수 셋팅\n",
    "# 팀을 뽑는 조합별로 점수 계산 해봄\n",
    "for start_team in combinations(arr, n//2):\n",
    "    # start팀 점수계산\n",
    "    start = 0\n",
    "    for i in start_team:\n",
    "        for j in start_team:\n",
    "            start += board[i][j]\n",
    "    \n",
    "    # set으로 link팀 명단 뽑고 점수 계산\n",
    "    link_team = set(arr) - set(start_team)\n",
    "    link = 0\n",
    "    for i in link_team:\n",
    "        for j in link_team:\n",
    "            link+=board[i][j]\n",
    "    \n",
    "    # 차이 계산\n",
    "    local_gap = abs(start-link)\n",
    "    if local_gap < min_gap:\n",
    "        min_gap = local_gap\n",
    "    # 차이가 0이라면 그냥 끝내기\n",
    "    if min_gap==0:\n",
    "        break\n",
    "\n",
    "print(min_gap)"
   ]
  },
  {
   "cell_type": "code",
   "execution_count": 19,
   "metadata": {},
   "outputs": [
    {
     "data": {
      "text/plain": [
       "1"
      ]
     },
     "execution_count": 19,
     "metadata": {},
     "output_type": "execute_result"
    }
   ],
   "source": [
    "abs(-1)"
   ]
  },
  {
   "cell_type": "code",
   "execution_count": null,
   "metadata": {},
   "outputs": [],
   "source": []
  }
 ],
 "metadata": {
  "kernelspec": {
   "display_name": "Python 3",
   "language": "python",
   "name": "python3"
  },
  "language_info": {
   "codemirror_mode": {
    "name": "ipython",
    "version": 3
   },
   "file_extension": ".py",
   "mimetype": "text/x-python",
   "name": "python",
   "nbconvert_exporter": "python",
   "pygments_lexer": "ipython3",
   "version": "3.7.4"
  }
 },
 "nbformat": 4,
 "nbformat_minor": 2
}
