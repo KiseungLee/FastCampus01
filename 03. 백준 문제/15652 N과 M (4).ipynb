{
 "cells": [
  {
   "cell_type": "code",
   "execution_count": 7,
   "metadata": {},
   "outputs": [],
   "source": [
    "def permutation(candidates, picked, n):\n",
    "    if len(picked)==n:\n",
    "        print(' '.join(map(str, picked)))\n",
    "    else:\n",
    "        if len(candidates)>0:\n",
    "            permutation(candidates[:], picked+[candidates[0]], n)\n",
    "            permutation(candidates[1:], picked, n)"
   ]
  },
  {
   "cell_type": "code",
   "execution_count": 8,
   "metadata": {},
   "outputs": [
    {
     "name": "stdout",
     "output_type": "stream",
     "text": [
      "4 2\n",
      "1 1\n",
      "1 2\n",
      "1 3\n",
      "1 4\n",
      "2 2\n",
      "2 3\n",
      "2 4\n",
      "3 3\n",
      "3 4\n",
      "4 4\n"
     ]
    }
   ],
   "source": [
    "n, m = map(int,input().split())\n",
    "arr = [i for i in range(1, n+1)]\n",
    "permutation(arr, [], m)"
   ]
  },
  {
   "cell_type": "code",
   "execution_count": 62,
   "metadata": {},
   "outputs": [],
   "source": [
    "import collections\n",
    "queue = collections.deque()\n",
    "def permu_queue(max_num, now, count):\n",
    "    global queue\n",
    "    if len(queue)==count:\n",
    "        print(' '.join(map(str, queue)))\n",
    "    else:\n",
    "        for i in range(now, max_num+1):\n",
    "            queue.append(i)\n",
    "            permu_queue(max_num, i, count)\n",
    "            queue.pop()"
   ]
  },
  {
   "cell_type": "code",
   "execution_count": 63,
   "metadata": {},
   "outputs": [
    {
     "name": "stdout",
     "output_type": "stream",
     "text": [
      "4 2\n",
      "1 1\n",
      "1 2\n",
      "1 3\n",
      "1 4\n",
      "2 2\n",
      "2 3\n",
      "2 4\n",
      "3 3\n",
      "3 4\n",
      "4 4\n"
     ]
    }
   ],
   "source": [
    "n, m = map(int, input().split())\n",
    "permu_queue(n, 1, m)"
   ]
  },
  {
   "cell_type": "code",
   "execution_count": 64,
   "metadata": {},
   "outputs": [],
   "source": [
    "# 뒤에만 조작하니까 기본 배열로 해봄\n",
    "queue = []\n",
    "def permu_queue(max_num, now, count):\n",
    "    global queue\n",
    "    if len(queue)==count:\n",
    "        print(' '.join(map(str, queue)))\n",
    "    else:\n",
    "        for i in range(now, max_num+1):\n",
    "            queue.append(i)\n",
    "            permu_queue(max_num, i, count)\n",
    "            queue.pop()"
   ]
  },
  {
   "cell_type": "code",
   "execution_count": 65,
   "metadata": {},
   "outputs": [
    {
     "name": "stdout",
     "output_type": "stream",
     "text": [
      "4 2\n",
      "1 1\n",
      "1 2\n",
      "1 3\n",
      "1 4\n",
      "2 2\n",
      "2 3\n",
      "2 4\n",
      "3 3\n",
      "3 4\n",
      "4 4\n"
     ]
    }
   ],
   "source": [
    "n, m = map(int, input().split())\n",
    "permu_queue(n, 1, m)\n",
    "\n",
    "# -> 그냥 queue쓰는거보다 조금 빠름. 메모리도 덜 먹고"
   ]
  },
  {
   "cell_type": "code",
   "execution_count": 47,
   "metadata": {},
   "outputs": [],
   "source": [
    "queue.append(2)"
   ]
  },
  {
   "cell_type": "code",
   "execution_count": 48,
   "metadata": {},
   "outputs": [
    {
     "name": "stdout",
     "output_type": "stream",
     "text": [
      "deque([2, 2])\n"
     ]
    }
   ],
   "source": [
    "print(queue)"
   ]
  },
  {
   "cell_type": "code",
   "execution_count": null,
   "metadata": {},
   "outputs": [],
   "source": [
    "queue.pop"
   ]
  }
 ],
 "metadata": {
  "kernelspec": {
   "display_name": "Python 3",
   "language": "python",
   "name": "python3"
  },
  "language_info": {
   "codemirror_mode": {
    "name": "ipython",
    "version": 3
   },
   "file_extension": ".py",
   "mimetype": "text/x-python",
   "name": "python",
   "nbconvert_exporter": "python",
   "pygments_lexer": "ipython3",
   "version": "3.7.4"
  }
 },
 "nbformat": 4,
 "nbformat_minor": 2
}
