{
 "cells": [
  {
   "cell_type": "code",
   "execution_count": null,
   "metadata": {},
   "outputs": [],
   "source": [
    "from collections import deque\n",
    "\n",
    "n, k = map(int, input().split())\n",
    "coins = [int(input()) for _ in range(n)]\n",
    "coins.sort(reverse=True)\n",
    "\n",
    "deque1 = deque()\n",
    "deque2 = deque()"
   ]
  },
  {
   "cell_type": "code",
   "execution_count": null,
   "metadata": {},
   "outputs": [],
   "source": [
    "deque1.append(k)"
   ]
  },
  {
   "cell_type": "code",
   "execution_count": null,
   "metadata": {},
   "outputs": [],
   "source": [
    "count = 0\n",
    "# 큰 코인 순서대로 큰 코인을 0개 썼을때, 1개 썼을때, ... t개 썼을때 남은 금액들을 큐에 다시 넣음\n",
    "# 금액들을 넣는데 넣을 금액이 0이면 count+=1\n",
    "for coin in coins:\n",
    "    while len(deque1)>0:\n",
    "        now = deque1.popleft()\n",
    "        for i in range(now//coin+1):\n",
    "            rest = now-coin*i\n",
    "            if rest==0:\n",
    "                count+=1\n",
    "            else:\n",
    "                deque2.append(rest)\n",
    "    deque1 = deque2\n",
    "    deque2 = deque()\n",
    "    \n",
    "print(count)\n",
    "\n",
    "# 갯수 100개 짜리에 배열 하나, deque 두개 썼는데 메모리 초과라고?"
   ]
  },
  {
   "cell_type": "code",
   "execution_count": null,
   "metadata": {},
   "outputs": [],
   "source": [
    "deque1.append(k)\n",
    "deque1.append(-1) # 메모리 줄이려고 칸막이 씀"
   ]
  },
  {
   "cell_type": "code",
   "execution_count": null,
   "metadata": {},
   "outputs": [],
   "source": [
    "count = 0\n",
    "# 큰 코인 순서대로 큰 코인을 0개 썼을때, 1개 썼을때, ... t개 썼을때 남은 금액들을 큐에 다시 넣음\n",
    "# 금액들을 넣는데 넣을 금액이 0이면 count+=1\n",
    "for coin in coins:\n",
    "    # 음수 칸막이 걸릴때 까지\n",
    "    while deque1[0]>=0:\n",
    "        now = deque1.popleft()\n",
    "        for i in range(now//coin+1):\n",
    "            rest = now-coin*i\n",
    "            if rest==0:\n",
    "                count+=1\n",
    "            else:\n",
    "                deque1.append(rest)\n",
    "    # 음수 칸막이 빼서 맨 뒤에 넣기\n",
    "    deque1.append(deque1.popleft())\n",
    "    \n",
    "print(count)\n",
    "\n",
    "# 갯수 100개 짜리에 배열 하나, deque 두개 썼는데 메모리 초과라고?\n",
    "# "
   ]
  },
  {
   "cell_type": "code",
   "execution_count": 1,
   "metadata": {},
   "outputs": [],
   "source": [
    "%load_ext memory_profiler"
   ]
  },
  {
   "cell_type": "code",
   "execution_count": null,
   "metadata": {},
   "outputs": [],
   "source": [
    "deque1"
   ]
  },
  {
   "cell_type": "code",
   "execution_count": 3,
   "metadata": {},
   "outputs": [
    {
     "name": "stdout",
     "output_type": "stream",
     "text": [
      "3 10\n",
      "1\n",
      "2\n",
      "5\n",
      "10\n",
      "peak memory: 51.91 MiB, increment: 0.00 MiB\n"
     ]
    }
   ],
   "source": [
    "n, k = map(int, input().split())\n",
    "coins = [int(input()) for _ in range(n)]\n",
    "coins.sort(reverse=True)\n",
    "\n",
    "stack1 = [k]\n",
    "stack2 = []\n",
    "\n",
    "count = 0\n",
    "# 큰 코인 순서대로 큰 코인을 0개 썼을때, 1개 썼을때, ... t개 썼을때 남은 금액들을 큐에 다시 넣음\n",
    "# 금액들을 넣는데 넣을 금액이 0이면 count+=1\n",
    "for coin in coins:\n",
    "    for num in stack1:\n",
    "        for i in range(num//coin + 1):\n",
    "            rest = num - coin*i\n",
    "            if rest==0:\n",
    "                count += 1\n",
    "            else:\n",
    "                stack2.append(rest)\n",
    "    stack1 = stack2\n",
    "    stack2 = []\n",
    "    \n",
    "print(count)\n",
    "\n",
    "# 배열 3개 실패 파붕이 눈물"
   ]
  },
  {
   "cell_type": "code",
   "execution_count": null,
   "metadata": {},
   "outputs": [],
   "source": []
  },
  {
   "cell_type": "code",
   "execution_count": 2,
   "metadata": {},
   "outputs": [
    {
     "name": "stdout",
     "output_type": "stream",
     "text": [
      "peak memory: 51.75 MiB, increment: 0.33 MiB\n"
     ]
    }
   ],
   "source": [
    "%memit"
   ]
  },
  {
   "cell_type": "code",
   "execution_count": 6,
   "metadata": {},
   "outputs": [
    {
     "name": "stdout",
     "output_type": "stream",
     "text": [
      "4 10\n",
      "2\n",
      "3\n",
      "6\n",
      "8\n",
      "4\n"
     ]
    }
   ],
   "source": [
    "n, k = map(int, input().split())\n",
    "coins = [int(input()) for _ in range(n)]\n",
    "coins.sort(reverse=True)\n",
    "\n",
    "stack1 = [k]\n",
    "\n",
    "count = 0\n",
    "# 큰 코인 순서대로 큰 코인을 0개 썼을때, 1개 썼을때, ... t개 썼을때 남은 금액들을 큐에 다시 넣음\n",
    "# 금액들을 넣는데 넣을 금액이 0이면 count+=1\n",
    "for coin in coins:\n",
    "    stack1.append(-1)\n",
    "    while True:\n",
    "        now = stack1.pop(0)\n",
    "        if now == -1:\n",
    "            break\n",
    "        for i in range(now//coin + 1):\n",
    "            rest = now - coin*i\n",
    "            if rest==0:\n",
    "                count += 1\n",
    "            else:\n",
    "                stack1.append(rest)\n",
    "\n",
    "print(count)\n",
    "\n",
    "# 배열 3개 실패 파붕이 눈물... pop(0)가 구리지만 배열 2개로 도전\n",
    "# 시간초과 한번더 눈물 일단 배열 2개로 끝내야 되는 거 같음"
   ]
  },
  {
   "cell_type": "markdown",
   "metadata": {},
   "source": [
    "# "
   ]
  }
 ],
 "metadata": {
  "kernelspec": {
   "display_name": "Python 3",
   "language": "python",
   "name": "python3"
  },
  "language_info": {
   "codemirror_mode": {
    "name": "ipython",
    "version": 3
   },
   "file_extension": ".py",
   "mimetype": "text/x-python",
   "name": "python",
   "nbconvert_exporter": "python",
   "pygments_lexer": "ipython3",
   "version": "3.7.4"
  }
 },
 "nbformat": 4,
 "nbformat_minor": 2
}
