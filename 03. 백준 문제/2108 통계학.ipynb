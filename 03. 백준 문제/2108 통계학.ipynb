{
 "cells": [
  {
   "cell_type": "code",
   "execution_count": 105,
   "metadata": {},
   "outputs": [],
   "source": [
    "from collections import Counter\n",
    "\n",
    "class StatisticsMachine:\n",
    "    def __init__(self, arr):\n",
    "        self.arr = arr\n",
    "        self.sum_num = 0\n",
    "        self.max_num = -4000\n",
    "        self.min_num = 4000\n",
    "        self.counter = Counter()\n",
    "        \n",
    "    def run(self):\n",
    "        # 정렬하면서 통계값을 구하기 위해 필요한 연산 수행\n",
    "        # 정렬방법은 삽입정렬 썼는데 병합 or 피봇으로 교체 요망\n",
    "        for i in range(0, len(self.arr)):\n",
    "            now = self.arr[i]\n",
    "            self.sum_num+=now         # 평균을 위한 총합 구하기\n",
    "            if now>self.max_num:      # 최댓값 찾기\n",
    "                self.max_num = now\n",
    "            if now<self.min_num:      # 최소값 찾기\n",
    "                self.min_num = now\n",
    "            self.counter[now]+=1      # 최빈값 찾기\n",
    "            \n",
    "            flag = True\n",
    "            for j in range(i-1, -1, -1):\n",
    "                if self.arr[i]>self.arr[j]:\n",
    "                    self.arr = self.arr[0:j+1] + [self.arr[i]] + self.arr[j+1:i] + self.arr[i+1:]\n",
    "                    flag = False\n",
    "                    break\n",
    "            if flag:\n",
    "                self.arr = [self.arr[i]] + self.arr[0:i] + self.arr[i+1:]\n",
    "                \n",
    "        yield round(self.sum_num/len(self.arr))        # 평균값\n",
    "        yield self.arr[len(self.arr)//2]               # 중간 값\n",
    "        least_num = self.counter.most_common()[0][1]   # 최빈 횟수\n",
    "        candidate = []                                  # 최빈 횟수들의 후보\n",
    "        for (num, count) in self.counter.most_common(): \n",
    "            if count==least_num:\n",
    "                candidate.append(num)\n",
    "        if len(candidate)>=2:                           # 최빈값이 동률이면\n",
    "            yield sorted(candidate)[1]                  # 두번째로 작은거\n",
    "        else:\n",
    "            yield candidate[0]                          # 그게 아니면 그냥\n",
    "        yield self.max_num - self.min_num               # 범위"
   ]
  },
  {
   "cell_type": "code",
   "execution_count": 86,
   "metadata": {},
   "outputs": [
    {
     "name": "stdout",
     "output_type": "stream",
     "text": [
      "5\n",
      "1\n",
      "3\n",
      "8\n",
      "-2\n",
      "2\n"
     ]
    }
   ],
   "source": [
    "# 입력\n",
    "arr = []\n",
    "for _ in range(int(input())):\n",
    "    arr.append(int(input()))"
   ]
  },
  {
   "cell_type": "code",
   "execution_count": 106,
   "metadata": {},
   "outputs": [],
   "source": [
    "# 통계 머신에 넣기\n",
    "machine = StatisticsMachine(arr)"
   ]
  },
  {
   "cell_type": "code",
   "execution_count": 107,
   "metadata": {},
   "outputs": [
    {
     "name": "stdout",
     "output_type": "stream",
     "text": [
      "2\n",
      "2\n",
      "1\n",
      "10\n"
     ]
    }
   ],
   "source": [
    "# 돌리면서 출력\n",
    "for num in machine.run():\n",
    "    print(num)"
   ]
  },
  {
   "cell_type": "code",
   "execution_count": 100,
   "metadata": {},
   "outputs": [
    {
     "data": {
      "text/plain": [
       "2"
      ]
     },
     "execution_count": 100,
     "metadata": {},
     "output_type": "execute_result"
    }
   ],
   "source": [
    "import math\n",
    "round(2.3)"
   ]
  },
  {
   "cell_type": "code",
   "execution_count": null,
   "metadata": {},
   "outputs": [],
   "source": []
  },
  {
   "cell_type": "code",
   "execution_count": 113,
   "metadata": {},
   "outputs": [
    {
     "name": "stdout",
     "output_type": "stream",
     "text": [
      "5\n",
      "-1\n",
      "-2\n",
      "-3\n",
      "-1\n",
      "-2\n",
      "-2\n",
      "-2\n",
      "-1\n",
      "2\n"
     ]
    }
   ],
   "source": [
    "from collections import Counter\n",
    "\n",
    "# 입력 - O(n)\n",
    "arr = []\n",
    "for _ in range(int(input())):\n",
    "    arr.append(int(input()))\n",
    "\n",
    "# 정렬 - O(nlog(n))\n",
    "arr = sorted(arr)\n",
    "\n",
    "# 평균 - O(n)\n",
    "print(round(sum(arr)/len(arr)))\n",
    "\n",
    "# 중앙값 - O(1)\n",
    "print(arr[len(arr)//2]) \n",
    "\n",
    "# 최빈값 찾기\n",
    "# 카운터 생성 및 입력\n",
    "counter = Counter()\n",
    "for num in arr:\n",
    "    counter[num] += 1\n",
    "# 최빈 횟수 \n",
    "max_count = counter.most_common()[0][1]\n",
    "# 최빈값 후보 뽑기\n",
    "candidate = []\n",
    "for num, count in counter.most_common():\n",
    "    if count == max_count:\n",
    "        candidate.append(num)\n",
    "# 후보 둘 이상이면 두번째로 큰얘, 아니면 하나 있는거 출력\n",
    "if len(candidate)>=2:\n",
    "    print(sorted(candidate)[1])\n",
    "else:\n",
    "    print(candidate[0])\n",
    "\n",
    "# 범위 - O(2n)\n",
    "print(max(arr)-min(arr)) "
   ]
  },
  {
   "cell_type": "markdown",
   "metadata": {},
   "source": [
    "nlog(n) 으로 정렬 시키면서 그 와중에 통계값을 찾기위한 연산을 수행해야함.\n",
    "\n",
    "n^2으로 정렬시키면 바로 시간초과인것 같고\n",
    "\n",
    "1. 정렬을 커스텀하게 구현해서 그 안에 통계값 찾기 위한 연산을 넣음\n",
    "2. 내장된 정렬을 사용하되, 자바에서 Comparator 구현하는거 같은 과정 안에 통계값 찾는 연산을 넣음\n",
    "\n",
    "위 두 가지가 베스트인것 같다. 일단 지금 제출한 답은 사실 nlog(n)이긴 한데 n연산을 여러번 수행했음"
   ]
  },
  {
   "cell_type": "code",
   "execution_count": null,
   "metadata": {},
   "outputs": [],
   "source": []
  }
 ],
 "metadata": {
  "kernelspec": {
   "display_name": "Python 3",
   "language": "python",
   "name": "python3"
  },
  "language_info": {
   "codemirror_mode": {
    "name": "ipython",
    "version": 3
   },
   "file_extension": ".py",
   "mimetype": "text/x-python",
   "name": "python",
   "nbconvert_exporter": "python",
   "pygments_lexer": "ipython3",
   "version": "3.7.4"
  }
 },
 "nbformat": 4,
 "nbformat_minor": 2
}
