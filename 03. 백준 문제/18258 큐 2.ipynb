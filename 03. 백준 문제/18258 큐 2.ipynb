{
 "cells": [
  {
   "cell_type": "code",
   "execution_count": 12,
   "metadata": {},
   "outputs": [],
   "source": [
    "input = open(\"inputText\").readline"
   ]
  },
  {
   "cell_type": "code",
   "execution_count": 13,
   "metadata": {},
   "outputs": [
    {
     "name": "stdout",
     "output_type": "stream",
     "text": [
      "1\n",
      "2\n",
      "2\n",
      "0\n",
      "1\n",
      "2\n",
      "-1\n",
      "0\n",
      "1\n",
      "-1\n",
      "0\n",
      "3\n"
     ]
    }
   ],
   "source": [
    "from collections import deque\n",
    "import sys\n",
    "input = sys.stdin.readline\n",
    "queue = deque()\n",
    "ops = ['push', 'pop', 'size', 'empty', 'front', 'back']\n",
    "for _ in range(int(input())):\n",
    "    command = input().split()\n",
    "    if command[0] == ops[0]:\n",
    "        queue.append(command[1])\n",
    "    elif command[0] == ops[1]:\n",
    "        print(-1 if len(queue)==0 else queue.popleft())\n",
    "    elif command[0] == ops[2]:\n",
    "        print(len(queue))\n",
    "    elif command[0] == ops[3]:\n",
    "        print(1 if len(queue)==0 else 0)\n",
    "    elif command[0] == ops[4]:\n",
    "        print(-1 if len(queue)==0 else queue[0])\n",
    "    elif command[0] == ops[5]:\n",
    "        print(-1 if len(queue)==0 else queue[-1])"
   ]
  },
  {
   "cell_type": "code",
   "execution_count": 11,
   "metadata": {},
   "outputs": [
    {
     "data": {
      "text/plain": [
       "deque(['1', '2', '3'])"
      ]
     },
     "execution_count": 11,
     "metadata": {},
     "output_type": "execute_result"
    }
   ],
   "source": [
    "queue"
   ]
  },
  {
   "cell_type": "code",
   "execution_count": null,
   "metadata": {},
   "outputs": [],
   "source": []
  }
 ],
 "metadata": {
  "kernelspec": {
   "display_name": "Python 3",
   "language": "python",
   "name": "python3"
  },
  "language_info": {
   "codemirror_mode": {
    "name": "ipython",
    "version": 3
   },
   "file_extension": ".py",
   "mimetype": "text/x-python",
   "name": "python",
   "nbconvert_exporter": "python",
   "pygments_lexer": "ipython3",
   "version": "3.7.4"
  }
 },
 "nbformat": 4,
 "nbformat_minor": 2
}
