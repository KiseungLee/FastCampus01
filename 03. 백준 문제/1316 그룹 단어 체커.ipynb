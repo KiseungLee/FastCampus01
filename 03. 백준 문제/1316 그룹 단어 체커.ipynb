{
 "cells": [
  {
   "cell_type": "code",
   "execution_count": 11,
   "metadata": {},
   "outputs": [],
   "source": [
    "def is_group_word(word):\n",
    "    arr = [False]*26  # 나왔는지를 기록 및 검사할 배열 True면 한 번 나온 것\n",
    "    prev_char = ''     # 이전 문자 기록\n",
    "    for c in word:\n",
    "        if c!=prev_char:               # 지금 보고 있는 char가 이전 char와 다르다면\n",
    "            if arr[ord(c)-97]==True:  # 다른게 나왔는데 그게 이미 나왔던거라면!\n",
    "                return False          # False\n",
    "            else:                      # 다른게 나왔는데 안나왔던거라면\n",
    "                arr[ord(c)-97] = True  # 나왔다고 기록해두고\n",
    "                prev_char = c          # 이전 char를 다시 할당\n",
    "    return True        # 끝까지 False 안되면 True"
   ]
  },
  {
   "cell_type": "code",
   "execution_count": 10,
   "metadata": {},
   "outputs": [
    {
     "name": "stdout",
     "output_type": "stream",
     "text": [
      "4\n",
      "aba\n",
      "abab\n",
      "abcabc\n",
      "a\n",
      "1\n"
     ]
    }
   ],
   "source": [
    "# 테스트 케이스 입력\n",
    "n = int(input())\n",
    "\n",
    "# 출력 변수 선언 및 초기화\n",
    "count = 0\n",
    "\n",
    "# 테스트 케이스마다 is_group_word가 True이면 count++\n",
    "for _ in range(n):\n",
    "    word = input()\n",
    "    if is_group_word(word)==True:\n",
    "        count += 1\n",
    "\n",
    "# 결과 출력\n",
    "print(count)"
   ]
  },
  {
   "cell_type": "code",
   "execution_count": 1,
   "metadata": {},
   "outputs": [
    {
     "data": {
      "text/plain": [
       "97"
      ]
     },
     "execution_count": 1,
     "metadata": {},
     "output_type": "execute_result"
    }
   ],
   "source": [
    "ord('a')"
   ]
  },
  {
   "cell_type": "code",
   "execution_count": 9,
   "metadata": {},
   "outputs": [
    {
     "data": {
      "text/plain": [
       "True"
      ]
     },
     "execution_count": 9,
     "metadata": {},
     "output_type": "execute_result"
    }
   ],
   "source": [
    "is_group_word('a')"
   ]
  },
  {
   "cell_type": "code",
   "execution_count": null,
   "metadata": {},
   "outputs": [],
   "source": []
  }
 ],
 "metadata": {
  "kernelspec": {
   "display_name": "Python 3",
   "language": "python",
   "name": "python3"
  },
  "language_info": {
   "codemirror_mode": {
    "name": "ipython",
    "version": 3
   },
   "file_extension": ".py",
   "mimetype": "text/x-python",
   "name": "python",
   "nbconvert_exporter": "python",
   "pygments_lexer": "ipython3",
   "version": "3.7.4"
  }
 },
 "nbformat": 4,
 "nbformat_minor": 2
}
