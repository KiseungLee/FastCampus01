{
 "cells": [
  {
   "cell_type": "markdown",
   "metadata": {},
   "source": [
    "### 베르트랑 공준\n",
    "\n",
    "**베르트랑 공준은 임의의 자연수 n에 대하여, n보다 <u>크고</u>, 2n보다 <u>작거나 같은</u> 소수는 적어도 하나 존재한다는 내용을 담고 있다.**\n",
    "\n",
    "이 명제는 조제프 베르트랑이 1845년에 추측했고, 파프누티 체비쇼프가 1850년에 증명했다.\n",
    "\n",
    "예를 들어, 10보다 크고, 20보다 작거나 같은 소수는 4개가 있다. (11, 13, 17, 19) 또, 14보다 크고, 28보다 작거나 같은 소수는 3개가 있다. (17,19, 23)"
   ]
  },
  {
   "cell_type": "code",
   "execution_count": 4,
   "metadata": {},
   "outputs": [
    {
     "name": "stdout",
     "output_type": "stream",
     "text": [
      "100000\n",
      "8392\n",
      "10000\n",
      "1033\n",
      "13\n",
      "3\n",
      "10\n",
      "4\n",
      "0\n"
     ]
    }
   ],
   "source": [
    "import math\n",
    "\n",
    "# 에라토스테네스의 체 만들기\n",
    "arr = [True]*246913\n",
    "arr[0] = False\n",
    "arr[1] = False\n",
    "for i in range(2, int(math.sqrt(246913))+1):\n",
    "    if arr[i]:\n",
    "        j=2\n",
    "        while i*j <= 246913:\n",
    "            arr[i*j] = False\n",
    "            j+=1\n",
    "            \n",
    "while True:\n",
    "    # 0입력시 break\n",
    "    n = int(input())\n",
    "    if n==0:\n",
    "        break\n",
    "        \n",
    "    # 답 구하기\n",
    "    count = 0\n",
    "    for i in range(n+1, 2*n+1):\n",
    "        if arr[i]:\n",
    "            count += 1\n",
    "    \n",
    "    # 출력\n",
    "    print(count)"
   ]
  },
  {
   "cell_type": "code",
   "execution_count": 3,
   "metadata": {},
   "outputs": [
    {
     "data": {
      "text/plain": [
       "246912"
      ]
     },
     "execution_count": 3,
     "metadata": {},
     "output_type": "execute_result"
    }
   ],
   "source": [
    "123456*2"
   ]
  },
  {
   "cell_type": "code",
   "execution_count": null,
   "metadata": {},
   "outputs": [],
   "source": []
  },
  {
   "cell_type": "code",
   "execution_count": null,
   "metadata": {},
   "outputs": [],
   "source": [
    "246913"
   ]
  }
 ],
 "metadata": {
  "kernelspec": {
   "display_name": "Python 3",
   "language": "python",
   "name": "python3"
  },
  "language_info": {
   "codemirror_mode": {
    "name": "ipython",
    "version": 3
   },
   "file_extension": ".py",
   "mimetype": "text/x-python",
   "name": "python",
   "nbconvert_exporter": "python",
   "pygments_lexer": "ipython3",
   "version": "3.7.4"
  }
 },
 "nbformat": 4,
 "nbformat_minor": 2
}
