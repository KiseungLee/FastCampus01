{
 "cells": [
  {
   "cell_type": "code",
   "execution_count": 39,
   "metadata": {},
   "outputs": [
    {
     "name": "stdout",
     "output_type": "stream",
     "text": [
      "72 16\n",
      "8\n",
      "144\n"
     ]
    }
   ],
   "source": [
    "# 입력 및 대,소 설정\n",
    "big, small = map(int, input().split())\n",
    "if small>big:\n",
    "    big, small = small, big\n",
    "\n",
    "# 최대 공약수 : 작은거에서부터    \n",
    "for i in range(small, 0, -1):\n",
    "    if small%i==0 and big%i==0:\n",
    "        print(i)\n",
    "        break\n",
    "\n",
    "# 최대 공배수 : 큰거부터        \n",
    "i = 1\n",
    "while True:\n",
    "    big_temp = big*i\n",
    "    if big_temp%small==0:\n",
    "        print(big_temp)\n",
    "        break\n",
    "    i+=1"
   ]
  },
  {
   "cell_type": "code",
   "execution_count": 54,
   "metadata": {},
   "outputs": [],
   "source": [
    "# 유클리드 호제법 : 두 양의 정수 A >= B에 대해, A가 B의 배수인 경우에 최대공약수는 B이며, 그렇지 않은 경우에는 최대공약수는 B와 A%B의 최대공약수이다\n",
    "def fn_gcd(n, m):\n",
    "    if n%m==0:\n",
    "        return m\n",
    "    else:\n",
    "        return fn_gcd(m, n%m)"
   ]
  },
  {
   "cell_type": "code",
   "execution_count": 55,
   "metadata": {},
   "outputs": [],
   "source": [
    "# 최대 공배수 : n*m / 최대공약수\n",
    "def fn_lcm(n, m, gcd):\n",
    "    return (n*m)//gcd"
   ]
  },
  {
   "cell_type": "code",
   "execution_count": 56,
   "metadata": {},
   "outputs": [
    {
     "name": "stdout",
     "output_type": "stream",
     "text": [
      "16 72\n",
      "8\n",
      "144\n"
     ]
    }
   ],
   "source": [
    "# 입력\n",
    "n, m = map(int, input().split())\n",
    "\n",
    "# 연산\n",
    "gcd = fn_gcd(n, m)\n",
    "lcm = fn_lcm(n, m, gcd)\n",
    "\n",
    "# 출력\n",
    "print(gcd)\n",
    "print(lcm)"
   ]
  },
  {
   "cell_type": "code",
   "execution_count": 53,
   "metadata": {},
   "outputs": [
    {
     "name": "stdout",
     "output_type": "stream",
     "text": [
      "16 72\n",
      "72 16\n",
      "16 8\n"
     ]
    },
    {
     "data": {
      "text/plain": [
       "8"
      ]
     },
     "execution_count": 53,
     "metadata": {},
     "output_type": "execute_result"
    }
   ],
   "source": [
    "fn_gcd(16, 72)"
   ]
  },
  {
   "cell_type": "code",
   "execution_count": null,
   "metadata": {},
   "outputs": [],
   "source": []
  }
 ],
 "metadata": {
  "kernelspec": {
   "display_name": "Python 3",
   "language": "python",
   "name": "python3"
  },
  "language_info": {
   "codemirror_mode": {
    "name": "ipython",
    "version": 3
   },
   "file_extension": ".py",
   "mimetype": "text/x-python",
   "name": "python",
   "nbconvert_exporter": "python",
   "pygments_lexer": "ipython3",
   "version": "3.7.4"
  }
 },
 "nbformat": 4,
 "nbformat_minor": 2
}
