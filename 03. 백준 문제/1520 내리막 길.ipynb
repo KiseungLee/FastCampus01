{
 "cells": [
  {
   "cell_type": "code",
   "execution_count": 17,
   "metadata": {},
   "outputs": [],
   "source": [
    "input = open(\"inputText\").readline"
   ]
  },
  {
   "cell_type": "code",
   "execution_count": 18,
   "metadata": {},
   "outputs": [],
   "source": [
    "n, m = map(int, input().split())\n",
    "arr = [list(map(int, input().split())) for _ in range(n)]\n",
    "dp = [[0]*(m+1) for _ in range(n+1)]\n",
    "dp[1][1] = 1"
   ]
  },
  {
   "cell_type": "code",
   "execution_count": 19,
   "metadata": {},
   "outputs": [
    {
     "data": {
      "text/plain": [
       "[[0, 0, 0, 0, 0, 0],\n",
       " [0, 1, 0, 0, 0, 0],\n",
       " [0, 0, 0, 0, 0, 0],\n",
       " [0, 0, 0, 0, 0, 0],\n",
       " [0, 0, 0, 0, 0, 0]]"
      ]
     },
     "execution_count": 19,
     "metadata": {},
     "output_type": "execute_result"
    }
   ],
   "source": [
    "dp"
   ]
  },
  {
   "cell_type": "code",
   "execution_count": 20,
   "metadata": {},
   "outputs": [],
   "source": [
    "for i in range(1, n+1):\n",
    "    for j in range(1, m+1):\n",
    "        dp[i][j] += dp[i][j-1] if j-2>=0 and arr[i-1][j-2]>arr[i-1][j-1] else 0\n",
    "        dp[i][j] += dp[i-1][j] if i-2>=0 and arr[i-2][j-1]>arr[i-1][j-1] else 0\n",
    "        dp[i][j] += "
   ]
  },
  {
   "cell_type": "code",
   "execution_count": 21,
   "metadata": {},
   "outputs": [
    {
     "data": {
      "text/plain": [
       "[[0, 0, 0, 0, 0, 0],\n",
       " [0, 1, 1, 1, 1, 1],\n",
       " [0, 1, 0, 0, 1, 1],\n",
       " [0, 1, 0, 0, 1, 0],\n",
       " [0, 1, 1, 1, 2, 2]]"
      ]
     },
     "execution_count": 21,
     "metadata": {},
     "output_type": "execute_result"
    }
   ],
   "source": [
    "dp"
   ]
  },
  {
   "cell_type": "code",
   "execution_count": 46,
   "metadata": {},
   "outputs": [],
   "source": [
    "input = open(\"inputText\").readline"
   ]
  },
  {
   "cell_type": "code",
   "execution_count": 47,
   "metadata": {},
   "outputs": [],
   "source": [
    "from collections import deque\n",
    "n, m = map(int, input().split())\n",
    "arr = [list(map(int, input().split())) for _ in range(n)]"
   ]
  },
  {
   "cell_type": "code",
   "execution_count": 48,
   "metadata": {},
   "outputs": [],
   "source": [
    "queue = deque()\n",
    "queue.append((0,0))"
   ]
  },
  {
   "cell_type": "code",
   "execution_count": 49,
   "metadata": {},
   "outputs": [
    {
     "name": "stdout",
     "output_type": "stream",
     "text": [
      "10\n"
     ]
    }
   ],
   "source": [
    "count=0\n",
    "while len(queue)>0:\n",
    "    (i, j) = queue.popleft()\n",
    "    if i==n-1 and j==m-1:\n",
    "        count+=1\n",
    "    else:\n",
    "        if i-1>=0 and arr[i-1][j] < arr[i][j]:\n",
    "            queue.append((i-1, j))\n",
    "        if j-1>=0 and arr[i][j-1] < arr[i][j]:\n",
    "            queue.append((i, j-1))\n",
    "        if i+1<n and arr[i+1][j] < arr[i][j]:\n",
    "            queue.append((i+1, j))\n",
    "        if j+1<m and arr[i][j+1] < arr[i][j]:\n",
    "            queue.append((i, j+1))\n",
    "            \n",
    "print(count)\n",
    "\n",
    "# 일단 풀이는 맞는거 같은데 Python3로하면 시간초과, PyPy3로 하면 메모리 초과..."
   ]
  },
  {
   "cell_type": "code",
   "execution_count": 33,
   "metadata": {},
   "outputs": [
    {
     "data": {
      "text/plain": [
       "0"
      ]
     },
     "execution_count": 33,
     "metadata": {},
     "output_type": "execute_result"
    }
   ],
   "source": [
    "count"
   ]
  },
  {
   "cell_type": "code",
   "execution_count": 50,
   "metadata": {},
   "outputs": [],
   "source": [
    "input = open(\"inputText\").readline"
   ]
  },
  {
   "cell_type": "code",
   "execution_count": 51,
   "metadata": {},
   "outputs": [
    {
     "name": "stdout",
     "output_type": "stream",
     "text": [
      "10\n"
     ]
    }
   ],
   "source": [
    "# 큐쓴 BFS는 시간초과 or 메모리초과였음 스택 이용한 DFS로 가보자\n",
    "# import sys\n",
    "# input = sys.stdin.readline\n",
    "n, m = map(int, input().split())\n",
    "arr = [list(map(int, input().split())) for _ in range(n)]\n",
    "\n",
    "stack = [(0, 0)]\n",
    "\n",
    "count=0\n",
    "while len(stack)>0:\n",
    "    (i, j) = stack.pop()\n",
    "    if i==n-1 and j==m-1:\n",
    "        count+=1\n",
    "    else:\n",
    "        if i-1>=0 and arr[i-1][j] < arr[i][j]:\n",
    "            stack.append((i-1, j))\n",
    "        if j-1>=0 and arr[i][j-1] < arr[i][j]:\n",
    "            stack.append((i, j-1))\n",
    "        if i+1<n and arr[i+1][j] < arr[i][j]:\n",
    "            stack.append((i+1, j))\n",
    "        if j+1<m and arr[i][j+1] < arr[i][j]:\n",
    "            stack.append((i, j+1))\n",
    "            \n",
    "print(count)\n",
    "\n",
    "# Python3, PyPy3 둘다 시간초과 뜬다... 파붕이들 어케 풀었누..."
   ]
  },
  {
   "cell_type": "code",
   "execution_count": 65,
   "metadata": {},
   "outputs": [],
   "source": [
    "input = open(\"inputText\").readline"
   ]
  },
  {
   "cell_type": "code",
   "execution_count": 66,
   "metadata": {},
   "outputs": [
    {
     "name": "stdout",
     "output_type": "stream",
     "text": [
      "[1, -1, -1, -1, -1]\n",
      "[-1, -1, -1, -1, -1]\n",
      "[-1, -1, -1, -1, -1]\n",
      "[-1, -1, -1, -1, -1]\n",
      "--------- 0 0\n",
      "[1, -1, -1, -1, -1]\n",
      "[-1, -1, -1, -1, -1]\n",
      "[-1, -1, -1, -1, -1]\n",
      "[-1, -1, -1, -1, -1]\n",
      "--------- 0 1\n",
      "[1, 0, -1, -1, -1]\n",
      "[-1, 0, -1, -1, -1]\n",
      "[-1, -1, -1, -1, -1]\n",
      "[-1, -1, -1, -1, -1]\n",
      "--------- 0 2\n",
      "[1, 0, -1, -1, -1]\n",
      "[-1, 0, 0, -1, -1]\n",
      "[-1, -1, -1, -1, -1]\n",
      "[-1, -1, -1, -1, -1]\n",
      "--------- 0 3\n",
      "[1, 0, 0, -1, -1]\n",
      "[-1, 0, 0, -1, -1]\n",
      "[-1, -1, -1, -1, -1]\n",
      "[-1, -1, -1, -1, -1]\n",
      "--------- 0 4\n",
      "[1, 0, 0, 0, -1]\n",
      "[-1, 0, 0, -1, -1]\n",
      "[-1, -1, -1, -1, -1]\n",
      "[-1, -1, -1, -1, -1]\n",
      "--------- 1 0\n",
      "[1, 0, 0, 0, -1]\n",
      "[0, 0, 0, -1, -1]\n",
      "[-1, -1, -1, -1, -1]\n",
      "[-1, -1, -1, -1, -1]\n",
      "--------- 1 1\n",
      "[1, 0, 0, 0, -1]\n",
      "[0, 0, 0, -1, -1]\n",
      "[-1, -1, -1, -1, -1]\n",
      "[-1, -1, -1, -1, -1]\n",
      "--------- 1 2\n",
      "[1, 0, 0, 0, -1]\n",
      "[0, 0, 0, -1, -1]\n",
      "[-1, -1, -1, -1, -1]\n",
      "[-1, -1, -1, -1, -1]\n",
      "--------- 1 3\n",
      "[1, 0, 0, 0, -1]\n",
      "[0, 0, 0, -1, -1]\n",
      "[-1, -1, -1, -1, -1]\n",
      "[-1, -1, -1, -1, -1]\n",
      "--------- 1 4\n",
      "[1, 0, 0, 0, 0]\n",
      "[0, 0, 0, -1, -1]\n",
      "[-1, -1, -1, -1, 0]\n",
      "[-1, -1, -1, -1, -1]\n",
      "--------- 2 0\n",
      "[1, 0, 0, 0, 0]\n",
      "[0, 0, 0, -1, -1]\n",
      "[-1, -1, -1, -1, 0]\n",
      "[-1, -1, -1, -1, -1]\n",
      "--------- 2 1\n",
      "[1, 0, 0, 0, 0]\n",
      "[0, 0, 0, -1, -1]\n",
      "[-1, -1, -1, -1, 0]\n",
      "[-1, -1, -1, -1, -1]\n",
      "--------- 2 2\n",
      "[1, 0, 0, 0, 0]\n",
      "[0, 0, 0, -1, -1]\n",
      "[-1, 0, -1, -1, 0]\n",
      "[-1, -1, -1, -1, -1]\n",
      "--------- 2 3\n",
      "[1, 0, 0, 0, 0]\n",
      "[0, 0, 0, 0, -1]\n",
      "[-1, 0, 0, -1, 0]\n",
      "[-1, -1, -1, -1, -1]\n",
      "--------- 2 4\n",
      "[1, 0, 0, 0, 0]\n",
      "[0, 0, 0, 0, -1]\n",
      "[-1, 0, 0, -1, 0]\n",
      "[-1, -1, -1, -1, -1]\n",
      "--------- 3 0\n",
      "[1, 0, 0, 0, 0]\n",
      "[0, 0, 0, 0, -1]\n",
      "[0, 0, 0, -1, 0]\n",
      "[-1, -1, -1, -1, -1]\n",
      "--------- 3 1\n",
      "[1, 0, 0, 0, 0]\n",
      "[0, 0, 0, 0, -1]\n",
      "[0, 0, 0, -1, 0]\n",
      "[0, -1, -1, -1, -1]\n",
      "--------- 3 2\n",
      "[1, 0, 0, 0, 0]\n",
      "[0, 0, 0, 0, -1]\n",
      "[0, 0, 0, -1, 0]\n",
      "[0, 0, -1, -1, -1]\n",
      "--------- 3 3\n",
      "[1, 0, 0, 0, 0]\n",
      "[0, 0, 0, 0, -1]\n",
      "[0, 0, 0, 0, 0]\n",
      "[0, 0, 0, -1, -1]\n",
      "--------- 3 4\n",
      "-1\n"
     ]
    }
   ],
   "source": [
    "# dp로 가보자. 아 이게 이 문제의 교훈이구나. 탐색으로 풀 수 있지만 dp로 푸는게 더 효율적인 그런 문제\n",
    "# 근데 dp로 어떻게 풀지\n",
    "\n",
    "# dp를 돌리는데 이 문제에서 dp를 돌리려면 주변에 자기보다 높은 얘들의 값을 알아야 됨.\n",
    "# 자기보다 높은데 값이 없는 얘가 나오면 그 값을 찾아 오라고 dfs 보내는 거임.\n",
    "\n",
    "def find(x, y):\n",
    "    global dp\n",
    "    if x<0 or x>=n or y<0 or y>m:\n",
    "        return 0\n",
    "    if dp[x][y]!=-1:\n",
    "        return dp[x][y]\n",
    "    else:\n",
    "        value = 0\n",
    "        if x-1>=0:\n",
    "            value += 0 if arr[x-1][y] <= arr[x][y] else find(x-1, y)\n",
    "        if x+1<n:\n",
    "            value += 0 if arr[x+1][y] <= arr[x][y] else find(x+1, y)\n",
    "        if y-1>=0:\n",
    "            value += 0 if arr[x][y-1] <= arr[x][y] else find(x, y-1)\n",
    "        if y+1<n:\n",
    "            value += 0 if arr[x][y+1] <= arr[x][y] else find(x, y+1)\n",
    "        dp[x][y] = value\n",
    "        return dp[x][y]\n",
    "    \n",
    "n, m = map(int, input().split())\n",
    "arr = [list(map(int, input().split())) for _ in range(n)]\n",
    "dp = [[-1]*m for _ in range(n)]\n",
    "dp[0][0] = 1\n",
    "\n",
    "for i in range(n):\n",
    "    for j in range(m):\n",
    "        for line in dp:\n",
    "            print(line)\n",
    "        print('---------', i, j)\n",
    "        if i-1>=0 and arr[i-1][j] > arr[i][j]:\n",
    "            dp[i][j] += dp[i-1][j] if dp[i-1][j] != -1 else find(i-1, j)\n",
    "        if i+1<n and arr[i+1][j] > arr[i][j]:\n",
    "            dp[i][j] += dp[i+1][j] if dp[i+1][j] != -1 else find(i+1, j)\n",
    "        if j-1>=0 and arr[i][j-1] > arr[i][j]:\n",
    "            dp[i][j] += dp[i][j-1] if dp[i][j-1] != -1 else find(i, j-1)\n",
    "        if j+1<n and arr[i][j+1] > arr[i][j+1]:\n",
    "            dp[i][j] += dp[i][j+1] if dp[i][j+1] != -1 else find(i, j+1)\n",
    "            \n",
    "print(dp[-1][-1])"
   ]
  },
  {
   "cell_type": "code",
   "execution_count": 58,
   "metadata": {},
   "outputs": [
    {
     "data": {
      "text/plain": [
       "[[2, 2, 2, 1, 0], [2, 6, 6, 8, 9], [2, 5, 11, 19, 50], [1, 3, 7, 13, 22]]"
      ]
     },
     "execution_count": 58,
     "metadata": {},
     "output_type": "execute_result"
    }
   ],
   "source": [
    "dp"
   ]
  },
  {
   "cell_type": "code",
   "execution_count": null,
   "metadata": {},
   "outputs": [],
   "source": []
  }
 ],
 "metadata": {
  "kernelspec": {
   "display_name": "Python 3",
   "language": "python",
   "name": "python3"
  },
  "language_info": {
   "codemirror_mode": {
    "name": "ipython",
    "version": 3
   },
   "file_extension": ".py",
   "mimetype": "text/x-python",
   "name": "python",
   "nbconvert_exporter": "python",
   "pygments_lexer": "ipython3",
   "version": "3.7.4"
  }
 },
 "nbformat": 4,
 "nbformat_minor": 2
}
