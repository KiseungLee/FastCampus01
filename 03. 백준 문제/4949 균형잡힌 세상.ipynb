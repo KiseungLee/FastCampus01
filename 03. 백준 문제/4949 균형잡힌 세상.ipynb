{
 "cells": [
  {
   "cell_type": "code",
   "execution_count": 1,
   "metadata": {},
   "outputs": [
    {
     "name": "stdout",
     "output_type": "stream",
     "text": [
      "So when I die (the [first] I will see in (heaven) is a score list).\n",
      "yes\n",
      "[ first in ] ( first out ).\n",
      "yes\n",
      "Half Moon tonight (At least it is better than no Moon at all].\n",
      "no\n",
      "A rope may form )( a trail in a maze.\n",
      "no\n",
      "Help( I[m being held prisoner in a fortune cookie factory)].\n",
      "yes\n",
      "([ (([( [ ] ) ( ) (( ))] )) ]).\n",
      "yes\n",
      " .\n",
      "yes\n",
      ".\n"
     ]
    }
   ],
   "source": [
    "while True:\n",
    "    # 입력\n",
    "    sentence = input()\n",
    "    if sentence=='.':\n",
    "        break\n",
    "        \n",
    "    # 변수 선언\n",
    "    small = 0 # 소괄호\n",
    "    big = 0   # 대괄호\n",
    "    isFailedSmall = False\n",
    "    isFailedBig = False\n",
    "    \n",
    "    # 연산 : 괄호가 열리면 +1, 닫히면 -1, 중간에 열린거 없이 닫혀서 small 이나 big 이 -1 되면 break\n",
    "    for c in sentence:\n",
    "        if c=='(':\n",
    "            small += 1\n",
    "        elif c==')':\n",
    "            small -= 1\n",
    "            if small==-1:\n",
    "                isFailedSmall=True\n",
    "                break\n",
    "        elif c=='[':\n",
    "            big += 1\n",
    "        elif c==']':\n",
    "            big -= 1\n",
    "            if big == -1:\n",
    "                isFailedBig = True\n",
    "                break\n",
    "    \n",
    "    # 소괄호, 대괄호 둘중 하나라도 중간에 break 됐거나 열린게 다 안닫혔을 경우\n",
    "    if isFailedSmall or isFailedBig or small!=0 or big !=0:\n",
    "        print('no')\n",
    "    else:\n",
    "        print('yes')"
   ]
  },
  {
   "cell_type": "code",
   "execution_count": 9,
   "metadata": {},
   "outputs": [],
   "source": [
    "input = open(\"inputText\").readline"
   ]
  },
  {
   "cell_type": "code",
   "execution_count": 10,
   "metadata": {},
   "outputs": [
    {
     "name": "stdout",
     "output_type": "stream",
     "text": [
      "yes\n",
      "yes\n",
      "no\n",
      "no\n",
      "no\n",
      "yes\n",
      "yes\n"
     ]
    }
   ],
   "source": [
    "while True:\n",
    "    # 스택 생성, 입력 및 종료조건\n",
    "    stack = []\n",
    "    sentence = input()\n",
    "    if sentence =='.':\n",
    "        break\n",
    "        \n",
    "    # 연산\n",
    "    isBreak = False\n",
    "    for c in sentence:\n",
    "        if c=='(':\n",
    "            stack.append(1)\n",
    "        elif c==')':\n",
    "            if len(stack)==0 or stack.pop()!=1:\n",
    "                isBreak = True\n",
    "                break\n",
    "        elif c=='[':\n",
    "            stack.append(0)\n",
    "        elif c==']':\n",
    "            if len(stack)==0 or stack.pop()!=0:\n",
    "                isBreak = True\n",
    "                break\n",
    "    \n",
    "    # 출력\n",
    "    if isBreak or len(stack)!=0:\n",
    "        print('no')\n",
    "    else:\n",
    "        print('yes')"
   ]
  },
  {
   "cell_type": "code",
   "execution_count": null,
   "metadata": {},
   "outputs": [],
   "source": []
  }
 ],
 "metadata": {
  "kernelspec": {
   "display_name": "Python 3",
   "language": "python",
   "name": "python3"
  },
  "language_info": {
   "codemirror_mode": {
    "name": "ipython",
    "version": 3
   },
   "file_extension": ".py",
   "mimetype": "text/x-python",
   "name": "python",
   "nbconvert_exporter": "python",
   "pygments_lexer": "ipython3",
   "version": "3.7.4"
  }
 },
 "nbformat": 4,
 "nbformat_minor": 2
}
