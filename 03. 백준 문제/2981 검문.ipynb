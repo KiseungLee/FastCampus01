{
 "cells": [
  {
   "cell_type": "code",
   "execution_count": 2,
   "metadata": {},
   "outputs": [
    {
     "name": "stdout",
     "output_type": "stream",
     "text": [
      "3\n",
      "6\n",
      "34\n",
      "38\n",
      "2\n",
      "4\n"
     ]
    }
   ],
   "source": [
    "n = int(input())\n",
    "arr = []\n",
    "for _ in range(n):\n",
    "    arr.append(int(input()))\n",
    "arr.sort()\n",
    "\n",
    "for i in range(2, arr[-1]+1):\n",
    "    temp = arr[0]%i\n",
    "    flag = True\n",
    "    for j in range(1, n):\n",
    "        if temp != arr[j]%i:\n",
    "            flag = False\n",
    "            break\n",
    "    if flag:\n",
    "        print(i)"
   ]
  },
  {
   "cell_type": "code",
   "execution_count": 13,
   "metadata": {},
   "outputs": [
    {
     "name": "stdout",
     "output_type": "stream",
     "text": [
      "3\n",
      "6\n",
      "34\n",
      "38\n",
      "2\n",
      "4\n"
     ]
    }
   ],
   "source": [
    "n = int(input())\n",
    "arr = []\n",
    "min_num = 1000000000\n",
    "for _ in range(n):\n",
    "    input_num = int(input())\n",
    "    if input_num < min_num:\n",
    "        min_num = input_num\n",
    "    arr.append(input_num)\n",
    "    \n",
    "for i in range(2, min_num+1):\n",
    "    temp = min_num%i\n",
    "    flag = True\n",
    "    for num in arr:\n",
    "        if num%i!=temp:\n",
    "            flag = False\n",
    "            break\n",
    "    if flag:\n",
    "        print(i)"
   ]
  },
  {
   "cell_type": "code",
   "execution_count": 12,
   "metadata": {},
   "outputs": [
    {
     "data": {
      "text/plain": [
       "78"
      ]
     },
     "execution_count": 12,
     "metadata": {},
     "output_type": "execute_result"
    }
   ],
   "source": [
    "sum_num"
   ]
  },
  {
   "cell_type": "code",
   "execution_count": null,
   "metadata": {},
   "outputs": [],
   "source": []
  }
 ],
 "metadata": {
  "kernelspec": {
   "display_name": "Python 3",
   "language": "python",
   "name": "python3"
  },
  "language_info": {
   "codemirror_mode": {
    "name": "ipython",
    "version": 3
   },
   "file_extension": ".py",
   "mimetype": "text/x-python",
   "name": "python",
   "nbconvert_exporter": "python",
   "pygments_lexer": "ipython3",
   "version": "3.7.4"
  }
 },
 "nbformat": 4,
 "nbformat_minor": 2
}
