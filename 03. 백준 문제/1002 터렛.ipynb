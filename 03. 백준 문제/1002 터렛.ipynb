{
 "cells": [
  {
   "cell_type": "code",
   "execution_count": 8,
   "metadata": {},
   "outputs": [
    {
     "name": "stdout",
     "output_type": "stream",
     "text": [
      "1\n",
      "0 0 2 2 0 2\n",
      "2\n"
     ]
    }
   ],
   "source": [
    "import math\n",
    "test_case = int(input())\n",
    "for _ in range(test_case):\n",
    "    x1, y1, r1, x2, y2, r2 = map(int, input().split())\n",
    "    d = math.sqrt((x1-x2)*(x1-x2) + (y1-y2)*(y1-y2))\n",
    "    if x1==x2 and y1==y2 and r1==r2:\n",
    "        print(-1)\n",
    "    elif r1+r2==int(d) or abs(r1-r2)==int(d):\n",
    "        print(1)\n",
    "    elif r1+r2>d and (d>=r1 and d>=r2):\n",
    "        print(2)\n",
    "    elif r1+r2>d and (r2<abs(r1-d) and r1<abs(r2-d)):\n",
    "        print(2)\n",
    "    else:\n",
    "        print(0)"
   ]
  },
  {
   "cell_type": "code",
   "execution_count": null,
   "metadata": {},
   "outputs": [],
   "source": [
    "import math\n",
    "math."
   ]
  },
  {
   "cell_type": "code",
   "execution_count": 1,
   "metadata": {},
   "outputs": [
    {
     "data": {
      "text/plain": [
       "3"
      ]
     },
     "execution_count": 1,
     "metadata": {},
     "output_type": "execute_result"
    }
   ],
   "source": [
    "abs(-3)"
   ]
  },
  {
   "cell_type": "code",
   "execution_count": 11,
   "metadata": {},
   "outputs": [
    {
     "name": "stdout",
     "output_type": "stream",
     "text": [
      "1\n",
      "0 0 2 2 0 2\n",
      "2\n"
     ]
    }
   ],
   "source": [
    "# 처음부터 조건문 순서 꼼꼼하게 잘 매겼으면 진작에 풀리는 건데\n",
    "# 종이에 좀 쓰면서 합시다.\n",
    "\n",
    "# o        O\n",
    "# o ->  <- O\n",
    "#    oO\n",
    "# 순서로 가면서 r1+r2<d 로 필터링 하고\n",
    "# 다음에 |r1-r2|<d 로 필터링함\n",
    "import math\n",
    "test_case = int(input())\n",
    "for _ in range(test_case):\n",
    "    x1, y1, r1, x2, y2, r2 = map(int, input().split())\n",
    "    d = math.sqrt((x1-x2)*(x1-x2) + (y1-y2)*(y1-y2))\n",
    "    plus = r1 + r2\n",
    "    minus = abs(r1-r2)\n",
    "    \n",
    "    if x1==x2 and y1==y2 and r1==r2:\n",
    "        print(-1)\n",
    "    elif plus<d:\n",
    "        print(0)\n",
    "    elif plus == int(d):\n",
    "        print(1)\n",
    "    else:\n",
    "        if minus < d:\n",
    "            print(2)\n",
    "        elif minus == int(d):\n",
    "            print(1)\n",
    "        else:\n",
    "            print(0)"
   ]
  },
  {
   "cell_type": "code",
   "execution_count": null,
   "metadata": {},
   "outputs": [],
   "source": []
  }
 ],
 "metadata": {
  "kernelspec": {
   "display_name": "Python 3",
   "language": "python",
   "name": "python3"
  },
  "language_info": {
   "codemirror_mode": {
    "name": "ipython",
    "version": 3
   },
   "file_extension": ".py",
   "mimetype": "text/x-python",
   "name": "python",
   "nbconvert_exporter": "python",
   "pygments_lexer": "ipython3",
   "version": "3.7.4"
  }
 },
 "nbformat": 4,
 "nbformat_minor": 2
}
