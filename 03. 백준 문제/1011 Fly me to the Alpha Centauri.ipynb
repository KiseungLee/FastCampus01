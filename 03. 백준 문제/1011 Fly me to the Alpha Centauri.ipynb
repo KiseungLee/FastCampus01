{
 "cells": [
  {
   "cell_type": "code",
   "execution_count": 34,
   "metadata": {},
   "outputs": [],
   "source": [
    "import math\n",
    "# 제곱수인지 판별 함수\n",
    "# https://teus.me/9\n",
    "def isSquareNumber(n):\n",
    "    temp = n & 0x0F\n",
    "    if temp==0 or temp==1 or temp==4 or temp==9:\n",
    "        root_num = int(math.sqrt(n))\n",
    "        return root_num*root_num==n\n",
    "    else:\n",
    "        return False"
   ]
  },
  {
   "cell_type": "code",
   "execution_count": 44,
   "metadata": {},
   "outputs": [
    {
     "name": "stdout",
     "output_type": "stream",
     "text": [
      "1 5\n"
     ]
    }
   ],
   "source": [
    "x, y = map(int, input().split())"
   ]
  },
  {
   "cell_type": "code",
   "execution_count": 45,
   "metadata": {},
   "outputs": [],
   "source": [
    "d = y-x"
   ]
  },
  {
   "cell_type": "code",
   "execution_count": 46,
   "metadata": {},
   "outputs": [
    {
     "name": "stdout",
     "output_type": "stream",
     "text": [
      "3\n"
     ]
    }
   ],
   "source": [
    "t = 0\n",
    "while True:\n",
    "    sol = 0\n",
    "    flag = False\n",
    "    for a in range(0, t-1 if t>=2 else 1):\n",
    "        temp = (t-1)**2-4*(a-d)\n",
    "        if isSquareNumber(temp):\n",
    "            sol = int(math.sqrt(temp)-1)\n",
    "            flag = True\n",
    "            break\n",
    "    if flag:\n",
    "        print(sol)\n",
    "        break\n",
    "    t+=1"
   ]
  },
  {
   "cell_type": "code",
   "execution_count": null,
   "metadata": {},
   "outputs": [],
   "source": []
  },
  {
   "cell_type": "code",
   "execution_count": 47,
   "metadata": {},
   "outputs": [
    {
     "name": "stdout",
     "output_type": "stream",
     "text": [
      "3\n",
      "0 3\n",
      "3\n",
      "1 5\n",
      "3\n",
      "45 50\n",
      "4\n"
     ]
    }
   ],
   "source": [
    "# 작동횟수를 최소로 해야하기 때문에 이동거리의 변화량은 증가 -> 감소 (일정해도 됨) 가 되야 한다고 생각했음.\n",
    "# x축 작동횟수, y축 이동거리로 볼때 평행사변형이 만들어지고 평행사변형의 넓이가 두 지점사이 거리가 되면 된다고 생각함.\n",
    "# 한번에 최고 이동거리가 h이고 최고 이동거리가 t만큼 유지된다고 가정하면\n",
    "# 지점사이 거리 d = h*(h-1)/2 + h*t + h*(h-1)/2 = h**2 + (t-1)*h 로 둘 수 있음. \n",
    "# 그런데 h, t는 정수이기 때문에 위 등식을 성립시키는 세 정수 d, h, t가 존재하지 않을 수 있음.\n",
    "# 이를 보정하기 위해 0<=a<=t-2 인 정수 a를 추가로 더해줌 (정수라는 요건을 충족시키기 위해 평행사변형 위에 1씩 a만큼 얹어준다고 생각)\n",
    "# d = h**2 + (t-1)*h + a\n",
    "# 이렇게 둘때, 우리가 구하고자 하는 작동횟수 sol = 2*x - 2 + t 가 됨.(평행사변형 밑변 길이)\n",
    "\n",
    "# 이때 d = h**2 + (t-1)*h + a 를 h에 대한 2차방정식으로 보면\n",
    "# 양수 h = (1-t+math.sqrt((t-1)**2 - 4*(a-d)))/2 가 되고 이를 sol = 2*x -2 + t 에 대입하면\n",
    "# sol = math.sqrt((t-1)**2-4*(a-d)) -1 이 됨\n",
    "# d는 주어졌고 sol, t, a가 모두 정수여야 함.\n",
    "# 루트 안 (t-1)**2-4*(a-d) 가 제곱수가 되는 t, a 를 구하면 됨.\n",
    "# a는 0<=a<=t-2 이므로 t를 0부터 조사해 가장 처음 나오는 t, a쌍을 구하면 됨 \n",
    "# t, a에 대한 이중 for문을 돌리면서 (t-1)**2-4*(a-d) 를 제곱수로 만드는 최초 t, a를 구하고 \n",
    "# sol = math.sqrt((t-1)**2-4*(a-d)) -1 를 출력함.\n",
    "\n",
    "# 한번에 맞긴 했는데 \n",
    "# 이렇게 풀면 2초 걸림.\n",
    "# 파이썬으로 3.7초 나온분 뒤를 이어 2등인거 같음\n",
    "# java로 80ms가 걸리는걸 보니 풀이가 잘못돼도 한참 잘못됐음\n",
    "\n",
    "import math\n",
    "# 제곱수인지 판별 함수 \n",
    "# https://teus.me/9   -> 이걸 얻어가자\n",
    "def isSquareNumber(n):\n",
    "    temp = n & 0x0F\n",
    "    if temp==0 or temp==1 or temp==4 or temp==9:\n",
    "        root_num = int(math.sqrt(n))\n",
    "        return root_num*root_num==n\n",
    "    else:\n",
    "        return False\n",
    "    \n",
    "test_case = int(input())\n",
    "for _ in range(test_case):\n",
    "    x, y = map(int, input().split())\n",
    "    d = y-x\n",
    "    t = 0\n",
    "    while True:\n",
    "        sol = 0\n",
    "        flag = False\n",
    "        \n",
    "        # (t-1)**2-4*(a-d) 를 제곱수로 만드는 최초의 t, a 쌍 찾기\n",
    "        for a in range(0, t-1 if t>=2 else 1):\n",
    "            temp = (t-1)**2-4*(a-d)\n",
    "            if isSquareNumber(temp):\n",
    "                sol = int(math.sqrt(temp)-1)\n",
    "                flag = True\n",
    "                break\n",
    "        \n",
    "        # 찾았으면 출력하고 빠져나오기\n",
    "        if flag:\n",
    "            print(sol)\n",
    "            break\n",
    "            \n",
    "        # t 증가\n",
    "        t+=1"
   ]
  },
  {
   "cell_type": "code",
   "execution_count": null,
   "metadata": {},
   "outputs": [],
   "source": []
  }
 ],
 "metadata": {
  "kernelspec": {
   "display_name": "Python 3",
   "language": "python",
   "name": "python3"
  },
  "language_info": {
   "codemirror_mode": {
    "name": "ipython",
    "version": 3
   },
   "file_extension": ".py",
   "mimetype": "text/x-python",
   "name": "python",
   "nbconvert_exporter": "python",
   "pygments_lexer": "ipython3",
   "version": "3.7.4"
  }
 },
 "nbformat": 4,
 "nbformat_minor": 2
}
