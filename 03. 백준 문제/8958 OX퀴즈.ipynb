{
 "cells": [
  {
   "cell_type": "code",
   "execution_count": 2,
   "metadata": {},
   "outputs": [
    {
     "name": "stdout",
     "output_type": "stream",
     "text": [
      "5\n",
      "OOXXOXXOOO\n",
      "10\n",
      "OOXXOOXXOO\n",
      "9\n",
      "OXOXOXOXOXOXOX\n",
      "7\n",
      "OOOOOOOOOO\n",
      "55\n",
      "OOOOXOOOOXOOOOX\n",
      "30\n"
     ]
    }
   ],
   "source": [
    "# 테스트 케이스\n",
    "n = int(input())\n",
    "\n",
    "# 1케이스마다 답 출력\n",
    "for _ in range(n):\n",
    "    # ox string 입력\n",
    "    ox = input()\n",
    "    \n",
    "    # 연속 정답 갯수 및 점수 기록\n",
    "    count = 0\n",
    "    score = 0\n",
    "    \n",
    "    # ox 돌며 점수 기록\n",
    "    for c in ox:\n",
    "        if c=='O':\n",
    "            count += 1\n",
    "            score += count\n",
    "        elif c=='X':\n",
    "            count = 0\n",
    "    \n",
    "    # 점수 출력\n",
    "    print(score)"
   ]
  },
  {
   "cell_type": "code",
   "execution_count": null,
   "metadata": {},
   "outputs": [],
   "source": []
  }
 ],
 "metadata": {
  "kernelspec": {
   "display_name": "Python 3",
   "language": "python",
   "name": "python3"
  },
  "language_info": {
   "codemirror_mode": {
    "name": "ipython",
    "version": 3
   },
   "file_extension": ".py",
   "mimetype": "text/x-python",
   "name": "python",
   "nbconvert_exporter": "python",
   "pygments_lexer": "ipython3",
   "version": "3.7.4"
  }
 },
 "nbformat": 4,
 "nbformat_minor": 2
}
