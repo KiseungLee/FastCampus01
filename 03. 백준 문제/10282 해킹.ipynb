{
 "cells": [
  {
   "cell_type": "markdown",
   "metadata": {},
   "source": [
    "## 다익스트라 알고리즘 동빈나님의 인도를 받고 한방에 클리어"
   ]
  },
  {
   "cell_type": "code",
   "execution_count": 60,
   "metadata": {},
   "outputs": [],
   "source": [
    "input = open('inputText').readline"
   ]
  },
  {
   "cell_type": "code",
   "execution_count": 61,
   "metadata": {},
   "outputs": [
    {
     "name": "stdout",
     "output_type": "stream",
     "text": [
      "2 5\n",
      "3 6\n"
     ]
    }
   ],
   "source": [
    "from collections import deque\n",
    "\n",
    "for _ in range(int(input())):\n",
    "    n, d, c = map(int, input().split())\n",
    "    adj = [{} for _ in range(n)]\n",
    "    for _ in range(d):\n",
    "        a, b, s = map(int, input().split())\n",
    "        adj[b-1][a-1] = s\n",
    "        \n",
    "    costs = [-1]*n\n",
    "    wait = deque()\n",
    "    wait.append((c-1, 0)) # idx, cost\n",
    "    while wait:\n",
    "        now, total = wait.popleft()\n",
    "        if costs[now]==-1 or costs[now]>total:\n",
    "            costs[now] = total\n",
    "            for next_, cost in adj[now].items():\n",
    "                wait.append((next_, total+cost))\n",
    "    \n",
    "    count=0\n",
    "    max_=0\n",
    "    for num in costs:\n",
    "        if num!=-1:\n",
    "            count+=1\n",
    "        if num>max_:\n",
    "            max_=num\n",
    "    print(count, max_)"
   ]
  },
  {
   "cell_type": "markdown",
   "metadata": {},
   "source": []
  },
  {
   "cell_type": "code",
   "execution_count": 54,
   "metadata": {},
   "outputs": [
    {
     "data": {
      "text/plain": [
       "[0, 2, 6]"
      ]
     },
     "execution_count": 54,
     "metadata": {},
     "output_type": "execute_result"
    }
   ],
   "source": [
    "costs"
   ]
  },
  {
   "cell_type": "code",
   "execution_count": 55,
   "metadata": {},
   "outputs": [
    {
     "data": {
      "text/plain": [
       "[{1: 2, 2: 8}, {2: 4}, {}]"
      ]
     },
     "execution_count": 55,
     "metadata": {},
     "output_type": "execute_result"
    }
   ],
   "source": [
    "adj"
   ]
  },
  {
   "cell_type": "code",
   "execution_count": null,
   "metadata": {},
   "outputs": [],
   "source": []
  }
 ],
 "metadata": {
  "kernelspec": {
   "display_name": "Python 3",
   "language": "python",
   "name": "python3"
  },
  "language_info": {
   "codemirror_mode": {
    "name": "ipython",
    "version": 3
   },
   "file_extension": ".py",
   "mimetype": "text/x-python",
   "name": "python",
   "nbconvert_exporter": "python",
   "pygments_lexer": "ipython3",
   "version": "3.7.4"
  }
 },
 "nbformat": 4,
 "nbformat_minor": 2
}
