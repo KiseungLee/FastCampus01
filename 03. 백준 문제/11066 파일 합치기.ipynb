{
 "cells": [
  {
   "cell_type": "code",
   "execution_count": 8,
   "metadata": {},
   "outputs": [
    {
     "name": "stdout",
     "output_type": "stream",
     "text": [
      "15\n",
      "1 3 3 4 4 5 5 5 14 17 21 21 32 35 98\n",
      "<queue.PriorityQueue object at 0x000001A4586647C8>\n",
      "1 3 4 4\n",
      "3 4 7 11\n",
      "4 4 8 19\n",
      "5 5 10 29\n",
      "5 7 12 41\n",
      "8 10 18 59\n",
      "12 14 26 85\n",
      "17 18 35 120\n",
      "21 21 42 162\n",
      "26 32 58 220\n",
      "35 35 70 290\n",
      "42 58 100 390\n",
      "70 98 168 558\n",
      "100 168 268 826\n",
      "826\n"
     ]
    }
   ],
   "source": [
    "from queue import PriorityQueue\n",
    "n = int(input())\n",
    "nums = list(map(int, input().split()))\n",
    "queue = PriorityQueue()\n",
    "for num in nums:\n",
    "    queue.put(num)\n",
    "    \n",
    "print(queue)\n",
    "result = 0\n",
    "while queue.qsize()>1:\n",
    "    a = queue.get()\n",
    "    b = queue.get()\n",
    "    temp = a + b\n",
    "#    temp = queue.get() + queue.get()\n",
    "    result += temp\n",
    "    print(a, b, temp, result)\n",
    "    queue.put(temp)\n",
    "    \n",
    "print(result)\n",
    "\n",
    "## 문제에 인접한 파일들끼리만 합칠 수 있다고 나와있음"
   ]
  },
  {
   "cell_type": "code",
   "execution_count": 3,
   "metadata": {},
   "outputs": [
    {
     "name": "stdout",
     "output_type": "stream",
     "text": [
      "1 21 3 4 5 35 5 4 3 5 98 21 14 17 32\n"
     ]
    }
   ],
   "source": [
    "temp = list(map(int, input().split()))"
   ]
  },
  {
   "cell_type": "code",
   "execution_count": 4,
   "metadata": {},
   "outputs": [
    {
     "data": {
      "text/plain": [
       "[1, 21, 3, 4, 5, 35, 5, 4, 3, 5, 98, 21, 14, 17, 32]"
      ]
     },
     "execution_count": 4,
     "metadata": {},
     "output_type": "execute_result"
    }
   ],
   "source": [
    "temp"
   ]
  },
  {
   "cell_type": "code",
   "execution_count": 5,
   "metadata": {},
   "outputs": [],
   "source": [
    "temp.sort()"
   ]
  },
  {
   "cell_type": "code",
   "execution_count": 6,
   "metadata": {},
   "outputs": [
    {
     "data": {
      "text/plain": [
       "[1, 3, 3, 4, 4, 5, 5, 5, 14, 17, 21, 21, 32, 35, 98]"
      ]
     },
     "execution_count": 6,
     "metadata": {},
     "output_type": "execute_result"
    }
   ],
   "source": [
    "temp"
   ]
  },
  {
   "cell_type": "code",
   "execution_count": 7,
   "metadata": {},
   "outputs": [
    {
     "name": "stdout",
     "output_type": "stream",
     "text": [
      "1 3 3 4 4 5 5 5 14 17 21 21 32 35 98\n"
     ]
    }
   ],
   "source": [
    "print(' '.join(map(str, temp)))"
   ]
  },
  {
   "cell_type": "code",
   "execution_count": 10,
   "metadata": {},
   "outputs": [
    {
     "data": {
      "text/plain": [
       "433"
      ]
     },
     "execution_count": 10,
     "metadata": {},
     "output_type": "execute_result"
    }
   ],
   "source": [
    "1+21+3+4+4+3+7+5+5+7+22+12+12+5+35+17+34+52+86+98"
   ]
  },
  {
   "cell_type": "code",
   "execution_count": null,
   "metadata": {},
   "outputs": [],
   "source": []
  }
 ],
 "metadata": {
  "kernelspec": {
   "display_name": "Python 3",
   "language": "python",
   "name": "python3"
  },
  "language_info": {
   "codemirror_mode": {
    "name": "ipython",
    "version": 3
   },
   "file_extension": ".py",
   "mimetype": "text/x-python",
   "name": "python",
   "nbconvert_exporter": "python",
   "pygments_lexer": "ipython3",
   "version": "3.7.4"
  }
 },
 "nbformat": 4,
 "nbformat_minor": 2
}
