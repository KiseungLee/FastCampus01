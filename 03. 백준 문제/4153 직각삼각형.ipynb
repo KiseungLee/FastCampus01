{
 "cells": [
  {
   "cell_type": "code",
   "execution_count": 1,
   "metadata": {},
   "outputs": [
    {
     "name": "stdout",
     "output_type": "stream",
     "text": [
      "6 8 10\n",
      "right\n",
      "25 52 60\n",
      "wrong\n",
      "5 12 13\n",
      "right\n",
      "5 3 4\n",
      "right\n",
      "0 0 0\n"
     ]
    }
   ],
   "source": [
    "# a, b, c를 비교해 가장 큰걸 찾고 max**2 == m**2 + n**2 하기 \n",
    "# vs\n",
    "# 제곱 다 해놓고 아래처럼 세번 더해보기\n",
    "\n",
    "while True:\n",
    "    a, b, c = map(int, input().split())\n",
    "    if a==0:\n",
    "        break\n",
    "    a *= a\n",
    "    b *= b\n",
    "    c *= c\n",
    "    if a+b == c or a+c==b or c+b==a :\n",
    "        print('right')\n",
    "    else:\n",
    "        print('wrong')"
   ]
  },
  {
   "cell_type": "code",
   "execution_count": null,
   "metadata": {},
   "outputs": [],
   "source": []
  }
 ],
 "metadata": {
  "kernelspec": {
   "display_name": "Python 3",
   "language": "python",
   "name": "python3"
  },
  "language_info": {
   "codemirror_mode": {
    "name": "ipython",
    "version": 3
   },
   "file_extension": ".py",
   "mimetype": "text/x-python",
   "name": "python",
   "nbconvert_exporter": "python",
   "pygments_lexer": "ipython3",
   "version": "3.7.4"
  }
 },
 "nbformat": 4,
 "nbformat_minor": 2
}
