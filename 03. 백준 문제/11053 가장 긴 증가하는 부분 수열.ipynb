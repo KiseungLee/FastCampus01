{
 "cells": [
  {
   "cell_type": "markdown",
   "metadata": {},
   "source": [
    "### LIS(Longest Increasing Subsequence)"
   ]
  },
  {
   "cell_type": "code",
   "execution_count": 31,
   "metadata": {},
   "outputs": [
    {
     "name": "stdout",
     "output_type": "stream",
     "text": [
      "6\n",
      "5 2 4 8 7 2\n",
      "3\n"
     ]
    }
   ],
   "source": [
    "# 입력\n",
    "n = int(input())\n",
    "nums = list(map(int, input().split()))\n",
    "\n",
    "# dp테이블 초기화\n",
    "dp = [0]*(n+1)\n",
    "\n",
    "# 연산\n",
    "for i in range(1, n+1):\n",
    "    max_num = 0\n",
    "    for j in range(i-1, -1, -1):\n",
    "        if nums[j-1]<nums[i-1] and dp[j]>max_num:\n",
    "            max_num = dp[j]\n",
    "    dp[i] = max_num+1\n",
    "    \n",
    "# 출력\n",
    "print(max(dp))"
   ]
  },
  {
   "cell_type": "code",
   "execution_count": null,
   "metadata": {},
   "outputs": [],
   "source": []
  }
 ],
 "metadata": {
  "kernelspec": {
   "display_name": "Python 3",
   "language": "python",
   "name": "python3"
  },
  "language_info": {
   "codemirror_mode": {
    "name": "ipython",
    "version": 3
   },
   "file_extension": ".py",
   "mimetype": "text/x-python",
   "name": "python",
   "nbconvert_exporter": "python",
   "pygments_lexer": "ipython3",
   "version": "3.7.4"
  }
 },
 "nbformat": 4,
 "nbformat_minor": 2
}
