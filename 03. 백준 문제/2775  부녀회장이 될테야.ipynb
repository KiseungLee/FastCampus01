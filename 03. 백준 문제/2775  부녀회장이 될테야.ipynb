{
 "cells": [
  {
   "cell_type": "code",
   "execution_count": 21,
   "metadata": {},
   "outputs": [
    {
     "name": "stdout",
     "output_type": "stream",
     "text": [
      "2\n",
      "1\n",
      "3\n",
      "6\n",
      "2\n",
      "3\n",
      "10\n"
     ]
    }
   ],
   "source": [
    "# 테스트 케이스\n",
    "test_case = int(input())\n",
    "\n",
    "for _ in range(test_case):\n",
    "    # 입력\n",
    "    k = int(input())\n",
    "    n = int(input())\n",
    "\n",
    "    # apt[k층][n호]\n",
    "    apt = [[0]*(n+1) for _ in range(k+1)]\n",
    "\n",
    "    # 0층 n호는 n으로 설정\n",
    "    for i in range(n+1):\n",
    "        apt[0][i] = i\n",
    "\n",
    "    # 1층 ~ k층\n",
    "    for i in range(1, k+1):\n",
    "        # 1호 ~ n호\n",
    "        for j in range(1, n+1):\n",
    "            apt[i][j] = apt[i][j-1] + apt[i-1][j]\n",
    "\n",
    "    # 출력\n",
    "    print(apt[k][n])"
   ]
  },
  {
   "cell_type": "code",
   "execution_count": 18,
   "metadata": {},
   "outputs": [
    {
     "data": {
      "text/plain": [
       "[[0, 1, 2, 3], [0, 1, 3, 6], [0, 1, 4, 10]]"
      ]
     },
     "execution_count": 18,
     "metadata": {},
     "output_type": "execute_result"
    }
   ],
   "source": [
    "apt"
   ]
  },
  {
   "cell_type": "code",
   "execution_count": null,
   "metadata": {},
   "outputs": [],
   "source": []
  }
 ],
 "metadata": {
  "kernelspec": {
   "display_name": "Python 3",
   "language": "python",
   "name": "python3"
  },
  "language_info": {
   "codemirror_mode": {
    "name": "ipython",
    "version": 3
   },
   "file_extension": ".py",
   "mimetype": "text/x-python",
   "name": "python",
   "nbconvert_exporter": "python",
   "pygments_lexer": "ipython3",
   "version": "3.7.4"
  }
 },
 "nbformat": 4,
 "nbformat_minor": 2
}
