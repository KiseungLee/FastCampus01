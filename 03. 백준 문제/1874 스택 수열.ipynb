{
 "cells": [
  {
   "cell_type": "code",
   "execution_count": 5,
   "metadata": {},
   "outputs": [
    {
     "name": "stdout",
     "output_type": "stream",
     "text": [
      "5\n",
      "1\n",
      "2\n",
      "5\n",
      "3\n",
      "NO\n"
     ]
    }
   ],
   "source": [
    "# 변수 선언\n",
    "stack = []      # 스택\n",
    "result = []     # +, - 담길 배열\n",
    "num = 1         # 스택에 들어갈 다음수\n",
    "isFail = False # 수열 못만드는지\n",
    "\n",
    "for _ in range(int(input())):\n",
    "    # 입력\n",
    "    n = int(input())\n",
    "    # 들어갈 수가 입력받은 수만큼 될때가지 계속 넣음\n",
    "    while num<=n:\n",
    "        stack.append(num)\n",
    "        result.append('+')\n",
    "        num += 1\n",
    "    # 빼려는데 스택이 비어있거나 스택의 맨 위가 입력받은수가 아닐때 실패\n",
    "    if len(stack)==0 or stack[-1]!=n:\n",
    "        print('NO')\n",
    "        isFail = True\n",
    "        break\n",
    "    else:\n",
    "        # 그게 아니면 스택 맨 위에 제거\n",
    "        stack.pop()\n",
    "        result.append('-')\n",
    "\n",
    "# 중간에 실패하지 않았으면 스택에 남은거 다 빼줌        \n",
    "if not isFail:\n",
    "    while len(stack)!=0:\n",
    "        stack.pop()\n",
    "        result.append('-')\n",
    "    # 결과 출력\n",
    "    for c in result:\n",
    "        print(c)"
   ]
  },
  {
   "cell_type": "markdown",
   "metadata": {},
   "source": [
    "#### n"
   ]
  },
  {
   "cell_type": "code",
   "execution_count": null,
   "metadata": {},
   "outputs": [],
   "source": []
  }
 ],
 "metadata": {
  "kernelspec": {
   "display_name": "Python 3",
   "language": "python",
   "name": "python3"
  },
  "language_info": {
   "codemirror_mode": {
    "name": "ipython",
    "version": 3
   },
   "file_extension": ".py",
   "mimetype": "text/x-python",
   "name": "python",
   "nbconvert_exporter": "python",
   "pygments_lexer": "ipython3",
   "version": "3.7.4"
  }
 },
 "nbformat": 4,
 "nbformat_minor": 2
}
