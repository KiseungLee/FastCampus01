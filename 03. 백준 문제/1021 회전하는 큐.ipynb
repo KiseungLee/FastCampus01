{
 "cells": [
  {
   "cell_type": "code",
   "execution_count": 16,
   "metadata": {},
   "outputs": [
    {
     "name": "stdout",
     "output_type": "stream",
     "text": [
      "10 3\n",
      "1 2 3\n",
      "0\n"
     ]
    }
   ],
   "source": [
    "from collections import deque\n",
    "# 입력\n",
    "n, m = map(int, input().split())\n",
    "picks = deque(list(map(int, input().split())))\n",
    "\n",
    "# 연산\n",
    "deque = deque(list(range(1, n+1)))\n",
    "count = 0\n",
    "while len(picks)!=0:\n",
    "    # 왼쪽으로 뽑으려면 몇번 돌려야 하는지 세봄\n",
    "    i = 0\n",
    "    while True:\n",
    "        if deque[i]==picks[0]:\n",
    "            break\n",
    "        i+=1\n",
    "    # 왼쪽으로 돌리는게 이득이거나 같다면\n",
    "    if i<=len(deque)//2:\n",
    "        while deque[0]!=picks[0]:\n",
    "            deque.append(deque.popleft())\n",
    "            count += 1\n",
    "        deque.popleft()\n",
    "        picks.popleft()\n",
    "    # 오른쪽으로 돌리는게 이득이라면\n",
    "    else:\n",
    "        while deque[0]!=picks[0]:\n",
    "            deque.appendleft(deque.pop())\n",
    "            count+=1\n",
    "        deque.popleft()\n",
    "        picks.popleft()\n",
    "        \n",
    "# 출력\n",
    "print(count)"
   ]
  },
  {
   "cell_type": "code",
   "execution_count": 8,
   "metadata": {},
   "outputs": [
    {
     "data": {
      "text/plain": [
       "8"
      ]
     },
     "execution_count": 8,
     "metadata": {},
     "output_type": "execute_result"
    }
   ],
   "source": [
    "count"
   ]
  },
  {
   "cell_type": "code",
   "execution_count": 6,
   "metadata": {},
   "outputs": [
    {
     "data": {
      "text/plain": [
       "0"
      ]
     },
     "execution_count": 6,
     "metadata": {},
     "output_type": "execute_result"
    }
   ],
   "source": [
    "i"
   ]
  },
  {
   "cell_type": "code",
   "execution_count": null,
   "metadata": {},
   "outputs": [],
   "source": []
  }
 ],
 "metadata": {
  "kernelspec": {
   "display_name": "Python 3",
   "language": "python",
   "name": "python3"
  },
  "language_info": {
   "codemirror_mode": {
    "name": "ipython",
    "version": 3
   },
   "file_extension": ".py",
   "mimetype": "text/x-python",
   "name": "python",
   "nbconvert_exporter": "python",
   "pygments_lexer": "ipython3",
   "version": "3.7.4"
  }
 },
 "nbformat": 4,
 "nbformat_minor": 2
}
