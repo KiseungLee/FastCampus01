{
 "cells": [
  {
   "cell_type": "code",
   "execution_count": 6,
   "metadata": {},
   "outputs": [
    {
     "name": "stdout",
     "output_type": "stream",
     "text": [
      "baekjoon\n",
      "1 0 -1 -1 2 -1 -1 -1 -1 4 3 -1 -1 7 5 -1 -1 -1 -1 -1 -1 -1 -1 -1 -1 -1 "
     ]
    }
   ],
   "source": [
    "# 입력\n",
    "word = input()\n",
    "# 알파벳 별로 등장 인덱스를 기록할 배열. 기본값은 -1\n",
    "arr = [-1]*26\n",
    "\n",
    "# 입력 단어를 돌면서 해당 알파벳 등장 안했으면 등장 인덱스 넣어주기\n",
    "for idx, c in enumerate(word):\n",
    "    c_idx = ord(c)-97\n",
    "    if arr[c_idx]==-1:\n",
    "        arr[c_idx] = idx\n",
    "    \n",
    "# 알파벳 등장 인덱스 기록 배열 전체 출력\n",
    "for n in arr:\n",
    "    print(n, end=' ')"
   ]
  },
  {
   "cell_type": "code",
   "execution_count": null,
   "metadata": {},
   "outputs": [],
   "source": []
  }
 ],
 "metadata": {
  "kernelspec": {
   "display_name": "Python 3",
   "language": "python",
   "name": "python3"
  },
  "language_info": {
   "codemirror_mode": {
    "name": "ipython",
    "version": 3
   },
   "file_extension": ".py",
   "mimetype": "text/x-python",
   "name": "python",
   "nbconvert_exporter": "python",
   "pygments_lexer": "ipython3",
   "version": "3.7.4"
  }
 },
 "nbformat": 4,
 "nbformat_minor": 2
}
