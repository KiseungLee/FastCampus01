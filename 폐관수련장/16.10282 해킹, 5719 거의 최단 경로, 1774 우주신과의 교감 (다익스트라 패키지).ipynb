{
 "cells": [
  {
   "cell_type": "code",
   "execution_count": null,
   "metadata": {},
   "outputs": [],
   "source": [
    "# acmicpc.net/problem/10282 해킹\n",
    "\n",
    "n, d, c = map(int, input().split())\n",
    "dic = {}\n",
    "for _ in range(d):\n",
    "    a, b, s = map(int, input().split())\n",
    "    if b in dic:\n",
    "        dic[b].append(a)\n",
    "    else:\n",
    "        dic[b] = [a]\n",
    "        \n",
    "sec_arr = [0]*n\n",
    "\n",
    "will_visit = [c]\n",
    "visited = []\n",
    "\n",
    "def dfs(value, sec):\n",
    "    if value not in visited:\n",
    "        \n",
    "    \n",
    "while will_visit:\n",
    "    now = will_visit.pop(0)\n",
    "    if now not in visited:\n",
    "        visited.append(now)\n",
    "        if now in dic:\n",
    "            for i in dic[now]:\n",
    "                will_visit.append(i)\n",
    "                \n",
    "# 내가 기획해 놓은 풀이의 문제점을 찾음.\n",
    "# sec_arr에 각 index에 도착한 최소 시간을 기록하고 sec_arr에서 최대값을 뽑으려고 했는데\n",
    "# 이러려면 한번 방문한 노드도 다시 방문 할 수 있게 해줘야됨.\n",
    "# 근데 이러면 무한루프를 돌 수 있음."
   ]
  },
  {
   "cell_type": "code",
   "execution_count": null,
   "metadata": {},
   "outputs": [],
   "source": [
    "# 선생님\n",
    "# 일단 다익스트라 알고리즘 문제임\n",
    "# 다익스트라 알고리즘은 다이나믹 프로그래밍으로 분류되기도 하고 그리디 알고리즘으로 분류 되기도 함.\n",
    "# https://www.youtube.com/watch?v=611B-9zk2o4 선생님 유튜브인데 이게 설명이 좋네\n",
    "\n"
   ]
  }
 ],
 "metadata": {
  "kernelspec": {
   "display_name": "Python 3",
   "language": "python",
   "name": "python3"
  },
  "language_info": {
   "codemirror_mode": {
    "name": "ipython",
    "version": 3
   },
   "file_extension": ".py",
   "mimetype": "text/x-python",
   "name": "python",
   "nbconvert_exporter": "python",
   "pygments_lexer": "ipython3",
   "version": "3.7.1"
  }
 },
 "nbformat": 4,
 "nbformat_minor": 2
}
