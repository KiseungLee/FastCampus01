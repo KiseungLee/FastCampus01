{
 "cells": [
  {
   "cell_type": "code",
   "execution_count": null,
   "metadata": {},
   "outputs": [],
   "source": [
    "# https://www.acmicpc.net/problem/1874\n",
    "\n",
    "n = int(input())\n",
    "\n",
    "stack = [1]\n",
    "print('+')\n",
    "\n",
    "num_list = [i for i in range(2, n+1)]\n",
    "\n",
    "for i in range(1, n+1):\n",
    "    m = int(input())\n",
    "    if stack[-1]<m:\n",
    "        while stack[-1]<m:\n",
    "            stack.append(num_list.pop(0))\n",
    "            c\n",
    "    elif stack[-1]>m:\n",
    "        print('NO')\n",
    "        break\n",
    "    del stack[-1]\n",
    "    print('-')"
   ]
  },
  {
   "cell_type": "code",
   "execution_count": null,
   "metadata": {},
   "outputs": [],
   "source": []
  }
 ],
 "metadata": {
  "kernelspec": {
   "display_name": "Python 3",
   "language": "python",
   "name": "python3"
  },
  "language_info": {
   "codemirror_mode": {
    "name": "ipython",
    "version": 3
   },
   "file_extension": ".py",
   "mimetype": "text/x-python",
   "name": "python",
   "nbconvert_exporter": "python",
   "pygments_lexer": "ipython3",
   "version": "3.7.1"
  }
 },
 "nbformat": 4,
 "nbformat_minor": 2
}
