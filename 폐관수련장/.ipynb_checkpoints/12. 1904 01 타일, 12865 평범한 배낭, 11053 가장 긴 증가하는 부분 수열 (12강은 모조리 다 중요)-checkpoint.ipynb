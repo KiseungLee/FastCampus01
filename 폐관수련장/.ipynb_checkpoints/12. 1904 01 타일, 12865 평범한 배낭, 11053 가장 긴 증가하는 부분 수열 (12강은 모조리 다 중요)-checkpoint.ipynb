{
 "cells": [
  {
   "cell_type": "code",
   "execution_count": 8,
   "metadata": {},
   "outputs": [
    {
     "name": "stdout",
     "output_type": "stream",
     "text": [
      "30\n",
      "1 2\n",
      "2 3\n",
      "3 5\n",
      "5 8\n",
      "8 13\n",
      "13 21\n",
      "21 34\n",
      "34 55\n",
      "55 89\n",
      "89 144\n",
      "144 233\n",
      "233 377\n",
      "377 610\n",
      "610 987\n",
      "987 1597\n",
      "1597 2584\n",
      "2584 4181\n",
      "4181 6765\n",
      "6765 10946\n",
      "10946 17711\n",
      "1965 12911\n",
      "12911 14876\n",
      "14876 27787\n",
      "12041 26917\n",
      "11171 23212\n",
      "7466 18637\n",
      "2891 10357\n",
      "7859\n"
     ]
    }
   ],
   "source": [
    "# https://www.acmicpc.net/problem/1904\n",
    "\n",
    "n = int(input())\n",
    "\n",
    "if n==1:\n",
    "    print(1)\n",
    "elif n==2:\n",
    "    print(2)\n",
    "else:\n",
    "    a, b = 1, 2\n",
    "    i = 3\n",
    "    while i<n:\n",
    "        print(a, b)\n",
    "        a, b = b%15746, a%15746+b%15746 # 사실 이부분이 수학적으로 믿고 쓸 수 있는지에 대해 스스로 증명이 더 필요하긴함.\n",
    "        i+=1\n",
    "    print((a+b)%15746)\n",
    "    \n",
    "# "
   ]
  },
  {
   "cell_type": "code",
   "execution_count": 10,
   "metadata": {},
   "outputs": [
    {
     "name": "stdout",
     "output_type": "stream",
     "text": [
      "4\n",
      "5\n"
     ]
    }
   ],
   "source": [
    "# 선생님\n",
    "\n",
    "n = int(input())\n",
    "\n",
    "dp = [0]*1000001\n",
    "dp[1] = 1\n",
    "dp[2] = 2\n",
    "\n",
    "for i in range(3, n+1):\n",
    "    dp[i] = (dp[i-1]+dp[i-2])%15746\n",
    "    \n",
    "print(dp[n])"
   ]
  },
  {
   "cell_type": "code",
   "execution_count": 21,
   "metadata": {},
   "outputs": [
    {
     "name": "stdout",
     "output_type": "stream",
     "text": [
      "5 10\n",
      "1 1\n",
      "1 2\n",
      "1 3\n",
      "1 4\n",
      "1 5\n",
      "165\n"
     ]
    }
   ],
   "source": [
    "# acmicpc.net/problem/12865\n",
    "\n",
    "n, k = map(int, input().split())\n",
    "\n",
    "items = []\n",
    "for _ in range(n):\n",
    "    w, v = map(int, input().split())\n",
    "    items.append([w, v])\n",
    "\n",
    "arr = [0]*(k+1)    \n",
    "for item in items:\n",
    "    for i in range(k+1):\n",
    "        arr[i] = max(arr[i], arr[i-item[0]]+item[1])\n",
    "            \n",
    "print(arr[-1])"
   ]
  },
  {
   "cell_type": "code",
   "execution_count": 20,
   "metadata": {},
   "outputs": [],
   "source": [
    "arr = []"
   ]
  },
  {
   "cell_type": "code",
   "execution_count": null,
   "metadata": {},
   "outputs": [],
   "source": [
    "# acmicpc.net/problem/11053"
   ]
  }
 ],
 "metadata": {
  "kernelspec": {
   "display_name": "Python 3",
   "language": "python",
   "name": "python3"
  },
  "language_info": {
   "codemirror_mode": {
    "name": "ipython",
    "version": 3
   },
   "file_extension": ".py",
   "mimetype": "text/x-python",
   "name": "python",
   "nbconvert_exporter": "python",
   "pygments_lexer": "ipython3",
   "version": "3.7.1"
  }
 },
 "nbformat": 4,
 "nbformat_minor": 2
}
