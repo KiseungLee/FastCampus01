{
 "cells": [
  {
   "cell_type": "code",
   "execution_count": 20,
   "metadata": {},
   "outputs": [
    {
     "name": "stdout",
     "output_type": "stream",
     "text": [
      "5\n",
      "3\n",
      "2\n",
      "1\n",
      "4\n",
      "5\n",
      "+\n",
      "+\n",
      "+\n",
      "-\n",
      "-\n",
      "-\n",
      "+\n",
      "-\n",
      "+\n",
      "-\n"
     ]
    }
   ],
   "source": [
    "# https://www.acmicpc.net/problem/1874\n",
    "\n",
    "def run():\n",
    "    n = int(input())\n",
    "    num = 1\n",
    "    stack = []\n",
    "    result = []\n",
    "\n",
    "    for i in range(n):\n",
    "        m = int(input())\n",
    "        if num<=n:\n",
    "            if not stack:\n",
    "                stack.append(num)\n",
    "                result.append('+')\n",
    "                num+=1\n",
    "            now = stack[-1]\n",
    "            if now > m:\n",
    "                print('NO')\n",
    "                return\n",
    "            elif now<m:\n",
    "                while num<=m:\n",
    "                    stack.append(num)\n",
    "                    result.append('+')\n",
    "                    num+=1\n",
    "            del stack[-1]\n",
    "            result.append('-')\n",
    "        else:\n",
    "            if stack[-1]==m:\n",
    "                del stack[-1]\n",
    "                result.append('-')\n",
    "            else:\n",
    "                print('NO')\n",
    "                return\n",
    "    \n",
    "    for i in result:\n",
    "        print(i)\n",
    "        \n",
    "run()\n",
    "\n",
    "# 조금 깔끔해졌네"
   ]
  },
  {
   "cell_type": "code",
   "execution_count": 27,
   "metadata": {},
   "outputs": [
    {
     "name": "stdout",
     "output_type": "stream",
     "text": [
      "5\n",
      "3\n",
      "2\n",
      "1\n",
      "4\n",
      "5\n",
      "+\n",
      "+\n",
      "+\n",
      "-\n",
      "-\n",
      "-\n",
      "+\n",
      "-\n",
      "+\n",
      "-\n"
     ]
    }
   ],
   "source": [
    "# 스택수열 선생님\n",
    "\n",
    "n = int(input())\n",
    "count = 1\n",
    "stack =[]\n",
    "result = []\n",
    "\n",
    "for i in range(1, n+1):\n",
    "    data = int(input())\n",
    "    while count <= data:\n",
    "        stack.append(count)\n",
    "        count+=1\n",
    "        result.append('+')\n",
    "    if stack[-1] == data: # 여기서 stack index 에러 날 걱정은 없나? 배열 없을때 stack[-1] 찍으면 에러 나긴 하는데\n",
    "        stack.pop()\n",
    "        result.append('-')\n",
    "    else:\n",
    "        print('NO')\n",
    "        exit(0)\n",
    "        \n",
    "print('\\n'.join(result))"
   ]
  },
  {
   "cell_type": "code",
   "execution_count": null,
   "metadata": {},
   "outputs": [],
   "source": []
  }
 ],
 "metadata": {
  "kernelspec": {
   "display_name": "Python 3",
   "language": "python",
   "name": "python3"
  }
 },
 "nbformat": 4,
 "nbformat_minor": 2
}
