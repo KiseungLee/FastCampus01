{
 "cells": [
  {
   "cell_type": "code",
   "execution_count": 8,
   "metadata": {},
   "outputs": [
    {
     "name": "stdout",
     "output_type": "stream",
     "text": [
      "30\n",
      "1 2\n",
      "2 3\n",
      "3 5\n",
      "5 8\n",
      "8 13\n",
      "13 21\n",
      "21 34\n",
      "34 55\n",
      "55 89\n",
      "89 144\n",
      "144 233\n",
      "233 377\n",
      "377 610\n",
      "610 987\n",
      "987 1597\n",
      "1597 2584\n",
      "2584 4181\n",
      "4181 6765\n",
      "6765 10946\n",
      "10946 17711\n",
      "1965 12911\n",
      "12911 14876\n",
      "14876 27787\n",
      "12041 26917\n",
      "11171 23212\n",
      "7466 18637\n",
      "2891 10357\n",
      "7859\n"
     ]
    }
   ],
   "source": [
    "# https://www.acmicpc.net/problem/1904\n",
    "\n",
    "n = int(input())\n",
    "\n",
    "if n==1:\n",
    "    print(1)\n",
    "elif n==2:\n",
    "    print(2)\n",
    "else:\n",
    "    a, b = 1, 2\n",
    "    i = 3\n",
    "    while i<n:\n",
    "        print(a, b)\n",
    "        a, b = b%15746, a%15746+b%15746 # 사실 이부분이 수학적으로 믿고 쓸 수 있는지에 대해 스스로 증명이 더 필요하긴함.\n",
    "        i+=1\n",
    "    print((a+b)%15746)\n",
    "    \n",
    "# "
   ]
  },
  {
   "cell_type": "code",
   "execution_count": 10,
   "metadata": {},
   "outputs": [
    {
     "name": "stdout",
     "output_type": "stream",
     "text": [
      "4\n",
      "5\n"
     ]
    }
   ],
   "source": [
    "# 선생님\n",
    "\n",
    "n = int(input())\n",
    "\n",
    "dp = [0]*1000001\n",
    "dp[1] = 1\n",
    "dp[2] = 2\n",
    "\n",
    "for i in range(3, n+1):\n",
    "    dp[i] = (dp[i-1]+dp[i-2])%15746\n",
    "    \n",
    "print(dp[n])"
   ]
  },
  {
   "cell_type": "code",
   "execution_count": 30,
   "metadata": {},
   "outputs": [
    {
     "name": "stdout",
     "output_type": "stream",
     "text": [
      "5 10\n",
      "1 1\n",
      "1 2\n",
      "1 3\n",
      "1 4\n",
      "1 5\n",
      "15\n"
     ]
    }
   ],
   "source": [
    "# acmicpc.net/problem/12865\n",
    "\n",
    "n, k = map(int, input().split())\n",
    "\n",
    "items = []\n",
    "for _ in range(n):\n",
    "    w, v = map(int, input().split())\n",
    "    items.append([w, v])\n",
    "\n",
    "arr = [[0]*(k+1) for i in range(n)]\n",
    "for idx, item in enumerate(items):\n",
    "    for i in range(k+1):\n",
    "        if idx==0:\n",
    "            arr[idx][i] = item[1] if item[0] <= i else 0\n",
    "        else:\n",
    "            if i-item[0] >= 0:\n",
    "                arr[idx][i] = max(arr[idx-1][i], arr[idx-1][i-item[0]]+item[1])\n",
    "            else:\n",
    "                arr[idx][i] = arr[idx-1][i]\n",
    "                \n",
    "print(max(arr[-1]))"
   ]
  },
  {
   "cell_type": "code",
   "execution_count": 32,
   "metadata": {},
   "outputs": [
    {
     "name": "stdout",
     "output_type": "stream",
     "text": [
      "4 7\n",
      "6 13\n",
      "4 8\n",
      "3 6\n",
      "5 12\n",
      "14\n"
     ]
    }
   ],
   "source": [
    "# 선생님 \n",
    "# 이렇게 깔끔하게 풀기.\n",
    "\n",
    "n, k = map(int, input().split())\n",
    "\n",
    "dp = [[0]*(k+1) for _ in range(n+1)]\n",
    "\n",
    "for i in range(1, n+1):\n",
    "    weight, value = map(int,input().split())\n",
    "    for j in range(1, k+1):\n",
    "        if j<weight:\n",
    "            dp[i][j] = dp[i-1][j]\n",
    "        else:\n",
    "            dp[i][j] = max(dp[i-1][j], dp[i-1][j-weight]+value)\n",
    "            \n",
    "print(dp[n][k])"
   ]
  },
  {
   "cell_type": "code",
   "execution_count": 10,
   "metadata": {},
   "outputs": [
    {
     "name": "stdout",
     "output_type": "stream",
     "text": [
      "7\n",
      "10 40 15 20 30 60 80\n",
      "[(10, 1), (0, 0), (0, 0), (0, 0), (0, 0), (0, 0), (0, 0)]\n",
      "[(10, 1), (40, 2), (0, 0), (0, 0), (0, 0), (0, 0), (0, 0)]\n",
      "[(10, 1), (40, 2), (15, 2), (0, 0), (0, 0), (0, 0), (0, 0)]\n",
      "[(10, 1), (40, 2), (15, 2), (20, 3), (0, 0), (0, 0), (0, 0)]\n",
      "[(10, 1), (40, 2), (15, 2), (20, 3), (30, 4), (0, 0), (0, 0)]\n",
      "[(10, 1), (40, 2), (15, 2), (20, 3), (30, 4), (60, 5), (0, 0)]\n",
      "[(10, 1), (40, 2), (15, 2), (20, 3), (30, 4), (60, 5), (80, 6)]\n",
      "6\n"
     ]
    }
   ],
   "source": [
    "# acmicpc.net/problem/11053\n",
    "\n",
    "n = int(input())\n",
    "num_arr = list(map(int, input().split()))\n",
    "\n",
    "arr = [(0, 0) for i in range(n)]\n",
    "for i, a in enumerate(num_arr):\n",
    "    local_max = 0\n",
    "    local_count = 0\n",
    "    for j in range(i):\n",
    "        if arr[j][0]<a:\n",
    "            if local_count == arr[j][1]:\n",
    "                local_max = max(local_max, arr[j][0])\n",
    "            elif local_count > arr[j][1]:\n",
    "                continue\n",
    "            elif local_count < arr[j][1]:\n",
    "                local_max = arr[j][0]\n",
    "                local_count = arr[j][1]\n",
    "    if i==0:\n",
    "        arr[i] = (a, 1)\n",
    "    else:\n",
    "        arr[i] = (a, local_count+1)\n",
    "    print(arr)\n",
    "\n",
    "result = 0\n",
    "for t in arr:\n",
    "    result = max(result, t[1])\n",
    "print(result)\n",
    "\n",
    "# 10 40 20 30 40 50\n",
    "# 이경우 답 : 5\n",
    "# 내 출력 : 4\n",
    "\n",
    "# 다 왔는데 왜 구현을 깔끔하게 못하니\n",
    "# 구현을 깔끔하게 못하는 이유는 생각이 깔끔하게 정리되지 않아서이지.\n",
    "\n",
    "# 맞는거 같은데 반례가 뭘까 https://www.acmicpc.net/board/view/34635 여기 반례 많음 반례 찾음."
   ]
  },
  {
   "cell_type": "code",
   "execution_count": 12,
   "metadata": {},
   "outputs": [
    {
     "name": "stdout",
     "output_type": "stream",
     "text": [
      "6\n",
      "1 2 1 4 3 4\n",
      "4\n"
     ]
    }
   ],
   "source": [
    "# 선생님\n",
    "\n",
    "# 와 실화임? 개깔끔\n",
    "\n",
    "n = int(input())\n",
    "\n",
    "array = list(map(int, input().split()))\n",
    "\n",
    "dp = [1]*n\n",
    "\n",
    "for i in range(1, n):\n",
    "    for j in range(0, i):\n",
    "        if array[j] < array[i]:\n",
    "            dp[i] = max(dp[i], dp[j]+1)\n",
    "            \n",
    "print(max(dp))"
   ]
  },
  {
   "cell_type": "code",
   "execution_count": null,
   "metadata": {},
   "outputs": [],
   "source": []
  }
 ],
 "metadata": {
  "kernelspec": {
   "display_name": "Python 3",
   "language": "python",
   "name": "python3"
  },
  "language_info": {
   "codemirror_mode": {
    "name": "ipython",
    "version": 3
   },
   "file_extension": ".py",
   "mimetype": "text/x-python",
   "name": "python",
   "nbconvert_exporter": "python",
   "pygments_lexer": "ipython3",
   "version": "3.7.1"
  }
 },
 "nbformat": 4,
 "nbformat_minor": 2
}
