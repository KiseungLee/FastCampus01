{
 "cells": [
  {
   "cell_type": "code",
   "execution_count": 9,
   "metadata": {},
   "outputs": [
    {
     "name": "stdout",
     "output_type": "stream",
     "text": [
      "3\n",
      "1 0\n",
      "5\n",
      "1\n",
      "4 2\n",
      "1 2 3 4\n",
      "2\n",
      "6 0\n",
      "1 1 9 1 1 1\n",
      "5\n"
     ]
    }
   ],
   "source": [
    "# https://www.acmicpc.net/problem/1966\n",
    "\n",
    "case = int(input())\n",
    "\n",
    "for _ in range(case):\n",
    "    count = 1\n",
    "    n, m = map(int, input().split())\n",
    "    array = list(map(int, input().split()))\n",
    "    while array:\n",
    "        if max(array)==array[0]:\n",
    "            if m==0:\n",
    "                print(count)\n",
    "                break\n",
    "            else:\n",
    "                array.pop(0)\n",
    "                count+=1\n",
    "                m-=1\n",
    "        else:\n",
    "            array.append(array.pop(0))\n",
    "            m = len(array)-1 if m==0 else m-1\n",
    "            \n",
    "# 코드는 짧은데 max를 턴마다 계속 돌려서 속도는 느림."
   ]
  },
  {
   "cell_type": "code",
   "execution_count": 10,
   "metadata": {
    "scrolled": true
   },
   "outputs": [
    {
     "name": "stdout",
     "output_type": "stream",
     "text": [
      "3\n",
      "1 0\n",
      "5\n",
      "1\n",
      "4 2\n",
      "1 2 3 4\n",
      "2\n",
      "6 0\n",
      "1 1 9 1 1 1\n",
      "5\n"
     ]
    }
   ],
   "source": [
    "# https://www.acmicpc.net/problem/1966\n",
    "\n",
    "case = int(input())\n",
    "\n",
    "for _ in range(case):\n",
    "    count = 1\n",
    "    n, m = map(int, input().split())\n",
    "    array = list(map(int, input().split()))\n",
    "    order = sorted(array, reverse=True)\n",
    "    while array:\n",
    "        if order[0]==array[0]:\n",
    "            if m==0:\n",
    "                print(count)\n",
    "                break\n",
    "            else:\n",
    "                array.pop(0)\n",
    "                order.pop(0)\n",
    "                count+=1\n",
    "                m-=1\n",
    "        else:\n",
    "            array.append(array.pop(0))\n",
    "            m = len(array)-1 if m==0 else m-1\n",
    "            \n",
    "# 아니네 이래도 예쩐 풀이가 빠르네. ->  Python3로 돌리나 PyPy3로 돌리나 차이였음.\n",
    "# PyPy3가 특정 알고리즘에선 빠르지만 그냥 이렇게 간단한거 다룰땐 느리네. \n",
    "# 쓸데 없이 필요한거 로드하느라 그런듯."
   ]
  },
  {
   "cell_type": "code",
   "execution_count": 11,
   "metadata": {},
   "outputs": [
    {
     "name": "stdout",
     "output_type": "stream",
     "text": [
      "3\n",
      "1 0\n",
      "5\n",
      "1\n",
      "4 2\n",
      "1 2 3 4\n",
      "2\n",
      "6 0\n",
      "1 1 9 1 1 1\n",
      "5\n"
     ]
    }
   ],
   "source": [
    "# 선생님\n",
    "\n",
    "test_case = int(input())\n",
    "\n",
    "for _ in range(test_case):\n",
    "    n, m = map(int, input().split())\n",
    "    queue = list(map(int, input().split()))\n",
    "    queue = [(i, idx) for idx, i in enumerate(queue)]\n",
    "    # enumerate는 돌수 있는 배열을 대상으로 쓸 수 있고, 배열 안의 요소와 그 index를 같이 뽑아줌\n",
    "    # java나 c#에서 for 쓸지 foreach 쓸지 고민할때 파이썬은 그냥 enumerate 쓰면 되는 느낌\n",
    "    \n",
    "    count = 0\n",
    "    while True:\n",
    "        if queue[0][0] == max(queue, key=lambda x: x[0])[0]:\n",
    "            count += 1\n",
    "            if queue[0][1] == m:\n",
    "                print(count)\n",
    "                break\n",
    "            else:\n",
    "                queue.pop(0)\n",
    "        else:\n",
    "            queue.append(queue.pop(0))"
   ]
  },
  {
   "cell_type": "code",
   "execution_count": null,
   "metadata": {},
   "outputs": [],
   "source": []
  }
 ],
 "metadata": {
  "kernelspec": {
   "display_name": "Python 3",
   "language": "python",
   "name": "python3"
  },
  "language_info": {
   "codemirror_mode": {
    "name": "ipython",
    "version": 3
   },
   "file_extension": ".py",
   "mimetype": "text/x-python",
   "name": "python",
   "nbconvert_exporter": "python",
   "pygments_lexer": "ipython3",
   "version": "3.7.1"
  }
 },
 "nbformat": 4,
 "nbformat_minor": 2
}
