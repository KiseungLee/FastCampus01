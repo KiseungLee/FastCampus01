{
 "cells": [
  {
   "cell_type": "code",
   "execution_count": 8,
   "metadata": {},
   "outputs": [
    {
     "name": "stdout",
     "output_type": "stream",
     "text": [
      "7\n",
      "6\n",
      "1 2\n",
      "2 3\n",
      "1 5\n",
      "5 2\n",
      "5 6\n",
      "4 7\n",
      "4\n"
     ]
    }
   ],
   "source": [
    "# acmicpc.net/problem/2606 바이러스\n",
    "\n",
    "n = int(input())\n",
    "m = int(input())\n",
    "\n",
    "dic = {}\n",
    "\n",
    "for _ in range(m):\n",
    "    a, b = map(int, input().split())\n",
    "    if a not in dic:\n",
    "        dic[a] = [b]\n",
    "    else:\n",
    "        dic[a].append(b)\n",
    "    if b not in dic:\n",
    "        dic[b] = [a]\n",
    "    else:\n",
    "        dic[b].append(a)\n",
    "        \n",
    "def dfs(value):\n",
    "    if value not in visited:\n",
    "        visited.append(value)\n",
    "        if value in dic:\n",
    "            for i in dic[value]:\n",
    "                dfs(i)\n",
    "                \n",
    "visited = []\n",
    "\n",
    "dfs(1)\n",
    "\n",
    "print(len(visited)-1)"
   ]
  },
  {
   "cell_type": "code",
   "execution_count": 2,
   "metadata": {},
   "outputs": [
    {
     "data": {
      "text/plain": [
       "[1, 2, 3, 5, 6, 4, 7]"
      ]
     },
     "execution_count": 2,
     "metadata": {},
     "output_type": "execute_result"
    }
   ],
   "source": [
    "# 첫 트때 푼거. 굳이 dictionary를 쓸 필욘 없지\n",
    "\n",
    "com = int(input())\n",
    "net = int(input())\n",
    "\n",
    "array = [[0] for _ in range(com+1)]\n",
    "\n",
    "for _ in range(net):\n",
    "    a, b = map(int, input().split())\n",
    "    array[a].append(b)\n",
    "    array[b].append(a)\n",
    "    \n",
    "visited = []\n",
    "def bfs(value):\n",
    "    if value not in visited:\n",
    "        visited.append(value)\n",
    "        for i in array[value]:\n",
    "            bfs(i)\n",
    "            \n",
    "bfs(1)\n",
    "print(len(visited)-2) # -1은 0번 컴퓨터, -1은 자기 자신"
   ]
  },
  {
   "cell_type": "code",
   "execution_count": null,
   "metadata": {},
   "outputs": [],
   "source": []
  },
  {
   "cell_type": "code",
   "execution_count": 12,
   "metadata": {},
   "outputs": [
    {
     "name": "stdout",
     "output_type": "stream",
     "text": [
      "10 8 17\n",
      "0 0\n",
      "1 0\n",
      "1 1\n",
      "4 2\n",
      "4 3\n",
      "4 5\n",
      "2 4\n",
      "3 4\n",
      "7 4\n",
      "8 4\n",
      "9 4\n",
      "7 5\n",
      "8 5\n",
      "9 5\n",
      "7 6\n",
      "8 6\n",
      "9 6\n"
     ]
    }
   ],
   "source": [
    "# acmicpc.net/problem/1012 유기농 배추\n",
    "\n",
    "test_case = int(input())\n",
    "\n",
    "for _ in range(test_case):\n",
    "    n, m, k = map(int, input().split())\n",
    "\n",
    "    arr = [[False]*(n) for i in range(m)]\n",
    "    checked = [[False]*(n) for i in range(m)]\n",
    "\n",
    "    for _ in range(k):\n",
    "        x, y = map(int, input().split())\n",
    "        arr[y][x] = True\n",
    "\n",
    "    def worms(x, y):\n",
    "        checked[y][x] = True\n",
    "        if arr[y][x]:\n",
    "            if x-1>=0 and not checked[y][x-1]:\n",
    "                worms(x-1, y)\n",
    "            if y-1>=0 and not checked[y-1][x]:\n",
    "                worms(x, y-1)\n",
    "            if x+1<n and not checked[y][x+1]:\n",
    "                worms(x+1, y)\n",
    "            if y+1<m and not checked[y+1][x]:\n",
    "                worms(x, y+1)\n",
    "\n",
    "    count = 0\n",
    "    for x in range(n):\n",
    "        for y in range(m):\n",
    "            if not checked[y][x]:\n",
    "                checked[y][x] = True\n",
    "                if arr[y][x]:\n",
    "                    count += 1\n",
    "                    worms(x, y)\n",
    "\n",
    "    print(count)\n",
    "    \n",
    "# 씁.. 런타임에러..    "
   ]
  },
  {
   "cell_type": "code",
   "execution_count": null,
   "metadata": {},
   "outputs": [],
   "source": []
  },
  {
   "cell_type": "code",
   "execution_count": null,
   "metadata": {},
   "outputs": [],
   "source": []
  },
  {
   "cell_type": "code",
   "execution_count": 52,
   "metadata": {},
   "outputs": [
    {
     "name": "stdout",
     "output_type": "stream",
     "text": [
      "5 3\n",
      "1 3\n",
      "2 1\n",
      "3 2\n",
      "1 2 3 "
     ]
    }
   ],
   "source": [
    "# acmicpc.net/problem/1325 효율적인 해킹\n",
    "import sys\n",
    "n, m = map(int, input().split())\n",
    "\n",
    "dic = {}\n",
    "\n",
    "for _ in range(m):\n",
    "    # a, b = map(int, input().split())\n",
    "    a, b = map(int, sys.stdin.readline().split())\n",
    "    if b not in dic:\n",
    "        dic[b] = [a]\n",
    "    else:\n",
    "        dic[b].append(a)\n",
    "        \n",
    "def dfs(v):\n",
    "    if v not in visited:\n",
    "        visited.append(v)\n",
    "        if v in dic:\n",
    "            for i in dic[v]:\n",
    "                dfs(i)\n",
    "\n",
    "result = []\n",
    "max_len = 0\n",
    "for i in range(1, n+1):\n",
    "    visited = []\n",
    "    dfs(i)\n",
    "    max_len = max(max_len , len(visited))\n",
    "    result.append((i, len(visited)))\n",
    "    \n",
    "result.sort(key=lambda x : -x[1])\n",
    "\n",
    "for (a,b) in result:\n",
    "    if b==max_len:\n",
    "        print(a, end=' ')\n",
    "    else:\n",
    "        break\n",
    "        \n",
    "# 시간초과"
   ]
  },
  {
   "cell_type": "code",
   "execution_count": null,
   "metadata": {},
   "outputs": [],
   "source": []
  }
 ],
 "metadata": {
  "kernelspec": {
   "display_name": "Python 3",
   "language": "python",
   "name": "python3"
  },
  "language_info": {
   "codemirror_mode": {
    "name": "ipython",
    "version": 3
   },
   "file_extension": ".py",
   "mimetype": "text/x-python",
   "name": "python",
   "nbconvert_exporter": "python",
   "pygments_lexer": "ipython3",
   "version": "3.7.1"
  }
 },
 "nbformat": 4,
 "nbformat_minor": 2
}
