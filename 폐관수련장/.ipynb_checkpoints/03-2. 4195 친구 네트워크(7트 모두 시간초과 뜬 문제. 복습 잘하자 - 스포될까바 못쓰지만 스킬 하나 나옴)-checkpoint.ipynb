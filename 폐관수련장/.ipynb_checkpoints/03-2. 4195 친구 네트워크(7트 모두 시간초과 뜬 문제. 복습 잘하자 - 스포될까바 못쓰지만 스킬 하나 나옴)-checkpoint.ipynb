{
 "cells": [
  {
   "cell_type": "code",
   "execution_count": null,
   "metadata": {},
   "outputs": [],
   "source": [
    "# https://www.acmicpc.net/problem/4195\n",
    "\n",
    "def bfs(dic, start):\n",
    "    if dic.get(start):\n",
    "        gonna_visit = [start]\n",
    "        visited = []\n",
    "        while gonna_visit:\n",
    "            now = gonna_visit.pop()\n",
    "            if now not in visited:\n",
    "                visited.append(now)\n",
    "                if dic.get(now):\n",
    "                    for i in dic[now]:\n",
    "                        gonna_visit.append(i)\n",
    "    return len(visited)\n",
    "\n",
    "n = int(input())\n",
    "\n",
    "for _ in range(n):\n",
    "    f = int(input())\n",
    "    dic = {}\n",
    "    for x in range(f):\n",
    "        a, b = map(str, input().split())\n",
    "        if dic.get(a):\n",
    "            dic[a].append(b)\n",
    "        else:\n",
    "            dic[a] = [b]\n",
    "        if dic.get(b):\n",
    "            dic[b].append(a)\n",
    "        else:\n",
    "            dic[b] = [a]\n",
    "        print(bfs(dic, next(iter(dic.keys())))) # 딕셔너리 첫번째 키 뽑기\n",
    "        # print(bfs(dic, list(dic.keys())[0] ))\n",
    "        \n",
    "# 처음 풀때랑 같은 방법으로 시간 초과 당함.\n",
    "# 시간을 줄이자. 문제에서 요구한것 외에 것들은 신경 안쓰는 자료형을 잘 찾아보자.\n",
    "# 근데 사실 문제가 좀 보충 설명이 필요함."
   ]
  },
  {
   "cell_type": "code",
   "execution_count": 50,
   "metadata": {},
   "outputs": [
    {
     "name": "stdout",
     "output_type": "stream",
     "text": [
      "1\n",
      "3\n",
      "Fred Barney\n",
      "2\n",
      "Betty Wilma\n",
      "2\n",
      "Barney Betty\n",
      "4\n"
     ]
    }
   ],
   "source": [
    "n = int(input())\n",
    "\n",
    "def add_to_net(net, a, b):\n",
    "    if a in net:\n",
    "        net.add(b)\n",
    "    if b in net:\n",
    "        net.add(a)\n",
    "\n",
    "for _ in range(n):\n",
    "    f = int(input())\n",
    "    friend_list = []\n",
    "    net = set()\n",
    "    for p in range(f):\n",
    "        a, b = map(str, input().split())\n",
    "        friend_list.append((a, b))\n",
    "        \n",
    "        if p==0:\n",
    "            host = a\n",
    "            net.add(host)\n",
    "        \n",
    "        add_to_net(net, a, b)\n",
    "        \n",
    "        for (x, y) in friend_list:\n",
    "            add_to_net(net, x, y)\n",
    "                \n",
    "        print(len(net))"
   ]
  },
  {
   "cell_type": "code",
   "execution_count": 53,
   "metadata": {
    "scrolled": true
   },
   "outputs": [
    {
     "name": "stdout",
     "output_type": "stream",
     "text": [
      "1\n",
      "3\n",
      "Fred Barney\n",
      "2\n",
      "Betty Wilma\n",
      "2\n",
      "Barney Betty\n",
      "4\n"
     ]
    }
   ],
   "source": [
    "import copy\n",
    "\n",
    "n = int(input())\n",
    "\n",
    "for _ in range(n):\n",
    "    f = int(input())\n",
    "    connected_group = set()\n",
    "    outsiders = []\n",
    "    for xxx in range(f):\n",
    "        # 입력\n",
    "        a, b = map(str, input().split())\n",
    "        \n",
    "        # 호스트 모셔오기\n",
    "        if xxx==0:\n",
    "            connected_group.add(a)\n",
    "            \n",
    "        # 네트워크 만들어줌\n",
    "        if a in connected_group:\n",
    "            connected_group.add(b)\n",
    "        if b in connected_group:\n",
    "            connected_group.add(a)\n",
    "        if a not in connected_group and b not in connected_group:\n",
    "            outsiders.append((a, b))\n",
    "        \n",
    "        # 하나의 네트워크가 생기면 그로인해 아웃사이더들이 연결될 수도 있음. : 재네트워크\n",
    "        outsiders_again = []\n",
    "        for (x, y) in outsiders:\n",
    "            if x in connected_group:\n",
    "                connected_group.add(y)\n",
    "            if y in connected_group:\n",
    "                connected_group.add(x)\n",
    "            if x not in connected_group and y not in connected_group:\n",
    "                outsiders_again.append((x, y))            \n",
    "        outsiders = copy.deepcopy(outsiders_again)\n",
    "        \n",
    "        # 네트워크 - 재네트워크가 끝나면 인싸그룹의 명수를 출력\n",
    "        print(len(connected_group))"
   ]
  },
  {
   "cell_type": "markdown",
   "metadata": {},
   "source": [
    "## Union - Find 알고리즘 - 합집합 찾기에 쓰이는 알고리즘\n",
    "\n",
    "https://youtu.be/0jNmHPfA_yE?t=204\n",
    "\n",
    "위 링크를 참조하면 시각화 해서 볼 수 있다.\n",
    "\n",
    "쉽게 말해 같은 최종 부모를 공유하고 있으면 하나의 그룹이 되는 것.\n",
    "\n",
    "Union - Find에서 Find는 그냥 Union을 위한 도구일 뿐임.\n",
    "\n",
    "Union 하기 위해 최종 부모가 누구인지 Find 타고 올라감."
   ]
  },
  {
   "cell_type": "code",
   "execution_count": null,
   "metadata": {},
   "outputs": [],
   "source": []
  }
 ],
 "metadata": {
  "kernelspec": {
   "display_name": "Python 3",
   "language": "python",
   "name": "python3"
  },
  "language_info": {
   "codemirror_mode": {
    "name": "ipython",
    "version": 3
   },
   "file_extension": ".py",
   "mimetype": "text/x-python",
   "name": "python",
   "nbconvert_exporter": "python",
   "pygments_lexer": "ipython3",
   "version": "3.7.1"
  }
 },
 "nbformat": 4,
 "nbformat_minor": 2
}
