{
 "cells": [
  {
   "cell_type": "code",
   "execution_count": 17,
   "metadata": {},
   "outputs": [
    {
     "name": "stdout",
     "output_type": "stream",
     "text": [
      "wqenqwenqwenqwen\n",
      "n\n",
      "4\n"
     ]
    }
   ],
   "source": [
    "# https://www.acmicpc.net/problem/1543\n",
    "\n",
    "# 검색 대상 스트링 max 2500\n",
    "# 검색 단어 길이 max 50\n",
    "\n",
    "doc = input()\n",
    "word = input()\n",
    "\n",
    "word_index = 0\n",
    "word_flag = False\n",
    "word_count = 0\n",
    "\n",
    "for i in range(len(doc)):\n",
    "    c = doc[i]\n",
    "    # 탐색 시작하지 않았는데 같은거 발견시 -> 탐색 시작 -> 검색 글자가 1글자인 경우 예외 처리 해줘야됨\n",
    "    if word_flag==False and c==word[word_index]:\n",
    "        if len(word)==1:\n",
    "            word_count+=1\n",
    "        else:\n",
    "            word_index+=1\n",
    "            word_flag=True\n",
    "    # 탐색 중인데 다음 문자 맞고, 인덱스가 마지막일때 -> 1개 발견 및 초기화\n",
    "    elif word_flag==True and c==word[word_index] and word_index==len(word)-1:\n",
    "        print('off1')\n",
    "        word_count+=1\n",
    "        word_flag=False\n",
    "        word_index=0\n",
    "    # 탐색 중인데 다음 문자 맞고, 인덱스가 마지막은 아닐때 -> 계속 진행\n",
    "    elif word_flag==True and c==word[word_index] and word_index!=len(word)-1:\n",
    "        word_index+=1\n",
    "    # 탐색 중인데 다음 문자가 아닐경우 -> word 값들 초기화, doc인덱스 i는 뒤로 한\n",
    "    elif word_flag==True and c!=word[word_index]:\n",
    "        word_flag=False\n",
    "        word_index=0\n",
    "        i-=1\n",
    "        \n",
    "print(word_count)\n",
    "\n",
    "# 라이브러리 안쓰고 기본 배열 순회로 풀려고 했는데\n",
    "# 어디서 틀리는 부분이 있나보다."
   ]
  },
  {
   "cell_type": "code",
   "execution_count": 34,
   "metadata": {},
   "outputs": [
    {
     "name": "stdout",
     "output_type": "stream",
     "text": [
      "abababa\n",
      "ab\n",
      "3\n"
     ]
    }
   ],
   "source": [
    "# https://www.acmicpc.net/problem/1543\n",
    "\n",
    "# 검색 대상 스트링 max 2500\n",
    "# 검색 단어 길이 max 50\n",
    "\n",
    "doc = input()\n",
    "word = input()\n",
    "\n",
    "count = 0\n",
    "\n",
    "while True:\n",
    "    find = doc.find(word)\n",
    "    if find >=0 :\n",
    "        doc = doc[find+len(word):]\n",
    "        count+=1\n",
    "    else:\n",
    "        break\n",
    "\n",
    "print(count)\n",
    "\n",
    "# 라이브러리 쓰면 쉽지"
   ]
  },
  {
   "cell_type": "code",
   "execution_count": null,
   "metadata": {},
   "outputs": [],
   "source": [
    "# 선생님\n",
    "\n",
    "# 문서길이 2500에 단어길이 50이니 그냥 쭉 계산해도 O(MN) 으로 최대 125,000 밖에 안됨\n",
    "# 그냥 쭉 돌아가면서 찾는건데 문서에서 단어 뽑는 아이디어가 좋네\n",
    "# document[index:index + len(word)] 이런식으로 그냥 찾는 단어 길이만큼 툭 잘라서 확인함.\n",
    "# 찾는거 나오면 단어 길이만큼 인덱스 올려주고\n",
    "\n",
    "document = input()\n",
    "word = input()\n",
    "index = 0\n",
    "result = 0\n",
    "\n",
    "while len(document) - index >= len(word):\n",
    "    if document[index:index + len(word)] == word: # 문서에서 보고 있는 단어가 찾고자 하는 단어인 경우\n",
    "        result += 1\n",
    "        index += len(word)\n",
    "    else:\n",
    "        index += 1\n",
    "print(result)"
   ]
  },
  {
   "cell_type": "code",
   "execution_count": null,
   "metadata": {},
   "outputs": [],
   "source": []
  },
  {
   "cell_type": "code",
   "execution_count": 36,
   "metadata": {},
   "outputs": [
    {
     "name": "stdout",
     "output_type": "stream",
     "text": [
      "14\n",
      "7\n"
     ]
    }
   ],
   "source": [
    "# https://www.acmicpc.net/problem/1568\n",
    "\n",
    "n = int(input())\n",
    "\n",
    "count = 0\n",
    "sing = 1\n",
    "\n",
    "while n>0:\n",
    "    if sing<=n:\n",
    "        n -= sing\n",
    "        count+=1\n",
    "        sing +=1\n",
    "    else:\n",
    "        sing=1\n",
    "        \n",
    "print(count)\n",
    "\n",
    "# 문제 읽기 시작해서 3분 컷"
   ]
  },
  {
   "cell_type": "code",
   "execution_count": null,
   "metadata": {},
   "outputs": [],
   "source": [
    "# 선생님\n",
    "\n",
    "# N이 최대 1,000,000,000 으로 큰 수임.\n",
    "# 그런데 날리는 숫자 갯수가 1, 1 2, 1 2 3, 1 2 3 4\n",
    "# 이렇게 O(n^2)으로 쭉쭉 커져서 그냥 쭉 연산할만함.\n",
    "\n",
    "# 그래서 n짜리 배열 도는데 루트n 걸리는 거임.\n",
    "\n",
    "# 음 이건 챙겨가면 좋겠네. \n",
    "# 돌아야하는 n개를 1차의 속도로 돌면 그냥 n 걸리는데 \n",
    "# 제곱의 속도로 도니까 루트n 걸리는거.\n",
    "\n",
    "n = int(input())\n",
    "result = 0\n",
    "k = 1\n",
    "\n",
    "while n != 0: # 모든 새가 날아갈 때까지\n",
    "    if k > n:\n",
    "        k = 1\n",
    "    n -= k\n",
    "    k += 1\n",
    "    result += 1\n",
    "print(result)"
   ]
  },
  {
   "cell_type": "code",
   "execution_count": null,
   "metadata": {},
   "outputs": [],
   "source": []
  },
  {
   "cell_type": "code",
   "execution_count": 5,
   "metadata": {
    "scrolled": true
   },
   "outputs": [
    {
     "name": "stdout",
     "output_type": "stream",
     "text": [
      "12\n",
      "ㄷ\n",
      "ㄷ\n",
      "a\n",
      "a\n",
      "b\n",
      "b\n",
      "d\n",
      "d\n",
      "d\n",
      "e\n",
      "f\n",
      "c\n",
      "{'ㄷ': 2, 'a': 2, 'b': 2, 'd': 3, 'e': 1, 'f': 1, 'c': 1}\n",
      "['d', 'a', 'b', 'ㄷ', 'c', 'e', 'f']\n",
      "d\n"
     ]
    }
   ],
   "source": [
    "# https://www.acmicpc.net/problem/1302\n",
    "\n",
    "n = int(input())\n",
    "dic = dict()\n",
    "for _ in range(n):\n",
    "    name = input()\n",
    "    if dic.get(name)==None:\n",
    "        dic[name] = 1\n",
    "    else:\n",
    "        dic[name] = dic[name]+1\n",
    "\n",
    "print(dic)\n",
    "dic = sorted(dic, key=lambda x:(-dic[x], x)) # reversied 안주고 key값에 - 붙여주면 정렬 반대로 할 수 있음. # 다중조건에서 정렬 여러개 바꾸기 가능\n",
    "print(dic)\n",
    "print(dic[0])"
   ]
  },
  {
   "cell_type": "code",
   "execution_count": null,
   "metadata": {},
   "outputs": [],
   "source": [
    "# 선생님\n",
    "\n",
    "# 중복을 처리할땐 Set() 이나 dict()를 써야 효과적임.\n",
    "# 그런데 여기선 단순히 중복만 처리하는게 아니라 중복 갯수도 찾아야 되니까\n",
    "# dictionary를 쓰자.\n",
    "\n",
    "# 여기서 딕셔너리 만들어 놓고 찾는건 테크닉이 필요하네\n",
    "# 여기선 우선 가장 많이 등장하는 횟수를 max(books.values()) 로 찾음\n",
    "\n",
    "# 그 다음 어레이에서 가장 많이 등장하는 횟수에 걸리는 얘들만 리스트로 뽑고\n",
    "# 봅은 얘들을 정렬한다음 맨 앞에 뽑아냄.\n",
    "\n",
    "n = int(input())\n",
    "books = {}\n",
    "\n",
    "for _ in range(n):\n",
    "    book = input()\n",
    "    if book not in books:\n",
    "        books[book] = 1\n",
    "    else:\n",
    "        books[book] += 1\n",
    "\n",
    "target = max(books.values())\n",
    "array = []\n",
    "\n",
    "for book, number in books.items():\n",
    "    if number == target:\n",
    "        array.append(book)\n",
    "        \n",
    "print(sorted(array)[0])"
   ]
  },
  {
   "cell_type": "code",
   "execution_count": null,
   "metadata": {},
   "outputs": [],
   "source": []
  },
  {
   "cell_type": "code",
   "execution_count": null,
   "metadata": {},
   "outputs": [],
   "source": []
  }
 ],
 "metadata": {
  "kernelspec": {
   "display_name": "Python 3",
   "language": "python",
   "name": "python3"
  },
  "language_info": {
   "codemirror_mode": {
    "name": "ipython",
    "version": 3
   },
   "file_extension": ".py",
   "mimetype": "text/x-python",
   "name": "python",
   "nbconvert_exporter": "python",
   "pygments_lexer": "ipython3",
   "version": "3.7.4"
  }
 },
 "nbformat": 4,
 "nbformat_minor": 2
}
