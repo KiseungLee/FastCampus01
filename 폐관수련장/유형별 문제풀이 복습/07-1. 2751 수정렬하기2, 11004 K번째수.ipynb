{
 "cells": [
  {
   "cell_type": "code",
   "execution_count": 6,
   "metadata": {
    "scrolled": true
   },
   "outputs": [
    {
     "ename": "TypeError",
     "evalue": "'str' object cannot be interpreted as an integer",
     "output_type": "error",
     "traceback": [
      "\u001b[1;31m---------------------------------------------------------------------------\u001b[0m",
      "\u001b[1;31mTypeError\u001b[0m                                 Traceback (most recent call last)",
      "\u001b[1;32m<ipython-input-6-c8c449a13f41>\u001b[0m in \u001b[0;36m<module>\u001b[1;34m\u001b[0m\n\u001b[0;32m      5\u001b[0m \u001b[1;33m\u001b[0m\u001b[0m\n\u001b[0;32m      6\u001b[0m \u001b[0marray\u001b[0m \u001b[1;33m=\u001b[0m \u001b[1;33m[\u001b[0m\u001b[1;33m]\u001b[0m\u001b[1;33m\u001b[0m\u001b[1;33m\u001b[0m\u001b[0m\n\u001b[1;32m----> 7\u001b[1;33m \u001b[1;32mfor\u001b[0m \u001b[0m_\u001b[0m \u001b[1;32min\u001b[0m \u001b[0mrange\u001b[0m\u001b[1;33m(\u001b[0m\u001b[0mn\u001b[0m\u001b[1;33m)\u001b[0m\u001b[1;33m:\u001b[0m\u001b[1;33m\u001b[0m\u001b[1;33m\u001b[0m\u001b[0m\n\u001b[0m\u001b[0;32m      8\u001b[0m     \u001b[0marray\u001b[0m\u001b[1;33m.\u001b[0m\u001b[0mappend\u001b[0m\u001b[1;33m(\u001b[0m\u001b[0mint\u001b[0m\u001b[1;33m(\u001b[0m\u001b[0minput\u001b[0m\u001b[1;33m(\u001b[0m\u001b[1;33m)\u001b[0m\u001b[1;33m)\u001b[0m\u001b[1;33m)\u001b[0m\u001b[1;33m\u001b[0m\u001b[1;33m\u001b[0m\u001b[0m\n\u001b[0;32m      9\u001b[0m \u001b[0marray\u001b[0m\u001b[1;33m.\u001b[0m\u001b[0msort\u001b[0m\u001b[1;33m(\u001b[0m\u001b[1;33m)\u001b[0m\u001b[1;33m\u001b[0m\u001b[1;33m\u001b[0m\u001b[0m\n",
      "\u001b[1;31mTypeError\u001b[0m: 'str' object cannot be interpreted as an integer"
     ]
    }
   ],
   "source": [
    "# https://www.acmicpc.net/problem/2751\n",
    "import sys\n",
    "\n",
    "# sys.stdin.readline() 이게 주피터에선 안돌아감\n",
    "# 주피터에선 input()으로 돌려서 확인하고 제출할때 위에걸로 바꾸자.\n",
    "n = int(sys.stdin.readline()) \n",
    "\n",
    "array = []\n",
    "for _ in range(n):\n",
    "    array.append(int(input()))\n",
    "array.sort()\n",
    "\n",
    "for i in array:\n",
    "    print(i)"
   ]
  },
  {
   "cell_type": "code",
   "execution_count": null,
   "metadata": {},
   "outputs": [],
   "source": [
    "# 선생님\n",
    "# 이 문제는 고급 정렬(퀵, 병합, 힙..) 을 쓸 수 있어야 함.\n",
    "# 고급정렬이지만 굉장히 정형화된 문제임\n",
    "\n",
    "# 이 문제는 단순히 정렬하면 되는데 갯수가 100만개임. \n",
    "# 100만 개를 2초안에 정렬하기 위해 정렬을 잘 골라 써야됨.\n",
    "# O(n^2) 짜리 쓰면 힘듬.\n",
    "# 기본적으로 O(nlog(n)) 짜리 정렬을 써야됨.\n",
    "# 사실 기본 라이브러리 써도됨 ㅋ\n",
    "\n",
    "# 파이썬은 1초에 2천만 정도의 연산 수행가능. 많이 봐줘야 5천만.\n",
    "\n",
    "# 파이썬 기본 라이브러리 쓰는건 패스함\n",
    "# 병합정렬로 쓴 풀이를 가져옴\n",
    "# PyPy3가 가능하다면 PyPy3를 써라.\n",
    "# 메모리 더 먹고 더 빠름\n",
    "\n",
    "def merge_sort(array):\n",
    "    if len(array) <= 1:\n",
    "        return array\n",
    "    mid = len(array) //2\n",
    "    left = merge_sort(array[:mid])\n",
    "    right = merge_sort(array[mid:]) \n",
    "    i, j, k = 0, 0, 0\n",
    "    while i < len(left) and j < len(right):\n",
    "        if left[i] < right[j]:\n",
    "            array[k] = left[i]\n",
    "            i +=1\n",
    "        else:\n",
    "            array[k] = right[j]\n",
    "            j += 1\n",
    "            k += 1\n",
    "    if i == len(left):\n",
    "        while j < len(right):\n",
    "            array[k] = right[j]\n",
    "            j +=1\n",
    "            k +=1\n",
    "    elif j == len(right):\n",
    "        while i < len(left):\n",
    "            array[k] = left[i]\n",
    "            i += 1\n",
    "            k += 1\n",
    "    return array\n",
    "\n",
    "\n",
    "n = int(input())\n",
    "array = []\n",
    "\n",
    "for _ in range(n):\n",
    "    array.append(int(input()))\n",
    "\n",
    "array = merge_sort(array)\n",
    "\n",
    "for data in array:\n",
    "    print(data)"
   ]
  },
  {
   "cell_type": "code",
   "execution_count": null,
   "metadata": {},
   "outputs": [],
   "source": []
  },
  {
   "cell_type": "code",
   "execution_count": 14,
   "metadata": {},
   "outputs": [
    {
     "name": "stdout",
     "output_type": "stream",
     "text": [
      "5 2\n",
      "4 1 2 3 5\n",
      "2\n"
     ]
    }
   ],
   "source": [
    "# https://www.acmicpc.net/problem/11004\n",
    "\n",
    "n, k = map(int, input().split(' '))\n",
    "\n",
    "# array = [map(int, input().split(' '))]\n",
    "array = list(map(int, input().split(' ')))\n",
    "\n",
    "array.sort()\n",
    "\n",
    "print(array[k-1])"
   ]
  },
  {
   "cell_type": "code",
   "execution_count": null,
   "metadata": {},
   "outputs": [],
   "source": [
    "# 선생님\n",
    "\n",
    "# 이문제도 같음.\n",
    "# O(nlog(n)) 정렬을 구현해서 쓰던가\n",
    "# 기본 라이브러리 쓰던가 하면 됨.\n",
    "\n",
    "# k번째꺼 뽑는건.. 알아서 하시고"
   ]
  }
 ],
 "metadata": {
  "kernelspec": {
   "display_name": "Python 3",
   "language": "python",
   "name": "python3"
  },
  "language_info": {
   "codemirror_mode": {
    "name": "ipython",
    "version": 3
   },
   "file_extension": ".py",
   "mimetype": "text/x-python",
   "name": "python",
   "nbconvert_exporter": "python",
   "pygments_lexer": "ipython3",
   "version": "3.7.1"
  }
 },
 "nbformat": 4,
 "nbformat_minor": 2
}
