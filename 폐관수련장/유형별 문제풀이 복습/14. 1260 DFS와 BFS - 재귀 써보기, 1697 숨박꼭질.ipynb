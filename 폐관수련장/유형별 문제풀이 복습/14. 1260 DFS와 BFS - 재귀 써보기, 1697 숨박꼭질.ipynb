{
 "cells": [
  {
   "cell_type": "code",
   "execution_count": 52,
   "metadata": {},
   "outputs": [
    {
     "name": "stdout",
     "output_type": "stream",
     "text": [
      "4 5 1\n"
     ]
    }
   ],
   "source": [
    "# acmicpc.net/problem/1260 DFS와 BFS\n",
    "n, m, v = map(int, input().split())\n",
    "\n",
    "array = [[] for _ in range(n+1)]"
   ]
  },
  {
   "cell_type": "code",
   "execution_count": 53,
   "metadata": {},
   "outputs": [
    {
     "data": {
      "text/plain": [
       "[[], [], [], [], []]"
      ]
     },
     "execution_count": 53,
     "metadata": {},
     "output_type": "execute_result"
    }
   ],
   "source": [
    "array"
   ]
  },
  {
   "cell_type": "code",
   "execution_count": 54,
   "metadata": {
    "scrolled": true
   },
   "outputs": [
    {
     "name": "stdout",
     "output_type": "stream",
     "text": [
      "1 2\n",
      "1 3\n",
      "1 4\n",
      "2 4\n",
      "3 4\n"
     ]
    }
   ],
   "source": [
    "for _ in range(m):\n",
    "    a, b = map(int, input().split())\n",
    "    array[a].append(b)\n",
    "    array[b].append(a)"
   ]
  },
  {
   "cell_type": "code",
   "execution_count": 55,
   "metadata": {},
   "outputs": [
    {
     "data": {
      "text/plain": [
       "[[], [2, 3, 4], [1, 4], [1, 4], [1, 2, 3]]"
      ]
     },
     "execution_count": 55,
     "metadata": {},
     "output_type": "execute_result"
    }
   ],
   "source": [
    "array"
   ]
  },
  {
   "cell_type": "code",
   "execution_count": 67,
   "metadata": {},
   "outputs": [
    {
     "data": {
      "text/plain": [
       "[[], [4, 3, 2], [4, 1], [4, 1], [3, 2, 1]]"
      ]
     },
     "execution_count": 67,
     "metadata": {},
     "output_type": "execute_result"
    }
   ],
   "source": [
    "array = [sorted(i, reverse=True) for i in array]\n",
    "array"
   ]
  },
  {
   "cell_type": "code",
   "execution_count": 65,
   "metadata": {},
   "outputs": [
    {
     "name": "stdout",
     "output_type": "stream",
     "text": [
      "1 2 4 3 "
     ]
    }
   ],
   "source": [
    "will_visit = [v]\n",
    "visited = []\n",
    "\n",
    "while len(will_visit) > 0:\n",
    "    num = will_visit.pop()\n",
    "    if num not in visited:\n",
    "        for i in array[num]:\n",
    "            will_visit.append(i)\n",
    "        visited.append(num)\n",
    "        \n",
    "for i in visited:\n",
    "    print(i, end=' ')"
   ]
  },
  {
   "cell_type": "code",
   "execution_count": 66,
   "metadata": {},
   "outputs": [
    {
     "data": {
      "text/plain": [
       "[[], [2, 3, 4], [1, 4], [1, 4], [1, 2, 3]]"
      ]
     },
     "execution_count": 66,
     "metadata": {},
     "output_type": "execute_result"
    }
   ],
   "source": [
    "array = [sorted(i) for i in array]\n",
    "array"
   ]
  },
  {
   "cell_type": "code",
   "execution_count": 60,
   "metadata": {},
   "outputs": [
    {
     "name": "stdout",
     "output_type": "stream",
     "text": [
      "[1, 2, 3, 4]\n"
     ]
    }
   ],
   "source": [
    "will_visit = [v]\n",
    "visited = []\n",
    "\n",
    "while len(will_visit) > 0:\n",
    "    num = will_visit.pop(0)\n",
    "    if num not in visited:\n",
    "        for i in array[num]:\n",
    "            will_visit.append(i)\n",
    "        visited.append(num)\n",
    "        \n",
    "print(visited)"
   ]
  },
  {
   "cell_type": "code",
   "execution_count": 61,
   "metadata": {},
   "outputs": [
    {
     "data": {
      "text/plain": [
       "[]"
      ]
     },
     "execution_count": 61,
     "metadata": {},
     "output_type": "execute_result"
    }
   ],
   "source": [
    "will_visit"
   ]
  },
  {
   "cell_type": "code",
   "execution_count": 5,
   "metadata": {},
   "outputs": [
    {
     "name": "stdout",
     "output_type": "stream",
     "text": [
      "4 5 1\n",
      "1 2\n",
      "1 3\n",
      "1 4\n",
      "2 4\n",
      "3 4\n",
      "1 2 4 3 \n",
      "1 2 3 4 "
     ]
    }
   ],
   "source": [
    "# 선생님\n",
    "\n",
    "# 그래프의 탐색은 국내 코딩테스트에서 좋아함.\n",
    "\n",
    "# 일단 이 문제는 간단한 구현 문제임\n",
    "\n",
    "# 정점 번호가 작은거부터 출력해야 함. -> 이 문제의 특징이라면 특징\n",
    "\n",
    "# 노드 N, 간선 M 으로 두면 O(N+M) 으로 풀 수 있다.\n",
    "\n",
    "# 국내 코테에선 이런 문제를 매우 빠르게 풀어야함. 코드 거의 외워야 함.\n",
    "\n",
    "# 많이 풀어보자.\n",
    "\n",
    "# 이전의 동적 프로그래밍은 점화식을 생각하는게 어려운거지 그 외에 어려운건 없다.\n",
    "\n",
    "# 근데 이 BFS, DFS는 정형화된 구현이 중요함.\n",
    "\n",
    "# 파이썬에선 Queue 구현을 위해서 deque를 이용하면 좋음\n",
    "\n",
    "# 그냥 list로 풀면 조금 번거로운 상황이 발생할 수 있음.\n",
    "\n",
    "from collections import deque\n",
    "\n",
    "# dfs는 스택, 큐 개념 쓰지 않고 재귀로도 구현 가능\n",
    "def dfs(v):\n",
    "    print(v, end=' ')\n",
    "    visited[v] = True\n",
    "    for e in adj[v]:\n",
    "        if not(visited[e]):\n",
    "            dfs(e)\n",
    "\n",
    "# bfs는 큐 써야됨\n",
    "def bfs(v):\n",
    "    q = deque([v])\n",
    "    while q:\n",
    "        v = q.popleft()\n",
    "        if not(visited[v]):\n",
    "            visited[v] = True\n",
    "            print(v, end=' ')\n",
    "            for e in adj[v]:\n",
    "                if not visited[e]:\n",
    "                    q.append(e)\n",
    "                    \n",
    "n, m, v = map(int, input().split())\n",
    "adj = [[] for _ in range(n+1)]\n",
    "\n",
    "# 양방향을 위한 리스트 구현\n",
    "# 이 부분 나랑 같네.\n",
    "for _ in range(m):\n",
    "    x, y = map(int, input().split())\n",
    "    adj[x].append(y)\n",
    "    adj[y].append(x)\n",
    "\n",
    "# 정점들을 낮은 번호 순으로 방문하기 위한 정렬\n",
    "for e in adj:\n",
    "    e.sort()\n",
    "    \n",
    "visited = [False] * (n+1)\n",
    "dfs(v)\n",
    "print()\n",
    "visited = [False] * (n+1)\n",
    "bfs(v)"
   ]
  },
  {
   "cell_type": "code",
   "execution_count": null,
   "metadata": {},
   "outputs": [],
   "source": []
  },
  {
   "cell_type": "code",
   "execution_count": 4,
   "metadata": {},
   "outputs": [
    {
     "name": "stdout",
     "output_type": "stream",
     "text": [
      "5 17\n",
      "K :  17  n:  20  n2:  10.0\n",
      "8.0 5\n",
      "3\n"
     ]
    }
   ],
   "source": [
    "# acmicpc.net/problem/1697 숨박꼭질\n",
    "\n",
    "# 1. 동생이 뒤에 있을 때 -> 수빈이는 그냥 X-1만 해야됨\n",
    "# 2. 동생이 앞에 있을 때 -> 2-1. 수빈이가 동생 뒤까지 2*X 한 다음 X+1로 남은 거리 가기\n",
    "#                        -> 2-2. 수빈이가 동생을 앞질러 2*X 한 다음 X-1로 초과한 거리 가기\n",
    "\n",
    "n, k = map(int, input().split())\n",
    "time = 0\n",
    "if(k==n):\n",
    "    print(1)\n",
    "elif(k<n):\n",
    "    print(n-k)\n",
    "else:\n",
    "    while(n<k):\n",
    "        n = 2*n\n",
    "        time += 1\n",
    "    # while을 나오면 수빈이는 2*X로 동생을 앞지른 상태\n",
    "    n2 = n/2 # n2는 앞지르기 직전까지 온 수빈이\n",
    "    print(\"K : \", k, \" n: \", n, \" n2: \", n2)\n",
    "    print(time-1 + k-n2, time + n-k)\n",
    "    print(int(min(k-n2, n-k)))\n",
    "    \n",
    "# 수빈이가 뒤로 갔다가 순간이동 할수도 있구나.. "
   ]
  },
  {
   "cell_type": "code",
   "execution_count": 36,
   "metadata": {},
   "outputs": [],
   "source": [
    "# \n",
    "\n",
    "class Node:\n",
    "    def __init__(self, value):\n",
    "        self.value = value\n",
    "        self.parent = None\n",
    "        self.double = None\n",
    "        self.plus = None\n",
    "        self.minus = None"
   ]
  },
  {
   "cell_type": "code",
   "execution_count": 37,
   "metadata": {},
   "outputs": [
    {
     "name": "stdout",
     "output_type": "stream",
     "text": [
      "5 17\n"
     ]
    }
   ],
   "source": [
    "n , k = map(int, input().split())"
   ]
  },
  {
   "cell_type": "code",
   "execution_count": 38,
   "metadata": {},
   "outputs": [],
   "source": [
    "root = Node(n)\n",
    "goal = None\n",
    "will_visit = [root]\n",
    "nominate = []"
   ]
  },
  {
   "cell_type": "code",
   "execution_count": 39,
   "metadata": {},
   "outputs": [],
   "source": [
    "while True:\n",
    "    now = will_visit.pop(0)\n",
    "    \n",
    "    double = 2*(now.value)\n",
    "    plus = now.value + 1\n",
    "    minus = now.value - 1\n",
    "    \n",
    "    node_double = Node(double)\n",
    "    node_double.parent = now\n",
    "    now.double = node_double\n",
    "    \n",
    "    node_plus = Node(plus)\n",
    "    node_plus.parent = now\n",
    "    now.plus = node_plus\n",
    "    \n",
    "    node_minus = Node(minus)\n",
    "    node_minus.parent = now\n",
    "    now.minus = node_minus\n",
    "    \n",
    "    will_visit.append(node_minus)\n",
    "    will_visit.append(node_plus)\n",
    "    will_visit.append(node_double)\n",
    "    \n",
    "    if double==k:\n",
    "        goal = node_double\n",
    "        break\n",
    "    if plus ==k:\n",
    "        goal = node_plus\n",
    "        break\n",
    "    if minus == k:\n",
    "        goal = node_minus\n",
    "        break\n",
    "    #if double==k:\n",
    "    #    nominate.append(node_double)\n",
    "    #if plus ==k:\n",
    "    #    nominate.append(node_plus)\n",
    "    #if minus == k:\n",
    "    #    nominate.append(node_minus)\n",
    "    \n",
    "    #if double>k*k and plus>k*k and minus>k*k:\n",
    "    #    break"
   ]
  },
  {
   "cell_type": "code",
   "execution_count": 46,
   "metadata": {},
   "outputs": [],
   "source": [
    "tick = 1\n",
    "parent = goal.parent\n",
    "\n",
    "while parent != root:\n",
    "    parent = parent.parent\n",
    "    tick += 1"
   ]
  },
  {
   "cell_type": "code",
   "execution_count": 47,
   "metadata": {},
   "outputs": [
    {
     "data": {
      "text/plain": [
       "4"
      ]
     },
     "execution_count": 47,
     "metadata": {},
     "output_type": "execute_result"
    }
   ],
   "source": [
    "tick"
   ]
  },
  {
   "cell_type": "code",
   "execution_count": 40,
   "metadata": {},
   "outputs": [],
   "source": [
    "times = []\n",
    "\n",
    "for node in nominate:\n",
    "    tick = 1\n",
    "    parent = node.parent\n",
    "    while parent!=root:\n",
    "        parent = parent.parent\n",
    "        tick += 1\n",
    "    times.append(tick)\n",
    "    \n",
    "print(min(times))"
   ]
  },
  {
   "cell_type": "code",
   "execution_count": 50,
   "metadata": {},
   "outputs": [],
   "source": [
    "# 아이디어 잘 짜낸거 같은데 마무리를 못짓는 아이디어네..\n",
    "\n",
    "# 일단 생각한 구상은\n",
    "\n",
    "# 값이 n인 노드가 있다면 \n",
    "\n",
    "# 그 노드 밑으로 값이 2n, n+1, n-1인 하위 노드를 두는것\n",
    "\n",
    "# 그렇게 BFS 식으로 돌면서 2n or n+1 or n-1 == k 일때 까지\n",
    "\n",
    "# 노드를 늘려감.\n",
    "\n",
    "# 값이 k인 노드를 찾으면 그 노드에서부터 parent 속성을 타고 올라가다 root가 나오면\n",
    "\n",
    "# 그때 까지 타고 올라간 횟수가 시간이 된다.\n",
    "\n",
    "# 근데 문제는, 값이 k인 노드가 이론적으론 무한정 나오는데\n",
    "\n",
    "# 그중 걸린 시간이 최소인 노드를 찾는게 문제임\n",
    "\n",
    "# 처음엔 일단 이론상 노드가 무한정 나오니까 정당히 후보를 뽑으면 멈추려고 했음\n",
    "\n",
    "# 그래서 double, plus, minus가 모두 k 이상일때로 정했는데, 그러면 정답이 나오기 전에 끝날 수 있음.\n",
    "\n",
    "# 다음으로 double, plus, minus가 모두 k^2 이상일 때로 했는데 시간초과 ㅎㅎ"
   ]
  },
  {
   "cell_type": "code",
   "execution_count": 51,
   "metadata": {},
   "outputs": [],
   "source": [
    "# 선생님\n",
    "\n",
    "# 이 문제도 빈도가 높고 응용한 것도 많이 나온다.\n",
    "\n",
    "# 숨박꼭질문제는 BFS의 대표적인 문제임\n",
    "\n",
    "# 이동시간이 1초로 동일하기 때문에 BFS로 간단히 풀 수 있는 거임.\n",
    "\n",
    "# 큐 구현 위해선 역시 deque 라이브러리를 쓰는걸 추천\n",
    "\n",
    "# 음 일단 n노드에서 2*n, n+1, n-1 노드로 탐색 가는건 맞네\n",
    "\n",
    "# 내가 처음에 생각했던 방법이긴 한데.. 저러면 처음 나오는 k가 최단 노드라는 증명이 없지 않나"
   ]
  },
  {
   "cell_type": "code",
   "execution_count": 52,
   "metadata": {},
   "outputs": [
    {
     "name": "stdout",
     "output_type": "stream",
     "text": [
      "5 17\n",
      "4\n"
     ]
    }
   ],
   "source": [
    "from collections import deque\n",
    "\n",
    "MAX = 100001\n",
    "\n",
    "n, k = map(int, input().split())\n",
    "\n",
    "array = [0]*MAX\n",
    "\n",
    "def bfs():\n",
    "    q = deque([n])\n",
    "    \n",
    "    while q:\n",
    "        now_pos = q.popleft()\n",
    "        if now_pos == k:\n",
    "            return array[now_pos]\n",
    "        for next_pos in (now_pos-1, now_pos+1, now_pos*2):\n",
    "            if 0<=next_pos < MAX and not array[next_pos]:\n",
    "                array[next_pos] = array[now_pos] + 1\n",
    "                q.append(next_pos)\n",
    "                \n",
    "print(bfs())\n",
    "\n",
    "# 씁... 근본적인 구상은 같은데 마무리 짓는 디테일이 떨어지네\n",
    "# 마무리까지 지을 수 있게 디테일하게 짜야 되는데"
   ]
  },
  {
   "cell_type": "code",
   "execution_count": null,
   "metadata": {},
   "outputs": [],
   "source": []
  }
 ],
 "metadata": {
  "kernelspec": {
   "display_name": "Python 3",
   "language": "python",
   "name": "python3"
  },
  "language_info": {
   "codemirror_mode": {
    "name": "ipython",
    "version": 3
   },
   "file_extension": ".py",
   "mimetype": "text/x-python",
   "name": "python",
   "nbconvert_exporter": "python",
   "pygments_lexer": "ipython3",
   "version": "3.7.1"
  }
 },
 "nbformat": 4,
 "nbformat_minor": 2
}
