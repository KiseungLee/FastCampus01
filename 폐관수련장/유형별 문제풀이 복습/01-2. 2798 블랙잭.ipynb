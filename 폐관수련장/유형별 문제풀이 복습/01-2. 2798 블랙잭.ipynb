{
 "cells": [
  {
   "cell_type": "code",
   "execution_count": 3,
   "metadata": {},
   "outputs": [
    {
     "name": "stdout",
     "output_type": "stream",
     "text": [
      "5 21\n",
      "51 2 1 4 2\n",
      "51   2   1\n",
      "51   2   4\n",
      "51   2   2\n",
      "51   1   4\n",
      "51   1   2\n",
      "51   4   2\n",
      "2   1   4\n",
      "2   1   2\n",
      "2   4   2\n",
      "1   4   2\n",
      "8\n"
     ]
    }
   ],
   "source": [
    "# https://www.acmicpc.net/problem/2798\n",
    "\n",
    "first_line = list(map(int, input().split(' ')))\n",
    "second_line = list(map(int, input().split(' ')))\n",
    "\n",
    "limit = first_line[1]\n",
    "maxsum = 0\n",
    "\n",
    "for i in range(len(second_line)):\n",
    "    for j in range(i+1, len(second_line)):\n",
    "        for k in range(j+1, len(second_line)):\n",
    "            a = second_line[i]\n",
    "            b = second_line[j]\n",
    "            c = second_line[k]\n",
    "            print(a, ' ', b, ' ', c)\n",
    "            local_sum = a+b+c\n",
    "            if local_sum > maxsum and local_sum<=limit:\n",
    "                maxsum = local_sum\n",
    "\n",
    "print(maxsum)"
   ]
  },
  {
   "cell_type": "code",
   "execution_count": null,
   "metadata": {},
   "outputs": [],
   "source": [
    "# 예전에 greedy 어쩌구 하는 거에서 풀어본 문제임\n",
    "# 그리디 알고리즘은 탐욕 알고리즘 또는 욕심쟁이 알고리즘이라고도 불리는데요. 미래를 생각하지 않고 각 단계에서 가장 최선의 선택을 하는 기법입니다. \n",
    "\n",
    "# 3중 for문을 활용해 모든 경우의 수를 다 비교해봐도 컴퓨터가 계산하기엔 어렵지 않음\n",
    "\n",
    "# 선생님 풀이도 뭐 다르지 않음.\n",
    "# 다만 몇몇 좋은 포인트들 체크\n",
    "\n",
    "n, m = list(map(int, input().split(' '))) # 동시에 받기\n",
    "data = list(map(int, input().split(' ')))\n",
    "result = 0\n",
    "length = len(data)\n",
    "count = 0\n",
    "for i in range(0, length):\n",
    "    for j in range(i + 1, length):\n",
    "        for k in range(j + 1, length):\n",
    "            sum_value = data[i] + data[j] + data[k]\n",
    "            if sum_value <= m:\n",
    "                result = max(result, sum_value) # max 함수 활용\n",
    "print(result)"
   ]
  }
 ],
 "metadata": {
  "kernelspec": {
   "display_name": "Python 3",
   "language": "python",
   "name": "python3"
  },
  "language_info": {
   "codemirror_mode": {
    "name": "ipython",
    "version": 3
   },
   "file_extension": ".py",
   "mimetype": "text/x-python",
   "name": "python",
   "nbconvert_exporter": "python",
   "pygments_lexer": "ipython3",
   "version": "3.7.4"
  }
 },
 "nbformat": 4,
 "nbformat_minor": 2
}
