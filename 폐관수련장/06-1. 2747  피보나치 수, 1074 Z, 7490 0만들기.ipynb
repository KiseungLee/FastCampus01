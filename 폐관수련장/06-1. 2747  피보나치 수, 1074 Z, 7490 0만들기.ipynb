{
 "cells": [
  {
   "cell_type": "code",
   "execution_count": 16,
   "metadata": {},
   "outputs": [
    {
     "name": "stdout",
     "output_type": "stream",
     "text": [
      "10\n"
     ]
    },
    {
     "data": {
      "text/plain": [
       "55"
      ]
     },
     "execution_count": 16,
     "metadata": {},
     "output_type": "execute_result"
    }
   ],
   "source": [
    "# https://www.acmicpc.net/problem/2747\n",
    "\n",
    "def fibo(n):\n",
    "    if n==0:\n",
    "        return 0\n",
    "    elif n==1:\n",
    "        return 1\n",
    "    else:\n",
    "        a, b=0, 1\n",
    "        for _ in range(n-1):\n",
    "            c = a+b\n",
    "            a, b = b, c\n",
    "        return c\n",
    "    \n",
    "fibo(int(input()))\n",
    "\n",
    "# 이게 왜틀려..? print를 안찍었네 ㅎㅎ\n",
    "# 1. 일반 반복문\n",
    "# 2. 동적계획법 - 메모이제이션\n",
    "# 3. 재귀함수"
   ]
  },
  {
   "cell_type": "code",
   "execution_count": 15,
   "metadata": {},
   "outputs": [
    {
     "name": "stdout",
     "output_type": "stream",
     "text": [
      "10\n",
      "55\n"
     ]
    }
   ],
   "source": [
    "# 선생님 - Wow~\n",
    "\n",
    "n = int(input())\n",
    "\n",
    "a, b = 0, 1\n",
    "\n",
    "while n>0:\n",
    "    a, b = b, a+b\n",
    "    n -=1\n",
    "\n",
    "print(a)"
   ]
  },
  {
   "cell_type": "code",
   "execution_count": null,
   "metadata": {},
   "outputs": [],
   "source": [
    "# https://www.acmicpc.net/problem/1074\n",
    "\n"
   ]
  }
 ],
 "metadata": {
  "kernelspec": {
   "display_name": "Python 3",
   "language": "python",
   "name": "python3"
  },
  "language_info": {
   "codemirror_mode": {
    "name": "ipython",
    "version": 3
   },
   "file_extension": ".py",
   "mimetype": "text/x-python",
   "name": "python",
   "nbconvert_exporter": "python",
   "pygments_lexer": "ipython3",
   "version": "3.7.1"
  }
 },
 "nbformat": 4,
 "nbformat_minor": 2
}
