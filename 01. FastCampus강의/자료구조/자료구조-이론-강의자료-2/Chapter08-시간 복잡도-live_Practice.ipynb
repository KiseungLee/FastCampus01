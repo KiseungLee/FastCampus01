{
 "cells": [
  {
   "cell_type": "markdown",
   "metadata": {},
   "source": [
    "알고리즘의 핵심은 푸는 방법에 정답이 없다는 것.\n",
    "\n",
    "그래서 답은 맞아도 성능 비교가 됨."
   ]
  },
  {
   "cell_type": "markdown",
   "metadata": {},
   "source": [
    "알고리즙의 복잡도는 정말 크게 보면\n",
    "\n",
    "1. 시간 복잡도\n",
    "2. 공간 복잡도\n",
    "\n",
    "예전에 메모리가 너무 소중했을땐 공간 복잡도도 중요했는데 요즘은 거의 신경 안씀.\n",
    "일단 복잡도라고 하면 시간 복잡도를 생각하자."
   ]
  },
  {
   "cell_type": "markdown",
   "metadata": {},
   "source": [
    "시간복잡도는 그냥 반복문이 지배한다고 보면 됨.\n",
    "\n",
    "음 성능 표현에 빅 O만 있는게 아님. 오메가, 세타도 있음.\n",
    "빅오는 최악의 실행시간을 나타냄\n",
    "오메가는 최상의 실행시간\n",
    "세타는 평균 실행시간 나타냄.\n",
    "\n",
    "근데 다른 강의 보니까 빅오로 최상, 평균 다 쓰던데 ㅋㅋ\n"
   ]
  },
  {
   "cell_type": "markdown",
   "metadata": {},
   "source": [
    "** Big O Notation에서 log(n)의 밑은 10이 아니라 2임."
   ]
  },
  {
   "cell_type": "code",
   "execution_count": 5,
   "metadata": {},
   "outputs": [],
   "source": [
    "def sum(n):\n",
    "    sum = 0\n",
    "    for num in range(1, n+1):\n",
    "        sum += num\n",
    "    print(sum)"
   ]
  },
  {
   "cell_type": "code",
   "execution_count": 8,
   "metadata": {},
   "outputs": [],
   "source": [
    "def sum2(n):\n",
    "    return n*(n+1)/2"
   ]
  },
  {
   "cell_type": "code",
   "execution_count": 9,
   "metadata": {},
   "outputs": [
    {
     "name": "stdout",
     "output_type": "stream",
     "text": [
      "5050\n"
     ]
    },
    {
     "data": {
      "text/plain": [
       "5050.0"
      ]
     },
     "execution_count": 9,
     "metadata": {},
     "output_type": "execute_result"
    }
   ],
   "source": [
    "sum(100)\n",
    "sum2(100)"
   ]
  },
  {
   "cell_type": "markdown",
   "metadata": {},
   "source": [
    "sum은 O(n), sum2는 0(1)\n",
    "이래서 수학이 중요한가봄.\n",
    "\n",
    "수식으로 정리해서 반복을 없앨수 있음"
   ]
  },
  {
   "cell_type": "markdown",
   "metadata": {},
   "source": [
    "사실 자료구조도 1학기 분량, 알고리즘도 1학기 분량임\n",
    "아니 뭐 알아두라고"
   ]
  },
  {
   "cell_type": "code",
   "execution_count": null,
   "metadata": {},
   "outputs": [],
   "source": []
  }
 ],
 "metadata": {
  "kernelspec": {
   "display_name": "Python 3",
   "language": "python",
   "name": "python3"
  },
  "language_info": {
   "codemirror_mode": {
    "name": "ipython",
    "version": 3
   },
   "file_extension": ".py",
   "mimetype": "text/x-python",
   "name": "python",
   "nbconvert_exporter": "python",
   "pygments_lexer": "ipython3",
   "version": "3.7.1"
  }
 },
 "nbformat": 4,
 "nbformat_minor": 2
}
