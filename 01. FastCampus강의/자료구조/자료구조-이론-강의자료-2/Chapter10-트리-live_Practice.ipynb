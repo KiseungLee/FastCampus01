{
 "cells": [
  {
   "cell_type": "markdown",
   "metadata": {},
   "source": [
    "트리 들어간다~\n",
    "\n",
    "트리는 자료구조로서의 의미도 있지만 구현하는 과정이 알고리즘 공부기도함. \n",
    "\n",
    "탐색에서 가장 많이 씀.\n",
    "\n",
    "이진 트리 vs 이진 탐색 트리 \n",
    "엄밀히 말하면 둘은 다름. \n",
    "이진 트리는 최대 branch가 2인 트리\n",
    "이진 탐색 트리는 이진 트리면서 왼쪽 브랜치는 자기보다 작은값, 오른쪽 브랜치는 자기보다 큰 값을 갖는 트리\n",
    "\n",
    "오 참고자료 그림 레전드.\n",
    "\n",
    "이진 탐색 트리는 데이터 검색시에 가장 많이 씀."
   ]
  },
  {
   "cell_type": "code",
   "execution_count": 1,
   "metadata": {},
   "outputs": [],
   "source": [
    "class Node:\n",
    "    def __init__(self, value):\n",
    "        self.value = value\n",
    "        self.left = None\n",
    "        self.right = None"
   ]
  },
  {
   "cell_type": "code",
   "execution_count": 28,
   "metadata": {},
   "outputs": [],
   "source": [
    "class NodeMgmt:\n",
    "    def __init__(self, head):\n",
    "        self.head = head\n",
    "        \n",
    "    def insert(self, value):\n",
    "        self.current_node = self.head\n",
    "        while True:\n",
    "            if value < self.current_node.value:\n",
    "                if self.current_node.left != None:\n",
    "                    self.current_node = self.current_node.left\n",
    "                else:\n",
    "                    self.current_node.left = Node(value)\n",
    "                    break\n",
    "            else:\n",
    "                if self.current_node.right != None:\n",
    "                    self.current_node = self.current_node.right\n",
    "                else:\n",
    "                    self.current_node.right = Node(value)\n",
    "                    break\n",
    "    \n",
    "    def search(self, value):\n",
    "        self.current_node = self.head\n",
    "        while self.current_node:\n",
    "            if self.current_node.value == value:\n",
    "                return True\n",
    "            elif value < self.current_node.value:\n",
    "                self.current_node = self.current_node.left\n",
    "            else:\n",
    "                self.current_node = self.current_node.right\n",
    "        return False\n",
    "    \n",
    "    ## 삭제는 조금 복잡함.\n",
    "    ## 삭제할 node 삭제하고, 삭제할 node의 오른쪽 자식들중 가장 왼쪽 leaf를 삭제한 자리로 올림\n",
    "    ## 올릴 leaf가 오른쪽 child를 가지고 있다면 그 놈은 leaf의 부모에 붙임.\n",
    "    ## Divide And Conquer: 복잡한 문제를 만나면 잘게잘게 쪼개서 풀자\n",
    "    def delete(self, value):\n",
    "        ## 삭제할 게 있는지 찾아봄\n",
    "        searched = False\n",
    "        self.current_node = self.head\n",
    "        self.parent = self.head\n",
    "        while self.current_node:\n",
    "            if self.current_node.value == value:\n",
    "                searched = True\n",
    "                break\n",
    "            elif value < self.current_node.value:\n",
    "                self.parent = self.current_node\n",
    "                self.current_node = self.current_node.left\n",
    "            else:\n",
    "                self.parent = self.current_node\n",
    "                self.current_node = self.current_node.right\n",
    "        \n",
    "        ## 삭제할거 없으면 패스\n",
    "        if searched == False:\n",
    "            return False\n",
    "        \n",
    "        ## Case를 분리해서 코드 작성\n",
    "        ## 1. 삭제할 node가 leaf인 경우\n",
    "        if self.current_node.left==None and self.current_node.right == None:\n",
    "            if value<self.parent.value:\n",
    "                self.parent.left = None\n",
    "            else:\n",
    "                self.parent.right = None\n",
    "            del self.current_node\n",
    "        ## 2. 삭제할 Node가 child node를 1개 가지고 있을경우\n",
    "        ## 2.1. 왼쪽에 child node\n",
    "        if self.current_node.left != None and self.current_node.right == None:\n",
    "            if value < self.parent.value:\n",
    "                self.parent.left = self.current_node.left\n",
    "            else:\n",
    "                self.parent.right = self.current_node.left\n",
    "        ## 2.2 오른쪽에 child node\n",
    "        elif self.current_node.left == None and self.current_node.right != None:\n",
    "            if value < self.parent.value:\n",
    "                self.parent.left = self.current_node.right\n",
    "            else:\n",
    "                self.parent.right = self.current_node.right\n",
    "        ## 3. 삭제할  Node가 child node 두개 가지고 있을 경우\n",
    "        if self.current_node.left!= None and self.current_node.right != None:\n",
    "            ## 삭제할 node가 부모의 왼쪽일때\n",
    "            if value < self.parent.value:\n",
    "                self.change_node = self.current_node.right\n",
    "                self.change_node_parent = self.current_node.right\n",
    "                while self.change_node.left != None:\n",
    "                    self.change_node_parent = self.change_node\n",
    "                    self.change_node = self.change_node.left\n",
    "                ## 3.1. 삭제할 node의 오른쪽 자식들 중 가장 왼쪽 node가 오른쪽 child 가 있을때\n",
    "                if self.change_node.right != None:\n",
    "                    self.change_node_parent.left = self.change_node.right\n",
    "                ## 3.2. 삭제할 node의 오른쪽 자식들 중 가장 왼쪽 node가 오른쪽 child가 없을때\n",
    "                else:\n",
    "                    self.change_node_parent.left = None\n",
    "                self.parent.left = self.change_node\n",
    "                self.change_node.right =self.current_node.right\n",
    "                self.change_node.left = self.change_node.left\n",
    "            ## 삭제할 node가 부모의 오른쪽일 때\n",
    "            else:\n",
    "                self.change_node = self.current_node.right\n",
    "                self.change_node_parent = self.current_node.right\n",
    "                while self.change_node.left != None:\n",
    "                    self.change_node.parent = self.change_node\n",
    "                    self.change_node = self.change_node.left\n",
    "                if self.change_node.right != None:\n",
    "                    self.change_node_parent.left = self.change_node.right\n",
    "                else:\n",
    "                    self.change_node_parent.left = None\n",
    "                self.parent.right = self.change_node\n",
    "                self.change_node.left = self.current_node.left\n",
    "                self.change_node.right = self.current_node.right\n",
    "                \n",
    "                "
   ]
  },
  {
   "cell_type": "code",
   "execution_count": 29,
   "metadata": {},
   "outputs": [],
   "source": [
    "head = Node(1)\n",
    "BST = NodeMgmt(head)\n",
    "BST.insert(2)\n",
    "BST.insert(4)\n",
    "BST.insert(6)\n",
    "BST.insert(123)"
   ]
  },
  {
   "cell_type": "code",
   "execution_count": 34,
   "metadata": {},
   "outputs": [
    {
     "data": {
      "text/plain": [
       "False"
      ]
     },
     "execution_count": 34,
     "metadata": {},
     "output_type": "execute_result"
    }
   ],
   "source": [
    "BST.search(4)"
   ]
  },
  {
   "cell_type": "code",
   "execution_count": 35,
   "metadata": {},
   "outputs": [
    {
     "data": {
      "text/plain": [
       "False"
      ]
     },
     "execution_count": 35,
     "metadata": {},
     "output_type": "execute_result"
    }
   ],
   "source": [
    "BST.delete(4)"
   ]
  },
  {
   "cell_type": "code",
   "execution_count": 52,
   "metadata": {},
   "outputs": [],
   "source": [
    "## 테스트를 위한 코드\n",
    "## 0~999 숫자중 임의로 100개 추출해 이진 탐색 트리에 입력, 검색, 삭제 해봄\n",
    "import random\n",
    "\n",
    "## 중복 제거 하려고 set()집합 을 사용\n",
    "bst_nums = set()\n",
    "while len(bst_nums)!=100:\n",
    "    bst_nums.add(random.randint(0, 999))"
   ]
  },
  {
   "cell_type": "code",
   "execution_count": 53,
   "metadata": {},
   "outputs": [],
   "source": [
    "## 선택된 100개를 이진 탐색 트리에 입력, 루트 노드는 500을 넣기로 함.\n",
    "head = Node(500)\n",
    "binary_tree = NodeMgmt(head)\n",
    "for num in bst_nums:\n",
    "    binary_tree.insert(num)"
   ]
  },
  {
   "cell_type": "code",
   "execution_count": 54,
   "metadata": {},
   "outputs": [],
   "source": [
    "##입력한 100개 숫자 검색(검색 기능 확인)\n",
    "for num in bst_nums:\n",
    "    if binary_tree.search(num)==False:\n",
    "        print(\"search Failed\")"
   ]
  },
  {
   "cell_type": "code",
   "execution_count": 55,
   "metadata": {},
   "outputs": [],
   "source": [
    "## 입력한 100개 숫자중 10개 숫자 랜덤 선택\n",
    "delete_nums = set()\n",
    "bst_nums = list(bst_nums)\n",
    "while len(delete_nums) != 10:\n",
    "    delete_nums.add(bst_nums[random.randint(0, 99)])"
   ]
  },
  {
   "cell_type": "code",
   "execution_count": 56,
   "metadata": {},
   "outputs": [],
   "source": [
    "## 삭제\n",
    "for del_num in delete_nums:\n",
    "    if binary_tree.delete(del_num)==False:\n",
    "        print(\"delete failed : \", del_num)"
   ]
  },
  {
   "cell_type": "code",
   "execution_count": 60,
   "metadata": {},
   "outputs": [
    {
     "name": "stdout",
     "output_type": "stream",
     "text": [
      "search Failed :  631\n",
      "search Failed :  671\n",
      "search Failed :  755\n",
      "search Failed :  268\n",
      "search Failed :  269\n",
      "search Failed :  271\n",
      "search Failed :  788\n"
     ]
    },
    {
     "ename": "KeyboardInterrupt",
     "evalue": "",
     "output_type": "error",
     "traceback": [
      "\u001b[1;31m---------------------------------------------------------------------------\u001b[0m",
      "\u001b[1;31mKeyboardInterrupt\u001b[0m                         Traceback (most recent call last)",
      "\u001b[1;32m<ipython-input-60-f6595cd40480>\u001b[0m in \u001b[0;36m<module>\u001b[1;34m\u001b[0m\n\u001b[0;32m      1\u001b[0m \u001b[1;31m## 삭제 됐는지 확인\u001b[0m\u001b[1;33m\u001b[0m\u001b[1;33m\u001b[0m\u001b[1;33m\u001b[0m\u001b[0m\n\u001b[0;32m      2\u001b[0m \u001b[1;32mfor\u001b[0m \u001b[0mnum\u001b[0m \u001b[1;32min\u001b[0m \u001b[0mbst_nums\u001b[0m\u001b[1;33m:\u001b[0m\u001b[1;33m\u001b[0m\u001b[1;33m\u001b[0m\u001b[0m\n\u001b[1;32m----> 3\u001b[1;33m     \u001b[1;32mif\u001b[0m \u001b[0mbinary_tree\u001b[0m\u001b[1;33m.\u001b[0m\u001b[0msearch\u001b[0m\u001b[1;33m(\u001b[0m\u001b[0mnum\u001b[0m\u001b[1;33m)\u001b[0m\u001b[1;33m==\u001b[0m\u001b[1;32mFalse\u001b[0m\u001b[1;33m:\u001b[0m\u001b[1;33m\u001b[0m\u001b[1;33m\u001b[0m\u001b[0m\n\u001b[0m\u001b[0;32m      4\u001b[0m         \u001b[0mprint\u001b[0m\u001b[1;33m(\u001b[0m\u001b[1;34m\"search Failed : \"\u001b[0m\u001b[1;33m,\u001b[0m \u001b[0mnum\u001b[0m\u001b[1;33m)\u001b[0m\u001b[1;33m\u001b[0m\u001b[1;33m\u001b[0m\u001b[0m\n",
      "\u001b[1;32m<ipython-input-28-670c9216733d>\u001b[0m in \u001b[0;36msearch\u001b[1;34m(self, value)\u001b[0m\n\u001b[0;32m     27\u001b[0m                 \u001b[0mself\u001b[0m\u001b[1;33m.\u001b[0m\u001b[0mcurrent_node\u001b[0m \u001b[1;33m=\u001b[0m \u001b[0mself\u001b[0m\u001b[1;33m.\u001b[0m\u001b[0mcurrent_node\u001b[0m\u001b[1;33m.\u001b[0m\u001b[0mleft\u001b[0m\u001b[1;33m\u001b[0m\u001b[1;33m\u001b[0m\u001b[0m\n\u001b[0;32m     28\u001b[0m             \u001b[1;32melse\u001b[0m\u001b[1;33m:\u001b[0m\u001b[1;33m\u001b[0m\u001b[1;33m\u001b[0m\u001b[0m\n\u001b[1;32m---> 29\u001b[1;33m                 \u001b[0mself\u001b[0m\u001b[1;33m.\u001b[0m\u001b[0mcurrent_node\u001b[0m \u001b[1;33m=\u001b[0m \u001b[0mself\u001b[0m\u001b[1;33m.\u001b[0m\u001b[0mcurrent_node\u001b[0m\u001b[1;33m.\u001b[0m\u001b[0mright\u001b[0m\u001b[1;33m\u001b[0m\u001b[1;33m\u001b[0m\u001b[0m\n\u001b[0m\u001b[0;32m     30\u001b[0m         \u001b[1;32mreturn\u001b[0m \u001b[1;32mFalse\u001b[0m\u001b[1;33m\u001b[0m\u001b[1;33m\u001b[0m\u001b[0m\n\u001b[0;32m     31\u001b[0m \u001b[1;33m\u001b[0m\u001b[0m\n",
      "\u001b[1;31mKeyboardInterrupt\u001b[0m: "
     ]
    }
   ],
   "source": [
    "## 삭제 됐는지 확인\n",
    "for num in bst_nums:\n",
    "    if binary_tree.search(num)==False:\n",
    "        print(\"search Failed : \", num)"
   ]
  },
  {
   "cell_type": "markdown",
   "metadata": {},
   "source": [
    "다시 이론 좀 알아봄. 이진 탐색 트리의 시간 복잡도와 단점\n",
    "\n",
    "이진 탐색 트리로 탐색하려면 노드의 depth만큼 돌면 되는 거임.\n",
    "근데 데이터가 n개라면 depth는 log2(n)에 가까움 뭐 완전 log2(n)은 아니지만\n",
    "(최악의 경우를 따지면 데이터가 n개일때 depth가 n이 될 수 있음)\n",
    "\n",
    "암튼 한 depth를 거칠때마다 50%의 선택지들을 제거해나감.\n",
    "\n",
    "암튼 시간복잡도는 O(log(n))임\n",
    "\n",
    "프로그래머스에서 본 강의보단 겉핥기긴 하네."
   ]
  },
  {
   "cell_type": "code",
   "execution_count": null,
   "metadata": {},
   "outputs": [],
   "source": []
  }
 ],
 "metadata": {
  "kernelspec": {
   "display_name": "Python 3",
   "language": "python",
   "name": "python3"
  },
  "language_info": {
   "codemirror_mode": {
    "name": "ipython",
    "version": 3
   },
   "file_extension": ".py",
   "mimetype": "text/x-python",
   "name": "python",
   "nbconvert_exporter": "python",
   "pygments_lexer": "ipython3",
   "version": "3.7.4"
  }
 },
 "nbformat": 4,
 "nbformat_minor": 2
}
