{
 "cells": [
  {
   "cell_type": "markdown",
   "metadata": {},
   "source": [
    "트리 들어간다~\n",
    "\n",
    "트리는 자료구조로서의 의미도 있지만 구현하는 과정이 알고리즘 공부기도함. \n",
    "\n",
    "탐색에서 가장 많이 씀.\n",
    "\n",
    "이진 트리 vs 이진 탐색 트리 \n",
    "엄밀히 말하면 둘은 다름. \n",
    "이진 트리는 최대 branch가 2인 트리\n",
    "이진 탐색 트리는 이진 트리면서 왼쪽 브랜치는 자기보다 작은값, 오른쪽 브랜치는 자기보다 큰 값을 갖는 트리\n",
    "\n",
    "오 참고자료 그림 레전드.\n",
    "\n",
    "이진 탐색 트리는 데이터 검색시에 가장 많이 씀."
   ]
  },
  {
   "cell_type": "code",
   "execution_count": 1,
   "metadata": {},
   "outputs": [],
   "source": [
    "class Node:\n",
    "    def __init__(self, value):\n",
    "        self.value = value\n",
    "        self.left = None\n",
    "        self.right = None"
   ]
  },
  {
   "cell_type": "code",
   "execution_count": 27,
   "metadata": {},
   "outputs": [],
   "source": [
    "class NodeMgmt:\n",
    "    def __init__(self, head):\n",
    "        self.head = head\n",
    "        \n",
    "    def insert(self, value):\n",
    "        self.current_node = self.head\n",
    "        while True:\n",
    "            if value < self.current_node.value:\n",
    "                if self.current_node.left != None:\n",
    "                    self.current_node = self.current_node.left\n",
    "                else:\n",
    "                    self.current_node.left = Node(value)\n",
    "                    break\n",
    "            else:\n",
    "                if self.current_node.right != None:\n",
    "                    self.current_node = self.current_node.right\n",
    "                else:\n",
    "                    self.current_node.right = Node(value)\n",
    "                    break\n",
    "    \n",
    "    def search(self, value):\n",
    "        self.current_node = self.head\n",
    "        while self.current_node:\n",
    "            if self.current_node.value == value:\n",
    "                return True\n",
    "            elif value < self.current_node.value:\n",
    "                self.current_node = self.current_node.left\n",
    "            else:\n",
    "                self.current_node = self.current_node.right\n",
    "        return False\n",
    "    \n",
    "    ## 삭제는 조금 복잡함.\n",
    "    ## 삭제할 node 삭제하고, 삭제할 node의 오른쪽 자식들중 가장 왼쪽 leaf를 삭제한 자리로 올림\n",
    "    ## 올릴 leaf가 오른쪽 child를 가지고 있다면 그 놈은 leaf의 부모에 붙임.\n",
    "    ## Divide And Conquer: 복잡한 문제를 만나면 잘게잘게 쪼개서 풀자\n",
    "    def delete(self, value):\n",
    "        ## 삭제할 게 있는지 찾아봄\n",
    "        searched = False\n",
    "        self.current_node = self.head\n",
    "        self.parent = self.head\n",
    "        while self.current_node:\n",
    "            if self.current_node.value == value:\n",
    "                searched = True\n",
    "                break\n",
    "            elif value < self.current_node.value:\n",
    "                self.parent = self.current_node\n",
    "                self.current_node = self.current_node.left\n",
    "            else:\n",
    "                self.parent = self.current_node\n",
    "                self.current_node = self.current_node.right\n",
    "        \n",
    "        ## 삭제할거 없으면 패스\n",
    "        if searched == False:\n",
    "            return False\n",
    "        \n",
    "        ## Case를 분리해서 코드 작성\n",
    "        ## 1. 삭제할 node가 leaf인 경우\n",
    "        if self.current_node.left==None and self.current_node.right == None:\n",
    "            if value<self.parent.value:\n",
    "                self.parent.left = None\n",
    "            else:\n",
    "                self.parent.right = None\n",
    "            del self.current_node\n",
    "        ## 2. 삭제할 Node가 child node를 1개 가지고 있을경우\n",
    "        ## 2.1. 왼쪽에 child node\n",
    "        if self.current_node.left != None and self.current_node.right == None:\n",
    "            if value < self.parent.value:\n",
    "                self.parent.left = self.current_node.left\n",
    "            else:\n",
    "                self.parent.right = self.current_node.left\n",
    "        ## 2.2 오른쪽에 child node\n",
    "        elif self.current_node.left == None and self.current_node.right != None:\n",
    "            if value < self.parent.value:\n",
    "                self.parent.left = self.current_node.right\n",
    "            else:\n",
    "                self.parent.right = self.current_node.right\n",
    "        ## 3. 삭제할  Node가 child node 두개 가지고 있을 경우\n",
    "        if self.current_node.left!= None and self.current_node.right != None:\n",
    "            ## 삭제할 node가 부모의 왼쪽일때\n",
    "            if value < self.parent.value:\n",
    "                self.change_node = self.current_node.right\n",
    "                self.change_node_parent = self.current_node.right\n",
    "                while self.change_node.left != None:\n",
    "                    self.change_node_parent = self.change_node\n",
    "                    self.change_node = self.change_node.left\n",
    "                ## 3.1. 삭제할 node의 오른쪽 자식들 중 가장 왼쪽 node가 오른쪽 child 가 있을때\n",
    "                if self.change_node.right != None:\n",
    "                    self.change_node_parent.left = self.change_node.right\n",
    "                ## 3.2. 삭제할 node의 오른쪽 자식들 중 가장 왼쪽 node가 오른쪽 child가 없을때\n",
    "                else:\n",
    "                    self.change_node_parent.left = None\n",
    "                self.parent.left = self.change_node\n",
    "                self.change_node.right =self.current_node.right\n",
    "                self.change_node.left = self.change_node.left\n",
    "            ## 삭제할 node가 부모의 오른쪽일 때\n",
    "            else:\n",
    "                self.change_node = self.current_node.right\n",
    "                self.change_node_parent = self.current_node.right\n",
    "                while self.change_node.left != None:\n",
    "                    self.change_node.parent = self.change_node\n",
    "                    self.change_node = self.change_node.left\n",
    "                if self.change_node.right != None:\n",
    "                    self.change_node_parent.left = self.change_node.right\n",
    "                else:\n",
    "                    self.change_node_parent.left = None\n",
    "                self.parent.right = self.change_node\n",
    "                self.change_node.left = self.current_node.left\n",
    "                self.change_node.right = self.current_node.right\n",
    "                \n",
    "                "
   ]
  },
  {
   "cell_type": "code",
   "execution_count": 23,
   "metadata": {},
   "outputs": [],
   "source": [
    "head = Node(1)\n",
    "BST = NodeMgmt(head)\n",
    "BST.insert(2)\n",
    "BST.insert(4)\n",
    "BST.insert(6)\n",
    "BST.insert(123)"
   ]
  },
  {
   "cell_type": "code",
   "execution_count": 26,
   "metadata": {},
   "outputs": [
    {
     "data": {
      "text/plain": [
       "False"
      ]
     },
     "execution_count": 26,
     "metadata": {},
     "output_type": "execute_result"
    }
   ],
   "source": [
    "BST.search(4)"
   ]
  },
  {
   "cell_type": "code",
   "execution_count": 25,
   "metadata": {},
   "outputs": [],
   "source": []
  },
  {
   "cell_type": "code",
   "execution_count": null,
   "metadata": {},
   "outputs": [],
   "source": []
  },
  {
   "cell_type": "code",
   "execution_count": null,
   "metadata": {},
   "outputs": [],
   "source": []
  }
 ],
 "metadata": {
  "kernelspec": {
   "display_name": "Python 3",
   "language": "python",
   "name": "python3"
  },
  "language_info": {
   "codemirror_mode": {
    "name": "ipython",
    "version": 3
   },
   "file_extension": ".py",
   "mimetype": "text/x-python",
   "name": "python",
   "nbconvert_exporter": "python",
   "pygments_lexer": "ipython3",
   "version": "3.7.4"
  }
 },
 "nbformat": 4,
 "nbformat_minor": 2
}
