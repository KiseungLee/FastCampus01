{
 "cells": [
  {
   "cell_type": "markdown",
   "metadata": {},
   "source": [
    "힙은 데이터에서 최대값과 최소값을 빠르게 찾기 위한 완전 이진 트리임.\n",
    "목적이 명확하네 최댓값 최솟값 찾는거.\n",
    "\n",
    "배열에서 최댓값 최솟값을 찾으려면 O(n)이 걸리는데\n",
    "힙을 쓰면 O(log(n))이 걸림\n",
    "\n",
    "힙은 최댓값을 구하는 Max Heap\n",
    "최솟값을 구하는 Min Heap이 있음.\n",
    "\n",
    "Max Heap으로 설명하자면\n",
    "한 노드는 자식 노드보다 같거나 큼. \n",
    "\n",
    "완전 이진 트리 : 노드 삽입할때 최하단 왼쪽 노드부터 차례대로 삽입하는 트리.\n"
   ]
  },
  {
   "cell_type": "markdown",
   "metadata": {},
   "source": [
    "힙 vs 이진 탐색 트리\n",
    "\n",
    "힙을 만들땐 일단 추가할 노드가 루트 노드보다 작은지 확인하고 작으면 대충 완전 이진 트리 만드는거 처럼 순서대로 채워 넣음. \n",
    "근데 이제 루트보다 큰게 들어왔을때!도 일단 완전 이진 트리 만드는거 처럼 채워 넣음. 그다음 채워 넣은 노드를 부모 노드와 비교하면서 스왑 시키면서 올려보냄. 그래서 최대값 찾는데 O(log(n))인가봄. 넣고 정리하는데 O(log(n))이고 최댓값 집어 오는건 그냥 루트만 집어오면 되니까.\n",
    "\n",
    "아 그냥 데이터 삽입할때 넣고 부모랑 비교하는거 같음. 루트랑 처음에 비교하는게 아니라. 구현 하다보면 알겠지.\n",
    "\n",
    "힙의 데이터 삭제는 좀 독특함. 최상단 노드를 삭제하는게 일반적임. 밑에 있는 뭐 찾아서 삭제하고 이런거 아님. \n",
    "그래서 힙에서 삭제는 일단 루트 노드 지움. 그리고 가장 마지막에 들어온 노드를 루트로 올림. 마지막 놈을 루트로 올려서 완전 이진 트리로 만들어주고. 이제 다시 또 스왑하면서 루트로 올린얘를 쭉쭉 내림. 다시 크기 순으로 정렬.\n",
    "\n",
    "아 힙은 다 크기 순으로 정렬 되는거 같음. 설명이 좀 애매하네. "
   ]
  },
  {
   "cell_type": "markdown",
   "metadata": {},
   "source": [
    "힙 구현 할때 보통 배열로 만듬. 완전 이진 트리이기 때문에 배열로 만드는 거임. 인덱스가 비지 않고 쭉쭉 채울 수 있으니까"
   ]
  },
  {
   "cell_type": "code",
   "execution_count": 18,
   "metadata": {},
   "outputs": [],
   "source": [
    "class Heap:\n",
    "    def __init__(self, data):\n",
    "        self.heap_array = list()\n",
    "        self.heap_array.append(None)  # 편의상 0번 인덱스는 비워둠\n",
    "        self.heap_array.append(data)\n",
    "    \n",
    "    def move_up(self, inserted_idx):\n",
    "        if inserted_idx <= 1:\n",
    "            return False\n",
    "        parent_idx = inserted_idx//2\n",
    "        if self.heap_array[inserted_idx] > self.heap_array[parent_idx]:\n",
    "            return True\n",
    "        else:\n",
    "            return False\n",
    "    \n",
    "    def insert(self, data):\n",
    "        if len(self.heap_array)==0: # 방어코드 느낌으로 써넣은건데 굳이?\n",
    "            self.heap_array.append(None)  # 편의상 0번 인덱스는 비워둠\n",
    "            self.heap_array.append(data)\n",
    "            return True\n",
    "        \n",
    "        self.heap_array.append(data) # 일단 넣어놓음\n",
    "        \n",
    "        inserted_idx = len(self.heap_array)-1\n",
    "        while self.move_up(inserted_idx):\n",
    "            parent_idx = inserted_idx//2   # 나눈 몫\n",
    "            self.heap_array[inserted_idx], self.heap_array[parent_idx] = self.heap_array[parent_idx], self.heap_array[inserted_idx]  # 파이썬에선 스왑을 이렇게 쉽게 할 수 있다.\n",
    "            inserted_idx = parent_idx\n",
    "            \n",
    "        return True\n",
    "    \n",
    "    def move_down(self, poped_idx):\n",
    "        left_child_poped_idx = poped_idx*2\n",
    "        right_child_poped_idx = poped_idx*2 + 1\n",
    "        # case1: 왼쪽 자식 노드도 없을 때\n",
    "        if left_child_poped_idx >= len(self.heap_array):\n",
    "            return False\n",
    "        # case2: 오른쪽 자식 노드만 없을 때(왼쪽은 있음)\n",
    "        elif right_child_poped_idx >= len(self.heap_array):\n",
    "            if self.heap_array[poped_idx] < self.heap_array[left_child_poped_idx]:\n",
    "                return True\n",
    "            else:\n",
    "                return False\n",
    "        # case3: 왼쪽, 오른쪽 자식 노드 모두 있을 때\n",
    "        else:\n",
    "            if self.heap_array[left_child_poped_idx] > self.heap_array[right_child_poped_idx]:\n",
    "                if self.heap_array[poped_idx] < self.heap_array[left_child_poped_idx]:\n",
    "                    return True\n",
    "                else:\n",
    "                    return False\n",
    "            else:\n",
    "                if self.heap_array[poped_idx] < self.heap_array[right_child_poped_idx]:\n",
    "                    return True\n",
    "                else:\n",
    "                    return False\n",
    "            \n",
    "    def pop(self):\n",
    "        if len(self.heap_array) <= 1: # 방어코드\n",
    "            return None\n",
    "        # 리턴할 데이터 잡아옴\n",
    "        returned_data = self.heap_array[1]\n",
    "        # 마지막으로 들어온 친구 올려 보내기\n",
    "        self.heap_array[1] = self.heap_array[-1] # 여긴 파이썬이다! -1 쓰자!\n",
    "        del self.heap_array[-1]\n",
    "        # 올린 친구 자기 위치 찾아주기\n",
    "        poped_idx = 1\n",
    "        while self.move_down(poped_idx):\n",
    "            left_child_poped_idx = poped_idx*2\n",
    "            right_child_poped_idx = poped_idx*2 + 1\n",
    "            # case1: 오른쪽 자식 노드만 없을 때(왼쪽은 있음)\n",
    "            if right_child_poped_idx >= len(self.heap_array):\n",
    "                if self.heap_array[poped_idx] < self.heap_array[left_child_poped_idx]:\n",
    "                    self.heap_array[poped_idx], self.heap_array[left_child_poped_idx] = self.heap_array[left_child_poped_idx], self.heap_array[poped_idx]\n",
    "                    poped_idx = lef_child_poped_idx\n",
    "            # case2: 왼쪽, 오른쪽 자식 노드 모두 있을 때\n",
    "            else:\n",
    "                if self.heap_array[left_child_poped_idx] > self.heap_array[right_child_poped_idx]:\n",
    "                    if self.heap_array[poped_idx] < self.heap_array[left_child_poped_idx]:\n",
    "                        self.heap_array[poped_idx], self.heap_array[left_child_poped_idx] = self.heap_array[left_child_poped_idx], self.heap_array[poped_idx]\n",
    "                        poped_idx = lef_child_poped_idx\n",
    "                else:\n",
    "                    if self.heap_array[poped_idx] < self.heap_array[right_child_poped_idx]:\n",
    "                        self.heap_array[poped_idx], self.heap_array[right_child_poped_idx] = self.heap_array[right_child_poped_idx], self.heap_array[poped_idx]\n",
    "                        poped_idx = right_child_poped_idx                \n",
    "        \n",
    "        return returned_data"
   ]
  },
  {
   "cell_type": "code",
   "execution_count": 19,
   "metadata": {},
   "outputs": [
    {
     "data": {
      "text/plain": [
       "True"
      ]
     },
     "execution_count": 19,
     "metadata": {},
     "output_type": "execute_result"
    }
   ],
   "source": [
    "heap = Heap(15)\n",
    "heap.insert(10)\n",
    "heap.insert(8)\n",
    "heap.insert(5)\n",
    "heap.insert(4)"
   ]
  },
  {
   "cell_type": "code",
   "execution_count": 20,
   "metadata": {},
   "outputs": [
    {
     "data": {
      "text/plain": [
       "[None, 15, 10, 8, 5, 4]"
      ]
     },
     "execution_count": 20,
     "metadata": {},
     "output_type": "execute_result"
    }
   ],
   "source": [
    "heap.heap_array"
   ]
  },
  {
   "cell_type": "code",
   "execution_count": 21,
   "metadata": {},
   "outputs": [
    {
     "data": {
      "text/plain": [
       "True"
      ]
     },
     "execution_count": 21,
     "metadata": {},
     "output_type": "execute_result"
    }
   ],
   "source": [
    "# insert Test\n",
    "heap.insert(20)"
   ]
  },
  {
   "cell_type": "code",
   "execution_count": 22,
   "metadata": {},
   "outputs": [
    {
     "data": {
      "text/plain": [
       "[None, 20, 10, 15, 5, 4, 8]"
      ]
     },
     "execution_count": 22,
     "metadata": {},
     "output_type": "execute_result"
    }
   ],
   "source": [
    "heap.heap_array"
   ]
  },
  {
   "cell_type": "code",
   "execution_count": 23,
   "metadata": {},
   "outputs": [
    {
     "data": {
      "text/plain": [
       "20"
      ]
     },
     "execution_count": 23,
     "metadata": {},
     "output_type": "execute_result"
    }
   ],
   "source": [
    "# pop Test\n",
    "heap.pop()"
   ]
  },
  {
   "cell_type": "code",
   "execution_count": 24,
   "metadata": {},
   "outputs": [
    {
     "data": {
      "text/plain": [
       "[None, 15, 10, 8, 5, 4]"
      ]
     },
     "execution_count": 24,
     "metadata": {},
     "output_type": "execute_result"
    }
   ],
   "source": [
    "heap.heap_array"
   ]
  },
  {
   "cell_type": "markdown",
   "metadata": {},
   "source": [
    "최대값을 가져오는 pop. 가져오는 자체는 O(1) 이지만 가져오고 다시 정리하는데 O(log(n))"
   ]
  },
  {
   "cell_type": "code",
   "execution_count": null,
   "metadata": {},
   "outputs": [],
   "source": []
  }
 ],
 "metadata": {
  "kernelspec": {
   "display_name": "Python 3",
   "language": "python",
   "name": "python3"
  },
  "language_info": {
   "codemirror_mode": {
    "name": "ipython",
    "version": 3
   },
   "file_extension": ".py",
   "mimetype": "text/x-python",
   "name": "python",
   "nbconvert_exporter": "python",
   "pygments_lexer": "ipython3",
   "version": "3.7.4"
  }
 },
 "nbformat": 4,
 "nbformat_minor": 2
}
