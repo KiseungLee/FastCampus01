{
 "cells": [
  {
   "cell_type": "markdown",
   "metadata": {},
   "source": [
    "## Queue, LifoQueue, PriorityQueue 구현 (배열 사용)\n",
    "## 인터페이스는 Java API 참조\n",
    "\n",
    "##### boolean add(E e)\n",
    ": Inserts the specified element into this queue if it is possible to do so immediately without violating capacity restrictions, returning true upon success and throwing an IllegalStateException if no space is currently available.\n",
    "\n",
    "##### E element()\n",
    ":  Retrieves, but does not remove, the head of this queue.\n",
    "\n",
    "##### boolean\toffer(E e)\n",
    ": Inserts the specified element into this queue if it is possible to do so immediately without violating capacity restrictions.\n",
    "\n",
    "##### E peek()\n",
    ": Retrieves, but does not remove, the head of this queue, or returns null if this queue is empty.\n",
    "\n",
    "##### E poll()\n",
    ": Retrieves and removes the head of this queue, or returns null if this queue is empty.\n",
    "\n",
    "##### E remove()\n",
    ": Retrieves and removes the head of this queue.\n"
   ]
  },
  {
   "cell_type": "code",
   "execution_count": 38,
   "metadata": {},
   "outputs": [],
   "source": [
    "class my_queue:\n",
    "    def __init__(self):\n",
    "        self.queue = list()\n",
    "    \n",
    "    def add(self, data):\n",
    "        # 혹시 모를 방어코드 \n",
    "        if self.queue==None:\n",
    "            self.queue = list()\n",
    "        # 배열 맨 뒤에 데이터 추가\n",
    "        self.queue.append(data)\n",
    "        return True\n",
    "    \n",
    "    def peek(self):\n",
    "        # 비었을 때\n",
    "        if len(self.queue)==0:\n",
    "            return None\n",
    "        return self.queue[0]\n",
    "    \n",
    "    def poll(self):\n",
    "        # 비었을 때\n",
    "        if len(self.queue)==0:\n",
    "            return None\n",
    "        # 리턴할거 집어주고\n",
    "        return_data = self.queue[0]\n",
    "        # 앞에꺼 빼고 슬라이싱\n",
    "        # self.queue = self.queue[1:]\n",
    "        # 또는 del 명령어 (del로 배열 요소 지우면 알아서 앞으로 땡김)\n",
    "        del self.queue[0]\n",
    "        return return_data"
   ]
  },
  {
   "cell_type": "code",
   "execution_count": 35,
   "metadata": {},
   "outputs": [
    {
     "name": "stdout",
     "output_type": "stream",
     "text": [
      "=== input_data ===\n",
      "[62, 18, 1, 26, 71, 60, 83, 50, 94, 84, 82, 31, 17, 76, 28, 40, 37, 78, 45, 54]\n"
     ]
    }
   ],
   "source": [
    "import random\n",
    "input_data = random.sample(range(100), 20)\n",
    "print(\"=== input_data ===\")\n",
    "print(input_data)"
   ]
  },
  {
   "cell_type": "code",
   "execution_count": 36,
   "metadata": {},
   "outputs": [
    {
     "name": "stdout",
     "output_type": "stream",
     "text": [
      "[62, 18, 1, 26, 71, 60, 83, 50, 94, 84, 82, 31, 17, 76, 28, 40, 37, 78, 45, 54]\n"
     ]
    }
   ],
   "source": [
    "queue = my_queue()\n",
    "\n",
    "for data in input_data:\n",
    "    queue.add(data)\n",
    "\n",
    "print(queue.queue)"
   ]
  },
  {
   "cell_type": "code",
   "execution_count": 37,
   "metadata": {
    "scrolled": true
   },
   "outputs": [
    {
     "name": "stdout",
     "output_type": "stream",
     "text": [
      "62\n",
      "[62, 18, 1, 26, 71, 60, 83, 50, 94, 84, 82, 31, 17, 76, 28, 40, 37, 78, 45, 54]\n",
      "62\n",
      "[18, 1, 26, 71, 60, 83, 50, 94, 84, 82, 31, 17, 76, 28, 40, 37, 78, 45, 54]\n"
     ]
    }
   ],
   "source": [
    "print(queue.peek())\n",
    "print(queue.queue)\n",
    "print(queue.poll())\n",
    "print(queue.queue)"
   ]
  },
  {
   "cell_type": "code",
   "execution_count": 33,
   "metadata": {
    "scrolled": true
   },
   "outputs": [],
   "source": [
    "while len(queue.queue)>0:\n",
    "    print(queue.poll())"
   ]
  },
  {
   "cell_type": "code",
   "execution_count": 34,
   "metadata": {},
   "outputs": [
    {
     "name": "stdout",
     "output_type": "stream",
     "text": [
      "None\n"
     ]
    }
   ],
   "source": [
    "print(queue.peek())"
   ]
  },
  {
   "cell_type": "code",
   "execution_count": 41,
   "metadata": {},
   "outputs": [
    {
     "name": "stdout",
     "output_type": "stream",
     "text": [
      "deque([62, 18, 1, 26, 71, 60, 83, 50, 94, 84, 82, 31, 17, 76, 28, 40, 37, 78, 45, 54])\n"
     ]
    }
   ],
   "source": [
    "# 보너스 파이썬 자체 자료형 queue\n",
    "import queue\n",
    "\n",
    "lifo = queue.Queue()\n",
    "for data in input_data:\n",
    "    lifo.put(data)\n",
    "print(lifo.queue)"
   ]
  },
  {
   "cell_type": "code",
   "execution_count": 42,
   "metadata": {},
   "outputs": [
    {
     "data": {
      "text/plain": [
       "False"
      ]
     },
     "execution_count": 42,
     "metadata": {},
     "output_type": "execute_result"
    }
   ],
   "source": [
    "lifo.full()"
   ]
  },
  {
   "cell_type": "markdown",
   "metadata": {},
   "source": [
    "## Stack 구현 (배열 사용)\n",
    "## 인터페이스는 Java API 참조\n",
    "\n",
    "##### boolean  empty()\t\n",
    ": Tests if this stack is empty.\n",
    "##### E  peek()\t\n",
    ": Looks at the object at the top of this stack without removing it from the stack.\n",
    "##### E  pop()\t\n",
    ": Removes the object at the top of this stack and returns that object as the value of this function.\n",
    "##### E  push(E item)\t\n",
    ": Pushes an item onto the top of this stack.\n",
    "##### int  search(Object o)\t\n",
    ": Returns the 1-based position where an object is on this stack."
   ]
  },
  {
   "cell_type": "code",
   "execution_count": 53,
   "metadata": {},
   "outputs": [],
   "source": [
    "class my_stack:\n",
    "    def __init__(self):\n",
    "        self.stack = list()\n",
    "        \n",
    "    def put(self, data):\n",
    "        self.stack.append(data)\n",
    "        \n",
    "    def peek(self):\n",
    "        if self.empty():\n",
    "            return None\n",
    "        return self.stack[-1]\n",
    "    \n",
    "    def poll(self):\n",
    "        if self.empty():\n",
    "            return None\n",
    "        return_data = self.stack[-1]\n",
    "        del self.stack[-1]\n",
    "        return return_data\n",
    "    \n",
    "    def empty(self):\n",
    "        if len(self.stack)==0:\n",
    "            return True\n",
    "        else:\n",
    "            return False"
   ]
  },
  {
   "cell_type": "code",
   "execution_count": 56,
   "metadata": {},
   "outputs": [
    {
     "name": "stdout",
     "output_type": "stream",
     "text": [
      "[62, 18, 1, 26, 71, 60, 83, 50, 94, 84, 82, 31, 17, 76, 28, 40, 37, 78, 45, 54]\n"
     ]
    }
   ],
   "source": [
    "stack = my_stack()\n",
    "\n",
    "for data in input_data:\n",
    "    stack.put(data)\n",
    "\n",
    "print(stack.stack)"
   ]
  },
  {
   "cell_type": "code",
   "execution_count": 60,
   "metadata": {},
   "outputs": [
    {
     "name": "stdout",
     "output_type": "stream",
     "text": [
      "54\n",
      "45\n",
      "78\n",
      "37\n",
      "40\n",
      "28\n",
      "76\n",
      "17\n",
      "31\n",
      "82\n",
      "84\n",
      "94\n",
      "50\n",
      "83\n",
      "60\n",
      "71\n",
      "26\n",
      "1\n",
      "18\n",
      "62\n"
     ]
    }
   ],
   "source": [
    "while not stack.empty():\n",
    "    print(stack.poll())"
   ]
  },
  {
   "cell_type": "code",
   "execution_count": 61,
   "metadata": {},
   "outputs": [
    {
     "name": "stdout",
     "output_type": "stream",
     "text": [
      "[]\n"
     ]
    }
   ],
   "source": [
    "print(stack.stack)"
   ]
  },
  {
   "cell_type": "markdown",
   "metadata": {},
   "source": [
    "## LinkedList 구현 (객체 사용)\n",
    "## 인터페이스는 Java API 참조\n",
    "##### void\tadd​(int index, E element)\t\n",
    "Inserts the specified element at the specified position in this list.\n",
    "#####  boolean\tadd​(E e)\t\n",
    "Appends the specified element to the end of this list.\n",
    "#####  void\tclear​()\t\n",
    "Removes all of the elements from this list.\n",
    "#####  boolean\tcontains​(Object o)\t\n",
    "Returns true if this list contains the specified element.\n",
    "#####  E\tget​(int index)\t\n",
    "Returns the element at the specified position in this list.\n",
    "#####  int\tindexOf​(Object o)\t\n",
    "Returns the index of the first occurrence of the specified element in this list, or -1 if this list does not contain the element.\n",
    "#####  int\tlastIndexOf​(Object o)\t\n",
    "Returns the index of the last occurrence of the specified element in this list, or -1 if this list does not contain the element.\n",
    "#####  E\tpeek​()\t\n",
    "Retrieves, but does not remove, the head (first element) of this list.\n",
    "#####  E\tpoll​()\t\n",
    "Retrieves and removes the head (first element) of this list.\n",
    "#####  E\tremove​()\t\n",
    "Retrieves and removes the head (first element) of this list.\n",
    "#####  E\tremove​(int index)\t\n",
    "Removes the element at the specified position in this list.\n",
    "#####  int\tsize​()\t\n",
    "Returns the number of elements in this list.\n",
    "#####  Object[]\ttoArray​()\t\n",
    "Returns an array containing all of the elements in this list in proper sequence (from first to last element)."
   ]
  },
  {
   "cell_type": "code",
   "execution_count": 101,
   "metadata": {},
   "outputs": [],
   "source": [
    "class Node:\n",
    "    def __init__(self, data):\n",
    "        self.value=data\n",
    "        self.next=None\n",
    "        \n",
    "class my_linkedList:\n",
    "    def __init__(self, data=None):\n",
    "        self.head = Node(data)\n",
    "        self.tail = self.head\n",
    "        self.count = 1\n",
    "    \n",
    "    def add(self, data):\n",
    "        if self.head.value==None:\n",
    "            self.head = Node(data)\n",
    "            self.tail = self.head\n",
    "            self.count = 1\n",
    "            return True\n",
    "        newNode = Node(data)\n",
    "        self.tail.next = newNode\n",
    "        self.tail = newNode\n",
    "        self.count += 1\n",
    "        return True\n",
    "    \n",
    "    def get(self, index):\n",
    "        if index+1>self.count:\n",
    "            return \"Out Of Index!\"\n",
    "\n",
    "        search_node = self.head\n",
    "        for i in list(range(index-1)):\n",
    "            search_node = search_node.next\n",
    "        \n",
    "        return search_node.value\n",
    "        \n",
    "    \n",
    "    def printAll(self):\n",
    "        node = self.head\n",
    "        while node.next!=None:\n",
    "            print(node.value)\n",
    "            node = node.next\n",
    "        print(node.value)"
   ]
  },
  {
   "cell_type": "code",
   "execution_count": 102,
   "metadata": {},
   "outputs": [
    {
     "data": {
      "text/plain": [
       "True"
      ]
     },
     "execution_count": 102,
     "metadata": {},
     "output_type": "execute_result"
    }
   ],
   "source": [
    "linked = my_linkedList(4)\n",
    "linked.add(6)\n",
    "linked.add(23)\n",
    "linked.add(8)\n",
    "linked.add(12)"
   ]
  },
  {
   "cell_type": "code",
   "execution_count": 103,
   "metadata": {},
   "outputs": [
    {
     "name": "stdout",
     "output_type": "stream",
     "text": [
      "4\n",
      "6\n",
      "23\n",
      "8\n",
      "12\n"
     ]
    }
   ],
   "source": [
    "linked.printAll()"
   ]
  },
  {
   "cell_type": "code",
   "execution_count": 104,
   "metadata": {
    "scrolled": true
   },
   "outputs": [
    {
     "name": "stdout",
     "output_type": "stream",
     "text": [
      "4\n",
      "4\n",
      "6\n",
      "23\n",
      "8\n"
     ]
    }
   ],
   "source": [
    "print(linked.get(0))\n",
    "print(linked.get(1))\n",
    "print(linked.get(2))\n",
    "print(linked.get(3))\n",
    "print(linked.get(4))"
   ]
  },
  {
   "cell_type": "code",
   "execution_count": 95,
   "metadata": {},
   "outputs": [
    {
     "data": {
      "text/plain": [
       "[0, 1, 2]"
      ]
     },
     "execution_count": 95,
     "metadata": {},
     "output_type": "execute_result"
    }
   ],
   "source": [
    "list(range(3))"
   ]
  },
  {
   "cell_type": "markdown",
   "metadata": {},
   "source": [
    "## DoubleLinkedList 구현 \n",
    "## 인터페이스는 Java API 참조\n",
    "##### void\tadd​(int index, E element)\t\n",
    "Inserts the specified element at the specified position in this list.\n",
    "#####  boolean\tadd​(E e)\t\n",
    "Appends the specified element to the end of this list.\n",
    "#####  void\tclear​()\t\n",
    "Removes all of the elements from this list.\n",
    "#####  boolean\tcontains​(Object o)\t\n",
    "Returns true if this list contains the specified element.\n",
    "#####  E\tget​(int index)\t\n",
    "Returns the element at the specified position in this list.\n",
    "#####  int\tindexOf​(Object o)\t\n",
    "Returns the index of the first occurrence of the specified element in this list, or -1 if this list does not contain the element.\n",
    "#####  int\tlastIndexOf​(Object o)\t\n",
    "Returns the index of the last occurrence of the specified element in this list, or -1 if this list does not contain the element.\n",
    "#####  E\tpeek​()\t\n",
    "Retrieves, but does not remove, the head (first element) of this list.\n",
    "#####  E\tpoll​()\t\n",
    "Retrieves and removes the head (first element) of this list.\n",
    "#####  E\tremove​()\t\n",
    "Retrieves and removes the head (first element) of this list.\n",
    "#####  E\tremove​(int index)\t\n",
    "Removes the element at the specified position in this list.\n",
    "#####  int\tsize​()\t\n",
    "Returns the number of elements in this list.\n",
    "#####  Object[]\ttoArray​()\t\n",
    "Returns an array containing all of the elements in this list in proper sequence (from first to last element)."
   ]
  },
  {
   "cell_type": "code",
   "execution_count": null,
   "metadata": {},
   "outputs": [],
   "source": []
  }
 ],
 "metadata": {
  "kernelspec": {
   "display_name": "Python 3",
   "language": "python",
   "name": "python3"
  },
  "language_info": {
   "codemirror_mode": {
    "name": "ipython",
    "version": 3
   },
   "file_extension": ".py",
   "mimetype": "text/x-python",
   "name": "python",
   "nbconvert_exporter": "python",
   "pygments_lexer": "ipython3",
   "version": "3.7.1"
  }
 },
 "nbformat": 4,
 "nbformat_minor": 2
}
