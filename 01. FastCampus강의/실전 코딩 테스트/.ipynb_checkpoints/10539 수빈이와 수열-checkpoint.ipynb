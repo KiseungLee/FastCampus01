{
 "cells": [
  {
   "cell_type": "code",
   "execution_count": 5,
   "metadata": {},
   "outputs": [
    {
     "name": "stdout",
     "output_type": "stream",
     "text": [
      "4\n",
      "3 2 3 5\n"
     ]
    }
   ],
   "source": [
    "# E(arr, 1) , E(arr, 2), ... , E(arr, n)\n",
    "# 1*E(arr, 1). 2*E(arr, 2), ... , n*E(arr,n)\n",
    "# Sum(arr, 1). Sum(arr, 2), ... , Sum(arr, n)\n",
    "# a1, s2-s1 = a2, .... sn-sn-1 = an\n",
    "# arr = []\n",
    "\n",
    "\n",
    "n = input()\n",
    "arr = list(map(int, input().split()))\n",
    "result = [arr[0]]\n",
    "for i in range(1, len(arr)):\n",
    "    result.append( (i+1)*arr[i]-(i)*arr[i-1] )\n",
    "print(result)"
   ]
  },
  {
   "cell_type": "code",
   "execution_count": 13,
   "metadata": {},
   "outputs": [
    {
     "name": "stdout",
     "output_type": "stream",
     "text": [
      "1\n",
      "2\n",
      "2 "
     ]
    }
   ],
   "source": [
    "n = input()\n",
    "arr = list(map(int, input().split()))\n",
    "\n",
    "temp = 0\n",
    "for i in range(0, len(arr)-1):\n",
    "    temp = arr[i]\n",
    "    arr[i+1] = ( (i+1)*arr[i+1]-(i)*temp )\n",
    "\n",
    "for i in arr:\n",
    "    print(i, end=' ')"
   ]
  },
  {
   "cell_type": "code",
   "execution_count": 10,
   "metadata": {},
   "outputs": [
    {
     "data": {
      "text/plain": [
       "[3, 2, 4, 7]"
      ]
     },
     "execution_count": 10,
     "metadata": {},
     "output_type": "execute_result"
    }
   ],
   "source": [
    "arr"
   ]
  },
  {
   "cell_type": "code",
   "execution_count": null,
   "metadata": {},
   "outputs": [],
   "source": []
  }
 ],
 "metadata": {
  "kernelspec": {
   "display_name": "Python 3",
   "language": "python",
   "name": "python3"
  },
  "language_info": {
   "codemirror_mode": {
    "name": "ipython",
    "version": 3
   },
   "file_extension": ".py",
   "mimetype": "text/x-python",
   "name": "python",
   "nbconvert_exporter": "python",
   "pygments_lexer": "ipython3",
   "version": "3.7.4"
  }
 },
 "nbformat": 4,
 "nbformat_minor": 2
}
