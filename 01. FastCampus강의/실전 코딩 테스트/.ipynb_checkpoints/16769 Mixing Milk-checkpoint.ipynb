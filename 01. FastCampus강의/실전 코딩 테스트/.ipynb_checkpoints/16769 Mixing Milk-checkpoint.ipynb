{
 "cells": [
  {
   "cell_type": "code",
   "execution_count": 15,
   "metadata": {},
   "outputs": [
    {
     "name": "stdout",
     "output_type": "stream",
     "text": [
      "10 3\n",
      "11 4\n",
      "12 5\n"
     ]
    }
   ],
   "source": [
    "# https://www.acmicpc.net/problem/16769\n",
    "\n",
    "buckets = []\n",
    "for _ in range(3):\n",
    "    buckets.append(list(map(int, input().split())))"
   ]
  },
  {
   "cell_type": "code",
   "execution_count": 16,
   "metadata": {},
   "outputs": [],
   "source": [
    "def pour(bucket_from, bucket_into):\n",
    "    if bucket_from[1] + bucket_into[1] <= bucket_into[0]:\n",
    "        bucket_into[1] += bucket_from[1] \n",
    "        bucket_from[1] = 0\n",
    "    else:\n",
    "        bucket_from[1] -= (bucket_into[0]-bucket_into[1])\n",
    "        bucket_into[1] = bucket_into[0]"
   ]
  },
  {
   "cell_type": "code",
   "execution_count": 17,
   "metadata": {},
   "outputs": [],
   "source": [
    "for i in range(100):\n",
    "    pour(buckets[i%3], buckets[(i+1)%3])"
   ]
  },
  {
   "cell_type": "code",
   "execution_count": 19,
   "metadata": {},
   "outputs": [
    {
     "name": "stdout",
     "output_type": "stream",
     "text": [
      "0\n",
      "10\n",
      "2\n"
     ]
    }
   ],
   "source": [
    "for bucket in buckets:\n",
    "    print(bucket[1])"
   ]
  },
  {
   "cell_type": "code",
   "execution_count": null,
   "metadata": {},
   "outputs": [],
   "source": []
  }
 ],
 "metadata": {
  "kernelspec": {
   "display_name": "Python 3",
   "language": "python",
   "name": "python3"
  },
  "language_info": {
   "codemirror_mode": {
    "name": "ipython",
    "version": 3
   },
   "file_extension": ".py",
   "mimetype": "text/x-python",
   "name": "python",
   "nbconvert_exporter": "python",
   "pygments_lexer": "ipython3",
   "version": "3.7.4"
  }
 },
 "nbformat": 4,
 "nbformat_minor": 2
}
