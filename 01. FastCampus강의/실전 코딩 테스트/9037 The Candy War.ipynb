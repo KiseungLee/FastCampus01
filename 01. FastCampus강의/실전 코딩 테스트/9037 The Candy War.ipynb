{
 "cells": [
  {
   "cell_type": "code",
   "execution_count": 34,
   "metadata": {},
   "outputs": [],
   "source": [
    "# https://www.acmicpc.net/problem/9037\n",
    "\n",
    "def rotateOne():\n",
    "    global arr\n",
    "    a = arr[0]//2\n",
    "    b = 0\n",
    "    for i in range(len(arr)):\n",
    "        if i==len(arr)-1:\n",
    "            i= -1\n",
    "        b = arr[i+1]//2\n",
    "        arr[i+1] = b + a\n",
    "        a = b\n",
    "    arr = [i if i%2==0 else i+1 for i in arr]\n",
    "    \n",
    "def isEqual():\n",
    "    for i in range(len(arr)-1):\n",
    "        if arr[i]!=arr[i+1]:\n",
    "            return False\n",
    "    return True"
   ]
  },
  {
   "cell_type": "code",
   "execution_count": 35,
   "metadata": {},
   "outputs": [
    {
     "name": "stdout",
     "output_type": "stream",
     "text": [
      "4\n",
      "5\n",
      "2 4 7 8 9\n",
      "6\n",
      "1\n",
      "9\n",
      "0\n",
      "6\n",
      "10 5 13 2 7 8\n",
      "4\n",
      "4\n",
      "3 4 4 3\n",
      "0\n"
     ]
    }
   ],
   "source": [
    "t = int(input())\n",
    "for _ in range(t):\n",
    "    n = int(input())\n",
    "    global arr\n",
    "    arr = list(map(int, input().split()))\n",
    "    arr = [i if i%2==0 else i+1 for i in arr]\n",
    "    result = 0\n",
    "    while not isEqual():\n",
    "        rotateOne()\n",
    "        result+=1\n",
    "    print(result)"
   ]
  },
  {
   "cell_type": "code",
   "execution_count": null,
   "metadata": {},
   "outputs": [],
   "source": []
  }
 ],
 "metadata": {
  "kernelspec": {
   "display_name": "Python 3",
   "language": "python",
   "name": "python3"
  },
  "language_info": {
   "codemirror_mode": {
    "name": "ipython",
    "version": 3
   },
   "file_extension": ".py",
   "mimetype": "text/x-python",
   "name": "python",
   "nbconvert_exporter": "python",
   "pygments_lexer": "ipython3",
   "version": "3.7.4"
  }
 },
 "nbformat": 4,
 "nbformat_minor": 2
}
