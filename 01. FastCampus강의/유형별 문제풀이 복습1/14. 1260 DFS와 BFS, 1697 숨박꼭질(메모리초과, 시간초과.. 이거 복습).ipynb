{
 "cells": [
  {
   "cell_type": "code",
   "execution_count": 2,
   "metadata": {},
   "outputs": [
    {
     "name": "stdout",
     "output_type": "stream",
     "text": [
      "4 5 1\n",
      "1 2\n",
      "1 3\n",
      "1 4\n",
      "2 4\n",
      "3 4\n"
     ]
    }
   ],
   "source": [
    "# acmicpc.net/problem/1260 DFS와 BFS\n",
    "\n",
    "n, m, v = map(int, input().split())\n",
    "\n",
    "dic = {}\n",
    "\n",
    "for _ in range(m):\n",
    "    a, b = map(int, input().split())\n",
    "    if a in dic :\n",
    "        dic[a].append(b)\n",
    "    else:\n",
    "        dic[a] = [b]\n",
    "    if b in dic:\n",
    "        dic[b].append(a)\n",
    "    else:\n",
    "        dic[b] = [a]"
   ]
  },
  {
   "cell_type": "code",
   "execution_count": 33,
   "metadata": {},
   "outputs": [],
   "source": [
    "def bfs(value):\n",
    "    will_visit = [value]\n",
    "    visited = []\n",
    "    \n",
    "    while will_visit:\n",
    "        now = will_visit.pop(0)\n",
    "        if now not in visited:\n",
    "            visited.append(now)\n",
    "            if now in dic:\n",
    "                for i in sorted(dic[now]):\n",
    "                    will_visit.append(i)\n",
    "                    \n",
    "    for i in visited:\n",
    "        print(i, end = ' ')"
   ]
  },
  {
   "cell_type": "code",
   "execution_count": 34,
   "metadata": {},
   "outputs": [],
   "source": [
    "def dfs(value):\n",
    "    will_visit = [value]\n",
    "    visited = []\n",
    "    \n",
    "    while will_visit:\n",
    "        now = will_visit.pop()\n",
    "        if now not in visited:\n",
    "            visited.append(now)\n",
    "            if now in dic:\n",
    "                for i in sorted(dic[now], reverse=True):\n",
    "                    will_visit.append(i)\n",
    "                    \n",
    "    for i in visited:\n",
    "        print(i, end = ' ')"
   ]
  },
  {
   "cell_type": "code",
   "execution_count": 35,
   "metadata": {},
   "outputs": [
    {
     "name": "stdout",
     "output_type": "stream",
     "text": [
      "1 2 4 3 1 2 3 4 "
     ]
    }
   ],
   "source": [
    "dfs(v)\n",
    "print()\n",
    "bfs(v)\n",
    "\n",
    "# 재귀는 DFS만 가능하다.\n",
    "# BFS는 큐 쓰자"
   ]
  },
  {
   "cell_type": "code",
   "execution_count": 43,
   "metadata": {},
   "outputs": [
    {
     "name": "stdout",
     "output_type": "stream",
     "text": [
      "1 100000\n",
      "21\n"
     ]
    }
   ],
   "source": [
    "# acmicpc.net/problem/1697 숨박꼭질\n",
    "\n",
    "n, k = map(int, input().split())\n",
    "\n",
    "def find(n, k):\n",
    "    if n==k:\n",
    "        print(0)\n",
    "        return\n",
    "    set1 = set()\n",
    "    set2 = set()\n",
    "    set1.add(n)\n",
    "    count = 0\n",
    "    while True:\n",
    "        count += 1\n",
    "        for i in set1:\n",
    "            if i+1==k or i-1==k or i*2==k:\n",
    "                print(count)\n",
    "                return\n",
    "            else:\n",
    "                if (i+1) <= 100000:\n",
    "                    set2.add(i+1)\n",
    "                if (i-1) >= 0:\n",
    "                    set2.add(i-1)\n",
    "                if i*2 <= 100000:\n",
    "                    set2.add(i*2)\n",
    "        set1 = set2\n",
    "        set2 = set()\n",
    "        \n",
    "find(n, k)\n",
    "\n",
    "# 아 좋은 방법인데 메모리 초과네\n",
    "# 범위 줘서 메모리 줄이니까 시간 초과네"
   ]
  },
  {
   "cell_type": "code",
   "execution_count": 44,
   "metadata": {},
   "outputs": [
    {
     "name": "stdout",
     "output_type": "stream",
     "text": [
      "5 17\n",
      "4\n"
     ]
    }
   ],
   "source": [
    "n, k = map(int, input().split())\n",
    "\n",
    "arr = [0]*100001\n",
    "arr2 = [0]*100001\n",
    "arr[n] = 1\n",
    "\n",
    "count = 0 \n",
    "while True:\n",
    "    if arr[k]==1:\n",
    "        print(count)\n",
    "        break\n",
    "    count += 1\n",
    "    for i in range(100001):\n",
    "        if arr[i]==1:\n",
    "            if i-1>=0:\n",
    "                arr2[i-1] = 1\n",
    "            if i+1<=100000:\n",
    "                arr2[i+1] = 1\n",
    "            if i*2<=100000:\n",
    "                arr2[i*2] = 1\n",
    "    arr = arr2\n",
    "    arr2 = [0]*100001\n",
    "    \n",
    "# 이것도 시간초과네    "
   ]
  },
  {
   "cell_type": "code",
   "execution_count": null,
   "metadata": {},
   "outputs": [],
   "source": []
  }
 ],
 "metadata": {
  "kernelspec": {
   "display_name": "Python 3",
   "language": "python",
   "name": "python3"
  },
  "language_info": {
   "codemirror_mode": {
    "name": "ipython",
    "version": 3
   },
   "file_extension": ".py",
   "mimetype": "text/x-python",
   "name": "python",
   "nbconvert_exporter": "python",
   "pygments_lexer": "ipython3",
   "version": "3.7.1"
  }
 },
 "nbformat": 4,
 "nbformat_minor": 2
}
