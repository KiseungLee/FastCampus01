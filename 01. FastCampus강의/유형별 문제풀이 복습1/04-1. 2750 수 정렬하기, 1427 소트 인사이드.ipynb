{
 "cells": [
  {
   "cell_type": "code",
   "execution_count": 2,
   "metadata": {},
   "outputs": [
    {
     "name": "stdout",
     "output_type": "stream",
     "text": [
      "5\n",
      "4\n",
      "2\n",
      "3\n",
      "5\n",
      "1\n",
      "1\n",
      "2\n",
      "3\n",
      "4\n",
      "5\n"
     ]
    }
   ],
   "source": [
    "# https://www.acmicpc.net/problem/2750\n",
    "\n",
    "array = []\n",
    "for _ in range(int(input())):\n",
    "    array.append(int(input()))\n",
    "    \n",
    "array.sort()\n",
    "for i in array:\n",
    "    print(i)"
   ]
  },
  {
   "cell_type": "code",
   "execution_count": 17,
   "metadata": {},
   "outputs": [
    {
     "name": "stdout",
     "output_type": "stream",
     "text": [
      "1212412543\n",
      "[5, 4, 3, 2, 1]\n",
      "5443222111"
     ]
    }
   ],
   "source": [
    "# https://www.acmicpc.net/problem/1427\n",
    "\n",
    "result = {}\n",
    "for c in input():\n",
    "    if int(c) not in result:\n",
    "        result[int(c)] = 1\n",
    "    else:\n",
    "        result[int(c)] += 1\n",
    "        \n",
    "arr = sorted(list(result.keys()), reverse=True)\n",
    "for i in arr:\n",
    "    for _ in range(result[i]):\n",
    "        print(str(i), end='')\n",
    "        \n",
    "# 첫트에 푼게 더 잘풀었네\n",
    "# 첫트에 푼건 수학적인 센스로 풀었다면\n",
    "# 이번 풀이는 프로그래밍을 어디서 주워 듣고 푼 풀이\n",
    "\n",
    "# 근데 생각을 좀 잘못함. 1,000,000,000 를 문자로 안보고 원소 갯수가 이만큼 들어온다고?? 이런식으로 봐서\n",
    "# 많은 수 다룰려고 BinaryTree 쓰려고 구글링 해봤는데 파이썬에선 set, dict이 비슷하게 구현해놓아서\n",
    "# 내장 함수로 BinaryTree는 없다고 함. \n",
    "\n",
    "# 암튼 그래서 set 쓰려고 했다가 set은 중복을 없애버려서 여기서 쓰기 힘들고\n",
    "# 대신 dict을 써서 나온 횟수를 기록했음 - 압축 관련 영상 본거에서 떠오른 힌트인듯"
   ]
  },
  {
   "cell_type": "code",
   "execution_count": 19,
   "metadata": {},
   "outputs": [
    {
     "name": "stdout",
     "output_type": "stream",
     "text": [
      "32502342348\n",
      "85443332220\n"
     ]
    }
   ],
   "source": [
    "# 첫트 풀이\n",
    "\n",
    "str_num = input()\n",
    "int_list= [int(c) for c in str_num]\n",
    "int_list.sort(reverse=True)\n",
    "result_num = 0\n",
    "for n in int_list:\n",
    "    result_num = result_num*10 + n\n",
    "    \n",
    "print(result_num)"
   ]
  },
  {
   "cell_type": "code",
   "execution_count": null,
   "metadata": {},
   "outputs": [],
   "source": [
    "# 선생님 풀이 아이디어는 독특하고 코드도 굉장히 짧음.\n",
    "# 물론 여긴 속도를 고려 안해도 되는 문제여서 이렇게 풀었음.\n",
    "# 실제로 돌려봐도 속도 차이 안남\n",
    "# 1,000,000,000 -> 10글자, 0~9 -> 10자\n",
    "# 아래로 이중 배열 돌아도 많아봐야 100번임. \n",
    "\n",
    "array = input()\n",
    "for i in range(9, -1, -1):\n",
    "    for j in array:\n",
    "        if int(j)==i:\n",
    "            print(i, end='')"
   ]
  }
 ],
 "metadata": {
  "kernelspec": {
   "display_name": "Python 3",
   "language": "python",
   "name": "python3"
  },
  "language_info": {
   "codemirror_mode": {
    "name": "ipython",
    "version": 3
   },
   "file_extension": ".py",
   "mimetype": "text/x-python",
   "name": "python",
   "nbconvert_exporter": "python",
   "pygments_lexer": "ipython3",
   "version": "3.7.1"
  }
 },
 "nbformat": 4,
 "nbformat_minor": 2
}
