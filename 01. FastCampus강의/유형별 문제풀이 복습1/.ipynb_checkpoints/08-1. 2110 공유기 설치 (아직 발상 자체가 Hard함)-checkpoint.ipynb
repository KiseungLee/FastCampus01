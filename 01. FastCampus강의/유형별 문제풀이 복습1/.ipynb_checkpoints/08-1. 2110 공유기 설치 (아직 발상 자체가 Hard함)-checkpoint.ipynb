{
 "cells": [
  {
   "cell_type": "code",
   "execution_count": 55,
   "metadata": {},
   "outputs": [],
   "source": [
    "import copy\n",
    "\n",
    "def Combi(arr,rest, now, maximum):\n",
    "    if now==maximum:\n",
    "        for i in rest:\n",
    "            arr[now-1] = i\n",
    "            arr_all.append(copy.deepcopy(arr))\n",
    "    else:\n",
    "        if len(rest)>=maximum-now:\n",
    "            for i in range(len(rest)):\n",
    "                if len(rest)-(i+1) >= maximum-now:\n",
    "                    arr[now-1] = rest[i]\n",
    "                    Combi(arr, rest[i+1:], now+1, maximum)"
   ]
  },
  {
   "cell_type": "code",
   "execution_count": 56,
   "metadata": {},
   "outputs": [],
   "source": [
    "def Combination(n, m):\n",
    "    rest = [i+1 for i in range(n)]\n",
    "    maximum = m\n",
    "    Combi([0]*maximum, rest, 1, maximum)\n",
    "    return arr_all"
   ]
  },
  {
   "cell_type": "code",
   "execution_count": 57,
   "metadata": {},
   "outputs": [
    {
     "name": "stdout",
     "output_type": "stream",
     "text": [
      "[[1, 2], [1, 3], [1, 4], [1, 5], [2, 3], [2, 4], [2, 5], [3, 4], [3, 5], [4, 5]]\n"
     ]
    }
   ],
   "source": [
    "arr_all = []\n",
    "Combination(5, 2)\n",
    "print(arr_all)"
   ]
  },
  {
   "cell_type": "code",
   "execution_count": 81,
   "metadata": {},
   "outputs": [
    {
     "name": "stdout",
     "output_type": "stream",
     "text": [
      "5 3\n",
      "1\n",
      "2\n",
      "8\n",
      "4\n",
      "9\n"
     ]
    }
   ],
   "source": [
    "n, m = map(int, input().split())\n",
    "\n",
    "array = []\n",
    "for _ in range(n):\n",
    "    array.append(int(input()))\n",
    "    \n",
    "array.sort()\n",
    "gaps = [array[i]-array[i-1] for i in range(1, n)]"
   ]
  },
  {
   "cell_type": "code",
   "execution_count": 92,
   "metadata": {},
   "outputs": [
    {
     "data": {
      "text/plain": [
       "[1, 2, 4, 1]"
      ]
     },
     "execution_count": 92,
     "metadata": {},
     "output_type": "execute_result"
    }
   ],
   "source": [
    "gaps"
   ]
  },
  {
   "cell_type": "code",
   "execution_count": 97,
   "metadata": {},
   "outputs": [
    {
     "data": {
      "text/plain": [
       "[[1], [2], [3]]"
      ]
     },
     "execution_count": 97,
     "metadata": {},
     "output_type": "execute_result"
    }
   ],
   "source": [
    "arr_all = []\n",
    "Combination(n-2, m-2)\n",
    "arr_all"
   ]
  },
  {
   "cell_type": "code",
   "execution_count": 109,
   "metadata": {},
   "outputs": [],
   "source": [
    "arr_min = []\n",
    "for i in arr_all:\n",
    "    arr_temp = []\n",
    "    start = 0\n",
    "    for j in i:\n",
    "        end = j\n",
    "        arr_temp.append(sum(gaps[start:end]))\n",
    "        start = end\n",
    "    arr_temp.append(sum(gaps[end:]))\n",
    "    arr_min.append(min(arr_temp))"
   ]
  },
  {
   "cell_type": "code",
   "execution_count": 110,
   "metadata": {},
   "outputs": [
    {
     "name": "stdout",
     "output_type": "stream",
     "text": [
      "3\n"
     ]
    }
   ],
   "source": [
    "print(max(arr_min))"
   ]
  },
  {
   "cell_type": "code",
   "execution_count": 101,
   "metadata": {},
   "outputs": [
    {
     "data": {
      "text/plain": [
       "1"
      ]
     },
     "execution_count": 101,
     "metadata": {},
     "output_type": "execute_result"
    }
   ],
   "source": [
    "arr = [1,2,3]\n",
    "min(arr)"
   ]
  },
  {
   "cell_type": "code",
   "execution_count": null,
   "metadata": {},
   "outputs": [],
   "source": []
  },
  {
   "cell_type": "code",
   "execution_count": 111,
   "metadata": {},
   "outputs": [
    {
     "name": "stdout",
     "output_type": "stream",
     "text": [
      "5 3\n",
      "1\n",
      "2\n",
      "8\n",
      "4\n",
      "9\n",
      "3\n"
     ]
    }
   ],
   "source": [
    "import copy\n",
    "\n",
    "def Combi(arr,rest, now, maximum):\n",
    "    if now==maximum:\n",
    "        for i in rest:\n",
    "            arr[now-1] = i\n",
    "            arr_all.append(copy.deepcopy(arr))\n",
    "    else:\n",
    "        if len(rest)>=maximum-now:\n",
    "            for i in range(len(rest)):\n",
    "                if len(rest)-(i+1) >= maximum-now:\n",
    "                    arr[now-1] = rest[i]\n",
    "                    Combi(arr, rest[i+1:], now+1, maximum)\n",
    "                    \n",
    "def Combination(n, m):\n",
    "    rest = [i+1 for i in range(n)]\n",
    "    maximum = m\n",
    "    Combi([0]*maximum, rest, 1, maximum)\n",
    "    return arr_all            \n",
    "\n",
    "\n",
    "\n",
    "n, m = map(int, input().split())\n",
    "\n",
    "array = []\n",
    "for _ in range(n):\n",
    "    array.append(int(input()))\n",
    "    \n",
    "array.sort()\n",
    "gaps = [array[i]-array[i-1] for i in range(1, n)]\n",
    "\n",
    "arr_all = []\n",
    "Combination(n-2, m-2)\n",
    "\n",
    "arr_min = []\n",
    "for i in arr_all:\n",
    "    arr_temp = []\n",
    "    start = 0\n",
    "    for j in i:\n",
    "        end = j\n",
    "        arr_temp.append(sum(gaps[start:end]))\n",
    "        start = end\n",
    "    arr_temp.append(sum(gaps[end:]))\n",
    "    arr_min.append(min(arr_temp))\n",
    "    \n",
    "print(max(arr_min))\n",
    "\n",
    "# 처음 풀었을때 떠올렸던 아이디어를 구현했음.(그땐 구현에서 막힘)\n",
    "\n",
    "# 처음 풀었던 아이디어\n",
    "# -> n개의 좌표를 받으면 n-1개로 이루어진 좌표들의 차이 배열을 구함.\n",
    "#    m개의 공유기를 설치한다는 건 n-1개의 차이를 m-1개의 그룹으로 묶는거임.\n",
    "#    그룹으로 묶은 얘들중에 최소값을 구함(가장 인접한 공유기)\n",
    "#    묶은 그룹들에서 나온 최소값들 중 최대값을 구함(가장 인접한 것을 최대로)\n",
    "# ex) 1 2 4 8 9좌표와 3개를 설치해야 하면 우선 1, 2, 4, 1의 차이배열을 구함.\n",
    "#     차이배열을 3-1개의 그룹으로 묶는 경우의 수에서 각각 최소값을 뽑음\n",
    "#     1) 1 / 2 4 1 => 1\n",
    "#     2) 1 2 / 4 1 => 3\n",
    "#     3) 1 2 4 / 1 => 1\n",
    "#     뽑은 최소값들 중 최대를 뽑음 => 3\n",
    "\n",
    "# 되긴 했는데 일단 메모리 초과 떴고(조합 경우의수 구하는거에서 뜬거 같음) \n",
    "# 메모리 통과해도 시간 초과 뜰거임."
   ]
  },
  {
   "cell_type": "code",
   "execution_count": 35,
   "metadata": {},
   "outputs": [
    {
     "name": "stdout",
     "output_type": "stream",
     "text": [
      "5 3\n",
      "1\n",
      "2\n",
      "4\n",
      "8\n",
      "9\n",
      "min_gap :  1 ,  mid_gap :  2 ,  max_gap:  4\n",
      "가능\n",
      "min_gap :  2 ,  mid_gap :  3 ,  max_gap:  4\n",
      "가능\n",
      "min_gap :  3 ,  mid_gap :  4 ,  max_gap:  4\n",
      "불가\n",
      "3\n"
     ]
    }
   ],
   "source": [
    "# 선생님\n",
    "\n",
    "# 이 문제는 시작 아이디어를 잡는거 자체가 빡세다.\n",
    "# 풀어가는 구조 자체가 좀 생각해내기 어려움.\n",
    "# 좌표에서 풀어나가는게 아니라\n",
    "# gap을 기준으로 이진 탐색으로 풀어나감.\n",
    "# 최소 gap, 최대 gap을 구하고 그거의 중간 gap을 구함.\n",
    "# 현재 중간 gap으로 공유기 설치 가능하면 현재 중간 gap을 최소 gap으로 잡고 다시 중간 gap을 잡음\n",
    "# 반대로 현재 중간 gap으로 공유기 설치가 불가능하면 현재 중간 gap을 최대 gap으로 잡고 다시 중간 gap을 잡음.\n",
    "# 이렇게 반씩 쳐내면서 진행해 나가다가 중간 gap을 더이상 못잡으면 그 전 gap이 답임.\n",
    "\n",
    "# 테크닉적으로 확인할 줄 알아야 되는데\n",
    "\n",
    "import math\n",
    "\n",
    "def can_setup(gap):\n",
    "    count = 0\n",
    "    now = 0\n",
    "    for i in arr_gap:\n",
    "        now+=i\n",
    "        if now>=gap:\n",
    "            count+=1\n",
    "            now=0\n",
    "            \n",
    "    if count>m-2:\n",
    "        return True\n",
    "    else:\n",
    "        return False\n",
    "    \n",
    "    \n",
    "n, m = map(int, input().split())\n",
    "\n",
    "arr = []\n",
    "\n",
    "for _ in range(n):\n",
    "    arr.append(int(input()))\n",
    "\n",
    "arr.sort()\n",
    "\n",
    "arr_gap = [arr[i]-arr[i-1] for i in range(1, n)]\n",
    "\n",
    "min_gap = min(arr_gap)\n",
    "max_gap = max(arr_gap)\n",
    "mid_gap = (min_gap+max_gap)//2\n",
    "last_mid_gap = min_gap\n",
    "\n",
    "while not (last_mid_gap==mid_gap):\n",
    "    # print('min_gap : ', min_gap, ',  mid_gap : ', mid_gap, ',  max_gap: ', max_gap)\n",
    "    if(can_setup(mid_gap)):\n",
    "        # print('가능')\n",
    "        min_gap = mid_gap\n",
    "        last_mid_gap = mid_gap\n",
    "        mid_gap = math.ceil((min_gap+max_gap)/2)\n",
    "    else:\n",
    "        # print('불가')\n",
    "        max_gap = mid_gap\n",
    "        mid_gap = (min_gap+max_gap)//2\n",
    "        \n",
    "print(last_mid_gap)\n",
    "\n",
    "# 구현에서 막히다니...\n",
    "# gap좀 버리고 풀자 좀"
   ]
  },
  {
   "cell_type": "code",
   "execution_count": 39,
   "metadata": {},
   "outputs": [
    {
     "name": "stdout",
     "output_type": "stream",
     "text": [
      "4 3\n",
      "1\n",
      "7\n",
      "12\n",
      "16\n",
      "6\n"
     ]
    }
   ],
   "source": [
    "# 선생님 코드\n",
    "\n",
    "n, c = map(int, input().split())\n",
    "\n",
    "array = []\n",
    "\n",
    "for _ in range(n):\n",
    "    array.append(int(input()))\n",
    "array.sort()\n",
    "\n",
    "start = array[1] - array[0]\n",
    "end = array[-1] - array[0]\n",
    "result = 0\n",
    "\n",
    "while start<=end:\n",
    "    mid = (start+end)//2\n",
    "    value = array[0]\n",
    "    count = 1\n",
    "    for i in range(1, len(array)):\n",
    "        if array[i] >= value + mid:\n",
    "            value = array[i]\n",
    "            count += 1\n",
    "        if count >= c:\n",
    "            start = mid + 1 # 여기를 잘 봐둬야 겠네\n",
    "            result = mid\n",
    "        else:\n",
    "            end = mid -1  # 여기를 잘 봐둬야 겠네\n",
    "            \n",
    "print(result)\n",
    "\n",
    "# 선생님 틀리는데요... 케이스가 추가됐나.."
   ]
  },
  {
   "cell_type": "code",
   "execution_count": null,
   "metadata": {},
   "outputs": [],
   "source": []
  }
 ],
 "metadata": {
  "kernelspec": {
   "display_name": "Python 3",
   "language": "python",
   "name": "python3"
  },
  "language_info": {
   "codemirror_mode": {
    "name": "ipython",
    "version": 3
   },
   "file_extension": ".py",
   "mimetype": "text/x-python",
   "name": "python",
   "nbconvert_exporter": "python",
   "pygments_lexer": "ipython3",
   "version": "3.7.1"
  }
 },
 "nbformat": 4,
 "nbformat_minor": 2
}
