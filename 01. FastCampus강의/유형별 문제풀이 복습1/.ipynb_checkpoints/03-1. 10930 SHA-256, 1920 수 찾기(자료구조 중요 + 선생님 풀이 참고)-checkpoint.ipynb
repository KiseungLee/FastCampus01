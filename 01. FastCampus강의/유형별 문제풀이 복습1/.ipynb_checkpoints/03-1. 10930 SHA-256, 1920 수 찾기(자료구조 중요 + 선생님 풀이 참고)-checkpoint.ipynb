{
 "cells": [
  {
   "cell_type": "code",
   "execution_count": 1,
   "metadata": {},
   "outputs": [
    {
     "name": "stdout",
     "output_type": "stream",
     "text": [
      "akjsdnka\n",
      "8fd64f81b7dab58fb6e12952236620cec2ff225f2b26083d3f40c021139d65a1\n"
     ]
    }
   ],
   "source": [
    "# https://www.acmicpc.net/problem/10930\n",
    "\n",
    "# 이건 그냥 패스\n",
    "\n",
    "import hashlib\n",
    "\n",
    "data = input()\n",
    "\n",
    "encoded_data = data.encode()\n",
    "\n",
    "result = hashlib.sha256(encoded_data).hexdigest()\n",
    "\n",
    "print(result)"
   ]
  },
  {
   "cell_type": "code",
   "execution_count": 7,
   "metadata": {},
   "outputs": [
    {
     "name": "stdout",
     "output_type": "stream",
     "text": [
      "5\n",
      "4 1 5 2 3\n",
      "5\n",
      "1 3 7 9 5\n",
      "1\n",
      "1\n",
      "0\n",
      "0\n",
      "1\n"
     ]
    }
   ],
   "source": [
    "# https://www.acmicpc.net/problem/1920\n",
    "\n",
    "n = int(input())\n",
    "array = list(map(int, input().split()))\n",
    "dict_array = {}\n",
    "for i in array:\n",
    "    dict_array[i] = 1\n",
    "    \n",
    "m = int(input())\n",
    "array_find = list(map(int, input().split()))\n",
    "for i in array_find:\n",
    "    if dict_array.get(i):\n",
    "        print(1)\n",
    "    else:\n",
    "        print(0)\n",
    "        \n",
    "# 씁.. 풀이가 퇴보했네"
   ]
  },
  {
   "attachments": {
    "%EA%B1%B0%EC%A7%93%EC%9C%BC%EB%A1%9C%20%EB%B6%84%EB%A5%98%EB%90%98%EB%8A%94%20%EA%B2%83%EB%93%A4.PNG": {
     "image/png": "[encoded data removed]"
    }
   },
   "cell_type": "markdown",
   "metadata": {},
   "source": [
    "![%EA%B1%B0%EC%A7%93%EC%9C%BC%EB%A1%9C%20%EB%B6%84%EB%A5%98%EB%90%98%EB%8A%94%20%EA%B2%83%EB%93%A4.PNG](attachment:%EA%B1%B0%EC%A7%93%EC%9C%BC%EB%A1%9C%20%EB%B6%84%EB%A5%98%EB%90%98%EB%8A%94%20%EA%B2%83%EB%93%A4.PNG)\n",
    "\n",
    "False로 분류되는 데이터들 이것 말고 웬만한 것들은 True라고 보면 된다. "
   ]
  },
  {
   "cell_type": "code",
   "execution_count": null,
   "metadata": {},
   "outputs": [],
   "source": [
    "# https://www.acmicpc.net/problem/1920\n",
    "\n",
    "n = int(input())\n",
    "dict_array = {}\n",
    "for i in list(map(int, input().split())):\n",
    "    dict_array[i] = 1\n",
    "    \n",
    "m = int(input())\n",
    "for i in list(map(int, input().split())):\n",
    "    print(1 if dict_array.get(i) else 0)"
   ]
  },
  {
   "cell_type": "code",
   "execution_count": null,
   "metadata": {},
   "outputs": [],
   "source": [
    "# 선생님 풀이 더 간단\n",
    "\n",
    "n = int(input())\n",
    "array = set(map(int, input().split())) # dictionary 끼지 안가도 됨\n",
    "m = int(input())\n",
    "x = list(map(int, input().split()))\n",
    "\n",
    "for i in x:\n",
    "    if i not in array:\n",
    "        print('0')\n",
    "    else:\n",
    "        print('1')"
   ]
  },
  {
   "cell_type": "code",
   "execution_count": 9,
   "metadata": {},
   "outputs": [
    {
     "name": "stdout",
     "output_type": "stream",
     "text": [
      "5\n",
      "4\n",
      "4\n",
      "1\n",
      "0\n"
     ]
    }
   ],
   "source": [
    "# 강박적으로 줄여보기 -> 시간은 별 차이 없음\n",
    "\n",
    "n = int(input())\n",
    "array = set(map(int, input().split())) # dictionary 끼지 안가도 됨\n",
    "m = int(input())\n",
    "\n",
    "for i in list(map(int, input().split())):\n",
    "    print(1 if i in array else 0)"
   ]
  },
  {
   "cell_type": "code",
   "execution_count": null,
   "metadata": {},
   "outputs": [],
   "source": []
  }
 ],
 "metadata": {
  "kernelspec": {
   "display_name": "Python 3",
   "language": "python",
   "name": "python3"
  },
  "language_info": {
   "codemirror_mode": {
    "name": "ipython",
    "version": 3
   },
   "file_extension": ".py",
   "mimetype": "text/x-python",
   "name": "python",
   "nbconvert_exporter": "python",
   "pygments_lexer": "ipython3",
   "version": "3.7.1"
  }
 },
 "nbformat": 4,
 "nbformat_minor": 2
}
