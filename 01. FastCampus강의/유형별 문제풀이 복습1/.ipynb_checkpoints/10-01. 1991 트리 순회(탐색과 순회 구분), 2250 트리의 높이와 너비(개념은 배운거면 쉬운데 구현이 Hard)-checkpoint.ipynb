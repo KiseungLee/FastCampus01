{
 "cells": [
  {
   "cell_type": "code",
   "execution_count": 2,
   "metadata": {},
   "outputs": [
    {
     "name": "stdout",
     "output_type": "stream",
     "text": [
      "7\n",
      "A B C\n",
      "B D .\n",
      "C E F\n",
      "E . .\n",
      "F . G\n",
      "D . .\n",
      "G . .\n"
     ]
    }
   ],
   "source": [
    "# https://www.acmicpc.net/problem/1991\n",
    "\n",
    "n = int(input())\n",
    "dic = {}\n",
    "for _ in range(n):\n",
    "    root, left, right = map(str, input().split())\n",
    "    dic[root] = [left, right]"
   ]
  },
  {
   "cell_type": "code",
   "execution_count": 29,
   "metadata": {},
   "outputs": [],
   "source": [
    "def preorder(root):\n",
    "    visited.append(root)\n",
    "    if dic[root][0]!='.':\n",
    "        preorder(dic[root][0])\n",
    "    if dic[root][1]!='.':\n",
    "        preorder(dic[root][1])"
   ]
  },
  {
   "cell_type": "code",
   "execution_count": 30,
   "metadata": {},
   "outputs": [],
   "source": [
    "visited = []\n",
    "preorder('A')"
   ]
  },
  {
   "cell_type": "code",
   "execution_count": 31,
   "metadata": {},
   "outputs": [
    {
     "name": "stdout",
     "output_type": "stream",
     "text": [
      "ABDCEFG\n"
     ]
    }
   ],
   "source": [
    "print(''.join(visited))"
   ]
  },
  {
   "cell_type": "code",
   "execution_count": 19,
   "metadata": {},
   "outputs": [],
   "source": [
    "def inorder(root):\n",
    "    if dic[root][0]!='.':\n",
    "        inorder(dic[root][0])\n",
    "    visited.append(root)\n",
    "    if dic[root][1]!='.':\n",
    "        inorder(dic[root][1])"
   ]
  },
  {
   "cell_type": "code",
   "execution_count": 20,
   "metadata": {},
   "outputs": [],
   "source": [
    "visited = []\n",
    "inorder('A')"
   ]
  },
  {
   "cell_type": "code",
   "execution_count": 21,
   "metadata": {},
   "outputs": [
    {
     "name": "stdout",
     "output_type": "stream",
     "text": [
      "DBAECFG\n"
     ]
    }
   ],
   "source": [
    "print(''.join(visited))"
   ]
  },
  {
   "cell_type": "code",
   "execution_count": 32,
   "metadata": {},
   "outputs": [],
   "source": [
    "def postorder(root):\n",
    "    if dic[root][0]!='.':\n",
    "        postorder(dic[root][0])\n",
    "    if dic[root][1]!='.':\n",
    "        postorder(dic[root][1])\n",
    "    visited.append(root)"
   ]
  },
  {
   "cell_type": "code",
   "execution_count": 33,
   "metadata": {},
   "outputs": [],
   "source": [
    "visited = []\n",
    "postorder('A')"
   ]
  },
  {
   "cell_type": "code",
   "execution_count": 34,
   "metadata": {},
   "outputs": [
    {
     "name": "stdout",
     "output_type": "stream",
     "text": [
      "DBEGFCA\n"
     ]
    }
   ],
   "source": [
    "print(''.join(visited))"
   ]
  },
  {
   "cell_type": "code",
   "execution_count": null,
   "metadata": {},
   "outputs": [],
   "source": [
    "# BFS, DFS는 탐색 -> 그래프에 쓰인다.\n",
    "# 그래프 : 노드간 양방향 가능, 루트 노드라는 개념이 없음\n",
    "\n",
    "# preorder, inorder, postorder는 순회 -> 트리에 쓰인다.\n",
    "# 트리 : 그래프의 특정한 형태. 방향 존재, loop나 self loop 없음.\n",
    "# 트리가 그래프의 한 형태이듯\n",
    "# 순회도 탐색의 한 형태임."
   ]
  },
  {
   "cell_type": "code",
   "execution_count": null,
   "metadata": {},
   "outputs": [],
   "source": []
  },
  {
   "cell_type": "code",
   "execution_count": 112,
   "metadata": {},
   "outputs": [
    {
     "name": "stdout",
     "output_type": "stream",
     "text": [
      "3\n",
      "1 -1 -1\n",
      "2 -1 -1\n",
      "3 1 2\n"
     ]
    }
   ],
   "source": [
    "# https://www.acmicpc.net/problem/2250\n",
    "\n",
    "n = int(input())\n",
    "\n",
    "dic = {}\n",
    "\n",
    "for _ in range(n):\n",
    "    root, left, right = map(int, input().split())\n",
    "    dic[root] = [left, right]"
   ]
  },
  {
   "cell_type": "code",
   "execution_count": 113,
   "metadata": {},
   "outputs": [],
   "source": [
    "def inorder(value, level):\n",
    "    if dic[value][0] != -1:\n",
    "        inorder(dic[value][0], level+1)\n",
    "    visited.append(value)\n",
    "    if level not in min_max:\n",
    "        min_max[level] = [value, value]\n",
    "    else:\n",
    "        min_max[level][0] = min(value, min_max[level][0])\n",
    "        min_max[level][1] = max(value, min_max[level][1])\n",
    "    if dic[value][1] != -1:\n",
    "        inorder(dic[value][1], level+1)"
   ]
  },
  {
   "cell_type": "code",
   "execution_count": 114,
   "metadata": {},
   "outputs": [],
   "source": [
    "def find_root():\n",
    "    for i in dic:\n",
    "        flag = True\n",
    "        for j in dic:\n",
    "            if dic[j][0]==i or dic[j][1]==i:\n",
    "                flag=False\n",
    "                break\n",
    "        if flag:\n",
    "            return i"
   ]
  },
  {
   "cell_type": "code",
   "execution_count": 115,
   "metadata": {},
   "outputs": [],
   "source": [
    "visited = []\n",
    "min_max = {}\n",
    "inorder(find_root(), 1)"
   ]
  },
  {
   "cell_type": "code",
   "execution_count": 116,
   "metadata": {},
   "outputs": [],
   "source": [
    "max_level = 1\n",
    "max_len = 0\n",
    "\n",
    "for level in sorted(min_max):\n",
    "    local_len = visited.index(min_max[level][1]) - visited.index(min_max[level][0])\n",
    "    if local_len > max_len:\n",
    "        max_len = local_len\n",
    "        max_level = level"
   ]
  },
  {
   "cell_type": "code",
   "execution_count": 117,
   "metadata": {},
   "outputs": [
    {
     "name": "stdout",
     "output_type": "stream",
     "text": [
      "2 3\n"
     ]
    }
   ],
   "source": [
    "print(max_level, max_len+1)\n",
    "\n",
    "# 왜 틀린거에요 선생님... ㅜㅜ\n",
    "# 코테에서 이러면 멘붕이겠다. 다풀었는데 계속 틀려\n",
    "# 구현이 '상' 난이도의 문제라는데 그런거 같다."
   ]
  },
  {
   "cell_type": "code",
   "execution_count": 118,
   "metadata": {},
   "outputs": [
    {
     "data": {
      "text/plain": [
       "[1, 3, 2]"
      ]
     },
     "execution_count": 118,
     "metadata": {},
     "output_type": "execute_result"
    }
   ],
   "source": [
    "min_max"
   ]
  },
  {
   "cell_type": "code",
   "execution_count": 120,
   "metadata": {},
   "outputs": [
    {
     "data": {
      "text/plain": [
       "{2: [1, 2], 1: [3, 3]}"
      ]
     },
     "execution_count": 120,
     "metadata": {},
     "output_type": "execute_result"
    }
   ],
   "source": [
    "min_max"
   ]
  },
  {
   "cell_type": "code",
   "execution_count": null,
   "metadata": {},
   "outputs": [],
   "source": []
  }
 ],
 "metadata": {
  "kernelspec": {
   "display_name": "Python 3",
   "language": "python",
   "name": "python3"
  },
  "language_info": {
   "codemirror_mode": {
    "name": "ipython",
    "version": 3
   },
   "file_extension": ".py",
   "mimetype": "text/x-python",
   "name": "python",
   "nbconvert_exporter": "python",
   "pygments_lexer": "ipython3",
   "version": "3.7.1"
  }
 },
 "nbformat": 4,
 "nbformat_minor": 2
}
