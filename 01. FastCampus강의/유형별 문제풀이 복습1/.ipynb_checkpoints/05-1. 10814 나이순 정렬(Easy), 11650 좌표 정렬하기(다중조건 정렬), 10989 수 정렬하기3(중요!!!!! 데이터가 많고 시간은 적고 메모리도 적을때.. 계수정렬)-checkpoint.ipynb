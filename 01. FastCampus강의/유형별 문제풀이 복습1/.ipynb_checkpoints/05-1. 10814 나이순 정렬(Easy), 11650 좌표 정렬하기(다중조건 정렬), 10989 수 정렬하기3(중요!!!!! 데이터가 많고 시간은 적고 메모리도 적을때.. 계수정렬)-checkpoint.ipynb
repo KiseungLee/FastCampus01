{
 "cells": [
  {
   "cell_type": "code",
   "execution_count": 6,
   "metadata": {},
   "outputs": [
    {
     "name": "stdout",
     "output_type": "stream",
     "text": [
      "5\n",
      "20 c\n",
      "23 a\n",
      "19 b\n",
      "19 a\n",
      "21 d\n",
      "19 b\n",
      "19 a\n",
      "20 c\n",
      "21 d\n",
      "23 a\n"
     ]
    }
   ],
   "source": [
    "# https://www.acmicpc.net/problem/10814\n",
    "\n",
    "n = int(input())\n",
    "\n",
    "arr = []\n",
    "for _ in range(n):\n",
    "    a, b = map(str, input().split())\n",
    "    arr.append((int(a), b))\n",
    "    \n",
    "arr = sorted(arr, key=lambda x: x[0])\n",
    "\n",
    "for (a, b) in arr:\n",
    "    print(a, b)"
   ]
  },
  {
   "cell_type": "code",
   "execution_count": 9,
   "metadata": {},
   "outputs": [
    {
     "name": "stdout",
     "output_type": "stream",
     "text": [
      "5\n",
      "3 4\n",
      "1 1\n",
      "1 -1\n",
      "2 2\n",
      "3 3\n",
      "1 -1\n",
      "1 1\n",
      "2 2\n",
      "3 3\n",
      "3 4\n"
     ]
    }
   ],
   "source": [
    "# https://www.acmicpc.net/problem/11650\n",
    "\n",
    "n = int(input())\n",
    "\n",
    "arr = []\n",
    "\n",
    "for _ in range(n):\n",
    "    a, b = map(int, input().split())\n",
    "    arr.append((a,b))\n",
    "\n",
    "arr = sorted(arr, key=lambda x: (x[0],x[1]))\n",
    "\n",
    "for (a, b) in arr:\n",
    "    print(a, b)"
   ]
  },
  {
   "cell_type": "code",
   "execution_count": 12,
   "metadata": {},
   "outputs": [
    {
     "name": "stdout",
     "output_type": "stream",
     "text": [
      "10\n",
      "5\n",
      "2\n",
      "3\n",
      "1\n",
      "4\n",
      "2\n",
      "3\n",
      "5\n",
      "1\n",
      "7\n",
      "1\n",
      "1\n",
      "2\n",
      "2\n",
      "3\n",
      "3\n",
      "4\n",
      "5\n",
      "5\n",
      "7\n"
     ]
    }
   ],
   "source": [
    "import sys\n",
    "\n",
    "n = int(input())\n",
    "\n",
    "dic = {}\n",
    "\n",
    "for _ in range(n):\n",
    "    x = int(input())\n",
    "    if x in dic:\n",
    "        dic[x] +=1\n",
    "    else:\n",
    "        dic[x] = 1\n",
    "        \n",
    "arr = sorted(dic)\n",
    "\n",
    "for x in arr:\n",
    "    for y in range(dic[x]):\n",
    "        print(x)"
   ]
  },
  {
   "cell_type": "code",
   "execution_count": 17,
   "metadata": {},
   "outputs": [
    {
     "name": "stdout",
     "output_type": "stream",
     "text": [
      "10\n",
      "1\n",
      "4\n",
      "2\n",
      "3\n",
      "1\n",
      "5\n",
      "3\n",
      "7\n",
      "2\n",
      "1\n",
      "1\n",
      "1\n",
      "1\n",
      "2\n",
      "2\n",
      "3\n",
      "3\n",
      "4\n",
      "5\n",
      "7\n"
     ]
    }
   ],
   "source": [
    "import sys\n",
    "\n",
    "n = int(input())\n",
    "\n",
    "## 우선 배열을 만들고 배열안엔 갯수만 넣는 아이디어 중요함.\n",
    "## 10001 여기도 중요. 여기에 n 써버리면 메모리 초과나고 의미상으로도 그건 아님.\n",
    "## 보통 배열 갯수 n으로 박아넣는 습관이 있어서 실수 하기 쉬움.\n",
    "## 계수정렬의 아이디어만 떠올렸다면 나머지는 쉬운 문제\n",
    "# http://www.cs.miami.edu/home/burt/learning/Csc517.091/workbook/countingsort.html\n",
    "arr = [0]*10001 \n",
    "\n",
    "\n",
    "for _ in range(n):\n",
    "    x = int(input())\n",
    "    if arr[x] == 0:\n",
    "        arr[x] = 1\n",
    "    else:\n",
    "        arr[x] += 1\n",
    "        \n",
    "for i in range(1, 10001):\n",
    "    for j in range(arr[i]):\n",
    "        print(i)"
   ]
  },
  {
   "cell_type": "code",
   "execution_count": 16,
   "metadata": {},
   "outputs": [
    {
     "data": {
      "text/plain": [
       "[0, 0, 0, 0, 0, 0, 0, 0, 0, 0, 0]"
      ]
     },
     "execution_count": 16,
     "metadata": {},
     "output_type": "execute_result"
    }
   ],
   "source": [
    "arr"
   ]
  },
  {
   "cell_type": "code",
   "execution_count": null,
   "metadata": {},
   "outputs": [],
   "source": []
  }
 ],
 "metadata": {
  "kernelspec": {
   "display_name": "Python 3",
   "language": "python",
   "name": "python3"
  },
  "language_info": {
   "codemirror_mode": {
    "name": "ipython",
    "version": 3
   },
   "file_extension": ".py",
   "mimetype": "text/x-python",
   "name": "python",
   "nbconvert_exporter": "python",
   "pygments_lexer": "ipython3",
   "version": "3.7.1"
  }
 },
 "nbformat": 4,
 "nbformat_minor": 2
}
