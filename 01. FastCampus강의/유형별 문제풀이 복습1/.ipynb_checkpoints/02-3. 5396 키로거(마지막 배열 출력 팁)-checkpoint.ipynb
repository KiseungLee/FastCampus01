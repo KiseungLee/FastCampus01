{
 "cells": [
  {
   "cell_type": "code",
   "execution_count": 21,
   "metadata": {},
   "outputs": [
    {
     "name": "stdout",
     "output_type": "stream",
     "text": [
      "2\n",
      "dawda<qwe>qweq\n",
      "dawdqweaqweq\n",
      "weqe<Qweqe\n",
      "weqQweqee\n"
     ]
    }
   ],
   "source": [
    "# https://www.acmicpc.net/problem/5397\n",
    "\n",
    "n = int(input())\n",
    "\n",
    "for _ in range(n):\n",
    "    l = input()\n",
    "    left = []\n",
    "    right = []\n",
    "    for c in l:\n",
    "        if c=='>':\n",
    "            if right:\n",
    "                left.append(right.pop())\n",
    "        elif c=='<':\n",
    "            if left:\n",
    "                right.append(left.pop())\n",
    "        elif c=='-':\n",
    "            if left:\n",
    "                left.pop()\n",
    "        else:\n",
    "            left.append(c)\n",
    "    right.reverse()\n",
    "    left.extend(right)\n",
    "    print(''.join(left))\n",
    "    \n",
    "# 거의 선생님과 하나가 되었네"
   ]
  },
  {
   "cell_type": "code",
   "execution_count": null,
   "metadata": {},
   "outputs": [],
   "source": [
    "# 선생님 풀이\n",
    "# 구조는 똑같은데 이제 풀어가는 스킬을 좀 더 세련되게 다듬어야겠네\n",
    "# list()  대신 []만 써도 되고 [-1] 대신 pop() 썼어도 됐는데 왜 아까 pop 안나왔지\n",
    "# 비었는지 안비었는지 확인할때도 if left_stack: 이렇게\n",
    "# 마지막에도 left_stack.extend(reversed(right_stack)) 이런거\n",
    "\n",
    "# 확실히 커서를 변수로 잡고 풀려고 했으면 헬파티 열렸을 듯.\n",
    "\n",
    "test_case = int(input())\n",
    "\n",
    "for _ in range(test_case):\n",
    "    left_stack = []\n",
    "    right_stack = []\n",
    "    data = input()\n",
    "    for i in data:\n",
    "        if i == '-':\n",
    "            if left_stack:\n",
    "                left_stack.pop()\n",
    "        elif i == '<':\n",
    "            if left_stack:\n",
    "                right_stack.append(left_stack.pop())\n",
    "        elif i == '>':\n",
    "            if right_stack:\n",
    "                left_stack.append(right_stack.pop())\n",
    "        else:\n",
    "            left_stack.append(i)\n",
    "    left_stack.extend(reversed(right_stack))\n",
    "    print(''.join(left_stack))\n",
    "    \n"
   ]
  }
 ],
 "metadata": {
  "kernelspec": {
   "display_name": "Python 3",
   "language": "python",
   "name": "python3"
  },
  "language_info": {
   "codemirror_mode": {
    "name": "ipython",
    "version": 3
   },
   "file_extension": ".py",
   "mimetype": "text/x-python",
   "name": "python",
   "nbconvert_exporter": "python",
   "pygments_lexer": "ipython3",
   "version": "3.7.1"
  }
 },
 "nbformat": 4,
 "nbformat_minor": 2
}
