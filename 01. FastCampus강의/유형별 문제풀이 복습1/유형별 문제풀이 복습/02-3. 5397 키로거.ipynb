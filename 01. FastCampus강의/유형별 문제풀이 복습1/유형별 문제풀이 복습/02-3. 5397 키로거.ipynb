{
 "cells": [
  {
   "cell_type": "code",
   "execution_count": 13,
   "metadata": {},
   "outputs": [
    {
     "name": "stdout",
     "output_type": "stream",
     "text": [
      "1\n",
      "f<->--><-l>>d---u-j><>-<u->xb<<a\n",
      "axb\n"
     ]
    }
   ],
   "source": [
    "# https://www.acmicpc.net/problem/5397\n",
    "\n",
    "num = input()\n",
    "\n",
    "for _ in range(int(num)):\n",
    "    str = input()\n",
    "    stack_left = list()\n",
    "    stack_right = list()\n",
    "\n",
    "    for c in str:\n",
    "        if c=='<':\n",
    "            if len(stack_left)!=0:\n",
    "                stack_right.append(stack_left[-1])\n",
    "                del stack_left[-1]\n",
    "        elif c=='>':\n",
    "            if len(stack_right)!=0: \n",
    "                stack_left.append(stack_right[-1])\n",
    "                del stack_right[-1]            \n",
    "        elif c=='-':\n",
    "            if len(stack_left)!=0:\n",
    "                del stack_left[-1]\n",
    "        else:\n",
    "            stack_left.append(c)\n",
    "    \n",
    "    stack_right.reverse()\n",
    "    print(''.join(stack_left+stack_right))\n",
    "\n",
    "# 40분 줬는데 30분 걸렸다... \n",
    "# 아 마지막에 stack_right.reverse()만 안빼먹었어도 20분 컷이었는데 까비"
   ]
  },
  {
   "cell_type": "code",
   "execution_count": 16,
   "metadata": {},
   "outputs": [
    {
     "name": "stdout",
     "output_type": "stream",
     "text": [
      "1\n",
      "f<->--><-l>>d---u-j><>-<u->xb<<a\n",
      "axb\n"
     ]
    }
   ],
   "source": [
    "# 선생님 풀이\n",
    "# 구조는 똑같은데 이제 풀어가는 스킬을 좀 더 세련되게 다듬어야겠네\n",
    "# list()  대신 []만 써도 되고 [-1] 대신 pop() 썼어도 됐는데 왜 아까 pop 안나왔지\n",
    "# 비었는지 안비었는지 확인할때도 if left_stack: 이렇게\n",
    "# 마지막에도 left_stack.extend(reversed(right_stack)) 이런거\n",
    "\n",
    "# 확실히 커서를 변수로 잡고 풀려고 했으면 헬파티 열렸을 듯.\n",
    "\n",
    "test_case = int(input())\n",
    "\n",
    "for _ in range(test_case):\n",
    "    left_stack = []\n",
    "    right_stack = []\n",
    "    data = input()\n",
    "    for i in data:\n",
    "        if i == '-':\n",
    "            if left_stack:\n",
    "                left_stack.pop()\n",
    "        elif i == '<':\n",
    "            if left_stack:\n",
    "                right_stack.append(left_stack.pop())\n",
    "        elif i == '>':\n",
    "            if right_stack:\n",
    "                left_stack.append(right_stack.pop())\n",
    "        else:\n",
    "            left_stack.append(i)\n",
    "    left_stack.extend(reversed(right_stack))\n",
    "    print(''.join(left_stack))\n",
    "    \n"
   ]
  },
  {
   "cell_type": "code",
   "execution_count": null,
   "metadata": {},
   "outputs": [],
   "source": []
  }
 ],
 "metadata": {
  "kernelspec": {
   "display_name": "Python 3",
   "language": "python",
   "name": "python3"
  },
  "language_info": {
   "codemirror_mode": {
    "name": "ipython",
    "version": 3
   },
   "file_extension": ".py",
   "mimetype": "text/x-python",
   "name": "python",
   "nbconvert_exporter": "python",
   "pygments_lexer": "ipython3",
   "version": "3.7.4"
  }
 },
 "nbformat": 4,
 "nbformat_minor": 2
}
