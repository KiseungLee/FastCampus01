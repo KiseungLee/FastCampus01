{
 "cells": [
  {
   "cell_type": "code",
   "execution_count": 6,
   "metadata": {},
   "outputs": [
    {
     "name": "stdout",
     "output_type": "stream",
     "text": [
      "ababababa\n",
      "aba\n",
      "aba\n",
      "bab\n",
      "aba\n",
      "2\n"
     ]
    }
   ],
   "source": [
    "# https://www.acmicpc.net/problem/1543\n",
    "\n",
    "doc = input()\n",
    "word = input()\n",
    "\n",
    "count = 0\n",
    "i = 0\n",
    "\n",
    "while i<len(doc)-len(word)+1:\n",
    "    if doc[i:i+len(word)] == word:\n",
    "        count+=1\n",
    "        i += len(word)\n",
    "    else:\n",
    "        i += 1\n",
    "        \n",
    "print(count)\n",
    "\n",
    "# 첫트에서 라이브러리 안쓰려고 했을땐 진짜 이상하게 풀었었네.\n",
    "# 파이썬의 slicing을 적극적으로 활용하자."
   ]
  },
  {
   "cell_type": "code",
   "execution_count": null,
   "metadata": {},
   "outputs": [],
   "source": [
    "# 아니 이게 내 첫트 두번째 풀이었다고?\n",
    "\n",
    "doc = input()\n",
    "word = input()\n",
    "\n",
    "count = 0\n",
    "\n",
    "while True:\n",
    "    find = doc.find(word)\n",
    "    if find>=0:\n",
    "        doc = doc[find+len(word):]\n",
    "        count += 1\n",
    "    else:\n",
    "        break\n",
    "        \n",
    "print(count)"
   ]
  },
  {
   "cell_type": "code",
   "execution_count": null,
   "metadata": {},
   "outputs": [],
   "source": [
    "# 선생님\n",
    "\n",
    "document = input()\n",
    "word = input()\n",
    "index = 0\n",
    "result = 0\n",
    "\n",
    "while len(document) - index >= len(word):\n",
    "    if document[index:index + len(word)] == word: # 문서에서 보고 있는 단어가 찾고자 하는 단어인 경우\n",
    "        result += 1\n",
    "        index += len(word)\n",
    "    else:\n",
    "        index += 1\n",
    "print(result)\n",
    "\n",
    "# 아 내가 푼게 선생님 영향을 받은 풀이였네"
   ]
  },
  {
   "cell_type": "code",
   "execution_count": null,
   "metadata": {},
   "outputs": [],
   "source": []
  },
  {
   "cell_type": "code",
   "execution_count": 8,
   "metadata": {},
   "outputs": [
    {
     "name": "stdout",
     "output_type": "stream",
     "text": [
      "14\n",
      "7\n"
     ]
    }
   ],
   "source": [
    "# https://www.acmicpc.net/problem/1568\n",
    "\n",
    "n = int(input())\n",
    "count = 0\n",
    "k = 1\n",
    "\n",
    "while n>0:\n",
    "    if n>=k:\n",
    "        n -= k\n",
    "        k += 1\n",
    "        count += 1\n",
    "    else:\n",
    "        k=1\n",
    "    \n",
    "print(count)\n",
    "\n",
    "# 첫 트랑 똑같이 품"
   ]
  },
  {
   "cell_type": "code",
   "execution_count": 11,
   "metadata": {},
   "outputs": [
    {
     "name": "stdout",
     "output_type": "stream",
     "text": [
      "14\n",
      "7\n"
     ]
    }
   ],
   "source": [
    "n = int(input())\n",
    "count = 0\n",
    "\n",
    "while n>0:\n",
    "    k=1\n",
    "    while n>=k*(k+1)/2:\n",
    "        k+=1\n",
    "    k-=1 # while 깨치기 전 값으로\n",
    "    n-=k*(k+1)/2\n",
    "    count+=k\n",
    "    \n",
    "print(count)"
   ]
  },
  {
   "cell_type": "code",
   "execution_count": 21,
   "metadata": {},
   "outputs": [
    {
     "name": "stdout",
     "output_type": "stream",
     "text": [
      "5\n",
      "2\n",
      "2\n",
      "3\n",
      "1\n",
      "1\n",
      "1\n"
     ]
    }
   ],
   "source": [
    "# https://www.acmicpc.net/problem/1302\n",
    "\n",
    "dic = {}\n",
    "\n",
    "n = int(input())\n",
    "\n",
    "for _ in range(n):\n",
    "    book = input()\n",
    "    if book in dic:\n",
    "        dic[book]+=1\n",
    "    else:\n",
    "        dic[book]=1\n",
    "    \n",
    "maximum = max(dic.values())\n",
    "\n",
    "for key in sorted(dic):\n",
    "    if dic[key]==maximum:\n",
    "        print(key)\n",
    "        break\n",
    "        \n",
    "# 첫트 풀이가 더 좋다. - sorted(dic, key=lambda x:(-dic[x], x)) 이부분이"
   ]
  },
  {
   "cell_type": "code",
   "execution_count": 23,
   "metadata": {},
   "outputs": [
    {
     "name": "stdout",
     "output_type": "stream",
     "text": [
      "6\n",
      "b\n",
      "b\n",
      "a\n",
      "c\n",
      "a\n",
      "e\n",
      "a\n"
     ]
    }
   ],
   "source": [
    "# 첫트를 조금 업그레이드 시킴.\n",
    "\n",
    "n = int(input())\n",
    "dic = {}\n",
    "for _ in range(n):\n",
    "    name = input()\n",
    "    if name in dic:\n",
    "        dic[name]+=1\n",
    "    else:\n",
    "        dic[name]=1\n",
    "        \n",
    "print(sorted(dic, key=lambda x:(-dic[x], x))[0])"
   ]
  },
  {
   "cell_type": "code",
   "execution_count": 18,
   "metadata": {},
   "outputs": [
    {
     "data": {
      "text/plain": [
       "['a', 'b']"
      ]
     },
     "execution_count": 18,
     "metadata": {},
     "output_type": "execute_result"
    }
   ],
   "source": [
    "sorted(dic)"
   ]
  },
  {
   "cell_type": "code",
   "execution_count": null,
   "metadata": {},
   "outputs": [],
   "source": []
  }
 ],
 "metadata": {
  "kernelspec": {
   "display_name": "Python 3",
   "language": "python",
   "name": "python3"
  },
  "language_info": {
   "codemirror_mode": {
    "name": "ipython",
    "version": 3
   },
   "file_extension": ".py",
   "mimetype": "text/x-python",
   "name": "python",
   "nbconvert_exporter": "python",
   "pygments_lexer": "ipython3",
   "version": "3.7.1"
  }
 },
 "nbformat": 4,
 "nbformat_minor": 2
}
