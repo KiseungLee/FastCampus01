{
 "cells": [
  {
   "cell_type": "code",
   "execution_count": 2,
   "metadata": {},
   "outputs": [
    {
     "name": "stdout",
     "output_type": "stream",
     "text": [
      "ACAYKP\n",
      "CAPCAK\n",
      "4\n"
     ]
    }
   ],
   "source": [
    "# acmicpc.net/problem/9251\n",
    "\n",
    "str1 = input()\n",
    "str2 = input()\n",
    "\n",
    "arr = [[0]*len(str1) for _ in range(len(str2))]\n",
    "\n",
    "for i in range(len(str1)):\n",
    "    for j in range(len(str2)):\n",
    "        if str2[j]==str1[i]:\n",
    "            arr[j][i] = 1 if j-1<0 or i-1<0 else arr[j-1][i-1]+1\n",
    "        else:\n",
    "            arr[j][i] = max(arr[j-1][i], arr[j][i-1])\n",
    "            \n",
    "print(arr[-1][-1])\n",
    "\n",
    "# 와 코드 쓰는데 3분, 1트 성공"
   ]
  },
  {
   "cell_type": "code",
   "execution_count": null,
   "metadata": {},
   "outputs": [],
   "source": [
    "# 선생님\n",
    "\n",
    "x= input()\n",
    "y= input()\n",
    "\n",
    "############################################# -> 테이블에 공집합 자리 하나 만들어서 컨트롤 하기 편하게 함.\n",
    "dp = [[0]*(len(y)+1) for _ in range(len(x)+1)] \n",
    "############################################# -> 공집합 안쓰면 arr[j-1] arr[i-1]에서 인덱스 벗어나지 않게 분기처리 해줘야됨\n",
    "\n",
    "for i in range(1, len(x)+1):\n",
    "    for j in range(1, len(y)+1):\n",
    "        if x[i-1] == y[j-1]:\n",
    "            dp[i][j] = dp[i-1][j-1]+1\n",
    "        else:\n",
    "            dp[i][j] = max(dp[i][j-1], dp[i-1][j])\n",
    "            \n",
    "print(dp[len(x)][len(y)])"
   ]
  },
  {
   "cell_type": "code",
   "execution_count": null,
   "metadata": {},
   "outputs": [],
   "source": []
  },
  {
   "cell_type": "code",
   "execution_count": 13,
   "metadata": {},
   "outputs": [
    {
     "name": "stdout",
     "output_type": "stream",
     "text": [
      "3 5 10\n",
      "5 3 7\n",
      "5\n",
      "{5}\n",
      "{0, 10}\n",
      "3\n",
      "{0, 10}\n",
      "{3, 7}\n",
      "7\n",
      "{3, 7}\n",
      "{0, 10}\n",
      "10\n"
     ]
    }
   ],
   "source": [
    "# acmicpc.net/problem/1495\n",
    "\n",
    "n, s, m = map(int, input().split())\n",
    "\n",
    "arr = list(map(int, input().split()))\n",
    "\n",
    "set1 = set()\n",
    "set2 = set()\n",
    "\n",
    "set1.add(s)\n",
    "error = False\n",
    "while arr:\n",
    "    now = arr.pop(0)\n",
    "    for i in set1:\n",
    "        if i-now >= 0:\n",
    "            set2.add(i-now)\n",
    "        if i+now <= m:\n",
    "            set2.add(i+now)\n",
    "    if len(set2)==0:\n",
    "        error = True\n",
    "    set1 = set2\n",
    "    set2 = set()\n",
    "\n",
    "print(-1 if error else max(set1))\n",
    "\n",
    "# 반례가 뭘까.. \n",
    "# 아 숨박꼭질 문제랑 헷갈려서 +, -에다가 *2 까지 넣었음 ㅋㅋ\n",
    "# 근데 이 풀이가 선생님 풀이보다 나은거 같은데"
   ]
  },
  {
   "cell_type": "code",
   "execution_count": null,
   "metadata": {},
   "outputs": [],
   "source": [
    "# 선생님\n",
    "\n",
    "# 이 아디이어는 최대볼륨x곡갯수 로 이중배열 만들고\n",
    "# 현재 볼륨 -> True\n",
    "# 다음 곡에선 -> 이전에 True 였던거 +- 볼륨 에대가 True 표시\n",
    "\n",
    "n, s, m = map(int, input().split())\n",
    "array = list(map(int, input().split()))\n",
    "\n",
    "dp = [[0]*(m+1) for _ in ragne(n+1)]\n",
    "dp[0][s] = 1\n",
    "\n",
    "for i in range(1, n+1):\n",
    "    for j in range(m+1):\n",
    "        if dp[i-1][j] == 0: # False인 곳은 패스\n",
    "            continue\n",
    "        if j-array[i-1] >= 0:\n",
    "            dp[i][j-array[i-1]] = 1 # 볼륨 뺀거\n",
    "        if j+array[i-1] <= m:\n",
    "            dp[i][j+array[i-1]] = 1 # 볼륨 더한거\n",
    "            \n",
    "result = -1\n",
    "\n",
    "for i in range(m, -1, -1):\n",
    "    if dp[n][i] == 1:\n",
    "         result = i\n",
    "            break\n",
    "            \n",
    "print(result)"
   ]
  },
  {
   "cell_type": "code",
   "execution_count": null,
   "metadata": {},
   "outputs": [],
   "source": []
  },
  {
   "cell_type": "code",
   "execution_count": null,
   "metadata": {},
   "outputs": [],
   "source": [
    "# acmicpc.net/problem/2655"
   ]
  }
 ],
 "metadata": {
  "kernelspec": {
   "display_name": "Python 3",
   "language": "python",
   "name": "python3"
  },
  "language_info": {
   "codemirror_mode": {
    "name": "ipython",
    "version": 3
   },
   "file_extension": ".py",
   "mimetype": "text/x-python",
   "name": "python",
   "nbconvert_exporter": "python",
   "pygments_lexer": "ipython3",
   "version": "3.7.1"
  }
 },
 "nbformat": 4,
 "nbformat_minor": 2
}
