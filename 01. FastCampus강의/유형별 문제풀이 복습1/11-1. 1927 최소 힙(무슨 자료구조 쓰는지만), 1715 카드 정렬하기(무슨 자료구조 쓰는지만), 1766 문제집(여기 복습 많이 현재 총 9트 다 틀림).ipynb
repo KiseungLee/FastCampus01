{
 "cells": [
  {
   "cell_type": "code",
   "execution_count": 10,
   "metadata": {},
   "outputs": [
    {
     "name": "stdout",
     "output_type": "stream",
     "text": [
      "1\n",
      "1\n"
     ]
    }
   ],
   "source": [
    "# https://www.acmicpc.net/problem/1927\n",
    "\n",
    "import heapq\n",
    "import sys\n",
    "\n",
    "arr = []\n",
    "\n",
    "n = int(input())\n",
    "\n",
    "for _ in range(n):\n",
    "    # m = int(sys.stdin.readline())\n",
    "    m = int(input())\n",
    "    if m==0:\n",
    "        if arr:\n",
    "            print(heapq.heappop(arr))\n",
    "        else:\n",
    "            print(0)\n",
    "    else:\n",
    "        heapq.heappush(arr, m)"
   ]
  },
  {
   "cell_type": "code",
   "execution_count": 13,
   "metadata": {},
   "outputs": [
    {
     "name": "stdout",
     "output_type": "stream",
     "text": [
      "3\n",
      "10\n",
      "20\n",
      "40\n",
      "100\n"
     ]
    }
   ],
   "source": [
    "# https://www.acmicpc.net/problem/1715\n",
    "\n",
    "import heapq\n",
    "\n",
    "arr = []\n",
    "\n",
    "n = int(input())\n",
    "\n",
    "for _ in range(n):\n",
    "    heapq.heappush(arr, int(input()))\n",
    "\n",
    "result = 0\n",
    "while len(arr)>1:\n",
    "    a = heapq.heappop(arr)\n",
    "    b = heapq.heappop(arr)\n",
    "    result += a\n",
    "    result += b\n",
    "    heapq.heappush(arr, a+b)\n",
    "    \n",
    "print(result)"
   ]
  },
  {
   "cell_type": "code",
   "execution_count": 26,
   "metadata": {},
   "outputs": [
    {
     "name": "stdout",
     "output_type": "stream",
     "text": [
      "7 3\n",
      "7 3\n",
      "3 1\n",
      "4 2\n",
      "7 3 1 4 2 5 6 "
     ]
    }
   ],
   "source": [
    "# https://www.acmicpc.net/problem/1766\n",
    "\n",
    "dic = {}\n",
    "n, m = map(int, input().split())\n",
    "\n",
    "for _ in range(m):\n",
    "    a, b = map(int, input().split())\n",
    "    dic[b] = a\n",
    "    \n",
    "arr = []\n",
    "\n",
    "def func(value):\n",
    "    if value in dic:\n",
    "        func(dic[value])\n",
    "    if value not in arr:\n",
    "        arr.append(value)\n",
    "        \n",
    "for i in range(1, n+1):\n",
    "    func(i)\n",
    "\n",
    "for i in arr:\n",
    "    print(i, end=' ')"
   ]
  },
  {
   "cell_type": "code",
   "execution_count": 32,
   "metadata": {},
   "outputs": [
    {
     "name": "stdout",
     "output_type": "stream",
     "text": [
      "4 4\n",
      "4 1\n",
      "1 3\n",
      "1 2\n",
      "4 2\n",
      "3 4 2 "
     ]
    }
   ],
   "source": [
    "# https://www.acmicpc.net/problem/1766\n",
    "\n",
    "dic = {}\n",
    "dic2 = {}\n",
    "n, m = map(int, input().split())\n",
    "\n",
    "for _ in range(m):\n",
    "    a, b = map(int, input().split())\n",
    "    dic[b] = a\n",
    "    dic2[a] = b\n",
    "    \n",
    "arr = []\n",
    "\n",
    "for i in range(1, n+1):\n",
    "    if i in dic and dic[i] > i:\n",
    "        continue\n",
    "    else:\n",
    "        now = i\n",
    "        temp = [i]\n",
    "        while now in dic2:\n",
    "            now = dic2[now]\n",
    "            temp.append(now)\n",
    "        arr.extend(temp)\n",
    "        \n",
    "for i in arr:\n",
    "    print(i, end=' ')"
   ]
  },
  {
   "cell_type": "code",
   "execution_count": 77,
   "metadata": {},
   "outputs": [
    {
     "name": "stdout",
     "output_type": "stream",
     "text": [
      "7 3\n",
      "7 3\n",
      "3 1\n",
      "4 2\n"
     ]
    }
   ],
   "source": [
    "# 선생님\n",
    "\n",
    "# 위상정렬 문제임\n",
    "\n",
    "# 위상정렬은 일단 순서가 정해진 작업을 차례대로 수행하고 순서를 결정할때 씀.\n",
    "# 노드수 N, 간선수 E일때 O(V+E)로 풀 수 있음. \n",
    "\n",
    "# 일단 기본 위상정렬을 쓰려면 조건이 있음.\n",
    "# 순환 안돌아야되고 최초 진입점이 존재 해야 함.\n",
    "\n",
    "# 일단 문제의 풀이 과정을 보자\n",
    "\n",
    "import heapq\n",
    "\n",
    "n, m = map(int, input().split())\n",
    "\n",
    "key_easy = {} # key=쉬운문제 value = [쉬운문제로 풀리는 문제들]\n",
    "indegree = [0]*(n+1) # 간선의 갯수를 기록할 배열\n",
    "\n",
    "for _ in range(m):\n",
    "    easy, hard = map(int, input().split())\n",
    "    if easy in key_easy:\n",
    "        heapq.heappush(key_easy[easy], hard)\n",
    "    else:\n",
    "        key_easy[easy] = [hard]\n",
    "    indegree[hard]+=1 # 화살표를 받은쪽은 간선을 증가시켜줌"
   ]
  },
  {
   "cell_type": "code",
   "execution_count": 78,
   "metadata": {},
   "outputs": [],
   "source": [
    "arr = []\n",
    "for i in range(1, n+1):\n",
    "    if indegree[i]==0:\n",
    "        arr.append(i)"
   ]
  },
  {
   "cell_type": "code",
   "execution_count": 79,
   "metadata": {},
   "outputs": [
    {
     "name": "stdout",
     "output_type": "stream",
     "text": [
      "4 2 5 6 7 3 1 "
     ]
    }
   ],
   "source": [
    "result = []\n",
    "while arr:\n",
    "    now = arr.pop(0)\n",
    "    result.append(now)\n",
    "    if now in key_easy:\n",
    "        for i in sorted(key_easy[now]):\n",
    "            indegree[i]-=1\n",
    "            if indegree[i]==0:\n",
    "                arr.insert(0, i)\n",
    "                \n",
    "for i in result:\n",
    "    print(i, end=' ')\n",
    "    \n",
    "# 대충 푸는 구조는 알았는데도 계속 틀리네 쉬벌"
   ]
  },
  {
   "cell_type": "code",
   "execution_count": null,
   "metadata": {},
   "outputs": [],
   "source": []
  }
 ],
 "metadata": {
  "kernelspec": {
   "display_name": "Python 3",
   "language": "python",
   "name": "python3"
  },
  "language_info": {
   "codemirror_mode": {
    "name": "ipython",
    "version": 3
   },
   "file_extension": ".py",
   "mimetype": "text/x-python",
   "name": "python",
   "nbconvert_exporter": "python",
   "pygments_lexer": "ipython3",
   "version": "3.7.1"
  }
 },
 "nbformat": 4,
 "nbformat_minor": 2
}
