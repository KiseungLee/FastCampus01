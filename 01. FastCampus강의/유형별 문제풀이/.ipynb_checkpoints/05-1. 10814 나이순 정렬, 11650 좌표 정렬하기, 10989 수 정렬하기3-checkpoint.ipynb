{
 "cells": [
  {
   "cell_type": "code",
   "execution_count": 17,
   "metadata": {},
   "outputs": [
    {
     "name": "stdout",
     "output_type": "stream",
     "text": [
      "3\n",
      "21 Jun\n",
      "21 Dong\n",
      "20 Ju\n",
      "20 Ju\n",
      "21 Jun\n",
      "21 Dong\n"
     ]
    }
   ],
   "source": [
    "# https://www.acmicpc.net/problem/10814\n",
    "\n",
    "n = int(input())\n",
    "l = []\n",
    "for _ in range(n):\n",
    "    age, name = list(map(str, input().split(' ')))\n",
    "    l.append((int(age), name))\n",
    "\n",
    "l = sorted(l, key=lambda i: i[0])\n",
    "\n",
    "for i in l:\n",
    "    print(i[0], i[1])"
   ]
  },
  {
   "cell_type": "code",
   "execution_count": null,
   "metadata": {},
   "outputs": [],
   "source": [
    "# 선생님\n",
    "\n",
    "# 굉장히 베이직하지만 굉징히 많이 쓰이는 문제\n",
    "# 파이썬 정렬방법\n",
    "# list.sort()\n",
    "# sorted(list) -> 정렬한 list를 리턴함. key 속성을 다루기 쉬워 이거 많이 씀.\n",
    "#                 key 속성으로 건든거를 제외한건 stable 한 속성을 갖음 (다른 거로는 정렬 안함. 원래 순서대로.)\n",
    "\n",
    "n = int(input())\n",
    "array = []\n",
    "\n",
    "for _ in range(n):\n",
    "    input_data = input().split(' ')\n",
    "    array.append((int(input_data[0]), input_data[1]))\n",
    "\n",
    "array = sorted(array, key=lambda x: x[0])\n",
    "\n",
    "for i in array:\n",
    "    print(i[0], i[1])"
   ]
  },
  {
   "cell_type": "code",
   "execution_count": 22,
   "metadata": {},
   "outputs": [
    {
     "name": "stdout",
     "output_type": "stream",
     "text": [
      "5\n",
      "3 4\n",
      "1 1\n",
      "1 -1\n",
      "2 2\n",
      "3 3\n",
      "1 -1\n",
      "1 1\n",
      "2 2\n",
      "3 3\n",
      "3 4\n"
     ]
    }
   ],
   "source": [
    "# https://www.acmicpc.net/problem/11650\n",
    "\n",
    "n = int(input())\n",
    "array = []\n",
    "\n",
    "for _ in range(n):\n",
    "    x, y = list(map(int, input().split(' ')))\n",
    "    array.append((x, y))\n",
    "\n",
    "# 다중 조건으로 정렬할 땐 이렇게 해주면 됨. 인자 순서대로 만들어줌\n",
    "array = sorted(array, key=lambda k:(k[0], k[1]))\n",
    "\n",
    "for i in array:\n",
    "    print(i[0], i[1])"
   ]
  },
  {
   "cell_type": "code",
   "execution_count": null,
   "metadata": {},
   "outputs": [],
   "source": [
    "# 선생님\n",
    "\n",
    "n = int(input())\n",
    "array = []\n",
    "\n",
    "for _ in range(n):\n",
    "    x, y = map(int, input().split(' '))\n",
    "    array.append((x, y))\n",
    "\n",
    "array = sorted(array)  ## 사실 key를 안주면 튜플의 인덱스 순서대로 알아서 정렬해줌. 아 뻘쭘쓰...\n",
    "\n",
    "for i in array:\n",
    "    print(i[0], i[1])"
   ]
  },
  {
   "cell_type": "code",
   "execution_count": 23,
   "metadata": {},
   "outputs": [
    {
     "name": "stdout",
     "output_type": "stream",
     "text": [
      "10\n",
      "5\n",
      "2\n",
      "3\n",
      "1\n",
      "4\n",
      "2\n",
      "3\n",
      "5\n",
      "1\n",
      "7\n",
      "1\n",
      "1\n",
      "2\n",
      "2\n",
      "3\n",
      "3\n",
      "4\n",
      "5\n",
      "5\n",
      "7\n"
     ]
    }
   ],
   "source": [
    "# https://www.acmicpc.net/problem/10989\n",
    "\n",
    "n = int(input())\n",
    "array = []\n",
    "for _ in range(n):\n",
    "    array.append(int(input()))\n",
    "    \n",
    "# array.sort()\n",
    "array = sorted(array)\n",
    "\n",
    "for i in array:\n",
    "    print(i)\n",
    "\n",
    "# 이건 이렇게 풀면 메모리 초과뜬다.\n",
    "# 데이터 갯수가 1000만개 까지 나올 수 있음.\n",
    "# 이걸 파이썬으로 기본 정렬 쓰면 메모리 초과, 시간 오래걸림.\n",
    "# 대신 문제를 잘보면 수가 10,000 이하 자연수임.\n",
    "# 데이터가 많은데 좁은 범위인거다. 이럴때 쓰는 정렬 알고리즘이 있음."
   ]
  },
  {
   "cell_type": "code",
   "execution_count": 39,
   "metadata": {},
   "outputs": [
    {
     "name": "stdout",
     "output_type": "stream",
     "text": [
      "10\n",
      "5\n",
      "4\n",
      "1\n",
      "3\n",
      "1\n",
      "5\n",
      "4\n",
      "8\n",
      "9\n",
      "1\n",
      "[1, 3, 4, 5, 8, 9]\n",
      "{5: 2, 4: 2, 1: 3, 3: 1, 8: 1, 9: 1}\n",
      "1\n",
      "1\n",
      "1\n",
      "3\n",
      "4\n",
      "4\n",
      "5\n",
      "5\n",
      "8\n",
      "9\n"
     ]
    }
   ],
   "source": [
    "n = int(input())\n",
    "array = []\n",
    "dic = dict()\n",
    "\n",
    "for _ in range(n):\n",
    "    num = int(input())\n",
    "    if dic.get(num)==None:\n",
    "        array.append(num)\n",
    "        dic[num] = 1\n",
    "    else:\n",
    "        dic[num] = dic[num]+1\n",
    "\n",
    "array.sort()\n",
    "\n",
    "for i in array:\n",
    "    for j in range(dic[i]):\n",
    "        print(i)\n",
    "\n",
    "# 메모리 줄일려고 배열엔 유니크 값만 넣고 \n",
    "# 딕셔너리로 횟수 카운팅 했는데 이건 또 시간초과네 \n",
    "# 입력 받는거 sys.stdin.readline() 로 바꿔도 시간초과 뜸"
   ]
  },
  {
   "cell_type": "code",
   "execution_count": null,
   "metadata": {},
   "outputs": [],
   "source": [
    "# 선생님\n",
    "\n",
    "# 수의 범위가 좁을땐 계수정렬을 쓰면 된다.\n",
    "# Counting Sort\n",
    "# 배열의 인덱스를 특정한 데이터 값으로 여기는 정렬 방법.\n",
    "# 10000짜리 배열 만들어 놓고 나올때마다 거기 해당하는 카운트를 올려주면 됨\n",
    "\n",
    "# 이문젠 제출할때 PyPy3 쓰면 메모리 초과남\n",
    "\n",
    "import sys\n",
    "\n",
    "n = int(sys.stdin.readline()) ###### 받을 데이터가 많을땐 이렇게 ######\n",
    "array = [0] * 10001  # 배열 큰거 만들 땐 이렇게\n",
    "\n",
    "for i in range(n):\n",
    "    data = int(sys.stdin.readline())\n",
    "    array[data] += 1\n",
    "\n",
    "for i in range(10001):\n",
    "    if array[i] != 0:\n",
    "        for j in range(array[i]):\n",
    "            print(i)"
   ]
  }
 ],
 "metadata": {
  "kernelspec": {
   "display_name": "Python 3",
   "language": "python",
   "name": "python3"
  },
  "language_info": {
   "codemirror_mode": {
    "name": "ipython",
    "version": 3
   },
   "file_extension": ".py",
   "mimetype": "text/x-python",
   "name": "python",
   "nbconvert_exporter": "python",
   "pygments_lexer": "ipython3",
   "version": "3.7.4"
  }
 },
 "nbformat": 4,
 "nbformat_minor": 2
}
