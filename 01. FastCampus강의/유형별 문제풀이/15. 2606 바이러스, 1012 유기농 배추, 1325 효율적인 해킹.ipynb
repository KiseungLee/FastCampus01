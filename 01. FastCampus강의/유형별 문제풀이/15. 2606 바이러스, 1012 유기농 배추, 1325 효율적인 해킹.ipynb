{
 "cells": [
  {
   "cell_type": "code",
   "execution_count": 9,
   "metadata": {},
   "outputs": [
    {
     "name": "stdout",
     "output_type": "stream",
     "text": [
      "7\n",
      "6\n"
     ]
    }
   ],
   "source": [
    "# acmicpc.net/problem/2606 바이러스\n",
    "\n",
    "com = int(input())\n",
    "net = int(input())"
   ]
  },
  {
   "cell_type": "code",
   "execution_count": 10,
   "metadata": {},
   "outputs": [],
   "source": [
    "array = [[0] for _ in range(com+1)]"
   ]
  },
  {
   "cell_type": "code",
   "execution_count": 12,
   "metadata": {},
   "outputs": [
    {
     "name": "stdout",
     "output_type": "stream",
     "text": [
      "1 2\n",
      "2 3\n",
      "1 5\n",
      "5 2\n",
      "5 6\n",
      "4 7\n"
     ]
    }
   ],
   "source": [
    "for _ in range(net):\n",
    "    a, b = map(int, input().split())\n",
    "    array[a].append(b)\n",
    "    array[b].append(a)"
   ]
  },
  {
   "cell_type": "code",
   "execution_count": 14,
   "metadata": {},
   "outputs": [],
   "source": [
    "def bfs(value):\n",
    "    if value not in visited:\n",
    "        visited.append(value)\n",
    "        for i in array[value]:\n",
    "            bfs(i)"
   ]
  },
  {
   "cell_type": "code",
   "execution_count": 19,
   "metadata": {},
   "outputs": [],
   "source": [
    "visited = []\n",
    "bfs(1)"
   ]
  },
  {
   "cell_type": "code",
   "execution_count": 20,
   "metadata": {},
   "outputs": [
    {
     "name": "stdout",
     "output_type": "stream",
     "text": [
      "1\n"
     ]
    }
   ],
   "source": [
    "print(len(visited)-2) # -1은 0번 컴퓨터, -1은 자기 자신\n",
    "\n",
    "# 응 10분 컷~"
   ]
  },
  {
   "cell_type": "code",
   "execution_count": 1,
   "metadata": {},
   "outputs": [
    {
     "name": "stdout",
     "output_type": "stream",
     "text": [
      "7\n",
      "6\n",
      "1 2\n",
      "2 3\n",
      "1 5\n",
      "5 2\n",
      "5 6\n",
      "4 7\n",
      "4\n"
     ]
    }
   ],
   "source": [
    "# 선생님\n",
    "\n",
    "# 이건 쉬운문제 DFS, BFS 아무거나 써도 됨. \n",
    "\n",
    "# 연결된 모든 노드의 갯수만 구하면 되는거여서 DFS, BFS 둘중 아무거나 써도 됨.\n",
    "\n",
    "# 정점의 수가 적으므로 DFS를 이용해 푸는게 유리함.\n",
    "\n",
    "# DFS, BFS 모두 쓸 수 있을때 BFS를 주로 사용함. 왜냐면 재귀 호출하는데 더 무리가 덜 가기 때문에\n",
    "# 대신 DFS는 구현이 더 쉬움.\n",
    "\n",
    "n = int(input())\n",
    "m = int(input())\n",
    "\n",
    "adj = [[] for _ in range(n+1)]\n",
    "\n",
    "visited = [False] * (n+1)\n",
    "\n",
    "count = 0\n",
    "\n",
    "for _ in range(m):\n",
    "    x, y = map(int, input().split())\n",
    "    adj[x].append(y)\n",
    "    adj[y].append(x)\n",
    "    \n",
    "def dfs(now_pos):\n",
    "    global count\n",
    "    count += 1\n",
    "    visited[now_pos] = True\n",
    "    for next_pos in adj[now_pos]:\n",
    "        if not visited[next_pos]:\n",
    "            dfs(next_pos)\n",
    "            \n",
    "dfs(1)\n",
    "\n",
    "print(count-1)"
   ]
  },
  {
   "cell_type": "code",
   "execution_count": null,
   "metadata": {},
   "outputs": [],
   "source": []
  },
  {
   "cell_type": "code",
   "execution_count": 2,
   "metadata": {},
   "outputs": [],
   "source": [
    "# acmicpc.net/problem/1012 유기농 배추"
   ]
  },
  {
   "cell_type": "code",
   "execution_count": 22,
   "metadata": {},
   "outputs": [
    {
     "name": "stdout",
     "output_type": "stream",
     "text": [
      "1\n"
     ]
    }
   ],
   "source": [
    "T = int(input())"
   ]
  },
  {
   "cell_type": "code",
   "execution_count": 23,
   "metadata": {},
   "outputs": [
    {
     "name": "stdout",
     "output_type": "stream",
     "text": [
      "10 8 17\n"
     ]
    }
   ],
   "source": [
    "m,n,k = map(int, input().split())"
   ]
  },
  {
   "cell_type": "code",
   "execution_count": 29,
   "metadata": {},
   "outputs": [],
   "source": [
    "array = [[0]*m for _ in range(n)]"
   ]
  },
  {
   "cell_type": "code",
   "execution_count": 30,
   "metadata": {},
   "outputs": [
    {
     "data": {
      "text/plain": [
       "[[0, 0, 0, 0, 0, 0, 0, 0, 0, 0],\n",
       " [0, 0, 0, 0, 0, 0, 0, 0, 0, 0],\n",
       " [0, 0, 0, 0, 0, 0, 0, 0, 0, 0],\n",
       " [0, 0, 0, 0, 0, 0, 0, 0, 0, 0],\n",
       " [0, 0, 0, 0, 0, 0, 0, 0, 0, 0],\n",
       " [0, 0, 0, 0, 0, 0, 0, 0, 0, 0],\n",
       " [0, 0, 0, 0, 0, 0, 0, 0, 0, 0],\n",
       " [0, 0, 0, 0, 0, 0, 0, 0, 0, 0]]"
      ]
     },
     "execution_count": 30,
     "metadata": {},
     "output_type": "execute_result"
    }
   ],
   "source": [
    "array"
   ]
  },
  {
   "cell_type": "code",
   "execution_count": 31,
   "metadata": {},
   "outputs": [
    {
     "name": "stdout",
     "output_type": "stream",
     "text": [
      "0 0\n",
      "1 0\n",
      "1 1\n",
      "4 2\n",
      "4 3\n",
      "4 5\n",
      "2 4\n",
      "3 4\n",
      "7 4\n",
      "8 4\n",
      "9 4\n",
      "7 5\n",
      "8 5\n",
      "9 5\n",
      "7 6\n",
      "8 6\n",
      "9 6\n"
     ]
    }
   ],
   "source": [
    "for _ in range(k):\n",
    "    x, y = map(int, input().split())\n",
    "    array[y][x] = 1"
   ]
  },
  {
   "cell_type": "code",
   "execution_count": 50,
   "metadata": {},
   "outputs": [
    {
     "data": {
      "text/plain": [
       "[[1, 1, 0, 0, 0, 0, 0, 0, 0, 0],\n",
       " [0, 1, 0, 0, 0, 0, 0, 0, 0, 0],\n",
       " [0, 0, 0, 0, 1, 0, 0, 0, 0, 0],\n",
       " [0, 0, 0, 0, 1, 0, 0, 0, 0, 0],\n",
       " [0, 0, 1, 1, 0, 0, 0, 1, 1, 1],\n",
       " [0, 0, 0, 0, 1, 0, 0, 1, 1, 1],\n",
       " [0, 0, 0, 0, 0, 0, 0, 1, 1, 1],\n",
       " [0, 0, 0, 0, 0, 0, 0, 0, 0, 0]]"
      ]
     },
     "execution_count": 50,
     "metadata": {},
     "output_type": "execute_result"
    }
   ],
   "source": [
    "array"
   ]
  },
  {
   "cell_type": "code",
   "execution_count": 87,
   "metadata": {},
   "outputs": [],
   "source": [
    "visited = []\n",
    "count = 0"
   ]
  },
  {
   "cell_type": "code",
   "execution_count": 88,
   "metadata": {},
   "outputs": [
    {
     "name": "stdout",
     "output_type": "stream",
     "text": [
      "before count up, visited:  [(0, 0), (1, 0)]\n",
      "before count up, visited:  [(0, 0), (1, 0), (1, 1)]\n",
      "before count up, visited:  [(0, 0), (1, 0), (1, 1), (2, 4), (3, 4)]\n",
      "before count up, visited:  [(0, 0), (1, 0), (1, 1), (2, 4), (3, 4), (4, 2), (4, 3)]\n",
      "before count up, visited:  [(0, 0), (1, 0), (1, 1), (2, 4), (3, 4), (4, 2), (4, 3), (4, 5)]\n",
      "before count up, visited:  [(0, 0), (1, 0), (1, 1), (2, 4), (3, 4), (4, 2), (4, 3), (4, 5), (7, 4), (8, 4), (7, 5)]\n",
      "before count up, visited:  [(0, 0), (1, 0), (1, 1), (2, 4), (3, 4), (4, 2), (4, 3), (4, 5), (7, 4), (8, 4), (7, 5), (7, 6), (8, 6)]\n",
      "before count up, visited:  [(0, 0), (1, 0), (1, 1), (2, 4), (3, 4), (4, 2), (4, 3), (4, 5), (7, 4), (8, 4), (7, 5), (7, 6), (8, 6), (8, 5), (9, 5)]\n",
      "before count up, visited:  [(0, 0), (1, 0), (1, 1), (2, 4), (3, 4), (4, 2), (4, 3), (4, 5), (7, 4), (8, 4), (7, 5), (7, 6), (8, 6), (8, 5), (9, 5), (9, 4)]\n",
      "before count up, visited:  [(0, 0), (1, 0), (1, 1), (2, 4), (3, 4), (4, 2), (4, 3), (4, 5), (7, 4), (8, 4), (7, 5), (7, 6), (8, 6), (8, 5), (9, 5), (9, 4), (9, 6)]\n"
     ]
    }
   ],
   "source": [
    "for x in range(m):\n",
    "    for y in range(n):\n",
    "        if (x,y) not in visited and array[y][x]==1:\n",
    "            will_visit = [(x,y)]\n",
    "            while len(will_visit)>0:\n",
    "                now = will_visit.pop(0)\n",
    "                if now not in visited:\n",
    "                    if x-1>=0 and (x-1, y) not in visited and array[y][x-1]==1:\n",
    "                        will_visit.append((x-1, y))\n",
    "                    if x+1<=m-1 and (x+1, y) not in visited and array[y][x+1]==1:\n",
    "                        will_visit.append((x+1, y))\n",
    "                    if y-1 >= 0 and (x, y-1) not in visited and array[y-1][x]==1:\n",
    "                        will_visit.append((x, y-1))\n",
    "                    if y+1 <= n-1 and (x, y+1) not in visited and array[y+1][x]==1:\n",
    "                        will_visit.append((x, y+1))\n",
    "                    visited.append(now)\n",
    "            print(\"before count up, visited: \", visited)\n",
    "            count += 1\n",
    "            \n",
    "# 거의다 왔고 인덱스 조정만 좀 하면 될거 같은데... \n",
    "# 논리 잘 짜놓고 이런 세세한 디테일에서 시간 뺐기면 좀 안되지"
   ]
  },
  {
   "cell_type": "code",
   "execution_count": 81,
   "metadata": {},
   "outputs": [
    {
     "data": {
      "text/plain": [
       "10"
      ]
     },
     "execution_count": 81,
     "metadata": {},
     "output_type": "execute_result"
    }
   ],
   "source": [
    "count"
   ]
  },
  {
   "cell_type": "code",
   "execution_count": 2,
   "metadata": {},
   "outputs": [],
   "source": [
    "# 선생님\n",
    "\n",
    "# 이 문제도 쉬운문제. bfs, dfs 아무거나 써도 되는 문제\n",
    "\n",
    "# 이 문제는 연결 요소의 갯수를 세는 전형적인 문제중 하나임. \n",
    "\n",
    "# 모든 정점에 대해 DFS or BFS를 수행하고, 한번 방문한 정점은 다시 확인 x\n",
    "\n",
    "# 전체적으로 DFS or BFS를 수행한 총 횟수를 계산함.\n",
    "\n",
    "# 출제 비중이 높음.\n",
    "\n",
    "# DFS로 푸는 경우 sys라이브러리의 setrecursionlimit() 설정을 해줘야함. 재귀함수를 더 돌릴수 있게 재귀 스택 한계를 늘려주는 설정\n",
    "\n",
    "# 일단 문제 푸는 구조는 맞았는데 역시 세세한 구현에서 삑났네\n",
    "\n",
    "import sys\n",
    "sys.setrecursionlimit(1000000)\n",
    "\n",
    "def dfs(x, y):\n",
    "    visited[x][y] = True\n",
    "    directions = [(-1,0), (1,0), (0,-1), (0,1)] # 구현 하는 부분에서 클라스가 다르네\n",
    "    for dx, dy in directions:\n",
    "        nx, ny = x+dx, y+dy\n",
    "        if nx<0 or nx>=n or ny<0 or ny>=m:\n",
    "            continue\n",
    "        if array[nx][ny] and not visited[nx][ny]:\n",
    "            dfs(nx, ny)\n",
    "            \n",
    "for _ in range(int(input())):\n",
    "    m, n, k = map(int, input().split())\n",
    "    array = [[0]*m for _ in range(n)]\n",
    "    visited = [[False]*m for _ in range(n)]\n",
    "    \n",
    "    for _ in range(k):\n",
    "        y, x = map(int, input().split())\n",
    "        array[x][y] = 1\n",
    "    result = 0\n",
    "    for i in range(n):\n",
    "        for j in range(m):\n",
    "            if array[i][j] and not visited[i][j]:\n",
    "                dfs(i, j)\n",
    "                result += 1\n",
    "    print(result)"
   ]
  },
  {
   "cell_type": "code",
   "execution_count": null,
   "metadata": {},
   "outputs": [],
   "source": []
  },
  {
   "cell_type": "code",
   "execution_count": null,
   "metadata": {},
   "outputs": [],
   "source": []
  },
  {
   "cell_type": "code",
   "execution_count": 1,
   "metadata": {},
   "outputs": [
    {
     "name": "stdout",
     "output_type": "stream",
     "text": [
      "5 4\n"
     ]
    }
   ],
   "source": [
    "# acmicpc.net/problem/1325 효율적인 해킹\n",
    "\n",
    "n, m = map(int, input().split())"
   ]
  },
  {
   "cell_type": "code",
   "execution_count": 2,
   "metadata": {},
   "outputs": [],
   "source": [
    "trust_array = [[0] for _ in range(n+1)] "
   ]
  },
  {
   "cell_type": "code",
   "execution_count": 3,
   "metadata": {},
   "outputs": [
    {
     "data": {
      "text/plain": [
       "[[0], [0], [0], [0], [0], [0]]"
      ]
     },
     "execution_count": 3,
     "metadata": {},
     "output_type": "execute_result"
    }
   ],
   "source": [
    "trust_array"
   ]
  },
  {
   "cell_type": "code",
   "execution_count": 4,
   "metadata": {},
   "outputs": [
    {
     "name": "stdout",
     "output_type": "stream",
     "text": [
      "3 1\n",
      "3 2\n",
      "4 3\n",
      "5 3\n"
     ]
    }
   ],
   "source": [
    "for _ in range(m):\n",
    "    trust, be_trusted = map(int, input().split())\n",
    "    trust_array[be_trusted].append(trust)"
   ]
  },
  {
   "cell_type": "code",
   "execution_count": 21,
   "metadata": {},
   "outputs": [
    {
     "data": {
      "text/plain": [
       "[[0], [0, 3], [0, 3], [0, 4, 5], [0], [0]]"
      ]
     },
     "execution_count": 21,
     "metadata": {},
     "output_type": "execute_result"
    }
   ],
   "source": [
    "trust_array"
   ]
  },
  {
   "cell_type": "code",
   "execution_count": 6,
   "metadata": {},
   "outputs": [],
   "source": [
    "count_array = [0 for _ in range(n+1)]"
   ]
  },
  {
   "cell_type": "code",
   "execution_count": 22,
   "metadata": {},
   "outputs": [
    {
     "data": {
      "text/plain": [
       "[0, 5, 5, 4, 2, 2]"
      ]
     },
     "execution_count": 22,
     "metadata": {},
     "output_type": "execute_result"
    }
   ],
   "source": [
    "count_array"
   ]
  },
  {
   "cell_type": "code",
   "execution_count": 9,
   "metadata": {},
   "outputs": [],
   "source": [
    "# 잠시 폐기\n",
    "def bfs(v):\n",
    "    if v not in visited:\n",
    "        temp = trust_array[v]\n",
    "        visited.append(v)\n",
    "        for v2 in temp:\n",
    "            bfs(v2)"
   ]
  },
  {
   "cell_type": "code",
   "execution_count": 12,
   "metadata": {},
   "outputs": [],
   "source": [
    "# 잠시 폐기\n",
    "for i in range(1, n+1):\n",
    "    visited = []\n",
    "    bfs(i)\n",
    "    count_array[i] = len(visited)"
   ]
  },
  {
   "cell_type": "code",
   "execution_count": 13,
   "metadata": {},
   "outputs": [
    {
     "data": {
      "text/plain": [
       "[0, 5, 5, 4, 2, 2]"
      ]
     },
     "execution_count": 13,
     "metadata": {},
     "output_type": "execute_result"
    }
   ],
   "source": [
    "count_array"
   ]
  },
  {
   "cell_type": "code",
   "execution_count": 16,
   "metadata": {},
   "outputs": [
    {
     "data": {
      "text/plain": [
       "5"
      ]
     },
     "execution_count": 16,
     "metadata": {},
     "output_type": "execute_result"
    }
   ],
   "source": [
    "max_count = max(count_array)\n",
    "max_count"
   ]
  },
  {
   "cell_type": "code",
   "execution_count": 20,
   "metadata": {},
   "outputs": [
    {
     "name": "stdout",
     "output_type": "stream",
     "text": [
      "1 2 "
     ]
    }
   ],
   "source": [
    "for i in range(1, n+1):\n",
    "    if count_array[i] == max_count:\n",
    "        print(i, end=' ')\n",
    "        \n",
    "# 시간제한 5초짜리 문제에서 시간초과 떴다..\n",
    "# 역시 모든 요소에 대해 bfs를 한 번 도는게 오바였나.\n",
    "# 근본부터 고쳐야 되는데 이러면\n",
    "# bfs를 재귀 안쓰고 해보고 안되면 다음문제"
   ]
  },
  {
   "cell_type": "code",
   "execution_count": 23,
   "metadata": {},
   "outputs": [
    {
     "data": {
      "text/plain": [
       "[0, 0, 0, 0, 0, 0]"
      ]
     },
     "execution_count": 23,
     "metadata": {},
     "output_type": "execute_result"
    }
   ],
   "source": [
    "count_array = [0 for _ in range(n+1)]\n",
    "count_array"
   ]
  },
  {
   "cell_type": "code",
   "execution_count": 26,
   "metadata": {},
   "outputs": [],
   "source": [
    "for i in range(1, n+1):\n",
    "    root = i\n",
    "    visited = []\n",
    "    will_visit = [root]\n",
    "    while len(will_visit) > 0:\n",
    "        now = will_visit.pop(0)\n",
    "        if now not in visited:\n",
    "            visited.append(now)\n",
    "            temp = trust_array[now]\n",
    "            for j in temp:\n",
    "                will_visit.append(j)\n",
    "    count_array[i] = len(visited)"
   ]
  },
  {
   "cell_type": "code",
   "execution_count": 27,
   "metadata": {},
   "outputs": [
    {
     "data": {
      "text/plain": [
       "[0, 5, 5, 4, 2, 2]"
      ]
     },
     "execution_count": 27,
     "metadata": {},
     "output_type": "execute_result"
    }
   ],
   "source": [
    "count_array"
   ]
  },
  {
   "cell_type": "code",
   "execution_count": 28,
   "metadata": {},
   "outputs": [
    {
     "data": {
      "text/plain": [
       "5"
      ]
     },
     "execution_count": 28,
     "metadata": {},
     "output_type": "execute_result"
    }
   ],
   "source": [
    "max_count = max(count_array)\n",
    "max_count"
   ]
  },
  {
   "cell_type": "code",
   "execution_count": 29,
   "metadata": {},
   "outputs": [
    {
     "name": "stdout",
     "output_type": "stream",
     "text": [
      "1 2 "
     ]
    }
   ],
   "source": [
    "for i in range(1, n+1):\n",
    "    if count_array[i] == max_count:\n",
    "        print(i, end=' ')\n",
    "        \n",
    "# 재귀 안써도 시간초과"
   ]
  },
  {
   "cell_type": "code",
   "execution_count": 4,
   "metadata": {},
   "outputs": [
    {
     "name": "stdout",
     "output_type": "stream",
     "text": [
      "5 4\n",
      "3 1\n",
      "3 2\n",
      "4 3\n",
      "5 3\n",
      "2 "
     ]
    }
   ],
   "source": [
    "# 선생님\n",
    "\n",
    "# 이 문제역시 낮은 난이도으 ㅣ문제. BFS, DFS 아무거나 써도 됨\n",
    "\n",
    "# 아니 왜 문제 풀이 구조는 똑같은데 선새님은 시간초과 안뜨시지\n",
    "\n",
    "# 똑같이 모든 정점에대해 BFS 돌리고 그것들중 가장 큰 거 뽑아주는 같은 논리인데\n",
    "# deque 라이브러리를 써야되나.\n",
    "\n",
    "# 아니네 채점하니까 시간초과 떴네 ㅋㅋ\n",
    "\n",
    "# 선생님 PyPy3로 리트해봄 PyPy3는 특정 연산(정렬 같은)에서 일반 Python 보다 빠름. \n",
    "\n",
    "# BFS, DFS를 써야할지 말아야할지 문제에서 포인트를 잡는게 중요.\n",
    "\n",
    "# 오 PyPy3로 하니까 통과되네\n",
    "\n",
    "from collections import deque\n",
    "\n",
    "n, m = map(int, input().split())\n",
    "\n",
    "adj = [[] for _ in range(n+1)]\n",
    "\n",
    "for _ in range(m):\n",
    "    x, y = map(int, input().split())\n",
    "    adj[y].append(x)\n",
    "    \n",
    "def bfs(v):\n",
    "    q = deque([v])\n",
    "    visited = [False] * (n+1)\n",
    "    count = 1\n",
    "    while q:\n",
    "        v = q.popleft()\n",
    "        for e in adj[v]:\n",
    "            if not visited[e]:\n",
    "                q.append(e)\n",
    "                visited[e] = True\n",
    "                count += 1\n",
    "    return count\n",
    "\n",
    "result = []\n",
    "max_value = -1\n",
    "\n",
    "for i in range(1, n+1):\n",
    "    c = bfs(i)\n",
    "    if c > max_value:\n",
    "        max_value = c\n",
    "    elif c == max_value:\n",
    "        result.append(i)\n",
    "        max_value = c\n",
    "        \n",
    "for e in result:\n",
    "    print(e, end=' ')"
   ]
  },
  {
   "cell_type": "code",
   "execution_count": null,
   "metadata": {},
   "outputs": [],
   "source": []
  }
 ],
 "metadata": {
  "kernelspec": {
   "display_name": "Python 3",
   "language": "python",
   "name": "python3"
  },
  "language_info": {
   "codemirror_mode": {
    "name": "ipython",
    "version": 3
   },
   "file_extension": ".py",
   "mimetype": "text/x-python",
   "name": "python",
   "nbconvert_exporter": "python",
   "pygments_lexer": "ipython3",
   "version": "3.7.1"
  }
 },
 "nbformat": 4,
 "nbformat_minor": 2
}
