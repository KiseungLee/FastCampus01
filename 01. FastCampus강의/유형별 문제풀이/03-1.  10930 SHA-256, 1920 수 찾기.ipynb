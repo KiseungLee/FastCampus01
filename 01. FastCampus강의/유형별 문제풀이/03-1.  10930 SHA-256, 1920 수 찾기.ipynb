{
 "cells": [
  {
   "cell_type": "code",
   "execution_count": 7,
   "metadata": {},
   "outputs": [
    {
     "name": "stdout",
     "output_type": "stream",
     "text": [
      "baekjoon\n",
      "81483f013a021698d6b6d54147c4b3011e7025f376934e3d88994b32b82cfa65\n"
     ]
    }
   ],
   "source": [
    "# https://www.acmicpc.net/problem/10930\n",
    "import hashlib\n",
    "\n",
    "str = input()\n",
    "\n",
    "print((hashlib.sha256(str.encode())).hexdigest())\n",
    "\n",
    "# 이건 음.. 파이썬은 인텔리센스가 좀 안좋은거 같아."
   ]
  },
  {
   "cell_type": "code",
   "execution_count": null,
   "metadata": {},
   "outputs": [],
   "source": [
    "# 선생님 풀이\n",
    "import hashlib\n",
    "input_data = input()\n",
    "encoded_data = input_data.encode()\n",
    "result = hashlib.sha256(encoded_data).hexdigest()\n",
    "print(result)"
   ]
  },
  {
   "cell_type": "code",
   "execution_count": null,
   "metadata": {},
   "outputs": [],
   "source": []
  },
  {
   "cell_type": "code",
   "execution_count": 51,
   "metadata": {},
   "outputs": [
    {
     "name": "stdout",
     "output_type": "stream",
     "text": [
      "5\n",
      "4 1 5 2 3\n",
      "5\n",
      "1 3 7 9 5\n",
      "1\n",
      "1\n",
      "0\n",
      "0\n",
      "1\n"
     ]
    }
   ],
   "source": [
    "# https://www.acmicpc.net/problem/1920\n",
    "\n",
    "num1 = int(input())\n",
    "diction = dict()\n",
    "for i in list(map(int, input().split(' '))):\n",
    "    diction[i] = 1\n",
    "\n",
    "num2 = int(input())\n",
    "for i in list(map(int, input().split(' '))):\n",
    "    print(0 if diction.get(i)==None else 1)\n",
    "    \n",
    "# 레게노...\n",
    "# 자료구조의 역할들이 자동으로 나오는 사람이면 굳이 다 만들어진 자료형을 배열로 구현하는 멍청한 짓을 코딩테스트에서 안해도됨."
   ]
  },
  {
   "cell_type": "code",
   "execution_count": null,
   "metadata": {},
   "outputs": [],
   "source": [
    "# 선생님 풀이\n",
    "# 음 더 레게노\n",
    "\n",
    "n = int(input())\n",
    "array = set(map(int, input().split()))\n",
    "m = int(input())\n",
    "x = list(map(int, input().split()))\n",
    "\n",
    "for i in x:\n",
    "    if i not in array:\n",
    "        print('0')\n",
    "    else:\n",
    "        print('1')\n",
    "        \n",
    "# set은 집합을 표현하기 위해 사용 -> 중복 포함 안함.    "
   ]
  }
 ],
 "metadata": {
  "kernelspec": {
   "display_name": "Python 3",
   "language": "python",
   "name": "python3"
  },
  "language_info": {
   "codemirror_mode": {
    "name": "ipython",
    "version": 3
   },
   "file_extension": ".py",
   "mimetype": "text/x-python",
   "name": "python",
   "nbconvert_exporter": "python",
   "pygments_lexer": "ipython3",
   "version": "3.7.1"
  }
 },
 "nbformat": 4,
 "nbformat_minor": 2
}
