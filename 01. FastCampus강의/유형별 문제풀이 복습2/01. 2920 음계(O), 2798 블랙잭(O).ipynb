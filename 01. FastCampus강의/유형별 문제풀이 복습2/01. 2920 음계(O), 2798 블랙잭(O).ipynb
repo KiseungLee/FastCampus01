{
 "cells": [
  {
   "cell_type": "code",
   "execution_count": 5,
   "metadata": {},
   "outputs": [
    {
     "name": "stdout",
     "output_type": "stream",
     "text": [
      "4 1 2 3\n",
      "mixed\n"
     ]
    }
   ],
   "source": [
    "# https://www.acmicpc.net/problem/2920\n",
    "array = list(map(int, input().split()))\n",
    "ascend = True\n",
    "descend = True\n",
    "for i in range(len(array)-1):\n",
    "    if array[i]<array[i+1]:\n",
    "        descend = False\n",
    "    else:\n",
    "        ascend = False\n",
    "if ascend:\n",
    "    print('ascending')\n",
    "elif descend:\n",
    "    print(\"descending\")\n",
    "else:\n",
    "    print(\"mixed\")"
   ]
  },
  {
   "cell_type": "code",
   "execution_count": null,
   "metadata": {},
   "outputs": [],
   "source": []
  },
  {
   "cell_type": "code",
   "execution_count": 14,
   "metadata": {
    "scrolled": true
   },
   "outputs": [
    {
     "name": "stdout",
     "output_type": "stream",
     "text": [
      "5 30\n",
      "5 8 2 9 3\n",
      "22\n"
     ]
    }
   ],
   "source": [
    "# https://www.acmicpc.net/problem/2798\n",
    "n, m = map(int, input().split())\n",
    "array = list(map(int, input().split()))\n",
    "result = 0\n",
    "for i in range(n-2):\n",
    "    for j in range(i+1, n-1):\n",
    "        for k in range(j+1, n):\n",
    "            if array[i]+array[j]+array[k]<=m:\n",
    "                result = max(result, array[i]+array[j]+array[k])\n",
    "print(result)"
   ]
  },
  {
   "cell_type": "code",
   "execution_count": 17,
   "metadata": {},
   "outputs": [
    {
     "name": "stdout",
     "output_type": "stream",
     "text": [
      "5 5\n",
      "1 1 3 2 4\n",
      "5\n"
     ]
    }
   ],
   "source": [
    "# https://www.acmicpc.net/problem/2798\n",
    "n, m = map(int, input().split())\n",
    "array = list(map(int, input().split()))\n",
    "result = 0\n",
    "for i in range(n-2):\n",
    "    for j in range(i+1, n-1):\n",
    "        for k in range(j+1, n):\n",
    "            result = min(max(result, array[i]+array[j]+array[k]), m)\n",
    "print(result)\n",
    "# 얘는 왜 틀렸다고 뜨지"
   ]
  },
  {
   "cell_type": "code",
   "execution_count": null,
   "metadata": {},
   "outputs": [],
   "source": []
  }
 ],
 "metadata": {
  "kernelspec": {
   "display_name": "Python 3",
   "language": "python",
   "name": "python3"
  },
  "language_info": {
   "codemirror_mode": {
    "name": "ipython",
    "version": 3
   },
   "file_extension": ".py",
   "mimetype": "text/x-python",
   "name": "python",
   "nbconvert_exporter": "python",
   "pygments_lexer": "ipython3",
   "version": "3.7.1"
  }
 },
 "nbformat": 4,
 "nbformat_minor": 2
}
