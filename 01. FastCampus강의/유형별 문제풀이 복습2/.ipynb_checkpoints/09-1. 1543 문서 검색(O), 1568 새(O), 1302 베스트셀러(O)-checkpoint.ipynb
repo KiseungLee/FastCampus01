{
 "cells": [
  {
   "cell_type": "code",
   "execution_count": 2,
   "metadata": {
    "scrolled": true
   },
   "outputs": [
    {
     "name": "stdout",
     "output_type": "stream",
     "text": [
      "ababababa\n",
      "aba\n",
      "2\n"
     ]
    }
   ],
   "source": [
    "# https://www.acmicpc.net/problem/1543\n",
    "\n",
    "str1 = input()\n",
    "str2 = input()\n",
    "count, i = 0, 0\n",
    "while i <= len(str1)-len(str2):\n",
    "    if str1[i:i+len(str2)]==str2:\n",
    "        count+=1\n",
    "        i+= len(str2)\n",
    "    else:\n",
    "        i+=1\n",
    "print(count)"
   ]
  },
  {
   "cell_type": "code",
   "execution_count": null,
   "metadata": {},
   "outputs": [],
   "source": [
    "# 선생님\n",
    "\n",
    "# 문서길이 2500에 단어길이 50이니 그냥 쭉 계산해도 O(MN) 으로 최대 125,000 밖에 안됨\n",
    "# 그냥 쭉 돌아가면서 찾는건데 문서에서 단어 뽑는 아이디어가 좋네\n",
    "# document[index:index + len(word)] 이런식으로 그냥 찾는 단어 길이만큼 툭 잘라서 확인함.\n",
    "# 찾는거 나오면 단어 길이만큼 인덱스 올려주고\n",
    "\n",
    "document = input()\n",
    "word = input()\n",
    "index = 0\n",
    "result = 0\n",
    "\n",
    "while len(document) - index >= len(word):\n",
    "    if document[index:index + len(word)] == word: # 문서에서 보고 있는 단어가 찾고자 하는 단어인 경우\n",
    "        result += 1\n",
    "        index += len(word)\n",
    "    else:\n",
    "        index += 1\n",
    "print(result)"
   ]
  },
  {
   "cell_type": "code",
   "execution_count": 4,
   "metadata": {},
   "outputs": [
    {
     "name": "stdout",
     "output_type": "stream",
     "text": [
      "14\n",
      "7\n"
     ]
    }
   ],
   "source": [
    "# https://www.acmicpc.net/problem/1568\n",
    "\n",
    "n = int(input())\n",
    "count = 0\n",
    "k=1\n",
    "while n>0:\n",
    "    if n>=k:\n",
    "        n-=k\n",
    "        k+=1\n",
    "        count+=1\n",
    "    else:\n",
    "        k=1\n",
    "print(count)"
   ]
  },
  {
   "cell_type": "code",
   "execution_count": null,
   "metadata": {},
   "outputs": [],
   "source": [
    "# 선생님\n",
    "\n",
    "# N이 최대 1,000,000,000 으로 큰 수임.\n",
    "# 그런데 날리는 숫자 갯수가 1, 1 2, 1 2 3, 1 2 3 4\n",
    "# 이렇게 O(n^2)으로 쭉쭉 커져서 그냥 쭉 연산할만함.\n",
    "\n",
    "# 그래서 n짜리 배열 도는데 루트n 걸리는 거임.\n",
    "\n",
    "# 음 이건 챙겨가면 좋겠네. \n",
    "# 돌아야하는 n개를 1차의 속도로 돌면 그냥 n 걸리는데 \n",
    "# 제곱의 속도로 도니까 루트n 걸리는거.\n",
    "\n",
    "n = int(input())\n",
    "result = 0\n",
    "k = 1\n",
    "\n",
    "while n != 0: # 모든 새가 날아갈 때까지\n",
    "    if k > n:\n",
    "        k = 1\n",
    "    n -= k\n",
    "    k += 1\n",
    "    result += 1\n",
    "print(result)"
   ]
  },
  {
   "cell_type": "code",
   "execution_count": 8,
   "metadata": {},
   "outputs": [
    {
     "name": "stdout",
     "output_type": "stream",
     "text": [
      "5\n",
      "t\n",
      "k\n",
      "k\n",
      "t\n",
      "p\n",
      "k\n"
     ]
    }
   ],
   "source": [
    "# https://www.acmicpc.net/problem/1302\n",
    "\n",
    "n = int(input())\n",
    "books = {}\n",
    "\n",
    "for _ in range(n):\n",
    "    book = input()\n",
    "    if book in books:\n",
    "        books[book]+=1\n",
    "    else:\n",
    "        books[book] = 1\n",
    "        \n",
    "m = max(books.values())\n",
    "\n",
    "for book in sorted(books.keys()):\n",
    "    if books[book] == m:\n",
    "        print(book)\n",
    "        break"
   ]
  },
  {
   "cell_type": "code",
   "execution_count": 6,
   "metadata": {},
   "outputs": [
    {
     "data": {
      "text/plain": [
       "4"
      ]
     },
     "execution_count": 6,
     "metadata": {},
     "output_type": "execute_result"
    }
   ],
   "source": [
    "# 선생님\n",
    "\n",
    "# 중복을 처리할땐 Set() 이나 dict()를 써야 효과적임.\n",
    "# 그런데 여기선 단순히 중복만 처리하는게 아니라 중복 갯수도 찾아야 되니까\n",
    "# dictionary를 쓰자.\n",
    "\n",
    "# 여기서 딕셔너리 만들어 놓고 찾는건 테크닉이 필요하네\n",
    "# 여기선 우선 가장 많이 등장하는 횟수를 max(books.values()) 로 찾음\n",
    "\n",
    "# 그 다음 어레이에서 가장 많이 등장하는 횟수에 걸리는 얘들만 리스트로 뽑고\n",
    "# 봅은 얘들을 정렬한다음 맨 앞에 뽑아냄.\n",
    "\n",
    "n = int(input())\n",
    "books = {}\n",
    "\n",
    "for _ in range(n):\n",
    "    book = input()\n",
    "    if book not in books:\n",
    "        books[book] = 1\n",
    "    else:\n",
    "        books[book] += 1\n",
    "\n",
    "target = max(books.values())\n",
    "array = []\n",
    "\n",
    "####################################################\n",
    "for book, number in books.items():\n",
    "####################################################\n",
    "    if number == target:\n",
    "        array.append(book)\n",
    "        \n",
    "print(sorted(array)[0])"
   ]
  },
  {
   "cell_type": "code",
   "execution_count": null,
   "metadata": {},
   "outputs": [],
   "source": []
  }
 ],
 "metadata": {
  "kernelspec": {
   "display_name": "Python 3",
   "language": "python",
   "name": "python3"
  },
  "language_info": {
   "codemirror_mode": {
    "name": "ipython",
    "version": 3
   },
   "file_extension": ".py",
   "mimetype": "text/x-python",
   "name": "python",
   "nbconvert_exporter": "python",
   "pygments_lexer": "ipython3",
   "version": "3.7.1"
  }
 },
 "nbformat": 4,
 "nbformat_minor": 2
}
