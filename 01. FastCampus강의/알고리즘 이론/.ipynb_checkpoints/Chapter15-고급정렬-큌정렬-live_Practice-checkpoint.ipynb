{
 "cells": [
  {
   "cell_type": "markdown",
   "metadata": {},
   "source": [
    "퀵 정렬은 정렬 알고리즘의 꽃이다.\n",
    "\n",
    "이름 자체가 퀵일 정도로 빠름.\n",
    "\n",
    "그리고 퀵정렬 파이썬으로 구현하면 코드가 정말 이쁘단다.\n",
    "\n",
    "---\n",
    "\n",
    "퀵 정렬의 핵심은\n",
    "피봇을 세우고 그걸 기준으로 작은건 왼쪽 큰건 오른쪽 보낸다.\n",
    "그리고 이걸 재귀수행한다.\n",
    "\n",
    "피봇은 세우기 나름인데 보통 첫번째거로 시작함.\n",
    "\n",
    "---\n",
    "\n",
    "피봇기준으로 좌우 정렬하고 좌우에서 그걸 또 함. 계속함.\n",
    "\n",
    "데이터가 1개일때 그냥 return해주면됨. \n",
    "\n",
    "---\n",
    "\n"
   ]
  },
  {
   "cell_type": "code",
   "execution_count": 1,
   "metadata": {},
   "outputs": [],
   "source": [
    "def qsort(data):\n",
    "    if len(data) <= 1:\n",
    "        return data\n",
    "    \n",
    "    left, right = list(), list()\n",
    "    \n",
    "    pivot = data[0]\n",
    "    \n",
    "    for index in range(1, len(data)):\n",
    "        if pivot>data[index]:\n",
    "            left.append(data[index])\n",
    "        else:\n",
    "            right.append(data[index])\n",
    "    \n",
    "    return qsort(left) + [pivot] + qsort(right) # 파이썬이라 배열을 이렇게 쉽게 합칠 수 있다."
   ]
  },
  {
   "cell_type": "code",
   "execution_count": 2,
   "metadata": {},
   "outputs": [
    {
     "name": "stdout",
     "output_type": "stream",
     "text": [
      "[16, 43, 24, 25, 34, 0, 4, 28, 1, 98, 64, 60, 82, 96, 69, 38, 74, 48, 9, 88, 80, 31, 66, 35, 92, 94, 32, 77, 51, 90, 68, 37, 78, 22, 10, 91, 26, 85, 12, 75, 6, 46, 52, 55, 83, 62, 8, 84, 76, 73]\n",
      "[0, 1, 4, 6, 8, 9, 10, 12, 16, 22, 24, 25, 26, 28, 31, 32, 34, 35, 37, 38, 43, 46, 48, 51, 52, 55, 60, 62, 64, 66, 68, 69, 73, 74, 75, 76, 77, 78, 80, 82, 83, 84, 85, 88, 90, 91, 92, 94, 96, 98]\n"
     ]
    }
   ],
   "source": [
    "import random\n",
    "\n",
    "data_list = random.sample(range(100), 50)\n",
    "\n",
    "print(data_list)\n",
    "\n",
    "print(qsort(data_list))"
   ]
  },
  {
   "cell_type": "code",
   "execution_count": 4,
   "metadata": {},
   "outputs": [],
   "source": [
    "def qsort(data):\n",
    "    if len(data)<=1:\n",
    "        return data\n",
    "    \n",
    "    pivot = data[0]\n",
    "    \n",
    "    left = [item for item in data[1:] if pivot > item] # list comprehesion 문법을 잘 쓰면 이렇게 더 쉽게 표현 가능\n",
    "    right = [item for item in data[1:] if pivot <=item]\n",
    "    \n",
    "    return qsort(left) + [pivot] + qsort(right)"
   ]
  },
  {
   "cell_type": "code",
   "execution_count": 7,
   "metadata": {},
   "outputs": [
    {
     "name": "stdout",
     "output_type": "stream",
     "text": [
      "[34, 18, 56, 24, 3, 54, 11, 38, 10, 96, 16, 15, 87, 36, 81, 4, 32, 94, 99, 77, 62, 85, 58, 33, 12, 46, 23, 44, 64, 42, 86, 48, 14, 17, 60, 65, 55, 83, 67, 22, 49, 76, 63, 13, 50, 66, 98, 45, 78, 88]\n",
      "[3, 4, 10, 11, 12, 13, 14, 15, 16, 17, 18, 22, 23, 24, 32, 33, 34, 36, 38, 42, 44, 45, 46, 48, 49, 50, 54, 55, 56, 58, 60, 62, 63, 64, 65, 66, 67, 76, 77, 78, 81, 83, 85, 86, 87, 88, 94, 96, 98, 99]\n"
     ]
    }
   ],
   "source": [
    "data_list = random.sample(range(100), 50)\n",
    "\n",
    "print(data_list)\n",
    "\n",
    "print(qsort(data_list))"
   ]
  },
  {
   "cell_type": "markdown",
   "metadata": {},
   "source": [
    "퀵 정렬의 시간 복잡도는 O(n*log(n)) 임. 병합정렬과 유사한 복잡도이나 대체로 퀵 정렬이 빠름.\n",
    "\n",
    "---\n",
    "\n",
    "퀵 정렬에서 최악의 케이스는 요소들이 이미 정렬되어있을때임.\n"
   ]
  },
  {
   "cell_type": "code",
   "execution_count": null,
   "metadata": {},
   "outputs": [],
   "source": []
  }
 ],
 "metadata": {
  "kernelspec": {
   "display_name": "Python 3",
   "language": "python",
   "name": "python3"
  },
  "language_info": {
   "codemirror_mode": {
    "name": "ipython",
    "version": 3
   },
   "file_extension": ".py",
   "mimetype": "text/x-python",
   "name": "python",
   "nbconvert_exporter": "python",
   "pygments_lexer": "ipython3",
   "version": "3.7.1"
  }
 },
 "nbformat": 4,
 "nbformat_minor": 2
}
