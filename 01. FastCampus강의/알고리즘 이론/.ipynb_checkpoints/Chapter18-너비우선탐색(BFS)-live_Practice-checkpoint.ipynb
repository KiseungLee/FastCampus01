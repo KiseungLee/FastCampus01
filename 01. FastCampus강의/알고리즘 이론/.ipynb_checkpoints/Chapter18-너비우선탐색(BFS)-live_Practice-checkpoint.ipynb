{
 "cells": [
  {
   "cell_type": "markdown",
   "metadata": {},
   "source": [
    "그래프의 탐색에 대해 알아봄.\n",
    "\n",
    "그중 트리형태의 그래프(사이클x, 방향성o)를 탐색하는 방법은\n",
    "\n",
    "깊이 우선 탐색 DFS / 너비 우선 탐색 BFS\n",
    "\n",
    "이렇게 나뉨. 뭐야 그냥 그래프는 이론만하고 끝나는건가\n",
    "\n",
    "\n",
    "BFS, DFS 개념 자체는 이미 알고 있지. \n",
    "\n",
    "---\n",
    "\n",
    "BFS부터 구현해보자!\n",
    "\n",
    "파이썬에선 딕셔너리와 리스트 쓰면 그래프 표현 가능. \n",
    "\n",
    "노드를 딕셔너리의 key로 삼고 key가되는 node와 연결된 node들을 list에 담아 딕셔너리의 value로 씀.\n",
    "\n",
    "한 node를 key로, 그 node와 인접한 node들의 list를 value로 만드는 거임.\n",
    "\n",
    "샘플 데이터는 하드코딩으로 만들자"
   ]
  },
  {
   "cell_type": "code",
   "execution_count": 3,
   "metadata": {},
   "outputs": [],
   "source": [
    "# 파이썬에선 그래프 구현이 쉬운편임.\n",
    "\n",
    "graph = dict()\n",
    "\n",
    "graph['A'] = ['B', 'C']\n",
    "graph['B'] = ['A', 'D']\n",
    "graph['C'] = ['A', 'G', 'H', 'I']\n",
    "graph['D'] = ['B', 'E', 'F']\n",
    "graph['E'] = ['D']\n",
    "graph['F'] = ['D']\n",
    "graph['G'] = ['C']\n",
    "graph['H'] = ['C']\n",
    "graph['I'] = ['C', 'J']\n",
    "graph['J'] = ['I']"
   ]
  },
  {
   "cell_type": "code",
   "execution_count": 4,
   "metadata": {},
   "outputs": [
    {
     "data": {
      "text/plain": [
       "{'A': ['B', 'C'],\n",
       " 'B': ['A', 'D'],\n",
       " 'C': ['A', 'G', 'H', 'I'],\n",
       " 'D': ['B', 'E', 'F'],\n",
       " 'E': ['D'],\n",
       " 'F': ['D'],\n",
       " 'G': ['C'],\n",
       " 'H': ['C'],\n",
       " 'I': ['C', 'J'],\n",
       " 'J': ['I']}"
      ]
     },
     "execution_count": 4,
     "metadata": {},
     "output_type": "execute_result"
    }
   ],
   "source": [
    "graph"
   ]
  },
  {
   "cell_type": "code",
   "execution_count": 6,
   "metadata": {},
   "outputs": [],
   "source": [
    "# BFS 구현\n",
    "# need_visit큐와 visited큐를 사용할께\n",
    "# dict에서 하나 key 꺼내서 visited에 이미 있나보고 없으면 넣고 그 key의 value list에 요소들을 \n",
    "# need_visit에 넣어줌. 반복.\n",
    "\n",
    "def bfs(graph, start_node):\n",
    "    visited = list()  # 물론 queue 자체를 써도 되지만 굳이 그러지 않아도 됨\n",
    "    need_visit = list()\n",
    "    \n",
    "    need_visit.append(start_node) # 시작 노드 넣고 시작함\n",
    "    \n",
    "    while need_visit: # len안찍어도 need_visit에 요소 없으면 끝남\n",
    "        node = need_visit.pop(0) # list에서 pop은 list의 마지막 요소를 꺼내는건데, pop(index)는 index번째를 빼고 빈자리를 착착 채워줌\n",
    "        if node not in visited: # not in 쓰면 list에 있는지 없는지 쉽게 확인 가능\n",
    "            visited.append(node)\n",
    "            need_visit.extend(graph[node])  # list.extend 하면 리스트뒤에 리스트를 붙일 수 있음. # dict의 value를 통으로 붙이려고\n",
    "            \n",
    "    return visited"
   ]
  },
  {
   "cell_type": "code",
   "execution_count": 7,
   "metadata": {},
   "outputs": [
    {
     "data": {
      "text/plain": [
       "['A', 'B', 'C', 'D', 'G', 'H', 'I', 'E', 'F', 'J']"
      ]
     },
     "execution_count": 7,
     "metadata": {},
     "output_type": "execute_result"
    }
   ],
   "source": [
    "bfs(graph, 'A')"
   ]
  },
  {
   "cell_type": "markdown",
   "metadata": {},
   "source": [
    "마지막으로 시간 복잡도만 보고 가자.\n",
    "\n",
    "노드수 : V\n",
    "간선수 : E\n",
    "\n",
    "하면 while문은 V+E번 수행됨\n",
    "\n",
    "시간복잡도 : O(V+E)\n",
    "\n",
    "그래프쪽은 입력 데이터 갯수 자체가 그냥 n개가 아니라 2개를 받음. vertex와 edge!"
   ]
  },
  {
   "cell_type": "code",
   "execution_count": null,
   "metadata": {},
   "outputs": [],
   "source": []
  }
 ],
 "metadata": {
  "kernelspec": {
   "display_name": "Python 3",
   "language": "python",
   "name": "python3"
  },
  "language_info": {
   "codemirror_mode": {
    "name": "ipython",
    "version": 3
   },
   "file_extension": ".py",
   "mimetype": "text/x-python",
   "name": "python",
   "nbconvert_exporter": "python",
   "pygments_lexer": "ipython3",
   "version": "3.7.4"
  }
 },
 "nbformat": 4,
 "nbformat_minor": 2
}
