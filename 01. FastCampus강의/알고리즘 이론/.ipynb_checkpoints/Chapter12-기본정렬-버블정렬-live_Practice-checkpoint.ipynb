{
 "cells": [
  {
   "cell_type": "markdown",
   "metadata": {},
   "source": [
    "새로운거 시작\n",
    "\n",
    "알고리즘의 시작. \n",
    "\n",
    "기본적인 알고리즘을 익히는 이유를 알아야됨.\n",
    "\n",
    "대표적인 알고리즘은 뭐 이미 다 구현되어있음. 쓰기만 하면됨. 그래도 해보는 이유!\n",
    "\n",
    "걍 해보는 거지. 기본기니까"
   ]
  },
  {
   "cell_type": "markdown",
   "metadata": {},
   "source": [
    "알고리즘은 바로 코딩하는게 아님. 일단 펜으로 쓰고 알고리즘을 작성하고 코드는 구현하고 테스트 하는거임.\n",
    "\n",
    "알고리즘 자체는 종이와 펜에서 완성된다!\n",
    "\n"
   ]
  },
  {
   "cell_type": "markdown",
   "metadata": {},
   "source": [
    "정렬 알고리즘은 알고리즘의 대표 알고리즘임. 하다보면 같은 문제도 이렇게 다양하게 풀 수 있고, 각각의 특징과 성능이 다르다는 것을 깨달으면 되는거임.\n",
    "\n",
    "그 중 첫 번째가 버블 정렬."
   ]
  },
  {
   "cell_type": "markdown",
   "metadata": {},
   "source": [
    "버블 정렬은 앞에서부터 2개씩 비교하는 거임. 애니매이션 보면 이해하기 쉽지.\n",
    "\n"
   ]
  },
  {
   "cell_type": "markdown",
   "metadata": {},
   "source": [
    "버블정렬\n",
    "1. 완전 생 버블정렬\n",
    "2. 뒤로 보냈으면 거기까진 가지 않기\n",
    "3. 스왑 flag를 둬서 스왑 안되는 턴이 나오면 바로 끝"
   ]
  },
  {
   "cell_type": "code",
   "execution_count": 12,
   "metadata": {},
   "outputs": [],
   "source": [
    "def bubblesort(data):\n",
    "    for index in range(len(data)-1):\n",
    "        swap = False\n",
    "        for index2 in range(len(data)-index-1):\n",
    "            if data[index2]>data[index2+1]:\n",
    "                data[index2], data[index2+1] = data[index2+1], data[index2]\n",
    "                swap = True\n",
    "        if swap==False:\n",
    "            break\n",
    "    return data"
   ]
  },
  {
   "cell_type": "code",
   "execution_count": 13,
   "metadata": {},
   "outputs": [
    {
     "name": "stdout",
     "output_type": "stream",
     "text": [
      "[50, 87, 92, 13, 65, 78, 76, 8, 85, 91, 11, 14, 90, 20, 46, 51, 86, 67, 97, 9, 1, 27, 42, 58, 81, 17, 6, 56, 40, 68, 35, 41, 26, 3, 45, 69, 63, 7, 99, 18, 0, 34, 30, 25, 36, 53, 60, 24, 83, 96]\n"
     ]
    }
   ],
   "source": [
    "import random\n",
    "\n",
    "data_list = random.sample(range(100), 50)\n",
    "print(data_list)"
   ]
  },
  {
   "cell_type": "code",
   "execution_count": 16,
   "metadata": {},
   "outputs": [
    {
     "name": "stdout",
     "output_type": "stream",
     "text": [
      "[0, 1, 3, 6, 7, 8, 9, 11, 13, 14, 17, 18, 20, 24, 25, 26, 27, 30, 34, 35, 36, 40, 41, 42, 45, 46, 50, 51, 53, 56, 58, 60, 63, 65, 67, 68, 69, 76, 78, 81, 83, 85, 86, 87, 90, 91, 92, 96, 97, 99]\n"
     ]
    }
   ],
   "source": [
    "data_list = bubblesort(data_list)\n",
    "print(data_list)"
   ]
  },
  {
   "cell_type": "code",
   "execution_count": null,
   "metadata": {},
   "outputs": [],
   "source": []
  },
  {
   "cell_type": "code",
   "execution_count": null,
   "metadata": {},
   "outputs": [],
   "source": []
  },
  {
   "cell_type": "code",
   "execution_count": null,
   "metadata": {},
   "outputs": [],
   "source": []
  }
 ],
 "metadata": {
  "kernelspec": {
   "display_name": "Python 3",
   "language": "python",
   "name": "python3"
  },
  "language_info": {
   "codemirror_mode": {
    "name": "ipython",
    "version": 3
   },
   "file_extension": ".py",
   "mimetype": "text/x-python",
   "name": "python",
   "nbconvert_exporter": "python",
   "pygments_lexer": "ipython3",
   "version": "3.7.4"
  }
 },
 "nbformat": 4,
 "nbformat_minor": 2
}
