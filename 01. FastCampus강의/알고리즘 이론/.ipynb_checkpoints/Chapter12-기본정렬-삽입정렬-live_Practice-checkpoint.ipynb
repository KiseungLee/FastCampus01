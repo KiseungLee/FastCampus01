{
 "cells": [
  {
   "cell_type": "markdown",
   "metadata": {},
   "source": [
    "삽입정렬도 기본정렬중 하나.\n",
    "\n",
    "삽입정렬은 말 그대로 하나씩 집어가면서 자리에 삽입해줌. \n",
    "\n",
    "구체적으로 말하자면 index =1 부터 돌아감. index=1에서 앞으로 가면서 자기보다 작은 or 큰 얘가 나오면 걔 뒤에 넣어줌. 사이트에 애니매이션이 레전드네."
   ]
  },
  {
   "cell_type": "code",
   "execution_count": 12,
   "metadata": {},
   "outputs": [],
   "source": [
    "def insertion_sort(data):\n",
    "    for index in range(len(data)-1):\n",
    "        for index2 in range(index+1, 0,-1): # 파이썬 문법 주의\n",
    "            if data[index2] < data[index2-1]:\n",
    "                data[index2], data[index2-1] = data[index2-1], data[index2]\n",
    "            else:\n",
    "                break\n",
    "    return data"
   ]
  },
  {
   "cell_type": "code",
   "execution_count": 15,
   "metadata": {},
   "outputs": [
    {
     "name": "stdout",
     "output_type": "stream",
     "text": [
      "[94, 32, 84, 64, 82, 36, 14, 65, 92, 59, 42, 91, 50, 73, 85, 41, 6, 96, 51, 87, 77, 47, 53, 57, 10, 62, 11, 7, 89, 16, 97, 30, 68, 83, 80, 46, 0, 45, 18, 95, 52, 29, 63, 44, 25, 70, 81, 98, 78, 31]\n"
     ]
    }
   ],
   "source": [
    "import random\n",
    "data_list = random.sample(range(100), 50) # random.sample(set(), 갯수) set에서 갯수만큼 랜덤 샘플 뽑음\n",
    "print(data_list)"
   ]
  },
  {
   "cell_type": "code",
   "execution_count": 16,
   "metadata": {},
   "outputs": [
    {
     "name": "stdout",
     "output_type": "stream",
     "text": [
      "[0, 6, 7, 10, 11, 14, 16, 18, 25, 29, 30, 31, 32, 36, 41, 42, 44, 45, 46, 47, 50, 51, 52, 53, 57, 59, 62, 63, 64, 65, 68, 70, 73, 77, 78, 80, 81, 82, 83, 84, 85, 87, 89, 91, 92, 94, 95, 96, 97, 98]\n"
     ]
    }
   ],
   "source": [
    "print(insertion_sort(data_list))"
   ]
  },
  {
   "cell_type": "code",
   "execution_count": null,
   "metadata": {},
   "outputs": [],
   "source": []
  }
 ],
 "metadata": {
  "kernelspec": {
   "display_name": "Python 3",
   "language": "python",
   "name": "python3"
  },
  "language_info": {
   "codemirror_mode": {
    "name": "ipython",
    "version": 3
   },
   "file_extension": ".py",
   "mimetype": "text/x-python",
   "name": "python",
   "nbconvert_exporter": "python",
   "pygments_lexer": "ipython3",
   "version": "3.7.4"
  }
 },
 "nbformat": 4,
 "nbformat_minor": 2
}
