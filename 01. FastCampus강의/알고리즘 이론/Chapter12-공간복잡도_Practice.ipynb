{
 "cells": [
  {
   "cell_type": "markdown",
   "metadata": {},
   "source": [
    "공간 복잡도 파트는 그냥 좀 보너스임.\n",
    "\n",
    "공간과 시간 복잡도는 대체로 반비례 관계임. 공간을 들여서 시간을 아끼는, 혹은 시간을 더 들여서 공간을 아끼는 등.\n",
    "\n",
    "하지만 요즘 워낙 메모리가 좋아져서 공간 복잡도는 크게 신경 안씀. \n",
    "\n",
    "\n",
    "그래도~ 공간 복잡도의 대략적인 계산은 알아두자.\n",
    "\n",
    "오래된 알고리즘 문제들의 경우엔 공간 복잡도가 고려되어야 하는 문제들도 있음. C가 주력 언어이던 시절엔 공간 복잡도 중요했으니까. 그래서 올드한 문제를 내는 회사의 경우 공간 복잡도가 걸릴수도 있다!\n",
    "\n",
    "공간 복잡도 = 고정공간 + 가변공간\n",
    "\n",
    "빅오 표기법 생각해보면 고정공간은 크게 중요하지 않음. 가변공간이 중요.\n",
    "\n",
    "\n",
    "\n",
    "예를들어 n! 구하는 알고리즘의 경우"
   ]
  },
  {
   "cell_type": "code",
   "execution_count": 1,
   "metadata": {},
   "outputs": [],
   "source": [
    "# 1. n값에 상관 없이 필요한 변수는 고정적임. 그래서 O(1)\n",
    "def factorial(n):\n",
    "    fac = 1\n",
    "    for index in range(2, n+1):\n",
    "        fac = fac*index\n",
    "    return fac\n",
    "\n",
    "\n",
    "# 2. n값이 늘어나면 재귀호출하는 factorial 함수가 생기고 그만큼 공간이 필요해서 공간 복잡도는 O(n)이 됨\n",
    "def factorial2(n):\n",
    "    if n>1:\n",
    "        return n*factorial(n-1)\n",
    "    else:\n",
    "        return 1"
   ]
  },
  {
   "cell_type": "markdown",
   "metadata": {},
   "source": [
    "이렇게 달라질수 있음. \n",
    "\n",
    "다시 한 번 말아하지만 공간 복잡도는 안중요하고 혹시 올드한 문제나 면접을 내는 곳에서 주의하자."
   ]
  },
  {
   "cell_type": "code",
   "execution_count": null,
   "metadata": {},
   "outputs": [],
   "source": []
  }
 ],
 "metadata": {
  "kernelspec": {
   "display_name": "Python 3",
   "language": "python",
   "name": "python3"
  },
  "language_info": {
   "codemirror_mode": {
    "name": "ipython",
    "version": 3
   },
   "file_extension": ".py",
   "mimetype": "text/x-python",
   "name": "python",
   "nbconvert_exporter": "python",
   "pygments_lexer": "ipython3",
   "version": "3.7.4"
  }
 },
 "nbformat": 4,
 "nbformat_minor": 2
}
