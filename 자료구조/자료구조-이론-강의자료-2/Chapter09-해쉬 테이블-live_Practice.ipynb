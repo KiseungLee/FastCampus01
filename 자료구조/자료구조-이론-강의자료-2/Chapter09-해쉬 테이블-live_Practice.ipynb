{
 "cells": [
  {
   "cell_type": "markdown",
   "metadata": {},
   "source": [
    "해쉬 테이블의 장점은 짱 빠르다.\n",
    "key를 사용함\n",
    "\n",
    "키를 해쉬 함수에 넣으면 데이터가 저장되어 있는 위치가 나오는 구조임\n",
    "\n",
    "해쉬함수(키) => 해쉬 주소(=해쉬 값)\n",
    "해쉬테이블에서 해쉬 주소를 찾아감\n",
    "\n",
    "파이썬의 딕셔너리가 내부적으로 해쉬 테이블로 되어있음.\n",
    "따라서 사실 파이썬에서 해쉬 테이블을 구현할 필욘 없지만 교육상의 이유로 구현해봄\n",
    "\n",
    "Hash : 임의 값을 고정 길이로 변환하는 것\n",
    "\n",
    "데이터를 넣으면 키를 추출하는 함수도 있을 수 있음."
   ]
  },
  {
   "cell_type": "code",
   "execution_count": 4,
   "metadata": {},
   "outputs": [
    {
     "data": {
      "text/plain": [
       "[0, 0, 0, 0, 0, 0, 0, 0, 0, 0]"
      ]
     },
     "execution_count": 4,
     "metadata": {},
     "output_type": "execute_result"
    }
   ],
   "source": [
    "## 해쉬 테이블\n",
    "hash_table = list([0 for i in range(10)]) ## list comprehension 이라는 문법\n",
    "hash_table"
   ]
  },
  {
   "cell_type": "code",
   "execution_count": 5,
   "metadata": {},
   "outputs": [],
   "source": [
    "## 해쉬 함수 - 가장 간단한 방식의 Division 방법 (나누고 남은 나머지를 사용)\n",
    "def hash_func(key):\n",
    "    return key%5"
   ]
  },
  {
   "cell_type": "code",
   "execution_count": 11,
   "metadata": {},
   "outputs": [
    {
     "name": "stdout",
     "output_type": "stream",
     "text": [
      "65 68 84\n",
      "65 0\n"
     ]
    }
   ],
   "source": [
    "## 헤쉬 테이블에 데이터 저장\n",
    "data1 = \"Andy\"\n",
    "data2 = \"Dave\"\n",
    "data3 = 'Trump'\n",
    "\n",
    "## ord(char) : 입력받은 char ASCII 코드 리턴\n",
    "print(ord(data1[0]), ord(data2[0]), ord(data3[0]))\n",
    "print(ord(data1[0]), hash_func(ord(data1[0])))"
   ]
  },
  {
   "cell_type": "code",
   "execution_count": 12,
   "metadata": {},
   "outputs": [],
   "source": [
    "def storage_data(data, value):\n",
    "    key = ord(data[0])\n",
    "    hash_address = hash_func(key)\n",
    "    hash_table[hash_address] = value"
   ]
  },
  {
   "cell_type": "code",
   "execution_count": 13,
   "metadata": {},
   "outputs": [],
   "source": [
    "storage_data('Andy', '01055553333')\n",
    "storage_data('Dave', '01044443333')\n",
    "storage_data('Trump', '99999999999')"
   ]
  },
  {
   "cell_type": "code",
   "execution_count": 14,
   "metadata": {},
   "outputs": [],
   "source": [
    "def get_data(data):\n",
    "    key = ord(data[0])\n",
    "    hash_address = hash_func(key)\n",
    "    return hash_table[hash_address]"
   ]
  },
  {
   "cell_type": "code",
   "execution_count": 15,
   "metadata": {},
   "outputs": [
    {
     "data": {
      "text/plain": [
       "'01055553333'"
      ]
     },
     "execution_count": 15,
     "metadata": {},
     "output_type": "execute_result"
    }
   ],
   "source": [
    "get_data('Andy')"
   ]
  },
  {
   "cell_type": "code",
   "execution_count": 16,
   "metadata": {},
   "outputs": [
    {
     "data": {
      "text/plain": [
       "'01044443333'"
      ]
     },
     "execution_count": 16,
     "metadata": {},
     "output_type": "execute_result"
    }
   ],
   "source": [
    "get_data('Dave')"
   ]
  },
  {
   "cell_type": "code",
   "execution_count": 18,
   "metadata": {},
   "outputs": [],
   "source": [
    "## 배열과 나누기로 구현한 정말정말정말 간단한 해쉬 테이블이었음."
   ]
  },
  {
   "cell_type": "markdown",
   "metadata": {},
   "source": [
    "해쉬 테이블의 장점\n",
    "1. 겁나 빠름\n",
    "2. 키에 대한 데이터가 있는지 확인이 쉬움\n",
    "\n",
    "단점\n",
    "1. 공간이 더 필요\n",
    "2. 여러 키에 대해 같은 해쉬 주소가 나올경우 충돌을 피하게 만들 방법이 필요. 추가적인 자료구조가 필요.\n",
    "\n",
    "주요 사용\n",
    "1. 검색 많이 쓰는 곳\n",
    "2. 저장, 삭제, 읽기가 잦은 곳\n",
    "3. 캐쉬 구현시(중복 확인이 쉬워서)"
   ]
  },
  {
   "cell_type": "code",
   "execution_count": 20,
   "metadata": {},
   "outputs": [
    {
     "data": {
      "text/plain": [
       "-2985986298104123116"
      ]
     },
     "execution_count": 20,
     "metadata": {},
     "output_type": "execute_result"
    }
   ],
   "source": [
    "## 파이썬 내장 해쉬 함순데 잘 안씀. 쥬피터 껐다키면 값 바뀜 ㅋㅋ 뭐냐이거\n",
    "hash(\"Dave\")\n",
    "## -2985986298104123116 : 2019.12.06 21:26"
   ]
  },
  {
   "cell_type": "code",
   "execution_count": 21,
   "metadata": {},
   "outputs": [],
   "source": [
    "hash_table = list([0 for i in range(8)])\n",
    "\n",
    "def get_key(data):\n",
    "    return hash(data)\n",
    "\n",
    "def hash_function(key):\n",
    "    return key%8\n",
    "\n",
    "def save_data(data, value):\n",
    "    hash_address = hash_function(get_key(data))\n",
    "    hash_table[hash_address] = value\n",
    "\n",
    "def read_data(data):\n",
    "    hash_address = hash_function(get_key(data))\n",
    "    return hash_table[hash_address]"
   ]
  },
  {
   "cell_type": "code",
   "execution_count": 23,
   "metadata": {},
   "outputs": [],
   "source": [
    "save_data('Dave', '1111')\n",
    "save_data('Andy', '2222')\n",
    "save_data('Tall', '333')"
   ]
  },
  {
   "cell_type": "code",
   "execution_count": 25,
   "metadata": {},
   "outputs": [
    {
     "data": {
      "text/plain": [
       "[0, 0, 0, '333', '1111', 0, 0, 0]"
      ]
     },
     "execution_count": 25,
     "metadata": {},
     "output_type": "execute_result"
    }
   ],
   "source": [
    "hash_table\n",
    "## [0, 0, 0, '333', '1111', 0, 0, 0]\n",
    "## 3개를 넣었는데 1개가 없어짐. key%8 과정에서 Tall이 Andy를 덮어씀!!"
   ]
  },
  {
   "cell_type": "markdown",
   "metadata": {},
   "source": [
    "#### 해쉬테이블의 가장 큰 문제는 충돌이다!\n",
    "#### 충돌(Coliision) 해결 알고리즘\n",
    "#### Collision == Hash Collision\n",
    "\n",
    "Chaining 기법\n",
    "\n",
    "-> Open Hasing ng 기법중 하나임. 하나의 테이블 외에 다른 테이블을 이용\n",
    "\n",
    "-> 충돌 일어나면 Linked List를 이용해 충돌되는 데이터들을 연결시킴(우리가 구현할땐 그냥 파이썬 list를 씀.)\n",
    "\n",
    "-> 암튼 이렇게 연결연결 되서 Chaning 기법임\n",
    "\n",
    "Linear Probing 기법\n",
    "\n",
    "-> Closing Hasing 기법중 하나. 해쉬 테이블 안에 빈 공간을 찾아 저장하는 기법."
   ]
  },
  {
   "cell_type": "code",
   "execution_count": 33,
   "metadata": {},
   "outputs": [],
   "source": [
    "## 저장하는 함수, 읽는 함수를 다시 만들자.\n",
    "def save_data(data, value):\n",
    "    index_key = get_key(data)\n",
    "    hash_address = hash_function(index_key)\n",
    "    if hash_table[hash_address] != 0:\n",
    "        for index in range(len(hash_table[hash_address])):\n",
    "            if hash_table[hash_address][index][0] == index_key:\n",
    "                hash_table[hash_address][index][1] = value\n",
    "                return\n",
    "        hash_table[hash_address].append([index_key, value])\n",
    "    else:\n",
    "        hash_table[hash_address] = [[index_key, value]]\n",
    "    \n",
    "def read_data(data):\n",
    "    index_key = get_key(data)\n",
    "    hash_address = hash_function(index_key)\n",
    "    if hash_table[hash_address] != 0:\n",
    "        for index in range(len(hash_table[hash_address])):\n",
    "            if hash_table[hash_address][index][0] == index_key:\n",
    "                return hash_table[hash_address][index][1]\n",
    "        return None\n",
    "    else:\n",
    "        return None"
   ]
  },
  {
   "cell_type": "code",
   "execution_count": 34,
   "metadata": {},
   "outputs": [],
   "source": [
    "hash_table = list([0 for i in range(8)])\n",
    "save_data('Dave', '1111')\n",
    "save_data('Andy', '2222')\n",
    "save_data('Tall', '333')"
   ]
  },
  {
   "cell_type": "code",
   "execution_count": 38,
   "metadata": {},
   "outputs": [
    {
     "data": {
      "text/plain": [
       "[0,\n",
       " 0,\n",
       " 0,\n",
       " [[-4799495116040520237, '2222'], [5642363519510934275, '333']],\n",
       " [[-2985986298104123116, '1111']],\n",
       " 0,\n",
       " 0,\n",
       " 0]"
      ]
     },
     "execution_count": 38,
     "metadata": {},
     "output_type": "execute_result"
    }
   ],
   "source": [
    "hash_table\n",
    "##\n",
    "[0,\n",
    " 0,\n",
    " 0,\n",
    " [[-4799495116040520237, '2222'], [5642363519510934275, '333']],\n",
    " [[-2985986298104123116, '1111']],\n",
    " 0,\n",
    " 0,\n",
    " 0]\n",
    "##"
   ]
  },
  {
   "cell_type": "code",
   "execution_count": 39,
   "metadata": {},
   "outputs": [],
   "source": [
    "## 방금까지 Chaining 기법 봤고 이제 Linear Probing 기법 보자.\n",
    "## 해쉬 테이블 안에 남은 빈공간을 찾아 저장하는 거.\n",
    "\n",
    "## 저장공간의 활용도가 높아지는 방법!\n",
    "\n",
    "hash_table = list([0 for i in range(8)])\n",
    "\n",
    "def get_key(data):\n",
    "    return hash(data)\n",
    "\n",
    "def hash_function(key):\n",
    "    return key%8\n",
    "\n",
    "def save_data(data, value):\n",
    "    index_key = get_key(data)\n",
    "    hash_address = hash_function(index_key)\n",
    "    if hash_table[hash_address] != 0:\n",
    "        for index in range(hash_address, len(hash_table)):\n",
    "            if hash_table[index] == 0:\n",
    "                hash_table[index] = [index_key, value]\n",
    "                return\n",
    "            elif hash_table[index][0] == index_key:\n",
    "                hash_table[index][1] = value\n",
    "                return\n",
    "    else:\n",
    "        hash_table[hash_address] = [index_key, value]\n",
    "\n",
    "    \n",
    "def read_data(data):\n",
    "    index_key = get_key(data)\n",
    "    hash_address = hash_function(index_key)\n",
    "    if hash_table[hash_address] != 0:\n",
    "        for index in range(hash_address, len(hash_table)):\n",
    "            if hash_table[index] == 0:\n",
    "                return None\n",
    "            elif hash_table[index][0] == index_key:\n",
    "                return hash_table[index][1]\n",
    "    else:\n",
    "        return None"
   ]
  },
  {
   "cell_type": "code",
   "execution_count": 40,
   "metadata": {},
   "outputs": [],
   "source": [
    "hash_table = list([0 for i in range(8)])\n",
    "save_data('Dave', '1111')\n",
    "save_data('Andy', '2222')\n",
    "save_data('Tall', '333')"
   ]
  },
  {
   "cell_type": "code",
   "execution_count": 42,
   "metadata": {},
   "outputs": [
    {
     "data": {
      "text/plain": [
       "[0,\n",
       " 0,\n",
       " 0,\n",
       " [-4799495116040520237, '2222'],\n",
       " [-2985986298104123116, '1111'],\n",
       " [5642363519510934275, '333'],\n",
       " 0,\n",
       " 0]"
      ]
     },
     "execution_count": 42,
     "metadata": {},
     "output_type": "execute_result"
    }
   ],
   "source": [
    "hash_table\n",
    "##\n",
    "[0,\n",
    " 0,\n",
    " 0,\n",
    " [-4799495116040520237, '2222'],\n",
    " [-2985986298104123116, '1111'],\n",
    " [5642363519510934275, '333'],\n",
    " 0,\n",
    " 0]\n",
    "##\n",
    "## chaining 쓸때는 '333' 데이터가 '2222' 데이터와 중첩 배열로 chaning  됐는데\n",
    "## 지금은 뒤로, 뒤로 밀려서 5번째에 들어가 있음."
   ]
  },
  {
   "cell_type": "markdown",
   "metadata": {},
   "source": [
    "#### 해쉬 테이블은 충돌을 줄이는게 가장 큰일이다.\n",
    "#### 빠를려고 썼는데 충돌때문에 느려지면 도로묵\n",
    "\n",
    "#### 충돌 개선방법\n",
    "해쉬 함수를 크기를 확대해 재정의."
   ]
  },
  {
   "cell_type": "code",
   "execution_count": 53,
   "metadata": {},
   "outputs": [
    {
     "name": "stdout",
     "output_type": "stream",
     "text": [
      "data :  b'test'\n",
      "hex_dig :  a94a8fe5ccb19ba61c4c0873d391e987982fbbd3\n"
     ]
    }
   ],
   "source": [
    "## 파이썬의 hash()는 할때마다 값이 달라짐\n",
    "## 다른 유명 해쉬 함수들\n",
    "\n",
    "## SHA-1\n",
    "import hashlib\n",
    "\n",
    "data = 'test'.encode() ## encode()를 해줘야함 -> Byte로 바궈쭘\n",
    "print(\"data : \",data)\n",
    "\n",
    "hash_object = hashlib.sha1() ## 우선 sha1() 객체를 만듬\n",
    "hash_object.update(data)## 해쉬 함수에 넣고\n",
    "\n",
    "hex_dig = hash_object.hexdigest() ## 추출함. 여기선 16진수로 추출해봄\n",
    "print(\"hex_dig : \", hex_dig)"
   ]
  },
  {
   "cell_type": "code",
   "execution_count": 54,
   "metadata": {},
   "outputs": [
    {
     "name": "stdout",
     "output_type": "stream",
     "text": [
      "data :  b'test'\n",
      "hex_dig :  9f86d081884c7d659a2feaa0c55ad015a3bf4f1b2b0b822cd15d6c15b0f00a08\n"
     ]
    }
   ],
   "source": [
    "## SHA-256 -- 블록 체인에서도 쓰이는 해쉬함수.\n",
    "import hashlib\n",
    "\n",
    "data = 'test'.encode() ## encode()를 해줘야함 -> Byte로 바궈쭘\n",
    "print(\"data : \",data)\n",
    "\n",
    "hash_object = hashlib.sha256() ## 우선 sha1() 객체를 만듬\n",
    "hash_object.update(data)## 해쉬 함수에 넣고\n",
    "\n",
    "hex_dig = hash_object.hexdigest() ## 추출함. 여기선 16진수로 추출해봄\n",
    "print(\"hex_dig : \", hex_dig)"
   ]
  },
  {
   "cell_type": "code",
   "execution_count": 55,
   "metadata": {},
   "outputs": [],
   "source": [
    "## 연습 Chaining 기법과 SHA-256을 사용해 해쉬 테이블 구현.\n",
    "## 이건 주말에 테스트 해보자. \n",
    "## 팁) 16진수형태의 문자열을 정수로 만드는 방법 -> int(hexString, 16)"
   ]
  },
  {
   "cell_type": "code",
   "execution_count": null,
   "metadata": {},
   "outputs": [],
   "source": []
  }
 ],
 "metadata": {
  "kernelspec": {
   "display_name": "Python 3",
   "language": "python",
   "name": "python3"
  },
  "language_info": {
   "codemirror_mode": {
    "name": "ipython",
    "version": 3
   },
   "file_extension": ".py",
   "mimetype": "text/x-python",
   "name": "python",
   "nbconvert_exporter": "python",
   "pygments_lexer": "ipython3",
   "version": "3.7.4"
  }
 },
 "nbformat": 4,
 "nbformat_minor": 2
}
