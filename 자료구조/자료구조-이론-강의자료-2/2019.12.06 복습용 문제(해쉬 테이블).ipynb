{
 "cells": [
  {
   "cell_type": "markdown",
   "metadata": {},
   "source": [
    "### Chaining 기법(수업 때 처럼 파이썬 list 이용) + SHA-256 + 테이블 크기는 97\n",
    "### 해쉬 테이블 CRUD 구현 "
   ]
  },
  {
   "cell_type": "markdown",
   "metadata": {},
   "source": [
    "### Linear-Probing 기법(수업 때 처럼 파이썬 list 이용) + SHA-256 + 테이블 크기는 97\n",
    "### 해쉬 테이블 CRUD 구현 "
   ]
  },
  {
   "cell_type": "code",
   "execution_count": null,
   "metadata": {},
   "outputs": [],
   "source": []
  }
 ],
 "metadata": {
  "kernelspec": {
   "display_name": "Python 3",
   "language": "python",
   "name": "python3"
  },
  "language_info": {
   "codemirror_mode": {
    "name": "ipython",
    "version": 3
   },
   "file_extension": ".py",
   "mimetype": "text/x-python",
   "name": "python",
   "nbconvert_exporter": "python",
   "pygments_lexer": "ipython3",
   "version": "3.7.4"
  }
 },
 "nbformat": 4,
 "nbformat_minor": 2
}
