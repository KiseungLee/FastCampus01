{
 "cells": [
  {
   "cell_type": "markdown",
   "metadata": {},
   "source": [
    "## Queue, LifoQueue, PriorityQueue 구현 (배열 사용)\n",
    "## 인터페이스는 Java API 참조\n",
    "\n",
    "##### boolean add(E e)\n",
    ": Inserts the specified element into this queue if it is possible to do so immediately without violating capacity restrictions, returning true upon success and throwing an IllegalStateException if no space is currently available.\n",
    "\n",
    "##### E element()\n",
    ":  Retrieves, but does not remove, the head of this queue.\n",
    "\n",
    "##### boolean\toffer(E e)\n",
    ": Inserts the specified element into this queue if it is possible to do so immediately without violating capacity restrictions.\n",
    "\n",
    "##### E peek()\n",
    ": Retrieves, but does not remove, the head of this queue, or returns null if this queue is empty.\n",
    "\n",
    "##### E poll()\n",
    ": Retrieves and removes the head of this queue, or returns null if this queue is empty.\n",
    "\n",
    "##### E remove()\n",
    ": Retrieves and removes the head of this queue.\n"
   ]
  },
  {
   "cell_type": "markdown",
   "metadata": {},
   "source": [
    "## Stack 구현 (배열 사용)\n",
    "## 인터페이스는 Java API 참조\n",
    "\n",
    "##### boolean  empty()\t\n",
    ": Tests if this stack is empty.\n",
    "##### E  peek()\t\n",
    ": Looks at the object at the top of this stack without removing it from the stack.\n",
    "##### E  pop()\t\n",
    ": Removes the object at the top of this stack and returns that object as the value of this function.\n",
    "##### E  push(E item)\t\n",
    ": Pushes an item onto the top of this stack.\n",
    "##### int  search(Object o)\t\n",
    ": Returns the 1-based position where an object is on this stack."
   ]
  },
  {
   "cell_type": "markdown",
   "metadata": {},
   "source": [
    "## LinkedList 구현 (객체 사용)\n",
    "## 인터페이스는 Java API 참조\n",
    "##### void\tadd​(int index, E element)\t\n",
    "Inserts the specified element at the specified position in this list.\n",
    "#####  boolean\tadd​(E e)\t\n",
    "Appends the specified element to the end of this list.\n",
    "#####  void\tclear​()\t\n",
    "Removes all of the elements from this list.\n",
    "#####  boolean\tcontains​(Object o)\t\n",
    "Returns true if this list contains the specified element.\n",
    "#####  E\tget​(int index)\t\n",
    "Returns the element at the specified position in this list.\n",
    "#####  int\tindexOf​(Object o)\t\n",
    "Returns the index of the first occurrence of the specified element in this list, or -1 if this list does not contain the element.\n",
    "#####  int\tlastIndexOf​(Object o)\t\n",
    "Returns the index of the last occurrence of the specified element in this list, or -1 if this list does not contain the element.\n",
    "#####  E\tpeek​()\t\n",
    "Retrieves, but does not remove, the head (first element) of this list.\n",
    "#####  E\tpoll​()\t\n",
    "Retrieves and removes the head (first element) of this list.\n",
    "#####  E\tremove​()\t\n",
    "Retrieves and removes the head (first element) of this list.\n",
    "#####  E\tremove​(int index)\t\n",
    "Removes the element at the specified position in this list.\n",
    "#####  int\tsize​()\t\n",
    "Returns the number of elements in this list.\n",
    "#####  Object[]\ttoArray​()\t\n",
    "Returns an array containing all of the elements in this list in proper sequence (from first to last element)."
   ]
  },
  {
   "cell_type": "markdown",
   "metadata": {},
   "source": [
    "## DoubleLinkedList 구현 \n",
    "## 인터페이스는 Java API 참조\n",
    "##### void\tadd​(int index, E element)\t\n",
    "Inserts the specified element at the specified position in this list.\n",
    "#####  boolean\tadd​(E e)\t\n",
    "Appends the specified element to the end of this list.\n",
    "#####  void\tclear​()\t\n",
    "Removes all of the elements from this list.\n",
    "#####  boolean\tcontains​(Object o)\t\n",
    "Returns true if this list contains the specified element.\n",
    "#####  E\tget​(int index)\t\n",
    "Returns the element at the specified position in this list.\n",
    "#####  int\tindexOf​(Object o)\t\n",
    "Returns the index of the first occurrence of the specified element in this list, or -1 if this list does not contain the element.\n",
    "#####  int\tlastIndexOf​(Object o)\t\n",
    "Returns the index of the last occurrence of the specified element in this list, or -1 if this list does not contain the element.\n",
    "#####  E\tpeek​()\t\n",
    "Retrieves, but does not remove, the head (first element) of this list.\n",
    "#####  E\tpoll​()\t\n",
    "Retrieves and removes the head (first element) of this list.\n",
    "#####  E\tremove​()\t\n",
    "Retrieves and removes the head (first element) of this list.\n",
    "#####  E\tremove​(int index)\t\n",
    "Removes the element at the specified position in this list.\n",
    "#####  int\tsize​()\t\n",
    "Returns the number of elements in this list.\n",
    "#####  Object[]\ttoArray​()\t\n",
    "Returns an array containing all of the elements in this list in proper sequence (from first to last element)."
   ]
  },
  {
   "cell_type": "code",
   "execution_count": null,
   "metadata": {},
   "outputs": [],
   "source": []
  }
 ],
 "metadata": {
  "kernelspec": {
   "display_name": "Python 3",
   "language": "python",
   "name": "python3"
  },
  "language_info": {
   "codemirror_mode": {
    "name": "ipython",
    "version": 3
   },
   "file_extension": ".py",
   "mimetype": "text/x-python",
   "name": "python",
   "nbconvert_exporter": "python",
   "pygments_lexer": "ipython3",
   "version": "3.7.4"
  }
 },
 "nbformat": 4,
 "nbformat_minor": 2
}
