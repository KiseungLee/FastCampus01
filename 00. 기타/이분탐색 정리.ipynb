{
 "cells": [
  {
   "cell_type": "code",
   "execution_count": null,
   "metadata": {},
   "outputs": [],
   "source": [
    "일단 고무적인 점은 저번에 정리해둔\n",
    "    1. left<=right\n",
    "    2. mid = (left+right)//2\n",
    "    3. left = mid+1\n",
    "    4. right = mid-1\n",
    "    5. 여기서\n",
    "        1. 가능한 최댓값 찾기 : right 가져옴\n",
    "        2. 가능한 최솟값 찾기 : left 가져옴\n",
    "이걸 기계적으로 적용하니까 이분탐색 관련한 부분은 한방에 끝남\n",
    "다만, 이 문제에서 애먹고 있는 경우는\n",
    "문제의 요건이 애매한걸 캐치 못함(상한이 없어도 될때) - 질문보고 알았음\n",
    "더 이상 줄일 수 없는데 효율성테스트 1개 시간초과 남 - 함수 호출 시간이라도 줄어야 되나"
   ]
  }
 ],
 "metadata": {
  "kernelspec": {
   "display_name": "Python 3",
   "language": "python",
   "name": "python3"
  },
  "language_info": {
   "codemirror_mode": {
    "name": "ipython",
    "version": 3
   },
   "file_extension": ".py",
   "mimetype": "text/x-python",
   "name": "python",
   "nbconvert_exporter": "python",
   "pygments_lexer": "ipython3",
   "version": "3.7.4"
  }
 },
 "nbformat": 4,
 "nbformat_minor": 2
}
