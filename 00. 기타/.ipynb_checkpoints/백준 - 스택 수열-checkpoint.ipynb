{
 "cells": [
  {
   "cell_type": "code",
   "execution_count": 11,
   "metadata": {},
   "outputs": [],
   "source": [
    "input = open('input.txt').readline"
   ]
  },
  {
   "cell_type": "code",
   "execution_count": 12,
   "metadata": {},
   "outputs": [
    {
     "name": "stdout",
     "output_type": "stream",
     "text": [
      "NO\n"
     ]
    }
   ],
   "source": [
    "n = int(input())\n",
    "\n",
    "i = 1\n",
    "stack = []\n",
    "result = []\n",
    "is_no = False\n",
    "while n>0:\n",
    "    n-=1\n",
    "    now = int(input())\n",
    "    while i<=now:\n",
    "        stack.append(i)\n",
    "        result.append('+')\n",
    "        i+=1\n",
    "    if stack[-1] != now:\n",
    "        is_no = True\n",
    "        break\n",
    "    else:\n",
    "        stack.pop()\n",
    "        result.append('-')\n",
    "\n",
    "while stack:\n",
    "    stack.pop()\n",
    "    result.append('-')\n",
    "    \n",
    "if is_no:\n",
    "    print('NO')\n",
    "else:\n",
    "    for op in result:\n",
    "        print(op)\n",
    "\n",
    "        "
   ]
  },
  {
   "cell_type": "code",
   "execution_count": 7,
   "metadata": {},
   "outputs": [
    {
     "data": {
      "text/plain": [
       "False"
      ]
     },
     "execution_count": 7,
     "metadata": {},
     "output_type": "execute_result"
    }
   ],
   "source": [
    "is_no"
   ]
  },
  {
   "cell_type": "code",
   "execution_count": null,
   "metadata": {},
   "outputs": [],
   "source": []
  }
 ],
 "metadata": {
  "kernelspec": {
   "display_name": "Python 3",
   "language": "python",
   "name": "python3"
  },
  "language_info": {
   "codemirror_mode": {
    "name": "ipython",
    "version": 3
   },
   "file_extension": ".py",
   "mimetype": "text/x-python",
   "name": "python",
   "nbconvert_exporter": "python",
   "pygments_lexer": "ipython3",
   "version": "3.7.4"
  }
 },
 "nbformat": 4,
 "nbformat_minor": 2
}
