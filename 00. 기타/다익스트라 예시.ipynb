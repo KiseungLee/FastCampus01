{
 "cells": [
  {
   "cell_type": "markdown",
   "metadata": {},
   "source": [
    "![Dijkstra_Sample1_result.png](../img/Dijkstra_Sample1_result.png)"
   ]
  },
  {
   "cell_type": "markdown",
   "metadata": {},
   "source": [
    "![Dijkstra_Sample1.png](../img/Dijkstra_Sample1.png)"
   ]
  },
  {
   "cell_type": "code",
   "execution_count": null,
   "metadata": {},
   "outputs": [],
   "source": [
    "8 12\n",
    "0 3 4\n",
    "0 4 1\n",
    "3 1 9\n",
    "3 5 5 \n",
    "1 5 4\n",
    "1 2 1\n",
    "2 5 8\n",
    "2 6 5\n",
    "6 4 4\n",
    "6 5 3\n",
    "4 7 8\n",
    "5 7 5"
   ]
  },
  {
   "cell_type": "code",
   "execution_count": null,
   "metadata": {},
   "outputs": [],
   "source": []
  },
  {
   "cell_type": "code",
   "execution_count": null,
   "metadata": {},
   "outputs": [],
   "source": [
    "6 9\n",
    "1 2 7\n",
    "1 3 9\n",
    "1 6 14\n",
    "2 4 15\n",
    "2 3 10\n",
    "3 6 2\n",
    "3 4 11\n",
    "6 5 9\n",
    "4 5 6"
   ]
  },
  {
   "cell_type": "markdown",
   "metadata": {},
   "source": [
    "![Dijkstra_Animation.gif](../img/Dijkstra_Animation.gif)"
   ]
  },
  {
   "cell_type": "code",
   "execution_count": null,
   "metadata": {},
   "outputs": [],
   "source": [
    "# 1 ->  1  :  0\n",
    "# path :  [1]\n",
    "\n",
    "# 1 ->  2  :  7\n",
    "# path :  [1, 2]\n",
    "\n",
    "# 1 ->  3  :  9\n",
    "# path :  [1, 3]\n",
    "\n",
    "# 1 ->  4  :  20\n",
    "# path :  [1, 3, 4]\n",
    "\n",
    "# 1 ->  5  :  20\n",
    "# path :  [1, 3, 6, 5]\n",
    "\n",
    "# 1 ->  6  :  11\n",
    "# path :  [1, 3, 6]"
   ]
  },
  {
   "cell_type": "code",
   "execution_count": 33,
   "metadata": {},
   "outputs": [],
   "source": [
    "input = open('input.txt').readline\n",
    "\n",
    "# n : 노드 수, m : 간선 수\n",
    "n, m = map(int, input().split())\n",
    "# nodes : 한 노드를 key로 하고, 그 노드의 간선 정보 (목적지, 비용) 배열을 value로 갖음\n",
    "nodes = {}\n",
    "for i in range(n):\n",
    "    nodes[i] = []\n",
    "# 간선 정보 입력\n",
    "for _ in range(m):\n",
    "    x, y, cost = map(int, input().split())\n",
    "    nodes[x-1].append((y-1, cost))\n",
    "    nodes[y-1].append((x-1, cost))    "
   ]
  },
  {
   "cell_type": "code",
   "execution_count": 39,
   "metadata": {},
   "outputs": [
    {
     "name": "stdout",
     "output_type": "stream",
     "text": [
      "1 ->  1  :  0\n",
      "path :  [1]\n",
      "\n",
      "1 ->  2  :  7\n",
      "path :  [1, 2]\n",
      "\n",
      "1 ->  3  :  9\n",
      "path :  [1, 3]\n",
      "\n",
      "1 ->  4  :  20\n",
      "path :  [1, 3, 4]\n",
      "\n",
      "1 ->  5  :  20\n",
      "path :  [1, 3, 6, 5]\n",
      "\n",
      "1 ->  6  :  11\n",
      "path :  [1, 3, 6]\n",
      "\n"
     ]
    }
   ],
   "source": [
    "# 다익스트라 알고리즘\n",
    "from queue import deque\n",
    "import sys\n",
    "\n",
    "# 방문한 노드를 기록, 시작노드는 True로\n",
    "visited = [False]*n\n",
    "visited[0] = True\n",
    "# 방문할 노드를 갖는 queue\n",
    "visit_queue = deque()\n",
    "visit_queue.append(0)\n",
    "# 다익스트라) 비용을 기록할 배열\n",
    "costs = [sys.maxsize]*n\n",
    "costs[0]=0\n",
    "# 경로 추적) prev_arr[idx] : idx노드의 비용을 어디서 업데이트 받았는가(== 직전 노드가 어디인가)\n",
    "prev_arr = [0]*n\n",
    "\n",
    "while visit_queue:\n",
    "    now = visit_queue.popleft()\n",
    "    for next_, cost in nodes[now]:\n",
    "        # 다익스트라) 다음 노드에 현재 기록된 비용보다 낮은 비용이면 업데이트\n",
    "        if costs[next_] > costs[now]+cost:\n",
    "            costs[next_] = costs[now]+cost\n",
    "            # 경로 추적) 어디서 업데이트 받았는지 기록\n",
    "            prev_arr[next_] = now\n",
    "        # 방문 안했던 곳이면 대기열에 추가\n",
    "        if not visited[next_]:\n",
    "            visited[next_] = True\n",
    "            visit_queue.append(next_)        \n",
    "            \n",
    "for i in range(n):\n",
    "    print('1 -> ', i+1, ' : ', costs[i])\n",
    "    path = [i]\n",
    "    while i!=prev_arr[i]:\n",
    "        i = prev_arr[i]\n",
    "        path.append(i)\n",
    "    path = [j+1 for j in reversed(path)]\n",
    "    print('path : ', path)\n",
    "    print()"
   ]
  },
  {
   "cell_type": "code",
   "execution_count": 31,
   "metadata": {},
   "outputs": [],
   "source": [
    "def print_path_from_zero(prev_arr, x):\n",
    "    path = [x]\n",
    "    while x!=prev_arr[x]:\n",
    "        x = prev_arr[x]\n",
    "        path.append(x)\n",
    "    for i in range(len(path)-1, -1, -1):\n",
    "        print(path[i]+1, end=' ')"
   ]
  },
  {
   "cell_type": "code",
   "execution_count": 32,
   "metadata": {},
   "outputs": [
    {
     "name": "stdout",
     "output_type": "stream",
     "text": [
      "1 3 6 "
     ]
    }
   ],
   "source": [
    "print_path_from_zero(prev_arr, 6)"
   ]
  },
  {
   "cell_type": "code",
   "execution_count": null,
   "metadata": {},
   "outputs": [],
   "source": []
  },
  {
   "cell_type": "code",
   "execution_count": 11,
   "metadata": {},
   "outputs": [
    {
     "data": {
      "text/plain": [
       "[3, 2, 0]"
      ]
     },
     "execution_count": 11,
     "metadata": {},
     "output_type": "execute_result"
    }
   ],
   "source": [
    "find_path_from_zero(prev_arr, 3)"
   ]
  },
  {
   "cell_type": "code",
   "execution_count": 15,
   "metadata": {},
   "outputs": [
    {
     "data": {
      "text/plain": [
       "[9223372036854775807,\n",
       " 9223372036854775807,\n",
       " 9223372036854775807,\n",
       " 9223372036854775807,\n",
       " 9223372036854775807,\n",
       " 9223372036854775807]"
      ]
     },
     "execution_count": 15,
     "metadata": {},
     "output_type": "execute_result"
    }
   ],
   "source": [
    "costs"
   ]
  },
  {
   "cell_type": "code",
   "execution_count": null,
   "metadata": {},
   "outputs": [],
   "source": []
  },
  {
   "cell_type": "code",
   "execution_count": 12,
   "metadata": {},
   "outputs": [
    {
     "name": "stdout",
     "output_type": "stream",
     "text": [
      "1 2 3 6 4 5 "
     ]
    }
   ],
   "source": [
    "# 일반 BFS 탐색\n",
    "from queue import deque\n",
    "\n",
    "# 방문한 노드를 기록, 시작노드는 True로\n",
    "visited = [False]*n\n",
    "visited[0] = True\n",
    "# 방문할 노드를 갖는 queue\n",
    "visit_queue = deque()\n",
    "visit_queue.append(0)\n",
    "# 방문 노드를 기록할 배열\n",
    "visited_result = [0]\n",
    "\n",
    "# BFS\n",
    "while visit_queue:\n",
    "    now = visit_queue.popleft()\n",
    "    for next_, cost in nodes[now]:\n",
    "        # 방문 안했던 곳이면 대기열에 추가\n",
    "        if not visited[next_]:\n",
    "            visited[next_] = True\n",
    "            visited_result.append(next_)\n",
    "            visit_queue.append(next_)\n",
    "            \n",
    "# 결과 출력\n",
    "for node in visited_result:\n",
    "    print(node + 1, end = ' ')\n",
    "# >> 1 2 3 6 4 5 "
   ]
  },
  {
   "cell_type": "code",
   "execution_count": 3,
   "metadata": {},
   "outputs": [
    {
     "data": {
      "text/plain": [
       "[0, 1, 2, 5, 3, 4]"
      ]
     },
     "execution_count": 3,
     "metadata": {},
     "output_type": "execute_result"
    }
   ],
   "source": [
    "visited_result"
   ]
  },
  {
   "cell_type": "code",
   "execution_count": 19,
   "metadata": {},
   "outputs": [
    {
     "data": {
      "text/plain": [
       "{0: [(1, 7), (2, 9), (5, 14)],\n",
       " 1: [(0, 7), (3, 15), (2, 10)],\n",
       " 2: [(0, 9), (1, 10), (5, 2), (3, 11)],\n",
       " 3: [(1, 15), (2, 11), (4, 6)],\n",
       " 4: [(5, 9), (3, 6)],\n",
       " 5: [(0, 14), (2, 2), (4, 9)]}"
      ]
     },
     "execution_count": 19,
     "metadata": {},
     "output_type": "execute_result"
    }
   ],
   "source": [
    "nodes"
   ]
  },
  {
   "cell_type": "code",
   "execution_count": null,
   "metadata": {},
   "outputs": [],
   "source": []
  }
 ],
 "metadata": {
  "kernelspec": {
   "display_name": "Python 3",
   "language": "python",
   "name": "python3"
  },
  "language_info": {
   "codemirror_mode": {
    "name": "ipython",
    "version": 3
   },
   "file_extension": ".py",
   "mimetype": "text/x-python",
   "name": "python",
   "nbconvert_exporter": "python",
   "pygments_lexer": "ipython3",
   "version": "3.7.4"
  }
 },
 "nbformat": 4,
 "nbformat_minor": 2
}
