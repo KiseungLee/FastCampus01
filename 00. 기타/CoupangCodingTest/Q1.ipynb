{
 "cells": [
  {
   "cell_type": "code",
   "execution_count": 9,
   "metadata": {},
   "outputs": [],
   "source": [
    "n = 6\n",
    "min_position = -10\n",
    "max_position = 10\n",
    "position = [6, -10, 2, -6]"
   ]
  },
  {
   "cell_type": "code",
   "execution_count": 22,
   "metadata": {},
   "outputs": [],
   "source": [
    "def solution(n, min_position, max_position, position):\n",
    "    \n",
    "    gap = (max_position - min_position)/(n-1)\n",
    "    \n",
    "    arr = set([min_position+(i-1)*gap for i in range(1, n+1)])\n",
    "    \n",
    "    positions_set = set(position)\n",
    "    \n",
    "    answer = [int(i) for i in arr-positions_set]\n",
    "    \n",
    "    return sorted(answer)"
   ]
  },
  {
   "cell_type": "code",
   "execution_count": 23,
   "metadata": {},
   "outputs": [
    {
     "name": "stdout",
     "output_type": "stream",
     "text": [
      "{10.0, -2.0}\n",
      "[10, -2]\n"
     ]
    },
    {
     "data": {
      "text/plain": [
       "[-2, 10]"
      ]
     },
     "execution_count": 23,
     "metadata": {},
     "output_type": "execute_result"
    }
   ],
   "source": [
    "solution(n, min_position, max_position, position)"
   ]
  },
  {
   "cell_type": "code",
   "execution_count": null,
   "metadata": {},
   "outputs": [],
   "source": []
  }
 ],
 "metadata": {
  "kernelspec": {
   "display_name": "Python 3",
   "language": "python",
   "name": "python3"
  },
  "language_info": {
   "codemirror_mode": {
    "name": "ipython",
    "version": 3
   },
   "file_extension": ".py",
   "mimetype": "text/x-python",
   "name": "python",
   "nbconvert_exporter": "python",
   "pygments_lexer": "ipython3",
   "version": "3.7.4"
  }
 },
 "nbformat": 4,
 "nbformat_minor": 2
}
