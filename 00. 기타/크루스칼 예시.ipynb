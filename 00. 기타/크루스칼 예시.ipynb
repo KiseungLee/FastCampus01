{
 "cells": [
  {
   "cell_type": "code",
   "execution_count": 4,
   "metadata": {},
   "outputs": [],
   "source": [
    "from IPython.display import Image"
   ]
  },
  {
   "cell_type": "markdown",
   "metadata": {},
   "source": [
    "![kruskal_graph3.png](../img/kruskal_graph3.png)"
   ]
  },
  {
   "cell_type": "code",
   "execution_count": 74,
   "metadata": {},
   "outputs": [],
   "source": [
    "edges = [['A','D', 5], ['C', 'E', 5],['D','F',6],['B','A',7],['B','E',7],['B','C',8],['F','E',8],['D','B',9],['G','E',9],['F','G',11],['D','E',15] ]"
   ]
  },
  {
   "cell_type": "code",
   "execution_count": 75,
   "metadata": {},
   "outputs": [],
   "source": [
    "edges = sorted(edges, key=lambda x : x[2])\n",
    "g_total_cost = 0"
   ]
  },
  {
   "cell_type": "code",
   "execution_count": 76,
   "metadata": {},
   "outputs": [],
   "source": [
    "g_parent = {}\n",
    "for c in ['A','B','C','D','E','F','G']:\n",
    "    g_parent[c] = c"
   ]
  },
  {
   "cell_type": "code",
   "execution_count": 77,
   "metadata": {},
   "outputs": [
    {
     "data": {
      "text/plain": [
       "{'A': 'A', 'B': 'B', 'C': 'C', 'D': 'D', 'E': 'E', 'F': 'F', 'G': 'G'}"
      ]
     },
     "execution_count": 77,
     "metadata": {},
     "output_type": "execute_result"
    }
   ],
   "source": [
    "g_parent"
   ]
  },
  {
   "cell_type": "code",
   "execution_count": 78,
   "metadata": {},
   "outputs": [],
   "source": [
    "def find(x):\n",
    "    global g_parent\n",
    "    while x!=g_parent[x]:\n",
    "        x = g_parent[x]\n",
    "    return x"
   ]
  },
  {
   "cell_type": "code",
   "execution_count": 79,
   "metadata": {},
   "outputs": [],
   "source": [
    "def union(x, y, cost):\n",
    "    global g_total_cost\n",
    "    g_total_cost += cost\n",
    "#    g_parent[y] = x\n",
    "    if x<=y:\n",
    "        g_parent[y] = x\n",
    "    else:\n",
    "        g_parent[x] = y"
   ]
  },
  {
   "cell_type": "code",
   "execution_count": 80,
   "metadata": {},
   "outputs": [],
   "source": [
    "for edge in edges:\n",
    "    x = find(edge[0])\n",
    "    y = find(edge[1])\n",
    "    if x!=y:\n",
    "        union(x, y, edge[2])"
   ]
  },
  {
   "cell_type": "code",
   "execution_count": 81,
   "metadata": {},
   "outputs": [
    {
     "name": "stdout",
     "output_type": "stream",
     "text": [
      "total cost :  39\n",
      "A  ->  A\n",
      "B  ->  A\n",
      "C  ->  A\n",
      "D  ->  A\n",
      "E  ->  C\n",
      "F  ->  A\n",
      "G  ->  A\n"
     ]
    }
   ],
   "source": [
    "print('total cost : ', g_total_cost)\n",
    "for key, value in g_parent.items():\n",
    "    print(key,' -> ', value)"
   ]
  },
  {
   "cell_type": "code",
   "execution_count": 30,
   "metadata": {},
   "outputs": [
    {
     "data": {
      "text/plain": [
       "39"
      ]
     },
     "execution_count": 30,
     "metadata": {},
     "output_type": "execute_result"
    }
   ],
   "source": [
    "5+7+6+7+5+9"
   ]
  },
  {
   "cell_type": "code",
   "execution_count": null,
   "metadata": {},
   "outputs": [],
   "source": []
  }
 ],
 "metadata": {
  "kernelspec": {
   "display_name": "Python 3",
   "language": "python",
   "name": "python3"
  },
  "language_info": {
   "codemirror_mode": {
    "name": "ipython",
    "version": 3
   },
   "file_extension": ".py",
   "mimetype": "text/x-python",
   "name": "python",
   "nbconvert_exporter": "python",
   "pygments_lexer": "ipython3",
   "version": "3.7.4"
  }
 },
 "nbformat": 4,
 "nbformat_minor": 2
}
