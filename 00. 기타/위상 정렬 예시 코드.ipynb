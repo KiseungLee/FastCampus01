{
 "cells": [
  {
   "cell_type": "code",
   "execution_count": null,
   "metadata": {},
   "outputs": [],
   "source": [
    "5 6\n",
    "Java Oracle Spring JPA SpringJPA\n",
    "Oracle SpringJPA\n",
    "Java JPA\n",
    "Spring SpringJPA\n",
    "Oracle JPA\n",
    "Java Spring\n",
    "JPA SpringJPA"
   ]
  },
  {
   "cell_type": "code",
   "execution_count": 26,
   "metadata": {},
   "outputs": [
    {
     "name": "stdout",
     "output_type": "stream",
     "text": [
      "['Java', 'Oracle', 'Spring', 'JPA', 'SpringJPA']\n"
     ]
    }
   ],
   "source": [
    "input = open('input.txt').readline\n",
    "\n",
    "# 노드 갯수, 간선 갯수 입력\n",
    "n, m = map(int, input().split())\n",
    "# 노드 입력\n",
    "subjects = list(map(str, input().split()))\n",
    "\n",
    "# 진입 차수 기록 dictionary\n",
    "indegree = {};\n",
    "# 간선 기록 dictionary\n",
    "edges = {};\n",
    "# 진입 차수 및 간선 초기화\n",
    "for subject in subjects:\n",
    "    indegree[subject] = 0\n",
    "    edges[subject] = []\n",
    "    \n",
    "# 진입 차수 0인 노드를 관리할 큐\n",
    "from queue import deque\n",
    "indegree_zero_queue = deque()\n",
    "# 큐에 초기 진입차수 0짜리 입력\n",
    "for key, value in indegree.items():\n",
    "    if value == 0:\n",
    "        indegree_zero_queue.append(key)\n",
    "        \n",
    "# 진입차수와 큐를 이용한 위상정렬 수행\n",
    "result = []\n",
    "while indegree_zero_queue:\n",
    "    # 현재 노드를 위상 순서에 추가\n",
    "    now = indegree_zero_queue.popleft()\n",
    "    result.append(now)\n",
    "    # 현재 노드의 후행 노드를 탐색\n",
    "    for next_ in edges[now]:\n",
    "        # 진입 차수를 1 감소 시키고, 감소된 진입 차수가 0이면 큐에 삽입\n",
    "        indegree[next_] -= 1\n",
    "        if indegree[next_] == 0:\n",
    "            indegree_zero_queue.append(next_)\n",
    "            \n",
    "print(result)"
   ]
  },
  {
   "cell_type": "code",
   "execution_count": null,
   "metadata": {},
   "outputs": [],
   "source": []
  },
  {
   "cell_type": "code",
   "execution_count": null,
   "metadata": {},
   "outputs": [],
   "source": []
  },
  {
   "cell_type": "code",
   "execution_count": null,
   "metadata": {},
   "outputs": [],
   "source": []
  },
  {
   "cell_type": "code",
   "execution_count": 24,
   "metadata": {},
   "outputs": [],
   "source": [
    "# dfs\n",
    "def dfs(edges, visited, result, key):\n",
    "    if not visited[key]:\n",
    "        # 연결된 후행 노드부터 방문\n",
    "        for next_ in edges[key]:\n",
    "            if not visited[next_]:\n",
    "                dfs(edges, visited, result, next_)\n",
    "        # 후행 노드를 모드 방문 후 현재 노드 기록\n",
    "        visited[key] = True;\n",
    "        result.append(key)"
   ]
  },
  {
   "cell_type": "code",
   "execution_count": 25,
   "metadata": {},
   "outputs": [
    {
     "name": "stdout",
     "output_type": "stream",
     "text": [
      "['Oracle', 'Java', 'Spring', 'JPA', 'SpringJPA']\n"
     ]
    }
   ],
   "source": [
    "input = open('input.txt').readline\n",
    "\n",
    "# 노드 갯수, 간선 갯수 입력\n",
    "n, m = map(int, input().split())\n",
    "# 노드 입력\n",
    "subjects = list(map(str, input().split()))\n",
    "\n",
    "# 진입 차수 기록 dictionary\n",
    "indegree = {};\n",
    "# 간선 기록 dictionary\n",
    "edges = {};\n",
    "# 진입 차수 및 간선 초기화\n",
    "for subject in subjects:\n",
    "    indegree[subject] = 0\n",
    "    edges[subject] = []\n",
    "\n",
    "# 간선 입력\n",
    "for _ in range(m):\n",
    "    before, after = map(str, input().split())\n",
    "    indegree[after] += 1;\n",
    "    edges[before].append(after)\n",
    "    \n",
    "# 방문 노드 기록할 딕셔너리(보통은 배열을 사용하나 노드를 index가 아니라 String으로 받는 바람에..)\n",
    "visited = {}\n",
    "for subject in subjects:\n",
    "    visited[subject] = False\n",
    "    \n",
    "# 결과를 담을 배열\n",
    "result = []\n",
    "\n",
    "# 진입 차수가 0인 것들부터 dfs \n",
    "for key, value in indegree.items():\n",
    "    if value == 0:\n",
    "        dfs(edges, visited, result, key)\n",
    "        \n",
    "# 결과 출력\n",
    "result.reverse()\n",
    "print(result)"
   ]
  },
  {
   "cell_type": "code",
   "execution_count": 17,
   "metadata": {},
   "outputs": [
    {
     "data": {
      "text/plain": [
       "['SpringJPA', 'JPA', 'Spring', 'Java', 'Oracle']"
      ]
     },
     "execution_count": 17,
     "metadata": {},
     "output_type": "execute_result"
    }
   ],
   "source": [
    "result"
   ]
  },
  {
   "cell_type": "code",
   "execution_count": 8,
   "metadata": {},
   "outputs": [
    {
     "data": {
      "text/plain": [
       "'SpringJPA'"
      ]
     },
     "execution_count": 8,
     "metadata": {},
     "output_type": "execute_result"
    }
   ],
   "source": [
    "after"
   ]
  },
  {
   "cell_type": "code",
   "execution_count": null,
   "metadata": {},
   "outputs": [],
   "source": []
  }
 ],
 "metadata": {
  "kernelspec": {
   "display_name": "Python 3",
   "language": "python",
   "name": "python3"
  },
  "language_info": {
   "codemirror_mode": {
    "name": "ipython",
    "version": 3
   },
   "file_extension": ".py",
   "mimetype": "text/x-python",
   "name": "python",
   "nbconvert_exporter": "python",
   "pygments_lexer": "ipython3",
   "version": "3.7.4"
  }
 },
 "nbformat": 4,
 "nbformat_minor": 2
}
