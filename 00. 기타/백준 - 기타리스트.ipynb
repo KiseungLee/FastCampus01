{
 "cells": [
  {
   "cell_type": "code",
   "execution_count": 4,
   "metadata": {},
   "outputs": [
    {
     "name": "stdout",
     "output_type": "stream",
     "text": [
      "10\n"
     ]
    }
   ],
   "source": [
    "input = open('input.txt').readline\n",
    "\n",
    "n, s, m = map(int, input().split())\n",
    "volumes = list(map(int, input().split()))\n",
    "set1 = set()\n",
    "set2 = set()\n",
    "set1.add(s)\n",
    "is_break = False\n",
    "for volume in volumes:\n",
    "    for now in set1:\n",
    "        if now+volume <= m:\n",
    "            set2.add(now+volume)\n",
    "        if now-volume >= 0:\n",
    "            set2.add(now-volume)\n",
    "    if len(set2)==0:\n",
    "        is_break = True\n",
    "        break\n",
    "    set1 = set2\n",
    "    set2 = set()\n",
    "    \n",
    "if is_break:\n",
    "    print(-1)\n",
    "else:\n",
    "    print(max(set1))\n",
    "    "
   ]
  },
  {
   "cell_type": "code",
   "execution_count": null,
   "metadata": {},
   "outputs": [],
   "source": []
  }
 ],
 "metadata": {
  "kernelspec": {
   "display_name": "Python 3",
   "language": "python",
   "name": "python3"
  },
  "language_info": {
   "codemirror_mode": {
    "name": "ipython",
    "version": 3
   },
   "file_extension": ".py",
   "mimetype": "text/x-python",
   "name": "python",
   "nbconvert_exporter": "python",
   "pygments_lexer": "ipython3",
   "version": "3.7.4"
  }
 },
 "nbformat": 4,
 "nbformat_minor": 2
}
