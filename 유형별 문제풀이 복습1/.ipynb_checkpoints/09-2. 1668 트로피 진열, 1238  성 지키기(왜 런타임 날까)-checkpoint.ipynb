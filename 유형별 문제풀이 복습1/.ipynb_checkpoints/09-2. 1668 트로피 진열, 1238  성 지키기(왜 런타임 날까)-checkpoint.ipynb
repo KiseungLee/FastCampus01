{
 "cells": [
  {
   "cell_type": "code",
   "execution_count": 2,
   "metadata": {},
   "outputs": [
    {
     "name": "stdout",
     "output_type": "stream",
     "text": [
      "5\n",
      "1\n",
      "2\n",
      "3\n",
      "4\n",
      "5\n",
      "5\n",
      "1\n"
     ]
    }
   ],
   "source": [
    "# https://www.acmicpc.net/problem/1668\n",
    "\n",
    "n = int(input())\n",
    "\n",
    "arr = []\n",
    "for _ in range(n):\n",
    "    arr.append(int(input()))\n",
    "    \n",
    "local_max = 0\n",
    "local_count = 0\n",
    "for i in arr:\n",
    "    if local_max < i:\n",
    "        local_max = i\n",
    "        local_count +=1\n",
    "print(local_count)\n",
    "\n",
    "arr.reverse()\n",
    "\n",
    "local_max = 0\n",
    "local_count = 0\n",
    "for i in arr:\n",
    "    if local_max < i:\n",
    "        local_max = i\n",
    "        local_count +=1\n",
    "print(local_count)"
   ]
  },
  {
   "cell_type": "code",
   "execution_count": null,
   "metadata": {},
   "outputs": [],
   "source": [
    "# 선생님\n",
    "\n",
    "# 역시 갯수가 50까지 밖에 없으니 아무렇게나 풀어도 됨 ㅋㅋ\n",
    "# 여기선 한쪽에서 봤을때 보이는 거 갯수 찾는 함수를 하나 만들고 \n",
    "# 입력받은 어레이에서 한번 돌리고, 뒤집어서 한번 돌리고\n",
    "\n",
    "# 뒤집을땐 array.reverse() 를 알아두자.\n",
    "\n",
    "def ascending(array):\n",
    "    now = array[0]\n",
    "    result = 1\n",
    "    for i in range(1, len(array)):\n",
    "        if now < array[i]:\n",
    "            result += 1\n",
    "            now = array[i]\n",
    "    return result\n",
    "\n",
    "\n",
    "n = int(input())\n",
    "array = []\n",
    "\n",
    "for _ in range(n):\n",
    "    array.append(int(input()))\n",
    "    \n",
    "print(ascending(array))\n",
    "array.reverse()\n",
    "print(ascending(array))"
   ]
  },
  {
   "cell_type": "code",
   "execution_count": 42,
   "metadata": {},
   "outputs": [
    {
     "name": "stdout",
     "output_type": "stream",
     "text": [
      "5 6\n",
      "X X . . . .\n",
      "X . . X . .\n",
      "X . . X . .\n",
      "X . . . . .\n",
      ". . . . . .\n"
     ]
    }
   ],
   "source": [
    "# https://www.acmicpc.net/problem/1236\n",
    "\n",
    "n, m = map(int, input().split())\n",
    "arr = []\n",
    "for _ in range(n):\n",
    "    arr_temp = list(map(str, input().split()))\n",
    "    arr_temp2 = [0 if i=='.' else 1 for i in arr_temp]\n",
    "    arr.append(arr_temp2)"
   ]
  },
  {
   "cell_type": "code",
   "execution_count": 43,
   "metadata": {},
   "outputs": [],
   "source": [
    "zip1 = [sum(temp) for temp in arr]"
   ]
  },
  {
   "cell_type": "code",
   "execution_count": 44,
   "metadata": {},
   "outputs": [],
   "source": [
    "zip2 = [0]*m\n",
    "for i in range(m):\n",
    "    for j in range(n):\n",
    "        zip2[i] += arr[j][i] "
   ]
  },
  {
   "cell_type": "code",
   "execution_count": 45,
   "metadata": {},
   "outputs": [],
   "source": [
    "zip1_count = 0\n",
    "for i in zip1:\n",
    "    if i==0:\n",
    "        zip1_count += 1\n",
    "zip2_count = 0\n",
    "for i in zip2:\n",
    "    if i==0:\n",
    "        zip2_count += 1"
   ]
  },
  {
   "cell_type": "code",
   "execution_count": 46,
   "metadata": {},
   "outputs": [
    {
     "name": "stdout",
     "output_type": "stream",
     "text": [
      "3\n"
     ]
    }
   ],
   "source": [
    "print(max(zip1_count, zip2_count))\n",
    "\n",
    "# 왜 런타임 에러가 날까..."
   ]
  },
  {
   "cell_type": "code",
   "execution_count": null,
   "metadata": {},
   "outputs": [],
   "source": [
    "# 선생님\n",
    "\n",
    "n, m = map(int, input().split())\n",
    "array = []\n",
    "\n",
    "for _ in range(n):\n",
    "    array.append(input())\n",
    "    \n",
    "row = [0] * n\n",
    "column = [0] * m\n",
    "\n",
    "######################### 이 부분만 보면 될 듯 ########################\n",
    "for i in range(n):\n",
    "    for j in range(m):\n",
    "        if array[i][j] == 'X':\n",
    "            row[i] = 1\n",
    "            column[j] = 1\n",
    "######################### 이 부분만 보면 될 듯 ########################\n",
    "\n",
    "row_count = 0\n",
    "for i in range(n):\n",
    "    if row[i] == 0:\n",
    "        row_count += 1\n",
    "\n",
    "column_count = 0\n",
    "for j in range(m):\n",
    "    if column[j] == 0:\n",
    "        column_count += 1\n",
    "\n",
    "print(max(row_count, column_count))"
   ]
  }
 ],
 "metadata": {
  "kernelspec": {
   "display_name": "Python 3",
   "language": "python",
   "name": "python3"
  },
  "language_info": {
   "codemirror_mode": {
    "name": "ipython",
    "version": 3
   },
   "file_extension": ".py",
   "mimetype": "text/x-python",
   "name": "python",
   "nbconvert_exporter": "python",
   "pygments_lexer": "ipython3",
   "version": "3.7.1"
  }
 },
 "nbformat": 4,
 "nbformat_minor": 2
}
