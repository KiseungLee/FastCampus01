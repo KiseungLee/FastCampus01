{
 "cells": [
  {
   "cell_type": "code",
   "execution_count": 1,
   "metadata": {
    "scrolled": true
   },
   "outputs": [
    {
     "name": "stdout",
     "output_type": "stream",
     "text": [
      "1 2 3 4 5 6 7\n",
      "ascending\n"
     ]
    }
   ],
   "source": [
    "# https://www.acmicpc.net/problem/2920\n",
    "    \n",
    "array = list(map(int, input().split()))\n",
    "\n",
    "ascend = True\n",
    "descend = True\n",
    "\n",
    "for i in range(len(array)-1):\n",
    "    if array[i] < array[i+1]:\n",
    "        descend = False\n",
    "    if array[i] > array[i+1]:\n",
    "        ascend = False\n",
    "\n",
    "if ascend:\n",
    "    print(\"ascending\")\n",
    "elif descend:\n",
    "    print(\"descending\")\n",
    "else:\n",
    "    print(\"mixed\")"
   ]
  },
  {
   "cell_type": "code",
   "execution_count": 15,
   "metadata": {},
   "outputs": [
    {
     "name": "stdout",
     "output_type": "stream",
     "text": [
      "5 21\n",
      "5 6 7 8 9\n",
      "21\n"
     ]
    }
   ],
   "source": [
    "# https://www.acmicpc.net/problem/2798\n",
    "\n",
    "n, m = map(int, input().split())\n",
    "\n",
    "array = list(map(int, input().split()))\n",
    "\n",
    "max_global = -1\n",
    "for i in range(len(array)-2):\n",
    "    for j in range(i+1, len(array)-1):\n",
    "        for k in range(j+1, len(array)):\n",
    "            sum_local = array[i]+array[j]+array[k]\n",
    "            if sum_local > max_global and sum_local<=m:\n",
    "                max_global = sum_local\n",
    "\n",
    "print(max_global)"
   ]
  },
  {
   "cell_type": "code",
   "execution_count": null,
   "metadata": {},
   "outputs": [],
   "source": []
  }
 ],
 "metadata": {
  "kernelspec": {
   "display_name": "Python 3",
   "language": "python",
   "name": "python3"
  },
  "language_info": {
   "codemirror_mode": {
    "name": "ipython",
    "version": 3
   },
   "file_extension": ".py",
   "mimetype": "text/x-python",
   "name": "python",
   "nbconvert_exporter": "python",
   "pygments_lexer": "ipython3",
   "version": "3.7.4"
  }
 },
 "nbformat": 4,
 "nbformat_minor": 2
}
