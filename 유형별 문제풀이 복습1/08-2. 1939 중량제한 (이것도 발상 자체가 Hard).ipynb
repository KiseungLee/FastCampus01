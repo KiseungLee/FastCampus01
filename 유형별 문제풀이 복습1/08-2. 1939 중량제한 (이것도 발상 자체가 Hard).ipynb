{
 "cells": [
  {
   "cell_type": "code",
   "execution_count": 55,
   "metadata": {},
   "outputs": [
    {
     "name": "stdout",
     "output_type": "stream",
     "text": [
      "3 3\n",
      "1 2 2\n",
      "3 1 3\n",
      "2 3 2\n"
     ]
    }
   ],
   "source": [
    "# https://www.acmicpc.net/problem/1939\n",
    "\n",
    "import copy\n",
    "\n",
    "n, m = map(int, input().split())\n",
    "\n",
    "load = {}\n",
    "weight = {}\n",
    "\n",
    "for _ in range(m):\n",
    "    a, b, c = map(int, input().split())\n",
    "    if a not in load:\n",
    "        load[a] = [b]\n",
    "    else:\n",
    "        if b not in load[a]:\n",
    "            load[a].append(b)\n",
    "    if b not in load:\n",
    "        load[b] = [a]\n",
    "    else:\n",
    "        load[b].append(a)\n",
    "    if (a, b) in weight:\n",
    "        weight[(a, b)] = max(weight[(a, b)], c)\n",
    "    else:\n",
    "        weight[(a, b)] = c\n",
    "    if (b, a) in weight:\n",
    "        weight[(b, a)] = max(weight[(b, a)], c)\n",
    "    else:\n",
    "        weight[(b, a)] = c"
   ]
  },
  {
   "cell_type": "code",
   "execution_count": 56,
   "metadata": {},
   "outputs": [
    {
     "name": "stdout",
     "output_type": "stream",
     "text": [
      "1 3\n"
     ]
    }
   ],
   "source": [
    "start, end = map(int, input().split())"
   ]
  },
  {
   "cell_type": "code",
   "execution_count": 57,
   "metadata": {},
   "outputs": [],
   "source": [
    "nominate = []\n",
    "visited = []\n",
    "def bfs(visited, value, minimum):\n",
    "    if value==end:\n",
    "        nominate.append(minimum)\n",
    "    else:\n",
    "        visited.append(value)\n",
    "        for i in load[value]:\n",
    "            if i not in visited:\n",
    "                w = weight[(value, i)]\n",
    "                minimum2 = min(w, minimum)\n",
    "                bfs(copy.deepcopy(visited), i, minimum2)"
   ]
  },
  {
   "cell_type": "code",
   "execution_count": 58,
   "metadata": {},
   "outputs": [],
   "source": [
    "bfs(visited, start, 1000000000)"
   ]
  },
  {
   "cell_type": "code",
   "execution_count": 59,
   "metadata": {},
   "outputs": [
    {
     "name": "stdout",
     "output_type": "stream",
     "text": [
      "3\n"
     ]
    }
   ],
   "source": [
    "print(max(nominate))"
   ]
  },
  {
   "cell_type": "code",
   "execution_count": 38,
   "metadata": {},
   "outputs": [
    {
     "data": {
      "text/plain": [
       "{1: [2], 2: [1, 3, 4], 3: [2, 2, 4, 5], 4: [2, 3, 5], 5: [3, 4, 6], 6: [5, 5]}"
      ]
     },
     "execution_count": 38,
     "metadata": {},
     "output_type": "execute_result"
    }
   ],
   "source": [
    "load"
   ]
  },
  {
   "cell_type": "code",
   "execution_count": 60,
   "metadata": {},
   "outputs": [
    {
     "name": "stdout",
     "output_type": "stream",
     "text": [
      "3 3\n",
      "1 2 2\n",
      "3 1 3\n",
      "2 3 2\n",
      "1 3\n",
      "3\n"
     ]
    }
   ],
   "source": [
    "# https://www.acmicpc.net/problem/1939\n",
    "\n",
    "import copy\n",
    "\n",
    "n, m = map(int, input().split())\n",
    "\n",
    "load = {}\n",
    "weight = {}\n",
    "\n",
    "for _ in range(m):\n",
    "    a, b, c = map(int, input().split())\n",
    "    if a not in load:\n",
    "        load[a] = [b]\n",
    "    else:\n",
    "        if b not in load[a]:\n",
    "            load[a].append(b)\n",
    "    if b not in load:\n",
    "        load[b] = [a]\n",
    "    else:\n",
    "        load[b].append(a)\n",
    "    if (a, b) in weight:\n",
    "        weight[(a, b)] = max(weight[(a, b)], c)\n",
    "    else:\n",
    "        weight[(a, b)] = c\n",
    "    if (b, a) in weight:\n",
    "        weight[(b, a)] = max(weight[(b, a)], c)\n",
    "    else:\n",
    "        weight[(b, a)] = c\n",
    "        \n",
    "start, end = map(int, input().split())\n",
    "\n",
    "def bfs(visited, value, minimum):\n",
    "    if value==end:\n",
    "        nominate.append(minimum)\n",
    "    else:\n",
    "        visited.append(value)\n",
    "        for i in load[value]:\n",
    "            if i not in visited:\n",
    "                w = weight[(value, i)]\n",
    "                minimum2 = min(w, minimum)\n",
    "                bfs(copy.deepcopy(visited), i, minimum2)\n",
    "                \n",
    "nominate = []\n",
    "visited = []        \n",
    "\n",
    "bfs(visited, start, 1000000000)\n",
    "\n",
    "print(max(nominate))\n",
    "\n",
    "# 코드가 지저분하긴해도 맞는거 같은데 런타임 에러 뜬다..\n",
    "# 스택오버플로인가"
   ]
  },
  {
   "cell_type": "code",
   "execution_count": null,
   "metadata": {},
   "outputs": [],
   "source": [
    "# 선생님\n",
    "\n",
    "# 일단 이 문제도 08-1 문제와 같은 방법으로 품. 근데 이걸 어떻게 발견하냐!\n",
    "\n",
    "# 2<=N<=10,000  1<=M<=100,000 일단 이거 보고 그냥 탐색을 쓰면 끝장 난다는걸 캐치해야 됨. 다른 대안을 고민하던 차에\n",
    "# 1<=C<=1,000,000,000 에서 포착하면 좋음. 10억이라는 터무늬 없는 숫자를 줬음. \n",
    "# 이진 탐색을 떠올리면 좋음\n",
    "\n",
    "# 일단 방법은 min_weight, max_weight를 잡고, 절반을 mid_weight로 잡음.\n",
    "# 설정한 mid_weight로 무게제한이 달린 bfs를 돌림. 돌아간다면 \n",
    "# min_weight = mid_weight 로 두고 mid_weight를 잡고 다시 반복.\n",
    "# 안돌아가면\n",
    "# max_weight = mid_weight 로 두고 mid_weight 잡고 반복\n",
    "\n",
    "# 종료조건 잘 줘서 끝내주자."
   ]
  }
 ],
 "metadata": {
  "kernelspec": {
   "display_name": "Python 3",
   "language": "python",
   "name": "python3"
  },
  "language_info": {
   "codemirror_mode": {
    "name": "ipython",
    "version": 3
   },
   "file_extension": ".py",
   "mimetype": "text/x-python",
   "name": "python",
   "nbconvert_exporter": "python",
   "pygments_lexer": "ipython3",
   "version": "3.7.1"
  }
 },
 "nbformat": 4,
 "nbformat_minor": 2
}
