{
 "cells": [
  {
   "cell_type": "code",
   "execution_count": null,
   "metadata": {},
   "outputs": [],
   "source": []
  },
  {
   "cell_type": "code",
   "execution_count": 35,
   "metadata": {},
   "outputs": [],
   "source": [
    "from collections import deque\n",
    "\n",
    "class wordGraph:\n",
    "    def __init__(self, arr):\n",
    "        self.dic = dict()\n",
    "        for word in arr:\n",
    "            self.dic[word] = []\n",
    "            \n",
    "        for i in range(len(arr)-1):\n",
    "            for j in range(i+1, len(arr)):\n",
    "                word1 = arr[i]\n",
    "                word2 = arr[j]\n",
    "                count = 0\n",
    "                for k in range(len(word1)):\n",
    "                    if word1[k]!=word2[k]:\n",
    "                        count += 1\n",
    "                if count==1:\n",
    "                    self.dic[word1].append(word2)\n",
    "                    self.dic[word2].append(word1)\n",
    "                \n",
    "    def findStep(self, start, end):\n",
    "        visited = set()\n",
    "        will_visit = deque()\n",
    "        will_visit.append((start, 0))\n",
    "        \n",
    "        while will_visit:\n",
    "            now, step = will_visit.popleft()\n",
    "            if now==end:\n",
    "                return step\n",
    "            elif now not in visited:\n",
    "                for next_ in self.dic[now]:\n",
    "                    will_visit.append((next_, step+1))\n",
    "                    visited.add(now)\n",
    "                    \n",
    "        return 0"
   ]
  },
  {
   "cell_type": "code",
   "execution_count": 36,
   "metadata": {},
   "outputs": [],
   "source": [
    "def solution(begin, target, words):\n",
    "    graph = wordGraph(words+[begin])\n",
    "    return graph.findStep(begin ,target)"
   ]
  },
  {
   "cell_type": "code",
   "execution_count": 37,
   "metadata": {},
   "outputs": [
    {
     "data": {
      "text/plain": [
       "4"
      ]
     },
     "execution_count": 37,
     "metadata": {},
     "output_type": "execute_result"
    }
   ],
   "source": [
    "begin_ = 'hit'\n",
    "target_ = 'cog'\n",
    "words_ = ['hot', 'dot', 'dog', 'lot', 'log', 'cog']\n",
    "solution(begin_, target_, words_)"
   ]
  },
  {
   "cell_type": "code",
   "execution_count": null,
   "metadata": {},
   "outputs": [],
   "source": []
  }
 ],
 "metadata": {
  "kernelspec": {
   "display_name": "Python 3",
   "language": "python",
   "name": "python3"
  },
  "language_info": {
   "codemirror_mode": {
    "name": "ipython",
    "version": 3
   },
   "file_extension": ".py",
   "mimetype": "text/x-python",
   "name": "python",
   "nbconvert_exporter": "python",
   "pygments_lexer": "ipython3",
   "version": "3.7.4"
  }
 },
 "nbformat": 4,
 "nbformat_minor": 2
}
