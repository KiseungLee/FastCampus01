{
 "cells": [
  {
   "cell_type": "code",
   "execution_count": 25,
   "metadata": {},
   "outputs": [],
   "source": [
    "# https://programmers.co.kr/learn/courses/30/lessons/42629?language=python3\n",
    "\n",
    "def solution(stock, dates, supplies, k):\n",
    "    dates.append(k)    # 코드를  깔끔하게 하기 위해 마지막날에 빈차가 온다고 가정\n",
    "    supplies.append(0) # 마지막날 차는 빈차\n",
    "    date_before = 0\n",
    "    buy = 0\n",
    "    while len(dates)!=1: # 빈차만 남을 때 까지  \n",
    "        date_now = dates.pop(0)\n",
    "        wheat = supplies.pop(0)\n",
    "        stock -= date_now - date_before # 밀가루가 떨어짐\n",
    "        date_before = date_now          # 시간이 흐르고\n",
    "        # 다음 차 까지 버틸 수 있는지 확인 못버티거나\n",
    "        # 지금 차 밀을 안받고 뒤를 다 받아도 k날까지 다 못 버티면\n",
    "        # 지금 받아야 됨.\n",
    "        if stock-(dates[0]-date_now)<0 or k-date_now > sum(supplies):\n",
    "            stock += wheat\n",
    "            buy+=1\n",
    "        print(date_before, stock)\n",
    "    return buy"
   ]
  },
  {
   "cell_type": "code",
   "execution_count": 26,
   "metadata": {},
   "outputs": [
    {
     "name": "stdout",
     "output_type": "stream",
     "text": [
      "1 13\n",
      "2 52\n",
      "3 81\n",
      "4 100\n"
     ]
    },
    {
     "data": {
      "text/plain": [
       "4"
      ]
     },
     "execution_count": 26,
     "metadata": {},
     "output_type": "execute_result"
    }
   ],
   "source": [
    "solution(4, [1, 2, 3, 4], [10, 40, 30, 20], 100)"
   ]
  },
  {
   "cell_type": "code",
   "execution_count": 3,
   "metadata": {},
   "outputs": [
    {
     "data": {
      "text/plain": [
       "Type help() for interactive help, or help(object) for help about object."
      ]
     },
     "execution_count": 3,
     "metadata": {},
     "output_type": "execute_result"
    }
   ],
   "source": [
    "help"
   ]
  },
  {
   "cell_type": "code",
   "execution_count": null,
   "metadata": {},
   "outputs": [],
   "source": []
  }
 ],
 "metadata": {
  "kernelspec": {
   "display_name": "Python 3",
   "language": "python",
   "name": "python3"
  },
  "language_info": {
   "codemirror_mode": {
    "name": "ipython",
    "version": 3
   },
   "file_extension": ".py",
   "mimetype": "text/x-python",
   "name": "python",
   "nbconvert_exporter": "python",
   "pygments_lexer": "ipython3",
   "version": "3.7.1"
  }
 },
 "nbformat": 4,
 "nbformat_minor": 2
}
