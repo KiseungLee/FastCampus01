{
 "cells": [
  {
   "cell_type": "code",
   "execution_count": 15,
   "metadata": {},
   "outputs": [],
   "source": [
    "def solution(number, k):\n",
    "    arr = list(map(int, number))\n",
    "    arr = sorted(arr)[:k]\n",
    "    print(arr)\n",
    "    result = []\n",
    "    for i in number:\n",
    "        if arr and int(i) in arr:\n",
    "            arr.remove(int(i))\n",
    "        else:\n",
    "            result.append(i)\n",
    "            \n",
    "    return ''.join(map(str, result))"
   ]
  },
  {
   "cell_type": "code",
   "execution_count": null,
   "metadata": {},
   "outputs": [],
   "source": []
  },
  {
   "cell_type": "code",
   "execution_count": 28,
   "metadata": {},
   "outputs": [],
   "source": [
    "def solution(number, k):\n",
    "    get = len(number)-k\n",
    "    number = list(map(int, number))\n",
    "    return run(number, get, k)"
   ]
  },
  {
   "cell_type": "code",
   "execution_count": 29,
   "metadata": {},
   "outputs": [],
   "source": [
    "# number = [] 현재 가진 배열\n",
    "# get 개 만큼 뽑아야됨\n",
    "# k개 지워야됨\n",
    "\n",
    "def run(number, get, k):\n",
    "    # 종료조건\n",
    "    if k==0:\n",
    "        return ''.join(map(str, number[:get]))\n",
    "    \n",
    "    # 프로세스\n",
    "    for i in range(len(number)):\n",
    "        # i번째가 있을때(x) vs 없을때 뭐가 더 큰지 비교(y)\n",
    "        x = ''.join(map(str, number[:get]))\n",
    "        y = ''.join(map(str, number[:i]+number[i+1:get+1]))\n",
    "        # 있을때가 더 크면 패스, 없을때가 더 크면 걔 빼고 재귀\n",
    "        if y>x:\n",
    "            return run(number[:i]+number[i+1:], get, k-1)\n",
    "        \n",
    "## 시간 초과 + 어떤거 오답도 남        "
   ]
  },
  {
   "cell_type": "code",
   "execution_count": null,
   "metadata": {},
   "outputs": [],
   "source": []
  },
  {
   "cell_type": "code",
   "execution_count": 41,
   "metadata": {},
   "outputs": [],
   "source": [
    "def solution(number, k):\n",
    "    get = len(number)-k\n",
    "    number = list(map(int, number))\n",
    "    \n",
    "    while k>0:\n",
    "        for i in range(len(number)):\n",
    "            # i번째가 있을때(x) vs 없을때 뭐가 더 큰지 비교(y)\n",
    "            x = ''.join(map(str, number[:get]))\n",
    "            y = ''.join(map(str, number[:i]+number[i+1:get+1]))\n",
    "            # 있을때가 더 크면 패스, 없을때가 더 크면 걔 빼고 다시 for문\n",
    "            if y>x:\n",
    "                number.remove(number[i])\n",
    "                k-=1\n",
    "                break\n",
    "             \n",
    "    return ''.join(map(str, number[:get]))\n",
    "\n",
    "# 재귀 없애고 반복문으로 해봤지만 시간초과\n",
    "# O(n^2)까지만 가면 될 거 같은데"
   ]
  },
  {
   "cell_type": "code",
   "execution_count": null,
   "metadata": {},
   "outputs": [],
   "source": []
  },
  {
   "cell_type": "code",
   "execution_count": null,
   "metadata": {},
   "outputs": [],
   "source": []
  },
  {
   "cell_type": "code",
   "execution_count": 104,
   "metadata": {},
   "outputs": [],
   "source": [
    "from collections import deque\n",
    "\n",
    "def solution(number, k):\n",
    "    number = list(map(int, number))\n",
    "    idx_now = 0\n",
    "    removed = [False]*(len(number)) # [].remove() 시간 줄이려고 써봄\n",
    "    \n",
    "    # idx_now 번째 숫자 뒤로 k개 안에 idx_now 번째 숫자보다 큰 얘가\n",
    "    # 존재하면 idx_now 번째얘를 지우고 k를 1 낮춤\n",
    "    # 존재하지 않으면 idx_now를 1 증가\n",
    "    # 부분적인 최적해를 구한다는 아이디어에 충실해봄\n",
    "    while k>0 and idx_now<len(number):\n",
    "        \n",
    "        while removed[idx_now]:\n",
    "            idx_now += 1\n",
    "        num_now = number[idx_now]\n",
    "        isBreak = False\n",
    "        removed_count = 0\n",
    "        \n",
    "        for i in range(idx_now+1, idx_now+1+k+removed_count):\n",
    "            if i<len(number) and number[i]>num_now and not removed[i]:\n",
    "                removed[idx_now] = True\n",
    "                k-=1\n",
    "                isBreak = True\n",
    "                break\n",
    "                \n",
    "        if not isBreak:\n",
    "            idx_now += 1\n",
    "            \n",
    "    result = []\n",
    "    for i in range(len(number)):\n",
    "        if not removed[i]:\n",
    "            result.append(number[i])\n",
    "            \n",
    "    return ''.join(map(str, result[:len(number)-k]))\n",
    "\n",
    "# 8, 10번 시간초과\n",
    "# 12번 런터임에러 -> 해결. 333333 같은얘뜰\n",
    "# [].remove()를 removed = [bool ~] 써서 줄였는데도 8, 10 시간초과 뜸"
   ]
  },
  {
   "cell_type": "code",
   "execution_count": null,
   "metadata": {},
   "outputs": [],
   "source": []
  },
  {
   "cell_type": "code",
   "execution_count": null,
   "metadata": {},
   "outputs": [],
   "source": []
  },
  {
   "cell_type": "code",
   "execution_count": null,
   "metadata": {},
   "outputs": [],
   "source": []
  },
  {
   "cell_type": "markdown",
   "metadata": {},
   "source": [
    "### 이거 생각났다 진짜 푼다.\n",
    "\n",
    "- 입력받은 숫자 deque 만듬, stack 하나 만듬\n",
    "\n",
    "- 왼쪽에서 하나꺼냄\n",
    "\n",
    "- stack의 맨 위에 있는게 방금 꺼낸거보다 작으면 그거 버리고 k-=1\n",
    "\n",
    "- 안작으면 꺼낸거 스택에 쌓음\n",
    "\n",
    "- 이렇게 계속 k가 0될때 까지 or 입력받은 숫자 다 넣을때 까지\n",
    "\n",
    "- k는 다썼는데 입력받은걸 다 안쓸 경우가 있어서 남은거 털어넣음"
   ]
  },
  {
   "cell_type": "code",
   "execution_count": 130,
   "metadata": {},
   "outputs": [],
   "source": [
    "from collections import deque\n",
    "\n",
    "def solution(number, k):\n",
    "    get = len(number)-k\n",
    "    number = deque(list(map(int, number)))\n",
    "    stack = []\n",
    "    \n",
    "    while k>0 and number:\n",
    "        now = number.popleft()\n",
    "        while stack and stack[-1]<now and k>0:\n",
    "            stack.pop()\n",
    "            k-=1\n",
    "        stack.append(now)\n",
    "    \n",
    "    while number:\n",
    "        stack.append(number.popleft())\n",
    "        \n",
    "    if len(stack)>get:\n",
    "        return ''.join(map(str, stack[:get]))\n",
    "    else:\n",
    "        return ''.join(map(str, stack))"
   ]
  },
  {
   "cell_type": "code",
   "execution_count": 131,
   "metadata": {},
   "outputs": [
    {
     "data": {
      "text/plain": [
       "'775841'"
      ]
     },
     "execution_count": 131,
     "metadata": {},
     "output_type": "execute_result"
    }
   ],
   "source": [
    "number_ = '4177252841'\n",
    "k_ = 4\n",
    "solution(number_, k_)"
   ]
  },
  {
   "cell_type": "code",
   "execution_count": 53,
   "metadata": {},
   "outputs": [],
   "source": [
    "temp = deque([1,2,3])"
   ]
  },
  {
   "cell_type": "code",
   "execution_count": 57,
   "metadata": {},
   "outputs": [
    {
     "ename": "TypeError",
     "evalue": "sequence index must be integer, not 'slice'",
     "output_type": "error",
     "traceback": [
      "\u001b[1;31m---------------------------------------------------------------------------\u001b[0m",
      "\u001b[1;31mTypeError\u001b[0m                                 Traceback (most recent call last)",
      "\u001b[1;32m<ipython-input-57-b9f1765ef12d>\u001b[0m in \u001b[0;36m<module>\u001b[1;34m\u001b[0m\n\u001b[1;32m----> 1\u001b[1;33m \u001b[0mtemp\u001b[0m\u001b[1;33m[\u001b[0m\u001b[1;33m:\u001b[0m\u001b[1;36m1\u001b[0m\u001b[1;33m]\u001b[0m\u001b[1;33m\u001b[0m\u001b[1;33m\u001b[0m\u001b[0m\n\u001b[0m",
      "\u001b[1;31mTypeError\u001b[0m: sequence index must be integer, not 'slice'"
     ]
    }
   ],
   "source": []
  },
  {
   "cell_type": "code",
   "execution_count": null,
   "metadata": {},
   "outputs": [],
   "source": []
  }
 ],
 "metadata": {
  "kernelspec": {
   "display_name": "Python 3",
   "language": "python",
   "name": "python3"
  },
  "language_info": {
   "codemirror_mode": {
    "name": "ipython",
    "version": 3
   },
   "file_extension": ".py",
   "mimetype": "text/x-python",
   "name": "python",
   "nbconvert_exporter": "python",
   "pygments_lexer": "ipython3",
   "version": "3.7.4"
  }
 },
 "nbformat": 4,
 "nbformat_minor": 2
}
