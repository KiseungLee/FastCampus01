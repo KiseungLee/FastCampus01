{
 "cells": [
  {
   "cell_type": "markdown",
   "metadata": {},
   "source": [
    "### level 3 문제들끼리 너무 차이나는거 아니냐"
   ]
  },
  {
   "cell_type": "code",
   "execution_count": 9,
   "metadata": {},
   "outputs": [],
   "source": [
    "# 먼저 나가는 순, 먼저 들어온 순으로 정렬\n",
    "# 제일 먼저 나가야 될 얘의 시간 t 잡아두고\n",
    "# 제일 먼너 나갈얘 내보내고, t보다 먼저 들어온 얘들 내보냄.\n",
    "# 다 나갈때 까지 반복\n",
    "\n",
    "from collections import deque\n",
    "\n",
    "def solution(routes):\n",
    "    routes = deque(sorted(routes, key=lambda x: (x[1], x[0])))\n",
    "    count = 0\n",
    "    while routes:\n",
    "        t = routes.popleft()[1] # 남은애들중 제일 먼저 나갈얘 나가고, 걔의 나가는 시간 t 잡아둠\n",
    "        while routes and routes[0][0] <= t:\n",
    "            routes.popleft()\n",
    "        count += 1\n",
    "    return count"
   ]
  },
  {
   "cell_type": "code",
   "execution_count": 10,
   "metadata": {},
   "outputs": [
    {
     "data": {
      "text/plain": [
       "2"
      ]
     },
     "execution_count": 10,
     "metadata": {},
     "output_type": "execute_result"
    }
   ],
   "source": [
    "routes = [[-20,15], [-14,-5], [-18,-13], [-5,-3]]\n",
    "solution(routes)"
   ]
  },
  {
   "cell_type": "code",
   "execution_count": null,
   "metadata": {},
   "outputs": [],
   "source": []
  },
  {
   "cell_type": "code",
   "execution_count": null,
   "metadata": {},
   "outputs": [],
   "source": []
  }
 ],
 "metadata": {
  "kernelspec": {
   "display_name": "Python 3",
   "language": "python",
   "name": "python3"
  },
  "language_info": {
   "codemirror_mode": {
    "name": "ipython",
    "version": 3
   },
   "file_extension": ".py",
   "mimetype": "text/x-python",
   "name": "python",
   "nbconvert_exporter": "python",
   "pygments_lexer": "ipython3",
   "version": "3.7.4"
  }
 },
 "nbformat": 4,
 "nbformat_minor": 2
}
