{
 "cells": [
  {
   "cell_type": "code",
   "execution_count": 8,
   "metadata": {},
   "outputs": [],
   "source": [
    "import heapq\n",
    "def solution(scoville, k):\n",
    "    count = 0\n",
    "    heapq.heapify(scoville)\n",
    "    while scoville[0] < k:\n",
    "        lowest = heapq.heappop(scoville)\n",
    "        # heap에 1개 밖에 없는데 그것조차 k를 못넘는 경우 -> -1 리턴\n",
    "        if not scoville:\n",
    "            return -1\n",
    "        low = heapq.heappop(scoville)\n",
    "        heapq.heappush(scoville, lowest + low*2)\n",
    "        count += 1\n",
    "    return count"
   ]
  },
  {
   "cell_type": "code",
   "execution_count": 9,
   "metadata": {},
   "outputs": [
    {
     "data": {
      "text/plain": [
       "2"
      ]
     },
     "execution_count": 9,
     "metadata": {},
     "output_type": "execute_result"
    }
   ],
   "source": [
    "scoville = [1,2,3,9,10,12]\n",
    "k = 7\n",
    "solution(scoville, k)"
   ]
  },
  {
   "cell_type": "code",
   "execution_count": null,
   "metadata": {},
   "outputs": [],
   "source": []
  }
 ],
 "metadata": {
  "kernelspec": {
   "display_name": "Python 3",
   "language": "python",
   "name": "python3"
  },
  "language_info": {
   "codemirror_mode": {
    "name": "ipython",
    "version": 3
   },
   "file_extension": ".py",
   "mimetype": "text/x-python",
   "name": "python",
   "nbconvert_exporter": "python",
   "pygments_lexer": "ipython3",
   "version": "3.7.4"
  }
 },
 "nbformat": 4,
 "nbformat_minor": 2
}
