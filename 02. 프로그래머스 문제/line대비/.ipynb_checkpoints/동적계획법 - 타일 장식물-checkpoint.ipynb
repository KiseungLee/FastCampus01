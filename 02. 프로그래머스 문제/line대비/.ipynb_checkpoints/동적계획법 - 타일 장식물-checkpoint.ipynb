{
 "cells": [
  {
   "cell_type": "code",
   "execution_count": 29,
   "metadata": {},
   "outputs": [],
   "source": [
    "def solution(n):\n",
    "    a, b = 1, 1\n",
    "    if n>=2:\n",
    "        while n>2:\n",
    "            a, b = b, a+b\n",
    "            n-=1\n",
    "        return (a+b+b)*2\n",
    "    else:\n",
    "        return 4"
   ]
  },
  {
   "cell_type": "code",
   "execution_count": 30,
   "metadata": {},
   "outputs": [
    {
     "name": "stdout",
     "output_type": "stream",
     "text": [
      "1 4\n",
      "2 6\n",
      "3 10\n",
      "4 16\n",
      "5 26\n",
      "6 42\n",
      "7 68\n",
      "8 110\n",
      "9 178\n"
     ]
    }
   ],
   "source": [
    "for i in range(1, 10):\n",
    "    print(i, solution(i))"
   ]
  },
  {
   "cell_type": "code",
   "execution_count": null,
   "metadata": {},
   "outputs": [],
   "source": [
    "1 1 2 3 5 8"
   ]
  },
  {
   "cell_type": "code",
   "execution_count": null,
   "metadata": {},
   "outputs": [],
   "source": [
    "1 -> 4\n",
    "2 -> 6"
   ]
  }
 ],
 "metadata": {
  "kernelspec": {
   "display_name": "Python 3",
   "language": "python",
   "name": "python3"
  },
  "language_info": {
   "codemirror_mode": {
    "name": "ipython",
    "version": 3
   },
   "file_extension": ".py",
   "mimetype": "text/x-python",
   "name": "python",
   "nbconvert_exporter": "python",
   "pygments_lexer": "ipython3",
   "version": "3.7.4"
  }
 },
 "nbformat": 4,
 "nbformat_minor": 2
}
