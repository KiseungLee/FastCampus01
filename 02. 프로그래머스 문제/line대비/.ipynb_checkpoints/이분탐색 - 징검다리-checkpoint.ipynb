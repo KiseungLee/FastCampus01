{
 "cells": [
  {
   "cell_type": "markdown",
   "metadata": {},
   "source": [
    "## 이 문제는 isPossible 구성에 애먹는중\n",
    "\n",
    "### 맞았디~"
   ]
  },
  {
   "cell_type": "code",
   "execution_count": 34,
   "metadata": {},
   "outputs": [],
   "source": [
    "def solution(distance, rocks, n):\n",
    "    rocks.append(distance) # 마지막돌\n",
    "    rocks.sort()\n",
    "    left = 1\n",
    "    right = 1000000000\n",
    "    while left<=right:\n",
    "        mid = (left+right)//2\n",
    "        if isPossible(distance, rocks, n, mid):\n",
    "            left = mid+1\n",
    "        else:\n",
    "            right = mid-1                        \n",
    "    return right"
   ]
  },
  {
   "cell_type": "code",
   "execution_count": 37,
   "metadata": {},
   "outputs": [],
   "source": [
    "# 지점간 최소 거리가 d일때\n",
    "# 최대한 많이 밟을 수 있는 횟수를 구함\n",
    "# 돌 n개를 뺐을대 돌 갯수가 그 횟수보다 작거나 같으면 가능\n",
    "# 마지막 지점을 어떻게 처리할지 모르겠네\n",
    "\n",
    "def isPossible(distance, rocks, n, d):\n",
    "    count = 0\n",
    "    now = 0\n",
    "    for rock in rocks:\n",
    "        # now에선 끝 지점까지 갈 수 있는데\n",
    "        # rock에서 끝 지점까지 못갈 경우 멈춰야됨\n",
    "        if distance!=rock and distance-now>=d and distance-rock<d:\n",
    "            break\n",
    "        else:\n",
    "            if rock-now>=d:\n",
    "                count+=1\n",
    "                now = rock\n",
    "            \n",
    "    if count>=len(rocks)-n:\n",
    "        # print('가능 : ', distance, rocks, n, d)\n",
    "        return True\n",
    "    else:\n",
    "        # print('불가 : ', distance, rocks, n, d)        \n",
    "        return False"
   ]
  },
  {
   "cell_type": "code",
   "execution_count": 38,
   "metadata": {},
   "outputs": [
    {
     "data": {
      "text/plain": [
       "4"
      ]
     },
     "execution_count": 38,
     "metadata": {},
     "output_type": "execute_result"
    }
   ],
   "source": [
    "distance_ = 25\n",
    "rocks_ = [2, 14, 11, 21, 17]\n",
    "n_ = 2\n",
    "solution(distance_, rocks_, n_)"
   ]
  },
  {
   "cell_type": "code",
   "execution_count": 7,
   "metadata": {},
   "outputs": [
    {
     "name": "stdout",
     "output_type": "stream",
     "text": [
      "4\n"
     ]
    },
    {
     "data": {
      "text/plain": [
       "False"
      ]
     },
     "execution_count": 7,
     "metadata": {},
     "output_type": "execute_result"
    }
   ],
   "source": [
    "isPossible(distance_, rocks_, n_, 4)"
   ]
  },
  {
   "cell_type": "code",
   "execution_count": null,
   "metadata": {},
   "outputs": [],
   "source": []
  }
 ],
 "metadata": {
  "kernelspec": {
   "display_name": "Python 3",
   "language": "python",
   "name": "python3"
  },
  "language_info": {
   "codemirror_mode": {
    "name": "ipython",
    "version": 3
   },
   "file_extension": ".py",
   "mimetype": "text/x-python",
   "name": "python",
   "nbconvert_exporter": "python",
   "pygments_lexer": "ipython3",
   "version": "3.7.4"
  }
 },
 "nbformat": 4,
 "nbformat_minor": 2
}
