{
 "cells": [
  {
   "cell_type": "markdown",
   "metadata": {},
   "source": [
    "- 이 문제도 이분탐색 정리한거 쓰니까 5분만에 끝남\n",
    "\n",
    "\n",
    "- 이 문제에서 좀 막혔던건 범위 선정의 문제임\n",
    "\n",
    "\n",
    "- 처음에 \n",
    "\n",
    "> 각 심사관이 한 명을 심사하는데 걸리는 시간은 1분 이상 1,000,000,000분 이하입니다.\n",
    "\n",
    "- 이거보고 right를 1,000,000,000로 잡았는데 9개중 4개가 틀림\n",
    "\n",
    "\n",
    "- 질문보니까 범위를 늘리라는게 있어서 늘렸더니 다 맞음.\n",
    "\n",
    "\n",
    "- 다시 생각해보니 right의 최댓값은 \n",
    "\n",
    "> 입국심사를 기다리는 사람은 1명 이상 1,000,000,000명 이하입니다.\n",
    ">\n",
    "> 각 심사관이 한 명을 심사하는데 걸리는 시간은 1분 이상 1,000,000,000분 이하입니다.\n",
    ">\n",
    "> 심사관은 1명 이상 100,000명 이하입니다.\n",
    "\n",
    "- 이 조건에서 사람 1,000,000,000 명이 1번에 1,000,000,000분 걸리는 심사관 1명안테 검사받는 거임.\n",
    "\n",
    "\n",
    "- 즉 1,000,000,000,000,000,000 가 리얼 right 최대값"
   ]
  },
  {
   "cell_type": "code",
   "execution_count": 7,
   "metadata": {},
   "outputs": [],
   "source": [
    "def solution(n, times):\n",
    "    left = 1\n",
    "    right = 100000000000000\n",
    "    while left<=right:\n",
    "        mid = (left+right)//2\n",
    "        if isPossible(n, times, mid):\n",
    "            right = mid-1\n",
    "        else:\n",
    "            left = mid+1            \n",
    "    return left"
   ]
  },
  {
   "cell_type": "code",
   "execution_count": 8,
   "metadata": {},
   "outputs": [],
   "source": [
    "def isPossible(n, times, t):\n",
    "    count = 0\n",
    "    for time in times:\n",
    "        count += t//time # 해당시간동안 한 심사관이 검사할 수 있는 사람 수\n",
    "    return True if count>=n else False"
   ]
  },
  {
   "cell_type": "code",
   "execution_count": 11,
   "metadata": {},
   "outputs": [
    {
     "data": {
      "text/plain": [
       "2"
      ]
     },
     "execution_count": 11,
     "metadata": {},
     "output_type": "execute_result"
    }
   ],
   "source": [
    "n_ = 2\n",
    "times_ = [1, 2,2,2,100] \n",
    "solution(n_, times_)"
   ]
  },
  {
   "cell_type": "code",
   "execution_count": null,
   "metadata": {},
   "outputs": [],
   "source": []
  }
 ],
 "metadata": {
  "kernelspec": {
   "display_name": "Python 3",
   "language": "python",
   "name": "python3"
  },
  "language_info": {
   "codemirror_mode": {
    "name": "ipython",
    "version": 3
   },
   "file_extension": ".py",
   "mimetype": "text/x-python",
   "name": "python",
   "nbconvert_exporter": "python",
   "pygments_lexer": "ipython3",
   "version": "3.7.4"
  }
 },
 "nbformat": 4,
 "nbformat_minor": 2
}
