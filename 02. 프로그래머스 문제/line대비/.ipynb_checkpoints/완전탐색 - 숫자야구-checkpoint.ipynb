{
 "cells": [
  {
   "cell_type": "code",
   "execution_count": 8,
   "metadata": {},
   "outputs": [],
   "source": [
    "from itertools import permutations\n",
    "\n",
    "def solution(baseball):\n",
    "    candidates1 = [x for x in permutations(list(range(1,10)), 3)]\n",
    "    candidates2 = []\n",
    "    \n",
    "    for command in baseball:\n",
    "        for x in candidates1:\n",
    "            if isPossible(command, x):\n",
    "                candidates2.append(x)\n",
    "        candidates1 = candidates2\n",
    "        candidates2 = []\n",
    "        \n",
    "    return len(candidates1)"
   ]
  },
  {
   "cell_type": "code",
   "execution_count": 9,
   "metadata": {},
   "outputs": [],
   "source": [
    "def isPossible(command, x):\n",
    "    # 123 -> [1,2,3]\n",
    "    num = command[0]\n",
    "    y = [0,0,num%10]\n",
    "    num = num//10\n",
    "    y[1] = num%10\n",
    "    num = num//10\n",
    "    y[0] = num\n",
    "    \n",
    "    # calculate strikes\n",
    "    strikes = 0\n",
    "    for i in range(3):\n",
    "        if y[i] == x[i]:\n",
    "            strikes+=1\n",
    "            y[i] = -1\n",
    "            \n",
    "    # calulate balls\n",
    "    balls = 0     \n",
    "    for i in y:\n",
    "        if i!=-1 and i in x:\n",
    "            balls += 1\n",
    "    \n",
    "    # return Answer\n",
    "    if strikes==command[1] and balls==command[2]:\n",
    "        return True\n",
    "    else:\n",
    "        return False"
   ]
  },
  {
   "cell_type": "code",
   "execution_count": 10,
   "metadata": {},
   "outputs": [
    {
     "data": {
      "text/plain": [
       "2"
      ]
     },
     "execution_count": 10,
     "metadata": {},
     "output_type": "execute_result"
    }
   ],
   "source": [
    "baseball_ = [[123, 1, 1], [356, 1, 0], [327, 2, 0], [489, 0, 1]]\n",
    "solution(baseball_)"
   ]
  },
  {
   "cell_type": "code",
   "execution_count": 11,
   "metadata": {},
   "outputs": [],
   "source": [
    "temp= 123"
   ]
  },
  {
   "cell_type": "code",
   "execution_count": null,
   "metadata": {},
   "outputs": [],
   "source": []
  }
 ],
 "metadata": {
  "kernelspec": {
   "display_name": "Python 3",
   "language": "python",
   "name": "python3"
  },
  "language_info": {
   "codemirror_mode": {
    "name": "ipython",
    "version": 3
   },
   "file_extension": ".py",
   "mimetype": "text/x-python",
   "name": "python",
   "nbconvert_exporter": "python",
   "pygments_lexer": "ipython3",
   "version": "3.7.4"
  }
 },
 "nbformat": 4,
 "nbformat_minor": 2
}
