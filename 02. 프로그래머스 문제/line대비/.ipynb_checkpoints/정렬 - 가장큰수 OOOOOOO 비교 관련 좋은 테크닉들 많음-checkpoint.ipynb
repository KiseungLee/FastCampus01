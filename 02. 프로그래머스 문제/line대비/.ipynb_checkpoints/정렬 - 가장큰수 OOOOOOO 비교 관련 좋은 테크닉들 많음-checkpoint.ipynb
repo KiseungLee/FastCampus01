{
 "cells": [
  {
   "cell_type": "code",
   "execution_count": 1,
   "metadata": {},
   "outputs": [],
   "source": [
    "def solution(numbers):\n",
    "    # 0과 1000은 예외\n",
    "    count_zero = 0\n",
    "    count_thousand = 0\n",
    "    result = ''\n",
    "    \n",
    "    arr = [[] for _ in rnage(9)]\n",
    "    for num in numbers:\n",
    "        if num==0:\n",
    "            count_zero+=1\n",
    "        elif num==1000:\n",
    "            count_thousand+=1\n",
    "        elif num>=100:\n",
    "            arr[9 - num//100].append(num)\n",
    "        elif num>=10:\n",
    "            arr[9 - num//10].append(num)\n",
    "        else:\n",
    "            arr[9 - num].append(num)\n",
    "    \n",
    "    for group in arr:\n",
    "        result += getMax(group)\n",
    "        \n",
    "    for _ in range(count_thousand):\n",
    "        result += '1000'\n",
    "        \n",
    "    for _ in range(count_zero):\n",
    "        result += '0'"
   ]
  },
  {
   "cell_type": "code",
   "execution_count": 2,
   "metadata": {},
   "outputs": [
    {
     "ename": "SyntaxError",
     "evalue": "unexpected EOF while parsing (<ipython-input-2-840a051c5242>, line 2)",
     "output_type": "error",
     "traceback": [
      "\u001b[1;36m  File \u001b[1;32m\"<ipython-input-2-840a051c5242>\"\u001b[1;36m, line \u001b[1;32m2\u001b[0m\n\u001b[1;33m    \u001b[0m\n\u001b[1;37m    ^\u001b[0m\n\u001b[1;31mSyntaxError\u001b[0m\u001b[1;31m:\u001b[0m unexpected EOF while parsing\n"
     ]
    }
   ],
   "source": [
    "def getMax(group):\n",
    "    "
   ]
  },
  {
   "cell_type": "code",
   "execution_count": 19,
   "metadata": {},
   "outputs": [],
   "source": [
    "# 레게노 이게 맞는 방법이었는데 저번엔 자릿수를 고려 못했네\n",
    "\n",
    "def compare(x, y):\n",
    "    x = str(x)\n",
    "    y = str(y)\n",
    "    if x+y < y+x:\n",
    "        return 1\n",
    "    else:\n",
    "        return -1"
   ]
  },
  {
   "cell_type": "code",
   "execution_count": 24,
   "metadata": {},
   "outputs": [],
   "source": [
    "from functools import cmp_to_key\n",
    "\n",
    "def solution(numbers):\n",
    "    numbers = sorted(numbers, key=cmp_to_key(compare))\n",
    "    return ''.join(map(str, numbers)) if numbers[0]!= 0 else '0'"
   ]
  },
  {
   "cell_type": "code",
   "execution_count": 26,
   "metadata": {},
   "outputs": [
    {
     "data": {
      "text/plain": [
       "'222'"
      ]
     },
     "execution_count": 26,
     "metadata": {},
     "output_type": "execute_result"
    }
   ],
   "source": [
    "# numbers_ = [3, 30, 34, 5, 9]\n",
    "numbers_ = [2,2,2]\n",
    "solution(numbers_)"
   ]
  },
  {
   "cell_type": "markdown",
   "metadata": {},
   "source": [
    "https://programmers.co.kr/learn/courses/30/lessons/42746/solution_groups?language=python3\n",
    "    \n",
    "\n",
    "가장 짧은 풀이이자, 수학적인 센스가 보이는 풀이\n",
    "```python\n",
    "def solution(numbers):\n",
    "    numbers = list(map(str, numbers))\n",
    "    numbers.sort(key=lambda x: x*3, reverse=True)\n",
    "    return str(int(''.join(numbers)))\n",
    "    \n",
    "```\n",
    "\n",
    "\n",
    "나랑 비슷한 풀이지만 더 깔끔한 풀이. 특히 comparator 리턴값을 다루는게 멋있음\n",
    "```python\n",
    "import functools\n",
    "\n",
    "def comparator(a,b):\n",
    "    t1 = a+b\n",
    "    t2 = b+a\n",
    "    return (int(t1) > int(t2)) - (int(t1) < int(t2)) #  t1이 크다면 1  // t2가 크다면 -1  //  같으면 0\n",
    "\n",
    "def solution(numbers):\n",
    "    n = [str(x) for x in numbers]\n",
    "    n = sorted(n, key=functools.cmp_to_key(comparator),reverse=True)\n",
    "    answer = str(int(''.join(n)))\n",
    "    return answer\n",
    "```"
   ]
  },
  {
   "cell_type": "code",
   "execution_count": null,
   "metadata": {},
   "outputs": [],
   "source": []
  }
 ],
 "metadata": {
  "kernelspec": {
   "display_name": "Python 3",
   "language": "python",
   "name": "python3"
  },
  "language_info": {
   "codemirror_mode": {
    "name": "ipython",
    "version": 3
   },
   "file_extension": ".py",
   "mimetype": "text/x-python",
   "name": "python",
   "nbconvert_exporter": "python",
   "pygments_lexer": "ipython3",
   "version": "3.7.4"
  }
 },
 "nbformat": 4,
 "nbformat_minor": 2
}
