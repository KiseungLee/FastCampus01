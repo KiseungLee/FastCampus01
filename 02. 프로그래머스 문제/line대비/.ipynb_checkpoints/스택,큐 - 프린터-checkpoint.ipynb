{
 "cells": [
  {
   "cell_type": "code",
   "execution_count": 26,
   "metadata": {},
   "outputs": [],
   "source": [
    "from collections import deque\n",
    "\n",
    "def solution(priorities, location):\n",
    "    arr = deque(priorities)\n",
    "    priorities.sort()\n",
    "    count = 0\n",
    "    while arr:\n",
    "        if arr[0] == priorities[-1]:\n",
    "            if location==0:\n",
    "                return count+1\n",
    "            else:\n",
    "                location -= 1\n",
    "                arr.popleft()\n",
    "                priorities.pop()\n",
    "                count+=1\n",
    "        else:\n",
    "            arr.append(arr.popleft())\n",
    "            if location==0:\n",
    "                location = len(arr)-1\n",
    "            else:\n",
    "                location -= 1"
   ]
  },
  {
   "cell_type": "code",
   "execution_count": 27,
   "metadata": {},
   "outputs": [
    {
     "data": {
      "text/plain": [
       "5"
      ]
     },
     "execution_count": 27,
     "metadata": {},
     "output_type": "execute_result"
    }
   ],
   "source": [
    "p = [1, 1, 9, 1, 1, 1]\n",
    "l = 0\n",
    "solution(p, l)"
   ]
  },
  {
   "cell_type": "code",
   "execution_count": 3,
   "metadata": {},
   "outputs": [],
   "source": [
    "temp = [1,2,3]\n",
    "temp2 = deque(temp)"
   ]
  },
  {
   "cell_type": "code",
   "execution_count": 4,
   "metadata": {},
   "outputs": [
    {
     "data": {
      "text/plain": [
       "deque([1, 2, 3])"
      ]
     },
     "execution_count": 4,
     "metadata": {},
     "output_type": "execute_result"
    }
   ],
   "source": [
    "temp2"
   ]
  },
  {
   "cell_type": "code",
   "execution_count": null,
   "metadata": {},
   "outputs": [],
   "source": []
  }
 ],
 "metadata": {
  "kernelspec": {
   "display_name": "Python 3",
   "language": "python",
   "name": "python3"
  },
  "language_info": {
   "codemirror_mode": {
    "name": "ipython",
    "version": 3
   },
   "file_extension": ".py",
   "mimetype": "text/x-python",
   "name": "python",
   "nbconvert_exporter": "python",
   "pygments_lexer": "ipython3",
   "version": "3.7.4"
  }
 },
 "nbformat": 4,
 "nbformat_minor": 2
}
