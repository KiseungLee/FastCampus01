{
 "cells": [
  {
   "cell_type": "code",
   "execution_count": 57,
   "metadata": {},
   "outputs": [],
   "source": [
    "from collections import deque\n",
    "def solution(length, weight, trucks):\n",
    "    weight_now = 0\n",
    "    bridge = deque()\n",
    "    time = 0\n",
    "    while trucks or bridge:\n",
    "        # 시간은 흐르고\n",
    "        time += 1\n",
    "        \n",
    "        # 나갈수 있으면 나가고\n",
    "        if bridge and time - bridge[0][0] >= length:\n",
    "            weight_now -= bridge.popleft()[1]\n",
    "        \n",
    "        # 들어올 수 있으면 들어와라\n",
    "        if trucks and weight_now + trucks[0] <= weight:\n",
    "            truck = trucks.pop(0)\n",
    "            bridge.append((time, truck))\n",
    "            weight_now += truck\n",
    "    \n",
    "    return time"
   ]
  },
  {
   "cell_type": "code",
   "execution_count": 58,
   "metadata": {},
   "outputs": [
    {
     "data": {
      "text/plain": [
       "101"
      ]
     },
     "execution_count": 58,
     "metadata": {},
     "output_type": "execute_result"
    }
   ],
   "source": [
    "length = 100\n",
    "weight = 100\n",
    "trucks = [10]\n",
    "solution(length, weight, trucks)"
   ]
  },
  {
   "cell_type": "code",
   "execution_count": null,
   "metadata": {},
   "outputs": [],
   "source": []
  }
 ],
 "metadata": {
  "kernelspec": {
   "display_name": "Python 3",
   "language": "python",
   "name": "python3"
  },
  "language_info": {
   "codemirror_mode": {
    "name": "ipython",
    "version": 3
   },
   "file_extension": ".py",
   "mimetype": "text/x-python",
   "name": "python",
   "nbconvert_exporter": "python",
   "pygments_lexer": "ipython3",
   "version": "3.7.4"
  }
 },
 "nbformat": 4,
 "nbformat_minor": 2
}
