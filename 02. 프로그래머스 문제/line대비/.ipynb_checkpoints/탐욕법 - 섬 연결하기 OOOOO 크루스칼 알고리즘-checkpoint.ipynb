{
 "cells": [
  {
   "cell_type": "markdown",
   "metadata": {},
   "source": [
    "## 크루스칼 알고리즘\n",
    "\n",
    "https://ko.wikipedia.org/wiki/%ED%81%AC%EB%9F%AC%EC%8A%A4%EC%BB%AC_%EC%95%8C%EA%B3%A0%EB%A6%AC%EC%A6%98\n",
    "\n",
    "\n",
    "\n",
    "크루스칼 알고리즘 반례를 찾지 못하겠습니다.\n",
    "질문게시판에 있는 반례를 전부 실행해봤는데 다 올바르게 처리가 됩니다.\n",
    "\n",
    "6, [[0, 1, 5], [0, 3, 2], [0, 4, 3], [1, 4, 1], [3, 4, 10], [1, 2, 2], [2, 5, 3], [4, 5, 4]]\n",
    "output: 11\n",
    "\n",
    "4, [[0, 1, 5], [1, 2, 3], [2, 3, 3], [3, 1, 2], [3, 0, 4]]\n",
    "output: 9\n",
    "\n",
    "5, [[0, 1, 1], [0, 2, 2], [1, 2, 5], [1, 3, 3], [2, 3, 8], [3, 4, 1]]\n",
    "output: 7\n",
    "\n",
    "5, [[0, 1, 1], [3, 4, 1], [1, 2, 2], [2, 3, 4]]\n",
    "output: 8"
   ]
  },
  {
   "cell_type": "markdown",
   "metadata": {},
   "source": [
    "## 지금 풀이 구조는 맞는데 코딩이 중간에 꼬이기 시작하면서 개망한 케이스\n",
    "## 처음부터 구체적으로 생각하고 짜보는게 중요\n",
    "## 코테때 이렇게 터지면 노답임"
   ]
  },
  {
   "cell_type": "code",
   "execution_count": null,
   "metadata": {},
   "outputs": [],
   "source": []
  },
  {
   "cell_type": "code",
   "execution_count": null,
   "metadata": {},
   "outputs": [],
   "source": []
  },
  {
   "cell_type": "code",
   "execution_count": null,
   "metadata": {},
   "outputs": [],
   "source": []
  },
  {
   "cell_type": "code",
   "execution_count": null,
   "metadata": {},
   "outputs": [],
   "source": []
  },
  {
   "cell_type": "code",
   "execution_count": null,
   "metadata": {},
   "outputs": [],
   "source": []
  },
  {
   "cell_type": "code",
   "execution_count": null,
   "metadata": {},
   "outputs": [],
   "source": []
  },
  {
   "cell_type": "code",
   "execution_count": null,
   "metadata": {},
   "outputs": [],
   "source": []
  },
  {
   "cell_type": "code",
   "execution_count": null,
   "metadata": {},
   "outputs": [],
   "source": []
  },
  {
   "cell_type": "code",
   "execution_count": 148,
   "metadata": {},
   "outputs": [],
   "source": [
    "class Node:\n",
    "    def __init__(self, idx):\n",
    "        self.bridge = dict()\n",
    "        self.idx = idx\n",
    "    \n",
    "    def addBridge(self, other, cost):\n",
    "        self.bridge[other] = cost\n",
    "        \n",
    "    def absorb(self, other):\n",
    "        print(self.idx, ' absorb ', other.idx, ' for ', self.bridge[other], ' cost')\n",
    "        for key, value in other.bridge.items():\n",
    "            if key in self.bridge:\n",
    "                self.bridge[key] = min(self.bridge[key], other.bridge[key])\n",
    "            else:\n",
    "                if key.idx != self.idx:\n",
    "                    self.bridge[key] = other.bridge[key]\n",
    "        return self.bridge.pop(other)\n",
    "                \n",
    "    def lowestBridge(self):\n",
    "        low_idx = 0\n",
    "        low_cost = 999999999\n",
    "        for key, value in self.bridge.items():\n",
    "            if value<low_cost:\n",
    "                low_cost = value\n",
    "                low_idx = key.idx\n",
    "        return low_idx"
   ]
  },
  {
   "cell_type": "code",
   "execution_count": 149,
   "metadata": {},
   "outputs": [],
   "source": [
    "def solution(n, costs):\n",
    "    nodes = {}\n",
    "    absorbed = set()\n",
    "    for i in range(n):\n",
    "        nodes[i] = Node(i)\n",
    "    cost_all = 0\n",
    "    merge_count = 0\n",
    "    \n",
    "    # dict 채우기\n",
    "    for cost in costs:\n",
    "        nodes[cost[0]].addBridge(nodes[cost[1]], cost[2])\n",
    "        nodes[cost[1]].addBridge(nodes[cost[0]], cost[2])\n",
    "        \n",
    "    idx = 0\n",
    "    while merge_count<n-1:\n",
    "        if idx not in absorbed:\n",
    "            # find\n",
    "            now = nodes[idx]\n",
    "            other_idx = now.lowestBridge()\n",
    "            # merge\n",
    "            cost_all += now.absorb(nodes[other_idx])\n",
    "            nodes[other_idx] = nodes[idx]\n",
    "            merge_count += 1\n",
    "            absorbed.add(other_idx)\n",
    "        idx = (idx+1)%n\n",
    "\n",
    "    return cost_all"
   ]
  },
  {
   "cell_type": "code",
   "execution_count": 150,
   "metadata": {},
   "outputs": [
    {
     "name": "stdout",
     "output_type": "stream",
     "text": [
      "0  absorb  3  for  2  cost\n",
      "1  absorb  4  for  1  cost\n",
      "2  absorb  1  for  2  cost\n",
      "5  absorb  2  for  3  cost\n",
      "0  absorb  1  for  5  cost\n",
      "13\n"
     ]
    }
   ],
   "source": [
    "n_ = 6\n",
    "costs_ = [[0, 1, 5], [0, 3, 2], [0, 4, 3], [1, 4, 1], [3, 4, 10], [1, 2, 2], [2, 5, 3], [4, 5, 4]]\n",
    "temp2 = solution(n_, costs_)\n",
    "print(temp2)"
   ]
  },
  {
   "cell_type": "code",
   "execution_count": 113,
   "metadata": {},
   "outputs": [
    {
     "data": {
      "text/plain": [
       "8"
      ]
     },
     "execution_count": 113,
     "metadata": {},
     "output_type": "execute_result"
    }
   ],
   "source": [
    "temp2"
   ]
  },
  {
   "cell_type": "code",
   "execution_count": 16,
   "metadata": {},
   "outputs": [],
   "source": [
    "temp = dict()\n",
    "temp[1] = 11\n",
    "temp[2] = 22\n",
    "temp[3] = 33"
   ]
  },
  {
   "cell_type": "code",
   "execution_count": 20,
   "metadata": {},
   "outputs": [
    {
     "name": "stdout",
     "output_type": "stream",
     "text": [
      "1 11\n",
      "3 33\n"
     ]
    }
   ],
   "source": [
    "for key, value in temp.items():\n",
    "    print(key, value)"
   ]
  },
  {
   "cell_type": "code",
   "execution_count": 22,
   "metadata": {},
   "outputs": [
    {
     "name": "stdout",
     "output_type": "stream",
     "text": [
      "33\n"
     ]
    }
   ],
   "source": [
    "print(temp.pop(3))"
   ]
  },
  {
   "cell_type": "code",
   "execution_count": null,
   "metadata": {},
   "outputs": [],
   "source": []
  }
 ],
 "metadata": {
  "kernelspec": {
   "display_name": "Python 3",
   "language": "python",
   "name": "python3"
  },
  "language_info": {
   "codemirror_mode": {
    "name": "ipython",
    "version": 3
   },
   "file_extension": ".py",
   "mimetype": "text/x-python",
   "name": "python",
   "nbconvert_exporter": "python",
   "pygments_lexer": "ipython3",
   "version": "3.7.4"
  }
 },
 "nbformat": 4,
 "nbformat_minor": 2
}
