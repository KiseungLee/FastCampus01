{
 "cells": [
  {
   "cell_type": "code",
   "execution_count": null,
   "metadata": {},
   "outputs": [],
   "source": []
  },
  {
   "cell_type": "code",
   "execution_count": 20,
   "metadata": {},
   "outputs": [],
   "source": [
    "# 전형적인 부모찾기 문제\n",
    "\n",
    "def find(x):\n",
    "    global parent\n",
    "    while parent[x]!=x:\n",
    "        x = parent[x]\n",
    "    return x\n",
    "\n",
    "def solution(n, computers):\n",
    "    global parent\n",
    "    parent = dict()\n",
    "    network = dict()\n",
    "    \n",
    "    # 부모 테이블 생성 및 네트워크 테이블 초기화\n",
    "    for i in range(n):\n",
    "        parent[i] = i\n",
    "        network[i] = []\n",
    "    \n",
    "    # 양방향 그래프(네트워크 테이블) 생성\n",
    "    for i in range(n-1):\n",
    "        for j in range(i+1, n):\n",
    "            if computers[i][j] == 1:\n",
    "                network[i].append(j)\n",
    "                network[j].append(i)\n",
    "                \n",
    "    # i번째 부모 찾고, i번째랑 붙은얘들 다 i번째 부모 부여\n",
    "    for i in range(n):\n",
    "        i_parent = find(i)\n",
    "        for j in network[i]:\n",
    "            parent[j]=i_parent\n",
    "        \n",
    "    # 유니크한 부모의 갯수\n",
    "    return len(set(parent.values()))"
   ]
  },
  {
   "cell_type": "code",
   "execution_count": null,
   "metadata": {},
   "outputs": [],
   "source": []
  },
  {
   "cell_type": "markdown",
   "metadata": {},
   "source": [
    "## Union Find 보다  BFS가 훨씬 쉽게 풀리네"
   ]
  },
  {
   "cell_type": "code",
   "execution_count": 34,
   "metadata": {},
   "outputs": [],
   "source": [
    "from collections import deque\n",
    "\n",
    "def solution(n, computers):\n",
    "    network = dict()\n",
    "    for i in range(n):\n",
    "        network[i] = []\n",
    "    for i in range(n-1):\n",
    "        for j in range(i+1, n):\n",
    "            if computers[i][j] == 1:\n",
    "                network[i].append(j)\n",
    "                network[j].append(i)\n",
    "    left = set(list(range(n)))\n",
    "    visited = set()\n",
    "    count = 0\n",
    "    while left:\n",
    "        count += 1\n",
    "        now = left.pop()\n",
    "        wait = deque()\n",
    "        wait.append(now)\n",
    "        while wait:\n",
    "            now2 = wait.popleft()\n",
    "            for node in network[now2]:\n",
    "                if node in left:\n",
    "                    wait.append(node)\n",
    "                    left.remove(node)\n",
    "            \n",
    "    return count"
   ]
  },
  {
   "cell_type": "code",
   "execution_count": 35,
   "metadata": {},
   "outputs": [
    {
     "data": {
      "text/plain": [
       "1"
      ]
     },
     "execution_count": 35,
     "metadata": {},
     "output_type": "execute_result"
    }
   ],
   "source": [
    "n_ = 4\n",
    "computers_ =[[1,0,0,1],[0,1,1,1],[0,1,1,0],[1,1,0,1]]\n",
    "\n",
    "solution(n_, computers_)"
   ]
  },
  {
   "cell_type": "markdown",
   "metadata": {},
   "source": [
    "## 이게 제일 지리는 답이네\n",
    "\n",
    "- Union-Find를 그냥 배열 1개가지고 한거임"
   ]
  },
  {
   "cell_type": "code",
   "execution_count": null,
   "metadata": {},
   "outputs": [],
   "source": [
    "def solution(n, computers):\n",
    "    temp = []\n",
    "    for i in range(n):\n",
    "        temp.append(i)\n",
    "    for i in range(n):\n",
    "        for j in range(n):\n",
    "            if computers[i][j]:\n",
    "                for k in range(n):\n",
    "                    if temp[k] == temp[i]:\n",
    "                        temp[k] = temp[j]\n",
    "    return len(set(temp))"
   ]
  },
  {
   "cell_type": "code",
   "execution_count": null,
   "metadata": {},
   "outputs": [],
   "source": []
  },
  {
   "cell_type": "code",
   "execution_count": 13,
   "metadata": {},
   "outputs": [],
   "source": [
    "def solution(n, computers):\n",
    "    dic = dict()\n",
    "    for i in range(n):\n",
    "        dic[i] = i\n",
    "    \n",
    "    for i in range(n):\n",
    "        for j in range(i+1, n):\n",
    "            if computers[i][j] == 1:\n",
    "                dic[i] = j\n",
    "            \n",
    "    result = set()\n",
    "    for i in dic:\n",
    "        while dic[i]!=i:\n",
    "            i = dic[i]\n",
    "        result.add(i)\n",
    "    \n",
    "    return len(result)"
   ]
  },
  {
   "cell_type": "code",
   "execution_count": null,
   "metadata": {},
   "outputs": [],
   "source": []
  },
  {
   "cell_type": "code",
   "execution_count": 14,
   "metadata": {},
   "outputs": [
    {
     "data": {
      "text/plain": [
       "2"
      ]
     },
     "execution_count": 14,
     "metadata": {},
     "output_type": "execute_result"
    }
   ],
   "source": [
    "n_ = 3\n",
    "computers_ = [[1, 1, 0], [1, 1, 0], [0, 0, 1]]\n",
    "solution(n_, computers_)"
   ]
  },
  {
   "cell_type": "code",
   "execution_count": 25,
   "metadata": {},
   "outputs": [],
   "source": [
    "temp = set([1,2,3])"
   ]
  },
  {
   "cell_type": "code",
   "execution_count": 26,
   "metadata": {},
   "outputs": [
    {
     "name": "stdout",
     "output_type": "stream",
     "text": [
      "1\n",
      "2\n",
      "3\n"
     ]
    }
   ],
   "source": [
    "for i in temp:\n",
    "    print(i)"
   ]
  },
  {
   "cell_type": "code",
   "execution_count": 27,
   "metadata": {},
   "outputs": [
    {
     "data": {
      "text/plain": [
       "1"
      ]
     },
     "execution_count": 27,
     "metadata": {},
     "output_type": "execute_result"
    }
   ],
   "source": [
    "temp.pop()"
   ]
  },
  {
   "cell_type": "code",
   "execution_count": null,
   "metadata": {},
   "outputs": [],
   "source": []
  }
 ],
 "metadata": {
  "kernelspec": {
   "display_name": "Python 3",
   "language": "python",
   "name": "python3"
  },
  "language_info": {
   "codemirror_mode": {
    "name": "ipython",
    "version": 3
   },
   "file_extension": ".py",
   "mimetype": "text/x-python",
   "name": "python",
   "nbconvert_exporter": "python",
   "pygments_lexer": "ipython3",
   "version": "3.7.4"
  }
 },
 "nbformat": 4,
 "nbformat_minor": 2
}
