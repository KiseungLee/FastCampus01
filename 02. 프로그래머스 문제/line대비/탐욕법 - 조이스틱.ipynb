{
 "cells": [
  {
   "cell_type": "code",
   "execution_count": 1,
   "metadata": {},
   "outputs": [
    {
     "data": {
      "text/plain": [
       "65"
      ]
     },
     "execution_count": 1,
     "metadata": {},
     "output_type": "execute_result"
    }
   ],
   "source": [
    "ord('A')"
   ]
  },
  {
   "cell_type": "code",
   "execution_count": 2,
   "metadata": {},
   "outputs": [
    {
     "data": {
      "text/plain": [
       "90"
      ]
     },
     "execution_count": 2,
     "metadata": {},
     "output_type": "execute_result"
    }
   ],
   "source": [
    "ord('Z')"
   ]
  },
  {
   "cell_type": "code",
   "execution_count": 16,
   "metadata": {},
   "outputs": [
    {
     "data": {
      "text/plain": [
       "4"
      ]
     },
     "execution_count": 16,
     "metadata": {},
     "output_type": "execute_result"
    }
   ],
   "source": [
    "ord('E') - ord('A') # 위로 4번"
   ]
  },
  {
   "cell_type": "code",
   "execution_count": 17,
   "metadata": {},
   "outputs": [
    {
     "data": {
      "text/plain": [
       "22"
      ]
     },
     "execution_count": 17,
     "metadata": {},
     "output_type": "execute_result"
    }
   ],
   "source": [
    "26 - (ord('E') - ord('A')) # 아래로 22번"
   ]
  },
  {
   "cell_type": "code",
   "execution_count": 15,
   "metadata": {},
   "outputs": [
    {
     "data": {
      "text/plain": [
       "2"
      ]
     },
     "execution_count": 15,
     "metadata": {},
     "output_type": "execute_result"
    }
   ],
   "source": [
    "min(ord('Y') - 65, 26 - (ord('Y') - 65)) # 위든 아래든 최소조작 횟수"
   ]
  },
  {
   "cell_type": "code",
   "execution_count": null,
   "metadata": {},
   "outputs": [],
   "source": [
    "A B C D E F G H I J K L M N O P Q R S T U V W X Y Z\n"
   ]
  },
  {
   "cell_type": "code",
   "execution_count": 86,
   "metadata": {},
   "outputs": [],
   "source": [
    "# 일단 이걸 토대로 코드 정리좀 하자\n",
    "# 근데 애초에 문제 자체가 Greedy 알고리즘으론 엄밀하겐 안풀림\n",
    "# 질문들 봐도 반례케이스 계속나오고\n",
    "# 지금 내 상황에서도 왼쪽, 오른쪽으로 이동거리 같을때 어느 쪽 고르느냐에 따라서도 갈림(같은때 왼쪽 고르면 테스트케이스 틀림)\n",
    "\n",
    "def solution(name):\n",
    "    len_name = len(name)\n",
    "    arr = []\n",
    "    done = []\n",
    "    done_count = 0\n",
    "    count = 0\n",
    "    for c in name:\n",
    "        arr.append(min( ord(c)-65 , 26-(ord(c)-65) ))\n",
    "        if c=='A':\n",
    "            done.append(True)\n",
    "            done_count += 1\n",
    "        else:\n",
    "            done.append(False)\n",
    "    \n",
    "    idx = 0\n",
    "    while done_count<len(name):\n",
    "        \n",
    "        # idx 처리\n",
    "        if not done[idx]:\n",
    "            done[idx] = True\n",
    "            count += arr[idx]\n",
    "            done_count += 1\n",
    "        \n",
    "        # 방금 처리해서 끝났으면 break\n",
    "        if done_count == len_name:\n",
    "            break\n",
    "            \n",
    "        # 오른쪽으로 가서 False 발견\n",
    "        right = 1\n",
    "        while done[(idx+right)%len_name] and right<=len_name:\n",
    "            right += 1\n",
    "        # 왼쪽으로 가서 False 발견\n",
    "        left = 1\n",
    "        while done[(idx-left)%len_name] and left<=len_name:\n",
    "            left += 1\n",
    "            \n",
    "        # 짧은 쪽으로 이동\n",
    "        if left<right:\n",
    "            count += left\n",
    "            idx = (idx-left)%len_name\n",
    "        else:\n",
    "            count += right\n",
    "            idx = (idx+right)%len_name\n",
    "            \n",
    "    return count"
   ]
  },
  {
   "cell_type": "code",
   "execution_count": 87,
   "metadata": {},
   "outputs": [
    {
     "name": "stdout",
     "output_type": "stream",
     "text": [
      "now :  0 , right:  1 , left :  1\n",
      "now :  1 , right:  10 , left :  2\n",
      "now :  12 , right:  12 , left :  1\n"
     ]
    },
    {
     "data": {
      "text/plain": [
       "7"
      ]
     },
     "execution_count": 87,
     "metadata": {},
     "output_type": "execute_result"
    }
   ],
   "source": [
    "name_ = 'ABAAAAAAAAABB'\n",
    "solution(name_)"
   ]
  },
  {
   "cell_type": "code",
   "execution_count": null,
   "metadata": {},
   "outputs": [],
   "source": []
  }
 ],
 "metadata": {
  "kernelspec": {
   "display_name": "Python 3",
   "language": "python",
   "name": "python3"
  },
  "language_info": {
   "codemirror_mode": {
    "name": "ipython",
    "version": 3
   },
   "file_extension": ".py",
   "mimetype": "text/x-python",
   "name": "python",
   "nbconvert_exporter": "python",
   "pygments_lexer": "ipython3",
   "version": "3.7.4"
  }
 },
 "nbformat": 4,
 "nbformat_minor": 2
}
