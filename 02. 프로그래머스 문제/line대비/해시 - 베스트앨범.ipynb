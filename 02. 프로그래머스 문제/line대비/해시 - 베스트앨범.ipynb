{
 "cells": [
  {
   "cell_type": "code",
   "execution_count": 83,
   "metadata": {},
   "outputs": [],
   "source": [
    "class Genre:\n",
    "    def __init__(self, genre):\n",
    "        self.genre = genre\n",
    "        self.count = 0\n",
    "        self.list = []\n",
    "        \n",
    "    def add(self, index, play):\n",
    "        self.list.append((index, play))\n",
    "        self.count += play\n",
    "    \n",
    "    def getList(self):\n",
    "        self.list.sort(key = lambda x : -x[1])\n",
    "        return self.list[:2]"
   ]
  },
  {
   "cell_type": "code",
   "execution_count": 84,
   "metadata": {},
   "outputs": [],
   "source": [
    "def solution(genres, plays):\n",
    "    dic = {}\n",
    "    for i in range(len(plays)):\n",
    "        if genres[i] not in dic:\n",
    "            dic[genres[i]] = Genre(genres[i])\n",
    "        dic[genres[i]].add(i, plays[i])\n",
    "            \n",
    "    genre_list = list(dic.values())\n",
    "    genre_list.sort(key = lambda x : -x.count)\n",
    "    result = []\n",
    "    for genre in genre_list:\n",
    "        for i in genre.getList():\n",
    "            result.append(i[0])\n",
    "    return result"
   ]
  },
  {
   "cell_type": "code",
   "execution_count": null,
   "metadata": {},
   "outputs": [],
   "source": []
  },
  {
   "cell_type": "code",
   "execution_count": null,
   "metadata": {},
   "outputs": [],
   "source": [
    "## Special Method를 정의해서 푼 풀이.\n",
    "## 코드가 길어도 이런 코드가 낫지\n",
    "\n",
    "def solution(genres, plays):\n",
    "    answer = []\n",
    "    dic = {}\n",
    "    album_list = []\n",
    "    for i in range(len(genres)):\n",
    "        dic[genres[i]] = dic.get(genres[i], 0) + plays[i]\n",
    "        album_list.append(album(genres[i], plays[i], i))\n",
    "\n",
    "    dic = sorted(dic.items(), key=lambda dic:dic[1], reverse=True)\n",
    "    album_list = sorted(album_list, reverse=True)\n",
    "\n",
    "\n",
    "\n",
    "    while len(dic) > 0:\n",
    "        play_genre = dic.pop(0)\n",
    "        print(play_genre)\n",
    "        cnt = 0;\n",
    "        for ab in album_list:\n",
    "            if play_genre[0] == ab.genre:\n",
    "                answer.append(ab.track)\n",
    "                cnt += 1\n",
    "            if cnt == 2:\n",
    "                break\n",
    "\n",
    "    return answer\n",
    "\n",
    "class album:\n",
    "    def __init__(self, genre, play, track):\n",
    "        self.genre = genre\n",
    "        self.play = play\n",
    "        self.track = track\n",
    "\n",
    "    def __lt__(self, other):\n",
    "        return self.play < other.play\n",
    "    def __le__(self, other):\n",
    "        return self.play <= other.play\n",
    "    def __gt__(self, other):\n",
    "        return self.play > other.play\n",
    "    def __ge__(self, other):\n",
    "        return self.play >= other.play\n",
    "    def __eq__(self, other):\n",
    "        return self.play == other.play\n",
    "    def __ne__(self, other):\n",
    "        return self.play != other.play"
   ]
  },
  {
   "cell_type": "code",
   "execution_count": 85,
   "metadata": {},
   "outputs": [],
   "source": [
    "genres = ['classic', 'pop', 'classic', 'classic', 'pop']\n",
    "plays = [500, 600, 150, 800, 2500]\n",
    "temp = solution(genres, plays)"
   ]
  },
  {
   "cell_type": "code",
   "execution_count": 86,
   "metadata": {},
   "outputs": [
    {
     "data": {
      "text/plain": [
       "[4, 1, 3, 0]"
      ]
     },
     "execution_count": 86,
     "metadata": {},
     "output_type": "execute_result"
    }
   ],
   "source": [
    "temp"
   ]
  },
  {
   "cell_type": "code",
   "execution_count": 4,
   "metadata": {},
   "outputs": [],
   "source": [
    "if 3 in temp:\n",
    "    print('a')"
   ]
  },
  {
   "cell_type": "code",
   "execution_count": 25,
   "metadata": {},
   "outputs": [],
   "source": [
    "temp[3] = 'a'"
   ]
  },
  {
   "cell_type": "code",
   "execution_count": 9,
   "metadata": {},
   "outputs": [],
   "source": [
    "temp = [(2,5),(1,3),(26,6),(4,45)]"
   ]
  },
  {
   "cell_type": "code",
   "execution_count": 10,
   "metadata": {},
   "outputs": [],
   "source": [
    "temp.sort(key = lambda x : x[1] )"
   ]
  },
  {
   "cell_type": "code",
   "execution_count": 11,
   "metadata": {},
   "outputs": [
    {
     "data": {
      "text/plain": [
       "[(1, 3), (2, 5), (26, 6), (4, 45)]"
      ]
     },
     "execution_count": 11,
     "metadata": {},
     "output_type": "execute_result"
    }
   ],
   "source": [
    "temp"
   ]
  },
  {
   "cell_type": "code",
   "execution_count": 28,
   "metadata": {},
   "outputs": [],
   "source": [
    "temp2 = temp.values()"
   ]
  },
  {
   "cell_type": "code",
   "execution_count": 74,
   "metadata": {},
   "outputs": [],
   "source": [
    "temp = [1,2,3]"
   ]
  },
  {
   "cell_type": "code",
   "execution_count": 75,
   "metadata": {},
   "outputs": [
    {
     "data": {
      "text/plain": [
       "[1, 2]"
      ]
     },
     "execution_count": 75,
     "metadata": {},
     "output_type": "execute_result"
    }
   ],
   "source": [
    "temp[:2]"
   ]
  },
  {
   "cell_type": "code",
   "execution_count": null,
   "metadata": {},
   "outputs": [],
   "source": []
  },
  {
   "cell_type": "code",
   "execution_count": null,
   "metadata": {},
   "outputs": [],
   "source": []
  }
 ],
 "metadata": {
  "kernelspec": {
   "display_name": "Python 3",
   "language": "python",
   "name": "python3"
  },
  "language_info": {
   "codemirror_mode": {
    "name": "ipython",
    "version": 3
   },
   "file_extension": ".py",
   "mimetype": "text/x-python",
   "name": "python",
   "nbconvert_exporter": "python",
   "pygments_lexer": "ipython3",
   "version": "3.7.4"
  }
 },
 "nbformat": 4,
 "nbformat_minor": 2
}
