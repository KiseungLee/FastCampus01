{
 "cells": [
  {
   "cell_type": "markdown",
   "metadata": {},
   "source": [
    "## 1번 제출로 바로 통과~"
   ]
  },
  {
   "cell_type": "code",
   "execution_count": 26,
   "metadata": {},
   "outputs": [],
   "source": [
    "from collections import deque\n",
    "from collections import Counter\n",
    "\n",
    "def solution(n, vertex):\n",
    "    # 그래프 생성\n",
    "    graph = {}\n",
    "    for edge in vertex:\n",
    "        x, y = edge[0], edge[1]\n",
    "        if x not in graph:\n",
    "            graph[x] = []\n",
    "        if y not in graph:\n",
    "            graph[y] = []\n",
    "        graph[x].append(y)\n",
    "        graph[y].append(x)\n",
    "    \n",
    "    result = Counter()   # depth : count 로 결과 기록\n",
    "    visited = set()      # 방문한 노드\n",
    "    plan = deque()       # 방문할 노드  (number, depth)\n",
    "    plan.append((1, 0))  # 첫 방문 노드 (1, 0)\n",
    "    while plan:\n",
    "        now, depth = plan.popleft()\n",
    "        if now not in visited:\n",
    "            for next_ in graph[now]:\n",
    "                plan.append((next_, depth+1))\n",
    "            visited.add(now)\n",
    "            result[depth] += 1\n",
    "            \n",
    "    return result[max(result.keys())]"
   ]
  },
  {
   "cell_type": "code",
   "execution_count": 27,
   "metadata": {},
   "outputs": [
    {
     "data": {
      "text/plain": [
       "3"
      ]
     },
     "execution_count": 27,
     "metadata": {},
     "output_type": "execute_result"
    }
   ],
   "source": [
    "n_ = 6\n",
    "vertex_ = [[3, 6], [4, 3], [3, 2], [1, 3], [1, 2], [2, 4], [5, 2]]\n",
    "solution(n_, vertex_)"
   ]
  },
  {
   "cell_type": "code",
   "execution_count": 14,
   "metadata": {},
   "outputs": [],
   "source": [
    "temp = Counter()"
   ]
  },
  {
   "cell_type": "code",
   "execution_count": 15,
   "metadata": {},
   "outputs": [],
   "source": [
    "temp[4] = 4"
   ]
  },
  {
   "cell_type": "code",
   "execution_count": 16,
   "metadata": {},
   "outputs": [],
   "source": [
    "temp[2] = 2"
   ]
  },
  {
   "cell_type": "code",
   "execution_count": 17,
   "metadata": {},
   "outputs": [],
   "source": [
    "temp[1] = 1"
   ]
  },
  {
   "cell_type": "code",
   "execution_count": 18,
   "metadata": {},
   "outputs": [],
   "source": [
    "temp[6] = 6"
   ]
  },
  {
   "cell_type": "code",
   "execution_count": 21,
   "metadata": {},
   "outputs": [
    {
     "data": {
      "text/plain": [
       "6"
      ]
     },
     "execution_count": 21,
     "metadata": {},
     "output_type": "execute_result"
    }
   ],
   "source": [
    "max(temp.keys())"
   ]
  },
  {
   "cell_type": "code",
   "execution_count": null,
   "metadata": {},
   "outputs": [],
   "source": []
  }
 ],
 "metadata": {
  "kernelspec": {
   "display_name": "Python 3",
   "language": "python",
   "name": "python3"
  },
  "language_info": {
   "codemirror_mode": {
    "name": "ipython",
    "version": 3
   },
   "file_extension": ".py",
   "mimetype": "text/x-python",
   "name": "python",
   "nbconvert_exporter": "python",
   "pygments_lexer": "ipython3",
   "version": "3.7.4"
  }
 },
 "nbformat": 4,
 "nbformat_minor": 2
}
