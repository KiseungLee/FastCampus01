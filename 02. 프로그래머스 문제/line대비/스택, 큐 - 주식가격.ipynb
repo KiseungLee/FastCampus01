{
 "cells": [
  {
   "cell_type": "code",
   "execution_count": 9,
   "metadata": {},
   "outputs": [],
   "source": [
    "def solution(prices):\n",
    "    result = [0]*len(prices)\n",
    "    stack = []\n",
    "    idx = 0 \n",
    "    while idx<len(prices):\n",
    "        print(stack)\n",
    "        # 하나 잡음\n",
    "        price = prices[idx]\n",
    "        # 지금 잡은것보다 큰애들(주식하락) 빼줌\n",
    "        while stack and stack[-1][1]>price:\n",
    "            idx_pop = stack.pop()[0]\n",
    "            result[idx_pop] = idx-idx_pop\n",
    "        # 스택에 넣어줌\n",
    "        stack.append((idx, price))\n",
    "        # 다음 idx\n",
    "        idx+=1\n",
    "    # 끝까지 하락 안한 얘들 입력\n",
    "    while stack:\n",
    "        idx_pop = stack.pop()[0]\n",
    "        result[idx_pop] = idx-idx_pop-1\n",
    "    return result"
   ]
  },
  {
   "cell_type": "code",
   "execution_count": 10,
   "metadata": {},
   "outputs": [
    {
     "name": "stdout",
     "output_type": "stream",
     "text": [
      "[]\n",
      "[(0, 1)]\n",
      "[(0, 1), (1, 2)]\n",
      "[(0, 1), (1, 2), (2, 3)]\n",
      "[(0, 1), (1, 2), (3, 2)]\n"
     ]
    },
    {
     "data": {
      "text/plain": [
       "[4, 3, 1, 1, 0]"
      ]
     },
     "execution_count": 10,
     "metadata": {},
     "output_type": "execute_result"
    }
   ],
   "source": [
    "prices = [1,2,3,2,3]\n",
    "solution(prices)"
   ]
  },
  {
   "cell_type": "code",
   "execution_count": null,
   "metadata": {},
   "outputs": [],
   "source": []
  }
 ],
 "metadata": {
  "kernelspec": {
   "display_name": "Python 3",
   "language": "python",
   "name": "python3"
  },
  "language_info": {
   "codemirror_mode": {
    "name": "ipython",
    "version": 3
   },
   "file_extension": ".py",
   "mimetype": "text/x-python",
   "name": "python",
   "nbconvert_exporter": "python",
   "pygments_lexer": "ipython3",
   "version": "3.7.4"
  }
 },
 "nbformat": 4,
 "nbformat_minor": 2
}
