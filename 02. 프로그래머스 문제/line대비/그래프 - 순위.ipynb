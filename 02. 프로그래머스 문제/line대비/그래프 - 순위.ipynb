{
 "cells": [
  {
   "cell_type": "markdown",
   "metadata": {},
   "source": [
    "- 이거 예전에 풀었을때 엄청 안풀렸던걸로 기억하는데\n",
    "\n",
    "- 오늘은 1제출 한방에 통과됨. 확실히 늘었음"
   ]
  },
  {
   "cell_type": "code",
   "execution_count": 34,
   "metadata": {},
   "outputs": [],
   "source": [
    "# 하나는 승리방향 그래프, 하나는 패배방향 그래프\n",
    "# 두 개의 대칭적인 단방향 그래프를 만듬\n",
    "# 한 노드에서 승리방향 탐색 돌려서 거친 노드 수 구하고\n",
    "#             패배방향 탐색 돌려서 거친 노드 수 구함\n",
    "# 둘을 합쳤을때 n-1이 되면 순위 정할 수 있음\n",
    "\n",
    "def solution(n, results):\n",
    "    # 그래프 생성\n",
    "    win_ = dict()\n",
    "    lose_ = dict()\n",
    "    for i in range(n):\n",
    "        win_[i+1] = []\n",
    "        lose_[i+1] = []\n",
    "    for result in results:\n",
    "        win, lose = result[0], result[1]\n",
    "        win_[win].append(lose)\n",
    "        lose_[lose].append(win)\n",
    "        \n",
    "    # 하나씩 검사\n",
    "    count = 0\n",
    "    for i in range(1, n+1):\n",
    "        if getCount(n, win_, i)+getCount(n, lose_, i) == n-1:\n",
    "            count += 1\n",
    "            \n",
    "    return count"
   ]
  },
  {
   "cell_type": "code",
   "execution_count": 35,
   "metadata": {},
   "outputs": [],
   "source": [
    "from collections import deque\n",
    "\n",
    "def getCount(n, graph, i):\n",
    "    visited = set()\n",
    "    plan = deque([i])\n",
    "    while plan:\n",
    "        now = plan.popleft()\n",
    "        if now not in visited:\n",
    "            for next_ in graph[now]:\n",
    "                plan.append(next_)\n",
    "            visited.add(now)\n",
    "    return len(visited)-1 # 1개 자기 자신 뺌"
   ]
  },
  {
   "cell_type": "code",
   "execution_count": 36,
   "metadata": {},
   "outputs": [
    {
     "data": {
      "text/plain": [
       "2"
      ]
     },
     "execution_count": 36,
     "metadata": {},
     "output_type": "execute_result"
    }
   ],
   "source": [
    "n_ = 5\n",
    "results_ = [[4, 3], [4, 2], [3, 2], [1, 2], [2, 5]]\n",
    "solution(n_, results_)"
   ]
  },
  {
   "cell_type": "code",
   "execution_count": null,
   "metadata": {},
   "outputs": [],
   "source": []
  }
 ],
 "metadata": {
  "kernelspec": {
   "display_name": "Python 3",
   "language": "python",
   "name": "python3"
  },
  "language_info": {
   "codemirror_mode": {
    "name": "ipython",
    "version": 3
   },
   "file_extension": ".py",
   "mimetype": "text/x-python",
   "name": "python",
   "nbconvert_exporter": "python",
   "pygments_lexer": "ipython3",
   "version": "3.7.4"
  }
 },
 "nbformat": 4,
 "nbformat_minor": 2
}
