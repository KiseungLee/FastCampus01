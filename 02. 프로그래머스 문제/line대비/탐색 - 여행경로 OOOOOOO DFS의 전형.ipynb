{
 "cells": [
  {
   "cell_type": "markdown",
   "metadata": {},
   "source": [
    "## 기본구조는 DFS 돌리는 건데\n",
    "\n",
    "## 그 외 조건들을 처리하기 위해 어떻게 하느냐\n",
    "\n",
    "## 다음 풀이땐 티켓별로 id를 매기고 쓴 티켓 id set를 들고다녀보자"
   ]
  },
  {
   "cell_type": "code",
   "execution_count": null,
   "metadata": {},
   "outputs": [],
   "source": []
  },
  {
   "cell_type": "code",
   "execution_count": null,
   "metadata": {},
   "outputs": [],
   "source": []
  },
  {
   "cell_type": "code",
   "execution_count": 91,
   "metadata": {},
   "outputs": [],
   "source": [
    "def solution(tickets):\n",
    "    global total\n",
    "    total = len(tickets)\n",
    "    airport = dict()\n",
    "    for ticket in tickets:                                                                                                                                                                                                                                                                                                                                                                                                                                                                                                                                                                                                                                                                                                                                                                                                                                                                                                                                                                                                                                                                                                                                                                                                                                                                                                                                                                                                                                                                                                                                                                                                                                                                                                                                                                                                                                                                                                                                                                                                                                                                                                                                                                                                                                                                                                                                                                                                                                                                                                                                                                                                                                                                                                                                                                                                                                                                                                                                                                                                                                                                                                                                                                                                                                                                                                                                                                                                                                                                                                                                                                                                                                                                                                                                                                                                                                                                                                                                                                                                                                                                                                                                                                                                                                                                                                                                                                                                                                                                                                                                                                                                                                                                                                                                                                                                                                                                                                                                                                                                                                                                                                                                                                                                                                                                                                                                                                                                                                                                                                                                                                                                                                                                                                                                                                                                                                                                                                                                                                                                                                                                                                                                                                                                                                                                                                                                                                                                                                                                                                                                                                                                                                                                                                                                                                                                                                                                                                                                                                                                                                                                                                                                                                                                                                                                                                                                                                                                                                                                                                                                                                                                                                                                                                                                                                                                                                                                                                                                                                                                                                                                                                                                                                                                                                                                                                                                                                                                                                                                                                                                                                                                                                                                                                                                                                                                                                                                                                                                                                                                                                                                                                                                                                                                                                                                                                                                                                                                                                                                                                                                                                                                                                                                                                                                                                                                                                                                                                                                                                                                                                                                                                                                                                                                                                                                                                                                                                                                                                                                                                                                                                                                                                                                                                                                                                                                                                                                                                                                                                                                                                                                                                                                                                                                                                                                                                                                                                                                                                                                                                                                                                                                                                                                                                                                                                                                                                                                                                                                                                                                                                                                                                                                                                                                                                                                                                                                                                                                                                                                                                                                                                                                                                                                                                                                                                                                                                                                                                                                                                                                                                                                                                                                                                                                                                                                                                                                                                                                                                                                                                                                                                                                                                                                                                                                                                                                                                                           \n",
    "        if ticket[0] not in airport:\n",
    "            airport[ticket[0]] = []\n",
    "        airport[ticket[0]].append(ticket[1])\n",
    "    for key in airport:\n",
    "        airport[key].sort(reverse=True)\n",
    "    \n",
    "    return fly(airport, [\"ICN\"], 0)"
   ]
  },
  {
   "cell_type": "code",
   "execution_count": 92,
   "metadata": {},
   "outputs": [],
   "source": [
    "# 루트 찾으면 루트 리턴\n",
    "# 못찾으면 None 리턴\n",
    "# 재귀보내서 받은게 None이면 다음 재귀 돌림\n",
    "def fly(airport, routes, count):\n",
    "    print(airport,'/////',  routes,'////',  count)\n",
    "    global total\n",
    "    # 티켓 다 썼으면 리턴해서 재귀 끝냄\n",
    "    if count==total:\n",
    "        return routes\n",
    "    else:\n",
    "        # 마지막 루트(=지금 있는 곳)\n",
    "        now = routes[-1]\n",
    "        # 지금 있는곳에 공항이 있는지...\n",
    "        if now in airport:\n",
    "            # 갈수 있는 목록 뽑아서\n",
    "            go = airport[now]\n",
    "            # 티켓 남은곳이 있다면 ㄱㄱ\n",
    "            visited = set()\n",
    "            while go:\n",
    "                # 다음 목적지\n",
    "                next_ = go.pop()\n",
    "                if next_ not in visited:\n",
    "                    # 갔다와봄. 갔다온게 루트를 찾아왔으면 리턴해서 재귀 닫고 \n",
    "                    # 아니면(None) 지금 갔던데 다시 넣어놓고, 다음 목적지 갔다옴\n",
    "                    result = fly(airport, routes+[next_], count+1)\n",
    "                    if result:\n",
    "                        return result\n",
    "                    else:\n",
    "                        go.insert(0, next_)\n",
    "                        visited.add(next_)\n",
    "            return None\n",
    "        return None"
   ]
  },
  {
   "cell_type": "code",
   "execution_count": 93,
   "metadata": {},
   "outputs": [
    {
     "name": "stdout",
     "output_type": "stream",
     "text": [
      "{'ICN': ['COO', 'BOO'], 'COO': ['ICN'], 'BOO': ['DOO']} ///// ['ICN'] //// 0\n",
      "{'ICN': ['COO'], 'COO': ['ICN'], 'BOO': ['DOO']} ///// ['ICN', 'BOO'] //// 1\n",
      "{'ICN': ['COO'], 'COO': ['ICN'], 'BOO': []} ///// ['ICN', 'BOO', 'DOO'] //// 2\n",
      "{'ICN': ['BOO'], 'COO': ['ICN'], 'BOO': []} ///// ['ICN', 'COO'] //// 1\n",
      "{'ICN': ['BOO'], 'COO': [], 'BOO': []} ///// ['ICN', 'COO', 'ICN'] //// 2\n",
      "{'ICN': [], 'COO': [], 'BOO': []} ///// ['ICN', 'COO', 'ICN', 'BOO'] //// 3\n"
     ]
    }
   ],
   "source": [
    "# tickets_ = [['ICN', 'SFO'], ['ICN', 'ATL'], ['SFO', 'ATL'], ['ATL', 'ICN'], ['ATL','SFO']]\n",
    "# tickets_ = [['ICN', 'JFK'], ['HND', 'IAD'], ['JFK', 'HND']]\n",
    "# tickets_ = [['ICN', 'BBC'], ['BBC', 'ICN'], ['ICN', 'BBC'], ['BBC', 'CBA'], ['CBA', 'ICN']]\n",
    "tickets_ = [[\"ICN\", \"COO\"], [\"ICN\", \"BOO\"], [\"COO\", \"ICN\"], [\"BOO\", \"DOO\"]]\n",
    "solution(tickets_)"
   ]
  },
  {
   "cell_type": "code",
   "execution_count": 75,
   "metadata": {},
   "outputs": [],
   "source": [
    "temp = [1,2,3]"
   ]
  },
  {
   "cell_type": "code",
   "execution_count": 76,
   "metadata": {},
   "outputs": [],
   "source": [
    "temp.insert(0, 10)"
   ]
  },
  {
   "cell_type": "code",
   "execution_count": 77,
   "metadata": {},
   "outputs": [
    {
     "data": {
      "text/plain": [
       "[10, 1, 2, 3]"
      ]
     },
     "execution_count": 77,
     "metadata": {},
     "output_type": "execute_result"
    }
   ],
   "source": [
    "temp"
   ]
  },
  {
   "cell_type": "code",
   "execution_count": null,
   "metadata": {},
   "outputs": [],
   "source": []
  }
 ],
 "metadata": {
  "kernelspec": {
   "display_name": "Python 3",
   "language": "python",
   "name": "python3"
  },
  "language_info": {
   "codemirror_mode": {
    "name": "ipython",
    "version": 3
   },
   "file_extension": ".py",
   "mimetype": "text/x-python",
   "name": "python",
   "nbconvert_exporter": "python",
   "pygments_lexer": "ipython3",
   "version": "3.7.4"
  }
 },
 "nbformat": 4,
 "nbformat_minor": 2
}
