{
 "cells": [
  {
   "cell_type": "markdown",
   "metadata": {},
   "source": [
    "## 크루스칼 알고리즘\n",
    "\n",
    "https://ko.wikipedia.org/wiki/%ED%81%AC%EB%9F%AC%EC%8A%A4%EC%BB%AC_%EC%95%8C%EA%B3%A0%EB%A6%AC%EC%A6%98\n",
    "\n",
    "\n",
    "### 테스트 샘플들 \n",
    "\n",
    "    6, [[0, 1, 5], [0, 3, 2], [0, 4, 3], [1, 4, 1], [3, 4, 10], [1, 2, 2], [2, 5, 3], [4, 5, 4]]\n",
    "    output: 11\n",
    "\n",
    "    4, [[0, 1, 5], [1, 2, 3], [2, 3, 3], [3, 1, 2], [3, 0, 4]]\n",
    "    output: 9\n",
    "\n",
    "    5, [[0, 1, 1], [0, 2, 2], [1, 2, 5], [1, 3, 3], [2, 3, 8], [3, 4, 1]]\n",
    "    output: 7\n",
    "\n",
    "    5, [[0, 1, 1], [3, 4, 1], [1, 2, 2], [2, 3, 4]]\n",
    "    output: 8"
   ]
  },
  {
   "cell_type": "markdown",
   "metadata": {},
   "source": [
    "## 지금 풀이 구조는 맞는데 코딩이 중간에 꼬이기 시작하면서 개망한 케이스\n",
    "## 처음부터 구체적으로 생각하고 짜보는게 중요\n",
    "## 코테때 이렇게 터지면 노답임\n",
    "\n",
    "\n",
    "\n",
    "## 후... 아니다 다시 짜봤는데 저번에 생각한 풀이 구조부터 문제가 있음\n",
    "\n",
    "## 그냥 얌전히 나와있는 이론을 참고하자\n",
    "\n",
    "## https://gmlwjd9405.github.io/2018/08/29/algorithm-kruskal-mst.html"
   ]
  },
  {
   "cell_type": "markdown",
   "metadata": {},
   "source": [
    "### 크루스칼 알고리즘은 두 단계로 이루어짐\n",
    "\n",
    "    1. 최소 비용 간선 찾기\n",
    "         1.1. 입력 받은 간선들 비용순으로 정렬\n",
    "         1.2. 작은 것부터 픽\n",
    "    \n",
    "    2. 사이클 검사\n",
    "        2,1, 찾은 간선의 두 노드들의 부모를 각각 찾음\n",
    "        2.2. 두 노드의 부모가 같으면 사이클 발생"
   ]
  },
  {
   "cell_type": "markdown",
   "metadata": {},
   "source": [
    "### 힌트 받고 푸니까 5/8 바로 나왔는데 어디서 틀리는건지 못잡겄네\n",
    "\n",
    "### -> 찾았음. Union-Find에서 Union을 잘 처리 못했음\n",
    "\n",
    "![탐욕법.png](탐욕법.png)\n",
    "\n",
    "n=6\n",
    "costs = [[0,1,6],[1,3,3],[0,3,4],[1,2,5],[3,4,9],[1,4,7],[1,5,8],[2,5,8],[4,5,11]]"
   ]
  },
  {
   "cell_type": "markdown",
   "metadata": {},
   "source": [
    "## 다시 한 번 동빈나 센세의 강의를 듣고왔더니 1제출 만에 통과했음.\n",
    "\n",
    "## 고등학생땐 1문제로 2~3일 쓸 수 있었어도 지금은 아니다.. 시간을 생각하고 적당히 다른 사람 소스나 포스팅, 강의를 보자."
   ]
  },
  {
   "cell_type": "code",
   "execution_count": 118,
   "metadata": {},
   "outputs": [],
   "source": [
    "def solution(n, costs):\n",
    "    global total\n",
    "    global parent\n",
    "    global children\n",
    "    total = 0\n",
    "    parent = {}\n",
    "    children = {}\n",
    "    for i in range(n):\n",
    "        parent[i] = i\n",
    "        children[i] = 1\n",
    "    costs.sort(key=lambda x : x[2]) # cost 순으로 정렬\n",
    "    for edge in costs:\n",
    "        a, b, c = edge[0], edge[1], edge[2]\n",
    "        union(a, b, c)\n",
    "        \n",
    "    # print('total : ', total)\n",
    "    # print('parent : ', parent)\n",
    "    # print('children : ', children)\n",
    "    return total"
   ]
  },
  {
   "cell_type": "code",
   "execution_count": 119,
   "metadata": {},
   "outputs": [],
   "source": [
    "def find(x):\n",
    "    global parent\n",
    "    while x!=parent[x]:\n",
    "        x=parent[x]\n",
    "    return x"
   ]
  },
  {
   "cell_type": "code",
   "execution_count": 120,
   "metadata": {},
   "outputs": [],
   "source": [
    "def union(a, b,  c):\n",
    "    global total\n",
    "    global parent\n",
    "    global children    \n",
    "    a = find(a)\n",
    "    b = find(b)\n",
    "    if a!=b:\n",
    "        total += c\n",
    "        parent[b] = a\n",
    "        if children[a]>=children[b]:\n",
    "            children[a] += children[b]\n",
    "        else:\n",
    "            children[b] += children[a]"
   ]
  },
  {
   "cell_type": "code",
   "execution_count": 121,
   "metadata": {},
   "outputs": [
    {
     "name": "stdout",
     "output_type": "stream",
     "text": [
      "11\n"
     ]
    }
   ],
   "source": [
    "n_ = 6\n",
    "costs_ =[[0, 1, 5], [0, 3, 2], [0, 4, 3], [1, 4, 1], [3, 4, 10], [1, 2, 2], [2, 5, 3], [4, 5, 4]]\n",
    "temp2 = solution(n_, costs_)\n",
    "print(temp2)"
   ]
  },
  {
   "cell_type": "code",
   "execution_count": null,
   "metadata": {},
   "outputs": [],
   "source": []
  },
  {
   "cell_type": "code",
   "execution_count": 89,
   "metadata": {},
   "outputs": [],
   "source": [
    "def solution(n, costs):\n",
    "    # 사이클 찾기위한 부모 테이블\n",
    "    parent = {}\n",
    "    #sets = []\n",
    "    for i in range(n):\n",
    "        parent[i] = i # 처음 부모는 자기 자신\n",
    "        #sets.append(set())\n",
    "\n",
    "    \n",
    "    # 비용순으로 정렬\n",
    "    costs.sort(key=lambda x : x[2])\n",
    "    \n",
    "    # 총 cost\n",
    "    total = 0\n",
    "    \n",
    "    # 몇개 연결 됐는지\n",
    "    joined = 0\n",
    "    \n",
    "    # 각 간선들 돌아봄\n",
    "    for i in range(len(costs)):\n",
    "        a, b, cost = costs[i][0], costs[i][1], costs[i][2] # 최소 비용 간선 찾고\n",
    "        a_parent = find(a, parent) # 간선 양 끝의 부모를 찾음\n",
    "        b_parent = find(b, parent) # 간선 양 끝의 부모를 찾음\n",
    "        if a_parent!=b_parent:    # 간선 양 끝 부모가 같지 않다면(== 사이클이 아니라면)\n",
    "            # print(a, ' and ', b, ' are joined! for ', cost, ' cost')\n",
    "            total += cost         # cost 추가\n",
    "            joined += 1           # 연결 갯수 추가\n",
    "            parent[b] = a_parent  # 부모 셋팅\n",
    "            \n",
    "            \n",
    "            #sets[a_parent].add(b)\n",
    "            ## b_parent를 따르던 모두 다시 셋팅\n",
    "            #for temp in sets[b_parent]:\n",
    "            #    parent[temp] = a_parent\n",
    "            #    sets[a_parent].add(temp)\n",
    "            \n",
    "        if joined == n-1:        # n-1개가 연결 됐다면 끝냄\n",
    "            break\n",
    "            \n",
    "    return total\n",
    "            \n",
    "def find(x, parent):\n",
    "    while x!=parent[x]:\n",
    "        x = parent[x]\n",
    "    return x"
   ]
  },
  {
   "cell_type": "code",
   "execution_count": 90,
   "metadata": {},
   "outputs": [
    {
     "name": "stdout",
     "output_type": "stream",
     "text": [
      "25\n"
     ]
    }
   ],
   "source": [
    "n_ = 6\n",
    "costs_ = [[0,1,6],[1,3,3],[0,3,4],[1,2,5],[3,4,9],[1,4,7],[1,5,8],[2,5,8],[4,5,11]]\n",
    "temp2 = solution(n_, costs_)\n",
    "print(temp2)"
   ]
  },
  {
   "cell_type": "code",
   "execution_count": null,
   "metadata": {},
   "outputs": [],
   "source": []
  },
  {
   "cell_type": "code",
   "execution_count": 47,
   "metadata": {},
   "outputs": [],
   "source": [
    "def solution(n, costs):\n",
    "    nodes = [Node(i) for i in range(n)]\n",
    "    for cost in costs:\n",
    "        x, y, c = cost[0] , cost[1], cost[2]\n",
    "        nodes[x].addBridge(y, c)\n",
    "        nodes[y].addBridge(x, c)\n",
    "    parent = {}\n",
    "    for i in range(n):\n",
    "        parent[i] = i\n",
    "    visited = set()\n",
    "    \n",
    "    for i in range(n):\n",
    "        if i not in visited:\n",
    "            now_ = nodes[i]\n",
    "            low_idx = now_.lowestIdx()\n",
    "            low_idx = find(low_idx, parent)\n",
    "            \n",
    "            num = now_.absorb(nodes[low_idx])\n",
    "            print(i, ' absorb ', low_idx, ' for ', num)\n",
    "            parent[low_idx] = i\n",
    "            visited.add(low_idx)\n",
    "            visited.add(i)\n",
    "    print(parent)\n",
    "    print(visited)\n",
    "        \n",
    "def find(x, parent):\n",
    "    while x!=parent[x]:\n",
    "        x = parent[x]\n",
    "    return x"
   ]
  },
  {
   "cell_type": "code",
   "execution_count": 48,
   "metadata": {},
   "outputs": [],
   "source": [
    "class Node:\n",
    "    def __init__(self, idx):\n",
    "        self.bridges = {}\n",
    "        self.idx = idx\n",
    "    \n",
    "    def addBridge(self, idx, cost):\n",
    "        if idx not in self.bridges:\n",
    "            self.bridges[idx] = cost\n",
    "        else:\n",
    "            self.bridges[idx] = min(self.bridges[idx], cost)\n",
    "            \n",
    "    def absorb(self, other):\n",
    "        for idx in other.bridges:\n",
    "            if idx not in self.bridges:\n",
    "                self.bridges[idx] = other.bridges[idx]\n",
    "            else:\n",
    "                self.bridges[idx] = min(self.bridges[idx], other.bridges[idx])\n",
    "        return self.bridges[other.idx]\n",
    "                \n",
    "    def lowestIdx(self):\n",
    "        # print('me is ', self.idx, ' / : ', self.bridges)\n",
    "        low_idx = 0\n",
    "        low_cost = 9999999\n",
    "        for (idx, cost) in self.bridges.items():\n",
    "            if cost<low_cost:\n",
    "                low_cost = cost\n",
    "                low_idx = idx\n",
    "        return low_idx"
   ]
  },
  {
   "cell_type": "code",
   "execution_count": 49,
   "metadata": {},
   "outputs": [
    {
     "name": "stdout",
     "output_type": "stream",
     "text": [
      "0  absorb  1  for  1\n",
      "2  absorb  0  for  1\n",
      "3  absorb  2  for  2\n",
      "{0: 2, 1: 0, 2: 3, 3: 3}\n",
      "{0, 1, 2, 3}\n",
      "None\n"
     ]
    }
   ],
   "source": [
    "n_ = 4\n",
    "costs_ = [[0,1,1],[0,2,2],[1,2,5],[1,3,1],[2,3,8]]\n",
    "temp2 = solution(n_, costs_)\n",
    "print(temp2)"
   ]
  },
  {
   "cell_type": "code",
   "execution_count": null,
   "metadata": {},
   "outputs": [],
   "source": []
  },
  {
   "cell_type": "code",
   "execution_count": null,
   "metadata": {},
   "outputs": [],
   "source": []
  },
  {
   "cell_type": "code",
   "execution_count": null,
   "metadata": {},
   "outputs": [],
   "source": []
  },
  {
   "cell_type": "code",
   "execution_count": null,
   "metadata": {},
   "outputs": [],
   "source": []
  },
  {
   "cell_type": "code",
   "execution_count": null,
   "metadata": {},
   "outputs": [],
   "source": []
  },
  {
   "cell_type": "code",
   "execution_count": null,
   "metadata": {},
   "outputs": [],
   "source": []
  },
  {
   "cell_type": "code",
   "execution_count": null,
   "metadata": {},
   "outputs": [],
   "source": []
  },
  {
   "cell_type": "markdown",
   "metadata": {},
   "source": [
    "### 밑은 쓰레기통 입니다"
   ]
  },
  {
   "cell_type": "code",
   "execution_count": 148,
   "metadata": {},
   "outputs": [],
   "source": [
    "class Node:\n",
    "    def __init__(self, idx):\n",
    "        self.bridge = dict()\n",
    "        self.idx = idx\n",
    "    \n",
    "    def addBridge(self, other, cost):\n",
    "        self.bridge[other] = cost\n",
    "        \n",
    "    def absorb(self, other):\n",
    "        print(self.idx, ' absorb ', other.idx, ' for ', self.bridge[other], ' cost')\n",
    "        for key, value in other.bridge.items():\n",
    "            if key in self.bridge:\n",
    "                self.bridge[key] = min(self.bridge[key], other.bridge[key])\n",
    "            else:\n",
    "                if key.idx != self.idx:\n",
    "                    self.bridge[key] = other.bridge[key]\n",
    "        return self.bridge.pop(other)\n",
    "                \n",
    "    def lowestBridge(self):\n",
    "        low_idx = 0\n",
    "        low_cost = 999999999\n",
    "        for key, value in self.bridge.items():\n",
    "            if value<low_cost:\n",
    "                low_cost = value\n",
    "                low_idx = key.idx\n",
    "        return low_idx"
   ]
  },
  {
   "cell_type": "code",
   "execution_count": 149,
   "metadata": {},
   "outputs": [],
   "source": [
    "def solution(n, costs):\n",
    "    nodes = {}\n",
    "    absorbed = set()\n",
    "    for i in range(n):\n",
    "        nodes[i] = Node(i)\n",
    "    cost_all = 0\n",
    "    merge_count = 0\n",
    "    \n",
    "    # dict 채우기\n",
    "    for cost in costs:\n",
    "        nodes[cost[0]].addBridge(nodes[cost[1]], cost[2])\n",
    "        nodes[cost[1]].addBridge(nodes[cost[0]], cost[2])\n",
    "        \n",
    "    idx = 0\n",
    "    while merge_count<n-1:\n",
    "        if idx not in absorbed:\n",
    "            # find\n",
    "            now = nodes[idx]\n",
    "            other_idx = now.lowestBridge()\n",
    "            # merge\n",
    "            cost_all += now.absorb(nodes[other_idx])\n",
    "            nodes[other_idx] = nodes[idx]\n",
    "            merge_count += 1\n",
    "            absorbed.add(other_idx)\n",
    "        idx = (idx+1)%n\n",
    "\n",
    "    return cost_all"
   ]
  },
  {
   "cell_type": "code",
   "execution_count": 150,
   "metadata": {},
   "outputs": [
    {
     "name": "stdout",
     "output_type": "stream",
     "text": [
      "0  absorb  3  for  2  cost\n",
      "1  absorb  4  for  1  cost\n",
      "2  absorb  1  for  2  cost\n",
      "5  absorb  2  for  3  cost\n",
      "0  absorb  1  for  5  cost\n",
      "13\n"
     ]
    }
   ],
   "source": [
    "n_ = 6\n",
    "costs_ = [[0, 1, 5], [0, 3, 2], [0, 4, 3], [1, 4, 1], [3, 4, 10], [1, 2, 2], [2, 5, 3], [4, 5, 4]]\n",
    "temp2 = solution(n_, costs_)\n",
    "print(temp2)"
   ]
  },
  {
   "cell_type": "code",
   "execution_count": 113,
   "metadata": {},
   "outputs": [
    {
     "data": {
      "text/plain": [
       "8"
      ]
     },
     "execution_count": 113,
     "metadata": {},
     "output_type": "execute_result"
    }
   ],
   "source": [
    "temp2"
   ]
  },
  {
   "cell_type": "code",
   "execution_count": 16,
   "metadata": {},
   "outputs": [],
   "source": [
    "temp = dict()\n",
    "temp[1] = 11\n",
    "temp[2] = 22\n",
    "temp[3] = 33"
   ]
  },
  {
   "cell_type": "code",
   "execution_count": 20,
   "metadata": {},
   "outputs": [
    {
     "name": "stdout",
     "output_type": "stream",
     "text": [
      "1 11\n",
      "3 33\n"
     ]
    }
   ],
   "source": [
    "for key, value in temp.items():\n",
    "    print(key, value)"
   ]
  },
  {
   "cell_type": "code",
   "execution_count": 22,
   "metadata": {},
   "outputs": [
    {
     "name": "stdout",
     "output_type": "stream",
     "text": [
      "33\n"
     ]
    }
   ],
   "source": [
    "print(temp.pop(3))"
   ]
  },
  {
   "cell_type": "code",
   "execution_count": null,
   "metadata": {},
   "outputs": [],
   "source": []
  }
 ],
 "metadata": {
  "kernelspec": {
   "display_name": "Python 3",
   "language": "python",
   "name": "python3"
  },
  "language_info": {
   "codemirror_mode": {
    "name": "ipython",
    "version": 3
   },
   "file_extension": ".py",
   "mimetype": "text/x-python",
   "name": "python",
   "nbconvert_exporter": "python",
   "pygments_lexer": "ipython3",
   "version": "3.7.4"
  }
 },
 "nbformat": 4,
 "nbformat_minor": 2
}
