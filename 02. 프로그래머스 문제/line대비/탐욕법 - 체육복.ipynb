{
 "cells": [
  {
   "cell_type": "code",
   "execution_count": 10,
   "metadata": {},
   "outputs": [],
   "source": [
    "def solution(n, lost, reserve):\n",
    "    # 중복이 없기 때문에 set으로 다룸\n",
    "    lost = set(lost)\n",
    "    reserve = set(reserve)\n",
    "    \n",
    "    # 여분 가져온얘가 도난당했을때를 제거.\n",
    "    for i in list(lost):\n",
    "        if i in reserve:\n",
    "            reserve.remove(i)\n",
    "            lost.remove(i)\n",
    "            \n",
    "    # 현재 체육복 있는 사람 수\n",
    "    count = n - len(lost) \n",
    "    \n",
    "    # 빌리기 : 앞에서 빌려보고, 뒤에서 빌려보고\n",
    "    for i in list(lost):\n",
    "        if i-1 in reserve:\n",
    "            reserve.remove(i-1)\n",
    "            lost.remove(i)\n",
    "            count += 1\n",
    "        elif i+1 in reserve:\n",
    "            reserve.remove(i+1)\n",
    "            lost.remove(i)\n",
    "            count += 1\n",
    "            \n",
    "    return count"
   ]
  },
  {
   "cell_type": "code",
   "execution_count": 11,
   "metadata": {},
   "outputs": [
    {
     "data": {
      "text/plain": [
       "5"
      ]
     },
     "execution_count": 11,
     "metadata": {},
     "output_type": "execute_result"
    }
   ],
   "source": [
    "n_ = 5\n",
    "lost_ = [2,4]\n",
    "reserve_ = [1,3,5]\n",
    "solution(n_, lost_, reserve_)"
   ]
  },
  {
   "cell_type": "code",
   "execution_count": 1,
   "metadata": {},
   "outputs": [],
   "source": [
    "temp = set([1,2,3,4,5])"
   ]
  },
  {
   "cell_type": "code",
   "execution_count": 3,
   "metadata": {},
   "outputs": [],
   "source": [
    "temp.remove(3)"
   ]
  },
  {
   "cell_type": "code",
   "execution_count": 7,
   "metadata": {},
   "outputs": [
    {
     "name": "stdout",
     "output_type": "stream",
     "text": [
      "1\n",
      "4\n",
      "5\n"
     ]
    }
   ],
   "source": [
    "for i in list(temp):\n",
    "    if i==2:\n",
    "        temp.remove(i)\n",
    "    print(i)"
   ]
  },
  {
   "cell_type": "code",
   "execution_count": 8,
   "metadata": {},
   "outputs": [
    {
     "data": {
      "text/plain": [
       "{1, 4, 5}"
      ]
     },
     "execution_count": 8,
     "metadata": {},
     "output_type": "execute_result"
    }
   ],
   "source": [
    "temp"
   ]
  },
  {
   "cell_type": "code",
   "execution_count": null,
   "metadata": {},
   "outputs": [],
   "source": []
  }
 ],
 "metadata": {
  "kernelspec": {
   "display_name": "Python 3",
   "language": "python",
   "name": "python3"
  },
  "language_info": {
   "codemirror_mode": {
    "name": "ipython",
    "version": 3
   },
   "file_extension": ".py",
   "mimetype": "text/x-python",
   "name": "python",
   "nbconvert_exporter": "python",
   "pygments_lexer": "ipython3",
   "version": "3.7.4"
  }
 },
 "nbformat": 4,
 "nbformat_minor": 2
}
