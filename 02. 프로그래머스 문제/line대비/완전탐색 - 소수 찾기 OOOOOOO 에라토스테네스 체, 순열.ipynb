{
 "cells": [
  {
   "cell_type": "code",
   "execution_count": 40,
   "metadata": {},
   "outputs": [],
   "source": [
    "from itertools import permutations\n",
    "def solution(numbers):\n",
    "    numbers = list(map(int, numbers))\n",
    "    numbers.sort(reverse = True)\n",
    "    max_num = int(''.join(map(str, numbers)))\n",
    "    primes = makeEratosthenes(max_num) \n",
    "    \n",
    "    primes_set = set()\n",
    "    for i in range(1, 8):\n",
    "        for permu in permutations(numbers, i):\n",
    "            num = int(''.join(map(str, permu)))\n",
    "            if primes[num]:\n",
    "                primes_set.add(num)\n",
    "                \n",
    "    return len(primes_set)"
   ]
  },
  {
   "cell_type": "code",
   "execution_count": 41,
   "metadata": {},
   "outputs": [],
   "source": [
    "def makeEratosthenes(n):\n",
    "    arr = [True]*(n+1)\n",
    "    arr[0], arr[1] = False, False\n",
    "    for i in range(2, int((n+1)**(1/2))+1):\n",
    "        j=2\n",
    "        while j*i <= n:\n",
    "            arr[j*i] = False\n",
    "            j+=1\n",
    "    return arr"
   ]
  },
  {
   "cell_type": "code",
   "execution_count": 44,
   "metadata": {},
   "outputs": [
    {
     "data": {
      "text/plain": [
       "2"
      ]
     },
     "execution_count": 44,
     "metadata": {},
     "output_type": "execute_result"
    }
   ],
   "source": [
    "numbers_ ='011'\n",
    "solution(numbers_)"
   ]
  },
  {
   "cell_type": "code",
   "execution_count": 35,
   "metadata": {},
   "outputs": [],
   "source": [
    "temp = '123'"
   ]
  },
  {
   "cell_type": "code",
   "execution_count": 38,
   "metadata": {},
   "outputs": [],
   "source": [
    "temp2 = list(map(int, temp))"
   ]
  },
  {
   "cell_type": "code",
   "execution_count": 39,
   "metadata": {},
   "outputs": [
    {
     "data": {
      "text/plain": [
       "[1, 2, 3]"
      ]
     },
     "execution_count": 39,
     "metadata": {},
     "output_type": "execute_result"
    }
   ],
   "source": [
    "temp2"
   ]
  },
  {
   "cell_type": "markdown",
   "metadata": {},
   "source": [
    "https://programmers.co.kr/learn/courses/30/lessons/42839/solution_groups?language=python3\n",
    "\n",
    "아래는 참고 풀이\n",
    "\n"
   ]
  },
  {
   "cell_type": "code",
   "execution_count": null,
   "metadata": {},
   "outputs": [],
   "source": [
    "from itertools import permutations\n",
    "def solution(n):\n",
    "    # 소수만 남길 집합\n",
    "    a = set()\n",
    "    \n",
    "    # 모든 조합 다 넣어줌\n",
    "    for i in range(len(n)):\n",
    "        a |= set(map(int, map(\"\".join, permutations(list(n), i + 1))))\n",
    "        \n",
    "    # 0, 1 소수에서 제외\n",
    "    a -= set(range(0, 2))\n",
    "    \n",
    "    # 에라토스테네스 체의 다른 버전.\n",
    "    # for문 안의 하나의 set이 i에서 시작하는 하나의 에라토스테네스 체임\n",
    "    for i in range(2, int(max(a) ** 0.5) + 1):\n",
    "        a -= set(range(i * 2, max(a) + 1, i))\n",
    "        \n",
    "    return len(a)"
   ]
  }
 ],
 "metadata": {
  "kernelspec": {
   "display_name": "Python 3",
   "language": "python",
   "name": "python3"
  },
  "language_info": {
   "codemirror_mode": {
    "name": "ipython",
    "version": 3
   },
   "file_extension": ".py",
   "mimetype": "text/x-python",
   "name": "python",
   "nbconvert_exporter": "python",
   "pygments_lexer": "ipython3",
   "version": "3.7.4"
  }
 },
 "nbformat": 4,
 "nbformat_minor": 2
}
