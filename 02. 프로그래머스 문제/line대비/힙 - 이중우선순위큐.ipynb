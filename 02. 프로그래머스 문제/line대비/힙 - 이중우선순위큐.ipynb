{
 "cells": [
  {
   "cell_type": "code",
   "execution_count": 51,
   "metadata": {},
   "outputs": [],
   "source": [
    "import heapq\n",
    "from collections import Counter\n",
    "class MyHeap:\n",
    "    def __init__(self):\n",
    "        self.max_heap = []\n",
    "        self.min_heap = []\n",
    "        self.counter = Counter()\n",
    "        \n",
    "    def add(self, num):\n",
    "        heapq.heappush(self.min_heap, num)\n",
    "        heapq.heappush(self.max_heap, -num)\n",
    "        self.counter[num] += 1\n",
    "        \n",
    "    def popMax(self):\n",
    "        print('popMax : ', self.counter)\n",
    "        self.cleanMaxHeap()\n",
    "        if self.max_heap:\n",
    "            if self.counter[-self.max_heap[0]] > 0:\n",
    "                num = -heapq.heappop(self.max_heap)\n",
    "                self.counter[num]-=1\n",
    "                return num\n",
    "        return None\n",
    "    \n",
    "    def popMin(self):\n",
    "        print('popMin : ', self.counter)\n",
    "        self.cleanMinHeap()\n",
    "        if self.min_heap:\n",
    "            if self.counter[self.min_heap[0]] > 0:\n",
    "                num = heapq.heappop(self.min_heap)\n",
    "                self.counter[num]-=1\n",
    "                return num\n",
    "        return None\n",
    "    \n",
    "    def getResult(self):\n",
    "        max_num = 0\n",
    "        min_num = 0\n",
    "        self.cleanMaxHeap()\n",
    "        self.cleanMinHeap()\n",
    "        print('getResult : ', self.counter)\n",
    "        print('getResult Max : ', self.max_heap)\n",
    "        print('getResult Min : ', self.min_heap)\n",
    "        if self.max_heap and self.min_heap:\n",
    "            if self.counter[-self.max_heap[0]] > 0:\n",
    "                max_num = -self.max_heap[0]\n",
    "            if self.counter[self.min_heap[0]] > 0:\n",
    "                min_num = self.min_heap[0]\n",
    "        return [max_num, min_num]\n",
    "    \n",
    "    def cleanMaxHeap(self):\n",
    "        while self.max_heap and self.counter[-self.max_heap[0]]==0:\n",
    "            heapq.heappop(self.max_heap)\n",
    "            \n",
    "    def cleanMinHeap(self):\n",
    "        while self.min_heap and self.counter[self.min_heap[0]]==0:\n",
    "            heapq.heappop(self.min_heap)"
   ]
  },
  {
   "cell_type": "code",
   "execution_count": 74,
   "metadata": {},
   "outputs": [],
   "source": [
    "# 최대힙, 최소힙 동기화 시킬때 Counter 빼고 해본거\n",
    "\n",
    "import heapq\n",
    "class MyHeap:\n",
    "    def __init__(self):\n",
    "        self.max_heap = []\n",
    "        self.min_heap = []\n",
    "        \n",
    "    def add(self, num):\n",
    "        heapq.heappush(self.min_heap, num)\n",
    "        heapq.heappush(self.max_heap, -num)\n",
    "        \n",
    "    def popMax(self):\n",
    "        print('popMax Max : ', self.max_heap)\n",
    "        print('popMax Min : ', self.min_heap)                \n",
    "        if self.max_heap:\n",
    "            heapq.heappop(self.max_heap)\n",
    "            if not self.max_heap or -self.max_heap[0] < self.min_heap[0]:\n",
    "                self.max_heap = []\n",
    "                self.min_heap = []\n",
    "    \n",
    "    def popMin(self):\n",
    "        print('popMin Max : ', self.max_heap)\n",
    "        print('popMin Min : ', self.min_heap)        \n",
    "        if self.min_heap:\n",
    "            num = heapq.heappop(self.min_heap)\n",
    "            if not self.min_heap or -self.max_heap[0] < self.min_heap[0]:\n",
    "                self.max_heap = []\n",
    "                self.min_heap = []\n",
    "    \n",
    "    def getResult(self):\n",
    "        max_num = 0\n",
    "        min_num = 0\n",
    "        print('getResult Max : ', self.max_heap)\n",
    "        print('getResult Min : ', self.min_heap)\n",
    "        if self.max_heap and self.min_heap:\n",
    "            max_num = -self.max_heap[0]\n",
    "            min_num = self.min_heap[0]\n",
    "        return [max_num, min_num]"
   ]
  },
  {
   "cell_type": "code",
   "execution_count": 75,
   "metadata": {},
   "outputs": [],
   "source": [
    "def solution(operations):\n",
    "    myHeap = MyHeap()\n",
    "    \n",
    "    for operation in operations:\n",
    "        op, num = operation.split()\n",
    "        if op=='I':\n",
    "            myHeap.add(int(num))\n",
    "        elif op=='D' and num=='1':\n",
    "            myHeap.popMax()\n",
    "        elif op=='D' and num=='-1':\n",
    "            myHeap.popMin()\n",
    "                \n",
    "    return myHeap.getResult()"
   ]
  },
  {
   "cell_type": "code",
   "execution_count": 76,
   "metadata": {},
   "outputs": [
    {
     "name": "stdout",
     "output_type": "stream",
     "text": [
      "popMax Max :  [-4, -3, -2, -1]\n",
      "popMax Min :  [1, 2, 3, 4]\n",
      "popMax Max :  [-3, -1, -2]\n",
      "popMax Min :  [1, 2, 3, 4]\n",
      "popMin Max :  [-2, -1]\n",
      "popMin Min :  [1, 2, 3, 4]\n",
      "popMin Max :  [-2, -1]\n",
      "popMin Min :  [2, 4, 3]\n",
      "getResult Max :  [-6, -5]\n",
      "getResult Min :  [5, 6]\n"
     ]
    },
    {
     "data": {
      "text/plain": [
       "[6, 5]"
      ]
     },
     "execution_count": 76,
     "metadata": {},
     "output_type": "execute_result"
    }
   ],
   "source": [
    "operations_ = ['I 4', 'I 3', 'I 2', 'I 1', 'D 1', 'D 1', 'D -1', 'D -1', 'I 5', 'I 6']\n",
    "solution(operations_)"
   ]
  },
  {
   "cell_type": "markdown",
   "metadata": {},
   "source": [
    "밑엔 다른 사람 풀인데 이게 좋네\n",
    "\n",
    "최대힙, 최소힙 동기화 시킬때 나는 Counter 써서했는데\n",
    "\n",
    "여긴 다른 방법으로 동기화 시킴\n",
    "\n",
    "\n",
    "max pop 한 후 최대힙 \n",
    "- 비었다면 -> 남아있는 요소 없으니까 최소힙도 비워줌\n",
    "- 안비었다면 -> 어차피 최소힙의 관심사가 아니니까 무시함"
   ]
  },
  {
   "cell_type": "code",
   "execution_count": null,
   "metadata": {},
   "outputs": [],
   "source": [
    "from heapq import heappush, heappop\n",
    "\n",
    "def solution(arguments):\n",
    "    max_heap = []\n",
    "    min_heap = []\n",
    "    for arg in arguments:\n",
    "        if arg == \"D 1\":\n",
    "            if max_heap != []:\n",
    "                heappop(max_heap)\n",
    "                if max_heap == [] or -max_heap[0] < min_heap[0]:\n",
    "                    min_heap = []\n",
    "                    max_heap = []\n",
    "        elif arg == \"D -1\":\n",
    "            if min_heap != []:\n",
    "                heappop(min_heap)\n",
    "                if min_heap == [] or -max_heap[0] < min_heap[0]:\n",
    "                    max_heap = []\n",
    "                    min_heap = []\n",
    "        else:\n",
    "            num = int(arg[2:])\n",
    "            heappush(max_heap, -num)\n",
    "            heappush(min_heap, num)\n",
    "    if min_heap == []:\n",
    "        return [0, 0]\n",
    "    return [-heappop(max_heap), heappop(min_heap)]"
   ]
  }
 ],
 "metadata": {
  "kernelspec": {
   "display_name": "Python 3",
   "language": "python",
   "name": "python3"
  },
  "language_info": {
   "codemirror_mode": {
    "name": "ipython",
    "version": 3
   },
   "file_extension": ".py",
   "mimetype": "text/x-python",
   "name": "python",
   "nbconvert_exporter": "python",
   "pygments_lexer": "ipython3",
   "version": "3.7.4"
  }
 },
 "nbformat": 4,
 "nbformat_minor": 2
}
