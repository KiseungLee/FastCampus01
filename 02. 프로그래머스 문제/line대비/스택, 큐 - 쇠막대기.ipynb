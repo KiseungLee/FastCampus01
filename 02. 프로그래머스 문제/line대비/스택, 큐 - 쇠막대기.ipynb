{
 "cells": [
  {
   "cell_type": "code",
   "execution_count": 5,
   "metadata": {},
   "outputs": [],
   "source": [
    "def solution(arrangement):\n",
    "    count = 0\n",
    "    razer = 0\n",
    "    stack = []\n",
    "    for c in arrangement:\n",
    "        if c=='(':\n",
    "            # 막대기 열렸을 때까지 등장했던 레이저 갯수\n",
    "            stack.append(razer)\n",
    "        elif c==')':\n",
    "            # 스택 맨 위의 레이저 갯수와 현재 레이저 갯수가 같다 -> () 새로운 레이저\n",
    "            if stack[-1]==razer:\n",
    "                razer+=1\n",
    "                stack.pop()\n",
    "            # 다를경우 -> 지금 레이저 갯수 - 막대기시작할때 레이저 갯수 == 막대기가 거친 레이저 갯수\n",
    "            else:\n",
    "                count += (razer-stack.pop()+1)\n",
    "    return count"
   ]
  },
  {
   "cell_type": "code",
   "execution_count": 6,
   "metadata": {},
   "outputs": [
    {
     "data": {
      "text/plain": [
       "17"
      ]
     },
     "execution_count": 6,
     "metadata": {},
     "output_type": "execute_result"
    }
   ],
   "source": [
    "arrangement = \"()(((()())(())()))(())\"\n",
    "solution(arrangement)"
   ]
  },
  {
   "cell_type": "code",
   "execution_count": null,
   "metadata": {},
   "outputs": [],
   "source": []
  }
 ],
 "metadata": {
  "kernelspec": {
   "display_name": "Python 3",
   "language": "python",
   "name": "python3"
  },
  "language_info": {
   "codemirror_mode": {
    "name": "ipython",
    "version": 3
   },
   "file_extension": ".py",
   "mimetype": "text/x-python",
   "name": "python",
   "nbconvert_exporter": "python",
   "pygments_lexer": "ipython3",
   "version": "3.7.4"
  }
 },
 "nbformat": 4,
 "nbformat_minor": 2
}
