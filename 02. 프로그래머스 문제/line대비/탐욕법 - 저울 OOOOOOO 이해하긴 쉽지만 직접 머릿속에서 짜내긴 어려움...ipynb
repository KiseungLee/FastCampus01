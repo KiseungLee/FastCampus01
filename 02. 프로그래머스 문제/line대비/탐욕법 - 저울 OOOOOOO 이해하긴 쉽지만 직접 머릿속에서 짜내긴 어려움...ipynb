{
 "cells": [
  {
   "cell_type": "markdown",
   "metadata": {},
   "source": [
    "## 저울\n",
    "\n",
    "\n",
    "- 이미 널리 알려진 전형적인 알고리즘이겠지만 직접 머리에서 짜내려면 꽤 힘듭니다.\n",
    "\n",
    "\n",
    "- 알고리즘 문제엔 배경지식 없이 스스로 짜내볼 수 있는 알고리즘과 선 학습, 후 연습을 해야 하는 알고리즘이 있다고 생각합니다.\n",
    "\n",
    "\n",
    "- 사실 지금 생각해보면 고등학생때 수학, 과학 문제도 대부분 선 학습 후 비슷한 유형들을 연습하는 과정으로 공부했는데 왜 알고리즘 문제는 배우지 않고 혼자 짜낼수 있다고 자신했는지 모르겠습니다.\n",
    "\n",
    "\n",
    "- 물론, 직접 짜내는 과정도 훌륭한 공부이지만 항상 효율의 문제를 따져야 한다고 생각합니다.\n",
    "\n",
    "\n",
    "### 저울풀이 가정\n",
    "\n",
    "\n",
    "- 저울 문제는 다음과 같이 접근해보겠습니다. 정렬된 무게들의 배열 weights가 있습니다.\n",
    "\n",
    "\n",
    "- partial = (weights[:i]) 에서, 1~partial의 숫자는 모두 weights[:i] 로 표현 가능하다고 **가정합시다.**\n",
    "\n",
    "\n",
    "- 이때 다음 next = weights[i] 에서, next-partial==1 이면, partial 다음 숫자 partial+1를 next로 표현이 가능합니다.\n",
    "\n",
    "\n",
    "- next-partial<1 이면, 1~partial는 모두 표현 가능하다고 가정했으므로, 1+next ~ partial+next 숫자들이 모두 표현가능해집니다.\n",
    "\n",
    "\n",
    "- 하지만, next-partial>1 이면, partial+1을 표현할 수 없습니다.\n",
    "\n",
    "\n",
    "- 즉, next-partial>1 일때 partial+1 을 리턴하고, 아니라면 partial+=next_ 를 해줍시다.\n",
    "\n",
    "\n",
    "- weights 를 다 돌아도 안끝났다면 sum(weights)+1을 리턴합니다."
   ]
  },
  {
   "cell_type": "code",
   "execution_count": 6,
   "metadata": {},
   "outputs": [],
   "source": [
    "def solution(weights):\n",
    "    weights.sort()\n",
    "    partial = 0\n",
    "    for next_ in weights:\n",
    "        if next_ - partial >1:\n",
    "            return partial+1\n",
    "        else:\n",
    "            partial+=next_\n",
    "    return partial+1"
   ]
  },
  {
   "cell_type": "code",
   "execution_count": 7,
   "metadata": {},
   "outputs": [
    {
     "name": "stdout",
     "output_type": "stream",
     "text": [
      "[1, 1, 2, 3, 6, 7, 30]\n"
     ]
    },
    {
     "data": {
      "text/plain": [
       "21"
      ]
     },
     "execution_count": 7,
     "metadata": {},
     "output_type": "execute_result"
    }
   ],
   "source": [
    "solution([3, 1, 6, 2, 7, 30, 1])"
   ]
  },
  {
   "cell_type": "code",
   "execution_count": null,
   "metadata": {},
   "outputs": [],
   "source": []
  }
 ],
 "metadata": {
  "kernelspec": {
   "display_name": "Python 3",
   "language": "python",
   "name": "python3"
  },
  "language_info": {
   "codemirror_mode": {
    "name": "ipython",
    "version": 3
   },
   "file_extension": ".py",
   "mimetype": "text/x-python",
   "name": "python",
   "nbconvert_exporter": "python",
   "pygments_lexer": "ipython3",
   "version": "3.7.4"
  }
 },
 "nbformat": 4,
 "nbformat_minor": 2
}
