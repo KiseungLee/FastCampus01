{
 "cells": [
  {
   "cell_type": "code",
   "execution_count": 17,
   "metadata": {},
   "outputs": [],
   "source": [
    "def solution(stock, dates, supplies, k):\n",
    "    global count\n",
    "    dates.append(k)\n",
    "    supplies.append(0)\n",
    "    count = len(dates)\n",
    "    # 처음 실행은 첫 보급일 시점에서\n",
    "    run(stock-dates[0], 0, 0, dates, supplies, k)\n",
    "    return count"
   ]
  },
  {
   "cell_type": "code",
   "execution_count": 18,
   "metadata": {},
   "outputs": [],
   "source": [
    "# dates[idx] 일, 현재 재고 stock_now, 지금까지 받은 보급 횟수 count_now\n",
    "# dates[idx]일의 보급을 받을 지 안받을 지\n",
    "def run(stock_now, idx, count_now, dates, supplies, k):\n",
    "    # print('stock : ', stock_now, ', date: ', dates[idx], ', count : ', count_now)\n",
    "    global count\n",
    "    # 종료조건 - 지금 stock으로 k일까지 버틸 수 있다면\n",
    "    if stock_now >= k-dates[idx]:\n",
    "        # print('success >> stock : ', stock_now, ', date: ', dates[idx], ', count : ', count_now)\n",
    "        if count_now < count:\n",
    "            count = count_now\n",
    "    elif idx>=len(dates)-1 or stock_now<0:\n",
    "        return 0\n",
    "    else:\n",
    "        # idx 번째 보급 받았을때\n",
    "        run(stock_now+supplies[idx]-(dates[idx+1]-dates[idx]), idx+1, count_now+1, dates, supplies, k)\n",
    "        # idx 번째 보급 안받았을때\n",
    "        run(stock_now-(dates[idx+1]-dates[idx]), idx+1, count_now, dates, supplies, k)\n",
    "        \n",
    "        \n",
    "# 코드도 드럽고 시간도 드럽게 초과함\n",
    "# 재귀 역시 아니죠?\n",
    "# 이거 level 2 맞냐"
   ]
  },
  {
   "cell_type": "code",
   "execution_count": null,
   "metadata": {},
   "outputs": [],
   "source": []
  },
  {
   "cell_type": "code",
   "execution_count": null,
   "metadata": {},
   "outputs": [],
   "source": []
  },
  {
   "cell_type": "markdown",
   "metadata": {},
   "source": [
    "## 힌트좀 얻어옴 \n",
    "\n",
    "- https://gurumee92.tistory.com/172\n",
    "\n",
    "\n",
    "- stock을 물량이 아니라, 버틸 수 있는 날짜로 보는 것입니다.\n",
    "\n",
    "\n",
    "- \"최소로 공급받는다\"라는 건 \"내가 버틸 수 있는 날 안에서, 최대 공급량을 가진 날짜 순으로 공급 받는다\".\n",
    "\n"
   ]
  },
  {
   "cell_type": "code",
   "execution_count": 6,
   "metadata": {},
   "outputs": [],
   "source": [
    "import heapq\n",
    "\n",
    "def solution(stock, dates, supplies, k):\n",
    "    dates.append(k)\n",
    "    supplies.append(0)\n",
    "    heap_idx = -1\n",
    "    available = []\n",
    "    count = 0\n",
    "    \n",
    "    # 현재 stock으론 k일까지 못버틸때\n",
    "    while stock < k:\n",
    "        # 현재 stock으론 i번째 일까지 버틸 수 있음\n",
    "        new_heap_idx = heap_idx\n",
    "        for i in range(heap_idx+1, len(dates)-1):\n",
    "            if dates[i]<=stock and dates[i+1]>stock:\n",
    "                new_heap_idx = i\n",
    "                break\n",
    "            \n",
    "        # heap_idx+1 ~ new_heap_idx 요소를 힙에 넣음\n",
    "        for i in range(heap_idx+1, new_heap_idx+1):\n",
    "            heapq.heappush(available, -supplies[i])\n",
    "        \n",
    "        # 그중 제일 큰걸 꺼내서 stock에 넣음\n",
    "        stock += -heapq.heappop(available)\n",
    "        count += 1\n",
    "        \n",
    "        # heap_idx를 갱신\n",
    "        heap_idx = new_heap_idx\n",
    "    \n",
    "    return count"
   ]
  },
  {
   "cell_type": "markdown",
   "metadata": {},
   "source": [
    "- 아니 힌트 한 번 보고 처음 한 제출이 효율성테스트 1번 시간초과 말곤 다 통과함.. 효율성테스트 1은 break 잡아주니까 풀림\n",
    "\n",
    "\n",
    "- 일단 로직은 맞는다는거고\n",
    "\n",
    "\n",
    "- 요즘 나도 개발자가 되었구나하고 느낄 때가 한 번에 코드 돌아가고 '왜 에러 안나지?'라고 생각들때임"
   ]
  },
  {
   "cell_type": "code",
   "execution_count": 7,
   "metadata": {},
   "outputs": [
    {
     "data": {
      "text/plain": [
       "2"
      ]
     },
     "execution_count": 7,
     "metadata": {},
     "output_type": "execute_result"
    }
   ],
   "source": [
    "stock_ = 4\n",
    "dates_ = [4,10,15]\n",
    "supplies_ = [20,5,10]\n",
    "k_ = 30\n",
    "solution(stock_, dates_, supplies_, k_)"
   ]
  },
  {
   "cell_type": "code",
   "execution_count": null,
   "metadata": {},
   "outputs": [],
   "source": []
  },
  {
   "cell_type": "code",
   "execution_count": null,
   "metadata": {},
   "outputs": [],
   "source": []
  },
  {
   "cell_type": "code",
   "execution_count": null,
   "metadata": {},
   "outputs": [],
   "source": []
  }
 ],
 "metadata": {
  "kernelspec": {
   "display_name": "Python 3",
   "language": "python",
   "name": "python3"
  },
  "language_info": {
   "codemirror_mode": {
    "name": "ipython",
    "version": 3
   },
   "file_extension": ".py",
   "mimetype": "text/x-python",
   "name": "python",
   "nbconvert_exporter": "python",
   "pygments_lexer": "ipython3",
   "version": "3.7.4"
  }
 },
 "nbformat": 4,
 "nbformat_minor": 2
}
