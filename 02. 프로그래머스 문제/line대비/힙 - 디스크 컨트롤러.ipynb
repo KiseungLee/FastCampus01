{
 "cells": [
  {
   "cell_type": "code",
   "execution_count": 88,
   "metadata": {},
   "outputs": [],
   "source": [
    "class Job():\n",
    "    def __init__(self, request_time, run_time):\n",
    "        self.request_time = request_time\n",
    "        self.run_time = run_time\n",
    "        \n",
    "    def start(self, start_time):\n",
    "        self.start_time = start_time\n",
    "        self.end_time = self.start_time + self.run_time\n",
    "        self.total_time = self.end_time - self.request_time\n",
    "        \n",
    "    def is_end(self, time_now):\n",
    "        if time_now>=self.end_time:\n",
    "            return True\n",
    "        else:\n",
    "            return False\n",
    "        \n",
    "    def __lt__(self, other):\n",
    "        return self.run_time < other.run_time\n",
    "    def __le__(self, other):\n",
    "        return self.run_time <= other.run_time\n",
    "    def __gt__(self, other):\n",
    "        return self.run_time > other.run_time\n",
    "    def __ge__(self, other):\n",
    "        return self.run_time >= other.run_time\n",
    "    def __eq__(self, other):\n",
    "        return self.run_time == other.run_time\n",
    "    def __ne__(self, other):\n",
    "        return self.run_time != other.run_time"
   ]
  },
  {
   "cell_type": "code",
   "execution_count": 93,
   "metadata": {},
   "outputs": [],
   "source": [
    "import heapq\n",
    "def solution(jobs):\n",
    "    jobs.sort(key= lambda x : x[0])\n",
    "    heap = []    # 대기열 -> 힙으로 구성\n",
    "    result = 0   # 평균 구할때 총합\n",
    "    n = len(jobs)# 평균 구할때 갯수\n",
    "    run = None  # 현재 수행중인 작업\n",
    "    time = 0    # 현재 시간\n",
    "    \n",
    "    # 아직 안들어온 job이 있거나, 대기열에 남은게 있거나, 돌고있는게 있거나\n",
    "    while jobs or heap or run:\n",
    "        # 다음 job 들어올수 있는지\n",
    "        if jobs and jobs[0][0] <= time:\n",
    "            job = jobs.pop(0)\n",
    "            heapq.heappush(heap, Job(job[0], job[1]))\n",
    "        \n",
    "        # 지금 돌고있는게 있다면, 그게 끝났는지\n",
    "        if run and run.is_end(time):\n",
    "            result += run.total_time\n",
    "            print('time_now:', time, ', request_time:', run.request_time,', start_time:', run.start_time, end='')\n",
    "            print(', run_time:', run.run_time, ', end_time:', run.end_time, ', total_time:', run.total_time)\n",
    "            run = None\n",
    "        # 돌고 있는게 없다면, 다음거 넣을 수 있는지\n",
    "        if not run and heap and heap[0].request_time <= time:\n",
    "            run = heapq.heappop(heap)\n",
    "            run.start(time)\n",
    "        # 시간은 가지 틱톡\n",
    "        time+=1\n",
    "        \n",
    "    return result//n"
   ]
  },
  {
   "cell_type": "code",
   "execution_count": 94,
   "metadata": {},
   "outputs": [
    {
     "name": "stdout",
     "output_type": "stream",
     "text": [
      "time_now: 3 , request_time: 0 , start_time: 0, run_time: 3 , end_time: 3 , total_time: 3\n",
      "time_now: 9 , request_time: 2 , start_time: 3, run_time: 6 , end_time: 9 , total_time: 7\n",
      "time_now: 18 , request_time: 1 , start_time: 9, run_time: 9 , end_time: 18 , total_time: 17\n"
     ]
    }
   ],
   "source": [
    "jobs_ = [[0,3], [1,9],[2,6]]\n",
    "temp = solution(jobs_)\n",
    "\n",
    "# 그냥 단순히 작업시간 작은거 순서대로가 아닌가 보네\n",
    "# 작업시간 작은거 부터 하는건 맞는데 그외의 부분이 좀 틀린듯 지금 15/18 개 성공"
   ]
  },
  {
   "cell_type": "code",
   "execution_count": 83,
   "metadata": {},
   "outputs": [
    {
     "data": {
      "text/plain": [
       "9"
      ]
     },
     "execution_count": 83,
     "metadata": {},
     "output_type": "execute_result"
    }
   ],
   "source": [
    "temp"
   ]
  },
  {
   "cell_type": "code",
   "execution_count": 35,
   "metadata": {},
   "outputs": [],
   "source": [
    "temp = None"
   ]
  },
  {
   "cell_type": "code",
   "execution_count": 36,
   "metadata": {},
   "outputs": [
    {
     "name": "stdout",
     "output_type": "stream",
     "text": [
      "a\n"
     ]
    }
   ],
   "source": [
    "if not temp:\n",
    "    print('a')"
   ]
  },
  {
   "cell_type": "code",
   "execution_count": null,
   "metadata": {},
   "outputs": [],
   "source": []
  }
 ],
 "metadata": {
  "kernelspec": {
   "display_name": "Python 3",
   "language": "python",
   "name": "python3"
  },
  "language_info": {
   "codemirror_mode": {
    "name": "ipython",
    "version": 3
   },
   "file_extension": ".py",
   "mimetype": "text/x-python",
   "name": "python",
   "nbconvert_exporter": "python",
   "pygments_lexer": "ipython3",
   "version": "3.7.4"
  }
 },
 "nbformat": 4,
 "nbformat_minor": 2
}
