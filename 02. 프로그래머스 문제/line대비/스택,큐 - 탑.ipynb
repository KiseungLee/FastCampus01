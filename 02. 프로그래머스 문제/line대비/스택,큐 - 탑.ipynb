{
 "cells": [
  {
   "cell_type": "code",
   "execution_count": 11,
   "metadata": {},
   "outputs": [],
   "source": [
    "def solution(heights):\n",
    "    index = len(heights)\n",
    "    stack = []\n",
    "    result = [0]*(len(heights))\n",
    "    \n",
    "    while(len(heights)>0):\n",
    "        now = heights.pop()\n",
    "        index -= 1\n",
    "        \n",
    "        while stack and stack[-1][1]<now:\n",
    "            idx, num = stack.pop()\n",
    "            result[idx] = index+1\n",
    "            \n",
    "        stack.append((index, now))\n",
    "        \n",
    "    return result"
   ]
  },
  {
   "cell_type": "code",
   "execution_count": 12,
   "metadata": {},
   "outputs": [
    {
     "data": {
      "text/plain": [
       "[0, 0, 2, 0, 0, 5, 6]"
      ]
     },
     "execution_count": 12,
     "metadata": {},
     "output_type": "execute_result"
    }
   ],
   "source": [
    "heights = [1,5,3,6,7,6,5]\n",
    "solution(heights)"
   ]
  },
  {
   "cell_type": "code",
   "execution_count": null,
   "metadata": {},
   "outputs": [],
   "source": []
  }
 ],
 "metadata": {
  "kernelspec": {
   "display_name": "Python 3",
   "language": "python",
   "name": "python3"
  },
  "language_info": {
   "codemirror_mode": {
    "name": "ipython",
    "version": 3
   },
   "file_extension": ".py",
   "mimetype": "text/x-python",
   "name": "python",
   "nbconvert_exporter": "python",
   "pygments_lexer": "ipython3",
   "version": "3.7.4"
  }
 },
 "nbformat": 4,
 "nbformat_minor": 2
}
