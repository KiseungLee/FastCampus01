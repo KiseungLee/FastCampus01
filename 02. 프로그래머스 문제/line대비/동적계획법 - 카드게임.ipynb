{
 "cells": [
  {
   "cell_type": "code",
   "execution_count": null,
   "metadata": {},
   "outputs": [],
   "source": [
    "1. 왼카만 버려 -> 언제든지 가능, 점수 없음\n",
    "2. 왼카, 오카 버려 -> 언제든지 가능, 점수 없음\n",
    "3. 오카만 버려 -> 왼카>오카 일때만 가능, 버린 오카만큼 점수\n",
    "4. 왼, 오 둘중 하나 다 쓰면 끝"
   ]
  },
  {
   "cell_type": "code",
   "execution_count": null,
   "metadata": {},
   "outputs": [],
   "source": []
  },
  {
   "cell_type": "code",
   "execution_count": 25,
   "metadata": {},
   "outputs": [],
   "source": [
    "# LCS 같은 논리로 풀면됨\n",
    "# 어느 상태(dp[i][j])에서 오카가 왼카보다\n",
    "# 작다 -> 오카한장점수(right[i][j]) + 그거버린후(dp[i][j-1])\n",
    "# 크거나 같다 -> max(오카,왼카다버렸을때(dp[i-1][j-1]), 왼카만버렸을때(dp[i-1][j]))\n",
    "    \n",
    "def solution(left, right):\n",
    "    left.reverse()   # 16번 틀려서 추가. 근데 이 문제 재밌네\n",
    "    right.reverse()  # 16번 틀려서 추가. 근데 이 문제 재밌네\n",
    "    dp = [[0]*(len(right)+1) for _ in range(len(left)+1)]\n",
    "    for i in range(1, len(left)+1):\n",
    "        for j in range(1, len(right)+1):\n",
    "            if right[j-1]<left[i-1]:\n",
    "                dp[i][j] = right[j-1] + dp[i][j-1]\n",
    "            else:\n",
    "                dp[i][j] = max(dp[i-1][j-1], dp[i-1][j])\n",
    "    return dp[-1][-1]"
   ]
  },
  {
   "cell_type": "markdown",
   "metadata": {},
   "source": [
    "## 이 문제 재밌는점\n",
    "\n",
    "```python\n",
    "left.reverse()\n",
    "right.reverse()\n",
    "```\n",
    "\n",
    "이걸 해 줘야 원래 계획한 dp가 맞는데\n",
    "\n",
    "\n",
    "안해도 1개 빼고 모든 테스트 케이스 통과함"
   ]
  },
  {
   "cell_type": "code",
   "execution_count": 24,
   "metadata": {},
   "outputs": [
    {
     "name": "stdout",
     "output_type": "stream",
     "text": [
      "[0, 0, 0, 0]\n",
      "[0, 1, 5, 7]\n",
      "[0, 1, 5, 7]\n",
      "[0, 1, 5, 7]\n"
     ]
    },
    {
     "data": {
      "text/plain": [
       "7"
      ]
     },
     "execution_count": 24,
     "metadata": {},
     "output_type": "execute_result"
    }
   ],
   "source": [
    "left_ = [3,2,5]\n",
    "right_ = [2,4,1]\n",
    "solution(left_, right_)"
   ]
  },
  {
   "cell_type": "code",
   "execution_count": null,
   "metadata": {},
   "outputs": [],
   "source": []
  },
  {
   "cell_type": "code",
   "execution_count": null,
   "metadata": {},
   "outputs": [],
   "source": []
  }
 ],
 "metadata": {
  "kernelspec": {
   "display_name": "Python 3",
   "language": "python",
   "name": "python3"
  },
  "language_info": {
   "codemirror_mode": {
    "name": "ipython",
    "version": 3
   },
   "file_extension": ".py",
   "mimetype": "text/x-python",
   "name": "python",
   "nbconvert_exporter": "python",
   "pygments_lexer": "ipython3",
   "version": "3.7.4"
  }
 },
 "nbformat": 4,
 "nbformat_minor": 2
}
