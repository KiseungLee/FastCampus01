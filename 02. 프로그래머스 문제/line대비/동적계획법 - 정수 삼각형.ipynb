{
 "cells": [
  {
   "cell_type": "code",
   "execution_count": 12,
   "metadata": {},
   "outputs": [],
   "source": [
    "def solution(triangle):\n",
    "    n = len(triangle[-1])\n",
    "    dp = [[0]*n for _ in range(len(triangle))]\n",
    "    dp[0][0] = triangle[0][0]\n",
    "    \n",
    "    for i in range(1, len(triangle)):\n",
    "        for j in range(len(triangle[i])):\n",
    "            if j==0:\n",
    "                dp[i][j] = dp[i-1][j] + triangle[i][j]\n",
    "            elif j==len(triangle[i])-1:\n",
    "                dp[i][j] = dp[i-1][j-1] + triangle[i][j]\n",
    "            else:\n",
    "                dp[i][j] = max(dp[i-1][j-1], dp[i-1][j]) + triangle[i][j]\n",
    "                \n",
    "    return max(dp[-1])"
   ]
  },
  {
   "cell_type": "code",
   "execution_count": 18,
   "metadata": {},
   "outputs": [],
   "source": [
    "# 내가 처음 푼 풀인데 이 풀이도 재밌음\n",
    "# 공간복잡도를 덜 씀\n",
    "\n",
    "from collections import deque\n",
    "\n",
    "def solution(triangle):\n",
    "    triangle = deque(triangle)\n",
    "    while len(triangle)>1:\n",
    "        first = triangle.popleft()\n",
    "        second = triangle.popleft()\n",
    "        triangle.appendleft(merge(first, second))\n",
    "    return max(triangle.pop())\n",
    "        \n",
    "def merge(first, second):\n",
    "    for i in range(len(second)):\n",
    "        if i==0:\n",
    "            second[i]+=first[i]\n",
    "        elif i==len(second)-1:\n",
    "            second[i]+= first[i-1]\n",
    "        else:\n",
    "            second[i] += max(first[i], first[i-1])\n",
    "    return second"
   ]
  },
  {
   "cell_type": "code",
   "execution_count": 19,
   "metadata": {},
   "outputs": [
    {
     "data": {
      "text/plain": [
       "30"
      ]
     },
     "execution_count": 19,
     "metadata": {},
     "output_type": "execute_result"
    }
   ],
   "source": [
    "triangle_ = [[7], [3, 8], [8, 1, 0], [2, 7, 4, 4], [4, 5, 2, 6, 5]]\n",
    "solution(triangle_)"
   ]
  },
  {
   "cell_type": "code",
   "execution_count": null,
   "metadata": {},
   "outputs": [],
   "source": []
  },
  {
   "cell_type": "code",
   "execution_count": 15,
   "metadata": {},
   "outputs": [],
   "source": [
    "temp = deque()"
   ]
  },
  {
   "cell_type": "code",
   "execution_count": null,
   "metadata": {},
   "outputs": [],
   "source": [
    "temp.a"
   ]
  }
 ],
 "metadata": {
  "kernelspec": {
   "display_name": "Python 3",
   "language": "python",
   "name": "python3"
  },
  "language_info": {
   "codemirror_mode": {
    "name": "ipython",
    "version": 3
   },
   "file_extension": ".py",
   "mimetype": "text/x-python",
   "name": "python",
   "nbconvert_exporter": "python",
   "pygments_lexer": "ipython3",
   "version": "3.7.4"
  }
 },
 "nbformat": 4,
 "nbformat_minor": 2
}
