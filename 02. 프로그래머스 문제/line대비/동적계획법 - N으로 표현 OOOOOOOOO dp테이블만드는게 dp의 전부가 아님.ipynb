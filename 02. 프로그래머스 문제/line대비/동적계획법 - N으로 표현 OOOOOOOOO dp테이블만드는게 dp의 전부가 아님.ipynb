{
 "cells": [
  {
   "cell_type": "code",
   "execution_count": null,
   "metadata": {},
   "outputs": [],
   "source": [
    "## 이 문제 저번에도 시도해봤지만 괄호를 진짜 어떻게 다뤄야 하는지...\n"
   ]
  },
  {
   "cell_type": "markdown",
   "metadata": {},
   "source": [
    "## 힌트좀 얻어옴\n",
    "\n",
    "\n",
    "- 일단 dp를 단순 갯수로 돌리는게 아님.(내가 생각하던 N으로 num표현하려면... num-1 표현하고, num-2 표현하고 이런거)\n",
    "\n",
    "\n",
    "- 집합 단위로 돌려야됨 (N을 1개 써서 만들 수 있는 수의 집합, N을 2개 써서 만들 수 있는 수의 집합)\n",
    "\n",
    "\n",
    "- N을 m개 써서 만들 수 있는 수의 집합을 **S(N, m)** 이라고 하고\n",
    "\n",
    "\n",
    "- 집합 S와 P를 사칙연산+붙이기 시켜 합집합 만드는걸 **OP(S, P)**라고 한다면\n",
    "\n",
    "\n",
    "```\n",
    "S(N, m) = OP(S(N, m-1), S(N, 1)) U \n",
    "          OP(S(N, m-2), S(N, 2)) U\n",
    "          OP(S(N, m-3), S(N, 3)) U\n",
    "                      :\n",
    "          OP(S(N, 2), S(N, m-2) U\n",
    "          OP(S(N, 1), S(N, m-1)\n",
    "```            \n",
    "            \n",
    "- 위와 같은 관계식을 세울 수 있음.\n",
    "\n",
    "\n",
    "- 이때, S(N, 1)은 {n}"
   ]
  },
  {
   "cell_type": "code",
   "execution_count": 80,
   "metadata": {},
   "outputs": [],
   "source": [
    "def solution(n, number):\n",
    "    sets = [set() for _ in range(9)] \n",
    "    sets[1].add(n) # S(n, 1) = {n}\n",
    "    \n",
    "    for i in range(1, 9):\n",
    "        set_i = sets[i]\n",
    "        set_i.add(int(str(n)*i))\n",
    "        for j in range(1, i):\n",
    "            set1 = sets[i-j]\n",
    "            set2 = sets[j]\n",
    "            for left in set1:\n",
    "                for right in set2:\n",
    "                    set_i.add(left+right)\n",
    "                    set_i.add(left-right)\n",
    "                    set_i.add(left*right)\n",
    "                    if right != 0:\n",
    "                        set_i.add(left//right)\n",
    "                    # set_i.add(int(str(left)+str(right)))\n",
    "        # print(i, set_i)\n",
    "        if number in set_i:\n",
    "            return i\n",
    "        \n",
    "    return -1\n",
    "\n",
    "\n",
    "# 이건 맞는거 같은데 왜 5번은 계속 틀리냐 -> 이제 맞음.. 쉬비ㅏ"
   ]
  },
  {
   "cell_type": "code",
   "execution_count": 81,
   "metadata": {
    "scrolled": true
   },
   "outputs": [
    {
     "name": "stdout",
     "output_type": "stream",
     "text": [
      "1 {5}\n",
      "2 {0, 1, 10, 55, 25}\n",
      "3 {0, 2, 4, 5, 6, 555, 11, -20, 60, 15, -50, 50, 275, 20, -5, -4, 125, 30}\n",
      "4 {0, 1, 2, 3, 4, 5, 6, 7, -250, 9, 10, 11, 12, -120, 270, 15, 16, 130, 20, 150, 280, 25, 26, 24, -100, 30, 35, 550, 300, 45, 560, 50, 5555, 54, 55, 56, 65, -55, -54, 75, 80, 3025, -45, 2775, -550, 1375, -30, -6, 100, -25, -24, -20, 110, 111, -15, 625, -270, -10, -9, 120, -2, 250, -5, -4, -3, -1}\n"
     ]
    },
    {
     "data": {
      "text/plain": [
       "4"
      ]
     },
     "execution_count": 81,
     "metadata": {},
     "output_type": "execute_result"
    }
   ],
   "source": [
    "N_ = 5\n",
    "number_ = 12\n",
    "solution(N_, number_)"
   ]
  },
  {
   "cell_type": "code",
   "execution_count": null,
   "metadata": {},
   "outputs": [],
   "source": []
  },
  {
   "cell_type": "code",
   "execution_count": null,
   "metadata": {},
   "outputs": [],
   "source": []
  },
  {
   "cell_type": "code",
   "execution_count": null,
   "metadata": {},
   "outputs": [],
   "source": []
  },
  {
   "cell_type": "code",
   "execution_count": 58,
   "metadata": {},
   "outputs": [],
   "source": [
    "from collections import deque\n",
    "\n",
    "def check(n, m, number):\n",
    "    ops = ['+', '-', '', '//', '*']\n",
    "    n = str(n)\n",
    "    arr1 = deque([n])\n",
    "    arr2 = deque()\n",
    "    \n",
    "    for _ in range(m-1):\n",
    "        while arr1:\n",
    "            now = arr1.popleft()\n",
    "            for op in ops:\n",
    "                arr2.append(now+op+n)\n",
    "        arr1 = arr2\n",
    "        arr2 = deque()\n",
    "        \n",
    "    while arr1:\n",
    "        try:\n",
    "            if eval(arr1.popleft())==number:\n",
    "                return True\n",
    "        except:\n",
    "            continue\n",
    "            \n",
    "    return False"
   ]
  },
  {
   "cell_type": "code",
   "execution_count": 18,
   "metadata": {},
   "outputs": [],
   "source": [
    "def solution(N, number):\n",
    "    for i in range(1, 9):\n",
    "        if check(N, i, number):\n",
    "            return i\n",
    "    return -1"
   ]
  },
  {
   "cell_type": "code",
   "execution_count": 19,
   "metadata": {},
   "outputs": [
    {
     "data": {
      "text/plain": [
       "5"
      ]
     },
     "execution_count": 19,
     "metadata": {},
     "output_type": "execute_result"
    }
   ],
   "source": [
    "N_ = 5\n",
    "number_ =12\n",
    "solution(N_, number_)"
   ]
  },
  {
   "cell_type": "code",
   "execution_count": 2,
   "metadata": {},
   "outputs": [
    {
     "ename": "SyntaxError",
     "evalue": "unexpected EOF while parsing (<string>, line 1)",
     "output_type": "error",
     "traceback": [
      "Traceback \u001b[1;36m(most recent call last)\u001b[0m:\n",
      "  File \u001b[0;32m\"C:\\Users\\Kiseung\\Anaconda3\\lib\\site-packages\\IPython\\core\\interactiveshell.py\"\u001b[0m, line \u001b[0;32m3326\u001b[0m, in \u001b[0;35mrun_code\u001b[0m\n    exec(code_obj, self.user_global_ns, self.user_ns)\n",
      "\u001b[1;36m  File \u001b[1;32m\"<ipython-input-2-148430509df1>\"\u001b[1;36m, line \u001b[1;32m1\u001b[1;36m, in \u001b[1;35m<module>\u001b[1;36m\u001b[0m\n\u001b[1;33m    eval('2(+3')\u001b[0m\n",
      "\u001b[1;36m  File \u001b[1;32m\"<string>\"\u001b[1;36m, line \u001b[1;32m1\u001b[0m\n\u001b[1;33m    2(+3\u001b[0m\n\u001b[1;37m       ^\u001b[0m\n\u001b[1;31mSyntaxError\u001b[0m\u001b[1;31m:\u001b[0m unexpected EOF while parsing\n"
     ]
    }
   ],
   "source": [
    "eval('2(+3')"
   ]
  },
  {
   "cell_type": "code",
   "execution_count": 3,
   "metadata": {},
   "outputs": [
    {
     "name": "stdout",
     "output_type": "stream",
     "text": [
      "error\n"
     ]
    }
   ],
   "source": [
    "try:\n",
    "    eval('3+)3')\n",
    "except:\n",
    "    print('error')"
   ]
  },
  {
   "cell_type": "code",
   "execution_count": 4,
   "metadata": {},
   "outputs": [
    {
     "data": {
      "text/plain": [
       "43046721"
      ]
     },
     "execution_count": 4,
     "metadata": {},
     "output_type": "execute_result"
    }
   ],
   "source": [
    "9**8"
   ]
  },
  {
   "cell_type": "code",
   "execution_count": 25,
   "metadata": {},
   "outputs": [],
   "source": [
    "temp = set([1,2])"
   ]
  },
  {
   "cell_type": "code",
   "execution_count": 26,
   "metadata": {},
   "outputs": [
    {
     "name": "stdout",
     "output_type": "stream",
     "text": [
      "1\n",
      "2\n"
     ]
    }
   ],
   "source": [
    "for i in temp:\n",
    "    print(i)"
   ]
  },
  {
   "cell_type": "code",
   "execution_count": null,
   "metadata": {},
   "outputs": [],
   "source": []
  }
 ],
 "metadata": {
  "kernelspec": {
   "display_name": "Python 3",
   "language": "python",
   "name": "python3"
  },
  "language_info": {
   "codemirror_mode": {
    "name": "ipython",
    "version": 3
   },
   "file_extension": ".py",
   "mimetype": "text/x-python",
   "name": "python",
   "nbconvert_exporter": "python",
   "pygments_lexer": "ipython3",
   "version": "3.7.4"
  }
 },
 "nbformat": 4,
 "nbformat_minor": 2
}
