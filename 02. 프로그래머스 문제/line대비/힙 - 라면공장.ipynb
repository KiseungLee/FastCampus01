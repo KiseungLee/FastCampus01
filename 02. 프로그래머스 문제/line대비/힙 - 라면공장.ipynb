{
 "cells": [
  {
   "cell_type": "code",
   "execution_count": 17,
   "metadata": {},
   "outputs": [],
   "source": [
    "def solution(stock, dates, supplies, k):\n",
    "    global count\n",
    "    dates.append(k)\n",
    "    supplies.append(0)\n",
    "    count = len(dates)\n",
    "    # 처음 실행은 첫 보급일 시점에서\n",
    "    run(stock-dates[0], 0, 0, dates, supplies, k)\n",
    "    return count"
   ]
  },
  {
   "cell_type": "code",
   "execution_count": 18,
   "metadata": {},
   "outputs": [],
   "source": [
    "# dates[idx] 일, 현재 재고 stock_now, 지금까지 받은 보급 횟수 count_now\n",
    "# dates[idx]일의 보급을 받을 지 안받을 지\n",
    "def run(stock_now, idx, count_now, dates, supplies, k):\n",
    "    # print('stock : ', stock_now, ', date: ', dates[idx], ', count : ', count_now)\n",
    "    global count\n",
    "    # 종료조건 - 지금 stock으로 k일까지 버틸 수 있다면\n",
    "    if stock_now >= k-dates[idx]:\n",
    "        # print('success >> stock : ', stock_now, ', date: ', dates[idx], ', count : ', count_now)\n",
    "        if count_now < count:\n",
    "            count = count_now\n",
    "    elif idx>=len(dates)-1 or stock_now<0:\n",
    "        return 0\n",
    "    else:\n",
    "        # idx 번째 보급 받았을때\n",
    "        run(stock_now+supplies[idx]-(dates[idx+1]-dates[idx]), idx+1, count_now+1, dates, supplies, k)\n",
    "        # idx 번째 보급 안받았을때\n",
    "        run(stock_now-(dates[idx+1]-dates[idx]), idx+1, count_now, dates, supplies, k)\n",
    "        \n",
    "        \n",
    "# 코드도 드럽고 시간도 드럽게 초과함\n",
    "# 재귀 역시 아니죠?\n",
    "# 이거 level 2 맞냐"
   ]
  },
  {
   "cell_type": "code",
   "execution_count": 19,
   "metadata": {},
   "outputs": [
    {
     "data": {
      "text/plain": [
       "2"
      ]
     },
     "execution_count": 19,
     "metadata": {},
     "output_type": "execute_result"
    }
   ],
   "source": [
    "stock_ = 4\n",
    "dates_ = [4,10,15]\n",
    "supplies_ = [20,5,10]\n",
    "k_ = 30\n",
    "solution(stock_, dates_, supplies_, k_)"
   ]
  },
  {
   "cell_type": "code",
   "execution_count": null,
   "metadata": {},
   "outputs": [],
   "source": []
  },
  {
   "cell_type": "code",
   "execution_count": null,
   "metadata": {},
   "outputs": [],
   "source": []
  },
  {
   "cell_type": "code",
   "execution_count": null,
   "metadata": {},
   "outputs": [],
   "source": []
  }
 ],
 "metadata": {
  "kernelspec": {
   "display_name": "Python 3",
   "language": "python",
   "name": "python3"
  },
  "language_info": {
   "codemirror_mode": {
    "name": "ipython",
    "version": 3
   },
   "file_extension": ".py",
   "mimetype": "text/x-python",
   "name": "python",
   "nbconvert_exporter": "python",
   "pygments_lexer": "ipython3",
   "version": "3.7.4"
  }
 },
 "nbformat": 4,
 "nbformat_minor": 2
}
