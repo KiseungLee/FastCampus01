{
 "cells": [
  {
   "cell_type": "code",
   "execution_count": 42,
   "metadata": {},
   "outputs": [],
   "source": [
    "n = 5\n",
    "lost = [2, 4]\n",
    "reserve = [1, 2, 5]"
   ]
  },
  {
   "cell_type": "code",
   "execution_count": 43,
   "metadata": {},
   "outputs": [],
   "source": [
    "def solution(n, lost, reserve):\n",
    "    # 검색이 잦기 때문에 set으로 바꿈\n",
    "    lost_set = set(lost)\n",
    "    reserve_set = set(reserve)\n",
    "    \n",
    "    # 잃어버리고 여벌 가져온 얘들은 제외해줌\n",
    "    lost_and_reserve = set()\n",
    "    for lost_idx in lost_set:\n",
    "        if lost_idx in reserve_set:\n",
    "            lost_and_reserve.add(lost_idx)\n",
    "    lost_set -= lost_and_reserve\n",
    "    reserve_set -= lost_and_reserve    \n",
    "\n",
    "    # 잃어버린 얘가 앞, 뒤에서 빌릴 수 있는지 확인\n",
    "    count = n - len(lost_set)\n",
    "    for lost_idx in lost_set:\n",
    "        if lost_idx - 1 in reserve_set:\n",
    "            count += 1\n",
    "            reserve_set.discard(lost_idx - 1)\n",
    "        elif lost_idx + 1 in reserve_set:\n",
    "            count += 1\n",
    "            reserve_set.discard(lost_idx + 1)    \n",
    "    \n",
    "    return count"
   ]
  },
  {
   "cell_type": "code",
   "execution_count": 44,
   "metadata": {},
   "outputs": [
    {
     "data": {
      "text/plain": [
       "5"
      ]
     },
     "execution_count": 44,
     "metadata": {},
     "output_type": "execute_result"
    }
   ],
   "source": [
    "solution(n, lost, reserve)"
   ]
  },
  {
   "cell_type": "code",
   "execution_count": 35,
   "metadata": {},
   "outputs": [],
   "source": [
    "# python set에서 remove와 discard의 차이\n",
    "# remove(num)에선 num이 없을 경우 에러를 일으킴 -> 반드시 지워져야 하는것들은 remove\n",
    "# discard(num)에선 num이 없어도 에러를 일으키지 않음 ->  존재하지 않음을 확인하는 용도?"
   ]
  },
  {
   "cell_type": "code",
   "execution_count": null,
   "metadata": {},
   "outputs": [],
   "source": []
  }
 ],
 "metadata": {
  "kernelspec": {
   "display_name": "Python 3",
   "language": "python",
   "name": "python3"
  },
  "language_info": {
   "codemirror_mode": {
    "name": "ipython",
    "version": 3
   },
   "file_extension": ".py",
   "mimetype": "text/x-python",
   "name": "python",
   "nbconvert_exporter": "python",
   "pygments_lexer": "ipython3",
   "version": "3.7.4"
  }
 },
 "nbformat": 4,
 "nbformat_minor": 2
}
