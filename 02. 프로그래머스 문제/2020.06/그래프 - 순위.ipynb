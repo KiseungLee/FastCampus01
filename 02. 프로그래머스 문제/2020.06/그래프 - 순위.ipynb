{
 "cells": [
  {
   "cell_type": "code",
   "execution_count": 1,
   "metadata": {},
   "outputs": [],
   "source": [
    "n = 5\n",
    "results = [[4, 3], [4, 2], [3, 2], [1, 2], [2, 5]]"
   ]
  },
  {
   "cell_type": "code",
   "execution_count": 4,
   "metadata": {},
   "outputs": [],
   "source": [
    "from queue import deque\n",
    "\n",
    "def solution(n, results):\n",
    "    win_graph = {}\n",
    "    lose_graph = {}\n",
    "    for i in range(n):\n",
    "        win_graph[i] = []\n",
    "        lose_graph[i] = []\n",
    "\n",
    "    for result in results:\n",
    "        win_graph[result[0]-1].append(result[1]-1)\n",
    "        lose_graph[result[1]-1].append(result[0]-1)\n",
    "\n",
    "    result = 0\n",
    "    for i in range(n):\n",
    "        count = 0\n",
    "        # 승리 그래프로 탐색 가능한 수\n",
    "        graph_queue = deque()\n",
    "        graph_queue.append(i)\n",
    "        visited = set()\n",
    "        visited.add(i)\n",
    "        while graph_queue:\n",
    "            now = graph_queue.popleft()\n",
    "            for next_ in win_graph[now]:\n",
    "                if next_ not in visited:\n",
    "                    graph_queue.append(next_)\n",
    "                    visited.add(next_)\n",
    "                    count += 1\n",
    "\n",
    "        # 패배 그래프로 탐색 가능한 수\n",
    "        graph_queue = deque()\n",
    "        graph_queue.append(i)\n",
    "        visited = set()\n",
    "        visited.add(i)\n",
    "        while graph_queue:\n",
    "            now = graph_queue.popleft()\n",
    "            for next_ in lose_graph[now]:\n",
    "                if next_ not in visited:\n",
    "                    graph_queue.append(next_)\n",
    "                    visited.add(next_)\n",
    "                    count += 1    \n",
    "\n",
    "        if count == n-1:\n",
    "            result+=1\n",
    "            \n",
    "    return result"
   ]
  },
  {
   "cell_type": "code",
   "execution_count": 3,
   "metadata": {},
   "outputs": [
    {
     "name": "stdout",
     "output_type": "stream",
     "text": [
      "{0: [1], 1: [4], 2: [1], 3: [2, 1], 4: []}\n",
      "{0: [], 1: [3, 2, 0], 2: [3], 3: [], 4: [1]}\n"
     ]
    }
   ],
   "source": [
    "print(win_graph)\n",
    "print(lose_graph)"
   ]
  },
  {
   "cell_type": "code",
   "execution_count": 5,
   "metadata": {},
   "outputs": [
    {
     "data": {
      "text/plain": [
       "2"
      ]
     },
     "execution_count": 5,
     "metadata": {},
     "output_type": "execute_result"
    }
   ],
   "source": [
    "result"
   ]
  },
  {
   "cell_type": "code",
   "execution_count": 6,
   "metadata": {},
   "outputs": [],
   "source": [
    "temp = []\n"
   ]
  },
  {
   "cell_type": "code",
   "execution_count": 7,
   "metadata": {},
   "outputs": [],
   "source": [
    "temp2 = {}"
   ]
  },
  {
   "cell_type": "code",
   "execution_count": 8,
   "metadata": {},
   "outputs": [
    {
     "ename": "TypeError",
     "evalue": "'int' object is not iterable",
     "output_type": "error",
     "traceback": [
      "\u001b[1;31m---------------------------------------------------------------------------\u001b[0m",
      "\u001b[1;31mTypeError\u001b[0m                                 Traceback (most recent call last)",
      "\u001b[1;32m<ipython-input-8-a4a189c4c249>\u001b[0m in \u001b[0;36m<module>\u001b[1;34m\u001b[0m\n\u001b[1;32m----> 1\u001b[1;33m \u001b[0mtemp2\u001b[0m\u001b[1;33m.\u001b[0m\u001b[0mupdate\u001b[0m\u001b[1;33m(\u001b[0m\u001b[1;36m3\u001b[0m\u001b[1;33m)\u001b[0m\u001b[1;33m\u001b[0m\u001b[1;33m\u001b[0m\u001b[0m\n\u001b[0m",
      "\u001b[1;31mTypeError\u001b[0m: 'int' object is not iterable"
     ]
    }
   ],
   "source": [
    "temp2.update(3)"
   ]
  },
  {
   "cell_type": "code",
   "execution_count": null,
   "metadata": {},
   "outputs": [],
   "source": []
  }
 ],
 "metadata": {
  "kernelspec": {
   "display_name": "Python 3",
   "language": "python",
   "name": "python3"
  },
  "language_info": {
   "codemirror_mode": {
    "name": "ipython",
    "version": 3
   },
   "file_extension": ".py",
   "mimetype": "text/x-python",
   "name": "python",
   "nbconvert_exporter": "python",
   "pygments_lexer": "ipython3",
   "version": "3.7.4"
  }
 },
 "nbformat": 4,
 "nbformat_minor": 2
}
