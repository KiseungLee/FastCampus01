{
 "cells": [
  {
   "cell_type": "code",
   "execution_count": 21,
   "metadata": {},
   "outputs": [],
   "source": [
    "n = 6\n",
    "vertexes = [[3, 6], [4, 3], [3, 2], [1, 3], [1, 2], [2, 4], [5, 2]]"
   ]
  },
  {
   "cell_type": "code",
   "execution_count": 22,
   "metadata": {},
   "outputs": [],
   "source": [
    "from queue import deque\n",
    "from collections import Counter\n",
    "\n",
    "def solution(n, vertexes):\n",
    "    graph = {}\n",
    "    for i in range(n):\n",
    "        graph[i] = []\n",
    "\n",
    "    for vertex in vertexes:\n",
    "        graph[vertex[0]-1].append(vertex[1]-1)\n",
    "        graph[vertex[1]-1].append(vertex[0]-1)\n",
    "\n",
    "    node_queue = deque()\n",
    "    node_queue.append((0, 0))\n",
    "\n",
    "    visited = set()\n",
    "    visited.add(0)\n",
    "    result = Counter()\n",
    "    while node_queue:\n",
    "        now, count = node_queue.popleft()\n",
    "        for next_ in graph[now]:\n",
    "            if next_ not in visited:\n",
    "                result[count+1] += 1\n",
    "                visited.add(next_)\n",
    "                node_queue.append((next_, count + 1))\n",
    "\n",
    "    return result[sorted(result.keys())[-1]]"
   ]
  },
  {
   "cell_type": "code",
   "execution_count": 27,
   "metadata": {},
   "outputs": [
    {
     "data": {
      "text/plain": [
       "3"
      ]
     },
     "execution_count": 27,
     "metadata": {},
     "output_type": "execute_result"
    }
   ],
   "source": [
    "result[sorted(result.keys())[-1]]"
   ]
  },
  {
   "cell_type": "code",
   "execution_count": null,
   "metadata": {},
   "outputs": [],
   "source": []
  }
 ],
 "metadata": {
  "kernelspec": {
   "display_name": "Python 3",
   "language": "python",
   "name": "python3"
  },
  "language_info": {
   "codemirror_mode": {
    "name": "ipython",
    "version": 3
   },
   "file_extension": ".py",
   "mimetype": "text/x-python",
   "name": "python",
   "nbconvert_exporter": "python",
   "pygments_lexer": "ipython3",
   "version": "3.7.4"
  }
 },
 "nbformat": 4,
 "nbformat_minor": 2
}
