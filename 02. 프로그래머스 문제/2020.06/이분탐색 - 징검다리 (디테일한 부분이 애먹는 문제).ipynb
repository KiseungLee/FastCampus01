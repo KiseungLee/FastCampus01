{
 "cells": [
  {
   "cell_type": "code",
   "execution_count": 1,
   "metadata": {},
   "outputs": [
    {
     "ename": "SyntaxError",
     "evalue": "invalid syntax (<ipython-input-1-892900ac8c44>, line 1)",
     "output_type": "error",
     "traceback": [
      "\u001b[1;36m  File \u001b[1;32m\"<ipython-input-1-892900ac8c44>\"\u001b[1;36m, line \u001b[1;32m1\u001b[0m\n\u001b[1;33m    1. left<=right\u001b[0m\n\u001b[1;37m          ^\u001b[0m\n\u001b[1;31mSyntaxError\u001b[0m\u001b[1;31m:\u001b[0m invalid syntax\n"
     ]
    }
   ],
   "source": [
    "    1. left<=right\n",
    "    2. mid = (left+right)//2\n",
    "    3. left = mid+1\n",
    "    4. right = mid-1\n",
    "    5. 여기서\n",
    "        1. 가능한 최댓값 찾기 : right 가져옴\n",
    "        2. 가능한 최솟값 찾기 : left 가져옴"
   ]
  },
  {
   "cell_type": "code",
   "execution_count": 24,
   "metadata": {},
   "outputs": [],
   "source": [
    "distance = 25\n",
    "rocks = [2, 14, 11, 21, 17]\t\n",
    "n = 2"
   ]
  },
  {
   "cell_type": "code",
   "execution_count": 25,
   "metadata": {},
   "outputs": [],
   "source": [
    "def solution(distance, rocks, n):\n",
    "    left = 0\n",
    "    right = 1000000000\n",
    "    rocks.append(distance)\n",
    "    rocks = sorted(rocks)\n",
    "    \n",
    "    while left <= right:\n",
    "        mid = (left + right)//2\n",
    "        if is_possible(distance, rocks, n, mid):\n",
    "            left = mid + 1\n",
    "        else:\n",
    "            right = mid - 1\n",
    "    return right\n",
    "    "
   ]
  },
  {
   "cell_type": "code",
   "execution_count": 28,
   "metadata": {},
   "outputs": [],
   "source": [
    "def is_possible(distance, rocks, n, d):\n",
    "    now = 0\n",
    "    count = 0\n",
    "    \n",
    "    # 마지막 스텝을 어떻게 처리할지가 귀찮음\n",
    "    for rock in rocks:\n",
    "        if distance!=rock and distance - now >= d and distance-rock<d:\n",
    "            break\n",
    "        elif rock - now >= d:\n",
    "            count += 1\n",
    "            now = rock\n",
    "            \n",
    "    if count >= len(rocks) - n:\n",
    "        return True\n",
    "    else:\n",
    "        return False"
   ]
  },
  {
   "cell_type": "code",
   "execution_count": 27,
   "metadata": {},
   "outputs": [
    {
     "data": {
      "text/plain": [
       "4"
      ]
     },
     "execution_count": 27,
     "metadata": {},
     "output_type": "execute_result"
    }
   ],
   "source": [
    "solution(distance, rocks, n)"
   ]
  },
  {
   "cell_type": "code",
   "execution_count": null,
   "metadata": {},
   "outputs": [],
   "source": []
  }
 ],
 "metadata": {
  "kernelspec": {
   "display_name": "Python 3",
   "language": "python",
   "name": "python3"
  },
  "language_info": {
   "codemirror_mode": {
    "name": "ipython",
    "version": 3
   },
   "file_extension": ".py",
   "mimetype": "text/x-python",
   "name": "python",
   "nbconvert_exporter": "python",
   "pygments_lexer": "ipython3",
   "version": "3.7.4"
  }
 },
 "nbformat": 4,
 "nbformat_minor": 2
}
