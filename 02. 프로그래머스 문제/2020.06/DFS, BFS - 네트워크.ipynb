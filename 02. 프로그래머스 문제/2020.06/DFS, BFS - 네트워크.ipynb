{
 "cells": [
  {
   "cell_type": "code",
   "execution_count": 57,
   "metadata": {},
   "outputs": [],
   "source": [
    "n = 7\n",
    "computers = [[0, 1, 0, 0, 0, 0, 0],[1, 0, 1, 0, 0, 1, 0],[0, 1, 0, 0, 0, 1, 1],[0, 0, 0, 0, 0, 0, 0],[0, 0, 0, 0, 0, 0, 0],[0, 1, 1, 0, 0, 0, 0],[0, 0, 1, 0, 0, 0, 0]] "
   ]
  },
  {
   "cell_type": "code",
   "execution_count": 58,
   "metadata": {},
   "outputs": [],
   "source": [
    "def find(x):\n",
    "    global g_parent\n",
    "    while x != g_parent[x]:\n",
    "        x = g_parent[x]\n",
    "    return x\n",
    "\n",
    "def union(x, y):\n",
    "    global g_parent\n",
    "    g_parent[y] = x"
   ]
  },
  {
   "cell_type": "code",
   "execution_count": 63,
   "metadata": {},
   "outputs": [],
   "source": [
    "def solution(n, computers):\n",
    "    global g_parent\n",
    "    g_parent = {}\n",
    "    for i in range(n):\n",
    "        g_parent[i] = i\n",
    "\n",
    "    for i in range(0, n):\n",
    "        for j in range(i+1, n):\n",
    "            if computers[i][j]==1:\n",
    "                i_parent = find(i)\n",
    "                j_parent = find(j)\n",
    "                if i!=j:\n",
    "                    union(i_parent, j_parent)\n",
    "    \n",
    "    count_set = set()\n",
    "    for key in g_parent:\n",
    "        count_set.add(find(key))\n",
    "\n",
    "    return (len(count_set))"
   ]
  },
  {
   "cell_type": "code",
   "execution_count": 64,
   "metadata": {},
   "outputs": [
    {
     "name": "stdout",
     "output_type": "stream",
     "text": [
      "{0: 0, 1: 0, 2: 0, 3: 3, 4: 4, 5: 0, 6: 0}\n"
     ]
    },
    {
     "data": {
      "text/plain": [
       "3"
      ]
     },
     "execution_count": 64,
     "metadata": {},
     "output_type": "execute_result"
    }
   ],
   "source": [
    "solution(n, computers)"
   ]
  },
  {
   "cell_type": "code",
   "execution_count": 56,
   "metadata": {},
   "outputs": [
    {
     "name": "stdout",
     "output_type": "stream",
     "text": [
      "[0, 1, 0, 0, 0, 0, 0]\n",
      "[1, 0, 1, 0, 0, 1, 0]\n",
      "[0, 1, 0, 0, 0, 1, 1]\n",
      "[0, 0, 0, 0, 0, 0, 0]\n",
      "[0, 0, 0, 0, 0, 0, 0]\n",
      "[0, 1, 1, 0, 0, 0, 0]\n",
      "[0, 0, 1, 0, 0, 0, 0]\n"
     ]
    }
   ],
   "source": [
    "for g in computers:\n",
    "    print(g)"
   ]
  },
  {
   "cell_type": "code",
   "execution_count": null,
   "metadata": {},
   "outputs": [],
   "source": []
  }
 ],
 "metadata": {
  "kernelspec": {
   "display_name": "Python 3",
   "language": "python",
   "name": "python3"
  },
  "language_info": {
   "codemirror_mode": {
    "name": "ipython",
    "version": 3
   },
   "file_extension": ".py",
   "mimetype": "text/x-python",
   "name": "python",
   "nbconvert_exporter": "python",
   "pygments_lexer": "ipython3",
   "version": "3.7.4"
  }
 },
 "nbformat": 4,
 "nbformat_minor": 2
}
