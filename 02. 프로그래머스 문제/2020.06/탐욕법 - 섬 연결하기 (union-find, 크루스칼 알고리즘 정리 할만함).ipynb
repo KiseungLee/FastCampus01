{
 "cells": [
  {
   "cell_type": "code",
   "execution_count": 26,
   "metadata": {},
   "outputs": [],
   "source": [
    "n = 4\n",
    "costs = [[0,1,1],[0,2,2],[1,2,5],[1,3,1],[2,3,8]]"
   ]
  },
  {
   "cell_type": "code",
   "execution_count": 27,
   "metadata": {},
   "outputs": [],
   "source": [
    "# 부모 찾기\n",
    "def find(x):\n",
    "    global g_parent\n",
    "    while g_parent[x] != x:\n",
    "        x = g_parent[x]\n",
    "    return x"
   ]
  },
  {
   "cell_type": "code",
   "execution_count": 28,
   "metadata": {},
   "outputs": [],
   "source": [
    "def union(x, y, c):\n",
    "    global g_parent\n",
    "    global g_total_cost\n",
    "    x = find(x)\n",
    "    y = find(y)\n",
    "    if x!=y:\n",
    "        g_total_cost += c\n",
    "        if x >= y:\n",
    "            g_parent[y] = x\n",
    "        else:\n",
    "            g_parent[x] = y\n",
    "#        if g_children[x] >= g_children[y]:\n",
    "#            g_parent[y] = x\n",
    "#            g_children[x] += g_children[y]\n",
    "#        else:\n",
    "#            g_parent[x] = y\n",
    "#            g_children[y] += g_children[x]"
   ]
  },
  {
   "cell_type": "code",
   "execution_count": 29,
   "metadata": {},
   "outputs": [],
   "source": [
    "def solution(n, costs):\n",
    "    # 부모 테이블, 자식 갯수 테이블, 총 cost\n",
    "    global g_parent\n",
    "    #global g_children\n",
    "    global g_total_cost\n",
    "    g_parent = {}\n",
    "    #g_children = {}\n",
    "    g_total_cost = 0\n",
    "    for i in range(n):\n",
    "        g_parent[i] = i\n",
    "    #    g_children[i] = 1\n",
    "        \n",
    "    costs = sorted(costs, key=lambda x : (x[2]))\n",
    "    for cost in costs:\n",
    "        union(cost[0], cost[1], cost[2])\n",
    "    return (g_total_cost)"
   ]
  },
  {
   "cell_type": "code",
   "execution_count": 30,
   "metadata": {},
   "outputs": [
    {
     "data": {
      "text/plain": [
       "4"
      ]
     },
     "execution_count": 30,
     "metadata": {},
     "output_type": "execute_result"
    }
   ],
   "source": [
    "solution(n, costs)"
   ]
  },
  {
   "cell_type": "code",
   "execution_count": null,
   "metadata": {},
   "outputs": [],
   "source": []
  },
  {
   "cell_type": "code",
   "execution_count": null,
   "metadata": {},
   "outputs": [],
   "source": []
  }
 ],
 "metadata": {
  "kernelspec": {
   "display_name": "Python 3",
   "language": "python",
   "name": "python3"
  },
  "language_info": {
   "codemirror_mode": {
    "name": "ipython",
    "version": 3
   },
   "file_extension": ".py",
   "mimetype": "text/x-python",
   "name": "python",
   "nbconvert_exporter": "python",
   "pygments_lexer": "ipython3",
   "version": "3.7.4"
  }
 },
 "nbformat": 4,
 "nbformat_minor": 2
}
