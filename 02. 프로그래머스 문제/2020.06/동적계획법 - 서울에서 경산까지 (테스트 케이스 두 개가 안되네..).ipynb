{
 "cells": [
  {
   "cell_type": "code",
   "execution_count": 44,
   "metadata": {},
   "outputs": [],
   "source": [
    "K = 1650\n",
    "# [도보시간, 도보 모금액, 자전거 시간, 자전거 모금액]\n",
    "travel = [[500, 200, 200, 100], [800, 370, 300, 120], [700, 250, 300, 90]]"
   ]
  },
  {
   "cell_type": "code",
   "execution_count": 45,
   "metadata": {},
   "outputs": [],
   "source": [
    "# 테스트 케이스 5, 11 번이 실패하는데... 씁... 뭘까...\n",
    "\n",
    "# dp[m][n] : m번째 마을에 n시간 안에 도착할때 최대 모금액\n",
    "# dp[m][n] : m-1번째 마을에서 m번째 마을로 도보로 올때 vs 자전거로 올때중 큰 값\n",
    "# dp[m][n] = max(dp[m-1][n-travel[m][0]] + travel[m][1], dp[m-1][n-travel[m][2] + travel[m][3]] )\n",
    "\n",
    "def solution(K, travel):\n",
    "    dp = [[0]*(K+1) for _ in range(len(travel))]\n",
    "\n",
    "    for m in range(len(travel)):\n",
    "        for n in range(K+1):\n",
    "            # 0번째 마을\n",
    "            if m == 0:\n",
    "                # n 시간안에 도보, 자전거 모두 갈 수 있을 때 -> 모금액 큰 쪽으로\n",
    "                if n >= travel[0][0] and n>=travel[0][2]:\n",
    "                    dp[m][n] = max(travel[0][1], travel[0][3])\n",
    "                # n 시간 안에 도보로만 가능할 때\n",
    "                elif n >= travel[0][0]:\n",
    "                    dp[m][n] = travel[0][1]\n",
    "                # n 시간 안에 자전거로만 가능할 때\n",
    "                elif n >= travel[0][2]:\n",
    "                    dp[m][n] = travel[0][3]\n",
    "            else:\n",
    "                # \n",
    "                if n-travel[m][0]>=0 and n-travel[m][2] >=0:\n",
    "                    dp[m][n] = max( dp[m-1][n-travel[m][0]] + travel[m][1], dp[m-1][n-travel[m][2]] + travel[m][3] )\n",
    "                elif n-travel[m][0]>=0:\n",
    "                    dp[m][n] = dp[m-1][n-travel[m][0]] + travel[m][1]\n",
    "                elif n-travel[m][2]>=0:\n",
    "                    dp[m][n] = dp[m-1][n-travel[m][2]] + travel[m][3]\n",
    "                    \n",
    "    return max(dp[-1])"
   ]
  },
  {
   "cell_type": "code",
   "execution_count": 46,
   "metadata": {},
   "outputs": [
    {
     "data": {
      "text/plain": [
       "660"
      ]
     },
     "execution_count": 46,
     "metadata": {},
     "output_type": "execute_result"
    }
   ],
   "source": [
    " solution(K, travel)"
   ]
  },
  {
   "cell_type": "code",
   "execution_count": null,
   "metadata": {},
   "outputs": [],
   "source": []
  }
 ],
 "metadata": {
  "kernelspec": {
   "display_name": "Python 3",
   "language": "python",
   "name": "python3"
  },
  "language_info": {
   "codemirror_mode": {
    "name": "ipython",
    "version": 3
   },
   "file_extension": ".py",
   "mimetype": "text/x-python",
   "name": "python",
   "nbconvert_exporter": "python",
   "pygments_lexer": "ipython3",
   "version": "3.7.4"
  }
 },
 "nbformat": 4,
 "nbformat_minor": 2
}
