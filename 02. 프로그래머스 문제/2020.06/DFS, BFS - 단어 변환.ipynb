{
 "cells": [
  {
   "cell_type": "code",
   "execution_count": 32,
   "metadata": {},
   "outputs": [],
   "source": [
    "begin = \"hit\"\n",
    "target = \"cog\"\n",
    "words = ['hot', 'dot', 'dog', 'lot', 'log', 'cog']"
   ]
  },
  {
   "cell_type": "code",
   "execution_count": null,
   "metadata": {},
   "outputs": [],
   "source": []
  },
  {
   "cell_type": "code",
   "execution_count": 33,
   "metadata": {},
   "outputs": [],
   "source": [
    "from queue import deque\n",
    "\n",
    "def can_transform(word1, word2):\n",
    "    count = 0\n",
    "    for i in range(len(word1)):\n",
    "        if word1[i]==word2[i]:\n",
    "            count += 1\n",
    "    return True if count==len(word1)-1 else False\n",
    "\n",
    "def solution(begin, target, words):\n",
    "    graph = {}\n",
    "    graph[begin] = []\n",
    "    for word in words:\n",
    "        graph[word] = []\n",
    "        if can_transform(word, begin):\n",
    "            graph[begin].append(word)\n",
    "        \n",
    "\n",
    "    for i in range(len(words)):\n",
    "        for j in range(i+1, len(words)):\n",
    "            if can_transform(words[i], words[j]):\n",
    "                graph[words[i]].append(words[j])\n",
    "                graph[words[j]].append(words[i])\n",
    "\n",
    "    word_queue = deque()\n",
    "    word_queue.append((begin, '--', 0))\n",
    "\n",
    "    while word_queue:\n",
    "        now, prev, count = word_queue.popleft()\n",
    "        if now==target:\n",
    "            return count\n",
    "        for next_ in graph[now]:\n",
    "            if next_ != prev and count<=len(words):\n",
    "                word_queue.append((next_, now, count+1))\n",
    "                \n",
    "    return 0"
   ]
  },
  {
   "cell_type": "code",
   "execution_count": 34,
   "metadata": {},
   "outputs": [
    {
     "data": {
      "text/plain": [
       "4"
      ]
     },
     "execution_count": 34,
     "metadata": {},
     "output_type": "execute_result"
    }
   ],
   "source": [
    "solution(begin, target, words)"
   ]
  },
  {
   "cell_type": "code",
   "execution_count": 11,
   "metadata": {},
   "outputs": [],
   "source": []
  },
  {
   "cell_type": "code",
   "execution_count": null,
   "metadata": {},
   "outputs": [],
   "source": []
  }
 ],
 "metadata": {
  "kernelspec": {
   "display_name": "Python 3",
   "language": "python",
   "name": "python3"
  },
  "language_info": {
   "codemirror_mode": {
    "name": "ipython",
    "version": 3
   },
   "file_extension": ".py",
   "mimetype": "text/x-python",
   "name": "python",
   "nbconvert_exporter": "python",
   "pygments_lexer": "ipython3",
   "version": "3.7.4"
  }
 },
 "nbformat": 4,
 "nbformat_minor": 2
}
