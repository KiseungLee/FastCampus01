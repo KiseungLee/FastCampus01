{
 "cells": [
  {
   "cell_type": "code",
   "execution_count": 7,
   "metadata": {},
   "outputs": [],
   "source": [
    "people = [70, 50, 80]\n",
    "limit = 100"
   ]
  },
  {
   "cell_type": "code",
   "execution_count": 8,
   "metadata": {},
   "outputs": [],
   "source": [
    "# 더 향상된 방법 - people을 그대로 남기고 index만 가지고 노는 방법\n",
    "# 동적할당할 필요가 없으니 훨씬훨씬 좋음\n",
    "def solution(people, limit):\n",
    "    people = sorted(people, reverse = True)\n",
    "    left = 0\n",
    "    right = len(people)-1\n",
    "    count = 0\n",
    "    while left<=right:\n",
    "        if left<right and people[left]+people[right]<=limit:\n",
    "            right -= 1\n",
    "        left += 1\n",
    "        count += 1\n",
    "    return count"
   ]
  },
  {
   "cell_type": "code",
   "execution_count": 10,
   "metadata": {},
   "outputs": [
    {
     "ename": "SyntaxError",
     "evalue": "invalid syntax (<ipython-input-10-1dff6c88ca73>, line 1)",
     "output_type": "error",
     "traceback": [
      "\u001b[1;36m  File \u001b[1;32m\"<ipython-input-10-1dff6c88ca73>\"\u001b[1;36m, line \u001b[1;32m1\u001b[0m\n\u001b[1;33m    효율성  테스트\u001b[0m\n\u001b[1;37m           ^\u001b[0m\n\u001b[1;31mSyntaxError\u001b[0m\u001b[1;31m:\u001b[0m invalid syntax\n"
     ]
    }
   ],
   "source": [
    "효율성  테스트\n",
    "테스트 1 〉\t통과 (9.85ms, 40.4MB)\n",
    "테스트 2 〉\t통과 (11.18ms, 40.9MB)\n",
    "테스트 3 〉\t통과 (9.65ms, 39MB)\n",
    "테스트 4 〉\t통과 (11.20ms, 43MB)\n",
    "테스트 5 〉\t통과 (9.93ms, 37.3MB)"
   ]
  },
  {
   "cell_type": "code",
   "execution_count": 9,
   "metadata": {},
   "outputs": [
    {
     "data": {
      "text/plain": [
       "3"
      ]
     },
     "execution_count": 9,
     "metadata": {},
     "output_type": "execute_result"
    }
   ],
   "source": [
    "solution(people, limit)"
   ]
  },
  {
   "cell_type": "code",
   "execution_count": 5,
   "metadata": {},
   "outputs": [
    {
     "name": "stdout",
     "output_type": "stream",
     "text": [
      "3\n"
     ]
    }
   ],
   "source": [
    "# 예전에 풀었던거하고 이렇게 똑같을 수가 없네\n",
    "\n",
    "from queue import deque\n",
    "\n",
    "def solution(people, limit):\n",
    "    people_deque = deque(sorted(people, reverse=True))\n",
    "    count = 0\n",
    "\n",
    "    while people_deque:\n",
    "        if len(people_deque) > 1 and people_deque[0]+people_deque[-1]<=limit:\n",
    "            people_deque.popleft()\n",
    "            people_deque.pop()\n",
    "            count += 1\n",
    "        else:\n",
    "            people_deque.popleft()\n",
    "            count += 1\n",
    "\n",
    "    return (count)"
   ]
  },
  {
   "cell_type": "code",
   "execution_count": null,
   "metadata": {},
   "outputs": [],
   "source": [
    "효율성  테스트\n",
    "테스트 1 〉\t통과 (11.95ms, 40.2MB)\n",
    "테스트 2 〉\t통과 (14.11ms, 40.9MB)\n",
    "테스트 3 〉\t통과 (12.39ms, 39.2MB)\n",
    "테스트 4 〉\t통과 (14.39ms, 42.9MB)\n",
    "테스트 5 〉\t통과 (12.70ms, 37.3MB)"
   ]
  }
 ],
 "metadata": {
  "kernelspec": {
   "display_name": "Python 3",
   "language": "python",
   "name": "python3"
  },
  "language_info": {
   "codemirror_mode": {
    "name": "ipython",
    "version": 3
   },
   "file_extension": ".py",
   "mimetype": "text/x-python",
   "name": "python",
   "nbconvert_exporter": "python",
   "pygments_lexer": "ipython3",
   "version": "3.7.4"
  }
 },
 "nbformat": 4,
 "nbformat_minor": 2
}
