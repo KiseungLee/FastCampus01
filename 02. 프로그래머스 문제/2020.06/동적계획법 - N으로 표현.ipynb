{
 "cells": [
  {
   "cell_type": "code",
   "execution_count": 34,
   "metadata": {},
   "outputs": [],
   "source": [
    "N = 5\n",
    "number =12"
   ]
  },
  {
   "cell_type": "code",
   "execution_count": 35,
   "metadata": {},
   "outputs": [],
   "source": [
    "# 연산\n",
    "# 1. 더하기\n",
    "# 2. 빼기\n",
    "# 3. 곱하기\n",
    "# 4. 앞으로 나누기\n",
    "# 5. 뒤로 나누기"
   ]
  },
  {
   "cell_type": "code",
   "execution_count": null,
   "metadata": {},
   "outputs": [],
   "source": [
    "# 저번 풀이\n",
    "def solution(n, number):\n",
    "    sets = [set() for _ in range(9)] \n",
    "    sets[1].add(n) # S(n, 1) = {n}\n",
    "    \n",
    "    for i in range(1, 9):\n",
    "        set_i = sets[i]\n",
    "        set_i.add(int(str(n)*i))\n",
    "        for j in range(1, i):\n",
    "            set1 = sets[i-j]\n",
    "            set2 = sets[j]\n",
    "            for left in set1:\n",
    "                for right in set2:\n",
    "                    set_i.add(left+right)\n",
    "                    set_i.add(left-right)\n",
    "                    set_i.add(left*right)\n",
    "                    if right != 0:\n",
    "                        set_i.add(left//right)\n",
    "                    # set_i.add(int(str(left)+str(right)))\n",
    "        # print(i, set_i)\n",
    "        if number in set_i:\n",
    "            return i\n",
    "        \n",
    "    return -1\n",
    "\n",
    "\n",
    "# 이건 맞는거 같은데 왜 5번은 계속 틀리냐 -> 이제 맞음.. 쉬비ㅏ"
   ]
  },
  {
   "cell_type": "code",
   "execution_count": null,
   "metadata": {},
   "outputs": [],
   "source": [
    "정확성  테스트\n",
    "테스트 1 〉\t통과 (0.77ms, 10.9MB)\n",
    "테스트 2 〉\t통과 (0.06ms, 10.9MB)\n",
    "테스트 3 〉\t통과 (0.08ms, 10.9MB)\n",
    "테스트 4 〉\t통과 (14.90ms, 11.9MB)\n",
    "테스트 5 〉\t통과 (10.90ms, 11.7MB)\n",
    "테스트 6 〉\t통과 (0.21ms, 10.8MB)\n",
    "테스트 7 〉\t통과 (0.22ms, 10.8MB)"
   ]
  },
  {
   "cell_type": "code",
   "execution_count": null,
   "metadata": {},
   "outputs": [],
   "source": []
  },
  {
   "cell_type": "code",
   "execution_count": 37,
   "metadata": {},
   "outputs": [
    {
     "name": "stdout",
     "output_type": "stream",
     "text": [
      "4\n",
      "5\n",
      "6\n",
      "7\n",
      "8\n",
      "-1\n"
     ]
    }
   ],
   "source": [
    "# 저번 풀이(위 풀이) 보다 빨리 끝나는(답이 앞쪽에 있는) 케이스는 느리고\n",
    "# 늦게 끝나는 케이스(답이 뒤쪽이거나 -1일때)는 더 빠름\n",
    "\n",
    "def solution(N, number):\n",
    "    # (연산에 사용될 수 있는 수, 그 수로 연산시 올라가는 count)\n",
    "    # [(5, 1), (55, 2), (555, 3), (5555, 4)]\n",
    "    N_array = [(N, 1), (N*10+N, 2), (N*100+N*10+N, 3), (N*1000+N*100+N*10+N, 4)]\n",
    "    if N <=3 :\n",
    "        N_array.append((N*10000+N*1000+N*100+N*10+N, 5))\n",
    "\n",
    "    # number_array[i] : N을 i번 써서 만들 수 있는 수의 집합\n",
    "    number_array = [None, set([N]), set([N*10 + N]), set([N*100 + N*10 + N]), set([N*1000 + N*100 + N*10 + N]), set([N*10000 + N*1000 + N*100 + N*10 + N]), set(), set(), set()]    \n",
    "    \n",
    "    # 뭔가 마음에 안듬\n",
    "    # for i in range(1, 8): 나\n",
    "    # for N_, add_num in N_array: 는 \n",
    "    # 고정 for문이라 시간복잡도로 계산되는 for문이 아니긴 한데\n",
    "    for i in range(1, 8):\n",
    "        set_now = number_array[i]\n",
    "        for num in set_now:\n",
    "            if num==number:\n",
    "                return (i)\n",
    "            for N_, add_num in N_array:\n",
    "                if i+add_num <=8:\n",
    "                    number_array[i+add_num].add(num + N_)\n",
    "                    number_array[i+add_num].add(num - N_)\n",
    "                    number_array[i+add_num].add(N_ - num)\n",
    "                    number_array[i+add_num].add(num * N_)\n",
    "                    if N_!=0:\n",
    "                        number_array[i+add_num].add(num // N_)\n",
    "                    if num!=0:\n",
    "                        number_array[i+add_num].add(N_ // num)\n",
    "\n",
    "    for num in number_array[8]:\n",
    "        if num==number:\n",
    "            return(8)\n",
    "\n",
    "    return(-1)"
   ]
  },
  {
   "cell_type": "code",
   "execution_count": null,
   "metadata": {},
   "outputs": [],
   "source": [
    "정확성  테스트\n",
    "테스트 1 〉\t통과 (0.92ms, 11MB)\n",
    "테스트 2 〉\t통과 (0.06ms, 10.8MB)\n",
    "테스트 3 〉\t통과 (0.13ms, 10.8MB)\n",
    "테스트 4 〉\t통과 (4.89ms, 11.6MB)\n",
    "테스트 5 〉\t통과 (3.44ms, 10.9MB)\n",
    "테스트 6 〉\t통과 (0.48ms, 10.8MB)\n",
    "테스트 7 〉\t통과 (0.51ms, 10.8MB)"
   ]
  },
  {
   "cell_type": "code",
   "execution_count": null,
   "metadata": {},
   "outputs": [],
   "source": []
  },
  {
   "cell_type": "code",
   "execution_count": null,
   "metadata": {},
   "outputs": [],
   "source": []
  },
  {
   "cell_type": "code",
   "execution_count": 21,
   "metadata": {},
   "outputs": [
    {
     "data": {
      "text/plain": [
       "[None, {2}, {22}, {222}, {2222}, {22222}, set(), set(), set()]"
      ]
     },
     "execution_count": 21,
     "metadata": {},
     "output_type": "execute_result"
    }
   ],
   "source": [
    "number_array"
   ]
  },
  {
   "cell_type": "code",
   "execution_count": null,
   "metadata": {},
   "outputs": [],
   "source": []
  },
  {
   "cell_type": "code",
   "execution_count": null,
   "metadata": {},
   "outputs": [],
   "source": []
  },
  {
   "cell_type": "code",
   "execution_count": null,
   "metadata": {},
   "outputs": [],
   "source": []
  },
  {
   "cell_type": "code",
   "execution_count": 16,
   "metadata": {},
   "outputs": [
    {
     "name": "stdout",
     "output_type": "stream",
     "text": [
      "3\n"
     ]
    }
   ],
   "source": [
    "from queue import deque\n",
    "# 이 풀이는 실패할 가능성이 있음\n",
    "# 큐가 count수 대로 이루어지지 않기 때문에 더 높은 count를 써서 number를 만드는 게 먼저 걸릴 수도 있음 \n",
    "\n",
    "def solution(N, number):\n",
    "    # (연산에 사용될 수 있는 수, 그 수로 연산시 올라가는 count)\n",
    "    # [(5, 1), (55, 2), (555, 3), (5555, 4)]\n",
    "    N_array = [(N, 1), (N*10+N, 2), (N*100+N*10+N, 3), (N*1000+N*100+N*10+N, 4)]\n",
    "    if N <=3 :\n",
    "        N_array.append((N*10000+N*1000+N*100+N*10+N, 5))\n",
    "\n",
    "    # number_queue : 수와 count를 돌려줄 queue\n",
    "    number_queue = deque(N_array)\n",
    "    # number_set : 없어도 되긴 하는데 set 하나 메모리 더 잡아서 반복 줄일려는 의도\n",
    "    number_set = set(N_array)\n",
    "\n",
    "    while number_queue:\n",
    "        now, count = number_queue.popleft()\n",
    "        # count가 8 이하인 것만 취급\n",
    "        if count < 9:\n",
    "            # if문을 아래 for문의 if문 아래에 넣어놓으면 시간은 절약될 듯\n",
    "            if now == number:\n",
    "                return count\n",
    "\n",
    "            for (N_, add_count) in N_array:        \n",
    "                if now + N_ not in number_set:\n",
    "                    number_queue.append((now + N_, count + add_count))\n",
    "                if now - N_ not in number_set:\n",
    "                    number_queue.append((now - N_, count + add_count))\n",
    "                if N_ - now not in number_set:\n",
    "                    number_queue.append((N_ - now, count + add_count))                    \n",
    "                if now * N_ not in number_set:\n",
    "                    number_queue.append((now * N_, count + add_count))\n",
    "                if N_ != 0 and now // N_ not in number_set:\n",
    "                    number_queue.append((now // N_, count + add_count))\n",
    "                if now != 0 and N_ // now not in number_set:\n",
    "                    number_queue.append((N_ // now, count + add_count))\n",
    "    return -1"
   ]
  },
  {
   "cell_type": "code",
   "execution_count": null,
   "metadata": {},
   "outputs": [],
   "source": [
    "정확성  테스트\n",
    "테스트 1 〉\t실패 (112.81ms, 45MB)\n",
    "테스트 2 〉\t통과 (0.05ms, 10.8MB)\n",
    "테스트 3 〉\t통과 (0.18ms, 10.7MB)\n",
    "테스트 4 〉\t통과 (5502.17ms, 680MB)\n",
    "테스트 5 〉\t통과 (154.19ms, 57.6MB)\n",
    "테스트 6 〉\t통과 (0.72ms, 10.7MB)\n",
    "테스트 7 〉\t통과 (2.28ms, 11.1MB)"
   ]
  }
 ],
 "metadata": {
  "kernelspec": {
   "display_name": "Python 3",
   "language": "python",
   "name": "python3"
  },
  "language_info": {
   "codemirror_mode": {
    "name": "ipython",
    "version": 3
   },
   "file_extension": ".py",
   "mimetype": "text/x-python",
   "name": "python",
   "nbconvert_exporter": "python",
   "pygments_lexer": "ipython3",
   "version": "3.7.4"
  }
 },
 "nbformat": 4,
 "nbformat_minor": 2
}
