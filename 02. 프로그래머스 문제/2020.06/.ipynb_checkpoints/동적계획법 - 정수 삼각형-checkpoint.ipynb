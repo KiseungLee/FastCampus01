{
 "cells": [
  {
   "cell_type": "code",
   "execution_count": 14,
   "metadata": {},
   "outputs": [],
   "source": [
    "triangle = [[7], [3, 8], [8, 1, 0], [2, 7, 4, 4], [4, 5, 2, 6, 5]]"
   ]
  },
  {
   "cell_type": "code",
   "execution_count": 15,
   "metadata": {},
   "outputs": [],
   "source": [
    "# 이전풀이보다 향상 됐음. 이전엔 새로 dp 배열 파서 했는데 이번엔 기존에 있는 배열 가지고 인덱스만 가지고 놀았음\n",
    "# 걸리는 시간은 비슷하긴 함.. \n",
    "def solution(triangle):\n",
    "    # 2층부터 돕니다.\n",
    "    for r in range(1, len(triangle)):\n",
    "        row_prev = triangle[r-1] # 이전 층\n",
    "        row_now = triangle[r]    # 지금 층\n",
    "        for idx in range(len(row_now)):\n",
    "            if idx==0: # 지금 층의 첫 원소일 경우 전 층의 첫 원소를 더해줌\n",
    "                row_now[0] = row_now[0] + row_prev[0]\n",
    "            elif idx==len(row_now)-1: # 지금 층의 마지막 원소일 경우 전 층의 마지막 원소를 더해줌\n",
    "                row_now[idx] = row_now[idx] + row_prev[idx-1]\n",
    "            else: # 외의 경우 전 층의 idx원소, idx-1원소 중 큰걸 더해줌\n",
    "                row_now[idx] = row_now[idx] + max(row_prev[idx-1], row_prev[idx])\n",
    "\n",
    "    return (max(triangle[-1]))"
   ]
  },
  {
   "cell_type": "code",
   "execution_count": null,
   "metadata": {},
   "outputs": [],
   "source": [
    "효율성  테스트\n",
    "테스트 1 〉\t통과 (36.86ms, 86.9MB)\n",
    "테스트 2 〉\t통과 (30.59ms, 69.8MB)\n",
    "테스트 3 〉\t통과 (43.05ms, 97.7MB)\n",
    "테스트 4 〉\t통과 (122.13ms, 88.1MB)\n",
    "테스트 5 〉\t통과 (36.55ms, 82.7MB)\n",
    "테스트 6 〉\t통과 (44.80ms, 100MB)\n",
    "테스트 7 〉\t통과 (39.89ms, 93.4MB)\n",
    "테스트 8 〉\t통과 (34.94ms, 78.9MB)\n",
    "테스트 9 〉\t통과 (36.06ms, 82.9MB)\n",
    "테스트 10 〉\t통과 (40.39ms, 95.3MB)"
   ]
  },
  {
   "cell_type": "code",
   "execution_count": 16,
   "metadata": {},
   "outputs": [
    {
     "data": {
      "text/plain": [
       "30"
      ]
     },
     "execution_count": 16,
     "metadata": {},
     "output_type": "execute_result"
    }
   ],
   "source": [
    "solution(triangle)"
   ]
  },
  {
   "cell_type": "code",
   "execution_count": null,
   "metadata": {},
   "outputs": [],
   "source": [
    "## 이전 풀이\n",
    "from collections import deque\n",
    "\n",
    "def solution(triangle):\n",
    "    triangle = deque(triangle)\n",
    "    while len(triangle)>1:\n",
    "        first = triangle.popleft()\n",
    "        second = triangle.popleft()\n",
    "        triangle.appendleft(merge(first, second))\n",
    "    return max(triangle.pop())\n",
    "        \n",
    "def merge(first, second):\n",
    "    for i in range(len(second)):\n",
    "        if i==0:\n",
    "            second[i]+=first[i]\n",
    "        elif i==len(second)-1:\n",
    "            second[i]+= first[i-1]\n",
    "        else:\n",
    "            second[i] += max(first[i], first[i-1])\n",
    "    return second"
   ]
  },
  {
   "cell_type": "code",
   "execution_count": null,
   "metadata": {},
   "outputs": [],
   "source": [
    "효율성  테스트\n",
    "테스트 1 〉\t통과 (34.99ms, 86.9MB)\n",
    "테스트 2 〉\t통과 (29.31ms, 69.9MB)\n",
    "테스트 3 〉\t통과 (43.36ms, 97.8MB)\n",
    "테스트 4 〉\t통과 (37.49ms, 88.1MB)\n",
    "테스트 5 〉\t통과 (33.18ms, 82.6MB)\n",
    "테스트 6 〉\t통과 (40.94ms, 99.9MB)\n",
    "테스트 7 〉\t통과 (40.81ms, 93.3MB)\n",
    "테스트 8 〉\t통과 (34.22ms, 78.9MB)\n",
    "테스트 9 〉\t통과 (35.79ms, 83MB)\n",
    "테스트 10 〉\t통과 (41.27ms, 95.2MB)"
   ]
  }
 ],
 "metadata": {
  "kernelspec": {
   "display_name": "Python 3",
   "language": "python",
   "name": "python3"
  },
  "language_info": {
   "codemirror_mode": {
    "name": "ipython",
    "version": 3
   },
   "file_extension": ".py",
   "mimetype": "text/x-python",
   "name": "python",
   "nbconvert_exporter": "python",
   "pygments_lexer": "ipython3",
   "version": "3.7.4"
  }
 },
 "nbformat": 4,
 "nbformat_minor": 2
}
