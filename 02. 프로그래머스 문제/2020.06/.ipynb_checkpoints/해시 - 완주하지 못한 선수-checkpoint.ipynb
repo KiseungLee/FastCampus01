{
 "cells": [
  {
   "cell_type": "code",
   "execution_count": 1,
   "metadata": {},
   "outputs": [],
   "source": [
    "p = ['marina', 'josipa', 'nikola', 'vinko', 'filipa']\n",
    "c = ['josipa', 'filipa', 'marina', 'nikola']"
   ]
  },
  {
   "cell_type": "code",
   "execution_count": 10,
   "metadata": {},
   "outputs": [],
   "source": [
    "from collections import Counter\n",
    "\n",
    "def solution(participant, completioin):\n",
    "    counter = Counter()\n",
    "    for p in participant:\n",
    "        counter[p] += 1\n",
    "    for c in completioin:\n",
    "        counter[c] -= 1\n",
    "    for (k, v) in counter.items():\n",
    "        if v == 1:\n",
    "            return k"
   ]
  },
  {
   "cell_type": "code",
   "execution_count": 11,
   "metadata": {},
   "outputs": [
    {
     "data": {
      "text/plain": [
       "'vinko'"
      ]
     },
     "execution_count": 11,
     "metadata": {},
     "output_type": "execute_result"
    }
   ],
   "source": [
    "solution(p, c)"
   ]
  },
  {
   "cell_type": "code",
   "execution_count": 12,
   "metadata": {},
   "outputs": [],
   "source": [
    "# 충돌이 없다는 가정하에 쓸 수 있는 거긴 함\n",
    "def solution(participant, completion):\n",
    "    hash_sum = 0\n",
    "    dic = {}\n",
    "    for p in participant:\n",
    "        dic[hash(p)] = p\n",
    "        hash_sum += hash(p)\n",
    "    for c in completion:\n",
    "        hash_sum -= hash(c)\n",
    "    return dic[hash_sum]"
   ]
  },
  {
   "cell_type": "code",
   "execution_count": null,
   "metadata": {},
   "outputs": [],
   "source": []
  }
 ],
 "metadata": {
  "kernelspec": {
   "display_name": "Python 3",
   "language": "python",
   "name": "python3"
  },
  "language_info": {
   "codemirror_mode": {
    "name": "ipython",
    "version": 3
   },
   "file_extension": ".py",
   "mimetype": "text/x-python",
   "name": "python",
   "nbconvert_exporter": "python",
   "pygments_lexer": "ipython3",
   "version": "3.7.4"
  }
 },
 "nbformat": 4,
 "nbformat_minor": 2
}
