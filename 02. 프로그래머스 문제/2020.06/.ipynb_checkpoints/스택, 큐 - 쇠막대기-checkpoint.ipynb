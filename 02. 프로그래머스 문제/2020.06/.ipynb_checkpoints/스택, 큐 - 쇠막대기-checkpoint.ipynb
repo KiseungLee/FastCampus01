{
 "cells": [
  {
   "cell_type": "code",
   "execution_count": 12,
   "metadata": {},
   "outputs": [],
   "source": [
    "arrangement_ = '()(((()())(())()))(())'"
   ]
  },
  {
   "cell_type": "code",
   "execution_count": 13,
   "metadata": {},
   "outputs": [],
   "source": [
    "def solution(arrangement):\n",
    "    razer_count = 0 # 현재 레이저가 몇 개 지나갔는지\n",
    "    stack = []\n",
    "    result = 0\n",
    "    for c in arrangement.replace('()', 'x'):\n",
    "        if c == '(':\n",
    "            stack.append(razer_count)\n",
    "        elif c ==')':\n",
    "            result += razer_count - stack.pop() + 1\n",
    "        elif c == 'x':\n",
    "            razer_count += 1\n",
    "    return result"
   ]
  },
  {
   "cell_type": "code",
   "execution_count": 14,
   "metadata": {},
   "outputs": [
    {
     "data": {
      "text/plain": [
       "17"
      ]
     },
     "execution_count": 14,
     "metadata": {},
     "output_type": "execute_result"
    }
   ],
   "source": [
    "solution(arrangement_)"
   ]
  },
  {
   "cell_type": "code",
   "execution_count": null,
   "metadata": {},
   "outputs": [],
   "source": []
  }
 ],
 "metadata": {
  "kernelspec": {
   "display_name": "Python 3",
   "language": "python",
   "name": "python3"
  },
  "language_info": {
   "codemirror_mode": {
    "name": "ipython",
    "version": 3
   },
   "file_extension": ".py",
   "mimetype": "text/x-python",
   "name": "python",
   "nbconvert_exporter": "python",
   "pygments_lexer": "ipython3",
   "version": "3.7.4"
  }
 },
 "nbformat": 4,
 "nbformat_minor": 2
}
