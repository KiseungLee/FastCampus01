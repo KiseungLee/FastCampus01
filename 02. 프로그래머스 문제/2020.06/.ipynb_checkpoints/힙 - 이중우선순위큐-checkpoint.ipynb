{
 "cells": [
  {
   "cell_type": "code",
   "execution_count": 67,
   "metadata": {},
   "outputs": [],
   "source": [
    "operations = ['I 4', 'I 3', 'I 2', 'I 1', 'D 1', 'D 1', 'D -1', 'D -1', 'I 5', 'I 6']"
   ]
  },
  {
   "cell_type": "code",
   "execution_count": 68,
   "metadata": {},
   "outputs": [],
   "source": [
    "import heapq\n",
    "\n",
    "class MyHeap:\n",
    "    def __init__(self):\n",
    "        self.count = 0\n",
    "        self.max_heap = []\n",
    "        self.min_heap = []\n",
    "    \n",
    "    def push(self, num):\n",
    "        if self.isBreak():\n",
    "            self.max_heap = []\n",
    "            self.min_heap = []\n",
    "        heapq.heappush(self.max_heap, -num)\n",
    "        heapq.heappush(self.min_heap, num)\n",
    "        self.count += 1\n",
    "        \n",
    "    def isBreak(self):\n",
    "        if self.count == 0 or not self.min_heap or not self.max_heap or self.min_heap[0] > -self.max_heap[0]:\n",
    "            return True\n",
    "        else:\n",
    "            return False\n",
    "        \n",
    "    def pop_min(self):\n",
    "        if self.isBreak():\n",
    "            self.min_heap = []\n",
    "            self.max_heap = []\n",
    "            return None\n",
    "        else:\n",
    "            self.count -= 1\n",
    "            return heapq.heappop(self.min_heap)\n",
    "        \n",
    "    def pop_max(self):\n",
    "        if self.isBreak():\n",
    "            self.min_heap = []\n",
    "            self.max_heap = []\n",
    "            return None\n",
    "        else:\n",
    "            self.count -= 1\n",
    "            return heapq.heappop(self.max_heap)\n",
    "        \n",
    "    def get_result(self):\n",
    "        if self.isBreak():\n",
    "            return [0, 0]\n",
    "        else:\n",
    "            return [-self.max_heap[0], self.min_heap[0]]"
   ]
  },
  {
   "cell_type": "code",
   "execution_count": 69,
   "metadata": {},
   "outputs": [],
   "source": [
    "def solution(operations):\n",
    "    myHeap = MyHeap()\n",
    "    for operation in operations:\n",
    "        if operation[0] == 'I':\n",
    "            myHeap.push(int(operation[2:]))\n",
    "        elif operation == 'D 1':\n",
    "            myHeap.pop_max()\n",
    "        elif operation == 'D -1':\n",
    "            myHeap.pop_min()\n",
    "    return myHeap.get_result()"
   ]
  },
  {
   "cell_type": "code",
   "execution_count": 70,
   "metadata": {},
   "outputs": [
    {
     "data": {
      "text/plain": [
       "[6, 5]"
      ]
     },
     "execution_count": 70,
     "metadata": {},
     "output_type": "execute_result"
    }
   ],
   "source": [
    "solution(operations)"
   ]
  },
  {
   "cell_type": "code",
   "execution_count": 3,
   "metadata": {},
   "outputs": [],
   "source": [
    "temp = \"I 23\""
   ]
  },
  {
   "cell_type": "code",
   "execution_count": 5,
   "metadata": {},
   "outputs": [
    {
     "data": {
      "text/plain": [
       "23"
      ]
     },
     "execution_count": 5,
     "metadata": {},
     "output_type": "execute_result"
    }
   ],
   "source": [
    "int(temp[2:])"
   ]
  },
  {
   "cell_type": "code",
   "execution_count": null,
   "metadata": {},
   "outputs": [],
   "source": []
  }
 ],
 "metadata": {
  "kernelspec": {
   "display_name": "Python 3",
   "language": "python",
   "name": "python3"
  },
  "language_info": {
   "codemirror_mode": {
    "name": "ipython",
    "version": 3
   },
   "file_extension": ".py",
   "mimetype": "text/x-python",
   "name": "python",
   "nbconvert_exporter": "python",
   "pygments_lexer": "ipython3",
   "version": "3.7.4"
  }
 },
 "nbformat": 4,
 "nbformat_minor": 2
}
