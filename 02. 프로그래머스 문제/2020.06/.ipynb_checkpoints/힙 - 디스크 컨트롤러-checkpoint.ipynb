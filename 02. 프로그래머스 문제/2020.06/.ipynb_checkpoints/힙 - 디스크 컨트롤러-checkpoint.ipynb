{
 "cells": [
  {
   "cell_type": "code",
   "execution_count": 25,
   "metadata": {},
   "outputs": [],
   "source": [
    "jobs = [[0, 3], [1, 9], [2, 6]]\t"
   ]
  },
  {
   "cell_type": "code",
   "execution_count": 26,
   "metadata": {},
   "outputs": [],
   "source": [
    "# 요청부터 종료까지 예상시간 : 현재시간 + 작업시간 - 요청시간\n",
    "# 현재시간은 모든 작업들이 공유하는  시간 '작업시간 - 요청시간'가 작은 것부터 처리하면 됨\n",
    "\n",
    "from queue import deque\n",
    "import heapq\n",
    "\n",
    "def solution(jobs):\n",
    "    count = len(jobs)\n",
    "    jobs = deque(sorted(jobs, key=lambda x : x[0]))\n",
    "    waiting = [] # min_heap\n",
    "    processing = 0 # 수행하고있는 작업이 끝나는 시간\n",
    "\n",
    "    time = 0\n",
    "    total = 0\n",
    "    # 대기열에 오르지 못한 작업이 남았거나, processing이 다 안끝났을 때\n",
    "    while jobs or processing >= time:\n",
    "        # 작업을 대기열에 올릴 수 있으면 올리기\n",
    "        while jobs and jobs[0][0]<=time:\n",
    "            request_time, working_time = jobs.popleft() \n",
    "            heapq.heappush(waiting, (working_time, request_time))\n",
    "\n",
    "        # 작업이 완료됐다면(현재 시간이 processing 보다 크다면) 다음 작업\n",
    "        if time >= processing:\n",
    "            if waiting:\n",
    "                (working_time, request_time) = heapq.heappop(waiting)\n",
    "                total += (time + working_time - request_time)\n",
    "                processing = time + working_time\n",
    "        # print('time : ', time, ' , processing : ', processing, ' , waiting ; ', waiting)\n",
    "        time += 1\n",
    "    return (total//count)\n"
   ]
  },
  {
   "cell_type": "code",
   "execution_count": 27,
   "metadata": {},
   "outputs": [
    {
     "data": {
      "text/plain": [
       "9"
      ]
     },
     "execution_count": 27,
     "metadata": {},
     "output_type": "execute_result"
    }
   ],
   "source": [
    "solution(jobs)"
   ]
  },
  {
   "cell_type": "code",
   "execution_count": null,
   "metadata": {},
   "outputs": [],
   "source": []
  }
 ],
 "metadata": {
  "kernelspec": {
   "display_name": "Python 3",
   "language": "python",
   "name": "python3"
  },
  "language_info": {
   "codemirror_mode": {
    "name": "ipython",
    "version": 3
   },
   "file_extension": ".py",
   "mimetype": "text/x-python",
   "name": "python",
   "nbconvert_exporter": "python",
   "pygments_lexer": "ipython3",
   "version": "3.7.4"
  }
 },
 "nbformat": 4,
 "nbformat_minor": 2
}
