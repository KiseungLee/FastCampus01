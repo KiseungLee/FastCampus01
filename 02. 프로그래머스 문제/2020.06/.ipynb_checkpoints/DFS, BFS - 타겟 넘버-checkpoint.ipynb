{
 "cells": [
  {
   "cell_type": "code",
   "execution_count": 10,
   "metadata": {},
   "outputs": [],
   "source": [
    "numbers = [1, 1, 1, 1, 1]\n",
    "target = 3"
   ]
  },
  {
   "cell_type": "code",
   "execution_count": 11,
   "metadata": {},
   "outputs": [
    {
     "name": "stdout",
     "output_type": "stream",
     "text": [
      "deque([3])\n",
      "deque([4, 2])\n",
      "deque([5, 3, 3, 1])\n",
      "deque([6, 4, 4, 2, 4, 2, 2, 0])\n",
      "deque([7, 5, 5, 3, 5, 3, 3, 1, 5, 3, 3, 1, 3, 1, 1, -1])\n",
      "deque([8, 6, 6, 4, 6, 4, 4, 2, 6, 4, 4, 2, 4, 2, 2, 0, 6, 4, 4, 2, 4, 2, 2, 0, 4, 2, 2, 0, 2, 0, 0, -2])\n",
      "5\n"
     ]
    }
   ],
   "source": [
    "from queue import deque\n",
    "\n",
    "def solution(numbers, target):\n",
    "    target_queue = deque()\n",
    "    target_queue.append(target)\n",
    "\n",
    "    for number in numbers:\n",
    "        count = len(target_queue)\n",
    "        while count>0:\n",
    "            count -= 1\n",
    "            target_now = target_queue.popleft()\n",
    "            target_queue.append(target_now + number)\n",
    "            target_queue.append(target_now - number)\n",
    "\n",
    "    count = 0\n",
    "    while target_queue:\n",
    "        if target_queue.popleft() == 0:\n",
    "            count += 1\n",
    "\n",
    "    return (count)"
   ]
  },
  {
   "cell_type": "code",
   "execution_count": null,
   "metadata": {},
   "outputs": [],
   "source": [
    "정확성  테스트\n",
    "테스트 1 〉\t통과 (268.07ms, 32MB)\n",
    "테스트 2 〉\t통과 (259.44ms, 27.3MB)\n",
    "테스트 3 〉\t통과 (0.31ms, 10.8MB)\n",
    "테스트 4 〉\t통과 (1.02ms, 10.8MB)\n",
    "테스트 5 〉\t통과 (8.45ms, 11MB)\n",
    "테스트 6 〉\t통과 (0.56ms, 10.9MB)\n",
    "테스트 7 〉\t통과 (0.26ms, 10.7MB)\n",
    "테스트 8 〉\t통과 (2.10ms, 10.8MB)"
   ]
  },
  {
   "cell_type": "code",
   "execution_count": 16,
   "metadata": {},
   "outputs": [],
   "source": [
    "# 위랑 같은 방법, 재귀로 풀이\n",
    "\n",
    "def solution(numbers, target):\n",
    "    if len(numbers)==1:\n",
    "        return 1 if numbers[0]==target or numbers[0] == -target else 0\n",
    "    else:\n",
    "        return solution(numbers[1:], target + numbers[0]) + solution(numbers[1:], target - numbers[0])"
   ]
  },
  {
   "cell_type": "code",
   "execution_count": 17,
   "metadata": {},
   "outputs": [
    {
     "data": {
      "text/plain": [
       "5"
      ]
     },
     "execution_count": 17,
     "metadata": {},
     "output_type": "execute_result"
    }
   ],
   "source": [
    "solution(numbers, target)"
   ]
  },
  {
   "cell_type": "code",
   "execution_count": null,
   "metadata": {},
   "outputs": [],
   "source": [
    "정확성  테스트\n",
    "테스트 1 〉\t통과 (275.84ms, 10.6MB)\n",
    "테스트 2 〉\t통과 (270.39ms, 10.7MB)\n",
    "테스트 3 〉\t통과 (0.30ms, 10.7MB)\n",
    "테스트 4 〉\t통과 (1.13ms, 10.8MB)\n",
    "테스트 5 〉\t통과 (8.34ms, 10.8MB)\n",
    "테스트 6 〉\t통과 (1.10ms, 10.7MB)\n",
    "테스트 7 〉\t통과 (0.30ms, 10.7MB)\n",
    "테스트 8 〉\t통과 (2.07ms, 10.8MB)"
   ]
  }
 ],
 "metadata": {
  "kernelspec": {
   "display_name": "Python 3",
   "language": "python",
   "name": "python3"
  },
  "language_info": {
   "codemirror_mode": {
    "name": "ipython",
    "version": 3
   },
   "file_extension": ".py",
   "mimetype": "text/x-python",
   "name": "python",
   "nbconvert_exporter": "python",
   "pygments_lexer": "ipython3",
   "version": "3.7.4"
  }
 },
 "nbformat": 4,
 "nbformat_minor": 2
}
