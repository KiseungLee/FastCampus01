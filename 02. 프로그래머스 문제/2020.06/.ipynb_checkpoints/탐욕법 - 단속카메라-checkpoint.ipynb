{
 "cells": [
  {
   "cell_type": "code",
   "execution_count": 7,
   "metadata": {},
   "outputs": [],
   "source": [
    "routes = [[-20,15], [-14,-5], [-18,-13], [-5,-3]]"
   ]
  },
  {
   "cell_type": "code",
   "execution_count": null,
   "metadata": {},
   "outputs": [],
   "source": [
    "# 다른 사람 풀이\n",
    "# 오늘 풀이랑 저번 풀이의 장점만 섞어 놓은거. 이 문제의 베스트 풀이 같음\n",
    "def solution(routes):\n",
    "    routes = sorted(routes, key=lambda x: x[1])\n",
    "    last_camera = -30000\n",
    "\n",
    "    answer = 0\n",
    "\n",
    "    for route in routes:\n",
    "        if last_camera < route[0]:\n",
    "            answer += 1\n",
    "            last_camera = route[1]\n",
    "\n",
    "    return answer"
   ]
  },
  {
   "cell_type": "code",
   "execution_count": null,
   "metadata": {},
   "outputs": [],
   "source": [
    "효율성  테스트\n",
    "테스트 1 〉\t통과 (0.66ms, 11.5MB)\n",
    "테스트 2 〉\t통과 (0.45ms, 11.2MB)\n",
    "테스트 3 〉\t통과 (1.72ms, 15.9MB)\n",
    "테스트 4 〉\t통과 (0.08ms, 10.8MB)\n",
    "테스트 5 〉\t통과 (1.98ms, 17.2MB)"
   ]
  },
  {
   "cell_type": "code",
   "execution_count": 8,
   "metadata": {},
   "outputs": [
    {
     "name": "stdout",
     "output_type": "stream",
     "text": [
      "1\n",
      "1\n",
      "2\n",
      "2\n"
     ]
    }
   ],
   "source": [
    "# 2020. 06. 09 풀이 \n",
    "# 퇴보했음 왜 for문 두번 도는 거야.\n",
    "def solution(routes):\n",
    "    routes = sorted(routes, key = lambda x : (x[1], x[0]))\n",
    "    clear = [False]*len(routes)\n",
    "\n",
    "    count = 0\n",
    "    for idx in range(len(routes)):\n",
    "        route = routes[idx]\n",
    "        if not clear[idx]:\n",
    "            clear[idx] = True\n",
    "            count += 1\n",
    "            for idx_check in range(idx+1, len(routes)):\n",
    "                if not clear[idx_check] and routes[idx_check][0]<=routes[idx][1] and routes[idx_check][1]>=routes[idx][1]:\n",
    "                    clear[idx_check] = True\n",
    "    return (count)"
   ]
  },
  {
   "cell_type": "code",
   "execution_count": 9,
   "metadata": {},
   "outputs": [
    {
     "data": {
      "text/plain": [
       "2"
      ]
     },
     "execution_count": 9,
     "metadata": {},
     "output_type": "execute_result"
    }
   ],
   "source": [
    "효율성  테스트\n",
    "테스트 1 〉\t통과 (5.98ms, 11.5MB)\n",
    "테스트 2 〉\t통과 (3.40ms, 11.3MB)\n",
    "테스트 3 〉\t통과 (17.47ms, 15.9MB)\n",
    "테스트 4 〉\t통과 (0.26ms, 10.8MB)\n",
    "테스트 5 〉\t통과 (21.83ms, 17.3MB)"
   ]
  },
  {
   "cell_type": "code",
   "execution_count": null,
   "metadata": {},
   "outputs": [],
   "source": [
    "# 이전에 풀었던 풀이 \n",
    "from collections import deque\n",
    "\n",
    "def solution(routes):\n",
    "    routes = deque(sorted(routes, key=lambda x: (x[1], x[0])))\n",
    "    count = 0\n",
    "    while routes:\n",
    "        t = routes.popleft()[1] \n",
    "        while routes and routes[0][0] <= t:\n",
    "            routes.popleft()\n",
    "        count += 1\n",
    "    return count"
   ]
  },
  {
   "cell_type": "code",
   "execution_count": null,
   "metadata": {},
   "outputs": [],
   "source": [
    "효율성  테스트\n",
    "테스트 1 〉\t통과 (1.12ms, 11.7MB)\n",
    "테스트 2 〉\t통과 (0.76ms, 11.1MB)\n",
    "테스트 3 〉\t통과 (2.64ms, 15.9MB)\n",
    "테스트 4 〉\t통과 (0.12ms, 10.8MB)\n",
    "테스트 5 〉\t통과 (3.22ms, 17.2MB)"
   ]
  }
 ],
 "metadata": {
  "kernelspec": {
   "display_name": "Python 3",
   "language": "python",
   "name": "python3"
  },
  "language_info": {
   "codemirror_mode": {
    "name": "ipython",
    "version": 3
   },
   "file_extension": ".py",
   "mimetype": "text/x-python",
   "name": "python",
   "nbconvert_exporter": "python",
   "pygments_lexer": "ipython3",
   "version": "3.7.4"
  }
 },
 "nbformat": 4,
 "nbformat_minor": 2
}
