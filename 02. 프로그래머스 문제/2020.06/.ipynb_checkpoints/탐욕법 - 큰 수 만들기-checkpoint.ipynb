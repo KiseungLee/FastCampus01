{
 "cells": [
  {
   "cell_type": "code",
   "execution_count": 99,
   "metadata": {},
   "outputs": [],
   "source": [
    "number = '4177252841'\n",
    "k = 4"
   ]
  },
  {
   "cell_type": "code",
   "execution_count": 100,
   "metadata": {},
   "outputs": [
    {
     "name": "stdout",
     "output_type": "stream",
     "text": [
      "775841\n"
     ]
    }
   ],
   "source": [
    "# number는 앞에서부터 훑기만 하면 됨. 넣었다가 뺐다가 할 필요 없으므로 deque 까지 안써도 됨\n",
    "def solution(number, k):\n",
    "    stack = []\n",
    "    for n in number:\n",
    "        while k>0 and stack and stack[-1]<n:\n",
    "            stack.pop()\n",
    "            k -= 1\n",
    "        stack.append(n)\n",
    "    # k를 다 깎지 않았을 경우 stack[:-k]를 리턴하는건 파이썬이라 가능한 보너스 \n",
    "    return (''.join(stack[:-k]) if k!=0 else ''.join(stack))"
   ]
  },
  {
   "cell_type": "code",
   "execution_count": 96,
   "metadata": {},
   "outputs": [
    {
     "data": {
      "text/plain": [
       "['9', '9', '1', '1', '1', '1']"
      ]
     },
     "execution_count": 96,
     "metadata": {},
     "output_type": "execute_result"
    }
   ],
   "source": [
    "stack"
   ]
  },
  {
   "cell_type": "code",
   "execution_count": null,
   "metadata": {},
   "outputs": [],
   "source": []
  },
  {
   "cell_type": "code",
   "execution_count": null,
   "metadata": {},
   "outputs": [],
   "source": []
  },
  {
   "cell_type": "code",
   "execution_count": 80,
   "metadata": {},
   "outputs": [],
   "source": [
    "from queue import deque\n",
    "\n",
    "def solution(number, k):\n",
    "    count = k\n",
    "    number_deque = deque(list(number))\n",
    "    stack = []\n",
    "\n",
    "    while count>0 and number_deque:\n",
    "        while count>0 and stack and stack[-1]<number_deque[0]:\n",
    "            stack.pop()\n",
    "            count -= 1\n",
    "        stack.append(number_deque.popleft())\n",
    "\n",
    "    while number_deque:\n",
    "        stack.append(number_deque.popleft())\n",
    "\n",
    "    if len(stack) > len(number)-count:\n",
    "        return ( ''.join(stack[:len(number)-count]) )\n",
    "    else:\n",
    "        return ( ''.join(stack) )"
   ]
  },
  {
   "cell_type": "code",
   "execution_count": 81,
   "metadata": {},
   "outputs": [
    {
     "data": {
      "text/plain": [
       "'775841'"
      ]
     },
     "execution_count": 81,
     "metadata": {},
     "output_type": "execute_result"
    }
   ],
   "source": [
    "solution(number, k)"
   ]
  },
  {
   "cell_type": "code",
   "execution_count": 71,
   "metadata": {},
   "outputs": [
    {
     "data": {
      "text/plain": [
       "['9', '9', '9', '1', '1', '1']"
      ]
     },
     "execution_count": 71,
     "metadata": {},
     "output_type": "execute_result"
    }
   ],
   "source": [
    "stack"
   ]
  },
  {
   "cell_type": "code",
   "execution_count": null,
   "metadata": {},
   "outputs": [],
   "source": []
  },
  {
   "cell_type": "code",
   "execution_count": null,
   "metadata": {},
   "outputs": [],
   "source": []
  },
  {
   "cell_type": "code",
   "execution_count": 48,
   "metadata": {},
   "outputs": [],
   "source": [
    "def solution(number, k):\n",
    "    # 최종적으로 m 개의 수가 남는다.\n",
    "    m = len(number)-k\n",
    "    # 뺀 갯수\n",
    "    count = 0\n",
    "    # k개 만큼 뺄때 까지 진행\n",
    "    while (count < k):\n",
    "        is_break = True\n",
    "        for i in range(len(number)):\n",
    "            # numbers의 i번째를 빼고 m개를 취한 것 vs i번째를 안빼고 m개를 취한 것\n",
    "            # 빼는게 더 크면 빼고 count += 1 해줌\n",
    "            if int((number[:i]+number[i+1:])[:m]) > int(number[:m]):\n",
    "                count += 1\n",
    "                number = (number[:i]+number[i+1:])\n",
    "                is_break = False \n",
    "                break\n",
    "        # number를 다 돌았는데 뺄 필요가 없을 때(앞의 m개를 뽑을 때가 제일 큰 경우)\n",
    "        if is_break:\n",
    "            break\n",
    "\n",
    "    return (number[:m])"
   ]
  },
  {
   "cell_type": "code",
   "execution_count": 49,
   "metadata": {},
   "outputs": [
    {
     "data": {
      "text/plain": [
       "'775841'"
      ]
     },
     "execution_count": 49,
     "metadata": {},
     "output_type": "execute_result"
    }
   ],
   "source": [
    "solution(number, k)"
   ]
  },
  {
   "cell_type": "code",
   "execution_count": 40,
   "metadata": {},
   "outputs": [
    {
     "data": {
      "text/plain": [
       "'01'"
      ]
     },
     "execution_count": 40,
     "metadata": {},
     "output_type": "execute_result"
    }
   ],
   "source": [
    "(temp[:5]+temp[5+1:])[:2]"
   ]
  },
  {
   "cell_type": "code",
   "execution_count": null,
   "metadata": {},
   "outputs": [],
   "source": []
  }
 ],
 "metadata": {
  "kernelspec": {
   "display_name": "Python 3",
   "language": "python",
   "name": "python3"
  },
  "language_info": {
   "codemirror_mode": {
    "name": "ipython",
    "version": 3
   },
   "file_extension": ".py",
   "mimetype": "text/x-python",
   "name": "python",
   "nbconvert_exporter": "python",
   "pygments_lexer": "ipython3",
   "version": "3.7.4"
  }
 },
 "nbformat": 4,
 "nbformat_minor": 2
}
