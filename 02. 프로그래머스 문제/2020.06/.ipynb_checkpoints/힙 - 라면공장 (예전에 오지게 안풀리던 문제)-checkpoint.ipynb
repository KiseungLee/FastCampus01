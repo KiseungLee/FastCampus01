{
 "cells": [
  {
   "cell_type": "code",
   "execution_count": 15,
   "metadata": {},
   "outputs": [],
   "source": [
    "stock = 4\n",
    "dates = [4, 10, 15]\n",
    "supplies = [20, 5, 10]\n",
    "k = 30"
   ]
  },
  {
   "cell_type": "code",
   "execution_count": 16,
   "metadata": {},
   "outputs": [],
   "source": [
    "import heapq\n",
    "\n",
    "def solution(stock, dates, supplies, k):\n",
    "    dates.append(k)\n",
    "    supplies.append(0)\n",
    "    max_heap = []\n",
    "    count = 0\n",
    "    for day, supply in zip(dates, supplies):\n",
    "        # 현재 확보한 stock으로 부족하면 max_heap에서 큰거 순으로 꺼내 지원 받음\n",
    "        while (day>stock):\n",
    "            stock += -heapq.heappop(max_heap)\n",
    "            count += 1\n",
    "        # 지금껀 max_heap에 넣고\n",
    "        heapq.heappush(max_heap, -supply)\n",
    "\n",
    "    return (count)"
   ]
  },
  {
   "cell_type": "code",
   "execution_count": 17,
   "metadata": {},
   "outputs": [
    {
     "data": {
      "text/plain": [
       "2"
      ]
     },
     "execution_count": 17,
     "metadata": {},
     "output_type": "execute_result"
    }
   ],
   "source": [
    "solution(stock, dates, supplies, k)"
   ]
  },
  {
   "cell_type": "code",
   "execution_count": null,
   "metadata": {},
   "outputs": [],
   "source": []
  }
 ],
 "metadata": {
  "kernelspec": {
   "display_name": "Python 3",
   "language": "python",
   "name": "python3"
  },
  "language_info": {
   "codemirror_mode": {
    "name": "ipython",
    "version": 3
   },
   "file_extension": ".py",
   "mimetype": "text/x-python",
   "name": "python",
   "nbconvert_exporter": "python",
   "pygments_lexer": "ipython3",
   "version": "3.7.4"
  }
 },
 "nbformat": 4,
 "nbformat_minor": 2
}
