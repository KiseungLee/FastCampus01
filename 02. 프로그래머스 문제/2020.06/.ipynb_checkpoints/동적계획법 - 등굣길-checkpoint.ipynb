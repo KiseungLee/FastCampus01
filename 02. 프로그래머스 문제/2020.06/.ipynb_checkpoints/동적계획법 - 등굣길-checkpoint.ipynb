{
 "cells": [
  {
   "cell_type": "code",
   "execution_count": null,
   "metadata": {},
   "outputs": [],
   "source": [
    "# 이전 풀이\n",
    "def solution(m, n, puddles):\n",
    "    dp = [[0]*(m+1) for _ in range(n+1)]\n",
    "    dp[1][1] = 1\n",
    "    \n",
    "    for puddle in puddles:\n",
    "        dp[puddle[1]][puddle[0]] = -1\n",
    "        \n",
    "    for i in range(1, n+1):\n",
    "        for j in range(1, m+1):\n",
    "            if dp[i][j]!=-1 and not (i==1 and j==1):\n",
    "                if dp[i][j-1]!=-1:\n",
    "                    dp[i][j] += dp[i][j-1]\n",
    "                if dp[i-1][j]!=-1:\n",
    "                    dp[i][j] += dp[i-1][j]\n",
    "                \n",
    "    return dp[-1][-1]"
   ]
  },
  {
   "cell_type": "code",
   "execution_count": 9,
   "metadata": {},
   "outputs": [],
   "source": [
    "m = 4\n",
    "n = 3\n",
    "puddles = [[2, 2]]"
   ]
  },
  {
   "cell_type": "code",
   "execution_count": 10,
   "metadata": {},
   "outputs": [],
   "source": [
    "def solution(m, n, puddles):\n",
    "    dp = [[-1]*n for _ in range(m)]\n",
    "    dp[0][0] = 1\n",
    "    for puddle in puddles:\n",
    "        dp[puddle[0]-1][puddle[1]-1] = 0\n",
    "        \n",
    "    for x in range(m):\n",
    "        for y in range(n):\n",
    "            if not ( x==0 and y==0 ) and dp[x][y] != 0:\n",
    "                if x==0:\n",
    "                    dp[x][y] = dp[x][y-1]\n",
    "                elif y==0:\n",
    "                    dp[x][y] = dp[x-1][y]\n",
    "                else:\n",
    "                    dp[x][y] = dp[x-1][y]+dp[x][y-1] % 1000000007\n",
    "                    \n",
    "    return dp[-1][-1] % 1000000007"
   ]
  },
  {
   "cell_type": "code",
   "execution_count": 11,
   "metadata": {},
   "outputs": [],
   "source": []
  },
  {
   "cell_type": "code",
   "execution_count": 12,
   "metadata": {},
   "outputs": [],
   "source": []
  },
  {
   "cell_type": "code",
   "execution_count": 13,
   "metadata": {},
   "outputs": [
    {
     "data": {
      "text/plain": [
       "[[1, 1, 1], [1, 0, 1], [1, 1, 2], [1, 2, 4]]"
      ]
     },
     "execution_count": 13,
     "metadata": {},
     "output_type": "execute_result"
    }
   ],
   "source": []
  },
  {
   "cell_type": "code",
   "execution_count": null,
   "metadata": {},
   "outputs": [],
   "source": []
  }
 ],
 "metadata": {
  "kernelspec": {
   "display_name": "Python 3",
   "language": "python",
   "name": "python3"
  },
  "language_info": {
   "codemirror_mode": {
    "name": "ipython",
    "version": 3
   },
   "file_extension": ".py",
   "mimetype": "text/x-python",
   "name": "python",
   "nbconvert_exporter": "python",
   "pygments_lexer": "ipython3",
   "version": "3.7.4"
  }
 },
 "nbformat": 4,
 "nbformat_minor": 2
}
