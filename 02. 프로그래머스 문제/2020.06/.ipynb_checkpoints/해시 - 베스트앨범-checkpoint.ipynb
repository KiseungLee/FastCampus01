{
 "cells": [
  {
   "cell_type": "code",
   "execution_count": 2,
   "metadata": {},
   "outputs": [],
   "source": [
    "genres = ['classic', 'pop', 'classic', 'classic', 'pop']\n",
    "plays = [500, 600, 150, 800, 2500]"
   ]
  },
  {
   "cell_type": "code",
   "execution_count": 30,
   "metadata": {
    "scrolled": true
   },
   "outputs": [
    {
     "name": "stdout",
     "output_type": "stream",
     "text": [
      "pop 3100\n",
      "2\n",
      "classic 1450\n",
      "3\n"
     ]
    }
   ],
   "source": [
    "from queue import PriorityQueue\n",
    "from collections import Counter\n",
    "\n",
    "def solution(genres, plays):\n",
    "    indexes = range(len(plays))\n",
    "    genre_counter = Counter()\n",
    "    play_dic = {}\n",
    "    for (genre, play, index) in zip (genres, plays, indexes):\n",
    "        genre_counter[genre] += play\n",
    "        if genre not in play_dic:\n",
    "            play_dic[genre] = PriorityQueue()\n",
    "        play_dic[genre].put((-play, index))\n",
    "\n",
    "    sorted_list = sorted(list(genre_counter.items()), key=lambda x:-x[1])\n",
    "    result = []\n",
    "    for genre, play_total in sorted_list:\n",
    "        if not play_dic[genre].empty():\n",
    "            result.append(play_dic[genre].get()[1])\n",
    "        if not play_dic[genre].empty():\n",
    "            result.append(play_dic[genre].get()[1])\n",
    "            \n",
    "    return result"
   ]
  },
  {
   "cell_type": "code",
   "execution_count": null,
   "metadata": {},
   "outputs": [],
   "source": []
  }
 ],
 "metadata": {
  "kernelspec": {
   "display_name": "Python 3",
   "language": "python",
   "name": "python3"
  },
  "language_info": {
   "codemirror_mode": {
    "name": "ipython",
    "version": 3
   },
   "file_extension": ".py",
   "mimetype": "text/x-python",
   "name": "python",
   "nbconvert_exporter": "python",
   "pygments_lexer": "ipython3",
   "version": "3.7.4"
  }
 },
 "nbformat": 4,
 "nbformat_minor": 2
}
