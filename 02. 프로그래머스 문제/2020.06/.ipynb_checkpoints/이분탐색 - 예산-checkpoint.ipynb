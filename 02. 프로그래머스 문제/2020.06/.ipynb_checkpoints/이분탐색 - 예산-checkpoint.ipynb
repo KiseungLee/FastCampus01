{
 "cells": [
  {
   "cell_type": "code",
   "execution_count": null,
   "metadata": {},
   "outputs": [],
   "source": [
    "# 다른 사람 풀이 이게 뭐여\n",
    "# 효율성 테스트가 재밌음. 내 풀이보다 사이즈가 작은 테스트에선 느린데 사이즈가 큰 테스트(2, 3 번)에선 더 빠름\n",
    "def solution(budgets, M):\n",
    "    budgets.sort()\n",
    "    l = len(budgets)\n",
    "    cap = 0\n",
    "    for i, budget in enumerate(budgets):\n",
    "        level = (budget - cap) * (l - i)\n",
    "        if level <= M:\n",
    "            cap = budget\n",
    "            M -= level\n",
    "        else:\n",
    "            cap += M // (l - i)\n",
    "            break\n",
    "    return cap"
   ]
  },
  {
   "cell_type": "code",
   "execution_count": null,
   "metadata": {},
   "outputs": [],
   "source": [
    "효율성  테스트\n",
    "테스트 1 〉\t통과 (0.57ms, 11.1MB)\n",
    "테스트 2 〉\t통과 (9.36ms, 49.7MB)\n",
    "테스트 3 〉\t통과 (1.38ms, 12MB)\n",
    "테스트 4 〉\t통과 (0.82ms, 11MB)\n",
    "테스트 5 〉\t통과 (1.51ms, 11.5MB)"
   ]
  },
  {
   "cell_type": "code",
   "execution_count": null,
   "metadata": {},
   "outputs": [],
   "source": []
  },
  {
   "cell_type": "code",
   "execution_count": null,
   "metadata": {},
   "outputs": [],
   "source": [
    "    1. left<=right\n",
    "    2. mid = (left+right)//2\n",
    "    3. left = mid+1\n",
    "    4. right = mid-1\n",
    "    5. 여기서\n",
    "        1. 가능한 최댓값 찾기 : right 가져옴\n",
    "        2. 가능한 최솟값 찾기 : left 가져옴"
   ]
  },
  {
   "cell_type": "code",
   "execution_count": 2,
   "metadata": {},
   "outputs": [],
   "source": [
    "budgets = [120, 110, 140, 150]\n",
    "M = 485"
   ]
  },
  {
   "cell_type": "code",
   "execution_count": 3,
   "metadata": {},
   "outputs": [],
   "source": [
    "def is_possible(budgets, M, m):\n",
    "    sum_budget = 0\n",
    "    for budget in budgets:\n",
    "        sum_budget += budget if budget<=m else m\n",
    "    if sum_budget <= M:\n",
    "        return True\n",
    "    else:\n",
    "        return False"
   ]
  },
  {
   "cell_type": "code",
   "execution_count": 4,
   "metadata": {},
   "outputs": [],
   "source": [
    "def solution(budgets, M):\n",
    "    # 상한 없어도 되는 경우\n",
    "    if sum(budgets) <= M:\n",
    "        return max(budgets)\n",
    "    # 상한 필요한 경우\n",
    "    left = 0\n",
    "    right = 1000000000\n",
    "    while left <= right:\n",
    "        mid = (left+right)//2\n",
    "        if is_possible(budgets, M, mid):\n",
    "            left = mid + 1\n",
    "        else:\n",
    "            right = mid -1\n",
    "    return right"
   ]
  },
  {
   "cell_type": "code",
   "execution_count": null,
   "metadata": {},
   "outputs": [],
   "source": [
    "효율성  테스트\n",
    "테스트 1 〉\t통과 (0.11ms, 11MB)\n",
    "테스트 2 〉\t통과 (87.79ms, 50.3MB)\n",
    "테스트 3 〉\t통과 (9.98ms, 11.9MB)\n",
    "테스트 4 〉\t통과 (0.12ms, 11.1MB)\n",
    "테스트 5 〉\t통과 (0.22ms, 11.4MB)"
   ]
  },
  {
   "cell_type": "code",
   "execution_count": 5,
   "metadata": {},
   "outputs": [
    {
     "data": {
      "text/plain": [
       "127"
      ]
     },
     "execution_count": 5,
     "metadata": {},
     "output_type": "execute_result"
    }
   ],
   "source": [
    "solution(budgets, M)"
   ]
  },
  {
   "cell_type": "code",
   "execution_count": null,
   "metadata": {},
   "outputs": [],
   "source": []
  }
 ],
 "metadata": {
  "kernelspec": {
   "display_name": "Python 3",
   "language": "python",
   "name": "python3"
  },
  "language_info": {
   "codemirror_mode": {
    "name": "ipython",
    "version": 3
   },
   "file_extension": ".py",
   "mimetype": "text/x-python",
   "name": "python",
   "nbconvert_exporter": "python",
   "pygments_lexer": "ipython3",
   "version": "3.7.4"
  }
 },
 "nbformat": 4,
 "nbformat_minor": 2
}
