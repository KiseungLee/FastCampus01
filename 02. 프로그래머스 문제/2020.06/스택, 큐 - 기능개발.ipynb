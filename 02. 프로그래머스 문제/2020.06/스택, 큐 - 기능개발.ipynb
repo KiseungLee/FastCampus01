{
 "cells": [
  {
   "cell_type": "code",
   "execution_count": 44,
   "metadata": {},
   "outputs": [],
   "source": [
    "progresses = [93,30,55]\n",
    "speeds = [1,30,5]"
   ]
  },
  {
   "cell_type": "code",
   "execution_count": 45,
   "metadata": {},
   "outputs": [],
   "source": [
    "# 70//30 = 2\n",
    "# -70//30 = -3\n",
    "# - (-70//30) = 3 해주면 ceil 연산할 필요 없이 작업을 완료하는데 필요한 일 수를 구할 수 있다.\n",
    "# 이건 진짜 수학적 센스네"
   ]
  },
  {
   "cell_type": "code",
   "execution_count": null,
   "metadata": {},
   "outputs": [],
   "source": []
  },
  {
   "cell_type": "code",
   "execution_count": 46,
   "metadata": {},
   "outputs": [],
   "source": [
    "def solution(progresses, speeds):\n",
    "    days = [ -(p-100)//s for p, s in zip(progresses, speeds)] # 각 기능들의 배포 예정일\n",
    "    result = []\n",
    "    deploy_day = 0  # 배포일\n",
    "    for day in days:\n",
    "        if result and day <= deploy_day:\n",
    "            result[-1] += 1\n",
    "        else:\n",
    "            result.append(1)\n",
    "            deploy_day = day\n",
    "    return result\n",
    "        "
   ]
  },
  {
   "cell_type": "code",
   "execution_count": 47,
   "metadata": {},
   "outputs": [
    {
     "data": {
      "text/plain": [
       "[2, 1]"
      ]
     },
     "execution_count": 47,
     "metadata": {},
     "output_type": "execute_result"
    }
   ],
   "source": [
    "solution(progresses, speeds)"
   ]
  },
  {
   "cell_type": "code",
   "execution_count": 28,
   "metadata": {},
   "outputs": [
    {
     "data": {
      "text/plain": [
       "[7, 2, 9]"
      ]
     },
     "execution_count": 28,
     "metadata": {},
     "output_type": "execute_result"
    }
   ],
   "source": [
    "days"
   ]
  },
  {
   "cell_type": "code",
   "execution_count": 7,
   "metadata": {},
   "outputs": [
    {
     "name": "stdout",
     "output_type": "stream",
     "text": [
      "[2, 1]\n"
     ]
    }
   ],
   "source": [
    "from queue import deque\n",
    "\n",
    "def solution(progresses, speeds):\n",
    "    time = 0\n",
    "    progresses = deque(progresses)\n",
    "    speeds = deque(speeds)\n",
    "    result = []\n",
    "    while (progresses):\n",
    "        deploy_once = 0\n",
    "        time += 1\n",
    "        while (progresses and progresses[0] + speeds[0] * time >= 100):\n",
    "            deploy_once += 1\n",
    "            progresses.popleft()\n",
    "            speeds.popleft()\n",
    "        if deploy_once > 0:\n",
    "            result.append(deploy_once)\n",
    "    return (result)\n"
   ]
  },
  {
   "cell_type": "code",
   "execution_count": 9,
   "metadata": {},
   "outputs": [],
   "source": [
    "from queue import deque\n",
    "\n",
    "def solution(progresses, speeds):\n",
    "    time = 0\n",
    "    idx = 0\n",
    "    result = []\n",
    "    while (idx < len(progresses)):\n",
    "        deploy_once = 0\n",
    "        time += 1\n",
    "        while (idx < len(progresses) and progresses[idx] + speeds[idx] * time >= 100):\n",
    "            deploy_once += 1\n",
    "            idx += 1\n",
    "        if deploy_once > 0:\n",
    "            result.append(deploy_once)\n",
    "    return (result)\n"
   ]
  },
  {
   "cell_type": "code",
   "execution_count": null,
   "metadata": {},
   "outputs": [],
   "source": []
  },
  {
   "cell_type": "code",
   "execution_count": 10,
   "metadata": {},
   "outputs": [
    {
     "data": {
      "text/plain": [
       "[2, 1]"
      ]
     },
     "execution_count": 10,
     "metadata": {},
     "output_type": "execute_result"
    }
   ],
   "source": [
    "solution(progresses, speeds)"
   ]
  },
  {
   "cell_type": "code",
   "execution_count": null,
   "metadata": {},
   "outputs": [],
   "source": []
  }
 ],
 "metadata": {
  "kernelspec": {
   "display_name": "Python 3",
   "language": "python",
   "name": "python3"
  },
  "language_info": {
   "codemirror_mode": {
    "name": "ipython",
    "version": 3
   },
   "file_extension": ".py",
   "mimetype": "text/x-python",
   "name": "python",
   "nbconvert_exporter": "python",
   "pygments_lexer": "ipython3",
   "version": "3.7.4"
  }
 },
 "nbformat": 4,
 "nbformat_minor": 2
}
