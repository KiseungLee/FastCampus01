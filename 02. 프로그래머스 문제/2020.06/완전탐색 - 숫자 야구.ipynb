{
 "cells": [
  {
   "cell_type": "code",
   "execution_count": 30,
   "metadata": {},
   "outputs": [],
   "source": [
    "# 123 -> 1스트라이크 1볼, 356 -> 1스트라이크 0볼\n",
    "baseball = [[123, 1, 1], [356, 1, 0], [327, 2, 0], [489, 0, 1]]\t"
   ]
  },
  {
   "cell_type": "code",
   "execution_count": 31,
   "metadata": {},
   "outputs": [],
   "source": [
    "from itertools import permutations\n",
    "\n",
    "def is_possible(num1, num2, strike, ball):\n",
    "    num1 = str(num1)\n",
    "    num2 = str(num2)\n",
    "    strike_cal = int(num1[0]==num2[0]) + int(num1[1]==num2[1]) + int(num1[2]==num2[2])\n",
    "    ball_cal = int(num1[0]==num2[1]) + int(num1[0]==num2[2]) + int(num1[1]==num2[0]) + int(num1[1]==num2[2]) + int(num1[2]==num2[0]) + int(num1[2]==num2[1])\n",
    "    if strike_cal!=strike or ball_cal!=ball:\n",
    "        return False\n",
    "    else:\n",
    "        return True\n",
    "    \n",
    "def solution(baseball):\n",
    "    # 가능한 숫자 리스트 뽑기\n",
    "    numbers = list(range(1,10))\n",
    "    candidates = set()\n",
    "    for nums in permutations(numbers, 3):\n",
    "        candidates.add(nums[0]*100 + nums[1]*10 + nums[2])\n",
    "\n",
    "    # 질문들 돌면서 가능하지 않은 것들 지우기\n",
    "    for question in baseball:\n",
    "        fail_candidates = set()\n",
    "        for candidate in candidates:\n",
    "            if not is_possible(candidate, question[0], question[1], question[2]):\n",
    "                fail_candidates.add(candidate)\n",
    "        candidates -= fail_candidates\n",
    "        \n",
    "    return len(candidates)"
   ]
  },
  {
   "cell_type": "code",
   "execution_count": 27,
   "metadata": {},
   "outputs": [],
   "source": []
  },
  {
   "cell_type": "code",
   "execution_count": 21,
   "metadata": {},
   "outputs": [],
   "source": [
    "def is_possible(num1, num2, strike, ball):\n",
    "    num1 = str(num1)\n",
    "    num2 = str(num2)\n",
    "    strike_cal = -(-(num1[0]^num2[0])//10) -(-(num1[1]^num2[1])//10) -(-(num1[2]^num2[2])//10)\n",
    "    ball_cal = -(-(num1[0]^num2[1])//10) -(-(num1[0]^num2[2])//10) -(-(num1[1]^num2[0])//10) -(-(num1[1]^num2[2])//10) -(-(num1[2]^num2[0])//10) -(-(num1[2]^num2[1])//10)\n",
    "    if strike_cal!=strike or ball_cal!=ball:\n",
    "        return False\n",
    "    else:\n",
    "        return True"
   ]
  },
  {
   "cell_type": "code",
   "execution_count": 11,
   "metadata": {},
   "outputs": [
    {
     "name": "stdout",
     "output_type": "stream",
     "text": [
      "123\n"
     ]
    },
    {
     "ename": "RuntimeError",
     "evalue": "Set changed size during iteration",
     "output_type": "error",
     "traceback": [
      "\u001b[1;31m---------------------------------------------------------------------------\u001b[0m",
      "\u001b[1;31mRuntimeError\u001b[0m                              Traceback (most recent call last)",
      "\u001b[1;32m<ipython-input-11-5bfc97fb6bab>\u001b[0m in \u001b[0;36m<module>\u001b[1;34m\u001b[0m\n\u001b[1;32m----> 1\u001b[1;33m \u001b[1;32mfor\u001b[0m \u001b[0mnum\u001b[0m \u001b[1;32min\u001b[0m \u001b[0mcandidates\u001b[0m\u001b[1;33m:\u001b[0m\u001b[1;33m\u001b[0m\u001b[1;33m\u001b[0m\u001b[0m\n\u001b[0m\u001b[0;32m      2\u001b[0m     \u001b[1;32mif\u001b[0m \u001b[0mnum\u001b[0m\u001b[1;33m%\u001b[0m\u001b[1;36m10\u001b[0m \u001b[1;33m==\u001b[0m \u001b[1;36m3\u001b[0m\u001b[1;33m:\u001b[0m\u001b[1;33m\u001b[0m\u001b[1;33m\u001b[0m\u001b[0m\n\u001b[0;32m      3\u001b[0m         \u001b[0mcandidates\u001b[0m\u001b[1;33m.\u001b[0m\u001b[0mdiscard\u001b[0m\u001b[1;33m(\u001b[0m\u001b[0mnum\u001b[0m\u001b[1;33m)\u001b[0m\u001b[1;33m\u001b[0m\u001b[1;33m\u001b[0m\u001b[0m\n\u001b[0;32m      4\u001b[0m     \u001b[0mprint\u001b[0m\u001b[1;33m(\u001b[0m\u001b[0mnum\u001b[0m\u001b[1;33m)\u001b[0m\u001b[1;33m\u001b[0m\u001b[1;33m\u001b[0m\u001b[0m\n",
      "\u001b[1;31mRuntimeError\u001b[0m: Set changed size during iteration"
     ]
    }
   ],
   "source": [
    "for num in candidates:\n",
    "    if num%10 == 3:\n",
    "        candidates.discard(num)\n",
    "    print(num)"
   ]
  },
  {
   "cell_type": "code",
   "execution_count": 15,
   "metadata": {},
   "outputs": [
    {
     "data": {
      "text/plain": [
       "0"
      ]
     },
     "execution_count": 15,
     "metadata": {},
     "output_type": "execute_result"
    }
   ],
   "source": [
    "int(bool(10^10))"
   ]
  },
  {
   "cell_type": "code",
   "execution_count": 17,
   "metadata": {},
   "outputs": [
    {
     "data": {
      "text/plain": [
       "1"
      ]
     },
     "execution_count": 17,
     "metadata": {},
     "output_type": "execute_result"
    }
   ],
   "source": [
    "-(-3//10)"
   ]
  },
  {
   "cell_type": "code",
   "execution_count": 26,
   "metadata": {},
   "outputs": [
    {
     "data": {
      "text/plain": [
       "1"
      ]
     },
     "execution_count": 26,
     "metadata": {},
     "output_type": "execute_result"
    }
   ],
   "source": [
    "int('c'=='c')"
   ]
  },
  {
   "cell_type": "code",
   "execution_count": null,
   "metadata": {},
   "outputs": [],
   "source": []
  }
 ],
 "metadata": {
  "kernelspec": {
   "display_name": "Python 3",
   "language": "python",
   "name": "python3"
  },
  "language_info": {
   "codemirror_mode": {
    "name": "ipython",
    "version": 3
   },
   "file_extension": ".py",
   "mimetype": "text/x-python",
   "name": "python",
   "nbconvert_exporter": "python",
   "pygments_lexer": "ipython3",
   "version": "3.7.4"
  }
 },
 "nbformat": 4,
 "nbformat_minor": 2
}
