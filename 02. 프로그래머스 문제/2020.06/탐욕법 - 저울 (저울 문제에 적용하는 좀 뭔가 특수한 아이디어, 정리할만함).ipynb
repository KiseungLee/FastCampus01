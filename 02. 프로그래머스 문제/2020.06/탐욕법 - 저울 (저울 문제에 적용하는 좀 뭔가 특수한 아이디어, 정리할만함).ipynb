{
 "cells": [
  {
   "cell_type": "code",
   "execution_count": 1,
   "metadata": {},
   "outputs": [],
   "source": [
    "weights = [3, 1, 6, 2, 7, 30, 1]\t"
   ]
  },
  {
   "cell_type": "code",
   "execution_count": null,
   "metadata": {},
   "outputs": [],
   "source": [
    "def solution(weights):\n",
    "    weights = sorted(weights)\n",
    "    sum_weight = 0\n",
    "    for weight in weights:\n",
    "        if weight - sum_weight > 1:\n",
    "            return sum_weight + 1\n",
    "        else:\n",
    "            sum_weight += weight\n",
    "    return sum_weight + 1"
   ]
  }
 ],
 "metadata": {
  "kernelspec": {
   "display_name": "Python 3",
   "language": "python",
   "name": "python3"
  },
  "language_info": {
   "codemirror_mode": {
    "name": "ipython",
    "version": 3
   },
   "file_extension": ".py",
   "mimetype": "text/x-python",
   "name": "python",
   "nbconvert_exporter": "python",
   "pygments_lexer": "ipython3",
   "version": "3.7.4"
  }
 },
 "nbformat": 4,
 "nbformat_minor": 2
}
