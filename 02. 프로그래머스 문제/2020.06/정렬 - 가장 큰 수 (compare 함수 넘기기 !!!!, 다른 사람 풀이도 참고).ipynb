{
 "cells": [
  {
   "cell_type": "code",
   "execution_count": 14,
   "metadata": {},
   "outputs": [],
   "source": [
    "numbers = [3, 30, 34, 5, 9]"
   ]
  },
  {
   "cell_type": "code",
   "execution_count": 15,
   "metadata": {},
   "outputs": [],
   "source": [
    "from functools import cmp_to_key\n",
    "\n",
    "def compare(x, y):\n",
    "    if str(x)+str(y) > str(y)+str(x):\n",
    "        return -1\n",
    "    else:\n",
    "        return 1\n",
    "\n",
    "def solution(numbers):\n",
    "    sorted_list = sorted(numbers, key=cmp_to_key(compare))\n",
    "    return ''.join(map(str, sorted_list)) if sorted_list[0]!= 0 else '0'"
   ]
  },
  {
   "cell_type": "code",
   "execution_count": null,
   "metadata": {},
   "outputs": [],
   "source": [
    "테스트 1 〉\t통과 (456.57ms, 61.4MB)\n",
    "테스트 2 〉\t통과 (242.34ms, 36.5MB)\n",
    "테스트 3 〉\t통과 (581.26ms, 80MB)\n",
    "테스트 4 〉\t통과 (9.26ms, 11.1MB)\n",
    "테스트 5 〉\t통과 (413.83ms, 55.3MB)\n",
    "테스트 6 〉\t통과 (353.35ms, 49.2MB)\n",
    "테스트 7 〉\t통과 (0.07ms, 10.7MB)\n",
    "테스트 8 〉\t통과 (0.06ms, 10.7MB)\n",
    "테스트 9 〉\t통과 (0.06ms, 10.8MB)\n",
    "테스트 10 〉\t통과 (0.06ms, 10.6MB)\n",
    "테스트 11 〉\t통과 (0.06ms, 10.7MB)"
   ]
  },
  {
   "cell_type": "code",
   "execution_count": 17,
   "metadata": {},
   "outputs": [],
   "source": [
    "# 수학적 센스를 배워야 할 것 같아 가져오긴 했지만 속도는 내 방법이 더 빠름\n",
    "def solution(numbers):\n",
    "    numbers = list(map(str, numbers))\n",
    "    numbers.sort(key=lambda x: x*3, reverse=True)\n",
    "    return str(int(''.join(numbers)))"
   ]
  },
  {
   "cell_type": "code",
   "execution_count": null,
   "metadata": {},
   "outputs": [],
   "source": [
    "테스트 1 〉\t통과 (793.36ms, 61.5MB)\n",
    "테스트 2 〉\t통과 (244.44ms, 36.6MB)\n",
    "테스트 3 〉\t통과 (1350.57ms, 79.3MB)\n",
    "테스트 4 〉\t통과 (1.78ms, 11.1MB)\n",
    "테스트 5 〉\t통과 (592.26ms, 55.4MB)\n",
    "테스트 6 〉\t통과 (484.13ms, 49.2MB)\n",
    "테스트 7 〉\t통과 (0.06ms, 10.8MB)\n",
    "테스트 8 〉\t통과 (0.07ms, 10.9MB)\n",
    "테스트 9 〉\t통과 (0.08ms, 10.8MB)\n",
    "테스트 10 〉\t통과 (0.07ms, 10.9MB)\n",
    "테스트 11 〉\t통과 (0.08ms, 10.8MB)"
   ]
  }
 ],
 "metadata": {
  "kernelspec": {
   "display_name": "Python 3",
   "language": "python",
   "name": "python3"
  },
  "language_info": {
   "codemirror_mode": {
    "name": "ipython",
    "version": 3
   },
   "file_extension": ".py",
   "mimetype": "text/x-python",
   "name": "python",
   "nbconvert_exporter": "python",
   "pygments_lexer": "ipython3",
   "version": "3.7.4"
  }
 },
 "nbformat": 4,
 "nbformat_minor": 2
}
