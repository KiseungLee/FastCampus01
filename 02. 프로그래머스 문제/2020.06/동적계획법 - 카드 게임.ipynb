{
 "cells": [
  {
   "cell_type": "code",
   "execution_count": 1,
   "metadata": {},
   "outputs": [],
   "source": [
    "left = [3, 2, 5]\n",
    "right = [2, 4, 1]"
   ]
  },
  {
   "cell_type": "code",
   "execution_count": 7,
   "metadata": {},
   "outputs": [],
   "source": [
    "# 한방에 품. 레전드\n",
    "\n",
    "# dp[x][y] : 왼쪽 카드중 뒤에서 x장, 오른쪽 카드 중 뒤에서 y장만 썼을때 가장 큰 점수\n",
    "# dp[1][1] : left=[5], right=[1] 일때 가장 큰 점수\n",
    "# dp[x][y] = max(dp[x-1][y], dp[x-1][y-1], (y번째 오른쪽 카드가 x번째 왼쪽 카드보다 작을 때) dp[x][y-1]+y번째오른쪽카드)\n",
    "\n",
    "def solution(left, right):\n",
    "    dp = [[0]*(len(left)+1) for _ in range(len(right)+1)]\n",
    "\n",
    "    for x in range(1, len(left)+1):\n",
    "        for y in range(1, len(right)+1):\n",
    "            if right[-y] < left[-x]:\n",
    "                dp[x][y] = max(dp[x-1][y], dp[x-1][y-1], dp[x][y-1]+right[-y])\n",
    "            else:\n",
    "                dp[x][y] = max(dp[x-1][y], dp[x-1][y-1])\n",
    "\n",
    "    return dp[-1][-1]"
   ]
  },
  {
   "cell_type": "code",
   "execution_count": 8,
   "metadata": {},
   "outputs": [
    {
     "data": {
      "text/plain": [
       "[[0, 0, 0, 0], [0, 1, 5, 7], [0, 1, 5, 7], [0, 1, 5, 7]]"
      ]
     },
     "execution_count": 8,
     "metadata": {},
     "output_type": "execute_result"
    }
   ],
   "source": [
    "효율성  테스트\n",
    "테스트 1 〉\t통과 (1619.11ms, 38.4MB)\n",
    "테스트 2 〉\t통과 (775.64ms, 25MB)\n",
    "테스트 3 〉\t통과 (640.38ms, 22.1MB)\n",
    "테스트 4 〉\t통과 (991.22ms, 27.7MB)\n",
    "테스트 5 〉\t통과 (594.90ms, 21.5MB)"
   ]
  },
  {
   "cell_type": "code",
   "execution_count": null,
   "metadata": {},
   "outputs": [],
   "source": []
  }
 ],
 "metadata": {
  "kernelspec": {
   "display_name": "Python 3",
   "language": "python",
   "name": "python3"
  },
  "language_info": {
   "codemirror_mode": {
    "name": "ipython",
    "version": 3
   },
   "file_extension": ".py",
   "mimetype": "text/x-python",
   "name": "python",
   "nbconvert_exporter": "python",
   "pygments_lexer": "ipython3",
   "version": "3.7.4"
  }
 },
 "nbformat": 4,
 "nbformat_minor": 2
}
