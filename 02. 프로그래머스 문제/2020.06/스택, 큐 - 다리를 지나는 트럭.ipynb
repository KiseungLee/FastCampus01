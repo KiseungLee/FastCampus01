{
 "cells": [
  {
   "cell_type": "code",
   "execution_count": 10,
   "metadata": {},
   "outputs": [],
   "source": [
    "bridge_length = 2\n",
    "weight = 10\n",
    "truck_weights = [7, 4, 5, 6]"
   ]
  },
  {
   "cell_type": "code",
   "execution_count": 11,
   "metadata": {},
   "outputs": [
    {
     "name": "stdout",
     "output_type": "stream",
     "text": [
      "8\n"
     ]
    }
   ],
   "source": [
    "from queue import deque\n",
    "\n",
    "def solution(bridge_length, weight, truck_weights):\n",
    "    next_truck_idx = 0 # 다음 트럭 index\n",
    "    weight_on_bridge = 0 # 현재 다리 위 트럭 무게 합\n",
    "    time = 0 # global time\n",
    "    \n",
    "    # 다리위 트럭 상황 (weight, 진입시간)\n",
    "    bridge_deque = deque() # \n",
    "    # 대기중인 트럭이 있거나 다리위에 트럭이 있으면 계속\n",
    "    while (next_truck_idx<len(truck_weights) or bridge_deque):\n",
    "        time += 1\n",
    "        # 내보내기 (현재 시간 - 다리위 가장 오래된 얘 진입시간 >= 다리 길이)\n",
    "        if bridge_deque and time - bridge_deque[0][1] >= bridge_length:\n",
    "            weight_on_bridge -= bridge_deque.popleft()[0]\n",
    "        # 들여오기 \n",
    "        if next_truck_idx < len(truck_weights) and weight_on_bridge + truck_weights[next_truck_idx] <= weight:\n",
    "            bridge_deque.append((truck_weights[next_truck_idx], time))\n",
    "            weight_on_bridge += truck_weights[next_truck_idx]\n",
    "            next_truck_idx += 1\n",
    "\n",
    "    return (time)"
   ]
  },
  {
   "cell_type": "code",
   "execution_count": 4,
   "metadata": {},
   "outputs": [
    {
     "data": {
      "text/plain": [
       "0"
      ]
     },
     "execution_count": 4,
     "metadata": {},
     "output_type": "execute_result"
    }
   ],
   "source": [
    "weight_on_bridge"
   ]
  },
  {
   "cell_type": "code",
   "execution_count": 5,
   "metadata": {},
   "outputs": [
    {
     "data": {
      "text/plain": [
       "110"
      ]
     },
     "execution_count": 5,
     "metadata": {},
     "output_type": "execute_result"
    }
   ],
   "source": [
    "time"
   ]
  },
  {
   "cell_type": "code",
   "execution_count": null,
   "metadata": {},
   "outputs": [],
   "source": []
  }
 ],
 "metadata": {
  "kernelspec": {
   "display_name": "Python 3",
   "language": "python",
   "name": "python3"
  },
  "language_info": {
   "codemirror_mode": {
    "name": "ipython",
    "version": 3
   },
   "file_extension": ".py",
   "mimetype": "text/x-python",
   "name": "python",
   "nbconvert_exporter": "python",
   "pygments_lexer": "ipython3",
   "version": "3.7.4"
  }
 },
 "nbformat": 4,
 "nbformat_minor": 2
}
