{
 "cells": [
  {
   "cell_type": "code",
   "execution_count": 14,
   "metadata": {},
   "outputs": [],
   "source": [
    "answers = [1,2,3,4,5]"
   ]
  },
  {
   "cell_type": "code",
   "execution_count": 15,
   "metadata": {},
   "outputs": [
    {
     "name": "stdout",
     "output_type": "stream",
     "text": [
      "[1]\n"
     ]
    }
   ],
   "source": [
    "def solution(answers):\n",
    "    stu1 = [1, 2, 3, 4, 5]\n",
    "    stu2 = [2, 1, 2, 3, 2, 4, 2, 5]\n",
    "    stu3 = [3, 3, 1, 1, 2, 2, 4, 4, 5, 5]\n",
    "    div1 = len(stu1)\n",
    "    div2 = len(stu2)\n",
    "    div3 = len(stu3)\n",
    "    corr = [0, 0, 0]\n",
    "\n",
    "    for idx, answer in enumerate(answers):\n",
    "        if answer == stu1[idx%div1]:\n",
    "            corr[0] += 1\n",
    "        if answer == stu2[idx%div2]:\n",
    "            corr[1] += 1\n",
    "        if answer == stu3[idx%div3]:\n",
    "            corr[2] += 1\n",
    "\n",
    "    max_count = max(corr)\n",
    "\n",
    "    result = []\n",
    "\n",
    "    for idx, count in enumerate(corr):\n",
    "        if max_count == count:\n",
    "            result.append(idx+1)\n",
    "\n",
    "    return (result)"
   ]
  },
  {
   "cell_type": "code",
   "execution_count": null,
   "metadata": {},
   "outputs": [],
   "source": []
  },
  {
   "cell_type": "code",
   "execution_count": null,
   "metadata": {},
   "outputs": [],
   "source": [
    "def solution(answer):\n",
    "    patt1 = [1,2,3,4,5] # 5개 \n",
    "    patt2 = [2,1,2,3,2,4,2,5] # 8개\n",
    "    patt3 = [3,3,1,1,2,2,4,4,5,5] # 10개\n",
    "    \n",
    "    correct = [0,0,0]\n",
    "    for idx in range(len(answer)):\n",
    "        num = answer[idx]\n",
    "        correct[0] += not bool(num^patt1[idx%5])\n",
    "        correct[1] += not bool(num^patt2[idx%8])\n",
    "        correct[2] += not bool(num^patt3[idx%10])\n",
    "    \n",
    "    max_num = max(correct)\n",
    "    result = []\n",
    "    for idx in range(len(correct)):\n",
    "        if correct[idx] == max_num:\n",
    "            result.append(idx+1)\n",
    "    \n",
    "    return result"
   ]
  }
 ],
 "metadata": {
  "kernelspec": {
   "display_name": "Python 3",
   "language": "python",
   "name": "python3"
  },
  "language_info": {
   "codemirror_mode": {
    "name": "ipython",
    "version": 3
   },
   "file_extension": ".py",
   "mimetype": "text/x-python",
   "name": "python",
   "nbconvert_exporter": "python",
   "pygments_lexer": "ipython3",
   "version": "3.7.4"
  }
 },
 "nbformat": 4,
 "nbformat_minor": 2
}
