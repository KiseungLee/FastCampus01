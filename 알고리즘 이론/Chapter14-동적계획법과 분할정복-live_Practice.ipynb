{
 "cells": [
  {
   "cell_type": "markdown",
   "metadata": {},
   "source": [
    "동적 계획법(Dynamic Programming) 과\n",
    "분할 정복(Divide and Conquer)\n",
    "\n",
    "약간 비슷한 면이 있어서 같이 감. 고급 정렬 알고리즘 할때 쓸거임\n",
    "\n",
    "동적 계획법은 가장 최하위 해답을 구하고 이를 저장해놨다가 이를 이용해 상위 문제를 푸는 것임. 상향식 접근법.\n",
    "이때 쓰는게 Memoization 기법임. 큰문제를 작은 문제로 나누고 작은 문제의 답을 기억해 뒀다가 큰 문제 풀 때 쓰는 것.\n",
    "\n",
    "동적계획법과 분할정복의 공통점은 큰 문제를 작은 문제로 쪼개는 거임.\n",
    "\n",
    "분할 정복도 일단 문제를 쪼개고 시작함. 대신 상위 문제를 해결하기 위해 작은 문제를 푸는 거임. 하향식 접근법.\n",
    "재귀함수로 많이 구현함.\n",
    "문제를 잘게 쪼갤때 부분 문제는 서로 중복되지 않음.\n",
    "병합정렬, 퀵 정렬이 분할 정복의 예임."
   ]
  },
  {
   "cell_type": "code",
   "execution_count": 13,
   "metadata": {},
   "outputs": [],
   "source": [
    "# 동적계획법의 예 - 피보나치 수열\n",
    "# 피보나치를 단순 재귀로 풀면 메모리 터짐.\n",
    "# 그래서 여기에 썼던게 Memoization. \n",
    "# 작은 단위의 문제들이 엄청 중복됨. \n",
    "\n",
    "# 단순 재귀 - 30쯤만 가도 컴터가 멈칫하는게 느껴짐.\n",
    "def fibo(num):\n",
    "    if num <= 1:\n",
    "        return num\n",
    "    return fibo(num-1) + fibo(num-2)"
   ]
  },
  {
   "cell_type": "code",
   "execution_count": 14,
   "metadata": {},
   "outputs": [
    {
     "name": "stdout",
     "output_type": "stream",
     "text": [
      "832040\n"
     ]
    }
   ],
   "source": [
    "print(fibo(30))"
   ]
  },
  {
   "cell_type": "code",
   "execution_count": 18,
   "metadata": {},
   "outputs": [],
   "source": [
    "# Dynamic Programming\n",
    "def fibo_dp(num):\n",
    "    cache = [0 for index in range(num+1)] # index가 0 ~ num이고 0으로 채워진 배열\n",
    "    cache[0] = 0\n",
    "    cache[1] = 1\n",
    "    \n",
    "    for index in range(2, num+1):\n",
    "        cache[index] = cache[index-1] + cache[index-2]\n",
    "    return cache[num]"
   ]
  },
  {
   "cell_type": "code",
   "execution_count": 22,
   "metadata": {},
   "outputs": [
    {
     "name": "stdout",
     "output_type": "stream",
     "text": [
      "43466557686937456435688527675040625802564660517371780402481729089536555417949051890403879840079255169295922593080322634775209689623239873322471161642996440906533187938298969649928516003704476137795166849228875\n"
     ]
    }
   ],
   "source": [
    "# 1000 넣어도 순식간임. 개빨라.\n",
    "print(fibo_dp(1000))"
   ]
  },
  {
   "cell_type": "code",
   "execution_count": null,
   "metadata": {},
   "outputs": [],
   "source": [
    "# 분할정복은 병렬정렬, 퀵 정렬 하면서  알아본다."
   ]
  }
 ],
 "metadata": {
  "kernelspec": {
   "display_name": "Python 3",
   "language": "python",
   "name": "python3"
  },
  "language_info": {
   "codemirror_mode": {
    "name": "ipython",
    "version": 3
   },
   "file_extension": ".py",
   "mimetype": "text/x-python",
   "name": "python",
   "nbconvert_exporter": "python",
   "pygments_lexer": "ipython3",
   "version": "3.7.4"
  }
 },
 "nbformat": 4,
 "nbformat_minor": 2
}
