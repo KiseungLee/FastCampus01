{
 "cells": [
  {
   "cell_type": "markdown",
   "metadata": {},
   "source": [
    "병합정렬도 퀵 정렬처럼 Divide and Conquer기법임.\n",
    "재귀용법 사용해서 list를 잘게 자름. \n",
    "잘게 자른 list를 합치며서 정렬함.\n",
    "\n",
    "---\n",
    "\n",
    "함수가 2개 필요함.\n",
    "나누는 함수, 합치는 함수"
   ]
  },
  {
   "cell_type": "code",
   "execution_count": 5,
   "metadata": {},
   "outputs": [],
   "source": [
    "def split(data):\n",
    "    medium = int(len(data)/2)\n",
    "    left = data[:medium]\n",
    "    right = data[medium:]\n",
    "    print(left, right)"
   ]
  },
  {
   "cell_type": "code",
   "execution_count": 6,
   "metadata": {},
   "outputs": [],
   "source": [
    "def mergesplit(data):\n",
    "    if len(data) <= 1:\n",
    "        return data\n",
    "    medium = int(len(data)/2)\n",
    "    left = mergesplit(data[:medium])\n",
    "    rihgt= mergesplit(data[medium:])\n",
    "    return merge(left, rihgt)\n",
    "    \n",
    "def merge(left, right):\n",
    "    merged = list()\n",
    "    left_point, right_point = 0, 0\n",
    "    \n",
    "    # case1 : left, right 둘다 남아 있을때\n",
    "    while len(left)>left_point and len(right)>right_point:\n",
    "        if left[left_point] > right[right_point]:\n",
    "            merged.append(right[right_point])\n",
    "            right_point += 1\n",
    "        else:\n",
    "            merged.append(left[left_point])\n",
    "            left_point += 1            \n",
    "        \n",
    "    # case2 : left만 남았을 때 \n",
    "    while len(left) > left_point:\n",
    "        merged.append(left[left_point])\n",
    "        left_point += 1\n",
    "        \n",
    "    # case3 : right만 남았을 때\n",
    "    while len(right) > right_point:\n",
    "        merged.append(right[right_point])\n",
    "        right_point += 1\n",
    "    \n",
    "    return merged"
   ]
  },
  {
   "cell_type": "code",
   "execution_count": 7,
   "metadata": {},
   "outputs": [
    {
     "name": "stdout",
     "output_type": "stream",
     "text": [
      "[8, 76, 130, 128, 117, 105, 161, 141, 21, 104, 106, 38, 123, 103, 163, 11, 154, 168, 159, 111, 93, 43, 183, 55, 187, 83, 0, 39, 146, 64, 4, 5, 97, 181, 25, 147, 13, 112, 46, 197, 182, 57, 195, 27, 160, 143, 40, 62, 179, 120, 84, 48, 87, 121, 116, 138, 170, 59, 88, 29, 7, 133, 194, 169, 2, 69, 26, 37, 94, 82, 165, 54, 86, 196, 31, 20, 98, 188, 132, 144, 189, 80, 51, 16, 102, 186, 124, 32, 148, 193, 58, 155, 178, 3, 109, 108, 77, 92, 145, 41]\n",
      "[0, 2, 3, 4, 5, 7, 8, 11, 13, 16, 20, 21, 25, 26, 27, 29, 31, 32, 37, 38, 39, 40, 41, 43, 46, 48, 51, 54, 55, 57, 58, 59, 62, 64, 69, 76, 77, 80, 82, 83, 84, 86, 87, 88, 92, 93, 94, 97, 98, 102, 103, 104, 105, 106, 108, 109, 111, 112, 116, 117, 120, 121, 123, 124, 128, 130, 132, 133, 138, 141, 143, 144, 145, 146, 147, 148, 154, 155, 159, 160, 161, 163, 165, 168, 169, 170, 178, 179, 181, 182, 183, 186, 187, 188, 189, 193, 194, 195, 196, 197]\n"
     ]
    }
   ],
   "source": [
    "import random\n",
    "data_list = random.sample(range(200), 100)\n",
    "print(data_list)\n",
    "print(mergesplit(data_list))"
   ]
  },
  {
   "cell_type": "markdown",
   "metadata": {},
   "source": [
    "다시 한 번 말하지만 병합 정렬은 Divide and Counquer의 대표 알고리즘이다.\n",
    "\n",
    "시간 복잡도 생각해보자. \n",
    "병합정렬 시간 복잡도 계산은 좀 까다롭다는데 별로 안까다로움.\n",
    "\n",
    "한 단계는O(n)만큼의 복잡도이고 단계는 log(n)개만큼 만들어짐. 2^n개씩 늘어나니까.\n",
    "그래서 복잡도는 O(n*log(n))이 되는거임"
   ]
  },
  {
   "cell_type": "code",
   "execution_count": null,
   "metadata": {},
   "outputs": [],
   "source": []
  }
 ],
 "metadata": {
  "kernelspec": {
   "display_name": "Python 3",
   "language": "python",
   "name": "python3"
  },
  "language_info": {
   "codemirror_mode": {
    "name": "ipython",
    "version": 3
   },
   "file_extension": ".py",
   "mimetype": "text/x-python",
   "name": "python",
   "nbconvert_exporter": "python",
   "pygments_lexer": "ipython3",
   "version": "3.7.4"
  }
 },
 "nbformat": 4,
 "nbformat_minor": 2
}
