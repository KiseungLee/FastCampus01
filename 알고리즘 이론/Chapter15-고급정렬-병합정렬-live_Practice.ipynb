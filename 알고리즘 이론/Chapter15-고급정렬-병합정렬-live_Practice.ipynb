{
 "cells": [
  {
   "cell_type": "markdown",
   "metadata": {},
   "source": [
    "병합정렬도 퀵 정렬처럼 Divide and Conquer기법임.\n",
    "재귀용법 사용해서 list를 잘게 자름. \n",
    "잘게 자른 list를 합치며서 정렬함.\n",
    "\n",
    "---\n",
    "\n",
    "함수가 2개 필요함.\n",
    "나누는 함수, 합치는 함수"
   ]
  },
  {
   "cell_type": "code",
   "execution_count": 1,
   "metadata": {},
   "outputs": [],
   "source": [
    "def split(data):\n",
    "    medium = int(len(data)/2)\n",
    "    left = data[:medium]\n",
    "    right = data[medium:]\n",
    "    print(left, right)\n",
    "    \n",
    "def mergesplit(data):\n",
    "    if len(data) <= 1:\n",
    "        return data\n",
    "    medium = int(len(data)/2)\n",
    "    left = mergesplit(data[:medium])\n",
    "    rihgt= mergesplit(data[medium:])\n",
    "    return merge(left, rihgt)\n",
    "    "
   ]
  },
  {
   "cell_type": "code",
   "execution_count": 3,
   "metadata": {},
   "outputs": [
    {
     "name": "stdout",
     "output_type": "stream",
     "text": [
      "[2, 3] [1, 2326, 3]\n"
     ]
    }
   ],
   "source": [
    "data_list = [2,3,1,2326,3]\n",
    "split(data_list)"
   ]
  },
  {
   "cell_type": "code",
   "execution_count": null,
   "metadata": {},
   "outputs": [],
   "source": []
  }
 ],
 "metadata": {
  "kernelspec": {
   "display_name": "Python 3",
   "language": "python",
   "name": "python3"
  },
  "language_info": {
   "codemirror_mode": {
    "name": "ipython",
    "version": 3
   },
   "file_extension": ".py",
   "mimetype": "text/x-python",
   "name": "python",
   "nbconvert_exporter": "python",
   "pygments_lexer": "ipython3",
   "version": "3.7.1"
  }
 },
 "nbformat": 4,
 "nbformat_minor": 2
}
