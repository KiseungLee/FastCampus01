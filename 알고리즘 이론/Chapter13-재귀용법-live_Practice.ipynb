{
 "cells": [
  {
   "cell_type": "markdown",
   "metadata": {},
   "source": [
    "고급 정렬 알고리즘에서 재귀 종종 씀\n",
    "\n",
    "알아보자!"
   ]
  },
  {
   "cell_type": "markdown",
   "metadata": {},
   "source": [
    "재귀로 팩토리얼을 만들어보자!"
   ]
  },
  {
   "cell_type": "markdown",
   "metadata": {},
   "source": [
    "재귀 호출은 스택의 전형적인 예임 \n",
    "\n",
    "이걸 알아두자. 딥한 내용들. \n",
    "\n",
    "스택 오버 플로우!!\n",
    "\n",
    "파이썬은 재귀 함수 깊이가 1000회 이하가 되어야 함.\n",
    "\n",
    "스택 오버 플로우!!"
   ]
  },
  {
   "cell_type": "code",
   "execution_count": 4,
   "metadata": {},
   "outputs": [
    {
     "name": "stdout",
     "output_type": "stream",
     "text": [
      "120\n",
      "120\n"
     ]
    }
   ],
   "source": [
    "# 재귀함수 연습!\n",
    "\n",
    "#1. 재귀 함수를 활용해서 1부터 num  까지의 곱이 출력되게 만들라\n",
    "def multiple(num):\n",
    "    if num>1:\n",
    "        return num*multiple(num-1)\n",
    "    elif num<0:\n",
    "        return False\n",
    "    else:\n",
    "        return num\n",
    "\n",
    "print(multiple(5))\n",
    "\n",
    "def multiple2(num):\n",
    "    return_value = 1\n",
    "    for index in range(1, num+1):\n",
    "        return_value = return_value*index\n",
    "    return return_value\n",
    "\n",
    "print(multiple2(5))"
   ]
  },
  {
   "cell_type": "code",
   "execution_count": 5,
   "metadata": {},
   "outputs": [],
   "source": [
    "#2. 리스트가 주어졌을때 리스트의 합을 재귀로 구하라."
   ]
  },
  {
   "cell_type": "code",
   "execution_count": 13,
   "metadata": {},
   "outputs": [],
   "source": [
    "#3. 회문을 판별하는 함수를 만들어 봐라.\n",
    "def palindrome(word):\n",
    "    front = 0\n",
    "    back = len(word)-1\n",
    "    while(front<back):\n",
    "        if word[front] != word[back]:\n",
    "            return False\n",
    "        front += 1\n",
    "        back -= 1\n",
    "    return True"
   ]
  },
  {
   "cell_type": "code",
   "execution_count": 14,
   "metadata": {},
   "outputs": [
    {
     "name": "stdout",
     "output_type": "stream",
     "text": [
      "False\n",
      "True\n",
      "True\n",
      "False\n",
      "False\n"
     ]
    }
   ],
   "source": [
    "print(palindrome(\"motor\"))\n",
    "print(palindrome(\"laval\"))\n",
    "print(palindrome(\"qweewq\"))\n",
    "print(palindrome(\"banana\"))\n",
    "print(palindrome(\"pave\"))"
   ]
  },
  {
   "cell_type": "code",
   "execution_count": 26,
   "metadata": {},
   "outputs": [],
   "source": [
    "def palindrome2(word):\n",
    "    if len(word)<=1:\n",
    "        return True\n",
    "    elif word[0]!=word[-1]:\n",
    "        return False\n",
    "    else:\n",
    "        return palindrome2(word[1:-1])"
   ]
  },
  {
   "cell_type": "code",
   "execution_count": 27,
   "metadata": {
    "scrolled": true
   },
   "outputs": [
    {
     "name": "stdout",
     "output_type": "stream",
     "text": [
      "False\n",
      "True\n",
      "True\n",
      "False\n",
      "False\n"
     ]
    }
   ],
   "source": [
    "print(palindrome2(\"motor\"))\n",
    "print(palindrome2(\"laval\"))\n",
    "print(palindrome2(\"qweewq\"))\n",
    "print(palindrome2(\"banana\"))\n",
    "print(palindrome2(\"pave\"))"
   ]
  },
  {
   "cell_type": "code",
   "execution_count": 28,
   "metadata": {},
   "outputs": [],
   "source": [
    "# 선생님 풀이\n",
    "def palindrome3(string):\n",
    "    if len(string) <= 1:\n",
    "        return True\n",
    "    if string[0] == string[-1]:\n",
    "        return palindrome3(string[1:-1])\n",
    "    else:\n",
    "        return False"
   ]
  },
  {
   "cell_type": "code",
   "execution_count": 38,
   "metadata": {},
   "outputs": [],
   "source": [
    "#4. 정수 n에 대해 \n",
    "#   n이 홀수면 3n+1 을 하고,\n",
    "#   n이 짝수면 n/2를 한다.\n",
    "#   계속진행해 n이 1일 될대까지 위 두 과정을 반복함.\n",
    "#    ex) 3 - 10 - 5 - 16 - 8 - 4 - 2 - 1\n",
    "#   정수 n을 받아 1이 될때까지 과정을 출력하는 함수를 짜라\n",
    "\n",
    "def func4(n):\n",
    "    print(n)\n",
    "    if n==1:\n",
    "        return n\n",
    "    elif n%2 == 1:\n",
    "        return func4(3*n+1)\n",
    "    else:\n",
    "        return func4(n/2)"
   ]
  },
  {
   "cell_type": "code",
   "execution_count": 39,
   "metadata": {},
   "outputs": [
    {
     "name": "stdout",
     "output_type": "stream",
     "text": [
      "3\n",
      "10\n",
      "5.0\n",
      "16.0\n",
      "8.0\n",
      "4.0\n",
      "2.0\n",
      "1.0\n"
     ]
    },
    {
     "data": {
      "text/plain": [
       "1.0"
      ]
     },
     "execution_count": 39,
     "metadata": {},
     "output_type": "execute_result"
    }
   ],
   "source": [
    "func4(3)"
   ]
  },
  {
   "cell_type": "markdown",
   "metadata": {},
   "source": [
    "<div class=\"alert alert-block alert-warning\">\n",
    "<strong><font color=\"blue\" size=\"4em\">프로그래밍 연습</font></strong><br>\n",
    "<pre>\n",
    "문제: 정수 4를 1, 2, 3의 조합으로 나타내는 방법은 다음과 같이 총 7가지가 있음\n",
    "1+1+1+1\n",
    "1+1+2\n",
    "1+2+1\n",
    "2+1+1\n",
    "2+2\n",
    "1+3\n",
    "3+1\n",
    "정수 n이 입력으로 주어졌을 때, n을 1, 2, 3의 합으로 나타낼 수 있는 방법의 수를 구하시오\n",
    "</pre>    \n",
    "\n",
    "힌트: 정수 n을 만들 수 있는 경우의 수를 리턴하는 함수를 f(n) 이라고 하면,<br>\n",
    "f(n)은 f(n-1) + f(n-2) + f(n-3) 과 동일하다는 패턴 찾기<br>\n",
    "출처: ACM-ICPC > Regionals > Asia > Korea > Asia Regional - Taejon 2001 \n",
    "</div>"
   ]
  },
  {
   "cell_type": "code",
   "execution_count": 40,
   "metadata": {},
   "outputs": [],
   "source": [
    "#4. \n",
    "# 1 -> 1\n",
    "# 2 -> 1+1 , 2\n",
    "# 3 -> 1+1+1, 2+1, 2+1, 3\n",
    "# 4 -> {4-1}의 경우의수  + {4-2}의 경우의수 + {4-3}의 경우의수\n",
    "#   -> 3+2+1 = 6\n",
    "#   -> 직접 구해보면, 1+1+1+1, 1+2+1, 1+3,  \n",
    "\n",
    "def func5(n):\n",
    "    if n==1:\n",
    "        return 1\n",
    "    elif n==2:\n",
    "        return 2\n",
    "    elif n==3:\n",
    "        return 4\n",
    "    else:\n",
    "        return func5(n-1)+func5(n-2)+func5(n-3)"
   ]
  },
  {
   "cell_type": "code",
   "execution_count": 42,
   "metadata": {},
   "outputs": [
    {
     "name": "stdout",
     "output_type": "stream",
     "text": [
      "1\n",
      "2\n",
      "4\n",
      "7\n"
     ]
    }
   ],
   "source": [
    "print(func5(1))\n",
    "print(func5(2))\n",
    "print(func5(3))\n",
    "print(func5(4))"
   ]
  },
  {
   "cell_type": "code",
   "execution_count": null,
   "metadata": {},
   "outputs": [],
   "source": []
  }
 ],
 "metadata": {
  "kernelspec": {
   "display_name": "Python 3",
   "language": "python",
   "name": "python3"
  },
  "language_info": {
   "codemirror_mode": {
    "name": "ipython",
    "version": 3
   },
   "file_extension": ".py",
   "mimetype": "text/x-python",
   "name": "python",
   "nbconvert_exporter": "python",
   "pygments_lexer": "ipython3",
   "version": "3.7.4"
  }
 },
 "nbformat": 4,
 "nbformat_minor": 2
}
