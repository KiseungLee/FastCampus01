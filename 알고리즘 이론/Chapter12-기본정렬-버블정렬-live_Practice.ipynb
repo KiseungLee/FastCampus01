{
 "cells": [
  {
   "cell_type": "markdown",
   "metadata": {},
   "source": [
    "새로운거 시작\n",
    "\n",
    "알고리즘의 시작. \n",
    "\n",
    "기본적인 알고리즘을 익히는 이유를 알아야됨.\n",
    "\n",
    "대표적인 알고리즘은 뭐 이미 다 구현되어있음. 쓰기만 하면됨. 그래도 해보는 이유!\n",
    "\n",
    "걍 해보는 거지. 기본기니까"
   ]
  },
  {
   "cell_type": "markdown",
   "metadata": {},
   "source": [
    "알고리즘은 바로 코딩하는게 아님. 일단 펜으로 쓰고 알고리즘을 작성하고 코드는 구현하고 테스트 하는거임.\n",
    "\n",
    "알고리즘 자체는 종이와 펜에서 완성된다!\n",
    "\n"
   ]
  },
  {
   "cell_type": "markdown",
   "metadata": {},
   "source": [
    "정렬 알고리즘은 알고리즘의 대표 알고리즘임. 하다보면 같은 문제도 이렇게 다양하게 풀 수 있고, 각각의 특징과 성능이 다르다는 것을 깨달으면 되는거임.\n",
    "\n",
    "그 중 첫 번째가 버블 정렬."
   ]
  },
  {
   "cell_type": "markdown",
   "metadata": {},
   "source": [
    "버블 정렬은 앞에서부터 2개씩 비교하는 거임. 애니매이션 보면 이해하기 쉽지.\n",
    "\n"
   ]
  },
  {
   "cell_type": "code",
   "execution_count": 1,
   "metadata": {},
   "outputs": [
    {
     "ename": "SyntaxError",
     "evalue": "invalid syntax (<ipython-input-1-969d691c2c5e>, line 2)",
     "output_type": "error",
     "traceback": [
      "\u001b[1;36m  File \u001b[1;32m\"<ipython-input-1-969d691c2c5e>\"\u001b[1;36m, line \u001b[1;32m2\u001b[0m\n\u001b[1;33m    1. 완전 생 버블정렬\u001b[0m\n\u001b[1;37m        ^\u001b[0m\n\u001b[1;31mSyntaxError\u001b[0m\u001b[1;31m:\u001b[0m invalid syntax\n"
     ]
    }
   ],
   "source": [
    "버블정렬\n",
    "1. 완전 생 버블정렬\n",
    "2. 뒤로 보냈으면 거기까진 가지 않기\n",
    "3. 스왑 flag를 둬서 스왑 안되는 턴이 나오면 바로 끝"
   ]
  },
  {
   "cell_type": "code",
   "execution_count": null,
   "metadata": {},
   "outputs": [],
   "source": []
  }
 ],
 "metadata": {
  "kernelspec": {
   "display_name": "Python 3",
   "language": "python",
   "name": "python3"
  },
  "language_info": {
   "codemirror_mode": {
    "name": "ipython",
    "version": 3
   },
   "file_extension": ".py",
   "mimetype": "text/x-python",
   "name": "python",
   "nbconvert_exporter": "python",
   "pygments_lexer": "ipython3",
   "version": "3.7.1"
  }
 },
 "nbformat": 4,
 "nbformat_minor": 2
}
