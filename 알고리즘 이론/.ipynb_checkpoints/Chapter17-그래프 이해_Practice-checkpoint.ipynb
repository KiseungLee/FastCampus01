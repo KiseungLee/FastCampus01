{
 "cells": [
  {
   "cell_type": "markdown",
   "metadata": {},
   "source": [
    "그래프 알고리즘은 좀 난이도가 높음.\n",
    "\n",
    "전에 배웠던 트리도 그래프의 일종임.\n",
    "\n",
    "그래프는 복잡하지만 실제 세계의 현상이나 사물을 표현하기 쉬움. Node(or Vertex)와 Edge(or Link or Branch)로\n",
    "\n",
    "---\n",
    "\n",
    "일단 첫 강의는 그래프 자체를 이해해 보는거임. 이해 완벽하지.\n",
    "\n",
    "이거 중딩때 배우는거 아님?\n",
    "\n",
    "이게 깊은 용어라구요?? 대체 어떤 사람들 대상으로 생각하는거지\n",
    "\n",
    "---\n",
    "\n",
    "그래프의 종류도 배워봄\n",
    "\n",
    "무방향 그래프 (A, B) == (B, A), 방향 그래프 <A, B> != <B, A>\n",
    "가중치 그래프( or 네트워크 ) : edge에 cost 부여할때 씀.\n",
    "연결 그래프, 비연결 그래프 \n",
    "Cycle, Acyclic Graph \n",
    "완전 그래프(Complete Graph)\n",
    "\n",
    "많다!\n",
    "무방향그래프, 방향그래프, 가중치그래프는 어느정도 꽤 쓰는 편임\n",
    "\n",
    "---\n",
    "\n",
    "그래프와 트이의 차이\n",
    "\n",
    "트리 : 그래프의 한 종류로, 방향성이 있는 비순환 그래프, 사이클 존재 x, 루트노드 존재, 부모자식 있음.\n"
   ]
  },
  {
   "cell_type": "code",
   "execution_count": null,
   "metadata": {},
   "outputs": [],
   "source": []
  }
 ],
 "metadata": {
  "kernelspec": {
   "display_name": "Python 3",
   "language": "python",
   "name": "python3"
  },
  "language_info": {
   "codemirror_mode": {
    "name": "ipython",
    "version": 3
   },
   "file_extension": ".py",
   "mimetype": "text/x-python",
   "name": "python",
   "nbconvert_exporter": "python",
   "pygments_lexer": "ipython3",
   "version": "3.7.4"
  }
 },
 "nbformat": 4,
 "nbformat_minor": 2
}
