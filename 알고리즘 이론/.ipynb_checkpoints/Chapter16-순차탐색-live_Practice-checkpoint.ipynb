{
 "cells": [
  {
   "cell_type": "markdown",
   "metadata": {},
   "source": [
    "순차탐색은 쉬어 간다고 생각해도 됨\n",
    "\n",
    "순차탐색은 그냥 순차 탐색임. 앞에서부터 쭉 훑어가며 찾는거\n",
    "\n",
    "O(n)짜리 탐색.\n",
    "\n",
    "다음시간에 순차탐색을 빠르게 하는 방법을 알려준다는데?\n",
    "\n",
    "다음 그래프 알고리즘인데?"
   ]
  },
  {
   "cell_type": "code",
   "execution_count": null,
   "metadata": {},
   "outputs": [],
   "source": []
  }
 ],
 "metadata": {
  "kernelspec": {
   "display_name": "Python 3",
   "language": "python",
   "name": "python3"
  },
  "language_info": {
   "codemirror_mode": {
    "name": "ipython",
    "version": 3
   },
   "file_extension": ".py",
   "mimetype": "text/x-python",
   "name": "python",
   "nbconvert_exporter": "python",
   "pygments_lexer": "ipython3",
   "version": "3.7.4"
  }
 },
 "nbformat": 4,
 "nbformat_minor": 2
}
