{
 "cells": [
  {
   "cell_type": "markdown",
   "metadata": {},
   "source": [
    "선택정렬은 주어진 데이터중 최소 or 최댓값을 찾아서 앞에 놓는방식.\n",
    "\n",
    "아 이렇게 말해주니까 기억하기 쉽네."
   ]
  },
  {
   "cell_type": "code",
   "execution_count": 4,
   "metadata": {},
   "outputs": [],
   "source": [
    "def selection_sort(data):\n",
    "    for stand in range(len(data)-1):\n",
    "        lowest = stand\n",
    "        for index in range(stand+1, len(data)):\n",
    "            if data [lowest] > data[index]:\n",
    "                lowest = index\n",
    "        data[lowest], data[stand] = data[stand], data[lowest]\n",
    "    return data"
   ]
  },
  {
   "cell_type": "code",
   "execution_count": 5,
   "metadata": {},
   "outputs": [
    {
     "name": "stdout",
     "output_type": "stream",
     "text": [
      "[75, 36, 79, 33, 42, 99, 5, 52, 54, 50, 58, 46, 1, 63, 26, 98, 15, 25, 87, 61, 21, 49, 3, 41, 27, 24, 35, 11, 89, 91, 12, 55, 85, 86, 71, 81, 39, 2, 95, 90, 22, 82, 38, 32, 94, 18, 30, 65, 45, 93]\n"
     ]
    }
   ],
   "source": [
    "import random\n",
    "\n",
    "data_list = random.sample(range(100), 50)\n",
    "print(data_list)"
   ]
  },
  {
   "cell_type": "code",
   "execution_count": 7,
   "metadata": {},
   "outputs": [
    {
     "name": "stdout",
     "output_type": "stream",
     "text": [
      "[1, 2, 3, 5, 11, 12, 15, 18, 21, 22, 24, 25, 26, 27, 30, 32, 33, 35, 36, 38, 39, 41, 42, 45, 46, 49, 50, 52, 54, 55, 58, 61, 63, 65, 71, 75, 79, 81, 82, 85, 86, 87, 89, 90, 91, 93, 94, 95, 98, 99]\n"
     ]
    }
   ],
   "source": [
    "print(selection_sort(data_list))"
   ]
  },
  {
   "cell_type": "code",
   "execution_count": null,
   "metadata": {},
   "outputs": [],
   "source": []
  }
 ],
 "metadata": {
  "kernelspec": {
   "display_name": "Python 3",
   "language": "python",
   "name": "python3"
  },
  "language_info": {
   "codemirror_mode": {
    "name": "ipython",
    "version": 3
   },
   "file_extension": ".py",
   "mimetype": "text/x-python",
   "name": "python",
   "nbconvert_exporter": "python",
   "pygments_lexer": "ipython3",
   "version": "3.7.4"
  }
 },
 "nbformat": 4,
 "nbformat_minor": 2
}
