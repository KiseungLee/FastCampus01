{
 "cells": [
  {
   "cell_type": "markdown",
   "metadata": {},
   "source": [
    "지금까지 정렬을 알아봤다. 이번엔 탐색을 알아볼 차례다.\n",
    "\n",
    "---\n",
    "\n",
    "그중 이진 탐색을 먼저 알아보자. \n",
    "\n",
    "이진 탐색은 이진 탐색 트리를 만들고 탐색하는 거임.\n",
    "\n",
    "사실 저번에 했었지. 검색할 양을 반씩 줄여나가는 거. \n",
    "\n",
    "이진 탐색 트리를 만드는 과정이 정렬, 거기서 원하는 값을 찾아 나가는게 탐색!\n",
    "\n",
    "---"
   ]
  },
  {
   "cell_type": "code",
   "execution_count": 1,
   "metadata": {},
   "outputs": [],
   "source": [
    "def binary_search(data, search):\n",
    "    if len(data)==1 and search==data[0]: # 데이터가 1개 있고 그게 찾는 값이라면\n",
    "        return True\n",
    "    if len(data)==1 and search!=data[0]: # 데이터가 1개 있는게 찾는게 아닐경우\n",
    "        return False\n",
    "    if len(data) ==0:\n",
    "        return False\n",
    "    \n",
    "    medium = len(data)//2\n",
    "    if search == data[medium]:\n",
    "        return True\n",
    "    else:\n",
    "        if search > data[medium]:\n",
    "            return binary_search(data[medium:], search)\n",
    "        else:\n",
    "            return binary_search(data[:medium], search)"
   ]
  },
  {
   "cell_type": "code",
   "execution_count": 4,
   "metadata": {},
   "outputs": [
    {
     "name": "stdout",
     "output_type": "stream",
     "text": [
      "[24, 51, 25, 47, 64, 5, 50, 73, 2, 52, 35, 1, 13, 31, 76, 14, 7, 40, 56, 17, 65, 28, 71, 10, 0, 16, 91, 94, 23, 89]\n",
      "[0, 1, 2, 5, 7, 10, 13, 14, 16, 17, 23, 24, 25, 28, 31, 35, 40, 47, 50, 51, 52, 56, 64, 65, 71, 73, 76, 89, 91, 94]\n"
     ]
    }
   ],
   "source": [
    "import random\n",
    "data_list = random.sample(range(100), 30)\n",
    "\n",
    "print(data_list)\n",
    "\n",
    "data_list.sort()\n",
    "\n",
    "print(data_list)"
   ]
  },
  {
   "cell_type": "code",
   "execution_count": 11,
   "metadata": {},
   "outputs": [
    {
     "name": "stdout",
     "output_type": "stream",
     "text": [
      "True\n",
      "False\n",
      "False\n",
      "True\n"
     ]
    }
   ],
   "source": [
    "print(binary_search(data_list, 5))\n",
    "print(binary_search(data_list, 45))\n",
    "print(binary_search(data_list, 4))\n",
    "print(binary_search(data_list, 89))"
   ]
  },
  {
   "cell_type": "code",
   "execution_count": null,
   "metadata": {},
   "outputs": [],
   "source": []
  }
 ],
 "metadata": {
  "kernelspec": {
   "display_name": "Python 3",
   "language": "python",
   "name": "python3"
  },
  "language_info": {
   "codemirror_mode": {
    "name": "ipython",
    "version": 3
   },
   "file_extension": ".py",
   "mimetype": "text/x-python",
   "name": "python",
   "nbconvert_exporter": "python",
   "pygments_lexer": "ipython3",
   "version": "3.7.4"
  }
 },
 "nbformat": 4,
 "nbformat_minor": 2
}
