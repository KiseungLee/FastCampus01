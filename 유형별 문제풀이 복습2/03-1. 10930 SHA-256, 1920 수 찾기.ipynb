{
 "cells": [
  {
   "cell_type": "code",
   "execution_count": 1,
   "metadata": {},
   "outputs": [
    {
     "name": "stdout",
     "output_type": "stream",
     "text": [
      "ㅈㅁㅇㅈㅁㅇ\n",
      "20e73cf5b6cf63b3c2b42e6ed8fe942fce9cee72bc43fc9d72e0d85588c1a117\n"
     ]
    }
   ],
   "source": [
    "# https://www.acmicpc.net/problem/10930\n",
    "\n",
    "# 이건 그냥 패스\n",
    "\n",
    "import hashlib\n",
    "\n",
    "data = input()\n",
    "\n",
    "encoded_data = data.encode()\n",
    "\n",
    "result = hashlib.sha256(encoded_data).hexdigest()\n",
    "\n",
    "print(result)"
   ]
  },
  {
   "cell_type": "code",
   "execution_count": 4,
   "metadata": {},
   "outputs": [
    {
     "name": "stdout",
     "output_type": "stream",
     "text": [
      "5\n",
      "4 1 2 9 5\n",
      "5\n",
      "1 5 8 7 3\n",
      "1\n",
      "1\n",
      "0\n",
      "0\n",
      "0\n"
     ]
    }
   ],
   "source": [
    "# https://www.acmicpc.net/problem/1920\n",
    "\n",
    "n = int(input())\n",
    "set1 = set(map(int, input().split()))\n",
    "m = int(input())\n",
    "array = list(map(int, input().split()))\n",
    "\n",
    "for i in array:\n",
    "    print(1 if i in set1 else 0)"
   ]
  }
 ],
 "metadata": {
  "kernelspec": {
   "display_name": "Python 3",
   "language": "python",
   "name": "python3"
  },
  "language_info": {
   "codemirror_mode": {
    "name": "ipython",
    "version": 3
   },
   "file_extension": ".py",
   "mimetype": "text/x-python",
   "name": "python",
   "nbconvert_exporter": "python",
   "pygments_lexer": "ipython3",
   "version": "3.7.1"
  }
 },
 "nbformat": 4,
 "nbformat_minor": 2
}
