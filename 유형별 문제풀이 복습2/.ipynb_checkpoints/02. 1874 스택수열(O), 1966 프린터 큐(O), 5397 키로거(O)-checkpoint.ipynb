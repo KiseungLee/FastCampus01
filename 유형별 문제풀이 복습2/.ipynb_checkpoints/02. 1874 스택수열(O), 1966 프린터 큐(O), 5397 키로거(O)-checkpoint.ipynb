{
 "cells": [
  {
   "cell_type": "code",
   "execution_count": 7,
   "metadata": {},
   "outputs": [
    {
     "name": "stdout",
     "output_type": "stream",
     "text": [
      "8\n",
      "4\n",
      "2\n",
      "NO\n"
     ]
    }
   ],
   "source": [
    "# https://www.acmicpc.net/problem/1874\n",
    "\n",
    "n = int(input())\n",
    "num = 1\n",
    "num_stack = []\n",
    "result_array = []\n",
    "isNo = False\n",
    "\n",
    "for _ in range(n):\n",
    "    m = int(input())\n",
    "    while num<=m:\n",
    "        num_stack.append(num)\n",
    "        result_array.append('+')\n",
    "        num+=1\n",
    "    if num_stack[-1]==m:\n",
    "        num_stack.pop()\n",
    "        result_array.append('-')\n",
    "    else:\n",
    "        isNo = True\n",
    "        break\n",
    "        \n",
    "if isNo:\n",
    "    print('NO')\n",
    "else:\n",
    "    for i in result_array:\n",
    "        print(i)"
   ]
  },
  {
   "cell_type": "code",
   "execution_count": null,
   "metadata": {},
   "outputs": [],
   "source": [
    "# 선생님 풀이\n",
    "\n",
    "n = int(input())\n",
    "count = 1\n",
    "stack = []\n",
    "result = []\n",
    "\n",
    "for i in range(1, n + 1):\n",
    "    data = int(input())\n",
    "    while count <= data:\n",
    "        stack.append(count)\n",
    "        count += 1\n",
    "        result.append('+')\n",
    "    if stack[-1] == data:\n",
    "        stack.pop()\n",
    "        result.append('-')\n",
    "    else: \n",
    "        print('NO')\n",
    "        ###############################################\n",
    "        exit(0)\n",
    "        ###############################################\n",
    "        \n",
    "###############################################        \n",
    "print('\\n'.join(result))\n",
    "###############################################\n",
    "\n",
    "# 강조한 두부분 빼고는 같음"
   ]
  },
  {
   "cell_type": "code",
   "execution_count": null,
   "metadata": {},
   "outputs": [],
   "source": []
  },
  {
   "cell_type": "code",
   "execution_count": 3,
   "metadata": {},
   "outputs": [
    {
     "name": "stdout",
     "output_type": "stream",
     "text": [
      "3\n",
      "1 0\n",
      "5\n",
      "1\n",
      "4 2\n",
      "1 2 3 4\n",
      "2\n",
      "6 0\n",
      "1 1 9 1 1 1\n",
      "5\n"
     ]
    }
   ],
   "source": [
    "# https://www.acmicpc.net/problem/1966\n",
    "\n",
    "test_case = int(input())\n",
    "\n",
    "for _ in range(test_case):\n",
    "    n, m = map(int, input().split())\n",
    "    array = list(map(int, input().split()))\n",
    "    priority_array = sorted(array)\n",
    "    index_array = [(idx, value) for (idx, value) in enumerate(array)]\n",
    "    \n",
    "    count = 1\n",
    "    while index_array:\n",
    "        (idx, value) = index_array.pop(0)\n",
    "        if value==priority_array[-1]:\n",
    "            if idx==m:\n",
    "                print(count)\n",
    "                break\n",
    "            else:\n",
    "                priority_array.pop()\n",
    "                count+=1\n",
    "        else:\n",
    "            index_array.append((idx, value))"
   ]
  },
  {
   "cell_type": "code",
   "execution_count": 13,
   "metadata": {},
   "outputs": [
    {
     "data": {
      "text/plain": [
       "[(0, 1), (1, 1), (2, 9), (3, 1), (4, 1), (5, 1)]"
      ]
     },
     "execution_count": 13,
     "metadata": {},
     "output_type": "execute_result"
    }
   ],
   "source": [
    "# 선생님 풀이\n",
    "test_case = int(input())\n",
    "for _ in range(test_case):\n",
    "    n, m = list(map(int, input().split(' ')))\n",
    "    queue = list(map(int, input().split(' ')))\n",
    "    queue = [(i, idx) for idx, i in enumerate(queue)] \n",
    "    \n",
    "    count = 0\n",
    "    while True:\n",
    "        ########################################################\n",
    "        if queue[0][0] == max(queue, key=lambda x: x[0])[0]: \n",
    "        ########################################################\n",
    "            count += 1\n",
    "            if queue[0][1] == m:\n",
    "                print(count)\n",
    "                break\n",
    "            else:\n",
    "                queue.pop(0)\n",
    "        else:\n",
    "            queue.append(queue.pop(0))"
   ]
  },
  {
   "cell_type": "code",
   "execution_count": 15,
   "metadata": {},
   "outputs": [
    {
     "name": "stdout",
     "output_type": "stream",
     "text": [
      "1\n",
      "<<BP<A>>Cd<<\n",
      "BAPCd\n"
     ]
    }
   ],
   "source": [
    "# https://www.acmicpc.net/problem/5397\n",
    "\n",
    "test_case = int(input())\n",
    "\n",
    "for _ in range(test_case):\n",
    "    line = input()\n",
    "    left = []\n",
    "    right = []\n",
    "    for c in line:\n",
    "        if c=='<':\n",
    "            if left:\n",
    "                right.append(left.pop())\n",
    "        elif c=='>':\n",
    "            if right:\n",
    "                left.append(right.pop())\n",
    "        elif c=='-':\n",
    "            if left:\n",
    "                left.pop()\n",
    "        else:\n",
    "            left.append(c)\n",
    "    right.reverse()\n",
    "    left.extend(right)\n",
    "    print(''.join(left))"
   ]
  },
  {
   "cell_type": "code",
   "execution_count": null,
   "metadata": {},
   "outputs": [],
   "source": [
    "# 선생님\n",
    "\n",
    "test_case = int(input())\n",
    "\n",
    "for _ in range(test_case):\n",
    "    left_stack = []\n",
    "    right_stack = []\n",
    "    data = input()\n",
    "    for i in data:\n",
    "        if i == '-':\n",
    "            if left_stack:\n",
    "                left_stack.pop()\n",
    "        elif i == '<':\n",
    "            if left_stack:\n",
    "                right_stack.append(left_stack.pop())\n",
    "        elif i == '>':\n",
    "            if right_stack:\n",
    "                left_stack.append(right_stack.pop())\n",
    "        else:\n",
    "            left_stack.append(i)\n",
    "    ############################################## sorted 뿐만 아니라 reversed도 있다.\n",
    "    left_stack.extend(reversed(right_stack))\n",
    "    ##############################################\n",
    "    print(''.join(left_stack))\n",
    "    "
   ]
  }
 ],
 "metadata": {
  "kernelspec": {
   "display_name": "Python 3",
   "language": "python",
   "name": "python3"
  },
  "language_info": {
   "codemirror_mode": {
    "name": "ipython",
    "version": 3
   },
   "file_extension": ".py",
   "mimetype": "text/x-python",
   "name": "python",
   "nbconvert_exporter": "python",
   "pygments_lexer": "ipython3",
   "version": "3.7.1"
  }
 },
 "nbformat": 4,
 "nbformat_minor": 2
}
