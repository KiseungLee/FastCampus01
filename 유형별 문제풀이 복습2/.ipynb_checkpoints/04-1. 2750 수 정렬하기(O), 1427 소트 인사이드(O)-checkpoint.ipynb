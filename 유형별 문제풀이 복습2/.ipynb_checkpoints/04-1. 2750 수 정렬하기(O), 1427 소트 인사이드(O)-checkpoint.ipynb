{
 "cells": [
  {
   "cell_type": "code",
   "execution_count": 1,
   "metadata": {},
   "outputs": [
    {
     "name": "stdout",
     "output_type": "stream",
     "text": [
      "5\n",
      "5\n",
      "2\n",
      "3\n",
      "1\n",
      "4\n",
      "1\n",
      "2\n",
      "3\n",
      "4\n",
      "5\n"
     ]
    }
   ],
   "source": [
    "# https://www.acmicpc.net/problem/2750\n",
    "array = []\n",
    "for _ in range(int(input())):\n",
    "    array.append(int(input()))\n",
    "for i in sorted(array):\n",
    "    print(i)"
   ]
  },
  {
   "cell_type": "code",
   "execution_count": 6,
   "metadata": {},
   "outputs": [
    {
     "name": "stdout",
     "output_type": "stream",
     "text": [
      "2143\n",
      "4321\n"
     ]
    }
   ],
   "source": [
    "# https://www.acmicpc.net/problem/1427\n",
    "\n",
    "print(''.join(sorted(input(), reverse=True)))"
   ]
  },
  {
   "cell_type": "code",
   "execution_count": 7,
   "metadata": {},
   "outputs": [
    {
     "name": "stdout",
     "output_type": "stream",
     "text": [
      "2143\n",
      "4321\n"
     ]
    }
   ],
   "source": [
    "# 내 이전풀이\n",
    "\n",
    "num = input()\n",
    "int_list = [int(c) for c in num]\n",
    "int_list.sort(reverse=True)\n",
    "result_num = 0\n",
    "for n in int_list:\n",
    "    result_num = result_num*10 + n\n",
    "\n",
    "print(result_num)"
   ]
  },
  {
   "cell_type": "code",
   "execution_count": 8,
   "metadata": {},
   "outputs": [
    {
     "name": "stdout",
     "output_type": "stream",
     "text": [
      "2143\n",
      "4321"
     ]
    }
   ],
   "source": [
    "# 선생님 풀이\n",
    "\n",
    "# 츨력이 자릿수대로 내림차순인 점을 이용해서\n",
    "# 9, 8, 7, 6 ... 1, 0 내려가면서\n",
    "# 입력받은 숫자에 있으면 9, 8, 7, 6 ... 1, 0 를 출력함.\n",
    "# 출력할때 print(i, end='') 를 해줘서 개행을 막아줌.\n",
    "# range(9, -1, -1) 문법도 체크\n",
    "\n",
    "array = input()\n",
    "for i in range(9, -1, -1):\n",
    "    for j in array:\n",
    "        if int(j) == i:\n",
    "            print(i, end='')"
   ]
  },
  {
   "cell_type": "code",
   "execution_count": null,
   "metadata": {},
   "outputs": [],
   "source": []
  }
 ],
 "metadata": {
  "kernelspec": {
   "display_name": "Python 3",
   "language": "python",
   "name": "python3"
  },
  "language_info": {
   "codemirror_mode": {
    "name": "ipython",
    "version": 3
   },
   "file_extension": ".py",
   "mimetype": "text/x-python",
   "name": "python",
   "nbconvert_exporter": "python",
   "pygments_lexer": "ipython3",
   "version": "3.7.1"
  }
 },
 "nbformat": 4,
 "nbformat_minor": 2
}
