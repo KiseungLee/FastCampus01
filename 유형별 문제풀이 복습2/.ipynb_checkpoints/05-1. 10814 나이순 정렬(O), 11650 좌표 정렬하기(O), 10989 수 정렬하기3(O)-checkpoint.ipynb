{
 "cells": [
  {
   "cell_type": "code",
   "execution_count": 3,
   "metadata": {},
   "outputs": [
    {
     "name": "stdout",
     "output_type": "stream",
     "text": [
      "4\n",
      "21 b\n",
      "21 c\n",
      "21 a\n",
      "20 d\n",
      "20 d\n",
      "21 b\n",
      "21 c\n",
      "21 a\n"
     ]
    }
   ],
   "source": [
    "# https://www.acmicpc.net/problem/10814\n",
    "\n",
    "array = []\n",
    "\n",
    "for _ in range(int(input())):\n",
    "    age, name = map(str, input().split())\n",
    "    array.append((age, name))\n",
    "    \n",
    "for (age, name) in sorted(array, key=lambda x: int(x[0])):\n",
    "    print(age, name)"
   ]
  },
  {
   "cell_type": "code",
   "execution_count": 4,
   "metadata": {},
   "outputs": [
    {
     "name": "stdout",
     "output_type": "stream",
     "text": [
      "5\n",
      "3 4\n",
      "1 1\n",
      "1 -1\n",
      "2 2\n",
      "3 3\n",
      "1 -1\n",
      "1 1\n",
      "2 2\n",
      "3 3\n",
      "3 4\n"
     ]
    }
   ],
   "source": [
    "# https://www.acmicpc.net/problem/11650\n",
    "\n",
    "array = []\n",
    "\n",
    "for _ in range(int(input())):\n",
    "    x, y = map(int, input().split())\n",
    "    array.append((x, y))\n",
    "    \n",
    "for (x, y) in sorted(array, key = lambda x:(x[0], x[1])):\n",
    "    print(x, y)"
   ]
  },
  {
   "cell_type": "code",
   "execution_count": 6,
   "metadata": {
    "scrolled": true
   },
   "outputs": [
    {
     "name": "stdout",
     "output_type": "stream",
     "text": [
      "10\n",
      "5\n",
      "2\n",
      "3\n",
      "1\n",
      "1\n",
      "4\n",
      "5\n",
      "6\n",
      "7\n",
      "6\n",
      "0\n",
      "0\n",
      "1\n",
      "2\n",
      "3\n",
      "4\n",
      "4\n",
      "5\n",
      "5\n",
      "6\n"
     ]
    }
   ],
   "source": [
    "# https://www.acmicpc.net/problem/10989\n",
    "\n",
    "import sys\n",
    "# sys.stdin.readline()\n",
    "\n",
    "array = [0]*10000\n",
    "\n",
    "for _ in range(int(input())):\n",
    "    array[int(input())-1] += 1\n",
    "    \n",
    "for i in range(10000):\n",
    "    for _ in range(array[i]):\n",
    "        print(i)"
   ]
  },
  {
   "cell_type": "code",
   "execution_count": null,
   "metadata": {},
   "outputs": [],
   "source": []
  }
 ],
 "metadata": {
  "kernelspec": {
   "display_name": "Python 3",
   "language": "python",
   "name": "python3"
  },
  "language_info": {
   "codemirror_mode": {
    "name": "ipython",
    "version": 3
   },
   "file_extension": ".py",
   "mimetype": "text/x-python",
   "name": "python",
   "nbconvert_exporter": "python",
   "pygments_lexer": "ipython3",
   "version": "3.7.1"
  }
 },
 "nbformat": 4,
 "nbformat_minor": 2
}
