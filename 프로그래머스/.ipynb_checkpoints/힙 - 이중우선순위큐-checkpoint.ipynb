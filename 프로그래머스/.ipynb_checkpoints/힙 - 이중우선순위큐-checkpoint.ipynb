{
 "cells": [
  {
   "cell_type": "code",
   "execution_count": 51,
   "metadata": {},
   "outputs": [],
   "source": [
    "# https://programmers.co.kr/learn/courses/30/lessons/42628?language=python3\n",
    "\n",
    "# 1. 최소 힙\n",
    "# 2. 최대 힙\n",
    "# 3. 존재 여부를 확인해줄 Counter\n",
    "\n",
    "# 최대/최소 삭제 명령이 오면 우선 최대/최소 힙에서 값이 뭔지 봄\n",
    "# 그 값이 counter에서 1 이상이면\n",
    "# -> 최대/최소 힙에서 빼고 Counter에서 1 깜\n",
    "# -> 아니라면 패스\n",
    "\n",
    "# 다 돌고 난 뒤 Counter를 정렬후 최대, 최소 빼줌\n",
    "\n",
    "import heapq\n",
    "from collections import Counter\n",
    "\n",
    "def solution(operations):\n",
    "    min_heap = []\n",
    "    max_heap = []\n",
    "    counter = Counter()\n",
    "    \n",
    "    for operation in operations:\n",
    "        op, num = operation.split()\n",
    "        num = int(num)\n",
    "        if op=='I':\n",
    "            counter[num]+=1\n",
    "            heapq.heappush(min_heap, num)\n",
    "            heapq.heappush(max_heap, (-num, num))\n",
    "        elif op=='D':\n",
    "            if num==-1:\n",
    "                if min_heap:\n",
    "                    now = heapq.heappop(min_heap)\n",
    "                    while not (not min_heap or counter[now]>0): # min_heap 이 비었거나 잡고있는 now가 counter에 있을 때를 제외하고 계속 돔\n",
    "                        now = heapq.heappop(min_heap)\n",
    "                    if counter[now]>0:\n",
    "                        counter[now]-=1\n",
    "            elif num==1:\n",
    "                if max_heap:\n",
    "                    now = heapq.heappop(max_heap)[1]\n",
    "                    while not (not max_heap or counter[now]>0):\n",
    "                        now = heapq.heappop(max_heap)[1]\n",
    "                    if counter[now]>0:\n",
    "                        counter[now]-=1\n",
    "                    \n",
    "    arr = []\n",
    "    for i in counter:\n",
    "        if counter[i]>0:\n",
    "            arr.append(i)\n",
    "            \n",
    "    arr.sort(reverse=True)\n",
    "    if arr:\n",
    "        return [arr[0], arr[-1]]\n",
    "    else:\n",
    "        return [0, 0]\n",
    "    \n",
    "# 일단 통과는 됐는데 정리가 필요함"
   ]
  },
  {
   "cell_type": "code",
   "execution_count": 52,
   "metadata": {
    "scrolled": false
   },
   "outputs": [
    {
     "name": "stdout",
     "output_type": "stream",
     "text": [
      "[-5643, 16]\n",
      "[(-16, 16), (5643, -5643)]\n",
      "Counter({16: 1, -5643: 1})\n",
      "===\n",
      "[16]\n",
      "[(-16, 16), (5643, -5643)]\n",
      "Counter({16: 1, -5643: 0})\n",
      "===\n",
      "[16]\n",
      "[(5643, -5643)]\n",
      "Counter({16: 0, -5643: 0})\n",
      "===\n",
      "[16, 123]\n",
      "[(-123, 123)]\n",
      "Counter({123: 1, 16: 0, -5643: 0})\n",
      "===\n",
      "Counter({16: 0, -5643: 0, 123: 0})\n"
     ]
    },
    {
     "data": {
      "text/plain": [
       "[0, 0]"
      ]
     },
     "execution_count": 52,
     "metadata": {},
     "output_type": "execute_result"
    }
   ],
   "source": [
    "solution([\"I 16\", \"I -5643\", \"D -1\", \"D 1\", \"D 1\", \"I 123\", \"D -1\"])"
   ]
  },
  {
   "cell_type": "code",
   "execution_count": 29,
   "metadata": {},
   "outputs": [],
   "source": [
    "temp = Counter()"
   ]
  },
  {
   "cell_type": "code",
   "execution_count": 20,
   "metadata": {},
   "outputs": [
    {
     "data": {
      "text/plain": [
       "Counter({'a': 1})"
      ]
     },
     "execution_count": 20,
     "metadata": {},
     "output_type": "execute_result"
    }
   ],
   "source": [
    "temp"
   ]
  },
  {
   "cell_type": "code",
   "execution_count": 19,
   "metadata": {},
   "outputs": [],
   "source": [
    "temp['a']+=1"
   ]
  },
  {
   "cell_type": "code",
   "execution_count": 53,
   "metadata": {},
   "outputs": [],
   "source": [
    "temp = []\n"
   ]
  },
  {
   "cell_type": "code",
   "execution_count": 54,
   "metadata": {},
   "outputs": [
    {
     "ename": "IndexError",
     "evalue": "index out of range",
     "output_type": "error",
     "traceback": [
      "\u001b[1;31m---------------------------------------------------------------------------\u001b[0m",
      "\u001b[1;31mIndexError\u001b[0m                                Traceback (most recent call last)",
      "\u001b[1;32m<ipython-input-54-14a230e19ae8>\u001b[0m in \u001b[0;36m<module>\u001b[1;34m\u001b[0m\n\u001b[1;32m----> 1\u001b[1;33m \u001b[0mheapq\u001b[0m\u001b[1;33m.\u001b[0m\u001b[0mheappop\u001b[0m\u001b[1;33m(\u001b[0m\u001b[0mtemp\u001b[0m\u001b[1;33m)\u001b[0m\u001b[1;33m\u001b[0m\u001b[1;33m\u001b[0m\u001b[0m\n\u001b[0m",
      "\u001b[1;31mIndexError\u001b[0m: index out of range"
     ]
    }
   ],
   "source": [
    "heapq.heappop(temp)"
   ]
  },
  {
   "cell_type": "code",
   "execution_count": null,
   "metadata": {},
   "outputs": [],
   "source": []
  }
 ],
 "metadata": {
  "kernelspec": {
   "display_name": "Python 3",
   "language": "python",
   "name": "python3"
  },
  "language_info": {
   "codemirror_mode": {
    "name": "ipython",
    "version": 3
   },
   "file_extension": ".py",
   "mimetype": "text/x-python",
   "name": "python",
   "nbconvert_exporter": "python",
   "pygments_lexer": "ipython3",
   "version": "3.7.1"
  }
 },
 "nbformat": 4,
 "nbformat_minor": 2
}
