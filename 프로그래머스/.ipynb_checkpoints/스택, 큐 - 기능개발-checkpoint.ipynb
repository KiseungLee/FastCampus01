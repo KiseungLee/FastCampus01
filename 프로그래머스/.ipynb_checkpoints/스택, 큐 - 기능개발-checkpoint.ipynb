{
 "cells": [
  {
   "cell_type": "code",
   "execution_count": 38,
   "metadata": {},
   "outputs": [],
   "source": [
    "# https://programmers.co.kr/learn/courses/30/lessons/42586?language=python3\n",
    "\n",
    "progresses =  [40, 93, 30, 55, 60, 65]\n",
    "speeds = [60, 1, 30, 5 , 10, 7]"
   ]
  },
  {
   "cell_type": "code",
   "execution_count": 39,
   "metadata": {},
   "outputs": [
    {
     "name": "stdout",
     "output_type": "stream",
     "text": [
      "[40, 93, 30, 55, 60, 65] [60, 1, 30, 5, 10, 7]\n",
      "[94, 60, 60, 70, 72] [1, 30, 5, 10, 7]\n",
      "[95, 90, 65, 80, 79] [1, 30, 5, 10, 7]\n",
      "[96, 120, 70, 90, 86] [1, 30, 5, 10, 7]\n",
      "[97, 150, 75, 100, 93] [1, 30, 5, 10, 7]\n",
      "[98, 180, 80, 110, 100] [1, 30, 5, 10, 7]\n",
      "[99, 210, 85, 120, 107] [1, 30, 5, 10, 7]\n",
      "[90, 130, 114] [5, 10, 7]\n",
      "[95, 140, 121] [5, 10, 7]\n",
      "[1, 2, 3]\n"
     ]
    }
   ],
   "source": [
    "deploy = []\n",
    "\n",
    "# 프로그레스를 다 비울때 까지\n",
    "while progresses:\n",
    "    print(progresses, speeds)\n",
    "    # 작업을 1단위씩 진척해줌\n",
    "    for i in range(len(progresses)):\n",
    "        progresses[i] += speeds[i]\n",
    "    # 맨 앞에 가 배포 준비 됐으면\n",
    "    if progresses[0] >= 100:\n",
    "        # 배포할 인덱스를 담을 배열\n",
    "        remove_list = [0] \n",
    "        # 배포 될 얘들 인덱스를 담아놓음\n",
    "        for i in range(1, len(progresses)):\n",
    "            if progresses[i]>=100:\n",
    "                remove_list.append(i)\n",
    "            else:\n",
    "                break\n",
    "        # 인덱스를 뒤집어서 큰 인덱스부터 제거해줌(인덱스 범위 에러 방지)\n",
    "        for i in reversed(remove_list):\n",
    "            progresses.pop(i)\n",
    "            speeds.pop(i)\n",
    "        # 배포한 갯수를 담음\n",
    "        deploy.append(len(remove_list))\n",
    "        \n",
    "print(deploy)"
   ]
  },
  {
   "cell_type": "code",
   "execution_count": 11,
   "metadata": {},
   "outputs": [
    {
     "data": {
      "text/plain": [
       "[1, 1, 1, 1, 1]"
      ]
     },
     "execution_count": 11,
     "metadata": {},
     "output_type": "execute_result"
    }
   ],
   "source": [
    "progresses : [40, 93, 30, 55, 60, 65]\n",
    "speeds : [60, 1, 30, 5 , 10, 7]\n",
    "return : [1,2,3]"
   ]
  },
  {
   "cell_type": "code",
   "execution_count": null,
   "metadata": {},
   "outputs": [],
   "source": [
    "progresses : [93, 30, 55, 60, 40, 65]\n",
    "speeds : [1, 30, 5 , 10, 60, 7]\n",
    "return : [2,4]"
   ]
  },
  {
   "cell_type": "code",
   "execution_count": null,
   "metadata": {},
   "outputs": [],
   "source": [
    "def solution(progresses, speeds):\n",
    "    Q=[]\n",
    "    for p, s in zip(progresses, speeds):\n",
    "        if len(Q)==0 or Q[-1][0]<-((p-100)//s):\n",
    "            Q.append([-((p-100)//s),1])\n",
    "        else:\n",
    "            Q[-1][1]+=1\n",
    "    return [q[1] for q in Q]"
   ]
  }
 ],
 "metadata": {
  "kernelspec": {
   "display_name": "Python 3",
   "language": "python",
   "name": "python3"
  },
  "language_info": {
   "codemirror_mode": {
    "name": "ipython",
    "version": 3
   },
   "file_extension": ".py",
   "mimetype": "text/x-python",
   "name": "python",
   "nbconvert_exporter": "python",
   "pygments_lexer": "ipython3",
   "version": "3.7.1"
  }
 },
 "nbformat": 4,
 "nbformat_minor": 2
}
