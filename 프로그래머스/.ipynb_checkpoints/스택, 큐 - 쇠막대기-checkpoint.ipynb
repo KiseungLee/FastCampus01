{
 "cells": [
  {
   "cell_type": "code",
   "execution_count": 38,
   "metadata": {},
   "outputs": [],
   "source": [
    "# https://programmers.co.kr/learn/courses/30/lessons/42585?language=python3\n",
    "\n",
    "a = \"()(((()())(())()))(())\""
   ]
  },
  {
   "cell_type": "code",
   "execution_count": 39,
   "metadata": {},
   "outputs": [
    {
     "name": "stdout",
     "output_type": "stream",
     "text": [
      "17\n"
     ]
    }
   ],
   "source": [
    "stack = []\n",
    "count = 0\n",
    "for c in a.replace(\"()\", \"x\"):\n",
    "    if c==\"(\":\n",
    "        stack.append(0)\n",
    "    elif c==\")\":\n",
    "        count += stack.pop()+1\n",
    "    elif c=='x':\n",
    "        stack = [i+1 for i in stack] # 이 부분 때문에 테스트 케이스 1개 시간초과 남\n",
    "print(count)"
   ]
  },
  {
   "cell_type": "code",
   "execution_count": null,
   "metadata": {},
   "outputs": [],
   "source": []
  },
  {
   "cell_type": "code",
   "execution_count": 19,
   "metadata": {},
   "outputs": [],
   "source": [
    "[]\n",
    "[]\n",
    "[0]\n",
    "[0, 0]\n",
    "[0, 0, 0]\n",
    "[1, 1, 1]\n",
    "[2, 2, 2]\n",
    "[2, 2]\n",
    "[2, 2, 0]\n",
    "[3, 3, 1]\n",
    "[3, 3]\n",
    "[4, 4]\n",
    "[4]\n",
    "[]\n",
    "[0]\n",
    "[1]\n",
    "17\n",
    "\n",
    "[]\n",
    "[]\n",
    "[0]\n",
    "[0, 0]\n",
    "[0, 0, 0]\n",
    "[0, 0, 0]\n",
    "[0, 0, 0]\n",
    "[3, 3]\n",
    "[3, 3, 0]\n",
    "[3, 3, 0]\n",
    "[4, 4]\n",
    "[4, 4]\n",
    "[5]\n",
    "[]\n",
    "[0]\n",
    "[0]\n",
    "20"
   ]
  },
  {
   "cell_type": "code",
   "execution_count": null,
   "metadata": {},
   "outputs": [],
   "source": []
  }
 ],
 "metadata": {
  "kernelspec": {
   "display_name": "Python 3",
   "language": "python",
   "name": "python3"
  },
  "language_info": {
   "codemirror_mode": {
    "name": "ipython",
    "version": 3
   },
   "file_extension": ".py",
   "mimetype": "text/x-python",
   "name": "python",
   "nbconvert_exporter": "python",
   "pygments_lexer": "ipython3",
   "version": "3.7.1"
  }
 },
 "nbformat": 4,
 "nbformat_minor": 2
}
