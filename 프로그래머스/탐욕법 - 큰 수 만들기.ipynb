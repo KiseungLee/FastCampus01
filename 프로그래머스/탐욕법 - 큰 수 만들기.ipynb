{
 "cells": [
  {
   "cell_type": "code",
   "execution_count": 18,
   "metadata": {},
   "outputs": [],
   "source": [
    "# https://programmers.co.kr/learn/courses/30/lessons/42883?language=python3\n",
    "\n",
    "# 안됨. 폐기\n",
    "def solution(number, k):\n",
    "    chars = [c for c in number]\n",
    "    chars.sort()\n",
    "    chars = chars[:k]\n",
    "    answer = []\n",
    "    for c in number:\n",
    "        if c in chars:\n",
    "            chars.remove(c)\n",
    "        else:\n",
    "            answer.append(c)\n",
    "    return ''.join(answer)"
   ]
  },
  {
   "cell_type": "code",
   "execution_count": 32,
   "metadata": {},
   "outputs": [],
   "source": [
    "from itertools import combinations\n",
    "\n",
    "def solution(number, k):\n",
    "    chars = [c for c in number]\n",
    "    result = 0\n",
    "    for n in combinations(chars, len(chars)-k):\n",
    "        result = max(result, int(''.join(n)))\n",
    "    return str(result)"
   ]
  },
  {
   "cell_type": "code",
   "execution_count": 39,
   "metadata": {},
   "outputs": [],
   "source": [
    "# 다른 사람 풀이 가져온거\n",
    "def solution(number, k):\n",
    "    stack = [number[0]]\n",
    "    for num in number[1:]:\n",
    "        print(stack)\n",
    "        while len(stack) > 0 and stack[-1] < num and k > 0:\n",
    "            k -= 1\n",
    "            stack.pop()\n",
    "        stack.append(num)\n",
    "    if k != 0:\n",
    "        stack = stack[:-k]\n",
    "    return ''.join(stack)"
   ]
  },
  {
   "cell_type": "code",
   "execution_count": 40,
   "metadata": {},
   "outputs": [
    {
     "name": "stdout",
     "output_type": "stream",
     "text": [
      "['4']\n",
      "['4', '1']\n",
      "['7']\n",
      "['7', '7']\n",
      "['7', '7', '2']\n",
      "['7', '7', '5']\n",
      "['7', '7', '5', '2']\n",
      "['7', '7', '5', '8']\n",
      "['7', '7', '5', '8', '4']\n"
     ]
    },
    {
     "data": {
      "text/plain": [
       "'775841'"
      ]
     },
     "execution_count": 40,
     "metadata": {},
     "output_type": "execute_result"
    }
   ],
   "source": [
    "solution(\"4177252841\",4)"
   ]
  },
  {
   "cell_type": "code",
   "execution_count": null,
   "metadata": {},
   "outputs": [],
   "source": []
  }
 ],
 "metadata": {
  "kernelspec": {
   "display_name": "Python 3",
   "language": "python",
   "name": "python3"
  },
  "language_info": {
   "codemirror_mode": {
    "name": "ipython",
    "version": 3
   },
   "file_extension": ".py",
   "mimetype": "text/x-python",
   "name": "python",
   "nbconvert_exporter": "python",
   "pygments_lexer": "ipython3",
   "version": "3.7.1"
  }
 },
 "nbformat": 4,
 "nbformat_minor": 2
}
