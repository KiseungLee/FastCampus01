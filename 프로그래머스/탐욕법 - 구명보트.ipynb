{
 "cells": [
  {
   "cell_type": "code",
   "execution_count": 13,
   "metadata": {},
   "outputs": [],
   "source": [
    "# https://programmers.co.kr/learn/courses/30/lessons/42885?language=python3\n",
    "\n",
    "# 답은 맞는데 효율성 탈락\n",
    "def solution(people, limit):\n",
    "    people.sort(reverse = True)\n",
    "    count = 0\n",
    "    while people:\n",
    "        heavy = people.pop(0)\n",
    "        find = False\n",
    "        for i in range(len(people)-1, -1, -1):\n",
    "            light = people[i]\n",
    "            if heavy+light <= limit:\n",
    "                del people[i]\n",
    "                count += 1\n",
    "                find = True\n",
    "                break\n",
    "        if not find:\n",
    "            count+=1\n",
    "    return count"
   ]
  },
  {
   "cell_type": "code",
   "execution_count": 14,
   "metadata": {},
   "outputs": [
    {
     "data": {
      "text/plain": [
       "3"
      ]
     },
     "execution_count": 14,
     "metadata": {},
     "output_type": "execute_result"
    }
   ],
   "source": [
    "solution([70,50,80,50], 100)"
   ]
  },
  {
   "cell_type": "code",
   "execution_count": null,
   "metadata": {},
   "outputs": [],
   "source": []
  }
 ],
 "metadata": {
  "kernelspec": {
   "display_name": "Python 3",
   "language": "python",
   "name": "python3"
  },
  "language_info": {
   "codemirror_mode": {
    "name": "ipython",
    "version": 3
   },
   "file_extension": ".py",
   "mimetype": "text/x-python",
   "name": "python",
   "nbconvert_exporter": "python",
   "pygments_lexer": "ipython3",
   "version": "3.7.1"
  }
 },
 "nbformat": 4,
 "nbformat_minor": 2
}
