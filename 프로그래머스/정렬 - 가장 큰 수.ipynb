{
 "cells": [
  {
   "cell_type": "code",
   "execution_count": 16,
   "metadata": {},
   "outputs": [],
   "source": [
    "# https://programmers.co.kr/learn/courses/30/lessons/42746?language=python3\n",
    "\n",
    "# 100,000개 순열 때리는 수준...\n",
    "# 그냥 순열 한 번 써보고 싶었음\n",
    "from itertools import permutations\n",
    "def solution(numbers):\n",
    "    arr = [''.join(map(str, i)) for i in permutations(numbers)]\n",
    "    return sorted(arr, reverse = True)[0]"
   ]
  },
  {
   "cell_type": "code",
   "execution_count": null,
   "metadata": {},
   "outputs": [],
   "source": []
  }
 ],
 "metadata": {
  "kernelspec": {
   "display_name": "Python 3",
   "language": "python",
   "name": "python3"
  },
  "language_info": {
   "codemirror_mode": {
    "name": "ipython",
    "version": 3
   },
   "file_extension": ".py",
   "mimetype": "text/x-python",
   "name": "python",
   "nbconvert_exporter": "python",
   "pygments_lexer": "ipython3",
   "version": "3.7.1"
  }
 },
 "nbformat": 4,
 "nbformat_minor": 2
}
